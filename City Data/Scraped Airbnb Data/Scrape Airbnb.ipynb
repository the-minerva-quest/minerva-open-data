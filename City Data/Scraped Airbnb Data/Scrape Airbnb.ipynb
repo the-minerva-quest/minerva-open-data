{
 "cells": [
  {
   "cell_type": "code",
   "execution_count": 114,
   "metadata": {},
   "outputs": [],
   "source": [
    "'''\n",
    "    This jupyter notebook scrapes Airbnb data in 7 cities using basic web scraping methods. \n",
    "    \n",
    "    Much of this code was referenced from https://github.com/rubenkerkhofs/Airbnb-scraping.\n",
    "    Thanks Ruben Kerkhofs. \n",
    "    His tutorial is available here: https://medium.com/analytics-vidhya/scraping-airbnb-fe1e895bd925\n",
    "'''\n",
    "\n",
    "from bs4 import BeautifulSoup \n",
    "# The following packages will also be used in this tutorial\n",
    "import pandas as pd # All database operationss\n",
    "import numpy as np  # Numerical operations\n",
    "import time         # Tracking time\n",
    "import requests     # HTTP requests\n",
    "import urllib.request\n",
    "import re           # String manipulation\n",
    "import pickle\n",
    "from tqdm import trange, tqdm\n",
    "import matplotlib.pyplot as plt\n",
    "\n",
    "#web scraping with selenium\n",
    "from selenium import webdriver\n",
    "import chromedriver_binary  # Adds chromedriver binary to path\n",
    "from webdriver_manager.chrome import ChromeDriverManager\n",
    "from selenium.webdriver.common.by import By\n",
    "from selenium.webdriver.support.ui import WebDriverWait\n",
    "from selenium.webdriver.support import expected_conditions as EC\n",
    "from selenium.common.exceptions import TimeoutException\n",
    "\n",
    "\n"
   ]
  },
  {
   "cell_type": "code",
   "execution_count": 137,
   "metadata": {},
   "outputs": [],
   "source": [
    "\"\"\"\n",
    "    Getting started\n",
    "\"\"\"\n",
    "def getPage(url):\n",
    "    ''' returns a soup object that contains all the information \n",
    "    of a certain webpage'''\n",
    "    time.sleep(5)\n",
    "    result = requests.get(url)\n",
    "    content = result.content\n",
    "    return BeautifulSoup(content, features = \"lxml\")\n",
    "\n",
    "    \n",
    "def getRoomClasses(soupPage):\n",
    "    ''' This function returns all the listings that can \n",
    "    be found on the page in a list.'''\n",
    "    rooms = soupPage.findAll(\"div\", {\"class\": \"_8ssblpx\"})\n",
    "    result = []\n",
    "    for room in rooms:\n",
    "        result.append(room)\n",
    "    return result\n",
    "\n",
    "def getListingLink(listing):\n",
    "    ''' This function returns the link of the listing'''\n",
    "    return \"http://airbnb.com\" + listing.find(\"a\")[\"href\"]\n",
    "\n",
    "def getListingTitle(listing):\n",
    "    ''' This function returns the title of the listing'''\n",
    "    return listing.find(\"meta\")[\"content\"]\n",
    "\n",
    "def getTopRow(listing):\n",
    "    ''' Returns the top row of listing information'''\n",
    "    return listing.find(\"div\", {\"class\": \"_167qordg\"}).text\n",
    "\n",
    "def getRoomInfo(listing):\n",
    "    ''' Returns the guest information'''\n",
    "    return listing.find(\"div\", {\"class\":\"_kqh46o\"}).text\n",
    "\n",
    "def getListingPrice(listing):\n",
    "    ''' Returns the price'''\n",
    "    return listing.find(\"div\", {\"class\":\"_1fwiw8gv\"}).text\n",
    "\n",
    "def getImageLink(listing):\n",
    "    ''' Returns the img link'''\n",
    "    return listing.find('img')['data-original-uri']\n",
    "\n",
    "def extractInformation(soupPage):\n",
    "    ''' Takes all the information of a single page (thus multiple listings) and\n",
    "    summarizes it in a dataframe'''\n",
    "    listings = getRoomClasses(soupPage)\n",
    "    titles, links, toprows, basicfacilitiess, roominfos, prices, images = [], [], [], [], [], [], []\n",
    "    for listing in listings:\n",
    "        titles.append(getListingTitle(listing))\n",
    "        links.append(getListingLink(listing))\n",
    "        toprows.append(getTopRow(listing))\n",
    "        roominfos.append(getRoomInfo(listing))\n",
    "        prices.append(getListingPrice(listing))\n",
    "        images.append(getImageLink(listing))\n",
    "\n",
    "    dictionary = {\"title\": titles, \"toprow\": toprows, \"roominfo\": roominfos, \"price\": prices,\"link\": links,\"image\":images}\n",
    "    return pd.DataFrame(dictionary)\n",
    "       \n",
    "'''\n",
    "    Scraping all listings for a given city\n",
    "'''\n",
    "def findNextPage(soupPage):\n",
    "    ''' Finds the next page with listings if it exists '''\n",
    "    try:\n",
    "        nextpage = \"https://airbnb.com\" + soupPage.find(\"li\", {\"class\": \"_i66xk8d\"}).find(\"a\")[\"href\"]\n",
    "    except:\n",
    "        nextpage = \"no next page\"\n",
    "    return nextpage\n",
    "\n",
    "def getPages(url):\n",
    "    ''' This function returns all the links to the pages containing \n",
    "    listings for one particular city '''\n",
    "    result = []\n",
    "    while url != \"no next page\": \n",
    "        page = getPage(url)\n",
    "        result = result + [page]\n",
    "        url = findNextPage(page)\n",
    "    return result\n",
    "\n",
    "def extractPages(url):\n",
    "    ''' This function outputs a dataframe that contains all information of a particular\n",
    "    city. It thus contains information of multiple listings coming from multiple pages.'''\n",
    "    pages = getPages(url)\n",
    "    # Do for the first element to initialize the dataframe\n",
    "    df = extractInformation(pages[0])\n",
    "    # Loop over all other elements of the dataframe\n",
    "    for pagenumber in trange(1, len(pages)):\n",
    "        df = df.append(extractInformation(pages[pagenumber]))\n",
    "    return df\n",
    "\n",
    "'''\n",
    "    Clean functions basic data frame extracted using only beautifulsoup\n",
    "'''\n",
    "def cleanTitle(df):\n",
    "    df.loc[:, \"name\"] = df[\"title\"].str.split(\" null \", n = 0, expand = True)[0].str.replace(\"-\", \"\")\n",
    "    df.loc[:, \"location\"] = df[\"title\"].str.split(\" null \", n = 0, expand = True)[1].str.replace(\"-\", \"\").str.strip()\n",
    "    return df.drop(\"title\", axis = 1)\n",
    "\n",
    "def cleanTopRow(df):\n",
    "    df.loc[:, 'roomtype'] = df[\"toprow\"].str.split(\" in \", n = 0, expand = True)[0] \n",
    "    df.loc[:, 'detailed_location'] = df[\"toprow\"].str.split(\" in \", n = 0, expand = True)[1] \n",
    "    return df.drop(\"toprow\", axis = 1)\n",
    "\n",
    "def cleanRoomInfo(df):\n",
    "    df.loc[:, \"bedrooms\"] = df.loc[:, \"roominfo\"].str.split(\" . \", n = 0, expand = True)[1]\n",
    "    df.loc[:, \"beds\"] = df.loc[:, \"roominfo\"].str.split(\" . \", n = 0, expand = True)[2].str.replace(\" bed\", \"\").str.replace(\"s\", \"\")\n",
    "    df.loc[:, \"beds\"] = pd.to_numeric(df.beds, errors = 'coerce')\n",
    "    df.loc[:, \"bedrooms\"] = pd.to_numeric(df.bedrooms.str.split(\" \", n = 0, expand = True)[0], errors = \"ignore\")\n",
    "    return df.drop(\"roominfo\", axis = 1)\n",
    "\n",
    "def cleanPrice(df):\n",
    "    price_list = []\n",
    "    #convert price to number, takes the discounted price.\n",
    "    #requests accessed airbnb from Singapore, prices shown in SGD converted to USD\n",
    "    #exchange rate as of 26/9/2020\n",
    "    for index, row in df.iterrows():\n",
    "        if \"Discounted\" in row['price']:\n",
    "            row['price'] = row['price'].split(\"Discounted\")[1]\n",
    "\n",
    "            row['price'] = round(float(re.sub('[^0-9]','', row['price'])) * 0.73)\n",
    "        else:\n",
    "            row['price'] = re.sub('[^0-9]','', row['price'])\n",
    "            row['price'] = round(float(re.sub('[^0-9]','', row['price'])) * 0.73) \n",
    "\n",
    "        price_list.append(row['price'])\n",
    "\n",
    "    df['listed_price'] = price_list\n",
    "    df['price'] = round(df['listed_price'] / df['beds'])\n",
    "    return df\n",
    "\n",
    "\n",
    "def clean(df):\n",
    "    df = cleanTitle(df)\n",
    "    df = cleanTopRow(df)\n",
    "    df = cleanRoomInfo(df)\n",
    "    df = cleanPrice(df)\n",
    "    return df\n"
   ]
  },
  {
   "cell_type": "code",
   "execution_count": 138,
   "metadata": {},
   "outputs": [
    {
     "name": "stderr",
     "output_type": "stream",
     "text": [
      "\n",
      "\n",
      "\n",
      "  0%|          | 0/7 [00:00<?, ?it/s]\u001b[A\u001b[A\u001b[A\n",
      "\n",
      "\n",
      "\n",
      "  0%|          | 0/14 [00:00<?, ?it/s]\u001b[A\u001b[A\u001b[A\u001b[A\n",
      "\n",
      "\n",
      "\n",
      " 21%|██▏       | 3/14 [00:00<00:00, 26.43it/s]\u001b[A\u001b[A\u001b[A\u001b[A\n",
      "\n",
      "\n",
      "\n",
      " 43%|████▎     | 6/14 [00:00<00:00, 26.19it/s]\u001b[A\u001b[A\u001b[A\u001b[A\n",
      "\n",
      "\n",
      "\n",
      " 64%|██████▍   | 9/14 [00:00<00:00, 26.25it/s]\u001b[A\u001b[A\u001b[A\u001b[A\n",
      "\n",
      "\n",
      "\n",
      "100%|██████████| 14/14 [00:00<00:00, 26.24it/s]\u001b[A\u001b[A\u001b[A\u001b[A\n",
      "\n",
      "\n",
      "\n",
      " 14%|█▍        | 1/7 [01:58<11:53, 118.93s/it]\u001b[A\u001b[A\u001b[A"
     ]
    },
    {
     "name": "stdout",
     "output_type": "stream",
     "text": [
      "Done with San Francisco\n"
     ]
    },
    {
     "name": "stderr",
     "output_type": "stream",
     "text": [
      "\n",
      "\n",
      "\n",
      "\n",
      "  0%|          | 0/14 [00:00<?, ?it/s]\u001b[A\u001b[A\u001b[A\u001b[A\n",
      "\n",
      "\n",
      "\n",
      " 21%|██▏       | 3/14 [00:00<00:00, 26.23it/s]\u001b[A\u001b[A\u001b[A\u001b[A\n",
      "\n",
      "\n",
      "\n",
      " 43%|████▎     | 6/14 [00:00<00:00, 26.26it/s]\u001b[A\u001b[A\u001b[A\u001b[A\n",
      "\n",
      "\n",
      "\n",
      " 64%|██████▍   | 9/14 [00:00<00:00, 26.49it/s]\u001b[A\u001b[A\u001b[A\u001b[A\n",
      "\n",
      "\n",
      "\n",
      "100%|██████████| 14/14 [00:00<00:00, 26.21it/s]\u001b[A\u001b[A\u001b[A\u001b[A\n",
      "\n",
      "\n",
      "\n",
      " 29%|██▊       | 2/7 [04:00<09:58, 119.71s/it]\u001b[A\u001b[A\u001b[A"
     ]
    },
    {
     "name": "stdout",
     "output_type": "stream",
     "text": [
      "Done with Seoul\n"
     ]
    },
    {
     "name": "stderr",
     "output_type": "stream",
     "text": [
      "\n",
      "\n",
      "\n",
      "\n",
      "  0%|          | 0/8 [00:00<?, ?it/s]\u001b[A\u001b[A\u001b[A\u001b[A\n",
      "\n",
      "\n",
      "\n",
      " 38%|███▊      | 3/8 [00:00<00:00, 27.87it/s]\u001b[A\u001b[A\u001b[A\u001b[A\n",
      "\n",
      "\n",
      "\n",
      "100%|██████████| 8/8 [00:00<00:00, 30.43it/s]\u001b[A\u001b[A\u001b[A\u001b[A\n",
      "\n",
      "\n",
      "\n",
      " 43%|████▎     | 3/7 [05:11<07:00, 105.12s/it]\u001b[A\u001b[A\u001b[A"
     ]
    },
    {
     "name": "stdout",
     "output_type": "stream",
     "text": [
      "Done with Hyderabad\n"
     ]
    },
    {
     "name": "stderr",
     "output_type": "stream",
     "text": [
      "\n",
      "\n",
      "\n",
      "\n",
      "  0%|          | 0/14 [00:00<?, ?it/s]\u001b[A\u001b[A\u001b[A\u001b[A\n",
      "\n",
      "\n",
      "\n",
      " 21%|██▏       | 3/14 [00:00<00:00, 26.02it/s]\u001b[A\u001b[A\u001b[A\u001b[A\n",
      "\n",
      "\n",
      "\n",
      " 43%|████▎     | 6/14 [00:00<00:00, 25.98it/s]\u001b[A\u001b[A\u001b[A\u001b[A\n",
      "\n",
      "\n",
      "\n",
      " 64%|██████▍   | 9/14 [00:00<00:00, 26.15it/s]\u001b[A\u001b[A\u001b[A\u001b[A\n",
      "\n",
      "\n",
      "\n",
      "100%|██████████| 14/14 [00:00<00:00, 26.07it/s]\u001b[A\u001b[A\u001b[A\u001b[A\n",
      "\n",
      "\n",
      "\n",
      " 57%|█████▋    | 4/7 [07:11<05:28, 109.50s/it]\u001b[A\u001b[A\u001b[A"
     ]
    },
    {
     "name": "stdout",
     "output_type": "stream",
     "text": [
      "Done with Berlin\n"
     ]
    },
    {
     "name": "stderr",
     "output_type": "stream",
     "text": [
      "\n",
      "\n",
      "\n",
      "\n",
      "  0%|          | 0/14 [00:00<?, ?it/s]\u001b[A\u001b[A\u001b[A\u001b[A\n",
      "\n",
      "\n",
      "\n",
      " 21%|██▏       | 3/14 [00:00<00:00, 25.91it/s]\u001b[A\u001b[A\u001b[A\u001b[A\n",
      "\n",
      "\n",
      "\n",
      " 43%|████▎     | 6/14 [00:00<00:00, 26.34it/s]\u001b[A\u001b[A\u001b[A\u001b[A\n",
      "\n",
      "\n",
      "\n",
      " 64%|██████▍   | 9/14 [00:00<00:00, 26.21it/s]\u001b[A\u001b[A\u001b[A\u001b[A\n",
      "\n",
      "\n",
      "\n",
      "100%|██████████| 14/14 [00:00<00:00, 26.49it/s]\u001b[A\u001b[A\u001b[A\u001b[A\n",
      "\n",
      "\n",
      "\n",
      " 71%|███████▏  | 5/7 [09:11<03:45, 112.66s/it]\u001b[A\u001b[A\u001b[A"
     ]
    },
    {
     "name": "stdout",
     "output_type": "stream",
     "text": [
      "Done with Buenos Aires\n"
     ]
    },
    {
     "name": "stderr",
     "output_type": "stream",
     "text": [
      "\n",
      "\n",
      "\n",
      "\n",
      "  0%|          | 0/14 [00:00<?, ?it/s]\u001b[A\u001b[A\u001b[A\u001b[A\n",
      "\n",
      "\n",
      "\n",
      " 21%|██▏       | 3/14 [00:00<00:00, 27.08it/s]\u001b[A\u001b[A\u001b[A\u001b[A\n",
      "\n",
      "\n",
      "\n",
      " 43%|████▎     | 6/14 [00:00<00:00, 27.12it/s]\u001b[A\u001b[A\u001b[A\u001b[A\n",
      "\n",
      "\n",
      "\n",
      " 64%|██████▍   | 9/14 [00:00<00:00, 26.96it/s]\u001b[A\u001b[A\u001b[A\u001b[A\n",
      "\n",
      "\n",
      "\n",
      "100%|██████████| 14/14 [00:00<00:00, 27.10it/s]\u001b[A\u001b[A\u001b[A\u001b[A\n",
      "\n",
      "\n",
      "\n",
      " 86%|████████▌ | 6/7 [11:09<01:54, 114.30s/it]\u001b[A\u001b[A\u001b[A"
     ]
    },
    {
     "name": "stdout",
     "output_type": "stream",
     "text": [
      "Done with Taipei\n"
     ]
    },
    {
     "name": "stderr",
     "output_type": "stream",
     "text": [
      "\n",
      "\n",
      "\n",
      "\n",
      "  0%|          | 0/14 [00:00<?, ?it/s]\u001b[A\u001b[A\u001b[A\u001b[A\n",
      "\n",
      "\n",
      "\n",
      " 21%|██▏       | 3/14 [00:00<00:00, 27.08it/s]\u001b[A\u001b[A\u001b[A\u001b[A\n",
      "\n",
      "\n",
      "\n",
      " 43%|████▎     | 6/14 [00:00<00:00, 27.17it/s]\u001b[A\u001b[A\u001b[A\u001b[A\n",
      "\n",
      "\n",
      "\n",
      " 64%|██████▍   | 9/14 [00:00<00:00, 27.21it/s]\u001b[A\u001b[A\u001b[A\u001b[A\n",
      "\n",
      "\n",
      "\n",
      "100%|██████████| 14/14 [00:00<00:00, 27.19it/s]\u001b[A\u001b[A\u001b[A\u001b[A\n",
      "\n",
      "\n",
      "\n",
      "100%|██████████| 7/7 [13:11<00:00, 113.12s/it]\u001b[A\u001b[A\u001b[A"
     ]
    },
    {
     "name": "stdout",
     "output_type": "stream",
     "text": [
      "Done with London\n"
     ]
    },
    {
     "name": "stderr",
     "output_type": "stream",
     "text": [
      "\n"
     ]
    }
   ],
   "source": [
    "'''\n",
    "Details on search queries to Airbnb\n",
    "- Up to 3000 usd to remove stays that Minervans are unlikely to rent anyways\n",
    "- At least 1 bed (this is how price is calculated, since the price is split by the number of beds in the stay)\n",
    "- Has Wifi + Kitchen\n",
    "- Search Jan 1st - April 30th 2021. \n",
    "- Specific query terms in the urls below\n",
    "'''\n",
    "cities = {\n",
    "    \"San Francisco\" : \"https://www.airbnb.com.sg/s/San-Francisco--CA--United-States/homes?tab_id=home_tab&refinement_paths%5B%5D=%2Fhomes&checkin=2021-01-01&checkout=2021-04-30&source=structured_search_input_header&search_type=autocomplete_click&amenities%5B%5D=4&amenities%5B%5D=8&price_max=4134&min_beds=1&room_types%5B%5D=Entire%20home%2Fapt&room_types%5B%5D=Hotel%20room&room_types%5B%5D=Private%20room&query=San%20Francisco%2C%20CA%2C%20United%20States\",\n",
    "    \"Seoul\": \"https://www.airbnb.com.sg/s/Seoul--South-Korea/homes?tab_id=home_tab&refinement_paths%5B%5D=%2Fhomes&checkin=2021-01-01&checkout=2021-04-30&source=structured_search_input_header&search_type=autocomplete_click&amenities%5B%5D=4&amenities%5B%5D=8&price_max=4134&min_beds=1&room_types%5B%5D=Entire%20home%2Fapt&room_types%5B%5D=Hotel%20room&room_types%5B%5D=Private%20room&query=Seoul%2C%20South%20Korea&place_id=ChIJzWXFYYuifDUR64Pq5LTtioU\",\n",
    "    \"Hyderabad\": \"https://www.airbnb.com.sg/s/Hyderabad--Telangana/homes?tab_id=home_tab&refinement_paths%5B%5D=%2Fhomes&checkin=2021-01-01&checkout=2021-04-30&source=structured_search_input_header&search_type=search_query&amenities%5B%5D=4&amenities%5B%5D=8&price_max=4134&min_beds=1&room_types%5B%5D=Entire%20home%2Fapt&room_types%5B%5D=Private%20room\",\n",
    "    \"Berlin\": \"https://www.airbnb.com.sg/s/berlin/homes?tab_id=home_tab&refinement_paths%5B%5D=%2Fhomes&checkin=2021-01-01&checkout=2021-04-30&source=structured_search_input_header&search_type=search_query&amenities%5B%5D=4&amenities%5B%5D=8&price_max=4134&min_beds=1&room_types%5B%5D=Entire%20home%2Fapt&room_types%5B%5D=Hotel%20room&room_types%5B%5D=Private%20room\",\n",
    "    \"Buenos Aires\": \"https://www.airbnb.com.sg/s/Buenos-Aires--Ciudad-Aut%C3%B3noma-de-Buenos-Aires--Argentina/homes?refinement_paths%5B%5D=%2Fhomes&checkin=2021-01-01&checkout=2021-04-30&source=structured_search_input_header&search_type=autocomplete_click&amenities%5B%5D=4&amenities%5B%5D=8&price_max=4134&min_beds=1&room_types%5B%5D=Entire%20home%2Fapt&room_types%5B%5D=Hotel%20room&room_types%5B%5D=Private%20room&click_referer=t%3ASEE_ALL%7Csid%3Aaf552623-f9f0-4be8-98b7-75f840406057%7Cst%3ASTAYS_LARGE_AREA_DESTINATION_CAROUSELS&tab_id=home_tab&query=Buenos%20Aires%2C%20Ciudad%20Aut%C3%B3noma%20de%20Buenos%20Aires%2C%20Argentina&place_id=ChIJvQz5TjvKvJURh47oiC6Bs6A\",\n",
    "    \"Taipei\": \"https://www.airbnb.com.sg/s/Taipei-City--Taiwan/homes?tab_id=home_tab&refinement_paths%5B%5D=%2Fhomes&checkin=2021-01-01&checkout=2021-04-30&source=structured_search_input_header&search_type=autocomplete_click&amenities%5B%5D=4&amenities%5B%5D=8&price_max=4134&min_beds=1&room_types%5B%5D=Entire%20home%2Fapt&room_types%5B%5D=Hotel%20room&room_types%5B%5D=Private%20room&query=Taipei%20City%2C%20Taiwan&place_id=ChIJi73bYWusQjQRgqQGXK260bw\",\n",
    "    \"London\": \"https://www.airbnb.com.sg/s/London--United-Kingdom/homes?tab_id=home_tab&refinement_paths%5B%5D=%2Fhomes&checkin=2021-01-01&checkout=2021-04-30&source=structured_search_input_header&search_type=autocomplete_click&amenities%5B%5D=4&amenities%5B%5D=8&price_max=4134&min_beds=1&room_types%5B%5D=Entire%20home%2Fapt&room_types%5B%5D=Hotel%20room&room_types%5B%5D=Private%20room&query=London%2C%20United%20Kingdom&place_id=ChIJdd4hrwug2EcRmSrV3Vo6llI\"\n",
    "}\n",
    "\n",
    "\n",
    "city_dfs = []\n",
    "for key in tqdm(cities):\n",
    "    url = cities[key]\n",
    "    \n",
    "    df = extractPages(url)\n",
    "    df['city'] = key\n",
    "    city_dfs.append(clean(df))\n",
    "    print(f'Done with {key}')"
   ]
  },
  {
   "cell_type": "code",
   "execution_count": 139,
   "metadata": {},
   "outputs": [],
   "source": [
    "import pickle\n",
    "pickle.dump(city_dfs, open( \"data.p\", \"wb\" ) )\n"
   ]
  },
  {
   "cell_type": "markdown",
   "metadata": {},
   "source": [
    "# Full Data Set For Viz"
   ]
  },
  {
   "cell_type": "code",
   "execution_count": 293,
   "metadata": {},
   "outputs": [],
   "source": [
    "city_dfs = pd.read_pickle(\"./data.p\")\n",
    "price_df = pd.concat(city_dfs)\n",
    "price_df = price_df[price_df.beds < 5]\n",
    "\n",
    "price_df = price_df.drop_duplicates(subset=['name'])\n",
    "only_prices_df = price_df.filter(['price', 'city'])\n"
   ]
  },
  {
   "cell_type": "code",
   "execution_count": 294,
   "metadata": {},
   "outputs": [],
   "source": [
    "only_prices_df.to_csv(\"dev/prices_data.csv\",index=False)"
   ]
  },
  {
   "cell_type": "markdown",
   "metadata": {},
   "source": [
    "# Get Cheaper Than Minerva Data!"
   ]
  },
  {
   "cell_type": "code",
   "execution_count": 142,
   "metadata": {},
   "outputs": [],
   "source": [
    "full_df = pd.concat(city_dfs)\n",
    "\n",
    "#clean hostels ugh\n",
    "full_df = full_df[full_df.beds < 5]\n",
    "\n",
    "#filter out more exp than Minerva\n",
    "full_df = full_df[full_df.price < 750]\n"
   ]
  },
  {
   "cell_type": "code",
   "execution_count": 173,
   "metadata": {},
   "outputs": [],
   "source": [
    "def getScoreAndFullAmenities(df):\n",
    "    rating = []\n",
    "    review_num = []\n",
    "    full_rating = []\n",
    "    stuff = []\n",
    "    \n",
    "    for url in tqdm(df['link']):\n",
    "        print(url)\n",
    "        \n",
    "        time.sleep(2)\n",
    "        \n",
    "        driver = webdriver.Chrome(ChromeDriverManager().install())\n",
    "\n",
    "        driver.get(url)\n",
    "        \n",
    "        #scores\n",
    "        try:\n",
    "            wait = WebDriverWait(driver, 5)\n",
    "            wait.until(EC.presence_of_element_located((By.CLASS_NAME,\"_1jpdmc0\")))\n",
    "            soup = BeautifulSoup(driver.page_source, 'lxml')\n",
    "\n",
    "            #find scores\n",
    "            score = soup.find(\"span\", {\"class\":\"_1jpdmc0\"}).text\n",
    "            reviews = soup.find(\"span\", {\"class\":\"_1sqnphj\"}).text\n",
    "            full = f'{score} out of 5 stars from {reviews[1:-1]} reviews'\n",
    "\n",
    "            rating.append(score)\n",
    "            review_num.append(reviews[1:-1])\n",
    "            full_rating.append(full)\n",
    "\n",
    "        except TimeoutException as ex:\n",
    "            rating.append(None)\n",
    "            review_num.append(0)\n",
    "            full_rating.append(\"No Reviews Yet!\")\n",
    "\n",
    "\n",
    "        try:\n",
    "            waitMore = WebDriverWait(driver, 5)\n",
    "            waitMore.until(EC.presence_of_element_located((By.CLASS_NAME,\"_1nlbjeu\")))\n",
    "            soup = BeautifulSoup(driver.page_source, 'lxml')\n",
    "\n",
    "            #find full amenities\n",
    "            features = [a.text for a in soup.findAll(\"div\", {\"class\":\"_1nlbjeu\"}) if \"Unavailable\" not in a.text] \n",
    "            stuff.append(features)\n",
    "\n",
    "        except TimeoutException as ex:\n",
    "            stuff.append([Wifi,Kitchen])   \n",
    "\n",
    "\n",
    "        driver.quit()\n",
    "        \n",
    "        \n",
    "    return rating, review_num, full_rating, stuff\n",
    "        \n",
    "        \n",
    "\n",
    "        \n",
    "        "
   ]
  },
  {
   "cell_type": "code",
   "execution_count": 146,
   "metadata": {
    "scrolled": true
   },
   "outputs": [
    {
     "name": "stdout",
     "output_type": "stream",
     "text": [
      "http://airbnb.com/rooms/45224017?check_in=2021-01-01&check_out=2021-04-30&previous_page_section_name=1000&display_extensions%5B%5D=DATED_LTS&display_extensions%5B%5D=MONTHLY_STAYS&federated_search_id=68d4a45d-fdd3-44d9-b314-b4b15a9e7215\n"
     ]
    },
    {
     "name": "stderr",
     "output_type": "stream",
     "text": [
      "[WDM] - Current google-chrome version is 85.0.4183\n",
      "[WDM] - Get LATEST driver version for 85.0.4183\n"
     ]
    },
    {
     "name": "stdout",
     "output_type": "stream",
     "text": [
      " \n"
     ]
    },
    {
     "name": "stderr",
     "output_type": "stream",
     "text": [
      "[WDM] - Driver [/Users/jasenlo/.wdm/drivers/chromedriver/mac64/85.0.4183.87/chromedriver] found in cache\n"
     ]
    },
    {
     "name": "stdout",
     "output_type": "stream",
     "text": [
      "http://airbnb.com/rooms/20367796?check_in=2021-01-01&check_out=2021-04-30&previous_page_section_name=1000&display_extensions%5B%5D=MONTHLY_STAYS&display_extensions%5B%5D=DATED_LTS&federated_search_id=bbef1221-b402-4764-91ff-8c4708f93713\n"
     ]
    },
    {
     "name": "stderr",
     "output_type": "stream",
     "text": [
      "[WDM] - Current google-chrome version is 85.0.4183\n",
      "[WDM] - Get LATEST driver version for 85.0.4183\n",
      "[WDM] - Driver [/Users/jasenlo/.wdm/drivers/chromedriver/mac64/85.0.4183.87/chromedriver] found in cache\n"
     ]
    },
    {
     "name": "stdout",
     "output_type": "stream",
     "text": [
      " \n",
      "http://airbnb.com/rooms/20367610?check_in=2021-01-01&check_out=2021-04-30&previous_page_section_name=1000&display_extensions%5B%5D=MONTHLY_STAYS&display_extensions%5B%5D=DATED_LTS&federated_search_id=d095d58d-ca17-4860-8a5d-c3957decb9db\n"
     ]
    },
    {
     "name": "stderr",
     "output_type": "stream",
     "text": [
      "[WDM] - Current google-chrome version is 85.0.4183\n",
      "[WDM] - Get LATEST driver version for 85.0.4183\n",
      "[WDM] - Driver [/Users/jasenlo/.wdm/drivers/chromedriver/mac64/85.0.4183.87/chromedriver] found in cache\n"
     ]
    },
    {
     "name": "stdout",
     "output_type": "stream",
     "text": [
      " \n",
      "http://airbnb.com/rooms/25259969?check_in=2021-01-01&check_out=2021-04-30&previous_page_section_name=1000&display_extensions%5B%5D=MONTHLY_STAYS&display_extensions%5B%5D=DATED_LTS&federated_search_id=d095d58d-ca17-4860-8a5d-c3957decb9db\n"
     ]
    },
    {
     "name": "stderr",
     "output_type": "stream",
     "text": [
      "[WDM] - Current google-chrome version is 85.0.4183\n",
      "[WDM] - Get LATEST driver version for 85.0.4183\n",
      "[WDM] - Driver [/Users/jasenlo/.wdm/drivers/chromedriver/mac64/85.0.4183.87/chromedriver] found in cache\n"
     ]
    },
    {
     "name": "stdout",
     "output_type": "stream",
     "text": [
      " \n",
      "http://airbnb.com/rooms/943021?check_in=2021-01-01&check_out=2021-04-30&previous_page_section_name=1000&display_extensions%5B%5D=MONTHLY_STAYS&display_extensions%5B%5D=DATED_LTS&federated_search_id=d095d58d-ca17-4860-8a5d-c3957decb9db\n"
     ]
    },
    {
     "name": "stderr",
     "output_type": "stream",
     "text": [
      "[WDM] - Current google-chrome version is 85.0.4183\n",
      "[WDM] - Get LATEST driver version for 85.0.4183\n",
      "[WDM] - Driver [/Users/jasenlo/.wdm/drivers/chromedriver/mac64/85.0.4183.87/chromedriver] found in cache\n"
     ]
    },
    {
     "name": "stdout",
     "output_type": "stream",
     "text": [
      " \n",
      "http://airbnb.com/rooms/25259969?check_in=2021-01-01&check_out=2021-04-30&previous_page_section_name=1000&display_extensions%5B%5D=DATED_LTS&display_extensions%5B%5D=MONTHLY_STAYS&federated_search_id=216e59d5-8eb6-4c50-9b0e-b51190315c26\n"
     ]
    },
    {
     "name": "stderr",
     "output_type": "stream",
     "text": [
      "[WDM] - Current google-chrome version is 85.0.4183\n",
      "[WDM] - Get LATEST driver version for 85.0.4183\n",
      "[WDM] - Driver [/Users/jasenlo/.wdm/drivers/chromedriver/mac64/85.0.4183.87/chromedriver] found in cache\n"
     ]
    },
    {
     "name": "stdout",
     "output_type": "stream",
     "text": [
      " \n",
      "http://airbnb.com/rooms/36522187?check_in=2021-01-01&check_out=2021-04-30&previous_page_section_name=1000&display_extensions%5B%5D=MONTHLY_STAYS&display_extensions%5B%5D=DATED_LTS&federated_search_id=097502a4-b8a6-4c5d-b5ad-d4d8fa18da63\n"
     ]
    },
    {
     "name": "stderr",
     "output_type": "stream",
     "text": [
      "[WDM] - Current google-chrome version is 85.0.4183\n",
      "[WDM] - Get LATEST driver version for 85.0.4183\n",
      "[WDM] - Driver [/Users/jasenlo/.wdm/drivers/chromedriver/mac64/85.0.4183.87/chromedriver] found in cache\n"
     ]
    },
    {
     "name": "stdout",
     "output_type": "stream",
     "text": [
      " \n",
      "http://airbnb.com/rooms/943021?check_in=2021-01-01&check_out=2021-04-30&previous_page_section_name=1000&display_extensions%5B%5D=MONTHLY_STAYS&display_extensions%5B%5D=DATED_LTS&federated_search_id=8168fd9d-3249-48c5-913e-4ff9da88ca62\n"
     ]
    },
    {
     "name": "stderr",
     "output_type": "stream",
     "text": [
      "[WDM] - Current google-chrome version is 85.0.4183\n",
      "[WDM] - Get LATEST driver version for 85.0.4183\n",
      "[WDM] - Driver [/Users/jasenlo/.wdm/drivers/chromedriver/mac64/85.0.4183.87/chromedriver] found in cache\n"
     ]
    },
    {
     "name": "stdout",
     "output_type": "stream",
     "text": [
      " \n",
      "http://airbnb.com/rooms/22829352?check_in=2021-01-01&check_out=2021-04-30&previous_page_section_name=1000&display_extensions%5B%5D=MONTHLY_STAYS&display_extensions%5B%5D=DATED_LTS&federated_search_id=8ba79bf1-3417-4042-93b7-ac2624c19fbc\n"
     ]
    },
    {
     "name": "stderr",
     "output_type": "stream",
     "text": [
      "[WDM] - Current google-chrome version is 85.0.4183\n",
      "[WDM] - Get LATEST driver version for 85.0.4183\n",
      "[WDM] - Driver [/Users/jasenlo/.wdm/drivers/chromedriver/mac64/85.0.4183.87/chromedriver] found in cache\n"
     ]
    },
    {
     "name": "stdout",
     "output_type": "stream",
     "text": [
      " \n",
      "http://airbnb.com/rooms/22829352?check_in=2021-01-01&check_out=2021-04-30&previous_page_section_name=1000&display_extensions%5B%5D=MONTHLY_STAYS&display_extensions%5B%5D=DATED_LTS&federated_search_id=9da34d2c-1593-4b98-97f5-1bcc77684eed\n"
     ]
    },
    {
     "name": "stderr",
     "output_type": "stream",
     "text": [
      "[WDM] - Current google-chrome version is 85.0.4183\n",
      "[WDM] - Get LATEST driver version for 85.0.4183\n",
      "[WDM] - Driver [/Users/jasenlo/.wdm/drivers/chromedriver/mac64/85.0.4183.87/chromedriver] found in cache\n"
     ]
    },
    {
     "name": "stdout",
     "output_type": "stream",
     "text": [
      " \n",
      "http://airbnb.com/rooms/295565?check_in=2021-01-01&check_out=2021-04-30&previous_page_section_name=1000&display_extensions%5B%5D=MONTHLY_STAYS&display_extensions%5B%5D=DATED_LTS&federated_search_id=087d7e80-cf67-472d-ac70-03c2145f0697\n"
     ]
    },
    {
     "name": "stderr",
     "output_type": "stream",
     "text": [
      "[WDM] - Current google-chrome version is 85.0.4183\n",
      "[WDM] - Get LATEST driver version for 85.0.4183\n",
      "[WDM] - Driver [/Users/jasenlo/.wdm/drivers/chromedriver/mac64/85.0.4183.87/chromedriver] found in cache\n"
     ]
    },
    {
     "name": "stdout",
     "output_type": "stream",
     "text": [
      " \n",
      "http://airbnb.com/rooms/119258?check_in=2021-01-01&check_out=2021-04-30&previous_page_section_name=1000&display_extensions%5B%5D=MONTHLY_STAYS&display_extensions%5B%5D=DATED_LTS&federated_search_id=c91e3b31-4407-4410-a455-5831b5f49dfc\n"
     ]
    },
    {
     "name": "stderr",
     "output_type": "stream",
     "text": [
      "[WDM] - Current google-chrome version is 85.0.4183\n",
      "[WDM] - Get LATEST driver version for 85.0.4183\n",
      "[WDM] - Driver [/Users/jasenlo/.wdm/drivers/chromedriver/mac64/85.0.4183.87/chromedriver] found in cache\n"
     ]
    },
    {
     "name": "stdout",
     "output_type": "stream",
     "text": [
      " \n",
      "http://airbnb.com/rooms/44582248?check_in=2021-01-01&check_out=2021-04-30&previous_page_section_name=1000&display_extensions%5B%5D=MONTHLY_STAYS&display_extensions%5B%5D=DATED_LTS&federated_search_id=c91e3b31-4407-4410-a455-5831b5f49dfc\n"
     ]
    },
    {
     "name": "stderr",
     "output_type": "stream",
     "text": [
      "[WDM] - Current google-chrome version is 85.0.4183\n",
      "[WDM] - Get LATEST driver version for 85.0.4183\n",
      "[WDM] - Driver [/Users/jasenlo/.wdm/drivers/chromedriver/mac64/85.0.4183.87/chromedriver] found in cache\n"
     ]
    },
    {
     "name": "stdout",
     "output_type": "stream",
     "text": [
      " \n",
      "http://airbnb.com/rooms/22850652?check_in=2021-01-01&check_out=2021-04-30&previous_page_section_name=1000&display_extensions%5B%5D=DATED_LTS&display_extensions%5B%5D=MONTHLY_STAYS&federated_search_id=dd4c3a19-5ac0-44b5-883b-ec56656cac09\n"
     ]
    },
    {
     "name": "stderr",
     "output_type": "stream",
     "text": [
      "[WDM] - Current google-chrome version is 85.0.4183\n",
      "[WDM] - Get LATEST driver version for 85.0.4183\n",
      "[WDM] - Driver [/Users/jasenlo/.wdm/drivers/chromedriver/mac64/85.0.4183.87/chromedriver] found in cache\n"
     ]
    },
    {
     "name": "stdout",
     "output_type": "stream",
     "text": [
      " \n",
      "http://airbnb.com/rooms/20739262?check_in=2021-01-01&check_out=2021-04-30&previous_page_section_name=1000&display_extensions%5B%5D=DATED_LTS&display_extensions%5B%5D=MONTHLY_STAYS&federated_search_id=dd4c3a19-5ac0-44b5-883b-ec56656cac09\n"
     ]
    },
    {
     "name": "stderr",
     "output_type": "stream",
     "text": [
      "[WDM] - Current google-chrome version is 85.0.4183\n",
      "[WDM] - Get LATEST driver version for 85.0.4183\n",
      "[WDM] - Driver [/Users/jasenlo/.wdm/drivers/chromedriver/mac64/85.0.4183.87/chromedriver] found in cache\n"
     ]
    },
    {
     "name": "stdout",
     "output_type": "stream",
     "text": [
      " \n",
      "http://airbnb.com/rooms/45167197?check_in=2021-01-01&check_out=2021-04-30&previous_page_section_name=1000&display_extensions%5B%5D=DATED_LTS&display_extensions%5B%5D=MONTHLY_STAYS&federated_search_id=dd4c3a19-5ac0-44b5-883b-ec56656cac09\n"
     ]
    },
    {
     "name": "stderr",
     "output_type": "stream",
     "text": [
      "[WDM] - Current google-chrome version is 85.0.4183\n",
      "[WDM] - Get LATEST driver version for 85.0.4183\n",
      "[WDM] - Driver [/Users/jasenlo/.wdm/drivers/chromedriver/mac64/85.0.4183.87/chromedriver] found in cache\n"
     ]
    },
    {
     "name": "stdout",
     "output_type": "stream",
     "text": [
      " \n",
      "http://airbnb.com/rooms/2203915?check_in=2021-01-01&check_out=2021-04-30&previous_page_section_name=1000&display_extensions%5B%5D=DATED_LTS&display_extensions%5B%5D=MONTHLY_STAYS&federated_search_id=dd4c3a19-5ac0-44b5-883b-ec56656cac09\n"
     ]
    },
    {
     "name": "stderr",
     "output_type": "stream",
     "text": [
      "[WDM] - Current google-chrome version is 85.0.4183\n",
      "[WDM] - Get LATEST driver version for 85.0.4183\n",
      "[WDM] - Driver [/Users/jasenlo/.wdm/drivers/chromedriver/mac64/85.0.4183.87/chromedriver] found in cache\n"
     ]
    },
    {
     "name": "stdout",
     "output_type": "stream",
     "text": [
      " \n",
      "http://airbnb.com/rooms/34550105?check_in=2021-01-01&check_out=2021-04-30&previous_page_section_name=1000&display_extensions%5B%5D=DATED_LTS&display_extensions%5B%5D=MONTHLY_STAYS&federated_search_id=dd4c3a19-5ac0-44b5-883b-ec56656cac09\n"
     ]
    },
    {
     "name": "stderr",
     "output_type": "stream",
     "text": [
      "[WDM] - Current google-chrome version is 85.0.4183\n",
      "[WDM] - Get LATEST driver version for 85.0.4183\n",
      "[WDM] - Driver [/Users/jasenlo/.wdm/drivers/chromedriver/mac64/85.0.4183.87/chromedriver] found in cache\n"
     ]
    },
    {
     "name": "stdout",
     "output_type": "stream",
     "text": [
      " \n",
      "http://airbnb.com/rooms/2342375?check_in=2021-01-01&check_out=2021-04-30&previous_page_section_name=1000&display_extensions%5B%5D=DATED_LTS&display_extensions%5B%5D=MONTHLY_STAYS&federated_search_id=dd4c3a19-5ac0-44b5-883b-ec56656cac09\n"
     ]
    },
    {
     "name": "stderr",
     "output_type": "stream",
     "text": [
      "[WDM] - Current google-chrome version is 85.0.4183\n",
      "[WDM] - Get LATEST driver version for 85.0.4183\n",
      "[WDM] - Driver [/Users/jasenlo/.wdm/drivers/chromedriver/mac64/85.0.4183.87/chromedriver] found in cache\n"
     ]
    },
    {
     "name": "stdout",
     "output_type": "stream",
     "text": [
      " \n",
      "http://airbnb.com/rooms/40213363?check_in=2021-01-01&check_out=2021-04-30&previous_page_section_name=1000&display_extensions%5B%5D=DATED_LTS&display_extensions%5B%5D=MONTHLY_STAYS&federated_search_id=dd4c3a19-5ac0-44b5-883b-ec56656cac09\n"
     ]
    },
    {
     "name": "stderr",
     "output_type": "stream",
     "text": [
      "[WDM] - Current google-chrome version is 85.0.4183\n",
      "[WDM] - Get LATEST driver version for 85.0.4183\n",
      "[WDM] - Driver [/Users/jasenlo/.wdm/drivers/chromedriver/mac64/85.0.4183.87/chromedriver] found in cache\n"
     ]
    },
    {
     "name": "stdout",
     "output_type": "stream",
     "text": [
      " \n",
      "http://airbnb.com/rooms/41985476?check_in=2021-01-01&check_out=2021-04-30&previous_page_section_name=1000&display_extensions%5B%5D=DATED_LTS&display_extensions%5B%5D=MONTHLY_STAYS&federated_search_id=dd4c3a19-5ac0-44b5-883b-ec56656cac09\n"
     ]
    },
    {
     "name": "stderr",
     "output_type": "stream",
     "text": [
      "[WDM] - Current google-chrome version is 85.0.4183\n",
      "[WDM] - Get LATEST driver version for 85.0.4183\n",
      "[WDM] - Driver [/Users/jasenlo/.wdm/drivers/chromedriver/mac64/85.0.4183.87/chromedriver] found in cache\n"
     ]
    },
    {
     "name": "stdout",
     "output_type": "stream",
     "text": [
      " \n",
      "http://airbnb.com/rooms/43565146?check_in=2021-01-01&check_out=2021-04-30&previous_page_section_name=1000&display_extensions%5B%5D=DATED_LTS&display_extensions%5B%5D=MONTHLY_STAYS&federated_search_id=dd4c3a19-5ac0-44b5-883b-ec56656cac09\n"
     ]
    },
    {
     "name": "stderr",
     "output_type": "stream",
     "text": [
      "[WDM] - Current google-chrome version is 85.0.4183\n",
      "[WDM] - Get LATEST driver version for 85.0.4183\n",
      "[WDM] - Driver [/Users/jasenlo/.wdm/drivers/chromedriver/mac64/85.0.4183.87/chromedriver] found in cache\n"
     ]
    },
    {
     "name": "stdout",
     "output_type": "stream",
     "text": [
      " \n",
      "http://airbnb.com/rooms/8156094?check_in=2021-01-01&check_out=2021-04-30&previous_page_section_name=1000&display_extensions%5B%5D=DATED_LTS&display_extensions%5B%5D=MONTHLY_STAYS&federated_search_id=dd4c3a19-5ac0-44b5-883b-ec56656cac09\n"
     ]
    },
    {
     "name": "stderr",
     "output_type": "stream",
     "text": [
      "[WDM] - Current google-chrome version is 85.0.4183\n",
      "[WDM] - Get LATEST driver version for 85.0.4183\n",
      "[WDM] - Driver [/Users/jasenlo/.wdm/drivers/chromedriver/mac64/85.0.4183.87/chromedriver] found in cache\n"
     ]
    },
    {
     "name": "stdout",
     "output_type": "stream",
     "text": [
      " \n",
      "http://airbnb.com/rooms/18264011?check_in=2021-01-01&check_out=2021-04-30&previous_page_section_name=1000&display_extensions%5B%5D=DATED_LTS&display_extensions%5B%5D=MONTHLY_STAYS&federated_search_id=dd4c3a19-5ac0-44b5-883b-ec56656cac09\n"
     ]
    },
    {
     "name": "stderr",
     "output_type": "stream",
     "text": [
      "[WDM] - Current google-chrome version is 85.0.4183\n",
      "[WDM] - Get LATEST driver version for 85.0.4183\n",
      "[WDM] - Driver [/Users/jasenlo/.wdm/drivers/chromedriver/mac64/85.0.4183.87/chromedriver] found in cache\n"
     ]
    },
    {
     "name": "stdout",
     "output_type": "stream",
     "text": [
      " \n",
      "http://airbnb.com/rooms/40745973?check_in=2021-01-01&check_out=2021-04-30&previous_page_section_name=1000&display_extensions%5B%5D=DATED_LTS&display_extensions%5B%5D=MONTHLY_STAYS&federated_search_id=dd4c3a19-5ac0-44b5-883b-ec56656cac09\n"
     ]
    },
    {
     "name": "stderr",
     "output_type": "stream",
     "text": [
      "[WDM] - Current google-chrome version is 85.0.4183\n",
      "[WDM] - Get LATEST driver version for 85.0.4183\n",
      "[WDM] - Driver [/Users/jasenlo/.wdm/drivers/chromedriver/mac64/85.0.4183.87/chromedriver] found in cache\n"
     ]
    },
    {
     "name": "stdout",
     "output_type": "stream",
     "text": [
      " \n",
      "http://airbnb.com/rooms/29292333?check_in=2021-01-01&check_out=2021-04-30&previous_page_section_name=1000&display_extensions%5B%5D=DATED_LTS&display_extensions%5B%5D=MONTHLY_STAYS&federated_search_id=dd4c3a19-5ac0-44b5-883b-ec56656cac09\n"
     ]
    },
    {
     "name": "stderr",
     "output_type": "stream",
     "text": [
      "[WDM] - Current google-chrome version is 85.0.4183\n",
      "[WDM] - Get LATEST driver version for 85.0.4183\n",
      "[WDM] - Driver [/Users/jasenlo/.wdm/drivers/chromedriver/mac64/85.0.4183.87/chromedriver] found in cache\n"
     ]
    },
    {
     "name": "stdout",
     "output_type": "stream",
     "text": [
      " \n",
      "http://airbnb.com/rooms/44385591?check_in=2021-01-01&check_out=2021-04-30&previous_page_section_name=1000&display_extensions%5B%5D=DATED_LTS&display_extensions%5B%5D=MONTHLY_STAYS&federated_search_id=dd4c3a19-5ac0-44b5-883b-ec56656cac09\n"
     ]
    },
    {
     "name": "stderr",
     "output_type": "stream",
     "text": [
      "[WDM] - Current google-chrome version is 85.0.4183\n",
      "[WDM] - Get LATEST driver version for 85.0.4183\n",
      "[WDM] - Driver [/Users/jasenlo/.wdm/drivers/chromedriver/mac64/85.0.4183.87/chromedriver] found in cache\n"
     ]
    },
    {
     "name": "stdout",
     "output_type": "stream",
     "text": [
      " \n",
      "http://airbnb.com/rooms/26502928?check_in=2021-01-01&check_out=2021-04-30&previous_page_section_name=1000&display_extensions%5B%5D=DATED_LTS&display_extensions%5B%5D=MONTHLY_STAYS&federated_search_id=dd4c3a19-5ac0-44b5-883b-ec56656cac09\n"
     ]
    },
    {
     "name": "stderr",
     "output_type": "stream",
     "text": [
      "[WDM] - Current google-chrome version is 85.0.4183\n",
      "[WDM] - Get LATEST driver version for 85.0.4183\n",
      "[WDM] - Driver [/Users/jasenlo/.wdm/drivers/chromedriver/mac64/85.0.4183.87/chromedriver] found in cache\n"
     ]
    },
    {
     "name": "stdout",
     "output_type": "stream",
     "text": [
      " \n",
      "http://airbnb.com/rooms/44612344?check_in=2021-01-01&check_out=2021-04-30&previous_page_section_name=1000&display_extensions%5B%5D=DATED_LTS&display_extensions%5B%5D=MONTHLY_STAYS&federated_search_id=dd4c3a19-5ac0-44b5-883b-ec56656cac09\n"
     ]
    },
    {
     "name": "stderr",
     "output_type": "stream",
     "text": [
      "[WDM] - Current google-chrome version is 85.0.4183\n",
      "[WDM] - Get LATEST driver version for 85.0.4183\n",
      "[WDM] - Driver [/Users/jasenlo/.wdm/drivers/chromedriver/mac64/85.0.4183.87/chromedriver] found in cache\n"
     ]
    },
    {
     "name": "stdout",
     "output_type": "stream",
     "text": [
      " \n",
      "http://airbnb.com/rooms/25846198?check_in=2021-01-01&check_out=2021-04-30&previous_page_section_name=1000&display_extensions%5B%5D=DATED_LTS&display_extensions%5B%5D=MONTHLY_STAYS&federated_search_id=dd4c3a19-5ac0-44b5-883b-ec56656cac09\n"
     ]
    },
    {
     "name": "stderr",
     "output_type": "stream",
     "text": [
      "[WDM] - Current google-chrome version is 85.0.4183\n",
      "[WDM] - Get LATEST driver version for 85.0.4183\n",
      "[WDM] - Driver [/Users/jasenlo/.wdm/drivers/chromedriver/mac64/85.0.4183.87/chromedriver] found in cache\n"
     ]
    },
    {
     "name": "stdout",
     "output_type": "stream",
     "text": [
      " \n",
      "http://airbnb.com/rooms/42633359?check_in=2021-01-01&check_out=2021-04-30&previous_page_section_name=1000&display_extensions%5B%5D=DATED_LTS&display_extensions%5B%5D=MONTHLY_STAYS&federated_search_id=477d5bc6-36e7-4e59-a940-584bf69dfea5\n"
     ]
    },
    {
     "name": "stderr",
     "output_type": "stream",
     "text": [
      "[WDM] - Current google-chrome version is 85.0.4183\n",
      "[WDM] - Get LATEST driver version for 85.0.4183\n",
      "[WDM] - Driver [/Users/jasenlo/.wdm/drivers/chromedriver/mac64/85.0.4183.87/chromedriver] found in cache\n"
     ]
    },
    {
     "name": "stdout",
     "output_type": "stream",
     "text": [
      " \n",
      "http://airbnb.com/rooms/25440772?check_in=2021-01-01&check_out=2021-04-30&previous_page_section_name=1000&display_extensions%5B%5D=DATED_LTS&display_extensions%5B%5D=MONTHLY_STAYS&federated_search_id=477d5bc6-36e7-4e59-a940-584bf69dfea5\n"
     ]
    },
    {
     "name": "stderr",
     "output_type": "stream",
     "text": [
      "[WDM] - Current google-chrome version is 85.0.4183\n",
      "[WDM] - Get LATEST driver version for 85.0.4183\n",
      "[WDM] - Driver [/Users/jasenlo/.wdm/drivers/chromedriver/mac64/85.0.4183.87/chromedriver] found in cache\n"
     ]
    },
    {
     "name": "stdout",
     "output_type": "stream",
     "text": [
      " \n",
      "http://airbnb.com/rooms/36496501?check_in=2021-01-01&check_out=2021-04-30&previous_page_section_name=1000&display_extensions%5B%5D=DATED_LTS&display_extensions%5B%5D=MONTHLY_STAYS&federated_search_id=477d5bc6-36e7-4e59-a940-584bf69dfea5\n"
     ]
    },
    {
     "name": "stderr",
     "output_type": "stream",
     "text": [
      "[WDM] - Current google-chrome version is 85.0.4183\n",
      "[WDM] - Get LATEST driver version for 85.0.4183\n",
      "[WDM] - Driver [/Users/jasenlo/.wdm/drivers/chromedriver/mac64/85.0.4183.87/chromedriver] found in cache\n"
     ]
    },
    {
     "name": "stdout",
     "output_type": "stream",
     "text": [
      " \n",
      "http://airbnb.com/rooms/22850906?check_in=2021-01-01&check_out=2021-04-30&previous_page_section_name=1000&display_extensions%5B%5D=DATED_LTS&display_extensions%5B%5D=MONTHLY_STAYS&federated_search_id=477d5bc6-36e7-4e59-a940-584bf69dfea5\n"
     ]
    },
    {
     "name": "stderr",
     "output_type": "stream",
     "text": [
      "[WDM] - Current google-chrome version is 85.0.4183\n",
      "[WDM] - Get LATEST driver version for 85.0.4183\n",
      "[WDM] - Driver [/Users/jasenlo/.wdm/drivers/chromedriver/mac64/85.0.4183.87/chromedriver] found in cache\n"
     ]
    },
    {
     "name": "stdout",
     "output_type": "stream",
     "text": [
      " \n",
      "http://airbnb.com/rooms/38732669?check_in=2021-01-01&check_out=2021-04-30&previous_page_section_name=1000&display_extensions%5B%5D=DATED_LTS&display_extensions%5B%5D=MONTHLY_STAYS&federated_search_id=477d5bc6-36e7-4e59-a940-584bf69dfea5\n"
     ]
    },
    {
     "name": "stderr",
     "output_type": "stream",
     "text": [
      "[WDM] - Current google-chrome version is 85.0.4183\n",
      "[WDM] - Get LATEST driver version for 85.0.4183\n",
      "[WDM] - Driver [/Users/jasenlo/.wdm/drivers/chromedriver/mac64/85.0.4183.87/chromedriver] found in cache\n"
     ]
    },
    {
     "name": "stdout",
     "output_type": "stream",
     "text": [
      " \n",
      "http://airbnb.com/rooms/27668286?check_in=2021-01-01&check_out=2021-04-30&previous_page_section_name=1000&display_extensions%5B%5D=DATED_LTS&display_extensions%5B%5D=MONTHLY_STAYS&federated_search_id=477d5bc6-36e7-4e59-a940-584bf69dfea5\n"
     ]
    },
    {
     "name": "stderr",
     "output_type": "stream",
     "text": [
      "[WDM] - Current google-chrome version is 85.0.4183\n",
      "[WDM] - Get LATEST driver version for 85.0.4183\n",
      "[WDM] - Driver [/Users/jasenlo/.wdm/drivers/chromedriver/mac64/85.0.4183.87/chromedriver] found in cache\n"
     ]
    },
    {
     "name": "stdout",
     "output_type": "stream",
     "text": [
      " \n",
      "http://airbnb.com/rooms/42987013?check_in=2021-01-01&check_out=2021-04-30&previous_page_section_name=1000&display_extensions%5B%5D=DATED_LTS&display_extensions%5B%5D=MONTHLY_STAYS&federated_search_id=477d5bc6-36e7-4e59-a940-584bf69dfea5\n"
     ]
    },
    {
     "name": "stderr",
     "output_type": "stream",
     "text": [
      "[WDM] - Current google-chrome version is 85.0.4183\n",
      "[WDM] - Get LATEST driver version for 85.0.4183\n",
      "[WDM] - Driver [/Users/jasenlo/.wdm/drivers/chromedriver/mac64/85.0.4183.87/chromedriver] found in cache\n"
     ]
    },
    {
     "name": "stdout",
     "output_type": "stream",
     "text": [
      " \n",
      "http://airbnb.com/rooms/15649684?check_in=2021-01-01&check_out=2021-04-30&previous_page_section_name=1000&display_extensions%5B%5D=DATED_LTS&display_extensions%5B%5D=MONTHLY_STAYS&federated_search_id=477d5bc6-36e7-4e59-a940-584bf69dfea5\n"
     ]
    },
    {
     "name": "stderr",
     "output_type": "stream",
     "text": [
      "[WDM] - Current google-chrome version is 85.0.4183\n",
      "[WDM] - Get LATEST driver version for 85.0.4183\n",
      "[WDM] - Driver [/Users/jasenlo/.wdm/drivers/chromedriver/mac64/85.0.4183.87/chromedriver] found in cache\n"
     ]
    },
    {
     "name": "stdout",
     "output_type": "stream",
     "text": [
      " \n",
      "http://airbnb.com/rooms/34724547?check_in=2021-01-01&check_out=2021-04-30&previous_page_section_name=1000&display_extensions%5B%5D=DATED_LTS&display_extensions%5B%5D=MONTHLY_STAYS&federated_search_id=477d5bc6-36e7-4e59-a940-584bf69dfea5\n"
     ]
    },
    {
     "name": "stderr",
     "output_type": "stream",
     "text": [
      "[WDM] - Current google-chrome version is 85.0.4183\n",
      "[WDM] - Get LATEST driver version for 85.0.4183\n",
      "[WDM] - Driver [/Users/jasenlo/.wdm/drivers/chromedriver/mac64/85.0.4183.87/chromedriver] found in cache\n"
     ]
    },
    {
     "name": "stdout",
     "output_type": "stream",
     "text": [
      " \n",
      "http://airbnb.com/rooms/32363386?check_in=2021-01-01&check_out=2021-04-30&previous_page_section_name=1000&display_extensions%5B%5D=DATED_LTS&display_extensions%5B%5D=MONTHLY_STAYS&federated_search_id=477d5bc6-36e7-4e59-a940-584bf69dfea5\n"
     ]
    },
    {
     "name": "stderr",
     "output_type": "stream",
     "text": [
      "[WDM] - Current google-chrome version is 85.0.4183\n",
      "[WDM] - Get LATEST driver version for 85.0.4183\n",
      "[WDM] - Driver [/Users/jasenlo/.wdm/drivers/chromedriver/mac64/85.0.4183.87/chromedriver] found in cache\n"
     ]
    },
    {
     "name": "stdout",
     "output_type": "stream",
     "text": [
      " \n",
      "http://airbnb.com/rooms/6998641?check_in=2021-01-01&check_out=2021-04-30&previous_page_section_name=1000&display_extensions%5B%5D=DATED_LTS&display_extensions%5B%5D=MONTHLY_STAYS&federated_search_id=477d5bc6-36e7-4e59-a940-584bf69dfea5\n"
     ]
    },
    {
     "name": "stderr",
     "output_type": "stream",
     "text": [
      "[WDM] - Current google-chrome version is 85.0.4183\n",
      "[WDM] - Get LATEST driver version for 85.0.4183\n",
      "[WDM] - Driver [/Users/jasenlo/.wdm/drivers/chromedriver/mac64/85.0.4183.87/chromedriver] found in cache\n"
     ]
    },
    {
     "name": "stdout",
     "output_type": "stream",
     "text": [
      " \n",
      "http://airbnb.com/rooms/35646866?check_in=2021-01-01&check_out=2021-04-30&previous_page_section_name=1000&display_extensions%5B%5D=DATED_LTS&display_extensions%5B%5D=MONTHLY_STAYS&federated_search_id=477d5bc6-36e7-4e59-a940-584bf69dfea5\n"
     ]
    },
    {
     "name": "stderr",
     "output_type": "stream",
     "text": [
      "[WDM] - Current google-chrome version is 85.0.4183\n",
      "[WDM] - Get LATEST driver version for 85.0.4183\n",
      "[WDM] - Driver [/Users/jasenlo/.wdm/drivers/chromedriver/mac64/85.0.4183.87/chromedriver] found in cache\n"
     ]
    },
    {
     "name": "stdout",
     "output_type": "stream",
     "text": [
      " \n",
      "http://airbnb.com/rooms/40026561?check_in=2021-01-01&check_out=2021-04-30&previous_page_section_name=1000&display_extensions%5B%5D=DATED_LTS&display_extensions%5B%5D=MONTHLY_STAYS&federated_search_id=477d5bc6-36e7-4e59-a940-584bf69dfea5\n"
     ]
    },
    {
     "name": "stderr",
     "output_type": "stream",
     "text": [
      "[WDM] - Current google-chrome version is 85.0.4183\n",
      "[WDM] - Get LATEST driver version for 85.0.4183\n",
      "[WDM] - Driver [/Users/jasenlo/.wdm/drivers/chromedriver/mac64/85.0.4183.87/chromedriver] found in cache\n"
     ]
    },
    {
     "name": "stdout",
     "output_type": "stream",
     "text": [
      " \n",
      "http://airbnb.com/rooms/41889929?check_in=2021-01-01&check_out=2021-04-30&previous_page_section_name=1000&display_extensions%5B%5D=DATED_LTS&display_extensions%5B%5D=MONTHLY_STAYS&federated_search_id=477d5bc6-36e7-4e59-a940-584bf69dfea5\n"
     ]
    },
    {
     "name": "stderr",
     "output_type": "stream",
     "text": [
      "[WDM] - Current google-chrome version is 85.0.4183\n",
      "[WDM] - Get LATEST driver version for 85.0.4183\n",
      "[WDM] - Driver [/Users/jasenlo/.wdm/drivers/chromedriver/mac64/85.0.4183.87/chromedriver] found in cache\n"
     ]
    },
    {
     "name": "stdout",
     "output_type": "stream",
     "text": [
      " \n",
      "http://airbnb.com/rooms/40604377?check_in=2021-01-01&check_out=2021-04-30&previous_page_section_name=1000&display_extensions%5B%5D=DATED_LTS&display_extensions%5B%5D=MONTHLY_STAYS&federated_search_id=477d5bc6-36e7-4e59-a940-584bf69dfea5\n"
     ]
    },
    {
     "name": "stderr",
     "output_type": "stream",
     "text": [
      "[WDM] - Current google-chrome version is 85.0.4183\n",
      "[WDM] - Get LATEST driver version for 85.0.4183\n",
      "[WDM] - Driver [/Users/jasenlo/.wdm/drivers/chromedriver/mac64/85.0.4183.87/chromedriver] found in cache\n"
     ]
    },
    {
     "name": "stdout",
     "output_type": "stream",
     "text": [
      " \n",
      "http://airbnb.com/rooms/44385591?check_in=2021-01-01&check_out=2021-04-30&previous_page_section_name=1000&display_extensions%5B%5D=DATED_LTS&display_extensions%5B%5D=MONTHLY_STAYS&federated_search_id=47e44208-2987-4255-a699-b807b300666b\n"
     ]
    },
    {
     "name": "stderr",
     "output_type": "stream",
     "text": [
      "[WDM] - Current google-chrome version is 85.0.4183\n",
      "[WDM] - Get LATEST driver version for 85.0.4183\n",
      "[WDM] - Driver [/Users/jasenlo/.wdm/drivers/chromedriver/mac64/85.0.4183.87/chromedriver] found in cache\n"
     ]
    },
    {
     "name": "stdout",
     "output_type": "stream",
     "text": [
      " \n",
      "http://airbnb.com/rooms/43947979?check_in=2021-01-01&check_out=2021-04-30&previous_page_section_name=1000&display_extensions%5B%5D=DATED_LTS&display_extensions%5B%5D=MONTHLY_STAYS&federated_search_id=47e44208-2987-4255-a699-b807b300666b\n"
     ]
    },
    {
     "name": "stderr",
     "output_type": "stream",
     "text": [
      "[WDM] - Current google-chrome version is 85.0.4183\n",
      "[WDM] - Get LATEST driver version for 85.0.4183\n",
      "[WDM] - Driver [/Users/jasenlo/.wdm/drivers/chromedriver/mac64/85.0.4183.87/chromedriver] found in cache\n"
     ]
    },
    {
     "name": "stdout",
     "output_type": "stream",
     "text": [
      " \n",
      "http://airbnb.com/rooms/22851133?check_in=2021-01-01&check_out=2021-04-30&previous_page_section_name=1000&display_extensions%5B%5D=DATED_LTS&display_extensions%5B%5D=MONTHLY_STAYS&federated_search_id=47e44208-2987-4255-a699-b807b300666b\n"
     ]
    },
    {
     "name": "stderr",
     "output_type": "stream",
     "text": [
      "[WDM] - Current google-chrome version is 85.0.4183\n",
      "[WDM] - Get LATEST driver version for 85.0.4183\n",
      "[WDM] - Driver [/Users/jasenlo/.wdm/drivers/chromedriver/mac64/85.0.4183.87/chromedriver] found in cache\n"
     ]
    },
    {
     "name": "stdout",
     "output_type": "stream",
     "text": [
      " \n",
      "http://airbnb.com/rooms/30943989?check_in=2021-01-01&check_out=2021-04-30&previous_page_section_name=1000&display_extensions%5B%5D=DATED_LTS&display_extensions%5B%5D=MONTHLY_STAYS&federated_search_id=47e44208-2987-4255-a699-b807b300666b\n"
     ]
    },
    {
     "name": "stderr",
     "output_type": "stream",
     "text": [
      "[WDM] - Current google-chrome version is 85.0.4183\n",
      "[WDM] - Get LATEST driver version for 85.0.4183\n",
      "[WDM] - Driver [/Users/jasenlo/.wdm/drivers/chromedriver/mac64/85.0.4183.87/chromedriver] found in cache\n"
     ]
    },
    {
     "name": "stdout",
     "output_type": "stream",
     "text": [
      " \n",
      "http://airbnb.com/rooms/6998641?check_in=2021-01-01&check_out=2021-04-30&previous_page_section_name=1000&display_extensions%5B%5D=DATED_LTS&display_extensions%5B%5D=MONTHLY_STAYS&federated_search_id=47e44208-2987-4255-a699-b807b300666b\n"
     ]
    },
    {
     "name": "stderr",
     "output_type": "stream",
     "text": [
      "[WDM] - Current google-chrome version is 85.0.4183\n",
      "[WDM] - Get LATEST driver version for 85.0.4183\n",
      "[WDM] - Driver [/Users/jasenlo/.wdm/drivers/chromedriver/mac64/85.0.4183.87/chromedriver] found in cache\n"
     ]
    },
    {
     "name": "stdout",
     "output_type": "stream",
     "text": [
      " \n",
      "http://airbnb.com/rooms/43620117?check_in=2021-01-01&check_out=2021-04-30&previous_page_section_name=1000&display_extensions%5B%5D=DATED_LTS&display_extensions%5B%5D=MONTHLY_STAYS&federated_search_id=47e44208-2987-4255-a699-b807b300666b\n"
     ]
    },
    {
     "name": "stderr",
     "output_type": "stream",
     "text": [
      "[WDM] - Current google-chrome version is 85.0.4183\n",
      "[WDM] - Get LATEST driver version for 85.0.4183\n",
      "[WDM] - Driver [/Users/jasenlo/.wdm/drivers/chromedriver/mac64/85.0.4183.87/chromedriver] found in cache\n"
     ]
    },
    {
     "name": "stdout",
     "output_type": "stream",
     "text": [
      " \n",
      "http://airbnb.com/rooms/45661954?check_in=2021-01-01&check_out=2021-04-30&previous_page_section_name=1000&display_extensions%5B%5D=DATED_LTS&display_extensions%5B%5D=MONTHLY_STAYS&federated_search_id=47e44208-2987-4255-a699-b807b300666b\n"
     ]
    },
    {
     "name": "stderr",
     "output_type": "stream",
     "text": [
      "[WDM] - Current google-chrome version is 85.0.4183\n",
      "[WDM] - Get LATEST driver version for 85.0.4183\n",
      "[WDM] - Driver [/Users/jasenlo/.wdm/drivers/chromedriver/mac64/85.0.4183.87/chromedriver] found in cache\n"
     ]
    },
    {
     "name": "stdout",
     "output_type": "stream",
     "text": [
      " \n",
      "http://airbnb.com/rooms/40216879?check_in=2021-01-01&check_out=2021-04-30&previous_page_section_name=1000&display_extensions%5B%5D=DATED_LTS&display_extensions%5B%5D=MONTHLY_STAYS&federated_search_id=47e44208-2987-4255-a699-b807b300666b\n"
     ]
    },
    {
     "name": "stderr",
     "output_type": "stream",
     "text": [
      "[WDM] - Current google-chrome version is 85.0.4183\n",
      "[WDM] - Get LATEST driver version for 85.0.4183\n",
      "[WDM] - Driver [/Users/jasenlo/.wdm/drivers/chromedriver/mac64/85.0.4183.87/chromedriver] found in cache\n"
     ]
    },
    {
     "name": "stdout",
     "output_type": "stream",
     "text": [
      " \n",
      "http://airbnb.com/rooms/41985476?check_in=2021-01-01&check_out=2021-04-30&previous_page_section_name=1000&display_extensions%5B%5D=DATED_LTS&display_extensions%5B%5D=MONTHLY_STAYS&federated_search_id=47e44208-2987-4255-a699-b807b300666b\n"
     ]
    },
    {
     "name": "stderr",
     "output_type": "stream",
     "text": [
      "[WDM] - Current google-chrome version is 85.0.4183\n",
      "[WDM] - Get LATEST driver version for 85.0.4183\n",
      "[WDM] - Driver [/Users/jasenlo/.wdm/drivers/chromedriver/mac64/85.0.4183.87/chromedriver] found in cache\n"
     ]
    },
    {
     "name": "stdout",
     "output_type": "stream",
     "text": [
      " \n",
      "http://airbnb.com/rooms/40998828?check_in=2021-01-01&check_out=2021-04-30&previous_page_section_name=1000&display_extensions%5B%5D=DATED_LTS&display_extensions%5B%5D=MONTHLY_STAYS&federated_search_id=47e44208-2987-4255-a699-b807b300666b\n"
     ]
    },
    {
     "name": "stderr",
     "output_type": "stream",
     "text": [
      "[WDM] - Current google-chrome version is 85.0.4183\n",
      "[WDM] - Get LATEST driver version for 85.0.4183\n",
      "[WDM] - Driver [/Users/jasenlo/.wdm/drivers/chromedriver/mac64/85.0.4183.87/chromedriver] found in cache\n"
     ]
    },
    {
     "name": "stdout",
     "output_type": "stream",
     "text": [
      " \n",
      "http://airbnb.com/rooms/27668286?check_in=2021-01-01&check_out=2021-04-30&previous_page_section_name=1000&display_extensions%5B%5D=DATED_LTS&display_extensions%5B%5D=MONTHLY_STAYS&federated_search_id=47e44208-2987-4255-a699-b807b300666b\n"
     ]
    },
    {
     "name": "stderr",
     "output_type": "stream",
     "text": [
      "[WDM] - Current google-chrome version is 85.0.4183\n",
      "[WDM] - Get LATEST driver version for 85.0.4183\n",
      "[WDM] - Driver [/Users/jasenlo/.wdm/drivers/chromedriver/mac64/85.0.4183.87/chromedriver] found in cache\n"
     ]
    },
    {
     "name": "stdout",
     "output_type": "stream",
     "text": [
      " \n",
      "http://airbnb.com/rooms/41865502?check_in=2021-01-01&check_out=2021-04-30&previous_page_section_name=1000&display_extensions%5B%5D=DATED_LTS&display_extensions%5B%5D=MONTHLY_STAYS&federated_search_id=47e44208-2987-4255-a699-b807b300666b\n"
     ]
    },
    {
     "name": "stderr",
     "output_type": "stream",
     "text": [
      "[WDM] - Current google-chrome version is 85.0.4183\n",
      "[WDM] - Get LATEST driver version for 85.0.4183\n",
      "[WDM] - Driver [/Users/jasenlo/.wdm/drivers/chromedriver/mac64/85.0.4183.87/chromedriver] found in cache\n"
     ]
    },
    {
     "name": "stdout",
     "output_type": "stream",
     "text": [
      " \n",
      "http://airbnb.com/rooms/4365922?check_in=2021-01-01&check_out=2021-04-30&previous_page_section_name=1000&display_extensions%5B%5D=DATED_LTS&display_extensions%5B%5D=MONTHLY_STAYS&federated_search_id=47e44208-2987-4255-a699-b807b300666b\n"
     ]
    },
    {
     "name": "stderr",
     "output_type": "stream",
     "text": [
      "[WDM] - Current google-chrome version is 85.0.4183\n",
      "[WDM] - Get LATEST driver version for 85.0.4183\n",
      "[WDM] - Driver [/Users/jasenlo/.wdm/drivers/chromedriver/mac64/85.0.4183.87/chromedriver] found in cache\n"
     ]
    },
    {
     "name": "stdout",
     "output_type": "stream",
     "text": [
      " \n",
      "http://airbnb.com/rooms/20543389?check_in=2021-01-01&check_out=2021-04-30&previous_page_section_name=1000&display_extensions%5B%5D=DATED_LTS&display_extensions%5B%5D=MONTHLY_STAYS&federated_search_id=47e44208-2987-4255-a699-b807b300666b\n"
     ]
    },
    {
     "name": "stderr",
     "output_type": "stream",
     "text": [
      "[WDM] - Current google-chrome version is 85.0.4183\n",
      "[WDM] - Get LATEST driver version for 85.0.4183\n",
      "[WDM] - Driver [/Users/jasenlo/.wdm/drivers/chromedriver/mac64/85.0.4183.87/chromedriver] found in cache\n"
     ]
    },
    {
     "name": "stdout",
     "output_type": "stream",
     "text": [
      " \n",
      "http://airbnb.com/rooms/42183087?check_in=2021-01-01&check_out=2021-04-30&previous_page_section_name=1000&display_extensions%5B%5D=DATED_LTS&display_extensions%5B%5D=MONTHLY_STAYS&federated_search_id=47e44208-2987-4255-a699-b807b300666b\n"
     ]
    },
    {
     "name": "stderr",
     "output_type": "stream",
     "text": [
      "[WDM] - Current google-chrome version is 85.0.4183\n",
      "[WDM] - Get LATEST driver version for 85.0.4183\n",
      "[WDM] - Driver [/Users/jasenlo/.wdm/drivers/chromedriver/mac64/85.0.4183.87/chromedriver] found in cache\n"
     ]
    },
    {
     "name": "stdout",
     "output_type": "stream",
     "text": [
      " \n",
      "http://airbnb.com/rooms/18860194?check_in=2021-01-01&check_out=2021-04-30&previous_page_section_name=1000&display_extensions%5B%5D=DATED_LTS&display_extensions%5B%5D=MONTHLY_STAYS&federated_search_id=47e44208-2987-4255-a699-b807b300666b\n"
     ]
    },
    {
     "name": "stderr",
     "output_type": "stream",
     "text": [
      "[WDM] - Current google-chrome version is 85.0.4183\n",
      "[WDM] - Get LATEST driver version for 85.0.4183\n",
      "[WDM] - Driver [/Users/jasenlo/.wdm/drivers/chromedriver/mac64/85.0.4183.87/chromedriver] found in cache\n"
     ]
    },
    {
     "name": "stdout",
     "output_type": "stream",
     "text": [
      " \n",
      "http://airbnb.com/rooms/42183087?check_in=2021-01-01&check_out=2021-04-30&previous_page_section_name=1000&display_extensions%5B%5D=DATED_LTS&display_extensions%5B%5D=MONTHLY_STAYS&federated_search_id=8e5159c8-10e1-4ce2-8cc9-f88af73150c5\n"
     ]
    },
    {
     "name": "stderr",
     "output_type": "stream",
     "text": [
      "[WDM] - Current google-chrome version is 85.0.4183\n",
      "[WDM] - Get LATEST driver version for 85.0.4183\n",
      "[WDM] - Driver [/Users/jasenlo/.wdm/drivers/chromedriver/mac64/85.0.4183.87/chromedriver] found in cache\n"
     ]
    },
    {
     "name": "stdout",
     "output_type": "stream",
     "text": [
      " \n",
      "http://airbnb.com/rooms/45661954?check_in=2021-01-01&check_out=2021-04-30&previous_page_section_name=1000&display_extensions%5B%5D=DATED_LTS&display_extensions%5B%5D=MONTHLY_STAYS&federated_search_id=8e5159c8-10e1-4ce2-8cc9-f88af73150c5\n"
     ]
    },
    {
     "name": "stderr",
     "output_type": "stream",
     "text": [
      "[WDM] - Current google-chrome version is 85.0.4183\n",
      "[WDM] - Get LATEST driver version for 85.0.4183\n",
      "[WDM] - Driver [/Users/jasenlo/.wdm/drivers/chromedriver/mac64/85.0.4183.87/chromedriver] found in cache\n"
     ]
    },
    {
     "name": "stdout",
     "output_type": "stream",
     "text": [
      " \n",
      "http://airbnb.com/rooms/37059212?check_in=2021-01-01&check_out=2021-04-30&previous_page_section_name=1000&display_extensions%5B%5D=DATED_LTS&display_extensions%5B%5D=MONTHLY_STAYS&federated_search_id=8e5159c8-10e1-4ce2-8cc9-f88af73150c5\n"
     ]
    },
    {
     "name": "stderr",
     "output_type": "stream",
     "text": [
      "[WDM] - Current google-chrome version is 85.0.4183\n",
      "[WDM] - Get LATEST driver version for 85.0.4183\n",
      "[WDM] - Driver [/Users/jasenlo/.wdm/drivers/chromedriver/mac64/85.0.4183.87/chromedriver] found in cache\n"
     ]
    },
    {
     "name": "stdout",
     "output_type": "stream",
     "text": [
      " \n",
      "http://airbnb.com/rooms/22851229?check_in=2021-01-01&check_out=2021-04-30&previous_page_section_name=1000&display_extensions%5B%5D=DATED_LTS&display_extensions%5B%5D=MONTHLY_STAYS&federated_search_id=8e5159c8-10e1-4ce2-8cc9-f88af73150c5\n"
     ]
    },
    {
     "name": "stderr",
     "output_type": "stream",
     "text": [
      "[WDM] - Current google-chrome version is 85.0.4183\n",
      "[WDM] - Get LATEST driver version for 85.0.4183\n",
      "[WDM] - Driver [/Users/jasenlo/.wdm/drivers/chromedriver/mac64/85.0.4183.87/chromedriver] found in cache\n"
     ]
    },
    {
     "name": "stdout",
     "output_type": "stream",
     "text": [
      " \n",
      "http://airbnb.com/rooms/15314027?check_in=2021-01-01&check_out=2021-04-30&previous_page_section_name=1000&display_extensions%5B%5D=DATED_LTS&display_extensions%5B%5D=MONTHLY_STAYS&federated_search_id=8e5159c8-10e1-4ce2-8cc9-f88af73150c5\n"
     ]
    },
    {
     "name": "stderr",
     "output_type": "stream",
     "text": [
      "[WDM] - Current google-chrome version is 85.0.4183\n",
      "[WDM] - Get LATEST driver version for 85.0.4183\n",
      "[WDM] - Driver [/Users/jasenlo/.wdm/drivers/chromedriver/mac64/85.0.4183.87/chromedriver] found in cache\n"
     ]
    },
    {
     "name": "stdout",
     "output_type": "stream",
     "text": [
      " \n",
      "http://airbnb.com/rooms/27977715?check_in=2021-01-01&check_out=2021-04-30&previous_page_section_name=1000&display_extensions%5B%5D=DATED_LTS&display_extensions%5B%5D=MONTHLY_STAYS&federated_search_id=8e5159c8-10e1-4ce2-8cc9-f88af73150c5\n"
     ]
    },
    {
     "name": "stderr",
     "output_type": "stream",
     "text": [
      "[WDM] - Current google-chrome version is 85.0.4183\n",
      "[WDM] - Get LATEST driver version for 85.0.4183\n",
      "[WDM] - Driver [/Users/jasenlo/.wdm/drivers/chromedriver/mac64/85.0.4183.87/chromedriver] found in cache\n"
     ]
    },
    {
     "name": "stdout",
     "output_type": "stream",
     "text": [
      " \n",
      "http://airbnb.com/rooms/40998828?check_in=2021-01-01&check_out=2021-04-30&previous_page_section_name=1000&display_extensions%5B%5D=DATED_LTS&display_extensions%5B%5D=MONTHLY_STAYS&federated_search_id=8e5159c8-10e1-4ce2-8cc9-f88af73150c5\n"
     ]
    },
    {
     "name": "stderr",
     "output_type": "stream",
     "text": [
      "[WDM] - Current google-chrome version is 85.0.4183\n",
      "[WDM] - Get LATEST driver version for 85.0.4183\n",
      "[WDM] - Driver [/Users/jasenlo/.wdm/drivers/chromedriver/mac64/85.0.4183.87/chromedriver] found in cache\n"
     ]
    },
    {
     "name": "stdout",
     "output_type": "stream",
     "text": [
      " \n",
      "http://airbnb.com/rooms/41523839?check_in=2021-01-01&check_out=2021-04-30&previous_page_section_name=1000&display_extensions%5B%5D=DATED_LTS&display_extensions%5B%5D=MONTHLY_STAYS&federated_search_id=8e5159c8-10e1-4ce2-8cc9-f88af73150c5\n"
     ]
    },
    {
     "name": "stderr",
     "output_type": "stream",
     "text": [
      "[WDM] - Current google-chrome version is 85.0.4183\n",
      "[WDM] - Get LATEST driver version for 85.0.4183\n",
      "[WDM] - Driver [/Users/jasenlo/.wdm/drivers/chromedriver/mac64/85.0.4183.87/chromedriver] found in cache\n"
     ]
    },
    {
     "name": "stdout",
     "output_type": "stream",
     "text": [
      " \n",
      "http://airbnb.com/rooms/43334657?check_in=2021-01-01&check_out=2021-04-30&previous_page_section_name=1000&display_extensions%5B%5D=DATED_LTS&display_extensions%5B%5D=MONTHLY_STAYS&federated_search_id=8e5159c8-10e1-4ce2-8cc9-f88af73150c5\n"
     ]
    },
    {
     "name": "stderr",
     "output_type": "stream",
     "text": [
      "[WDM] - Current google-chrome version is 85.0.4183\n",
      "[WDM] - Get LATEST driver version for 85.0.4183\n",
      "[WDM] - Driver [/Users/jasenlo/.wdm/drivers/chromedriver/mac64/85.0.4183.87/chromedriver] found in cache\n"
     ]
    },
    {
     "name": "stdout",
     "output_type": "stream",
     "text": [
      " \n",
      "http://airbnb.com/rooms/11284669?check_in=2021-01-01&check_out=2021-04-30&previous_page_section_name=1000&display_extensions%5B%5D=DATED_LTS&display_extensions%5B%5D=MONTHLY_STAYS&federated_search_id=8e5159c8-10e1-4ce2-8cc9-f88af73150c5\n"
     ]
    },
    {
     "name": "stderr",
     "output_type": "stream",
     "text": [
      "[WDM] - Current google-chrome version is 85.0.4183\n",
      "[WDM] - Get LATEST driver version for 85.0.4183\n",
      "[WDM] - Driver [/Users/jasenlo/.wdm/drivers/chromedriver/mac64/85.0.4183.87/chromedriver] found in cache\n"
     ]
    },
    {
     "name": "stdout",
     "output_type": "stream",
     "text": [
      " \n",
      "http://airbnb.com/rooms/20986378?check_in=2021-01-01&check_out=2021-04-30&previous_page_section_name=1000&display_extensions%5B%5D=DATED_LTS&display_extensions%5B%5D=MONTHLY_STAYS&federated_search_id=8e5159c8-10e1-4ce2-8cc9-f88af73150c5\n"
     ]
    },
    {
     "name": "stderr",
     "output_type": "stream",
     "text": [
      "[WDM] - Current google-chrome version is 85.0.4183\n",
      "[WDM] - Get LATEST driver version for 85.0.4183\n",
      "[WDM] - Driver [/Users/jasenlo/.wdm/drivers/chromedriver/mac64/85.0.4183.87/chromedriver] found in cache\n"
     ]
    },
    {
     "name": "stdout",
     "output_type": "stream",
     "text": [
      " \n",
      "http://airbnb.com/rooms/37127691?check_in=2021-01-01&check_out=2021-04-30&previous_page_section_name=1000&display_extensions%5B%5D=DATED_LTS&display_extensions%5B%5D=MONTHLY_STAYS&federated_search_id=8e5159c8-10e1-4ce2-8cc9-f88af73150c5\n"
     ]
    },
    {
     "name": "stderr",
     "output_type": "stream",
     "text": [
      "[WDM] - Current google-chrome version is 85.0.4183\n",
      "[WDM] - Get LATEST driver version for 85.0.4183\n",
      "[WDM] - Driver [/Users/jasenlo/.wdm/drivers/chromedriver/mac64/85.0.4183.87/chromedriver] found in cache\n"
     ]
    },
    {
     "name": "stdout",
     "output_type": "stream",
     "text": [
      " \n",
      "http://airbnb.com/rooms/30644420?check_in=2021-01-01&check_out=2021-04-30&previous_page_section_name=1000&display_extensions%5B%5D=DATED_LTS&display_extensions%5B%5D=MONTHLY_STAYS&federated_search_id=8e5159c8-10e1-4ce2-8cc9-f88af73150c5\n"
     ]
    },
    {
     "name": "stderr",
     "output_type": "stream",
     "text": [
      "[WDM] - Current google-chrome version is 85.0.4183\n",
      "[WDM] - Get LATEST driver version for 85.0.4183\n",
      "[WDM] - Driver [/Users/jasenlo/.wdm/drivers/chromedriver/mac64/85.0.4183.87/chromedriver] found in cache\n"
     ]
    },
    {
     "name": "stdout",
     "output_type": "stream",
     "text": [
      " \n",
      "http://airbnb.com/rooms/37484782?check_in=2021-01-01&check_out=2021-04-30&previous_page_section_name=1000&display_extensions%5B%5D=DATED_LTS&display_extensions%5B%5D=MONTHLY_STAYS&federated_search_id=8e5159c8-10e1-4ce2-8cc9-f88af73150c5\n"
     ]
    },
    {
     "name": "stderr",
     "output_type": "stream",
     "text": [
      "[WDM] - Current google-chrome version is 85.0.4183\n",
      "[WDM] - Get LATEST driver version for 85.0.4183\n",
      "[WDM] - Driver [/Users/jasenlo/.wdm/drivers/chromedriver/mac64/85.0.4183.87/chromedriver] found in cache\n"
     ]
    },
    {
     "name": "stdout",
     "output_type": "stream",
     "text": [
      " \n",
      "http://airbnb.com/rooms/35854713?check_in=2021-01-01&check_out=2021-04-30&previous_page_section_name=1000&display_extensions%5B%5D=DATED_LTS&display_extensions%5B%5D=MONTHLY_STAYS&federated_search_id=8e5159c8-10e1-4ce2-8cc9-f88af73150c5\n"
     ]
    },
    {
     "name": "stderr",
     "output_type": "stream",
     "text": [
      "[WDM] - Current google-chrome version is 85.0.4183\n",
      "[WDM] - Get LATEST driver version for 85.0.4183\n",
      "[WDM] - Driver [/Users/jasenlo/.wdm/drivers/chromedriver/mac64/85.0.4183.87/chromedriver] found in cache\n"
     ]
    },
    {
     "name": "stdout",
     "output_type": "stream",
     "text": [
      " \n",
      "http://airbnb.com/rooms/35937478?check_in=2021-01-01&check_out=2021-04-30&previous_page_section_name=1000&display_extensions%5B%5D=DATED_LTS&display_extensions%5B%5D=MONTHLY_STAYS&federated_search_id=8e5159c8-10e1-4ce2-8cc9-f88af73150c5\n"
     ]
    },
    {
     "name": "stderr",
     "output_type": "stream",
     "text": [
      "[WDM] - Current google-chrome version is 85.0.4183\n",
      "[WDM] - Get LATEST driver version for 85.0.4183\n",
      "[WDM] - Driver [/Users/jasenlo/.wdm/drivers/chromedriver/mac64/85.0.4183.87/chromedriver] found in cache\n"
     ]
    },
    {
     "name": "stdout",
     "output_type": "stream",
     "text": [
      " \n",
      "http://airbnb.com/rooms/30999513?check_in=2021-01-01&check_out=2021-04-30&previous_page_section_name=1000&display_extensions%5B%5D=DATED_LTS&display_extensions%5B%5D=MONTHLY_STAYS&federated_search_id=8e5159c8-10e1-4ce2-8cc9-f88af73150c5\n"
     ]
    },
    {
     "name": "stderr",
     "output_type": "stream",
     "text": [
      "[WDM] - Current google-chrome version is 85.0.4183\n",
      "[WDM] - Get LATEST driver version for 85.0.4183\n",
      "[WDM] - Driver [/Users/jasenlo/.wdm/drivers/chromedriver/mac64/85.0.4183.87/chromedriver] found in cache\n"
     ]
    },
    {
     "name": "stdout",
     "output_type": "stream",
     "text": [
      " \n",
      "http://airbnb.com/rooms/20920815?check_in=2021-01-01&check_out=2021-04-30&previous_page_section_name=1000&display_extensions%5B%5D=DATED_LTS&display_extensions%5B%5D=MONTHLY_STAYS&federated_search_id=8e5159c8-10e1-4ce2-8cc9-f88af73150c5\n"
     ]
    },
    {
     "name": "stderr",
     "output_type": "stream",
     "text": [
      "[WDM] - Current google-chrome version is 85.0.4183\n",
      "[WDM] - Get LATEST driver version for 85.0.4183\n",
      "[WDM] - Driver [/Users/jasenlo/.wdm/drivers/chromedriver/mac64/85.0.4183.87/chromedriver] found in cache\n"
     ]
    },
    {
     "name": "stdout",
     "output_type": "stream",
     "text": [
      " \n",
      "http://airbnb.com/rooms/45481308?check_in=2021-01-01&check_out=2021-04-30&previous_page_section_name=1000&display_extensions%5B%5D=MONTHLY_STAYS&display_extensions%5B%5D=DATED_LTS&federated_search_id=1a8568fb-3715-4ddf-9a3d-a86446a692b4\n"
     ]
    },
    {
     "name": "stderr",
     "output_type": "stream",
     "text": [
      "[WDM] - Current google-chrome version is 85.0.4183\n",
      "[WDM] - Get LATEST driver version for 85.0.4183\n",
      "[WDM] - Driver [/Users/jasenlo/.wdm/drivers/chromedriver/mac64/85.0.4183.87/chromedriver] found in cache\n"
     ]
    },
    {
     "name": "stdout",
     "output_type": "stream",
     "text": [
      " \n",
      "http://airbnb.com/rooms/28441365?check_in=2021-01-01&check_out=2021-04-30&previous_page_section_name=1000&display_extensions%5B%5D=MONTHLY_STAYS&display_extensions%5B%5D=DATED_LTS&federated_search_id=1a8568fb-3715-4ddf-9a3d-a86446a692b4\n"
     ]
    },
    {
     "name": "stderr",
     "output_type": "stream",
     "text": [
      "[WDM] - Current google-chrome version is 85.0.4183\n",
      "[WDM] - Get LATEST driver version for 85.0.4183\n",
      "[WDM] - Driver [/Users/jasenlo/.wdm/drivers/chromedriver/mac64/85.0.4183.87/chromedriver] found in cache\n"
     ]
    },
    {
     "name": "stdout",
     "output_type": "stream",
     "text": [
      " \n",
      "http://airbnb.com/rooms/42554845?check_in=2021-01-01&check_out=2021-04-30&previous_page_section_name=1000&display_extensions%5B%5D=MONTHLY_STAYS&display_extensions%5B%5D=DATED_LTS&federated_search_id=1a8568fb-3715-4ddf-9a3d-a86446a692b4\n"
     ]
    },
    {
     "name": "stderr",
     "output_type": "stream",
     "text": [
      "[WDM] - Current google-chrome version is 85.0.4183\n",
      "[WDM] - Get LATEST driver version for 85.0.4183\n",
      "[WDM] - Driver [/Users/jasenlo/.wdm/drivers/chromedriver/mac64/85.0.4183.87/chromedriver] found in cache\n"
     ]
    },
    {
     "name": "stdout",
     "output_type": "stream",
     "text": [
      " \n",
      "http://airbnb.com/rooms/29080921?check_in=2021-01-01&check_out=2021-04-30&previous_page_section_name=1000&display_extensions%5B%5D=MONTHLY_STAYS&display_extensions%5B%5D=DATED_LTS&federated_search_id=1a8568fb-3715-4ddf-9a3d-a86446a692b4\n"
     ]
    },
    {
     "name": "stderr",
     "output_type": "stream",
     "text": [
      "[WDM] - Current google-chrome version is 85.0.4183\n",
      "[WDM] - Get LATEST driver version for 85.0.4183\n",
      "[WDM] - Driver [/Users/jasenlo/.wdm/drivers/chromedriver/mac64/85.0.4183.87/chromedriver] found in cache\n"
     ]
    },
    {
     "name": "stdout",
     "output_type": "stream",
     "text": [
      " \n",
      "http://airbnb.com/rooms/42679514?check_in=2021-01-01&check_out=2021-04-30&previous_page_section_name=1000&display_extensions%5B%5D=MONTHLY_STAYS&display_extensions%5B%5D=DATED_LTS&federated_search_id=1a8568fb-3715-4ddf-9a3d-a86446a692b4\n"
     ]
    },
    {
     "name": "stderr",
     "output_type": "stream",
     "text": [
      "[WDM] - Current google-chrome version is 85.0.4183\n",
      "[WDM] - Get LATEST driver version for 85.0.4183\n",
      "[WDM] - Driver [/Users/jasenlo/.wdm/drivers/chromedriver/mac64/85.0.4183.87/chromedriver] found in cache\n"
     ]
    },
    {
     "name": "stdout",
     "output_type": "stream",
     "text": [
      " \n",
      "http://airbnb.com/rooms/27977715?check_in=2021-01-01&check_out=2021-04-30&previous_page_section_name=1000&display_extensions%5B%5D=MONTHLY_STAYS&display_extensions%5B%5D=DATED_LTS&federated_search_id=1a8568fb-3715-4ddf-9a3d-a86446a692b4\n"
     ]
    },
    {
     "name": "stderr",
     "output_type": "stream",
     "text": [
      "[WDM] - Current google-chrome version is 85.0.4183\n",
      "[WDM] - Get LATEST driver version for 85.0.4183\n",
      "[WDM] - Driver [/Users/jasenlo/.wdm/drivers/chromedriver/mac64/85.0.4183.87/chromedriver] found in cache\n"
     ]
    },
    {
     "name": "stdout",
     "output_type": "stream",
     "text": [
      " \n",
      "http://airbnb.com/rooms/10258745?check_in=2021-01-01&check_out=2021-04-30&previous_page_section_name=1000&display_extensions%5B%5D=MONTHLY_STAYS&display_extensions%5B%5D=DATED_LTS&federated_search_id=1a8568fb-3715-4ddf-9a3d-a86446a692b4\n"
     ]
    },
    {
     "name": "stderr",
     "output_type": "stream",
     "text": [
      "[WDM] - Current google-chrome version is 85.0.4183\n",
      "[WDM] - Get LATEST driver version for 85.0.4183\n",
      "[WDM] - Driver [/Users/jasenlo/.wdm/drivers/chromedriver/mac64/85.0.4183.87/chromedriver] found in cache\n"
     ]
    },
    {
     "name": "stdout",
     "output_type": "stream",
     "text": [
      " \n",
      "http://airbnb.com/rooms/21989943?check_in=2021-01-01&check_out=2021-04-30&previous_page_section_name=1000&display_extensions%5B%5D=MONTHLY_STAYS&display_extensions%5B%5D=DATED_LTS&federated_search_id=1a8568fb-3715-4ddf-9a3d-a86446a692b4\n"
     ]
    },
    {
     "name": "stderr",
     "output_type": "stream",
     "text": [
      "[WDM] - Current google-chrome version is 85.0.4183\n",
      "[WDM] - Get LATEST driver version for 85.0.4183\n",
      "[WDM] - Driver [/Users/jasenlo/.wdm/drivers/chromedriver/mac64/85.0.4183.87/chromedriver] found in cache\n"
     ]
    },
    {
     "name": "stdout",
     "output_type": "stream",
     "text": [
      " \n",
      "http://airbnb.com/rooms/41866753?check_in=2021-01-01&check_out=2021-04-30&previous_page_section_name=1000&display_extensions%5B%5D=MONTHLY_STAYS&display_extensions%5B%5D=DATED_LTS&federated_search_id=1a8568fb-3715-4ddf-9a3d-a86446a692b4\n"
     ]
    },
    {
     "name": "stderr",
     "output_type": "stream",
     "text": [
      "[WDM] - Current google-chrome version is 85.0.4183\n",
      "[WDM] - Get LATEST driver version for 85.0.4183\n",
      "[WDM] - Driver [/Users/jasenlo/.wdm/drivers/chromedriver/mac64/85.0.4183.87/chromedriver] found in cache\n"
     ]
    },
    {
     "name": "stdout",
     "output_type": "stream",
     "text": [
      " \n",
      "http://airbnb.com/rooms/33552429?check_in=2021-01-01&check_out=2021-04-30&previous_page_section_name=1000&display_extensions%5B%5D=MONTHLY_STAYS&display_extensions%5B%5D=DATED_LTS&federated_search_id=1a8568fb-3715-4ddf-9a3d-a86446a692b4\n"
     ]
    },
    {
     "name": "stderr",
     "output_type": "stream",
     "text": [
      "[WDM] - Current google-chrome version is 85.0.4183\n",
      "[WDM] - Get LATEST driver version for 85.0.4183\n",
      "[WDM] - Driver [/Users/jasenlo/.wdm/drivers/chromedriver/mac64/85.0.4183.87/chromedriver] found in cache\n"
     ]
    },
    {
     "name": "stdout",
     "output_type": "stream",
     "text": [
      " \n",
      "http://airbnb.com/rooms/41384006?check_in=2021-01-01&check_out=2021-04-30&previous_page_section_name=1000&display_extensions%5B%5D=MONTHLY_STAYS&display_extensions%5B%5D=DATED_LTS&federated_search_id=1a8568fb-3715-4ddf-9a3d-a86446a692b4\n"
     ]
    },
    {
     "name": "stderr",
     "output_type": "stream",
     "text": [
      "[WDM] - Current google-chrome version is 85.0.4183\n",
      "[WDM] - Get LATEST driver version for 85.0.4183\n",
      "[WDM] - Driver [/Users/jasenlo/.wdm/drivers/chromedriver/mac64/85.0.4183.87/chromedriver] found in cache\n"
     ]
    },
    {
     "name": "stdout",
     "output_type": "stream",
     "text": [
      " \n",
      "http://airbnb.com/rooms/37484782?check_in=2021-01-01&check_out=2021-04-30&previous_page_section_name=1000&display_extensions%5B%5D=MONTHLY_STAYS&display_extensions%5B%5D=DATED_LTS&federated_search_id=1a8568fb-3715-4ddf-9a3d-a86446a692b4\n"
     ]
    },
    {
     "name": "stderr",
     "output_type": "stream",
     "text": [
      "[WDM] - Current google-chrome version is 85.0.4183\n",
      "[WDM] - Get LATEST driver version for 85.0.4183\n",
      "[WDM] - Driver [/Users/jasenlo/.wdm/drivers/chromedriver/mac64/85.0.4183.87/chromedriver] found in cache\n"
     ]
    },
    {
     "name": "stdout",
     "output_type": "stream",
     "text": [
      " \n",
      "http://airbnb.com/rooms/20986378?check_in=2021-01-01&check_out=2021-04-30&previous_page_section_name=1000&display_extensions%5B%5D=MONTHLY_STAYS&display_extensions%5B%5D=DATED_LTS&federated_search_id=1a8568fb-3715-4ddf-9a3d-a86446a692b4\n"
     ]
    },
    {
     "name": "stderr",
     "output_type": "stream",
     "text": [
      "[WDM] - Current google-chrome version is 85.0.4183\n",
      "[WDM] - Get LATEST driver version for 85.0.4183\n",
      "[WDM] - Driver [/Users/jasenlo/.wdm/drivers/chromedriver/mac64/85.0.4183.87/chromedriver] found in cache\n"
     ]
    },
    {
     "name": "stdout",
     "output_type": "stream",
     "text": [
      " \n",
      "http://airbnb.com/rooms/44021920?check_in=2021-01-01&check_out=2021-04-30&previous_page_section_name=1000&display_extensions%5B%5D=MONTHLY_STAYS&display_extensions%5B%5D=DATED_LTS&federated_search_id=1a8568fb-3715-4ddf-9a3d-a86446a692b4\n"
     ]
    },
    {
     "name": "stderr",
     "output_type": "stream",
     "text": [
      "[WDM] - Current google-chrome version is 85.0.4183\n",
      "[WDM] - Get LATEST driver version for 85.0.4183\n",
      "[WDM] - Driver [/Users/jasenlo/.wdm/drivers/chromedriver/mac64/85.0.4183.87/chromedriver] found in cache\n"
     ]
    },
    {
     "name": "stdout",
     "output_type": "stream",
     "text": [
      " \n",
      "http://airbnb.com/rooms/35854713?check_in=2021-01-01&check_out=2021-04-30&previous_page_section_name=1000&display_extensions%5B%5D=MONTHLY_STAYS&display_extensions%5B%5D=DATED_LTS&federated_search_id=1a8568fb-3715-4ddf-9a3d-a86446a692b4\n"
     ]
    },
    {
     "name": "stderr",
     "output_type": "stream",
     "text": [
      "[WDM] - Current google-chrome version is 85.0.4183\n",
      "[WDM] - Get LATEST driver version for 85.0.4183\n",
      "[WDM] - Driver [/Users/jasenlo/.wdm/drivers/chromedriver/mac64/85.0.4183.87/chromedriver] found in cache\n"
     ]
    },
    {
     "name": "stdout",
     "output_type": "stream",
     "text": [
      " \n",
      "http://airbnb.com/rooms/2547726?check_in=2021-01-01&check_out=2021-04-30&previous_page_section_name=1000&display_extensions%5B%5D=MONTHLY_STAYS&display_extensions%5B%5D=DATED_LTS&federated_search_id=1a8568fb-3715-4ddf-9a3d-a86446a692b4\n"
     ]
    },
    {
     "name": "stderr",
     "output_type": "stream",
     "text": [
      "[WDM] - Current google-chrome version is 85.0.4183\n",
      "[WDM] - Get LATEST driver version for 85.0.4183\n",
      "[WDM] - Driver [/Users/jasenlo/.wdm/drivers/chromedriver/mac64/85.0.4183.87/chromedriver] found in cache\n"
     ]
    },
    {
     "name": "stdout",
     "output_type": "stream",
     "text": [
      " \n",
      "http://airbnb.com/rooms/30462802?check_in=2021-01-01&check_out=2021-04-30&previous_page_section_name=1000&display_extensions%5B%5D=MONTHLY_STAYS&display_extensions%5B%5D=DATED_LTS&federated_search_id=1a8568fb-3715-4ddf-9a3d-a86446a692b4\n"
     ]
    },
    {
     "name": "stderr",
     "output_type": "stream",
     "text": [
      "[WDM] - Current google-chrome version is 85.0.4183\n",
      "[WDM] - Get LATEST driver version for 85.0.4183\n",
      "[WDM] - Driver [/Users/jasenlo/.wdm/drivers/chromedriver/mac64/85.0.4183.87/chromedriver] found in cache\n"
     ]
    },
    {
     "name": "stdout",
     "output_type": "stream",
     "text": [
      " \n",
      "http://airbnb.com/rooms/45501537?check_in=2021-01-01&check_out=2021-04-30&previous_page_section_name=1000&display_extensions%5B%5D=MONTHLY_STAYS&display_extensions%5B%5D=DATED_LTS&federated_search_id=4f818d7b-f203-44da-a256-766ee47f0301\n"
     ]
    },
    {
     "name": "stderr",
     "output_type": "stream",
     "text": [
      "[WDM] - Current google-chrome version is 85.0.4183\n",
      "[WDM] - Get LATEST driver version for 85.0.4183\n",
      "[WDM] - Driver [/Users/jasenlo/.wdm/drivers/chromedriver/mac64/85.0.4183.87/chromedriver] found in cache\n"
     ]
    },
    {
     "name": "stdout",
     "output_type": "stream",
     "text": [
      " \n",
      "http://airbnb.com/rooms/42554845?check_in=2021-01-01&check_out=2021-04-30&previous_page_section_name=1000&display_extensions%5B%5D=MONTHLY_STAYS&display_extensions%5B%5D=DATED_LTS&federated_search_id=4f818d7b-f203-44da-a256-766ee47f0301\n"
     ]
    },
    {
     "name": "stderr",
     "output_type": "stream",
     "text": [
      "[WDM] - Current google-chrome version is 85.0.4183\n",
      "[WDM] - Get LATEST driver version for 85.0.4183\n",
      "[WDM] - Driver [/Users/jasenlo/.wdm/drivers/chromedriver/mac64/85.0.4183.87/chromedriver] found in cache\n"
     ]
    },
    {
     "name": "stdout",
     "output_type": "stream",
     "text": [
      " \n",
      "http://airbnb.com/rooms/39142829?check_in=2021-01-01&check_out=2021-04-30&previous_page_section_name=1000&display_extensions%5B%5D=MONTHLY_STAYS&display_extensions%5B%5D=DATED_LTS&federated_search_id=4f818d7b-f203-44da-a256-766ee47f0301\n"
     ]
    },
    {
     "name": "stderr",
     "output_type": "stream",
     "text": [
      "[WDM] - Current google-chrome version is 85.0.4183\n",
      "[WDM] - Get LATEST driver version for 85.0.4183\n",
      "[WDM] - Driver [/Users/jasenlo/.wdm/drivers/chromedriver/mac64/85.0.4183.87/chromedriver] found in cache\n"
     ]
    },
    {
     "name": "stdout",
     "output_type": "stream",
     "text": [
      " \n",
      "http://airbnb.com/rooms/42027485?check_in=2021-01-01&check_out=2021-04-30&previous_page_section_name=1000&display_extensions%5B%5D=MONTHLY_STAYS&display_extensions%5B%5D=DATED_LTS&federated_search_id=4f818d7b-f203-44da-a256-766ee47f0301\n"
     ]
    },
    {
     "name": "stderr",
     "output_type": "stream",
     "text": [
      "[WDM] - Current google-chrome version is 85.0.4183\n",
      "[WDM] - Get LATEST driver version for 85.0.4183\n",
      "[WDM] - Driver [/Users/jasenlo/.wdm/drivers/chromedriver/mac64/85.0.4183.87/chromedriver] found in cache\n"
     ]
    },
    {
     "name": "stdout",
     "output_type": "stream",
     "text": [
      " \n",
      "http://airbnb.com/rooms/18496701?check_in=2021-01-01&check_out=2021-04-30&previous_page_section_name=1000&display_extensions%5B%5D=MONTHLY_STAYS&display_extensions%5B%5D=DATED_LTS&federated_search_id=4f818d7b-f203-44da-a256-766ee47f0301\n"
     ]
    },
    {
     "name": "stderr",
     "output_type": "stream",
     "text": [
      "[WDM] - Current google-chrome version is 85.0.4183\n",
      "[WDM] - Get LATEST driver version for 85.0.4183\n",
      "[WDM] - Driver [/Users/jasenlo/.wdm/drivers/chromedriver/mac64/85.0.4183.87/chromedriver] found in cache\n"
     ]
    },
    {
     "name": "stdout",
     "output_type": "stream",
     "text": [
      " \n",
      "http://airbnb.com/rooms/30644420?check_in=2021-01-01&check_out=2021-04-30&previous_page_section_name=1000&display_extensions%5B%5D=MONTHLY_STAYS&display_extensions%5B%5D=DATED_LTS&federated_search_id=4f818d7b-f203-44da-a256-766ee47f0301\n"
     ]
    },
    {
     "name": "stderr",
     "output_type": "stream",
     "text": [
      "[WDM] - Current google-chrome version is 85.0.4183\n",
      "[WDM] - Get LATEST driver version for 85.0.4183\n",
      "[WDM] - Driver [/Users/jasenlo/.wdm/drivers/chromedriver/mac64/85.0.4183.87/chromedriver] found in cache\n"
     ]
    },
    {
     "name": "stdout",
     "output_type": "stream",
     "text": [
      " \n",
      "http://airbnb.com/rooms/31270094?check_in=2021-01-01&check_out=2021-04-30&previous_page_section_name=1000&display_extensions%5B%5D=MONTHLY_STAYS&display_extensions%5B%5D=DATED_LTS&federated_search_id=4f818d7b-f203-44da-a256-766ee47f0301\n"
     ]
    },
    {
     "name": "stderr",
     "output_type": "stream",
     "text": [
      "[WDM] - Current google-chrome version is 85.0.4183\n",
      "[WDM] - Get LATEST driver version for 85.0.4183\n",
      "[WDM] - Driver [/Users/jasenlo/.wdm/drivers/chromedriver/mac64/85.0.4183.87/chromedriver] found in cache\n"
     ]
    },
    {
     "name": "stdout",
     "output_type": "stream",
     "text": [
      " \n",
      "http://airbnb.com/rooms/41052466?check_in=2021-01-01&check_out=2021-04-30&previous_page_section_name=1000&display_extensions%5B%5D=MONTHLY_STAYS&display_extensions%5B%5D=DATED_LTS&federated_search_id=4f818d7b-f203-44da-a256-766ee47f0301\n"
     ]
    },
    {
     "name": "stderr",
     "output_type": "stream",
     "text": [
      "[WDM] - Current google-chrome version is 85.0.4183\n",
      "[WDM] - Get LATEST driver version for 85.0.4183\n",
      "[WDM] - Driver [/Users/jasenlo/.wdm/drivers/chromedriver/mac64/85.0.4183.87/chromedriver] found in cache\n"
     ]
    },
    {
     "name": "stdout",
     "output_type": "stream",
     "text": [
      " \n",
      "http://airbnb.com/rooms/32954711?check_in=2021-01-01&check_out=2021-04-30&previous_page_section_name=1000&display_extensions%5B%5D=MONTHLY_STAYS&display_extensions%5B%5D=DATED_LTS&federated_search_id=4f818d7b-f203-44da-a256-766ee47f0301\n"
     ]
    },
    {
     "name": "stderr",
     "output_type": "stream",
     "text": [
      "[WDM] - Current google-chrome version is 85.0.4183\n",
      "[WDM] - Get LATEST driver version for 85.0.4183\n",
      "[WDM] - Driver [/Users/jasenlo/.wdm/drivers/chromedriver/mac64/85.0.4183.87/chromedriver] found in cache\n"
     ]
    },
    {
     "name": "stdout",
     "output_type": "stream",
     "text": [
      " \n",
      "http://airbnb.com/rooms/32825835?check_in=2021-01-01&check_out=2021-04-30&previous_page_section_name=1000&display_extensions%5B%5D=MONTHLY_STAYS&display_extensions%5B%5D=DATED_LTS&federated_search_id=4f818d7b-f203-44da-a256-766ee47f0301\n"
     ]
    },
    {
     "name": "stderr",
     "output_type": "stream",
     "text": [
      "[WDM] - Current google-chrome version is 85.0.4183\n",
      "[WDM] - Get LATEST driver version for 85.0.4183\n",
      "[WDM] - Driver [/Users/jasenlo/.wdm/drivers/chromedriver/mac64/85.0.4183.87/chromedriver] found in cache\n"
     ]
    },
    {
     "name": "stdout",
     "output_type": "stream",
     "text": [
      " \n",
      "http://airbnb.com/rooms/45462974?check_in=2021-01-01&check_out=2021-04-30&previous_page_section_name=1000&display_extensions%5B%5D=MONTHLY_STAYS&display_extensions%5B%5D=DATED_LTS&federated_search_id=4f818d7b-f203-44da-a256-766ee47f0301\n"
     ]
    },
    {
     "name": "stderr",
     "output_type": "stream",
     "text": [
      "[WDM] - Current google-chrome version is 85.0.4183\n",
      "[WDM] - Get LATEST driver version for 85.0.4183\n",
      "[WDM] - Driver [/Users/jasenlo/.wdm/drivers/chromedriver/mac64/85.0.4183.87/chromedriver] found in cache\n"
     ]
    },
    {
     "name": "stdout",
     "output_type": "stream",
     "text": [
      " \n",
      "http://airbnb.com/rooms/38585750?check_in=2021-01-01&check_out=2021-04-30&previous_page_section_name=1000&display_extensions%5B%5D=MONTHLY_STAYS&display_extensions%5B%5D=DATED_LTS&federated_search_id=4f818d7b-f203-44da-a256-766ee47f0301\n"
     ]
    },
    {
     "name": "stderr",
     "output_type": "stream",
     "text": [
      "[WDM] - Current google-chrome version is 85.0.4183\n",
      "[WDM] - Get LATEST driver version for 85.0.4183\n",
      "[WDM] - Driver [/Users/jasenlo/.wdm/drivers/chromedriver/mac64/85.0.4183.87/chromedriver] found in cache\n"
     ]
    },
    {
     "name": "stdout",
     "output_type": "stream",
     "text": [
      " \n",
      "http://airbnb.com/rooms/43334657?check_in=2021-01-01&check_out=2021-04-30&previous_page_section_name=1000&display_extensions%5B%5D=MONTHLY_STAYS&display_extensions%5B%5D=DATED_LTS&federated_search_id=4f818d7b-f203-44da-a256-766ee47f0301\n"
     ]
    },
    {
     "name": "stderr",
     "output_type": "stream",
     "text": [
      "[WDM] - Current google-chrome version is 85.0.4183\n",
      "[WDM] - Get LATEST driver version for 85.0.4183\n",
      "[WDM] - Driver [/Users/jasenlo/.wdm/drivers/chromedriver/mac64/85.0.4183.87/chromedriver] found in cache\n"
     ]
    },
    {
     "name": "stdout",
     "output_type": "stream",
     "text": [
      " \n",
      "http://airbnb.com/rooms/44981184?check_in=2021-01-01&check_out=2021-04-30&previous_page_section_name=1000&display_extensions%5B%5D=MONTHLY_STAYS&display_extensions%5B%5D=DATED_LTS&federated_search_id=4f818d7b-f203-44da-a256-766ee47f0301\n"
     ]
    },
    {
     "name": "stderr",
     "output_type": "stream",
     "text": [
      "[WDM] - Current google-chrome version is 85.0.4183\n",
      "[WDM] - Get LATEST driver version for 85.0.4183\n",
      "[WDM] - Driver [/Users/jasenlo/.wdm/drivers/chromedriver/mac64/85.0.4183.87/chromedriver] found in cache\n"
     ]
    },
    {
     "name": "stdout",
     "output_type": "stream",
     "text": [
      " \n",
      "http://airbnb.com/rooms/14478135?check_in=2021-01-01&check_out=2021-04-30&previous_page_section_name=1000&display_extensions%5B%5D=MONTHLY_STAYS&display_extensions%5B%5D=DATED_LTS&federated_search_id=4f818d7b-f203-44da-a256-766ee47f0301\n"
     ]
    },
    {
     "name": "stderr",
     "output_type": "stream",
     "text": [
      "[WDM] - Current google-chrome version is 85.0.4183\n",
      "[WDM] - Get LATEST driver version for 85.0.4183\n",
      "[WDM] - Driver [/Users/jasenlo/.wdm/drivers/chromedriver/mac64/85.0.4183.87/chromedriver] found in cache\n"
     ]
    },
    {
     "name": "stdout",
     "output_type": "stream",
     "text": [
      " \n",
      "http://airbnb.com/rooms/31860097?check_in=2021-01-01&check_out=2021-04-30&previous_page_section_name=1000&display_extensions%5B%5D=MONTHLY_STAYS&display_extensions%5B%5D=DATED_LTS&federated_search_id=4f818d7b-f203-44da-a256-766ee47f0301\n"
     ]
    },
    {
     "name": "stderr",
     "output_type": "stream",
     "text": [
      "[WDM] - Current google-chrome version is 85.0.4183\n",
      "[WDM] - Get LATEST driver version for 85.0.4183\n",
      "[WDM] - Driver [/Users/jasenlo/.wdm/drivers/chromedriver/mac64/85.0.4183.87/chromedriver] found in cache\n"
     ]
    },
    {
     "name": "stdout",
     "output_type": "stream",
     "text": [
      " \n",
      "http://airbnb.com/rooms/20543389?check_in=2021-01-01&check_out=2021-04-30&previous_page_section_name=1000&display_extensions%5B%5D=MONTHLY_STAYS&display_extensions%5B%5D=DATED_LTS&federated_search_id=aaffabb7-ef79-43cd-a42c-8ee5f9cbba39\n"
     ]
    },
    {
     "name": "stderr",
     "output_type": "stream",
     "text": [
      "[WDM] - Current google-chrome version is 85.0.4183\n",
      "[WDM] - Get LATEST driver version for 85.0.4183\n",
      "[WDM] - Driver [/Users/jasenlo/.wdm/drivers/chromedriver/mac64/85.0.4183.87/chromedriver] found in cache\n"
     ]
    },
    {
     "name": "stdout",
     "output_type": "stream",
     "text": [
      " \n",
      "http://airbnb.com/rooms/27977715?check_in=2021-01-01&check_out=2021-04-30&previous_page_section_name=1000&display_extensions%5B%5D=MONTHLY_STAYS&display_extensions%5B%5D=DATED_LTS&federated_search_id=aaffabb7-ef79-43cd-a42c-8ee5f9cbba39\n"
     ]
    },
    {
     "name": "stderr",
     "output_type": "stream",
     "text": [
      "[WDM] - Current google-chrome version is 85.0.4183\n",
      "[WDM] - Get LATEST driver version for 85.0.4183\n",
      "[WDM] - Driver [/Users/jasenlo/.wdm/drivers/chromedriver/mac64/85.0.4183.87/chromedriver] found in cache\n"
     ]
    },
    {
     "name": "stdout",
     "output_type": "stream",
     "text": [
      " \n",
      "http://airbnb.com/rooms/9624015?check_in=2021-01-01&check_out=2021-04-30&previous_page_section_name=1000&display_extensions%5B%5D=MONTHLY_STAYS&display_extensions%5B%5D=DATED_LTS&federated_search_id=aaffabb7-ef79-43cd-a42c-8ee5f9cbba39\n"
     ]
    },
    {
     "name": "stderr",
     "output_type": "stream",
     "text": [
      "[WDM] - Current google-chrome version is 85.0.4183\n",
      "[WDM] - Get LATEST driver version for 85.0.4183\n",
      "[WDM] - Driver [/Users/jasenlo/.wdm/drivers/chromedriver/mac64/85.0.4183.87/chromedriver] found in cache\n"
     ]
    },
    {
     "name": "stdout",
     "output_type": "stream",
     "text": [
      " \n",
      "http://airbnb.com/rooms/30943989?check_in=2021-01-01&check_out=2021-04-30&previous_page_section_name=1000&display_extensions%5B%5D=MONTHLY_STAYS&display_extensions%5B%5D=DATED_LTS&federated_search_id=aaffabb7-ef79-43cd-a42c-8ee5f9cbba39\n"
     ]
    },
    {
     "name": "stderr",
     "output_type": "stream",
     "text": [
      "[WDM] - Current google-chrome version is 85.0.4183\n",
      "[WDM] - Get LATEST driver version for 85.0.4183\n",
      "[WDM] - Driver [/Users/jasenlo/.wdm/drivers/chromedriver/mac64/85.0.4183.87/chromedriver] found in cache\n"
     ]
    },
    {
     "name": "stdout",
     "output_type": "stream",
     "text": [
      " \n",
      "http://airbnb.com/rooms/40684527?check_in=2021-01-01&check_out=2021-04-30&previous_page_section_name=1000&display_extensions%5B%5D=MONTHLY_STAYS&display_extensions%5B%5D=DATED_LTS&federated_search_id=aaffabb7-ef79-43cd-a42c-8ee5f9cbba39\n"
     ]
    },
    {
     "name": "stderr",
     "output_type": "stream",
     "text": [
      "[WDM] - Current google-chrome version is 85.0.4183\n",
      "[WDM] - Get LATEST driver version for 85.0.4183\n",
      "[WDM] - Driver [/Users/jasenlo/.wdm/drivers/chromedriver/mac64/85.0.4183.87/chromedriver] found in cache\n"
     ]
    },
    {
     "name": "stdout",
     "output_type": "stream",
     "text": [
      " \n",
      "http://airbnb.com/rooms/24909702?check_in=2021-01-01&check_out=2021-04-30&previous_page_section_name=1000&display_extensions%5B%5D=MONTHLY_STAYS&display_extensions%5B%5D=DATED_LTS&federated_search_id=aaffabb7-ef79-43cd-a42c-8ee5f9cbba39\n"
     ]
    },
    {
     "name": "stderr",
     "output_type": "stream",
     "text": [
      "[WDM] - Current google-chrome version is 85.0.4183\n",
      "[WDM] - Get LATEST driver version for 85.0.4183\n",
      "[WDM] - Driver [/Users/jasenlo/.wdm/drivers/chromedriver/mac64/85.0.4183.87/chromedriver] found in cache\n"
     ]
    },
    {
     "name": "stdout",
     "output_type": "stream",
     "text": [
      " \n",
      "http://airbnb.com/rooms/40383145?check_in=2021-01-01&check_out=2021-04-30&previous_page_section_name=1000&display_extensions%5B%5D=MONTHLY_STAYS&display_extensions%5B%5D=DATED_LTS&federated_search_id=aaffabb7-ef79-43cd-a42c-8ee5f9cbba39\n"
     ]
    },
    {
     "name": "stderr",
     "output_type": "stream",
     "text": [
      "[WDM] - Current google-chrome version is 85.0.4183\n",
      "[WDM] - Get LATEST driver version for 85.0.4183\n",
      "[WDM] - Driver [/Users/jasenlo/.wdm/drivers/chromedriver/mac64/85.0.4183.87/chromedriver] found in cache\n"
     ]
    },
    {
     "name": "stdout",
     "output_type": "stream",
     "text": [
      " \n",
      "http://airbnb.com/rooms/44974563?check_in=2021-01-01&check_out=2021-04-30&previous_page_section_name=1000&display_extensions%5B%5D=MONTHLY_STAYS&display_extensions%5B%5D=DATED_LTS&federated_search_id=aaffabb7-ef79-43cd-a42c-8ee5f9cbba39\n"
     ]
    },
    {
     "name": "stderr",
     "output_type": "stream",
     "text": [
      "[WDM] - Current google-chrome version is 85.0.4183\n",
      "[WDM] - Get LATEST driver version for 85.0.4183\n",
      "[WDM] - Driver [/Users/jasenlo/.wdm/drivers/chromedriver/mac64/85.0.4183.87/chromedriver] found in cache\n"
     ]
    },
    {
     "name": "stdout",
     "output_type": "stream",
     "text": [
      " \n",
      "http://airbnb.com/rooms/11284669?check_in=2021-01-01&check_out=2021-04-30&previous_page_section_name=1000&display_extensions%5B%5D=MONTHLY_STAYS&display_extensions%5B%5D=DATED_LTS&federated_search_id=aaffabb7-ef79-43cd-a42c-8ee5f9cbba39\n"
     ]
    },
    {
     "name": "stderr",
     "output_type": "stream",
     "text": [
      "[WDM] - Current google-chrome version is 85.0.4183\n",
      "[WDM] - Get LATEST driver version for 85.0.4183\n",
      "[WDM] - Driver [/Users/jasenlo/.wdm/drivers/chromedriver/mac64/85.0.4183.87/chromedriver] found in cache\n"
     ]
    },
    {
     "name": "stdout",
     "output_type": "stream",
     "text": [
      " \n",
      "http://airbnb.com/rooms/30676239?check_in=2021-01-01&check_out=2021-04-30&previous_page_section_name=1000&display_extensions%5B%5D=MONTHLY_STAYS&display_extensions%5B%5D=DATED_LTS&federated_search_id=aaffabb7-ef79-43cd-a42c-8ee5f9cbba39\n"
     ]
    },
    {
     "name": "stderr",
     "output_type": "stream",
     "text": [
      "[WDM] - Current google-chrome version is 85.0.4183\n",
      "[WDM] - Get LATEST driver version for 85.0.4183\n",
      "[WDM] - Driver [/Users/jasenlo/.wdm/drivers/chromedriver/mac64/85.0.4183.87/chromedriver] found in cache\n"
     ]
    },
    {
     "name": "stdout",
     "output_type": "stream",
     "text": [
      " \n",
      "http://airbnb.com/rooms/33899247?check_in=2021-01-01&check_out=2021-04-30&previous_page_section_name=1000&display_extensions%5B%5D=MONTHLY_STAYS&display_extensions%5B%5D=DATED_LTS&federated_search_id=aaffabb7-ef79-43cd-a42c-8ee5f9cbba39\n"
     ]
    },
    {
     "name": "stderr",
     "output_type": "stream",
     "text": [
      "[WDM] - Current google-chrome version is 85.0.4183\n",
      "[WDM] - Get LATEST driver version for 85.0.4183\n",
      "[WDM] - Driver [/Users/jasenlo/.wdm/drivers/chromedriver/mac64/85.0.4183.87/chromedriver] found in cache\n"
     ]
    },
    {
     "name": "stdout",
     "output_type": "stream",
     "text": [
      " \n",
      "http://airbnb.com/rooms/44994548?check_in=2021-01-01&check_out=2021-04-30&previous_page_section_name=1000&display_extensions%5B%5D=MONTHLY_STAYS&display_extensions%5B%5D=DATED_LTS&federated_search_id=aaffabb7-ef79-43cd-a42c-8ee5f9cbba39\n"
     ]
    },
    {
     "name": "stderr",
     "output_type": "stream",
     "text": [
      "[WDM] - Current google-chrome version is 85.0.4183\n",
      "[WDM] - Get LATEST driver version for 85.0.4183\n",
      "[WDM] - Driver [/Users/jasenlo/.wdm/drivers/chromedriver/mac64/85.0.4183.87/chromedriver] found in cache\n"
     ]
    },
    {
     "name": "stdout",
     "output_type": "stream",
     "text": [
      " \n",
      "http://airbnb.com/rooms/953912?check_in=2021-01-01&check_out=2021-04-30&previous_page_section_name=1000&display_extensions%5B%5D=MONTHLY_STAYS&display_extensions%5B%5D=DATED_LTS&federated_search_id=aaffabb7-ef79-43cd-a42c-8ee5f9cbba39\n"
     ]
    },
    {
     "name": "stderr",
     "output_type": "stream",
     "text": [
      "[WDM] - Current google-chrome version is 85.0.4183\n",
      "[WDM] - Get LATEST driver version for 85.0.4183\n",
      "[WDM] - Driver [/Users/jasenlo/.wdm/drivers/chromedriver/mac64/85.0.4183.87/chromedriver] found in cache\n"
     ]
    },
    {
     "name": "stdout",
     "output_type": "stream",
     "text": [
      " \n",
      "http://airbnb.com/rooms/13161563?check_in=2021-01-01&check_out=2021-04-30&previous_page_section_name=1000&display_extensions%5B%5D=MONTHLY_STAYS&display_extensions%5B%5D=DATED_LTS&federated_search_id=aaffabb7-ef79-43cd-a42c-8ee5f9cbba39\n"
     ]
    },
    {
     "name": "stderr",
     "output_type": "stream",
     "text": [
      "[WDM] - Current google-chrome version is 85.0.4183\n",
      "[WDM] - Get LATEST driver version for 85.0.4183\n",
      "[WDM] - Driver [/Users/jasenlo/.wdm/drivers/chromedriver/mac64/85.0.4183.87/chromedriver] found in cache\n"
     ]
    },
    {
     "name": "stdout",
     "output_type": "stream",
     "text": [
      " \n",
      "http://airbnb.com/rooms/45498281?check_in=2021-01-01&check_out=2021-04-30&previous_page_section_name=1000&display_extensions%5B%5D=MONTHLY_STAYS&display_extensions%5B%5D=DATED_LTS&federated_search_id=376f6326-842a-4164-8d6a-096adf64e95b\n"
     ]
    },
    {
     "name": "stderr",
     "output_type": "stream",
     "text": [
      "[WDM] - Current google-chrome version is 85.0.4183\n",
      "[WDM] - Get LATEST driver version for 85.0.4183\n",
      "[WDM] - Driver [/Users/jasenlo/.wdm/drivers/chromedriver/mac64/85.0.4183.87/chromedriver] found in cache\n"
     ]
    },
    {
     "name": "stdout",
     "output_type": "stream",
     "text": [
      " \n",
      "http://airbnb.com/rooms/40741108?check_in=2021-01-01&check_out=2021-04-30&previous_page_section_name=1000&display_extensions%5B%5D=MONTHLY_STAYS&display_extensions%5B%5D=DATED_LTS&federated_search_id=376f6326-842a-4164-8d6a-096adf64e95b\n"
     ]
    },
    {
     "name": "stderr",
     "output_type": "stream",
     "text": [
      "[WDM] - Current google-chrome version is 85.0.4183\n",
      "[WDM] - Get LATEST driver version for 85.0.4183\n",
      "[WDM] - Driver [/Users/jasenlo/.wdm/drivers/chromedriver/mac64/85.0.4183.87/chromedriver] found in cache\n"
     ]
    },
    {
     "name": "stdout",
     "output_type": "stream",
     "text": [
      " \n",
      "http://airbnb.com/rooms/14506658?check_in=2021-01-01&check_out=2021-04-30&previous_page_section_name=1000&display_extensions%5B%5D=MONTHLY_STAYS&display_extensions%5B%5D=DATED_LTS&federated_search_id=376f6326-842a-4164-8d6a-096adf64e95b\n"
     ]
    },
    {
     "name": "stderr",
     "output_type": "stream",
     "text": [
      "[WDM] - Current google-chrome version is 85.0.4183\n",
      "[WDM] - Get LATEST driver version for 85.0.4183\n",
      "[WDM] - Driver [/Users/jasenlo/.wdm/drivers/chromedriver/mac64/85.0.4183.87/chromedriver] found in cache\n"
     ]
    },
    {
     "name": "stdout",
     "output_type": "stream",
     "text": [
      " \n",
      "http://airbnb.com/rooms/37127691?check_in=2021-01-01&check_out=2021-04-30&previous_page_section_name=1000&display_extensions%5B%5D=MONTHLY_STAYS&display_extensions%5B%5D=DATED_LTS&federated_search_id=376f6326-842a-4164-8d6a-096adf64e95b\n"
     ]
    },
    {
     "name": "stderr",
     "output_type": "stream",
     "text": [
      "[WDM] - Current google-chrome version is 85.0.4183\n",
      "[WDM] - Get LATEST driver version for 85.0.4183\n",
      "[WDM] - Driver [/Users/jasenlo/.wdm/drivers/chromedriver/mac64/85.0.4183.87/chromedriver] found in cache\n"
     ]
    },
    {
     "name": "stdout",
     "output_type": "stream",
     "text": [
      " \n",
      "http://airbnb.com/rooms/17838545?check_in=2021-01-01&check_out=2021-04-30&previous_page_section_name=1000&display_extensions%5B%5D=MONTHLY_STAYS&display_extensions%5B%5D=DATED_LTS&federated_search_id=376f6326-842a-4164-8d6a-096adf64e95b\n"
     ]
    },
    {
     "name": "stderr",
     "output_type": "stream",
     "text": [
      "[WDM] - Current google-chrome version is 85.0.4183\n",
      "[WDM] - Get LATEST driver version for 85.0.4183\n",
      "[WDM] - Driver [/Users/jasenlo/.wdm/drivers/chromedriver/mac64/85.0.4183.87/chromedriver] found in cache\n"
     ]
    },
    {
     "name": "stdout",
     "output_type": "stream",
     "text": [
      " \n",
      "http://airbnb.com/rooms/23188713?check_in=2021-01-01&check_out=2021-04-30&previous_page_section_name=1000&display_extensions%5B%5D=MONTHLY_STAYS&display_extensions%5B%5D=DATED_LTS&federated_search_id=376f6326-842a-4164-8d6a-096adf64e95b\n"
     ]
    },
    {
     "name": "stderr",
     "output_type": "stream",
     "text": [
      "[WDM] - Current google-chrome version is 85.0.4183\n",
      "[WDM] - Get LATEST driver version for 85.0.4183\n",
      "[WDM] - Driver [/Users/jasenlo/.wdm/drivers/chromedriver/mac64/85.0.4183.87/chromedriver] found in cache\n"
     ]
    },
    {
     "name": "stdout",
     "output_type": "stream",
     "text": [
      " \n",
      "http://airbnb.com/rooms/33858426?check_in=2021-01-01&check_out=2021-04-30&previous_page_section_name=1000&display_extensions%5B%5D=MONTHLY_STAYS&display_extensions%5B%5D=DATED_LTS&federated_search_id=376f6326-842a-4164-8d6a-096adf64e95b\n"
     ]
    },
    {
     "name": "stderr",
     "output_type": "stream",
     "text": [
      "[WDM] - Current google-chrome version is 85.0.4183\n",
      "[WDM] - Get LATEST driver version for 85.0.4183\n",
      "[WDM] - Driver [/Users/jasenlo/.wdm/drivers/chromedriver/mac64/85.0.4183.87/chromedriver] found in cache\n"
     ]
    },
    {
     "name": "stdout",
     "output_type": "stream",
     "text": [
      " \n",
      "http://airbnb.com/rooms/39430309?check_in=2021-01-01&check_out=2021-04-30&previous_page_section_name=1000&display_extensions%5B%5D=MONTHLY_STAYS&display_extensions%5B%5D=DATED_LTS&federated_search_id=376f6326-842a-4164-8d6a-096adf64e95b\n"
     ]
    },
    {
     "name": "stderr",
     "output_type": "stream",
     "text": [
      "[WDM] - Current google-chrome version is 85.0.4183\n",
      "[WDM] - Get LATEST driver version for 85.0.4183\n",
      "[WDM] - Driver [/Users/jasenlo/.wdm/drivers/chromedriver/mac64/85.0.4183.87/chromedriver] found in cache\n"
     ]
    },
    {
     "name": "stdout",
     "output_type": "stream",
     "text": [
      " \n",
      "http://airbnb.com/rooms/36390092?check_in=2021-01-01&check_out=2021-04-30&previous_page_section_name=1000&display_extensions%5B%5D=MONTHLY_STAYS&display_extensions%5B%5D=DATED_LTS&federated_search_id=376f6326-842a-4164-8d6a-096adf64e95b\n"
     ]
    },
    {
     "name": "stderr",
     "output_type": "stream",
     "text": [
      "[WDM] - Current google-chrome version is 85.0.4183\n",
      "[WDM] - Get LATEST driver version for 85.0.4183\n",
      "[WDM] - Driver [/Users/jasenlo/.wdm/drivers/chromedriver/mac64/85.0.4183.87/chromedriver] found in cache\n"
     ]
    },
    {
     "name": "stdout",
     "output_type": "stream",
     "text": [
      " \n",
      "http://airbnb.com/rooms/10107519?check_in=2021-01-01&check_out=2021-04-30&previous_page_section_name=1000&display_extensions%5B%5D=MONTHLY_STAYS&display_extensions%5B%5D=DATED_LTS&federated_search_id=376f6326-842a-4164-8d6a-096adf64e95b\n"
     ]
    },
    {
     "name": "stderr",
     "output_type": "stream",
     "text": [
      "[WDM] - Current google-chrome version is 85.0.4183\n",
      "[WDM] - Get LATEST driver version for 85.0.4183\n",
      "[WDM] - Driver [/Users/jasenlo/.wdm/drivers/chromedriver/mac64/85.0.4183.87/chromedriver] found in cache\n"
     ]
    },
    {
     "name": "stdout",
     "output_type": "stream",
     "text": [
      " \n",
      "http://airbnb.com/rooms/20920815?check_in=2021-01-01&check_out=2021-04-30&previous_page_section_name=1000&display_extensions%5B%5D=MONTHLY_STAYS&display_extensions%5B%5D=DATED_LTS&federated_search_id=376f6326-842a-4164-8d6a-096adf64e95b\n"
     ]
    },
    {
     "name": "stderr",
     "output_type": "stream",
     "text": [
      "[WDM] - Current google-chrome version is 85.0.4183\n",
      "[WDM] - Get LATEST driver version for 85.0.4183\n",
      "[WDM] - Driver [/Users/jasenlo/.wdm/drivers/chromedriver/mac64/85.0.4183.87/chromedriver] found in cache\n"
     ]
    },
    {
     "name": "stdout",
     "output_type": "stream",
     "text": [
      " \n",
      "http://airbnb.com/rooms/20986378?check_in=2021-01-01&check_out=2021-04-30&previous_page_section_name=1000&display_extensions%5B%5D=MONTHLY_STAYS&display_extensions%5B%5D=DATED_LTS&federated_search_id=376f6326-842a-4164-8d6a-096adf64e95b\n"
     ]
    },
    {
     "name": "stderr",
     "output_type": "stream",
     "text": [
      "[WDM] - Current google-chrome version is 85.0.4183\n",
      "[WDM] - Get LATEST driver version for 85.0.4183\n",
      "[WDM] - Driver [/Users/jasenlo/.wdm/drivers/chromedriver/mac64/85.0.4183.87/chromedriver] found in cache\n"
     ]
    },
    {
     "name": "stdout",
     "output_type": "stream",
     "text": [
      " \n",
      "http://airbnb.com/rooms/30999513?check_in=2021-01-01&check_out=2021-04-30&previous_page_section_name=1000&display_extensions%5B%5D=MONTHLY_STAYS&display_extensions%5B%5D=DATED_LTS&federated_search_id=376f6326-842a-4164-8d6a-096adf64e95b\n"
     ]
    },
    {
     "name": "stderr",
     "output_type": "stream",
     "text": [
      "[WDM] - Current google-chrome version is 85.0.4183\n",
      "[WDM] - Get LATEST driver version for 85.0.4183\n",
      "[WDM] - Driver [/Users/jasenlo/.wdm/drivers/chromedriver/mac64/85.0.4183.87/chromedriver] found in cache\n"
     ]
    },
    {
     "name": "stdout",
     "output_type": "stream",
     "text": [
      " \n",
      "http://airbnb.com/rooms/44400387?check_in=2021-01-01&check_out=2021-04-30&previous_page_section_name=1000&display_extensions%5B%5D=MONTHLY_STAYS&display_extensions%5B%5D=DATED_LTS&federated_search_id=376f6326-842a-4164-8d6a-096adf64e95b\n"
     ]
    },
    {
     "name": "stderr",
     "output_type": "stream",
     "text": [
      "[WDM] - Current google-chrome version is 85.0.4183\n",
      "[WDM] - Get LATEST driver version for 85.0.4183\n",
      "[WDM] - Driver [/Users/jasenlo/.wdm/drivers/chromedriver/mac64/85.0.4183.87/chromedriver] found in cache\n"
     ]
    },
    {
     "name": "stdout",
     "output_type": "stream",
     "text": [
      " \n",
      "http://airbnb.com/rooms/44740765?check_in=2021-01-01&check_out=2021-04-30&previous_page_section_name=1000&display_extensions%5B%5D=MONTHLY_STAYS&display_extensions%5B%5D=DATED_LTS&federated_search_id=376f6326-842a-4164-8d6a-096adf64e95b\n"
     ]
    },
    {
     "name": "stderr",
     "output_type": "stream",
     "text": [
      "[WDM] - Current google-chrome version is 85.0.4183\n",
      "[WDM] - Get LATEST driver version for 85.0.4183\n",
      "[WDM] - Driver [/Users/jasenlo/.wdm/drivers/chromedriver/mac64/85.0.4183.87/chromedriver] found in cache\n"
     ]
    },
    {
     "name": "stdout",
     "output_type": "stream",
     "text": [
      " \n",
      "http://airbnb.com/rooms/45534685?check_in=2021-01-01&check_out=2021-04-30&previous_page_section_name=1000&display_extensions%5B%5D=MONTHLY_STAYS&display_extensions%5B%5D=DATED_LTS&federated_search_id=376f6326-842a-4164-8d6a-096adf64e95b\n"
     ]
    },
    {
     "name": "stderr",
     "output_type": "stream",
     "text": [
      "[WDM] - Current google-chrome version is 85.0.4183\n",
      "[WDM] - Get LATEST driver version for 85.0.4183\n",
      "[WDM] - Driver [/Users/jasenlo/.wdm/drivers/chromedriver/mac64/85.0.4183.87/chromedriver] found in cache\n"
     ]
    },
    {
     "name": "stdout",
     "output_type": "stream",
     "text": [
      " \n",
      "http://airbnb.com/rooms/40786827?check_in=2021-01-01&check_out=2021-04-30&previous_page_section_name=1000&display_extensions%5B%5D=DATED_LTS&display_extensions%5B%5D=MONTHLY_STAYS&federated_search_id=1e16654e-c1a9-474f-bc14-1aa8e23b45d8\n"
     ]
    },
    {
     "name": "stderr",
     "output_type": "stream",
     "text": [
      "[WDM] - Current google-chrome version is 85.0.4183\n",
      "[WDM] - Get LATEST driver version for 85.0.4183\n",
      "[WDM] - Driver [/Users/jasenlo/.wdm/drivers/chromedriver/mac64/85.0.4183.87/chromedriver] found in cache\n"
     ]
    },
    {
     "name": "stdout",
     "output_type": "stream",
     "text": [
      " \n",
      "http://airbnb.com/rooms/30676239?check_in=2021-01-01&check_out=2021-04-30&previous_page_section_name=1000&display_extensions%5B%5D=DATED_LTS&display_extensions%5B%5D=MONTHLY_STAYS&federated_search_id=1e16654e-c1a9-474f-bc14-1aa8e23b45d8\n"
     ]
    },
    {
     "name": "stderr",
     "output_type": "stream",
     "text": [
      "[WDM] - Current google-chrome version is 85.0.4183\n",
      "[WDM] - Get LATEST driver version for 85.0.4183\n",
      "[WDM] - Driver [/Users/jasenlo/.wdm/drivers/chromedriver/mac64/85.0.4183.87/chromedriver] found in cache\n"
     ]
    },
    {
     "name": "stdout",
     "output_type": "stream",
     "text": [
      " \n",
      "http://airbnb.com/rooms/45350466?check_in=2021-01-01&check_out=2021-04-30&previous_page_section_name=1000&display_extensions%5B%5D=DATED_LTS&display_extensions%5B%5D=MONTHLY_STAYS&federated_search_id=1e16654e-c1a9-474f-bc14-1aa8e23b45d8\n"
     ]
    },
    {
     "name": "stderr",
     "output_type": "stream",
     "text": [
      "[WDM] - Current google-chrome version is 85.0.4183\n",
      "[WDM] - Get LATEST driver version for 85.0.4183\n",
      "[WDM] - Driver [/Users/jasenlo/.wdm/drivers/chromedriver/mac64/85.0.4183.87/chromedriver] found in cache\n"
     ]
    },
    {
     "name": "stdout",
     "output_type": "stream",
     "text": [
      " \n",
      "http://airbnb.com/rooms/22517942?check_in=2021-01-01&check_out=2021-04-30&previous_page_section_name=1000&display_extensions%5B%5D=DATED_LTS&display_extensions%5B%5D=MONTHLY_STAYS&federated_search_id=1e16654e-c1a9-474f-bc14-1aa8e23b45d8\n"
     ]
    },
    {
     "name": "stderr",
     "output_type": "stream",
     "text": [
      "[WDM] - Current google-chrome version is 85.0.4183\n",
      "[WDM] - Get LATEST driver version for 85.0.4183\n",
      "[WDM] - Driver [/Users/jasenlo/.wdm/drivers/chromedriver/mac64/85.0.4183.87/chromedriver] found in cache\n"
     ]
    },
    {
     "name": "stdout",
     "output_type": "stream",
     "text": [
      " \n",
      "http://airbnb.com/rooms/45097077?check_in=2021-01-01&check_out=2021-04-30&previous_page_section_name=1000&display_extensions%5B%5D=DATED_LTS&display_extensions%5B%5D=MONTHLY_STAYS&federated_search_id=1e16654e-c1a9-474f-bc14-1aa8e23b45d8\n"
     ]
    },
    {
     "name": "stderr",
     "output_type": "stream",
     "text": [
      "[WDM] - Current google-chrome version is 85.0.4183\n",
      "[WDM] - Get LATEST driver version for 85.0.4183\n",
      "[WDM] - Driver [/Users/jasenlo/.wdm/drivers/chromedriver/mac64/85.0.4183.87/chromedriver] found in cache\n"
     ]
    },
    {
     "name": "stdout",
     "output_type": "stream",
     "text": [
      " \n",
      "http://airbnb.com/rooms/44866698?check_in=2021-01-01&check_out=2021-04-30&previous_page_section_name=1000&display_extensions%5B%5D=DATED_LTS&display_extensions%5B%5D=MONTHLY_STAYS&federated_search_id=1e16654e-c1a9-474f-bc14-1aa8e23b45d8\n"
     ]
    },
    {
     "name": "stderr",
     "output_type": "stream",
     "text": [
      "[WDM] - Current google-chrome version is 85.0.4183\n",
      "[WDM] - Get LATEST driver version for 85.0.4183\n",
      "[WDM] - Driver [/Users/jasenlo/.wdm/drivers/chromedriver/mac64/85.0.4183.87/chromedriver] found in cache\n"
     ]
    },
    {
     "name": "stdout",
     "output_type": "stream",
     "text": [
      " \n",
      "http://airbnb.com/rooms/953912?check_in=2021-01-01&check_out=2021-04-30&previous_page_section_name=1000&display_extensions%5B%5D=DATED_LTS&display_extensions%5B%5D=MONTHLY_STAYS&federated_search_id=1e16654e-c1a9-474f-bc14-1aa8e23b45d8\n"
     ]
    },
    {
     "name": "stderr",
     "output_type": "stream",
     "text": [
      "[WDM] - Current google-chrome version is 85.0.4183\n",
      "[WDM] - Get LATEST driver version for 85.0.4183\n",
      "[WDM] - Driver [/Users/jasenlo/.wdm/drivers/chromedriver/mac64/85.0.4183.87/chromedriver] found in cache\n"
     ]
    },
    {
     "name": "stdout",
     "output_type": "stream",
     "text": [
      " \n",
      "http://airbnb.com/rooms/28096070?check_in=2021-01-01&check_out=2021-04-30&previous_page_section_name=1000&display_extensions%5B%5D=DATED_LTS&display_extensions%5B%5D=MONTHLY_STAYS&federated_search_id=1e16654e-c1a9-474f-bc14-1aa8e23b45d8\n"
     ]
    },
    {
     "name": "stderr",
     "output_type": "stream",
     "text": [
      "[WDM] - Current google-chrome version is 85.0.4183\n",
      "[WDM] - Get LATEST driver version for 85.0.4183\n",
      "[WDM] - Driver [/Users/jasenlo/.wdm/drivers/chromedriver/mac64/85.0.4183.87/chromedriver] found in cache\n"
     ]
    },
    {
     "name": "stdout",
     "output_type": "stream",
     "text": [
      " \n",
      "http://airbnb.com/rooms/42298332?check_in=2021-01-01&check_out=2021-04-30&previous_page_section_name=1000&display_extensions%5B%5D=DATED_LTS&display_extensions%5B%5D=MONTHLY_STAYS&federated_search_id=1e16654e-c1a9-474f-bc14-1aa8e23b45d8\n"
     ]
    },
    {
     "name": "stderr",
     "output_type": "stream",
     "text": [
      "[WDM] - Current google-chrome version is 85.0.4183\n",
      "[WDM] - Get LATEST driver version for 85.0.4183\n",
      "[WDM] - Driver [/Users/jasenlo/.wdm/drivers/chromedriver/mac64/85.0.4183.87/chromedriver] found in cache\n"
     ]
    },
    {
     "name": "stdout",
     "output_type": "stream",
     "text": [
      " \n",
      "http://airbnb.com/rooms/33574036?check_in=2021-01-01&check_out=2021-04-30&previous_page_section_name=1000&display_extensions%5B%5D=DATED_LTS&display_extensions%5B%5D=MONTHLY_STAYS&federated_search_id=1e16654e-c1a9-474f-bc14-1aa8e23b45d8\n"
     ]
    },
    {
     "name": "stderr",
     "output_type": "stream",
     "text": [
      "[WDM] - Current google-chrome version is 85.0.4183\n",
      "[WDM] - Get LATEST driver version for 85.0.4183\n",
      "[WDM] - Driver [/Users/jasenlo/.wdm/drivers/chromedriver/mac64/85.0.4183.87/chromedriver] found in cache\n"
     ]
    },
    {
     "name": "stdout",
     "output_type": "stream",
     "text": [
      " \n",
      "http://airbnb.com/rooms/42016106?check_in=2021-01-01&check_out=2021-04-30&previous_page_section_name=1000&display_extensions%5B%5D=DATED_LTS&display_extensions%5B%5D=MONTHLY_STAYS&federated_search_id=1e16654e-c1a9-474f-bc14-1aa8e23b45d8\n"
     ]
    },
    {
     "name": "stderr",
     "output_type": "stream",
     "text": [
      "[WDM] - Current google-chrome version is 85.0.4183\n",
      "[WDM] - Get LATEST driver version for 85.0.4183\n",
      "[WDM] - Driver [/Users/jasenlo/.wdm/drivers/chromedriver/mac64/85.0.4183.87/chromedriver] found in cache\n"
     ]
    },
    {
     "name": "stdout",
     "output_type": "stream",
     "text": [
      " \n",
      "http://airbnb.com/rooms/37071857?check_in=2021-01-01&check_out=2021-04-30&previous_page_section_name=1000&display_extensions%5B%5D=DATED_LTS&display_extensions%5B%5D=MONTHLY_STAYS&federated_search_id=1e16654e-c1a9-474f-bc14-1aa8e23b45d8\n"
     ]
    },
    {
     "name": "stderr",
     "output_type": "stream",
     "text": [
      "[WDM] - Current google-chrome version is 85.0.4183\n",
      "[WDM] - Get LATEST driver version for 85.0.4183\n",
      "[WDM] - Driver [/Users/jasenlo/.wdm/drivers/chromedriver/mac64/85.0.4183.87/chromedriver] found in cache\n"
     ]
    },
    {
     "name": "stdout",
     "output_type": "stream",
     "text": [
      " \n",
      "http://airbnb.com/rooms/40383145?check_in=2021-01-01&check_out=2021-04-30&previous_page_section_name=1000&display_extensions%5B%5D=DATED_LTS&display_extensions%5B%5D=MONTHLY_STAYS&federated_search_id=1e16654e-c1a9-474f-bc14-1aa8e23b45d8\n"
     ]
    },
    {
     "name": "stderr",
     "output_type": "stream",
     "text": [
      "[WDM] - Current google-chrome version is 85.0.4183\n",
      "[WDM] - Get LATEST driver version for 85.0.4183\n",
      "[WDM] - Driver [/Users/jasenlo/.wdm/drivers/chromedriver/mac64/85.0.4183.87/chromedriver] found in cache\n"
     ]
    },
    {
     "name": "stdout",
     "output_type": "stream",
     "text": [
      " \n",
      "http://airbnb.com/rooms/2547726?check_in=2021-01-01&check_out=2021-04-30&previous_page_section_name=1000&display_extensions%5B%5D=DATED_LTS&display_extensions%5B%5D=MONTHLY_STAYS&federated_search_id=1e16654e-c1a9-474f-bc14-1aa8e23b45d8\n"
     ]
    },
    {
     "name": "stderr",
     "output_type": "stream",
     "text": [
      "[WDM] - Current google-chrome version is 85.0.4183\n",
      "[WDM] - Get LATEST driver version for 85.0.4183\n",
      "[WDM] - Driver [/Users/jasenlo/.wdm/drivers/chromedriver/mac64/85.0.4183.87/chromedriver] found in cache\n"
     ]
    },
    {
     "name": "stdout",
     "output_type": "stream",
     "text": [
      " \n",
      "http://airbnb.com/rooms/45498281?check_in=2021-01-01&check_out=2021-04-30&previous_page_section_name=1000&display_extensions%5B%5D=DATED_LTS&display_extensions%5B%5D=MONTHLY_STAYS&federated_search_id=1e16654e-c1a9-474f-bc14-1aa8e23b45d8\n"
     ]
    },
    {
     "name": "stderr",
     "output_type": "stream",
     "text": [
      "[WDM] - Current google-chrome version is 85.0.4183\n",
      "[WDM] - Get LATEST driver version for 85.0.4183\n",
      "[WDM] - Driver [/Users/jasenlo/.wdm/drivers/chromedriver/mac64/85.0.4183.87/chromedriver] found in cache\n"
     ]
    },
    {
     "name": "stdout",
     "output_type": "stream",
     "text": [
      " \n",
      "http://airbnb.com/rooms/44438789?check_in=2021-01-01&check_out=2021-04-30&previous_page_section_name=1000&display_extensions%5B%5D=DATED_LTS&display_extensions%5B%5D=MONTHLY_STAYS&federated_search_id=1e16654e-c1a9-474f-bc14-1aa8e23b45d8\n"
     ]
    },
    {
     "name": "stderr",
     "output_type": "stream",
     "text": [
      "[WDM] - Current google-chrome version is 85.0.4183\n",
      "[WDM] - Get LATEST driver version for 85.0.4183\n",
      "[WDM] - Driver [/Users/jasenlo/.wdm/drivers/chromedriver/mac64/85.0.4183.87/chromedriver] found in cache\n"
     ]
    },
    {
     "name": "stdout",
     "output_type": "stream",
     "text": [
      " \n",
      "http://airbnb.com/rooms/44023717?check_in=2021-01-01&check_out=2021-04-30&previous_page_section_name=1000&display_extensions%5B%5D=DATED_LTS&display_extensions%5B%5D=MONTHLY_STAYS&federated_search_id=39fbcb50-5ad4-4a4e-a51e-e94f24a124ae\n"
     ]
    },
    {
     "name": "stderr",
     "output_type": "stream",
     "text": [
      "[WDM] - Current google-chrome version is 85.0.4183\n",
      "[WDM] - Get LATEST driver version for 85.0.4183\n",
      "[WDM] - Driver [/Users/jasenlo/.wdm/drivers/chromedriver/mac64/85.0.4183.87/chromedriver] found in cache\n"
     ]
    },
    {
     "name": "stdout",
     "output_type": "stream",
     "text": [
      " \n",
      "http://airbnb.com/rooms/33574036?check_in=2021-01-01&check_out=2021-04-30&previous_page_section_name=1000&display_extensions%5B%5D=DATED_LTS&display_extensions%5B%5D=MONTHLY_STAYS&federated_search_id=39fbcb50-5ad4-4a4e-a51e-e94f24a124ae\n"
     ]
    },
    {
     "name": "stderr",
     "output_type": "stream",
     "text": [
      "[WDM] - Current google-chrome version is 85.0.4183\n",
      "[WDM] - Get LATEST driver version for 85.0.4183\n",
      "[WDM] - Driver [/Users/jasenlo/.wdm/drivers/chromedriver/mac64/85.0.4183.87/chromedriver] found in cache\n"
     ]
    },
    {
     "name": "stdout",
     "output_type": "stream",
     "text": [
      " \n",
      "http://airbnb.com/rooms/45708054?check_in=2021-01-01&check_out=2021-04-30&previous_page_section_name=1000&display_extensions%5B%5D=DATED_LTS&display_extensions%5B%5D=MONTHLY_STAYS&federated_search_id=39fbcb50-5ad4-4a4e-a51e-e94f24a124ae\n"
     ]
    },
    {
     "name": "stderr",
     "output_type": "stream",
     "text": [
      "[WDM] - Current google-chrome version is 85.0.4183\n",
      "[WDM] - Get LATEST driver version for 85.0.4183\n",
      "[WDM] - Driver [/Users/jasenlo/.wdm/drivers/chromedriver/mac64/85.0.4183.87/chromedriver] found in cache\n"
     ]
    },
    {
     "name": "stdout",
     "output_type": "stream",
     "text": [
      " \n",
      "http://airbnb.com/rooms/42213892?check_in=2021-01-01&check_out=2021-04-30&previous_page_section_name=1000&display_extensions%5B%5D=DATED_LTS&display_extensions%5B%5D=MONTHLY_STAYS&federated_search_id=39fbcb50-5ad4-4a4e-a51e-e94f24a124ae\n"
     ]
    },
    {
     "name": "stderr",
     "output_type": "stream",
     "text": [
      "[WDM] - Current google-chrome version is 85.0.4183\n",
      "[WDM] - Get LATEST driver version for 85.0.4183\n",
      "[WDM] - Driver [/Users/jasenlo/.wdm/drivers/chromedriver/mac64/85.0.4183.87/chromedriver] found in cache\n"
     ]
    },
    {
     "name": "stdout",
     "output_type": "stream",
     "text": [
      " \n",
      "http://airbnb.com/rooms/36404574?check_in=2021-01-01&check_out=2021-04-30&previous_page_section_name=1000&display_extensions%5B%5D=DATED_LTS&display_extensions%5B%5D=MONTHLY_STAYS&federated_search_id=39fbcb50-5ad4-4a4e-a51e-e94f24a124ae\n"
     ]
    },
    {
     "name": "stderr",
     "output_type": "stream",
     "text": [
      "[WDM] - Current google-chrome version is 85.0.4183\n",
      "[WDM] - Get LATEST driver version for 85.0.4183\n",
      "[WDM] - Driver [/Users/jasenlo/.wdm/drivers/chromedriver/mac64/85.0.4183.87/chromedriver] found in cache\n"
     ]
    },
    {
     "name": "stdout",
     "output_type": "stream",
     "text": [
      " \n",
      "http://airbnb.com/rooms/39164270?check_in=2021-01-01&check_out=2021-04-30&previous_page_section_name=1000&display_extensions%5B%5D=DATED_LTS&display_extensions%5B%5D=MONTHLY_STAYS&federated_search_id=39fbcb50-5ad4-4a4e-a51e-e94f24a124ae\n"
     ]
    },
    {
     "name": "stderr",
     "output_type": "stream",
     "text": [
      "[WDM] - Current google-chrome version is 85.0.4183\n",
      "[WDM] - Get LATEST driver version for 85.0.4183\n",
      "[WDM] - Driver [/Users/jasenlo/.wdm/drivers/chromedriver/mac64/85.0.4183.87/chromedriver] found in cache\n"
     ]
    },
    {
     "name": "stdout",
     "output_type": "stream",
     "text": [
      " \n",
      "http://airbnb.com/rooms/39430309?check_in=2021-01-01&check_out=2021-04-30&previous_page_section_name=1000&display_extensions%5B%5D=DATED_LTS&display_extensions%5B%5D=MONTHLY_STAYS&federated_search_id=39fbcb50-5ad4-4a4e-a51e-e94f24a124ae\n"
     ]
    },
    {
     "name": "stderr",
     "output_type": "stream",
     "text": [
      "[WDM] - Current google-chrome version is 85.0.4183\n",
      "[WDM] - Get LATEST driver version for 85.0.4183\n",
      "[WDM] - Driver [/Users/jasenlo/.wdm/drivers/chromedriver/mac64/85.0.4183.87/chromedriver] found in cache\n"
     ]
    },
    {
     "name": "stdout",
     "output_type": "stream",
     "text": [
      " \n",
      "http://airbnb.com/rooms/20920815?check_in=2021-01-01&check_out=2021-04-30&previous_page_section_name=1000&display_extensions%5B%5D=DATED_LTS&display_extensions%5B%5D=MONTHLY_STAYS&federated_search_id=39fbcb50-5ad4-4a4e-a51e-e94f24a124ae\n"
     ]
    },
    {
     "name": "stderr",
     "output_type": "stream",
     "text": [
      "[WDM] - Current google-chrome version is 85.0.4183\n",
      "[WDM] - Get LATEST driver version for 85.0.4183\n",
      "[WDM] - Driver [/Users/jasenlo/.wdm/drivers/chromedriver/mac64/85.0.4183.87/chromedriver] found in cache\n"
     ]
    },
    {
     "name": "stdout",
     "output_type": "stream",
     "text": [
      " \n",
      "http://airbnb.com/rooms/45350466?check_in=2021-01-01&check_out=2021-04-30&previous_page_section_name=1000&display_extensions%5B%5D=DATED_LTS&display_extensions%5B%5D=MONTHLY_STAYS&federated_search_id=39fbcb50-5ad4-4a4e-a51e-e94f24a124ae\n"
     ]
    },
    {
     "name": "stderr",
     "output_type": "stream",
     "text": [
      "[WDM] - Current google-chrome version is 85.0.4183\n",
      "[WDM] - Get LATEST driver version for 85.0.4183\n",
      "[WDM] - Driver [/Users/jasenlo/.wdm/drivers/chromedriver/mac64/85.0.4183.87/chromedriver] found in cache\n"
     ]
    },
    {
     "name": "stdout",
     "output_type": "stream",
     "text": [
      " \n",
      "http://airbnb.com/rooms/7612704?check_in=2021-01-01&check_out=2021-04-30&previous_page_section_name=1000&display_extensions%5B%5D=DATED_LTS&display_extensions%5B%5D=MONTHLY_STAYS&federated_search_id=39fbcb50-5ad4-4a4e-a51e-e94f24a124ae\n"
     ]
    },
    {
     "name": "stderr",
     "output_type": "stream",
     "text": [
      "[WDM] - Current google-chrome version is 85.0.4183\n",
      "[WDM] - Get LATEST driver version for 85.0.4183\n",
      "[WDM] - Driver [/Users/jasenlo/.wdm/drivers/chromedriver/mac64/85.0.4183.87/chromedriver] found in cache\n"
     ]
    },
    {
     "name": "stdout",
     "output_type": "stream",
     "text": [
      " \n",
      "http://airbnb.com/rooms/36350093?check_in=2021-01-01&check_out=2021-04-30&previous_page_section_name=1000&display_extensions%5B%5D=DATED_LTS&display_extensions%5B%5D=MONTHLY_STAYS&federated_search_id=39fbcb50-5ad4-4a4e-a51e-e94f24a124ae\n"
     ]
    },
    {
     "name": "stderr",
     "output_type": "stream",
     "text": [
      "[WDM] - Current google-chrome version is 85.0.4183\n",
      "[WDM] - Get LATEST driver version for 85.0.4183\n",
      "[WDM] - Driver [/Users/jasenlo/.wdm/drivers/chromedriver/mac64/85.0.4183.87/chromedriver] found in cache\n"
     ]
    },
    {
     "name": "stdout",
     "output_type": "stream",
     "text": [
      " \n",
      "http://airbnb.com/rooms/8018200?check_in=2021-01-01&check_out=2021-04-30&previous_page_section_name=1000&display_extensions%5B%5D=DATED_LTS&display_extensions%5B%5D=MONTHLY_STAYS&federated_search_id=39fbcb50-5ad4-4a4e-a51e-e94f24a124ae\n"
     ]
    },
    {
     "name": "stderr",
     "output_type": "stream",
     "text": [
      "[WDM] - Current google-chrome version is 85.0.4183\n",
      "[WDM] - Get LATEST driver version for 85.0.4183\n",
      "[WDM] - Driver [/Users/jasenlo/.wdm/drivers/chromedriver/mac64/85.0.4183.87/chromedriver] found in cache\n"
     ]
    },
    {
     "name": "stdout",
     "output_type": "stream",
     "text": [
      " \n",
      "http://airbnb.com/rooms/24528092?check_in=2021-01-01&check_out=2021-04-30&previous_page_section_name=1000&display_extensions%5B%5D=DATED_LTS&display_extensions%5B%5D=MONTHLY_STAYS&federated_search_id=39fbcb50-5ad4-4a4e-a51e-e94f24a124ae\n"
     ]
    },
    {
     "name": "stderr",
     "output_type": "stream",
     "text": [
      "[WDM] - Current google-chrome version is 85.0.4183\n",
      "[WDM] - Get LATEST driver version for 85.0.4183\n",
      "[WDM] - Driver [/Users/jasenlo/.wdm/drivers/chromedriver/mac64/85.0.4183.87/chromedriver] found in cache\n"
     ]
    },
    {
     "name": "stdout",
     "output_type": "stream",
     "text": [
      " \n",
      "http://airbnb.com/rooms/32584345?check_in=2021-01-01&check_out=2021-04-30&previous_page_section_name=1000&display_extensions%5B%5D=DATED_LTS&display_extensions%5B%5D=MONTHLY_STAYS&federated_search_id=39fbcb50-5ad4-4a4e-a51e-e94f24a124ae\n"
     ]
    },
    {
     "name": "stderr",
     "output_type": "stream",
     "text": [
      "[WDM] - Current google-chrome version is 85.0.4183\n",
      "[WDM] - Get LATEST driver version for 85.0.4183\n",
      "[WDM] - Driver [/Users/jasenlo/.wdm/drivers/chromedriver/mac64/85.0.4183.87/chromedriver] found in cache\n"
     ]
    },
    {
     "name": "stdout",
     "output_type": "stream",
     "text": [
      " \n",
      "http://airbnb.com/rooms/7048384?check_in=2021-01-01&check_out=2021-04-30&previous_page_section_name=1000&display_extensions%5B%5D=DATED_LTS&display_extensions%5B%5D=MONTHLY_STAYS&federated_search_id=39fbcb50-5ad4-4a4e-a51e-e94f24a124ae\n"
     ]
    },
    {
     "name": "stderr",
     "output_type": "stream",
     "text": [
      "[WDM] - Current google-chrome version is 85.0.4183\n",
      "[WDM] - Get LATEST driver version for 85.0.4183\n",
      "[WDM] - Driver [/Users/jasenlo/.wdm/drivers/chromedriver/mac64/85.0.4183.87/chromedriver] found in cache\n"
     ]
    },
    {
     "name": "stdout",
     "output_type": "stream",
     "text": [
      " \n",
      "http://airbnb.com/rooms/22517942?check_in=2021-01-01&check_out=2021-04-30&previous_page_section_name=1000&display_extensions%5B%5D=MONTHLY_STAYS&display_extensions%5B%5D=DATED_LTS&federated_search_id=760940d0-0721-4f68-8d47-c27e15a19391\n"
     ]
    },
    {
     "name": "stderr",
     "output_type": "stream",
     "text": [
      "[WDM] - Current google-chrome version is 85.0.4183\n",
      "[WDM] - Get LATEST driver version for 85.0.4183\n",
      "[WDM] - Driver [/Users/jasenlo/.wdm/drivers/chromedriver/mac64/85.0.4183.87/chromedriver] found in cache\n"
     ]
    },
    {
     "name": "stdout",
     "output_type": "stream",
     "text": [
      " \n",
      "http://airbnb.com/rooms/45180674?check_in=2021-01-01&check_out=2021-04-30&previous_page_section_name=1000&display_extensions%5B%5D=MONTHLY_STAYS&display_extensions%5B%5D=DATED_LTS&federated_search_id=760940d0-0721-4f68-8d47-c27e15a19391\n"
     ]
    },
    {
     "name": "stderr",
     "output_type": "stream",
     "text": [
      "[WDM] - Current google-chrome version is 85.0.4183\n",
      "[WDM] - Get LATEST driver version for 85.0.4183\n",
      "[WDM] - Driver [/Users/jasenlo/.wdm/drivers/chromedriver/mac64/85.0.4183.87/chromedriver] found in cache\n"
     ]
    },
    {
     "name": "stdout",
     "output_type": "stream",
     "text": [
      " \n",
      "http://airbnb.com/rooms/29080921?check_in=2021-01-01&check_out=2021-04-30&previous_page_section_name=1000&display_extensions%5B%5D=MONTHLY_STAYS&display_extensions%5B%5D=DATED_LTS&federated_search_id=760940d0-0721-4f68-8d47-c27e15a19391\n"
     ]
    },
    {
     "name": "stderr",
     "output_type": "stream",
     "text": [
      "[WDM] - Current google-chrome version is 85.0.4183\n",
      "[WDM] - Get LATEST driver version for 85.0.4183\n",
      "[WDM] - Driver [/Users/jasenlo/.wdm/drivers/chromedriver/mac64/85.0.4183.87/chromedriver] found in cache\n"
     ]
    },
    {
     "name": "stdout",
     "output_type": "stream",
     "text": [
      " \n",
      "http://airbnb.com/rooms/39928292?check_in=2021-01-01&check_out=2021-04-30&previous_page_section_name=1000&display_extensions%5B%5D=MONTHLY_STAYS&display_extensions%5B%5D=DATED_LTS&federated_search_id=760940d0-0721-4f68-8d47-c27e15a19391\n"
     ]
    },
    {
     "name": "stderr",
     "output_type": "stream",
     "text": [
      "[WDM] - Current google-chrome version is 85.0.4183\n",
      "[WDM] - Get LATEST driver version for 85.0.4183\n",
      "[WDM] - Driver [/Users/jasenlo/.wdm/drivers/chromedriver/mac64/85.0.4183.87/chromedriver] found in cache\n"
     ]
    },
    {
     "name": "stdout",
     "output_type": "stream",
     "text": [
      " \n",
      "http://airbnb.com/rooms/19576771?check_in=2021-01-01&check_out=2021-04-30&previous_page_section_name=1000&display_extensions%5B%5D=MONTHLY_STAYS&display_extensions%5B%5D=DATED_LTS&federated_search_id=760940d0-0721-4f68-8d47-c27e15a19391\n"
     ]
    },
    {
     "name": "stderr",
     "output_type": "stream",
     "text": [
      "[WDM] - Current google-chrome version is 85.0.4183\n",
      "[WDM] - Get LATEST driver version for 85.0.4183\n",
      "[WDM] - Driver [/Users/jasenlo/.wdm/drivers/chromedriver/mac64/85.0.4183.87/chromedriver] found in cache\n"
     ]
    },
    {
     "name": "stdout",
     "output_type": "stream",
     "text": [
      " \n",
      "http://airbnb.com/rooms/45690563?check_in=2021-01-01&check_out=2021-04-30&previous_page_section_name=1000&display_extensions%5B%5D=MONTHLY_STAYS&display_extensions%5B%5D=DATED_LTS&federated_search_id=760940d0-0721-4f68-8d47-c27e15a19391\n"
     ]
    },
    {
     "name": "stderr",
     "output_type": "stream",
     "text": [
      "[WDM] - Current google-chrome version is 85.0.4183\n",
      "[WDM] - Get LATEST driver version for 85.0.4183\n",
      "[WDM] - Driver [/Users/jasenlo/.wdm/drivers/chromedriver/mac64/85.0.4183.87/chromedriver] found in cache\n"
     ]
    },
    {
     "name": "stdout",
     "output_type": "stream",
     "text": [
      " \n",
      "http://airbnb.com/rooms/45356686?check_in=2021-01-01&check_out=2021-04-30&previous_page_section_name=1000&display_extensions%5B%5D=MONTHLY_STAYS&display_extensions%5B%5D=DATED_LTS&federated_search_id=760940d0-0721-4f68-8d47-c27e15a19391\n"
     ]
    },
    {
     "name": "stderr",
     "output_type": "stream",
     "text": [
      "[WDM] - Current google-chrome version is 85.0.4183\n",
      "[WDM] - Get LATEST driver version for 85.0.4183\n",
      "[WDM] - Driver [/Users/jasenlo/.wdm/drivers/chromedriver/mac64/85.0.4183.87/chromedriver] found in cache\n"
     ]
    },
    {
     "name": "stdout",
     "output_type": "stream",
     "text": [
      " \n",
      "http://airbnb.com/rooms/22851750?check_in=2021-01-01&check_out=2021-04-30&previous_page_section_name=1000&display_extensions%5B%5D=MONTHLY_STAYS&display_extensions%5B%5D=DATED_LTS&federated_search_id=760940d0-0721-4f68-8d47-c27e15a19391\n"
     ]
    },
    {
     "name": "stderr",
     "output_type": "stream",
     "text": [
      "[WDM] - Current google-chrome version is 85.0.4183\n",
      "[WDM] - Get LATEST driver version for 85.0.4183\n",
      "[WDM] - Driver [/Users/jasenlo/.wdm/drivers/chromedriver/mac64/85.0.4183.87/chromedriver] found in cache\n"
     ]
    },
    {
     "name": "stdout",
     "output_type": "stream",
     "text": [
      " \n",
      "http://airbnb.com/rooms/10385900?check_in=2021-01-01&check_out=2021-04-30&previous_page_section_name=1000&display_extensions%5B%5D=MONTHLY_STAYS&display_extensions%5B%5D=DATED_LTS&federated_search_id=760940d0-0721-4f68-8d47-c27e15a19391\n"
     ]
    },
    {
     "name": "stderr",
     "output_type": "stream",
     "text": [
      "[WDM] - Current google-chrome version is 85.0.4183\n",
      "[WDM] - Get LATEST driver version for 85.0.4183\n",
      "[WDM] - Driver [/Users/jasenlo/.wdm/drivers/chromedriver/mac64/85.0.4183.87/chromedriver] found in cache\n"
     ]
    },
    {
     "name": "stdout",
     "output_type": "stream",
     "text": [
      " \n",
      "http://airbnb.com/rooms/41963520?check_in=2021-01-01&check_out=2021-04-30&previous_page_section_name=1000&display_extensions%5B%5D=MONTHLY_STAYS&display_extensions%5B%5D=DATED_LTS&federated_search_id=760940d0-0721-4f68-8d47-c27e15a19391\n"
     ]
    },
    {
     "name": "stderr",
     "output_type": "stream",
     "text": [
      "[WDM] - Current google-chrome version is 85.0.4183\n",
      "[WDM] - Get LATEST driver version for 85.0.4183\n",
      "[WDM] - Driver [/Users/jasenlo/.wdm/drivers/chromedriver/mac64/85.0.4183.87/chromedriver] found in cache\n"
     ]
    },
    {
     "name": "stdout",
     "output_type": "stream",
     "text": [
      " \n",
      "http://airbnb.com/rooms/11399379?check_in=2021-01-01&check_out=2021-04-30&previous_page_section_name=1000&display_extensions%5B%5D=MONTHLY_STAYS&display_extensions%5B%5D=DATED_LTS&federated_search_id=760940d0-0721-4f68-8d47-c27e15a19391\n"
     ]
    },
    {
     "name": "stderr",
     "output_type": "stream",
     "text": [
      "[WDM] - Current google-chrome version is 85.0.4183\n",
      "[WDM] - Get LATEST driver version for 85.0.4183\n",
      "[WDM] - Driver [/Users/jasenlo/.wdm/drivers/chromedriver/mac64/85.0.4183.87/chromedriver] found in cache\n"
     ]
    },
    {
     "name": "stdout",
     "output_type": "stream",
     "text": [
      " \n",
      "http://airbnb.com/rooms/41788826?check_in=2021-01-01&check_out=2021-04-30&previous_page_section_name=1000&display_extensions%5B%5D=MONTHLY_STAYS&display_extensions%5B%5D=DATED_LTS&federated_search_id=760940d0-0721-4f68-8d47-c27e15a19391\n"
     ]
    },
    {
     "name": "stderr",
     "output_type": "stream",
     "text": [
      "[WDM] - Current google-chrome version is 85.0.4183\n",
      "[WDM] - Get LATEST driver version for 85.0.4183\n",
      "[WDM] - Driver [/Users/jasenlo/.wdm/drivers/chromedriver/mac64/85.0.4183.87/chromedriver] found in cache\n"
     ]
    },
    {
     "name": "stdout",
     "output_type": "stream",
     "text": [
      " \n",
      "http://airbnb.com/rooms/15822209?check_in=2021-01-01&check_out=2021-04-30&previous_page_section_name=1000&display_extensions%5B%5D=MONTHLY_STAYS&display_extensions%5B%5D=DATED_LTS&federated_search_id=760940d0-0721-4f68-8d47-c27e15a19391\n"
     ]
    },
    {
     "name": "stderr",
     "output_type": "stream",
     "text": [
      "[WDM] - Current google-chrome version is 85.0.4183\n",
      "[WDM] - Get LATEST driver version for 85.0.4183\n",
      "[WDM] - Driver [/Users/jasenlo/.wdm/drivers/chromedriver/mac64/85.0.4183.87/chromedriver] found in cache\n"
     ]
    },
    {
     "name": "stdout",
     "output_type": "stream",
     "text": [
      " \n",
      "http://airbnb.com/rooms/42025956?check_in=2021-01-01&check_out=2021-04-30&previous_page_section_name=1000&display_extensions%5B%5D=MONTHLY_STAYS&display_extensions%5B%5D=DATED_LTS&federated_search_id=760940d0-0721-4f68-8d47-c27e15a19391\n"
     ]
    },
    {
     "name": "stderr",
     "output_type": "stream",
     "text": [
      "[WDM] - Current google-chrome version is 85.0.4183\n",
      "[WDM] - Get LATEST driver version for 85.0.4183\n",
      "[WDM] - Driver [/Users/jasenlo/.wdm/drivers/chromedriver/mac64/85.0.4183.87/chromedriver] found in cache\n"
     ]
    },
    {
     "name": "stdout",
     "output_type": "stream",
     "text": [
      " \n",
      "http://airbnb.com/rooms/20779563?check_in=2021-01-01&check_out=2021-04-30&previous_page_section_name=1000&display_extensions%5B%5D=MONTHLY_STAYS&display_extensions%5B%5D=DATED_LTS&federated_search_id=760940d0-0721-4f68-8d47-c27e15a19391\n"
     ]
    },
    {
     "name": "stderr",
     "output_type": "stream",
     "text": [
      "[WDM] - Current google-chrome version is 85.0.4183\n",
      "[WDM] - Get LATEST driver version for 85.0.4183\n",
      "[WDM] - Driver [/Users/jasenlo/.wdm/drivers/chromedriver/mac64/85.0.4183.87/chromedriver] found in cache\n"
     ]
    },
    {
     "name": "stdout",
     "output_type": "stream",
     "text": [
      " \n",
      "http://airbnb.com/rooms/28441365?check_in=2021-01-01&check_out=2021-04-30&previous_page_section_name=1000&display_extensions%5B%5D=MONTHLY_STAYS&display_extensions%5B%5D=DATED_LTS&federated_search_id=760940d0-0721-4f68-8d47-c27e15a19391\n"
     ]
    },
    {
     "name": "stderr",
     "output_type": "stream",
     "text": [
      "[WDM] - Current google-chrome version is 85.0.4183\n",
      "[WDM] - Get LATEST driver version for 85.0.4183\n",
      "[WDM] - Driver [/Users/jasenlo/.wdm/drivers/chromedriver/mac64/85.0.4183.87/chromedriver] found in cache\n"
     ]
    },
    {
     "name": "stdout",
     "output_type": "stream",
     "text": [
      " \n",
      "http://airbnb.com/rooms/40973828?check_in=2021-01-01&check_out=2021-04-30&previous_page_section_name=1000&display_extensions%5B%5D=MONTHLY_STAYS&display_extensions%5B%5D=DATED_LTS&federated_search_id=760940d0-0721-4f68-8d47-c27e15a19391\n"
     ]
    },
    {
     "name": "stderr",
     "output_type": "stream",
     "text": [
      "[WDM] - Current google-chrome version is 85.0.4183\n",
      "[WDM] - Get LATEST driver version for 85.0.4183\n",
      "[WDM] - Driver [/Users/jasenlo/.wdm/drivers/chromedriver/mac64/85.0.4183.87/chromedriver] found in cache\n"
     ]
    },
    {
     "name": "stdout",
     "output_type": "stream",
     "text": [
      " \n",
      "http://airbnb.com/rooms/28441365?check_in=2021-01-01&check_out=2021-04-30&previous_page_section_name=1000&display_extensions%5B%5D=MONTHLY_STAYS&display_extensions%5B%5D=DATED_LTS&federated_search_id=484c1614-e0c5-4383-8bfe-e2dca8c3e86b\n"
     ]
    },
    {
     "name": "stderr",
     "output_type": "stream",
     "text": [
      "[WDM] - Current google-chrome version is 85.0.4183\n",
      "[WDM] - Get LATEST driver version for 85.0.4183\n",
      "[WDM] - Driver [/Users/jasenlo/.wdm/drivers/chromedriver/mac64/85.0.4183.87/chromedriver] found in cache\n"
     ]
    },
    {
     "name": "stdout",
     "output_type": "stream",
     "text": [
      " \n",
      "http://airbnb.com/rooms/44091766?check_in=2021-01-01&check_out=2021-04-30&previous_page_section_name=1000&display_extensions%5B%5D=MONTHLY_STAYS&display_extensions%5B%5D=DATED_LTS&federated_search_id=484c1614-e0c5-4383-8bfe-e2dca8c3e86b\n"
     ]
    },
    {
     "name": "stderr",
     "output_type": "stream",
     "text": [
      "[WDM] - Current google-chrome version is 85.0.4183\n",
      "[WDM] - Get LATEST driver version for 85.0.4183\n",
      "[WDM] - Driver [/Users/jasenlo/.wdm/drivers/chromedriver/mac64/85.0.4183.87/chromedriver] found in cache\n"
     ]
    },
    {
     "name": "stdout",
     "output_type": "stream",
     "text": [
      " \n",
      "http://airbnb.com/rooms/35176801?check_in=2021-01-01&check_out=2021-04-30&previous_page_section_name=1000&display_extensions%5B%5D=MONTHLY_STAYS&display_extensions%5B%5D=DATED_LTS&federated_search_id=484c1614-e0c5-4383-8bfe-e2dca8c3e86b\n"
     ]
    },
    {
     "name": "stderr",
     "output_type": "stream",
     "text": [
      "[WDM] - Current google-chrome version is 85.0.4183\n",
      "[WDM] - Get LATEST driver version for 85.0.4183\n",
      "[WDM] - Driver [/Users/jasenlo/.wdm/drivers/chromedriver/mac64/85.0.4183.87/chromedriver] found in cache\n"
     ]
    },
    {
     "name": "stdout",
     "output_type": "stream",
     "text": [
      " \n",
      "http://airbnb.com/rooms/11578474?check_in=2021-01-01&check_out=2021-04-30&previous_page_section_name=1000&display_extensions%5B%5D=MONTHLY_STAYS&display_extensions%5B%5D=DATED_LTS&federated_search_id=484c1614-e0c5-4383-8bfe-e2dca8c3e86b\n"
     ]
    },
    {
     "name": "stderr",
     "output_type": "stream",
     "text": [
      "[WDM] - Current google-chrome version is 85.0.4183\n",
      "[WDM] - Get LATEST driver version for 85.0.4183\n",
      "[WDM] - Driver [/Users/jasenlo/.wdm/drivers/chromedriver/mac64/85.0.4183.87/chromedriver] found in cache\n"
     ]
    },
    {
     "name": "stdout",
     "output_type": "stream",
     "text": [
      " \n",
      "http://airbnb.com/rooms/10258745?check_in=2021-01-01&check_out=2021-04-30&previous_page_section_name=1000&display_extensions%5B%5D=MONTHLY_STAYS&display_extensions%5B%5D=DATED_LTS&federated_search_id=484c1614-e0c5-4383-8bfe-e2dca8c3e86b\n"
     ]
    },
    {
     "name": "stderr",
     "output_type": "stream",
     "text": [
      "[WDM] - Current google-chrome version is 85.0.4183\n",
      "[WDM] - Get LATEST driver version for 85.0.4183\n",
      "[WDM] - Driver [/Users/jasenlo/.wdm/drivers/chromedriver/mac64/85.0.4183.87/chromedriver] found in cache\n"
     ]
    },
    {
     "name": "stdout",
     "output_type": "stream",
     "text": [
      " \n",
      "http://airbnb.com/rooms/33592346?check_in=2021-01-01&check_out=2021-04-30&previous_page_section_name=1000&display_extensions%5B%5D=MONTHLY_STAYS&display_extensions%5B%5D=DATED_LTS&federated_search_id=484c1614-e0c5-4383-8bfe-e2dca8c3e86b\n"
     ]
    },
    {
     "name": "stderr",
     "output_type": "stream",
     "text": [
      "[WDM] - Current google-chrome version is 85.0.4183\n",
      "[WDM] - Get LATEST driver version for 85.0.4183\n",
      "[WDM] - Driver [/Users/jasenlo/.wdm/drivers/chromedriver/mac64/85.0.4183.87/chromedriver] found in cache\n"
     ]
    },
    {
     "name": "stdout",
     "output_type": "stream",
     "text": [
      " \n",
      "http://airbnb.com/rooms/34684524?check_in=2021-01-01&check_out=2021-04-30&previous_page_section_name=1000&display_extensions%5B%5D=MONTHLY_STAYS&display_extensions%5B%5D=DATED_LTS&federated_search_id=484c1614-e0c5-4383-8bfe-e2dca8c3e86b\n"
     ]
    },
    {
     "name": "stderr",
     "output_type": "stream",
     "text": [
      "[WDM] - Current google-chrome version is 85.0.4183\n",
      "[WDM] - Get LATEST driver version for 85.0.4183\n",
      "[WDM] - Driver [/Users/jasenlo/.wdm/drivers/chromedriver/mac64/85.0.4183.87/chromedriver] found in cache\n"
     ]
    },
    {
     "name": "stdout",
     "output_type": "stream",
     "text": [
      " \n",
      "http://airbnb.com/rooms/6163113?check_in=2021-01-01&check_out=2021-04-30&previous_page_section_name=1000&display_extensions%5B%5D=MONTHLY_STAYS&display_extensions%5B%5D=DATED_LTS&federated_search_id=484c1614-e0c5-4383-8bfe-e2dca8c3e86b\n"
     ]
    },
    {
     "name": "stderr",
     "output_type": "stream",
     "text": [
      "[WDM] - Current google-chrome version is 85.0.4183\n",
      "[WDM] - Get LATEST driver version for 85.0.4183\n",
      "[WDM] - Driver [/Users/jasenlo/.wdm/drivers/chromedriver/mac64/85.0.4183.87/chromedriver] found in cache\n"
     ]
    },
    {
     "name": "stdout",
     "output_type": "stream",
     "text": [
      " \n",
      "http://airbnb.com/rooms/31077497?check_in=2021-01-01&check_out=2021-04-30&previous_page_section_name=1000&display_extensions%5B%5D=MONTHLY_STAYS&display_extensions%5B%5D=DATED_LTS&federated_search_id=484c1614-e0c5-4383-8bfe-e2dca8c3e86b\n"
     ]
    },
    {
     "name": "stderr",
     "output_type": "stream",
     "text": [
      "[WDM] - Current google-chrome version is 85.0.4183\n",
      "[WDM] - Get LATEST driver version for 85.0.4183\n",
      "[WDM] - Driver [/Users/jasenlo/.wdm/drivers/chromedriver/mac64/85.0.4183.87/chromedriver] found in cache\n"
     ]
    },
    {
     "name": "stdout",
     "output_type": "stream",
     "text": [
      " \n",
      "http://airbnb.com/rooms/45599027?check_in=2021-01-01&check_out=2021-04-30&previous_page_section_name=1000&display_extensions%5B%5D=MONTHLY_STAYS&display_extensions%5B%5D=DATED_LTS&federated_search_id=484c1614-e0c5-4383-8bfe-e2dca8c3e86b\n"
     ]
    },
    {
     "name": "stderr",
     "output_type": "stream",
     "text": [
      "[WDM] - Current google-chrome version is 85.0.4183\n",
      "[WDM] - Get LATEST driver version for 85.0.4183\n",
      "[WDM] - Driver [/Users/jasenlo/.wdm/drivers/chromedriver/mac64/85.0.4183.87/chromedriver] found in cache\n"
     ]
    },
    {
     "name": "stdout",
     "output_type": "stream",
     "text": [
      " \n",
      "http://airbnb.com/rooms/33173494?check_in=2021-01-01&check_out=2021-04-30&previous_page_section_name=1000&display_extensions%5B%5D=MONTHLY_STAYS&display_extensions%5B%5D=DATED_LTS&federated_search_id=484c1614-e0c5-4383-8bfe-e2dca8c3e86b\n"
     ]
    },
    {
     "name": "stderr",
     "output_type": "stream",
     "text": [
      "[WDM] - Current google-chrome version is 85.0.4183\n",
      "[WDM] - Get LATEST driver version for 85.0.4183\n",
      "[WDM] - Driver [/Users/jasenlo/.wdm/drivers/chromedriver/mac64/85.0.4183.87/chromedriver] found in cache\n"
     ]
    },
    {
     "name": "stdout",
     "output_type": "stream",
     "text": [
      " \n",
      "http://airbnb.com/rooms/41452295?check_in=2021-01-01&check_out=2021-04-30&previous_page_section_name=1000&display_extensions%5B%5D=MONTHLY_STAYS&display_extensions%5B%5D=DATED_LTS&federated_search_id=484c1614-e0c5-4383-8bfe-e2dca8c3e86b\n"
     ]
    },
    {
     "name": "stderr",
     "output_type": "stream",
     "text": [
      "[WDM] - Current google-chrome version is 85.0.4183\n",
      "[WDM] - Get LATEST driver version for 85.0.4183\n",
      "[WDM] - Driver [/Users/jasenlo/.wdm/drivers/chromedriver/mac64/85.0.4183.87/chromedriver] found in cache\n"
     ]
    },
    {
     "name": "stdout",
     "output_type": "stream",
     "text": [
      " \n",
      "http://airbnb.com/rooms/11609614?check_in=2021-01-01&check_out=2021-04-30&previous_page_section_name=1000&display_extensions%5B%5D=MONTHLY_STAYS&display_extensions%5B%5D=DATED_LTS&federated_search_id=484c1614-e0c5-4383-8bfe-e2dca8c3e86b\n"
     ]
    },
    {
     "name": "stderr",
     "output_type": "stream",
     "text": [
      "[WDM] - Current google-chrome version is 85.0.4183\n",
      "[WDM] - Get LATEST driver version for 85.0.4183\n",
      "[WDM] - Driver [/Users/jasenlo/.wdm/drivers/chromedriver/mac64/85.0.4183.87/chromedriver] found in cache\n"
     ]
    },
    {
     "name": "stdout",
     "output_type": "stream",
     "text": [
      " \n",
      "http://airbnb.com/rooms/7612704?check_in=2021-01-01&check_out=2021-04-30&previous_page_section_name=1000&display_extensions%5B%5D=MONTHLY_STAYS&display_extensions%5B%5D=DATED_LTS&federated_search_id=484c1614-e0c5-4383-8bfe-e2dca8c3e86b\n"
     ]
    },
    {
     "name": "stderr",
     "output_type": "stream",
     "text": [
      "[WDM] - Current google-chrome version is 85.0.4183\n",
      "[WDM] - Get LATEST driver version for 85.0.4183\n",
      "[WDM] - Driver [/Users/jasenlo/.wdm/drivers/chromedriver/mac64/85.0.4183.87/chromedriver] found in cache\n"
     ]
    },
    {
     "name": "stdout",
     "output_type": "stream",
     "text": [
      " \n",
      "http://airbnb.com/rooms/22188846?check_in=2021-01-01&check_out=2021-04-30&previous_page_section_name=1000&display_extensions%5B%5D=DATED_LTS&display_extensions%5B%5D=MONTHLY_STAYS&federated_search_id=648c2343-719a-4de4-abcf-1aa26ed0257e\n"
     ]
    },
    {
     "name": "stderr",
     "output_type": "stream",
     "text": [
      "[WDM] - Current google-chrome version is 85.0.4183\n",
      "[WDM] - Get LATEST driver version for 85.0.4183\n",
      "[WDM] - Driver [/Users/jasenlo/.wdm/drivers/chromedriver/mac64/85.0.4183.87/chromedriver] found in cache\n"
     ]
    },
    {
     "name": "stdout",
     "output_type": "stream",
     "text": [
      " \n",
      "http://airbnb.com/rooms/42775041?check_in=2021-01-01&check_out=2021-04-30&previous_page_section_name=1000&display_extensions%5B%5D=DATED_LTS&display_extensions%5B%5D=MONTHLY_STAYS&federated_search_id=648c2343-719a-4de4-abcf-1aa26ed0257e\n"
     ]
    },
    {
     "name": "stderr",
     "output_type": "stream",
     "text": [
      "[WDM] - Current google-chrome version is 85.0.4183\n",
      "[WDM] - Get LATEST driver version for 85.0.4183\n",
      "[WDM] - Driver [/Users/jasenlo/.wdm/drivers/chromedriver/mac64/85.0.4183.87/chromedriver] found in cache\n"
     ]
    },
    {
     "name": "stdout",
     "output_type": "stream",
     "text": [
      " \n",
      "http://airbnb.com/rooms/45708054?check_in=2021-01-01&check_out=2021-04-30&previous_page_section_name=1000&display_extensions%5B%5D=DATED_LTS&display_extensions%5B%5D=MONTHLY_STAYS&federated_search_id=648c2343-719a-4de4-abcf-1aa26ed0257e\n"
     ]
    },
    {
     "name": "stderr",
     "output_type": "stream",
     "text": [
      "[WDM] - Current google-chrome version is 85.0.4183\n",
      "[WDM] - Get LATEST driver version for 85.0.4183\n",
      "[WDM] - Driver [/Users/jasenlo/.wdm/drivers/chromedriver/mac64/85.0.4183.87/chromedriver] found in cache\n"
     ]
    },
    {
     "name": "stdout",
     "output_type": "stream",
     "text": [
      " \n",
      "http://airbnb.com/rooms/44104117?check_in=2021-01-01&check_out=2021-04-30&previous_page_section_name=1000&display_extensions%5B%5D=DATED_LTS&display_extensions%5B%5D=MONTHLY_STAYS&federated_search_id=648c2343-719a-4de4-abcf-1aa26ed0257e\n"
     ]
    },
    {
     "name": "stderr",
     "output_type": "stream",
     "text": [
      "[WDM] - Current google-chrome version is 85.0.4183\n",
      "[WDM] - Get LATEST driver version for 85.0.4183\n",
      "[WDM] - Driver [/Users/jasenlo/.wdm/drivers/chromedriver/mac64/85.0.4183.87/chromedriver] found in cache\n"
     ]
    },
    {
     "name": "stdout",
     "output_type": "stream",
     "text": [
      " \n",
      "http://airbnb.com/rooms/7612704?check_in=2021-01-01&check_out=2021-04-30&previous_page_section_name=1000&display_extensions%5B%5D=DATED_LTS&display_extensions%5B%5D=MONTHLY_STAYS&federated_search_id=648c2343-719a-4de4-abcf-1aa26ed0257e\n"
     ]
    },
    {
     "name": "stderr",
     "output_type": "stream",
     "text": [
      "[WDM] - Current google-chrome version is 85.0.4183\n",
      "[WDM] - Get LATEST driver version for 85.0.4183\n",
      "[WDM] - Driver [/Users/jasenlo/.wdm/drivers/chromedriver/mac64/85.0.4183.87/chromedriver] found in cache\n"
     ]
    },
    {
     "name": "stdout",
     "output_type": "stream",
     "text": [
      " \n",
      "http://airbnb.com/rooms/39105131?check_in=2021-01-01&check_out=2021-04-30&previous_page_section_name=1000&display_extensions%5B%5D=DATED_LTS&display_extensions%5B%5D=MONTHLY_STAYS&federated_search_id=648c2343-719a-4de4-abcf-1aa26ed0257e\n"
     ]
    },
    {
     "name": "stderr",
     "output_type": "stream",
     "text": [
      "[WDM] - Current google-chrome version is 85.0.4183\n",
      "[WDM] - Get LATEST driver version for 85.0.4183\n",
      "[WDM] - Driver [/Users/jasenlo/.wdm/drivers/chromedriver/mac64/85.0.4183.87/chromedriver] found in cache\n"
     ]
    },
    {
     "name": "stdout",
     "output_type": "stream",
     "text": [
      " \n",
      "http://airbnb.com/rooms/6836951?check_in=2021-01-01&check_out=2021-04-30&previous_page_section_name=1000&display_extensions%5B%5D=DATED_LTS&display_extensions%5B%5D=MONTHLY_STAYS&federated_search_id=648c2343-719a-4de4-abcf-1aa26ed0257e\n"
     ]
    },
    {
     "name": "stderr",
     "output_type": "stream",
     "text": [
      "[WDM] - Current google-chrome version is 85.0.4183\n",
      "[WDM] - Get LATEST driver version for 85.0.4183\n",
      "[WDM] - Driver [/Users/jasenlo/.wdm/drivers/chromedriver/mac64/85.0.4183.87/chromedriver] found in cache\n"
     ]
    },
    {
     "name": "stdout",
     "output_type": "stream",
     "text": [
      " \n",
      "http://airbnb.com/rooms/41180301?check_in=2021-01-01&check_out=2021-04-30&previous_page_section_name=1000&display_extensions%5B%5D=DATED_LTS&display_extensions%5B%5D=MONTHLY_STAYS&federated_search_id=648c2343-719a-4de4-abcf-1aa26ed0257e\n"
     ]
    },
    {
     "name": "stderr",
     "output_type": "stream",
     "text": [
      "[WDM] - Current google-chrome version is 85.0.4183\n",
      "[WDM] - Get LATEST driver version for 85.0.4183\n",
      "[WDM] - Driver [/Users/jasenlo/.wdm/drivers/chromedriver/mac64/85.0.4183.87/chromedriver] found in cache\n"
     ]
    },
    {
     "name": "stdout",
     "output_type": "stream",
     "text": [
      " \n",
      "http://airbnb.com/rooms/14831877?check_in=2021-01-01&check_out=2021-04-30&previous_page_section_name=1000&display_extensions%5B%5D=DATED_LTS&display_extensions%5B%5D=MONTHLY_STAYS&federated_search_id=648c2343-719a-4de4-abcf-1aa26ed0257e\n"
     ]
    },
    {
     "name": "stderr",
     "output_type": "stream",
     "text": [
      "[WDM] - Current google-chrome version is 85.0.4183\n",
      "[WDM] - Get LATEST driver version for 85.0.4183\n",
      "[WDM] - Driver [/Users/jasenlo/.wdm/drivers/chromedriver/mac64/85.0.4183.87/chromedriver] found in cache\n"
     ]
    },
    {
     "name": "stdout",
     "output_type": "stream",
     "text": [
      " \n",
      "http://airbnb.com/rooms/30801828?check_in=2021-01-01&check_out=2021-04-30&previous_page_section_name=1000&display_extensions%5B%5D=DATED_LTS&display_extensions%5B%5D=MONTHLY_STAYS&federated_search_id=648c2343-719a-4de4-abcf-1aa26ed0257e\n"
     ]
    },
    {
     "name": "stderr",
     "output_type": "stream",
     "text": [
      "[WDM] - Current google-chrome version is 85.0.4183\n",
      "[WDM] - Get LATEST driver version for 85.0.4183\n",
      "[WDM] - Driver [/Users/jasenlo/.wdm/drivers/chromedriver/mac64/85.0.4183.87/chromedriver] found in cache\n"
     ]
    },
    {
     "name": "stdout",
     "output_type": "stream",
     "text": [
      " \n",
      "http://airbnb.com/rooms/40604377?check_in=2021-01-01&check_out=2021-04-30&previous_page_section_name=1000&display_extensions%5B%5D=DATED_LTS&display_extensions%5B%5D=MONTHLY_STAYS&federated_search_id=648c2343-719a-4de4-abcf-1aa26ed0257e\n"
     ]
    },
    {
     "name": "stderr",
     "output_type": "stream",
     "text": [
      "[WDM] - Current google-chrome version is 85.0.4183\n",
      "[WDM] - Get LATEST driver version for 85.0.4183\n",
      "[WDM] - Driver [/Users/jasenlo/.wdm/drivers/chromedriver/mac64/85.0.4183.87/chromedriver] found in cache\n"
     ]
    },
    {
     "name": "stdout",
     "output_type": "stream",
     "text": [
      " \n",
      "http://airbnb.com/rooms/2013452?check_in=2021-01-01&check_out=2021-04-30&previous_page_section_name=1000&display_extensions%5B%5D=DATED_LTS&display_extensions%5B%5D=MONTHLY_STAYS&federated_search_id=648c2343-719a-4de4-abcf-1aa26ed0257e\n"
     ]
    },
    {
     "name": "stderr",
     "output_type": "stream",
     "text": [
      "[WDM] - Current google-chrome version is 85.0.4183\n",
      "[WDM] - Get LATEST driver version for 85.0.4183\n",
      "[WDM] - Driver [/Users/jasenlo/.wdm/drivers/chromedriver/mac64/85.0.4183.87/chromedriver] found in cache\n"
     ]
    },
    {
     "name": "stdout",
     "output_type": "stream",
     "text": [
      " \n",
      "http://airbnb.com/rooms/44023717?check_in=2021-01-01&check_out=2021-04-30&previous_page_section_name=1000&display_extensions%5B%5D=DATED_LTS&display_extensions%5B%5D=MONTHLY_STAYS&federated_search_id=648c2343-719a-4de4-abcf-1aa26ed0257e\n"
     ]
    },
    {
     "name": "stderr",
     "output_type": "stream",
     "text": [
      "[WDM] - Current google-chrome version is 85.0.4183\n",
      "[WDM] - Get LATEST driver version for 85.0.4183\n",
      "[WDM] - Driver [/Users/jasenlo/.wdm/drivers/chromedriver/mac64/85.0.4183.87/chromedriver] found in cache\n"
     ]
    },
    {
     "name": "stdout",
     "output_type": "stream",
     "text": [
      " \n",
      "http://airbnb.com/rooms/45258792?check_in=2021-01-01&check_out=2021-04-30&previous_page_section_name=1000&display_extensions%5B%5D=DATED_LTS&display_extensions%5B%5D=MONTHLY_STAYS&federated_search_id=648c2343-719a-4de4-abcf-1aa26ed0257e\n"
     ]
    },
    {
     "name": "stderr",
     "output_type": "stream",
     "text": [
      "[WDM] - Current google-chrome version is 85.0.4183\n",
      "[WDM] - Get LATEST driver version for 85.0.4183\n",
      "[WDM] - Driver [/Users/jasenlo/.wdm/drivers/chromedriver/mac64/85.0.4183.87/chromedriver] found in cache\n"
     ]
    },
    {
     "name": "stdout",
     "output_type": "stream",
     "text": [
      " \n",
      "http://airbnb.com/rooms/32176647?check_in=2021-01-01&check_out=2021-04-30&previous_page_section_name=1000&display_extensions%5B%5D=DATED_LTS&display_extensions%5B%5D=MONTHLY_STAYS&federated_search_id=648c2343-719a-4de4-abcf-1aa26ed0257e\n"
     ]
    },
    {
     "name": "stderr",
     "output_type": "stream",
     "text": [
      "[WDM] - Current google-chrome version is 85.0.4183\n",
      "[WDM] - Get LATEST driver version for 85.0.4183\n",
      "[WDM] - Driver [/Users/jasenlo/.wdm/drivers/chromedriver/mac64/85.0.4183.87/chromedriver] found in cache\n"
     ]
    },
    {
     "name": "stdout",
     "output_type": "stream",
     "text": [
      " \n",
      "http://airbnb.com/rooms/44096332?check_in=2021-01-01&check_out=2021-04-30&previous_page_section_name=1000&display_extensions%5B%5D=DATED_LTS&display_extensions%5B%5D=MONTHLY_STAYS&federated_search_id=648c2343-719a-4de4-abcf-1aa26ed0257e\n"
     ]
    },
    {
     "name": "stderr",
     "output_type": "stream",
     "text": [
      "[WDM] - Current google-chrome version is 85.0.4183\n",
      "[WDM] - Get LATEST driver version for 85.0.4183\n",
      "[WDM] - Driver [/Users/jasenlo/.wdm/drivers/chromedriver/mac64/85.0.4183.87/chromedriver] found in cache\n"
     ]
    },
    {
     "name": "stdout",
     "output_type": "stream",
     "text": [
      " \n",
      "http://airbnb.com/rooms/22851494?check_in=2021-01-01&check_out=2021-04-30&previous_page_section_name=1000&display_extensions%5B%5D=DATED_LTS&display_extensions%5B%5D=MONTHLY_STAYS&federated_search_id=648c2343-719a-4de4-abcf-1aa26ed0257e\n"
     ]
    },
    {
     "name": "stderr",
     "output_type": "stream",
     "text": [
      "[WDM] - Current google-chrome version is 85.0.4183\n",
      "[WDM] - Get LATEST driver version for 85.0.4183\n",
      "[WDM] - Driver [/Users/jasenlo/.wdm/drivers/chromedriver/mac64/85.0.4183.87/chromedriver] found in cache\n"
     ]
    },
    {
     "name": "stdout",
     "output_type": "stream",
     "text": [
      " \n",
      "http://airbnb.com/rooms/27949469?check_in=2021-01-01&check_out=2021-04-30&previous_page_section_name=1000&display_extensions%5B%5D=DATED_LTS&display_extensions%5B%5D=MONTHLY_STAYS&federated_search_id=648c2343-719a-4de4-abcf-1aa26ed0257e\n"
     ]
    },
    {
     "name": "stderr",
     "output_type": "stream",
     "text": [
      "[WDM] - Current google-chrome version is 85.0.4183\n",
      "[WDM] - Get LATEST driver version for 85.0.4183\n",
      "[WDM] - Driver [/Users/jasenlo/.wdm/drivers/chromedriver/mac64/85.0.4183.87/chromedriver] found in cache\n"
     ]
    },
    {
     "name": "stdout",
     "output_type": "stream",
     "text": [
      " \n",
      "http://airbnb.com/rooms/44091609?check_in=2021-01-01&check_out=2021-04-30&previous_page_section_name=1000&display_extensions%5B%5D=DATED_LTS&display_extensions%5B%5D=MONTHLY_STAYS&federated_search_id=b2f73f4c-bce2-4685-8ed6-f467187a2728\n"
     ]
    },
    {
     "name": "stderr",
     "output_type": "stream",
     "text": [
      "[WDM] - Current google-chrome version is 85.0.4183\n",
      "[WDM] - Get LATEST driver version for 85.0.4183\n",
      "[WDM] - Driver [/Users/jasenlo/.wdm/drivers/chromedriver/mac64/85.0.4183.87/chromedriver] found in cache\n"
     ]
    },
    {
     "name": "stdout",
     "output_type": "stream",
     "text": [
      " \n",
      "http://airbnb.com/rooms/44400387?check_in=2021-01-01&check_out=2021-04-30&previous_page_section_name=1000&display_extensions%5B%5D=DATED_LTS&display_extensions%5B%5D=MONTHLY_STAYS&federated_search_id=b2f73f4c-bce2-4685-8ed6-f467187a2728\n"
     ]
    },
    {
     "name": "stderr",
     "output_type": "stream",
     "text": [
      "[WDM] - Current google-chrome version is 85.0.4183\n",
      "[WDM] - Get LATEST driver version for 85.0.4183\n",
      "[WDM] - Driver [/Users/jasenlo/.wdm/drivers/chromedriver/mac64/85.0.4183.87/chromedriver] found in cache\n"
     ]
    },
    {
     "name": "stdout",
     "output_type": "stream",
     "text": [
      " \n",
      "http://airbnb.com/rooms/27776631?check_in=2021-01-01&check_out=2021-04-30&previous_page_section_name=1000&display_extensions%5B%5D=DATED_LTS&display_extensions%5B%5D=MONTHLY_STAYS&federated_search_id=b2f73f4c-bce2-4685-8ed6-f467187a2728\n"
     ]
    },
    {
     "name": "stderr",
     "output_type": "stream",
     "text": [
      "[WDM] - Current google-chrome version is 85.0.4183\n",
      "[WDM] - Get LATEST driver version for 85.0.4183\n",
      "[WDM] - Driver [/Users/jasenlo/.wdm/drivers/chromedriver/mac64/85.0.4183.87/chromedriver] found in cache\n"
     ]
    },
    {
     "name": "stdout",
     "output_type": "stream",
     "text": [
      " \n",
      "http://airbnb.com/rooms/16444665?check_in=2021-01-01&check_out=2021-04-30&previous_page_section_name=1000&display_extensions%5B%5D=DATED_LTS&display_extensions%5B%5D=MONTHLY_STAYS&federated_search_id=b2f73f4c-bce2-4685-8ed6-f467187a2728\n"
     ]
    },
    {
     "name": "stderr",
     "output_type": "stream",
     "text": [
      "[WDM] - Current google-chrome version is 85.0.4183\n",
      "[WDM] - Get LATEST driver version for 85.0.4183\n",
      "[WDM] - Driver [/Users/jasenlo/.wdm/drivers/chromedriver/mac64/85.0.4183.87/chromedriver] found in cache\n"
     ]
    },
    {
     "name": "stdout",
     "output_type": "stream",
     "text": [
      " \n",
      "http://airbnb.com/rooms/41850995?check_in=2021-01-01&check_out=2021-04-30&previous_page_section_name=1000&display_extensions%5B%5D=DATED_LTS&display_extensions%5B%5D=MONTHLY_STAYS&federated_search_id=b2f73f4c-bce2-4685-8ed6-f467187a2728\n"
     ]
    },
    {
     "name": "stderr",
     "output_type": "stream",
     "text": [
      "[WDM] - Current google-chrome version is 85.0.4183\n",
      "[WDM] - Get LATEST driver version for 85.0.4183\n",
      "[WDM] - Driver [/Users/jasenlo/.wdm/drivers/chromedriver/mac64/85.0.4183.87/chromedriver] found in cache\n"
     ]
    },
    {
     "name": "stdout",
     "output_type": "stream",
     "text": [
      " \n",
      "http://airbnb.com/rooms/30676239?check_in=2021-01-01&check_out=2021-04-30&previous_page_section_name=1000&display_extensions%5B%5D=DATED_LTS&display_extensions%5B%5D=MONTHLY_STAYS&federated_search_id=b2f73f4c-bce2-4685-8ed6-f467187a2728\n"
     ]
    },
    {
     "name": "stderr",
     "output_type": "stream",
     "text": [
      "[WDM] - Current google-chrome version is 85.0.4183\n",
      "[WDM] - Get LATEST driver version for 85.0.4183\n",
      "[WDM] - Driver [/Users/jasenlo/.wdm/drivers/chromedriver/mac64/85.0.4183.87/chromedriver] found in cache\n"
     ]
    },
    {
     "name": "stdout",
     "output_type": "stream",
     "text": [
      " \n",
      "http://airbnb.com/rooms/25555185?check_in=2021-01-01&check_out=2021-04-30&previous_page_section_name=1000&display_extensions%5B%5D=DATED_LTS&display_extensions%5B%5D=MONTHLY_STAYS&federated_search_id=b2f73f4c-bce2-4685-8ed6-f467187a2728\n"
     ]
    },
    {
     "name": "stderr",
     "output_type": "stream",
     "text": [
      "[WDM] - Current google-chrome version is 85.0.4183\n",
      "[WDM] - Get LATEST driver version for 85.0.4183\n",
      "[WDM] - Driver [/Users/jasenlo/.wdm/drivers/chromedriver/mac64/85.0.4183.87/chromedriver] found in cache\n"
     ]
    },
    {
     "name": "stdout",
     "output_type": "stream",
     "text": [
      " \n",
      "http://airbnb.com/rooms/27671853?check_in=2021-01-01&check_out=2021-04-30&previous_page_section_name=1000&display_extensions%5B%5D=DATED_LTS&display_extensions%5B%5D=MONTHLY_STAYS&federated_search_id=b2f73f4c-bce2-4685-8ed6-f467187a2728\n"
     ]
    },
    {
     "name": "stderr",
     "output_type": "stream",
     "text": [
      "[WDM] - Current google-chrome version is 85.0.4183\n",
      "[WDM] - Get LATEST driver version for 85.0.4183\n",
      "[WDM] - Driver [/Users/jasenlo/.wdm/drivers/chromedriver/mac64/85.0.4183.87/chromedriver] found in cache\n"
     ]
    },
    {
     "name": "stdout",
     "output_type": "stream",
     "text": [
      " \n",
      "http://airbnb.com/rooms/10385900?check_in=2021-01-01&check_out=2021-04-30&previous_page_section_name=1000&display_extensions%5B%5D=DATED_LTS&display_extensions%5B%5D=MONTHLY_STAYS&federated_search_id=b2f73f4c-bce2-4685-8ed6-f467187a2728\n"
     ]
    },
    {
     "name": "stderr",
     "output_type": "stream",
     "text": [
      "[WDM] - Current google-chrome version is 85.0.4183\n",
      "[WDM] - Get LATEST driver version for 85.0.4183\n",
      "[WDM] - Driver [/Users/jasenlo/.wdm/drivers/chromedriver/mac64/85.0.4183.87/chromedriver] found in cache\n"
     ]
    },
    {
     "name": "stdout",
     "output_type": "stream",
     "text": [
      " \n",
      "http://airbnb.com/rooms/45534685?check_in=2021-01-01&check_out=2021-04-30&previous_page_section_name=1000&display_extensions%5B%5D=DATED_LTS&display_extensions%5B%5D=MONTHLY_STAYS&federated_search_id=b2f73f4c-bce2-4685-8ed6-f467187a2728\n"
     ]
    },
    {
     "name": "stderr",
     "output_type": "stream",
     "text": [
      "[WDM] - Current google-chrome version is 85.0.4183\n",
      "[WDM] - Get LATEST driver version for 85.0.4183\n",
      "[WDM] - Driver [/Users/jasenlo/.wdm/drivers/chromedriver/mac64/85.0.4183.87/chromedriver] found in cache\n"
     ]
    },
    {
     "name": "stdout",
     "output_type": "stream",
     "text": [
      " \n",
      "http://airbnb.com/rooms/37473463?check_in=2021-01-01&check_out=2021-04-30&previous_page_section_name=1000&display_extensions%5B%5D=DATED_LTS&display_extensions%5B%5D=MONTHLY_STAYS&federated_search_id=b2f73f4c-bce2-4685-8ed6-f467187a2728\n"
     ]
    },
    {
     "name": "stderr",
     "output_type": "stream",
     "text": [
      "[WDM] - Current google-chrome version is 85.0.4183\n",
      "[WDM] - Get LATEST driver version for 85.0.4183\n",
      "[WDM] - Driver [/Users/jasenlo/.wdm/drivers/chromedriver/mac64/85.0.4183.87/chromedriver] found in cache\n"
     ]
    },
    {
     "name": "stdout",
     "output_type": "stream",
     "text": [
      " \n",
      "http://airbnb.com/rooms/38765339?check_in=2021-01-01&check_out=2021-04-30&previous_page_section_name=1000&display_extensions%5B%5D=DATED_LTS&display_extensions%5B%5D=MONTHLY_STAYS&federated_search_id=b2f73f4c-bce2-4685-8ed6-f467187a2728\n"
     ]
    },
    {
     "name": "stderr",
     "output_type": "stream",
     "text": [
      "[WDM] - Current google-chrome version is 85.0.4183\n",
      "[WDM] - Get LATEST driver version for 85.0.4183\n",
      "[WDM] - Driver [/Users/jasenlo/.wdm/drivers/chromedriver/mac64/85.0.4183.87/chromedriver] found in cache\n"
     ]
    },
    {
     "name": "stdout",
     "output_type": "stream",
     "text": [
      " \n",
      "http://airbnb.com/rooms/34081872?check_in=2021-01-01&check_out=2021-04-30&previous_page_section_name=1000&display_extensions%5B%5D=DATED_LTS&display_extensions%5B%5D=MONTHLY_STAYS&federated_search_id=b2f73f4c-bce2-4685-8ed6-f467187a2728\n"
     ]
    },
    {
     "name": "stderr",
     "output_type": "stream",
     "text": [
      "[WDM] - Current google-chrome version is 85.0.4183\n",
      "[WDM] - Get LATEST driver version for 85.0.4183\n",
      "[WDM] - Driver [/Users/jasenlo/.wdm/drivers/chromedriver/mac64/85.0.4183.87/chromedriver] found in cache\n"
     ]
    },
    {
     "name": "stdout",
     "output_type": "stream",
     "text": [
      " \n",
      "http://airbnb.com/rooms/38205696?check_in=2021-01-01&check_out=2021-04-30&previous_page_section_name=1000&display_extensions%5B%5D=DATED_LTS&display_extensions%5B%5D=MONTHLY_STAYS&federated_search_id=b2f73f4c-bce2-4685-8ed6-f467187a2728\n"
     ]
    },
    {
     "name": "stderr",
     "output_type": "stream",
     "text": [
      "[WDM] - Current google-chrome version is 85.0.4183\n",
      "[WDM] - Get LATEST driver version for 85.0.4183\n",
      "[WDM] - Driver [/Users/jasenlo/.wdm/drivers/chromedriver/mac64/85.0.4183.87/chromedriver] found in cache\n"
     ]
    },
    {
     "name": "stdout",
     "output_type": "stream",
     "text": [
      " \n",
      "http://airbnb.com/rooms/19542160?check_in=2021-01-01&check_out=2021-04-30&previous_page_section_name=1000&display_extensions%5B%5D=DATED_LTS&display_extensions%5B%5D=MONTHLY_STAYS&federated_search_id=b2f73f4c-bce2-4685-8ed6-f467187a2728\n"
     ]
    },
    {
     "name": "stderr",
     "output_type": "stream",
     "text": [
      "[WDM] - Current google-chrome version is 85.0.4183\n",
      "[WDM] - Get LATEST driver version for 85.0.4183\n",
      "[WDM] - Driver [/Users/jasenlo/.wdm/drivers/chromedriver/mac64/85.0.4183.87/chromedriver] found in cache\n"
     ]
    },
    {
     "name": "stdout",
     "output_type": "stream",
     "text": [
      " \n",
      "http://airbnb.com/rooms/32430301?check_in=2021-01-01&check_out=2021-04-30&previous_page_section_name=1000&display_extensions%5B%5D=MONTHLY_STAYS&display_extensions%5B%5D=DATED_LTS&federated_search_id=7b0b01a0-6851-4368-adfb-b76a9a489436\n"
     ]
    },
    {
     "name": "stderr",
     "output_type": "stream",
     "text": [
      "[WDM] - Current google-chrome version is 85.0.4183\n",
      "[WDM] - Get LATEST driver version for 85.0.4183\n",
      "[WDM] - Driver [/Users/jasenlo/.wdm/drivers/chromedriver/mac64/85.0.4183.87/chromedriver] found in cache\n"
     ]
    },
    {
     "name": "stdout",
     "output_type": "stream",
     "text": [
      " \n",
      "http://airbnb.com/rooms/28440977?check_in=2021-01-01&check_out=2021-04-30&previous_page_section_name=1000&display_extensions%5B%5D=MONTHLY_STAYS&display_extensions%5B%5D=DATED_LTS&federated_search_id=7b0b01a0-6851-4368-adfb-b76a9a489436\n"
     ]
    },
    {
     "name": "stderr",
     "output_type": "stream",
     "text": [
      "[WDM] - Current google-chrome version is 85.0.4183\n",
      "[WDM] - Get LATEST driver version for 85.0.4183\n",
      "[WDM] - Driver [/Users/jasenlo/.wdm/drivers/chromedriver/mac64/85.0.4183.87/chromedriver] found in cache\n"
     ]
    },
    {
     "name": "stdout",
     "output_type": "stream",
     "text": [
      " \n",
      "http://airbnb.com/rooms/39784504?check_in=2021-01-01&check_out=2021-04-30&previous_page_section_name=1000&display_extensions%5B%5D=MONTHLY_STAYS&display_extensions%5B%5D=DATED_LTS&federated_search_id=7b0b01a0-6851-4368-adfb-b76a9a489436\n"
     ]
    },
    {
     "name": "stderr",
     "output_type": "stream",
     "text": [
      "[WDM] - Current google-chrome version is 85.0.4183\n",
      "[WDM] - Get LATEST driver version for 85.0.4183\n",
      "[WDM] - Driver [/Users/jasenlo/.wdm/drivers/chromedriver/mac64/85.0.4183.87/chromedriver] found in cache\n"
     ]
    },
    {
     "name": "stdout",
     "output_type": "stream",
     "text": [
      " \n",
      "http://airbnb.com/rooms/897082?check_in=2021-01-01&check_out=2021-04-30&previous_page_section_name=1000&display_extensions%5B%5D=MONTHLY_STAYS&display_extensions%5B%5D=DATED_LTS&federated_search_id=7b0b01a0-6851-4368-adfb-b76a9a489436\n"
     ]
    },
    {
     "name": "stderr",
     "output_type": "stream",
     "text": [
      "[WDM] - Current google-chrome version is 85.0.4183\n",
      "[WDM] - Get LATEST driver version for 85.0.4183\n",
      "[WDM] - Driver [/Users/jasenlo/.wdm/drivers/chromedriver/mac64/85.0.4183.87/chromedriver] found in cache\n"
     ]
    },
    {
     "name": "stdout",
     "output_type": "stream",
     "text": [
      " \n",
      "http://airbnb.com/rooms/31777035?check_in=2021-01-01&check_out=2021-04-30&previous_page_section_name=1000&display_extensions%5B%5D=MONTHLY_STAYS&display_extensions%5B%5D=DATED_LTS&federated_search_id=7b0b01a0-6851-4368-adfb-b76a9a489436\n"
     ]
    },
    {
     "name": "stderr",
     "output_type": "stream",
     "text": [
      "[WDM] - Current google-chrome version is 85.0.4183\n",
      "[WDM] - Get LATEST driver version for 85.0.4183\n",
      "[WDM] - Driver [/Users/jasenlo/.wdm/drivers/chromedriver/mac64/85.0.4183.87/chromedriver] found in cache\n"
     ]
    },
    {
     "name": "stdout",
     "output_type": "stream",
     "text": [
      " \n",
      "http://airbnb.com/rooms/45129343?check_in=2021-01-01&check_out=2021-04-30&previous_page_section_name=1000&display_extensions%5B%5D=MONTHLY_STAYS&display_extensions%5B%5D=DATED_LTS&federated_search_id=7b0b01a0-6851-4368-adfb-b76a9a489436\n"
     ]
    },
    {
     "name": "stderr",
     "output_type": "stream",
     "text": [
      "[WDM] - Current google-chrome version is 85.0.4183\n",
      "[WDM] - Get LATEST driver version for 85.0.4183\n",
      "[WDM] - Driver [/Users/jasenlo/.wdm/drivers/chromedriver/mac64/85.0.4183.87/chromedriver] found in cache\n"
     ]
    },
    {
     "name": "stdout",
     "output_type": "stream",
     "text": [
      " \n",
      "http://airbnb.com/rooms/45358807?check_in=2021-01-01&check_out=2021-04-30&previous_page_section_name=1000&display_extensions%5B%5D=MONTHLY_STAYS&display_extensions%5B%5D=DATED_LTS&federated_search_id=7b0b01a0-6851-4368-adfb-b76a9a489436\n"
     ]
    },
    {
     "name": "stderr",
     "output_type": "stream",
     "text": [
      "[WDM] - Current google-chrome version is 85.0.4183\n",
      "[WDM] - Get LATEST driver version for 85.0.4183\n",
      "[WDM] - Driver [/Users/jasenlo/.wdm/drivers/chromedriver/mac64/85.0.4183.87/chromedriver] found in cache\n"
     ]
    },
    {
     "name": "stdout",
     "output_type": "stream",
     "text": [
      " \n",
      "http://airbnb.com/rooms/41963520?check_in=2021-01-01&check_out=2021-04-30&previous_page_section_name=1000&display_extensions%5B%5D=MONTHLY_STAYS&display_extensions%5B%5D=DATED_LTS&federated_search_id=7b0b01a0-6851-4368-adfb-b76a9a489436\n"
     ]
    },
    {
     "name": "stderr",
     "output_type": "stream",
     "text": [
      "[WDM] - Current google-chrome version is 85.0.4183\n",
      "[WDM] - Get LATEST driver version for 85.0.4183\n",
      "[WDM] - Driver [/Users/jasenlo/.wdm/drivers/chromedriver/mac64/85.0.4183.87/chromedriver] found in cache\n"
     ]
    },
    {
     "name": "stdout",
     "output_type": "stream",
     "text": [
      " \n",
      "http://airbnb.com/rooms/30801828?check_in=2021-01-01&check_out=2021-04-30&previous_page_section_name=1000&display_extensions%5B%5D=MONTHLY_STAYS&display_extensions%5B%5D=DATED_LTS&federated_search_id=7b0b01a0-6851-4368-adfb-b76a9a489436\n"
     ]
    },
    {
     "name": "stderr",
     "output_type": "stream",
     "text": [
      "[WDM] - Current google-chrome version is 85.0.4183\n",
      "[WDM] - Get LATEST driver version for 85.0.4183\n",
      "[WDM] - Driver [/Users/jasenlo/.wdm/drivers/chromedriver/mac64/85.0.4183.87/chromedriver] found in cache\n"
     ]
    },
    {
     "name": "stdout",
     "output_type": "stream",
     "text": [
      " \n",
      "http://airbnb.com/rooms/17240106?check_in=2021-01-01&check_out=2021-04-30&previous_page_section_name=1000&display_extensions%5B%5D=MONTHLY_STAYS&display_extensions%5B%5D=DATED_LTS&federated_search_id=7b0b01a0-6851-4368-adfb-b76a9a489436\n"
     ]
    },
    {
     "name": "stderr",
     "output_type": "stream",
     "text": [
      "[WDM] - Current google-chrome version is 85.0.4183\n",
      "[WDM] - Get LATEST driver version for 85.0.4183\n",
      "[WDM] - Driver [/Users/jasenlo/.wdm/drivers/chromedriver/mac64/85.0.4183.87/chromedriver] found in cache\n"
     ]
    },
    {
     "name": "stdout",
     "output_type": "stream",
     "text": [
      " \n",
      "http://airbnb.com/rooms/42336095?check_in=2021-01-01&check_out=2021-04-30&previous_page_section_name=1000&display_extensions%5B%5D=MONTHLY_STAYS&display_extensions%5B%5D=DATED_LTS&federated_search_id=7b0b01a0-6851-4368-adfb-b76a9a489436\n"
     ]
    },
    {
     "name": "stderr",
     "output_type": "stream",
     "text": [
      "[WDM] - Current google-chrome version is 85.0.4183\n",
      "[WDM] - Get LATEST driver version for 85.0.4183\n",
      "[WDM] - Driver [/Users/jasenlo/.wdm/drivers/chromedriver/mac64/85.0.4183.87/chromedriver] found in cache\n"
     ]
    },
    {
     "name": "stdout",
     "output_type": "stream",
     "text": [
      " \n",
      "http://airbnb.com/rooms/11399379?check_in=2021-01-01&check_out=2021-04-30&previous_page_section_name=1000&display_extensions%5B%5D=MONTHLY_STAYS&display_extensions%5B%5D=DATED_LTS&federated_search_id=7b0b01a0-6851-4368-adfb-b76a9a489436\n"
     ]
    },
    {
     "name": "stderr",
     "output_type": "stream",
     "text": [
      "[WDM] - Current google-chrome version is 85.0.4183\n",
      "[WDM] - Get LATEST driver version for 85.0.4183\n",
      "[WDM] - Driver [/Users/jasenlo/.wdm/drivers/chromedriver/mac64/85.0.4183.87/chromedriver] found in cache\n"
     ]
    },
    {
     "name": "stdout",
     "output_type": "stream",
     "text": [
      " \n",
      "http://airbnb.com/rooms/25794951?check_in=2021-01-01&check_out=2021-04-30&previous_page_section_name=1000&display_extensions%5B%5D=MONTHLY_STAYS&display_extensions%5B%5D=DATED_LTS&federated_search_id=7b0b01a0-6851-4368-adfb-b76a9a489436\n"
     ]
    },
    {
     "name": "stderr",
     "output_type": "stream",
     "text": [
      "[WDM] - Current google-chrome version is 85.0.4183\n",
      "[WDM] - Get LATEST driver version for 85.0.4183\n",
      "[WDM] - Driver [/Users/jasenlo/.wdm/drivers/chromedriver/mac64/85.0.4183.87/chromedriver] found in cache\n"
     ]
    },
    {
     "name": "stdout",
     "output_type": "stream",
     "text": [
      " \n",
      "http://airbnb.com/rooms/45258792?check_in=2021-01-01&check_out=2021-04-30&previous_page_section_name=1000&display_extensions%5B%5D=MONTHLY_STAYS&display_extensions%5B%5D=DATED_LTS&federated_search_id=7b0b01a0-6851-4368-adfb-b76a9a489436\n"
     ]
    },
    {
     "name": "stderr",
     "output_type": "stream",
     "text": [
      "[WDM] - Current google-chrome version is 85.0.4183\n",
      "[WDM] - Get LATEST driver version for 85.0.4183\n",
      "[WDM] - Driver [/Users/jasenlo/.wdm/drivers/chromedriver/mac64/85.0.4183.87/chromedriver] found in cache\n"
     ]
    },
    {
     "name": "stdout",
     "output_type": "stream",
     "text": [
      " \n",
      "http://airbnb.com/rooms/30897080?check_in=2021-01-01&check_out=2021-04-30&previous_page_section_name=1000&display_extensions%5B%5D=MONTHLY_STAYS&display_extensions%5B%5D=DATED_LTS&federated_search_id=7b0b01a0-6851-4368-adfb-b76a9a489436\n"
     ]
    },
    {
     "name": "stderr",
     "output_type": "stream",
     "text": [
      "[WDM] - Current google-chrome version is 85.0.4183\n",
      "[WDM] - Get LATEST driver version for 85.0.4183\n",
      "[WDM] - Driver [/Users/jasenlo/.wdm/drivers/chromedriver/mac64/85.0.4183.87/chromedriver] found in cache\n"
     ]
    },
    {
     "name": "stdout",
     "output_type": "stream",
     "text": [
      " \n",
      "http://airbnb.com/rooms/42602509?check_in=2021-01-01&check_out=2021-04-30&previous_page_section_name=1000&display_extensions%5B%5D=MONTHLY_STAYS&display_extensions%5B%5D=DATED_LTS&federated_search_id=04367722-50b9-41dd-b5a6-e3d4da8da34c\n"
     ]
    },
    {
     "name": "stderr",
     "output_type": "stream",
     "text": [
      "[WDM] - Current google-chrome version is 85.0.4183\n",
      "[WDM] - Get LATEST driver version for 85.0.4183\n",
      "[WDM] - Driver [/Users/jasenlo/.wdm/drivers/chromedriver/mac64/85.0.4183.87/chromedriver] found in cache\n"
     ]
    },
    {
     "name": "stdout",
     "output_type": "stream",
     "text": [
      " \n",
      "http://airbnb.com/rooms/33861010?check_in=2021-01-01&check_out=2021-04-30&previous_page_section_name=1000&display_extensions%5B%5D=MONTHLY_STAYS&display_extensions%5B%5D=DATED_LTS&federated_search_id=04367722-50b9-41dd-b5a6-e3d4da8da34c\n"
     ]
    },
    {
     "name": "stderr",
     "output_type": "stream",
     "text": [
      "[WDM] - Current google-chrome version is 85.0.4183\n",
      "[WDM] - Get LATEST driver version for 85.0.4183\n",
      "[WDM] - Driver [/Users/jasenlo/.wdm/drivers/chromedriver/mac64/85.0.4183.87/chromedriver] found in cache\n"
     ]
    },
    {
     "name": "stdout",
     "output_type": "stream",
     "text": [
      " \n",
      "http://airbnb.com/rooms/44881245?check_in=2021-01-01&check_out=2021-04-30&previous_page_section_name=1000&display_extensions%5B%5D=MONTHLY_STAYS&display_extensions%5B%5D=DATED_LTS&federated_search_id=04367722-50b9-41dd-b5a6-e3d4da8da34c\n"
     ]
    },
    {
     "name": "stderr",
     "output_type": "stream",
     "text": [
      "[WDM] - Current google-chrome version is 85.0.4183\n",
      "[WDM] - Get LATEST driver version for 85.0.4183\n",
      "[WDM] - Driver [/Users/jasenlo/.wdm/drivers/chromedriver/mac64/85.0.4183.87/chromedriver] found in cache\n"
     ]
    },
    {
     "name": "stdout",
     "output_type": "stream",
     "text": [
      " \n",
      "http://airbnb.com/rooms/41510724?check_in=2021-01-01&check_out=2021-04-30&previous_page_section_name=1000&display_extensions%5B%5D=MONTHLY_STAYS&display_extensions%5B%5D=DATED_LTS&federated_search_id=04367722-50b9-41dd-b5a6-e3d4da8da34c\n"
     ]
    },
    {
     "name": "stderr",
     "output_type": "stream",
     "text": [
      "[WDM] - Current google-chrome version is 85.0.4183\n",
      "[WDM] - Get LATEST driver version for 85.0.4183\n",
      "[WDM] - Driver [/Users/jasenlo/.wdm/drivers/chromedriver/mac64/85.0.4183.87/chromedriver] found in cache\n"
     ]
    },
    {
     "name": "stdout",
     "output_type": "stream",
     "text": [
      " \n",
      "http://airbnb.com/rooms/42231570?check_in=2021-01-01&check_out=2021-04-30&previous_page_section_name=1000&display_extensions%5B%5D=MONTHLY_STAYS&display_extensions%5B%5D=DATED_LTS&federated_search_id=04367722-50b9-41dd-b5a6-e3d4da8da34c\n"
     ]
    },
    {
     "name": "stderr",
     "output_type": "stream",
     "text": [
      "[WDM] - Current google-chrome version is 85.0.4183\n",
      "[WDM] - Get LATEST driver version for 85.0.4183\n",
      "[WDM] - Driver [/Users/jasenlo/.wdm/drivers/chromedriver/mac64/85.0.4183.87/chromedriver] found in cache\n"
     ]
    },
    {
     "name": "stdout",
     "output_type": "stream",
     "text": [
      " \n",
      "http://airbnb.com/rooms/28730376?check_in=2021-01-01&check_out=2021-04-30&previous_page_section_name=1000&display_extensions%5B%5D=MONTHLY_STAYS&display_extensions%5B%5D=DATED_LTS&federated_search_id=04367722-50b9-41dd-b5a6-e3d4da8da34c\n"
     ]
    },
    {
     "name": "stderr",
     "output_type": "stream",
     "text": [
      "[WDM] - Current google-chrome version is 85.0.4183\n",
      "[WDM] - Get LATEST driver version for 85.0.4183\n",
      "[WDM] - Driver [/Users/jasenlo/.wdm/drivers/chromedriver/mac64/85.0.4183.87/chromedriver] found in cache\n"
     ]
    },
    {
     "name": "stdout",
     "output_type": "stream",
     "text": [
      " \n",
      "http://airbnb.com/rooms/39690482?check_in=2021-01-01&check_out=2021-04-30&previous_page_section_name=1000&display_extensions%5B%5D=MONTHLY_STAYS&display_extensions%5B%5D=DATED_LTS&federated_search_id=04367722-50b9-41dd-b5a6-e3d4da8da34c\n"
     ]
    },
    {
     "name": "stderr",
     "output_type": "stream",
     "text": [
      "[WDM] - Current google-chrome version is 85.0.4183\n",
      "[WDM] - Get LATEST driver version for 85.0.4183\n",
      "[WDM] - Driver [/Users/jasenlo/.wdm/drivers/chromedriver/mac64/85.0.4183.87/chromedriver] found in cache\n"
     ]
    },
    {
     "name": "stdout",
     "output_type": "stream",
     "text": [
      " \n",
      "http://airbnb.com/rooms/23512942?check_in=2021-01-01&check_out=2021-04-30&previous_page_section_name=1000&display_extensions%5B%5D=MONTHLY_STAYS&display_extensions%5B%5D=DATED_LTS&federated_search_id=04367722-50b9-41dd-b5a6-e3d4da8da34c\n"
     ]
    },
    {
     "name": "stderr",
     "output_type": "stream",
     "text": [
      "[WDM] - Current google-chrome version is 85.0.4183\n",
      "[WDM] - Get LATEST driver version for 85.0.4183\n",
      "[WDM] - Driver [/Users/jasenlo/.wdm/drivers/chromedriver/mac64/85.0.4183.87/chromedriver] found in cache\n"
     ]
    },
    {
     "name": "stdout",
     "output_type": "stream",
     "text": [
      " \n",
      "http://airbnb.com/rooms/44549028?check_in=2021-01-01&check_out=2021-04-30&previous_page_section_name=1000&display_extensions%5B%5D=MONTHLY_STAYS&display_extensions%5B%5D=DATED_LTS&federated_search_id=04367722-50b9-41dd-b5a6-e3d4da8da34c\n"
     ]
    },
    {
     "name": "stderr",
     "output_type": "stream",
     "text": [
      "[WDM] - Current google-chrome version is 85.0.4183\n",
      "[WDM] - Get LATEST driver version for 85.0.4183\n",
      "[WDM] - Driver [/Users/jasenlo/.wdm/drivers/chromedriver/mac64/85.0.4183.87/chromedriver] found in cache\n"
     ]
    },
    {
     "name": "stdout",
     "output_type": "stream",
     "text": [
      " \n",
      "http://airbnb.com/rooms/45692122?check_in=2021-01-01&check_out=2021-04-30&previous_page_section_name=1000&display_extensions%5B%5D=MONTHLY_STAYS&display_extensions%5B%5D=DATED_LTS&federated_search_id=04367722-50b9-41dd-b5a6-e3d4da8da34c\n"
     ]
    },
    {
     "name": "stderr",
     "output_type": "stream",
     "text": [
      "[WDM] - Current google-chrome version is 85.0.4183\n",
      "[WDM] - Get LATEST driver version for 85.0.4183\n",
      "[WDM] - Driver [/Users/jasenlo/.wdm/drivers/chromedriver/mac64/85.0.4183.87/chromedriver] found in cache\n"
     ]
    },
    {
     "name": "stdout",
     "output_type": "stream",
     "text": [
      " \n",
      "http://airbnb.com/rooms/45442885?check_in=2021-01-01&check_out=2021-04-30&previous_page_section_name=1000&display_extensions%5B%5D=MONTHLY_STAYS&display_extensions%5B%5D=DATED_LTS&federated_search_id=04367722-50b9-41dd-b5a6-e3d4da8da34c\n"
     ]
    },
    {
     "name": "stderr",
     "output_type": "stream",
     "text": [
      "[WDM] - Current google-chrome version is 85.0.4183\n",
      "[WDM] - Get LATEST driver version for 85.0.4183\n",
      "[WDM] - Driver [/Users/jasenlo/.wdm/drivers/chromedriver/mac64/85.0.4183.87/chromedriver] found in cache\n"
     ]
    },
    {
     "name": "stdout",
     "output_type": "stream",
     "text": [
      " \n",
      "http://airbnb.com/rooms/45447240?check_in=2021-01-01&check_out=2021-04-30&previous_page_section_name=1000&display_extensions%5B%5D=MONTHLY_STAYS&display_extensions%5B%5D=DATED_LTS&federated_search_id=04367722-50b9-41dd-b5a6-e3d4da8da34c\n"
     ]
    },
    {
     "name": "stderr",
     "output_type": "stream",
     "text": [
      "[WDM] - Current google-chrome version is 85.0.4183\n",
      "[WDM] - Get LATEST driver version for 85.0.4183\n",
      "[WDM] - Driver [/Users/jasenlo/.wdm/drivers/chromedriver/mac64/85.0.4183.87/chromedriver] found in cache\n"
     ]
    },
    {
     "name": "stdout",
     "output_type": "stream",
     "text": [
      " \n",
      "http://airbnb.com/rooms/42167697?check_in=2021-01-01&check_out=2021-04-30&previous_page_section_name=1000&display_extensions%5B%5D=MONTHLY_STAYS&display_extensions%5B%5D=DATED_LTS&federated_search_id=04367722-50b9-41dd-b5a6-e3d4da8da34c\n"
     ]
    },
    {
     "name": "stderr",
     "output_type": "stream",
     "text": [
      "[WDM] - Current google-chrome version is 85.0.4183\n",
      "[WDM] - Get LATEST driver version for 85.0.4183\n",
      "[WDM] - Driver [/Users/jasenlo/.wdm/drivers/chromedriver/mac64/85.0.4183.87/chromedriver] found in cache\n"
     ]
    },
    {
     "name": "stdout",
     "output_type": "stream",
     "text": [
      " \n",
      "http://airbnb.com/rooms/42650418?check_in=2021-01-01&check_out=2021-04-30&previous_page_section_name=1000&display_extensions%5B%5D=MONTHLY_STAYS&display_extensions%5B%5D=DATED_LTS&federated_search_id=04367722-50b9-41dd-b5a6-e3d4da8da34c\n"
     ]
    },
    {
     "name": "stderr",
     "output_type": "stream",
     "text": [
      "[WDM] - Current google-chrome version is 85.0.4183\n",
      "[WDM] - Get LATEST driver version for 85.0.4183\n",
      "[WDM] - Driver [/Users/jasenlo/.wdm/drivers/chromedriver/mac64/85.0.4183.87/chromedriver] found in cache\n"
     ]
    },
    {
     "name": "stdout",
     "output_type": "stream",
     "text": [
      " \n",
      "http://airbnb.com/rooms/8817438?check_in=2021-01-01&check_out=2021-04-30&previous_page_section_name=1000&display_extensions%5B%5D=MONTHLY_STAYS&display_extensions%5B%5D=DATED_LTS&federated_search_id=04367722-50b9-41dd-b5a6-e3d4da8da34c\n"
     ]
    },
    {
     "name": "stderr",
     "output_type": "stream",
     "text": [
      "[WDM] - Current google-chrome version is 85.0.4183\n",
      "[WDM] - Get LATEST driver version for 85.0.4183\n",
      "[WDM] - Driver [/Users/jasenlo/.wdm/drivers/chromedriver/mac64/85.0.4183.87/chromedriver] found in cache\n"
     ]
    },
    {
     "name": "stdout",
     "output_type": "stream",
     "text": [
      " \n",
      "http://airbnb.com/rooms/9281077?check_in=2021-01-01&check_out=2021-04-30&previous_page_section_name=1000&display_extensions%5B%5D=MONTHLY_STAYS&display_extensions%5B%5D=DATED_LTS&federated_search_id=04367722-50b9-41dd-b5a6-e3d4da8da34c\n"
     ]
    },
    {
     "name": "stderr",
     "output_type": "stream",
     "text": [
      "[WDM] - Current google-chrome version is 85.0.4183\n",
      "[WDM] - Get LATEST driver version for 85.0.4183\n",
      "[WDM] - Driver [/Users/jasenlo/.wdm/drivers/chromedriver/mac64/85.0.4183.87/chromedriver] found in cache\n"
     ]
    },
    {
     "name": "stdout",
     "output_type": "stream",
     "text": [
      " \n",
      "http://airbnb.com/rooms/33180755?check_in=2021-01-01&check_out=2021-04-30&previous_page_section_name=1000&display_extensions%5B%5D=MONTHLY_STAYS&display_extensions%5B%5D=DATED_LTS&federated_search_id=04367722-50b9-41dd-b5a6-e3d4da8da34c\n"
     ]
    },
    {
     "name": "stderr",
     "output_type": "stream",
     "text": [
      "[WDM] - Current google-chrome version is 85.0.4183\n",
      "[WDM] - Get LATEST driver version for 85.0.4183\n",
      "[WDM] - Driver [/Users/jasenlo/.wdm/drivers/chromedriver/mac64/85.0.4183.87/chromedriver] found in cache\n"
     ]
    },
    {
     "name": "stdout",
     "output_type": "stream",
     "text": [
      " \n",
      "http://airbnb.com/rooms/45692122?check_in=2021-01-01&check_out=2021-04-30&previous_page_section_name=1000&display_extensions%5B%5D=DATED_LTS&display_extensions%5B%5D=MONTHLY_STAYS&federated_search_id=b89a4699-ed50-46dd-8f13-2671d5d0bed5\n"
     ]
    },
    {
     "name": "stderr",
     "output_type": "stream",
     "text": [
      "[WDM] - Current google-chrome version is 85.0.4183\n",
      "[WDM] - Get LATEST driver version for 85.0.4183\n",
      "[WDM] - Driver [/Users/jasenlo/.wdm/drivers/chromedriver/mac64/85.0.4183.87/chromedriver] found in cache\n"
     ]
    },
    {
     "name": "stdout",
     "output_type": "stream",
     "text": [
      " \n",
      "http://airbnb.com/rooms/34822037?check_in=2021-01-01&check_out=2021-04-30&previous_page_section_name=1000&display_extensions%5B%5D=DATED_LTS&display_extensions%5B%5D=MONTHLY_STAYS&federated_search_id=b89a4699-ed50-46dd-8f13-2671d5d0bed5\n"
     ]
    },
    {
     "name": "stderr",
     "output_type": "stream",
     "text": [
      "[WDM] - Current google-chrome version is 85.0.4183\n",
      "[WDM] - Get LATEST driver version for 85.0.4183\n",
      "[WDM] - Driver [/Users/jasenlo/.wdm/drivers/chromedriver/mac64/85.0.4183.87/chromedriver] found in cache\n"
     ]
    },
    {
     "name": "stdout",
     "output_type": "stream",
     "text": [
      " \n",
      "http://airbnb.com/rooms/42798072?check_in=2021-01-01&check_out=2021-04-30&previous_page_section_name=1000&display_extensions%5B%5D=DATED_LTS&display_extensions%5B%5D=MONTHLY_STAYS&federated_search_id=b89a4699-ed50-46dd-8f13-2671d5d0bed5\n"
     ]
    },
    {
     "name": "stderr",
     "output_type": "stream",
     "text": [
      "[WDM] - Current google-chrome version is 85.0.4183\n",
      "[WDM] - Get LATEST driver version for 85.0.4183\n",
      "[WDM] - Driver [/Users/jasenlo/.wdm/drivers/chromedriver/mac64/85.0.4183.87/chromedriver] found in cache\n"
     ]
    },
    {
     "name": "stdout",
     "output_type": "stream",
     "text": [
      " \n",
      "http://airbnb.com/rooms/37929551?check_in=2021-01-01&check_out=2021-04-30&previous_page_section_name=1000&display_extensions%5B%5D=DATED_LTS&display_extensions%5B%5D=MONTHLY_STAYS&federated_search_id=b89a4699-ed50-46dd-8f13-2671d5d0bed5\n"
     ]
    },
    {
     "name": "stderr",
     "output_type": "stream",
     "text": [
      "[WDM] - Current google-chrome version is 85.0.4183\n",
      "[WDM] - Get LATEST driver version for 85.0.4183\n",
      "[WDM] - Driver [/Users/jasenlo/.wdm/drivers/chromedriver/mac64/85.0.4183.87/chromedriver] found in cache\n"
     ]
    },
    {
     "name": "stdout",
     "output_type": "stream",
     "text": [
      " \n",
      "http://airbnb.com/rooms/18845521?check_in=2021-01-01&check_out=2021-04-30&previous_page_section_name=1000&display_extensions%5B%5D=DATED_LTS&display_extensions%5B%5D=MONTHLY_STAYS&federated_search_id=b89a4699-ed50-46dd-8f13-2671d5d0bed5\n"
     ]
    },
    {
     "name": "stderr",
     "output_type": "stream",
     "text": [
      "[WDM] - Current google-chrome version is 85.0.4183\n",
      "[WDM] - Get LATEST driver version for 85.0.4183\n",
      "[WDM] - Driver [/Users/jasenlo/.wdm/drivers/chromedriver/mac64/85.0.4183.87/chromedriver] found in cache\n"
     ]
    },
    {
     "name": "stdout",
     "output_type": "stream",
     "text": [
      " \n",
      "http://airbnb.com/rooms/41003670?check_in=2021-01-01&check_out=2021-04-30&previous_page_section_name=1000&display_extensions%5B%5D=DATED_LTS&display_extensions%5B%5D=MONTHLY_STAYS&federated_search_id=b89a4699-ed50-46dd-8f13-2671d5d0bed5\n"
     ]
    },
    {
     "name": "stderr",
     "output_type": "stream",
     "text": [
      "[WDM] - Current google-chrome version is 85.0.4183\n",
      "[WDM] - Get LATEST driver version for 85.0.4183\n",
      "[WDM] - Driver [/Users/jasenlo/.wdm/drivers/chromedriver/mac64/85.0.4183.87/chromedriver] found in cache\n"
     ]
    },
    {
     "name": "stdout",
     "output_type": "stream",
     "text": [
      " \n",
      "http://airbnb.com/rooms/29861531?check_in=2021-01-01&check_out=2021-04-30&previous_page_section_name=1000&display_extensions%5B%5D=DATED_LTS&display_extensions%5B%5D=MONTHLY_STAYS&federated_search_id=b89a4699-ed50-46dd-8f13-2671d5d0bed5\n"
     ]
    },
    {
     "name": "stderr",
     "output_type": "stream",
     "text": [
      "[WDM] - Current google-chrome version is 85.0.4183\n",
      "[WDM] - Get LATEST driver version for 85.0.4183\n",
      "[WDM] - Driver [/Users/jasenlo/.wdm/drivers/chromedriver/mac64/85.0.4183.87/chromedriver] found in cache\n"
     ]
    },
    {
     "name": "stdout",
     "output_type": "stream",
     "text": [
      " \n",
      "http://airbnb.com/rooms/39455616?check_in=2021-01-01&check_out=2021-04-30&previous_page_section_name=1000&display_extensions%5B%5D=DATED_LTS&display_extensions%5B%5D=MONTHLY_STAYS&federated_search_id=b89a4699-ed50-46dd-8f13-2671d5d0bed5\n"
     ]
    },
    {
     "name": "stderr",
     "output_type": "stream",
     "text": [
      "[WDM] - Current google-chrome version is 85.0.4183\n",
      "[WDM] - Get LATEST driver version for 85.0.4183\n",
      "[WDM] - Driver [/Users/jasenlo/.wdm/drivers/chromedriver/mac64/85.0.4183.87/chromedriver] found in cache\n"
     ]
    },
    {
     "name": "stdout",
     "output_type": "stream",
     "text": [
      " \n",
      "http://airbnb.com/rooms/9837758?check_in=2021-01-01&check_out=2021-04-30&previous_page_section_name=1000&display_extensions%5B%5D=DATED_LTS&display_extensions%5B%5D=MONTHLY_STAYS&federated_search_id=b89a4699-ed50-46dd-8f13-2671d5d0bed5\n"
     ]
    },
    {
     "name": "stderr",
     "output_type": "stream",
     "text": [
      "[WDM] - Current google-chrome version is 85.0.4183\n",
      "[WDM] - Get LATEST driver version for 85.0.4183\n",
      "[WDM] - Driver [/Users/jasenlo/.wdm/drivers/chromedriver/mac64/85.0.4183.87/chromedriver] found in cache\n"
     ]
    },
    {
     "name": "stdout",
     "output_type": "stream",
     "text": [
      " \n",
      "http://airbnb.com/rooms/40984422?check_in=2021-01-01&check_out=2021-04-30&previous_page_section_name=1000&display_extensions%5B%5D=DATED_LTS&display_extensions%5B%5D=MONTHLY_STAYS&federated_search_id=b89a4699-ed50-46dd-8f13-2671d5d0bed5\n"
     ]
    },
    {
     "name": "stderr",
     "output_type": "stream",
     "text": [
      "[WDM] - Current google-chrome version is 85.0.4183\n",
      "[WDM] - Get LATEST driver version for 85.0.4183\n",
      "[WDM] - Driver [/Users/jasenlo/.wdm/drivers/chromedriver/mac64/85.0.4183.87/chromedriver] found in cache\n"
     ]
    },
    {
     "name": "stdout",
     "output_type": "stream",
     "text": [
      " \n",
      "http://airbnb.com/rooms/42233537?check_in=2021-01-01&check_out=2021-04-30&previous_page_section_name=1000&display_extensions%5B%5D=DATED_LTS&display_extensions%5B%5D=MONTHLY_STAYS&federated_search_id=b89a4699-ed50-46dd-8f13-2671d5d0bed5\n"
     ]
    },
    {
     "name": "stderr",
     "output_type": "stream",
     "text": [
      "[WDM] - Current google-chrome version is 85.0.4183\n",
      "[WDM] - Get LATEST driver version for 85.0.4183\n",
      "[WDM] - Driver [/Users/jasenlo/.wdm/drivers/chromedriver/mac64/85.0.4183.87/chromedriver] found in cache\n"
     ]
    },
    {
     "name": "stdout",
     "output_type": "stream",
     "text": [
      " \n",
      "http://airbnb.com/rooms/28957492?check_in=2021-01-01&check_out=2021-04-30&previous_page_section_name=1000&display_extensions%5B%5D=DATED_LTS&display_extensions%5B%5D=MONTHLY_STAYS&federated_search_id=b89a4699-ed50-46dd-8f13-2671d5d0bed5\n"
     ]
    },
    {
     "name": "stderr",
     "output_type": "stream",
     "text": [
      "[WDM] - Current google-chrome version is 85.0.4183\n",
      "[WDM] - Get LATEST driver version for 85.0.4183\n",
      "[WDM] - Driver [/Users/jasenlo/.wdm/drivers/chromedriver/mac64/85.0.4183.87/chromedriver] found in cache\n"
     ]
    },
    {
     "name": "stdout",
     "output_type": "stream",
     "text": [
      " \n",
      "http://airbnb.com/rooms/33205140?check_in=2021-01-01&check_out=2021-04-30&previous_page_section_name=1000&display_extensions%5B%5D=DATED_LTS&display_extensions%5B%5D=MONTHLY_STAYS&federated_search_id=b89a4699-ed50-46dd-8f13-2671d5d0bed5\n"
     ]
    },
    {
     "name": "stderr",
     "output_type": "stream",
     "text": [
      "[WDM] - Current google-chrome version is 85.0.4183\n",
      "[WDM] - Get LATEST driver version for 85.0.4183\n",
      "[WDM] - Driver [/Users/jasenlo/.wdm/drivers/chromedriver/mac64/85.0.4183.87/chromedriver] found in cache\n"
     ]
    },
    {
     "name": "stdout",
     "output_type": "stream",
     "text": [
      " \n",
      "http://airbnb.com/rooms/27663636?check_in=2021-01-01&check_out=2021-04-30&previous_page_section_name=1000&display_extensions%5B%5D=DATED_LTS&display_extensions%5B%5D=MONTHLY_STAYS&federated_search_id=b89a4699-ed50-46dd-8f13-2671d5d0bed5\n"
     ]
    },
    {
     "name": "stderr",
     "output_type": "stream",
     "text": [
      "[WDM] - Current google-chrome version is 85.0.4183\n",
      "[WDM] - Get LATEST driver version for 85.0.4183\n",
      "[WDM] - Driver [/Users/jasenlo/.wdm/drivers/chromedriver/mac64/85.0.4183.87/chromedriver] found in cache\n"
     ]
    },
    {
     "name": "stdout",
     "output_type": "stream",
     "text": [
      " \n",
      "http://airbnb.com/rooms/38728818?check_in=2021-01-01&check_out=2021-04-30&previous_page_section_name=1000&display_extensions%5B%5D=DATED_LTS&display_extensions%5B%5D=MONTHLY_STAYS&federated_search_id=b89a4699-ed50-46dd-8f13-2671d5d0bed5\n"
     ]
    },
    {
     "name": "stderr",
     "output_type": "stream",
     "text": [
      "[WDM] - Current google-chrome version is 85.0.4183\n",
      "[WDM] - Get LATEST driver version for 85.0.4183\n",
      "[WDM] - Driver [/Users/jasenlo/.wdm/drivers/chromedriver/mac64/85.0.4183.87/chromedriver] found in cache\n"
     ]
    },
    {
     "name": "stdout",
     "output_type": "stream",
     "text": [
      " \n",
      "http://airbnb.com/rooms/43938093?check_in=2021-01-01&check_out=2021-04-30&previous_page_section_name=1000&display_extensions%5B%5D=DATED_LTS&display_extensions%5B%5D=MONTHLY_STAYS&federated_search_id=b89a4699-ed50-46dd-8f13-2671d5d0bed5\n"
     ]
    },
    {
     "name": "stderr",
     "output_type": "stream",
     "text": [
      "[WDM] - Current google-chrome version is 85.0.4183\n",
      "[WDM] - Get LATEST driver version for 85.0.4183\n",
      "[WDM] - Driver [/Users/jasenlo/.wdm/drivers/chromedriver/mac64/85.0.4183.87/chromedriver] found in cache\n"
     ]
    },
    {
     "name": "stdout",
     "output_type": "stream",
     "text": [
      " \n",
      "http://airbnb.com/rooms/28297135?check_in=2021-01-01&check_out=2021-04-30&previous_page_section_name=1000&display_extensions%5B%5D=DATED_LTS&display_extensions%5B%5D=MONTHLY_STAYS&federated_search_id=b89a4699-ed50-46dd-8f13-2671d5d0bed5\n"
     ]
    },
    {
     "name": "stderr",
     "output_type": "stream",
     "text": [
      "[WDM] - Current google-chrome version is 85.0.4183\n",
      "[WDM] - Get LATEST driver version for 85.0.4183\n",
      "[WDM] - Driver [/Users/jasenlo/.wdm/drivers/chromedriver/mac64/85.0.4183.87/chromedriver] found in cache\n"
     ]
    },
    {
     "name": "stdout",
     "output_type": "stream",
     "text": [
      " \n",
      "http://airbnb.com/rooms/33006527?check_in=2021-01-01&check_out=2021-04-30&previous_page_section_name=1000&display_extensions%5B%5D=MONTHLY_STAYS&display_extensions%5B%5D=DATED_LTS&federated_search_id=ac4dbef2-5afd-4cfd-8e1f-71478420b7c4\n"
     ]
    },
    {
     "name": "stderr",
     "output_type": "stream",
     "text": [
      "[WDM] - Current google-chrome version is 85.0.4183\n",
      "[WDM] - Get LATEST driver version for 85.0.4183\n",
      "[WDM] - Driver [/Users/jasenlo/.wdm/drivers/chromedriver/mac64/85.0.4183.87/chromedriver] found in cache\n"
     ]
    },
    {
     "name": "stdout",
     "output_type": "stream",
     "text": [
      " \n",
      "http://airbnb.com/rooms/34052069?check_in=2021-01-01&check_out=2021-04-30&previous_page_section_name=1000&display_extensions%5B%5D=MONTHLY_STAYS&display_extensions%5B%5D=DATED_LTS&federated_search_id=ac4dbef2-5afd-4cfd-8e1f-71478420b7c4\n"
     ]
    },
    {
     "name": "stderr",
     "output_type": "stream",
     "text": [
      "[WDM] - Current google-chrome version is 85.0.4183\n",
      "[WDM] - Get LATEST driver version for 85.0.4183\n",
      "[WDM] - Driver [/Users/jasenlo/.wdm/drivers/chromedriver/mac64/85.0.4183.87/chromedriver] found in cache\n"
     ]
    },
    {
     "name": "stdout",
     "output_type": "stream",
     "text": [
      " \n",
      "http://airbnb.com/rooms/34822037?check_in=2021-01-01&check_out=2021-04-30&previous_page_section_name=1000&display_extensions%5B%5D=MONTHLY_STAYS&display_extensions%5B%5D=DATED_LTS&federated_search_id=ac4dbef2-5afd-4cfd-8e1f-71478420b7c4\n"
     ]
    },
    {
     "name": "stderr",
     "output_type": "stream",
     "text": [
      "[WDM] - Current google-chrome version is 85.0.4183\n",
      "[WDM] - Get LATEST driver version for 85.0.4183\n",
      "[WDM] - Driver [/Users/jasenlo/.wdm/drivers/chromedriver/mac64/85.0.4183.87/chromedriver] found in cache\n"
     ]
    },
    {
     "name": "stdout",
     "output_type": "stream",
     "text": [
      " \n",
      "http://airbnb.com/rooms/39455616?check_in=2021-01-01&check_out=2021-04-30&previous_page_section_name=1000&display_extensions%5B%5D=MONTHLY_STAYS&display_extensions%5B%5D=DATED_LTS&federated_search_id=ac4dbef2-5afd-4cfd-8e1f-71478420b7c4\n"
     ]
    },
    {
     "name": "stderr",
     "output_type": "stream",
     "text": [
      "[WDM] - Current google-chrome version is 85.0.4183\n",
      "[WDM] - Get LATEST driver version for 85.0.4183\n",
      "[WDM] - Driver [/Users/jasenlo/.wdm/drivers/chromedriver/mac64/85.0.4183.87/chromedriver] found in cache\n"
     ]
    },
    {
     "name": "stdout",
     "output_type": "stream",
     "text": [
      " \n",
      "http://airbnb.com/rooms/18886157?check_in=2021-01-01&check_out=2021-04-30&previous_page_section_name=1000&display_extensions%5B%5D=MONTHLY_STAYS&display_extensions%5B%5D=DATED_LTS&federated_search_id=ac4dbef2-5afd-4cfd-8e1f-71478420b7c4\n"
     ]
    },
    {
     "name": "stderr",
     "output_type": "stream",
     "text": [
      "[WDM] - Current google-chrome version is 85.0.4183\n",
      "[WDM] - Get LATEST driver version for 85.0.4183\n",
      "[WDM] - Driver [/Users/jasenlo/.wdm/drivers/chromedriver/mac64/85.0.4183.87/chromedriver] found in cache\n"
     ]
    },
    {
     "name": "stdout",
     "output_type": "stream",
     "text": [
      " \n",
      "http://airbnb.com/rooms/33631761?check_in=2021-01-01&check_out=2021-04-30&previous_page_section_name=1000&display_extensions%5B%5D=MONTHLY_STAYS&display_extensions%5B%5D=DATED_LTS&federated_search_id=ac4dbef2-5afd-4cfd-8e1f-71478420b7c4\n"
     ]
    },
    {
     "name": "stderr",
     "output_type": "stream",
     "text": [
      "[WDM] - Current google-chrome version is 85.0.4183\n",
      "[WDM] - Get LATEST driver version for 85.0.4183\n",
      "[WDM] - Driver [/Users/jasenlo/.wdm/drivers/chromedriver/mac64/85.0.4183.87/chromedriver] found in cache\n"
     ]
    },
    {
     "name": "stdout",
     "output_type": "stream",
     "text": [
      " \n",
      "http://airbnb.com/rooms/31203244?check_in=2021-01-01&check_out=2021-04-30&previous_page_section_name=1000&display_extensions%5B%5D=MONTHLY_STAYS&display_extensions%5B%5D=DATED_LTS&federated_search_id=ac4dbef2-5afd-4cfd-8e1f-71478420b7c4\n"
     ]
    },
    {
     "name": "stderr",
     "output_type": "stream",
     "text": [
      "[WDM] - Current google-chrome version is 85.0.4183\n",
      "[WDM] - Get LATEST driver version for 85.0.4183\n",
      "[WDM] - Driver [/Users/jasenlo/.wdm/drivers/chromedriver/mac64/85.0.4183.87/chromedriver] found in cache\n"
     ]
    },
    {
     "name": "stdout",
     "output_type": "stream",
     "text": [
      " \n",
      "http://airbnb.com/rooms/28957492?check_in=2021-01-01&check_out=2021-04-30&previous_page_section_name=1000&display_extensions%5B%5D=MONTHLY_STAYS&display_extensions%5B%5D=DATED_LTS&federated_search_id=ac4dbef2-5afd-4cfd-8e1f-71478420b7c4\n"
     ]
    },
    {
     "name": "stderr",
     "output_type": "stream",
     "text": [
      "[WDM] - Current google-chrome version is 85.0.4183\n",
      "[WDM] - Get LATEST driver version for 85.0.4183\n",
      "[WDM] - Driver [/Users/jasenlo/.wdm/drivers/chromedriver/mac64/85.0.4183.87/chromedriver] found in cache\n"
     ]
    },
    {
     "name": "stdout",
     "output_type": "stream",
     "text": [
      " \n",
      "http://airbnb.com/rooms/42233537?check_in=2021-01-01&check_out=2021-04-30&previous_page_section_name=1000&display_extensions%5B%5D=MONTHLY_STAYS&display_extensions%5B%5D=DATED_LTS&federated_search_id=ac4dbef2-5afd-4cfd-8e1f-71478420b7c4\n"
     ]
    },
    {
     "name": "stderr",
     "output_type": "stream",
     "text": [
      "[WDM] - Current google-chrome version is 85.0.4183\n",
      "[WDM] - Get LATEST driver version for 85.0.4183\n",
      "[WDM] - Driver [/Users/jasenlo/.wdm/drivers/chromedriver/mac64/85.0.4183.87/chromedriver] found in cache\n"
     ]
    },
    {
     "name": "stdout",
     "output_type": "stream",
     "text": [
      " \n",
      "http://airbnb.com/rooms/43938093?check_in=2021-01-01&check_out=2021-04-30&previous_page_section_name=1000&display_extensions%5B%5D=MONTHLY_STAYS&display_extensions%5B%5D=DATED_LTS&federated_search_id=ac4dbef2-5afd-4cfd-8e1f-71478420b7c4\n"
     ]
    },
    {
     "name": "stderr",
     "output_type": "stream",
     "text": [
      "[WDM] - Current google-chrome version is 85.0.4183\n",
      "[WDM] - Get LATEST driver version for 85.0.4183\n",
      "[WDM] - Driver [/Users/jasenlo/.wdm/drivers/chromedriver/mac64/85.0.4183.87/chromedriver] found in cache\n"
     ]
    },
    {
     "name": "stdout",
     "output_type": "stream",
     "text": [
      " \n",
      "http://airbnb.com/rooms/22849569?check_in=2021-01-01&check_out=2021-04-30&previous_page_section_name=1000&display_extensions%5B%5D=MONTHLY_STAYS&display_extensions%5B%5D=DATED_LTS&federated_search_id=ac4dbef2-5afd-4cfd-8e1f-71478420b7c4\n"
     ]
    },
    {
     "name": "stderr",
     "output_type": "stream",
     "text": [
      "[WDM] - Current google-chrome version is 85.0.4183\n",
      "[WDM] - Get LATEST driver version for 85.0.4183\n",
      "[WDM] - Driver [/Users/jasenlo/.wdm/drivers/chromedriver/mac64/85.0.4183.87/chromedriver] found in cache\n"
     ]
    },
    {
     "name": "stdout",
     "output_type": "stream",
     "text": [
      " \n",
      "http://airbnb.com/rooms/33550443?check_in=2021-01-01&check_out=2021-04-30&previous_page_section_name=1000&display_extensions%5B%5D=MONTHLY_STAYS&display_extensions%5B%5D=DATED_LTS&federated_search_id=ac4dbef2-5afd-4cfd-8e1f-71478420b7c4\n"
     ]
    },
    {
     "name": "stderr",
     "output_type": "stream",
     "text": [
      "[WDM] - Current google-chrome version is 85.0.4183\n",
      "[WDM] - Get LATEST driver version for 85.0.4183\n",
      "[WDM] - Driver [/Users/jasenlo/.wdm/drivers/chromedriver/mac64/85.0.4183.87/chromedriver] found in cache\n"
     ]
    },
    {
     "name": "stdout",
     "output_type": "stream",
     "text": [
      " \n",
      "http://airbnb.com/rooms/45485301?check_in=2021-01-01&check_out=2021-04-30&previous_page_section_name=1000&display_extensions%5B%5D=MONTHLY_STAYS&display_extensions%5B%5D=DATED_LTS&federated_search_id=ac4dbef2-5afd-4cfd-8e1f-71478420b7c4\n"
     ]
    },
    {
     "name": "stderr",
     "output_type": "stream",
     "text": [
      "[WDM] - Current google-chrome version is 85.0.4183\n",
      "[WDM] - Get LATEST driver version for 85.0.4183\n",
      "[WDM] - Driver [/Users/jasenlo/.wdm/drivers/chromedriver/mac64/85.0.4183.87/chromedriver] found in cache\n"
     ]
    },
    {
     "name": "stdout",
     "output_type": "stream",
     "text": [
      " \n",
      "http://airbnb.com/rooms/40836568?check_in=2021-01-01&check_out=2021-04-30&previous_page_section_name=1000&display_extensions%5B%5D=MONTHLY_STAYS&display_extensions%5B%5D=DATED_LTS&federated_search_id=ac4dbef2-5afd-4cfd-8e1f-71478420b7c4\n"
     ]
    },
    {
     "name": "stderr",
     "output_type": "stream",
     "text": [
      "[WDM] - Current google-chrome version is 85.0.4183\n",
      "[WDM] - Get LATEST driver version for 85.0.4183\n",
      "[WDM] - Driver [/Users/jasenlo/.wdm/drivers/chromedriver/mac64/85.0.4183.87/chromedriver] found in cache\n"
     ]
    },
    {
     "name": "stdout",
     "output_type": "stream",
     "text": [
      " \n",
      "http://airbnb.com/rooms/14723353?check_in=2021-01-01&check_out=2021-04-30&previous_page_section_name=1000&display_extensions%5B%5D=MONTHLY_STAYS&display_extensions%5B%5D=DATED_LTS&federated_search_id=ac4dbef2-5afd-4cfd-8e1f-71478420b7c4\n"
     ]
    },
    {
     "name": "stderr",
     "output_type": "stream",
     "text": [
      "[WDM] - Current google-chrome version is 85.0.4183\n",
      "[WDM] - Get LATEST driver version for 85.0.4183\n",
      "[WDM] - Driver [/Users/jasenlo/.wdm/drivers/chromedriver/mac64/85.0.4183.87/chromedriver] found in cache\n"
     ]
    },
    {
     "name": "stdout",
     "output_type": "stream",
     "text": [
      " \n",
      "http://airbnb.com/rooms/32277462?check_in=2021-01-01&check_out=2021-04-30&previous_page_section_name=1000&display_extensions%5B%5D=MONTHLY_STAYS&display_extensions%5B%5D=DATED_LTS&federated_search_id=ac4dbef2-5afd-4cfd-8e1f-71478420b7c4\n"
     ]
    },
    {
     "name": "stderr",
     "output_type": "stream",
     "text": [
      "[WDM] - Current google-chrome version is 85.0.4183\n",
      "[WDM] - Get LATEST driver version for 85.0.4183\n",
      "[WDM] - Driver [/Users/jasenlo/.wdm/drivers/chromedriver/mac64/85.0.4183.87/chromedriver] found in cache\n"
     ]
    },
    {
     "name": "stdout",
     "output_type": "stream",
     "text": [
      " \n",
      "http://airbnb.com/rooms/41875276?check_in=2021-01-01&check_out=2021-04-30&previous_page_section_name=1000&display_extensions%5B%5D=DATED_LTS&display_extensions%5B%5D=MONTHLY_STAYS&federated_search_id=751fd324-880d-44c1-8069-973e859e38b9\n"
     ]
    },
    {
     "name": "stderr",
     "output_type": "stream",
     "text": [
      "[WDM] - Current google-chrome version is 85.0.4183\n",
      "[WDM] - Get LATEST driver version for 85.0.4183\n",
      "[WDM] - Driver [/Users/jasenlo/.wdm/drivers/chromedriver/mac64/85.0.4183.87/chromedriver] found in cache\n"
     ]
    },
    {
     "name": "stdout",
     "output_type": "stream",
     "text": [
      " \n",
      "http://airbnb.com/rooms/29246430?check_in=2021-01-01&check_out=2021-04-30&previous_page_section_name=1000&display_extensions%5B%5D=DATED_LTS&display_extensions%5B%5D=MONTHLY_STAYS&federated_search_id=751fd324-880d-44c1-8069-973e859e38b9\n"
     ]
    },
    {
     "name": "stderr",
     "output_type": "stream",
     "text": [
      "[WDM] - Current google-chrome version is 85.0.4183\n",
      "[WDM] - Get LATEST driver version for 85.0.4183\n",
      "[WDM] - Driver [/Users/jasenlo/.wdm/drivers/chromedriver/mac64/85.0.4183.87/chromedriver] found in cache\n"
     ]
    },
    {
     "name": "stdout",
     "output_type": "stream",
     "text": [
      " \n",
      "http://airbnb.com/rooms/5820920?check_in=2021-01-01&check_out=2021-04-30&previous_page_section_name=1000&display_extensions%5B%5D=DATED_LTS&display_extensions%5B%5D=MONTHLY_STAYS&federated_search_id=751fd324-880d-44c1-8069-973e859e38b9\n"
     ]
    },
    {
     "name": "stderr",
     "output_type": "stream",
     "text": [
      "[WDM] - Current google-chrome version is 85.0.4183\n",
      "[WDM] - Get LATEST driver version for 85.0.4183\n",
      "[WDM] - Driver [/Users/jasenlo/.wdm/drivers/chromedriver/mac64/85.0.4183.87/chromedriver] found in cache\n"
     ]
    },
    {
     "name": "stdout",
     "output_type": "stream",
     "text": [
      " \n",
      "http://airbnb.com/rooms/22821431?check_in=2021-01-01&check_out=2021-04-30&previous_page_section_name=1000&display_extensions%5B%5D=DATED_LTS&display_extensions%5B%5D=MONTHLY_STAYS&federated_search_id=751fd324-880d-44c1-8069-973e859e38b9\n"
     ]
    },
    {
     "name": "stderr",
     "output_type": "stream",
     "text": [
      "[WDM] - Current google-chrome version is 85.0.4183\n",
      "[WDM] - Get LATEST driver version for 85.0.4183\n",
      "[WDM] - Driver [/Users/jasenlo/.wdm/drivers/chromedriver/mac64/85.0.4183.87/chromedriver] found in cache\n"
     ]
    },
    {
     "name": "stdout",
     "output_type": "stream",
     "text": [
      " \n",
      "http://airbnb.com/rooms/25274435?check_in=2021-01-01&check_out=2021-04-30&previous_page_section_name=1000&display_extensions%5B%5D=DATED_LTS&display_extensions%5B%5D=MONTHLY_STAYS&federated_search_id=751fd324-880d-44c1-8069-973e859e38b9\n"
     ]
    },
    {
     "name": "stderr",
     "output_type": "stream",
     "text": [
      "[WDM] - Current google-chrome version is 85.0.4183\n",
      "[WDM] - Get LATEST driver version for 85.0.4183\n",
      "[WDM] - Driver [/Users/jasenlo/.wdm/drivers/chromedriver/mac64/85.0.4183.87/chromedriver] found in cache\n"
     ]
    },
    {
     "name": "stdout",
     "output_type": "stream",
     "text": [
      " \n",
      "http://airbnb.com/rooms/38728818?check_in=2021-01-01&check_out=2021-04-30&previous_page_section_name=1000&display_extensions%5B%5D=DATED_LTS&display_extensions%5B%5D=MONTHLY_STAYS&federated_search_id=751fd324-880d-44c1-8069-973e859e38b9\n"
     ]
    },
    {
     "name": "stderr",
     "output_type": "stream",
     "text": [
      "[WDM] - Current google-chrome version is 85.0.4183\n",
      "[WDM] - Get LATEST driver version for 85.0.4183\n",
      "[WDM] - Driver [/Users/jasenlo/.wdm/drivers/chromedriver/mac64/85.0.4183.87/chromedriver] found in cache\n"
     ]
    },
    {
     "name": "stdout",
     "output_type": "stream",
     "text": [
      " \n",
      "http://airbnb.com/rooms/39171015?check_in=2021-01-01&check_out=2021-04-30&previous_page_section_name=1000&display_extensions%5B%5D=DATED_LTS&display_extensions%5B%5D=MONTHLY_STAYS&federated_search_id=751fd324-880d-44c1-8069-973e859e38b9\n"
     ]
    },
    {
     "name": "stderr",
     "output_type": "stream",
     "text": [
      "[WDM] - Current google-chrome version is 85.0.4183\n",
      "[WDM] - Get LATEST driver version for 85.0.4183\n",
      "[WDM] - Driver [/Users/jasenlo/.wdm/drivers/chromedriver/mac64/85.0.4183.87/chromedriver] found in cache\n"
     ]
    },
    {
     "name": "stdout",
     "output_type": "stream",
     "text": [
      " \n",
      "http://airbnb.com/rooms/20559623?check_in=2021-01-01&check_out=2021-04-30&previous_page_section_name=1000&display_extensions%5B%5D=DATED_LTS&display_extensions%5B%5D=MONTHLY_STAYS&federated_search_id=751fd324-880d-44c1-8069-973e859e38b9\n"
     ]
    },
    {
     "name": "stderr",
     "output_type": "stream",
     "text": [
      "[WDM] - Current google-chrome version is 85.0.4183\n",
      "[WDM] - Get LATEST driver version for 85.0.4183\n",
      "[WDM] - Driver [/Users/jasenlo/.wdm/drivers/chromedriver/mac64/85.0.4183.87/chromedriver] found in cache\n"
     ]
    },
    {
     "name": "stdout",
     "output_type": "stream",
     "text": [
      " \n",
      "http://airbnb.com/rooms/45539526?check_in=2021-01-01&check_out=2021-04-30&previous_page_section_name=1000&display_extensions%5B%5D=DATED_LTS&display_extensions%5B%5D=MONTHLY_STAYS&federated_search_id=751fd324-880d-44c1-8069-973e859e38b9\n"
     ]
    },
    {
     "name": "stderr",
     "output_type": "stream",
     "text": [
      "[WDM] - Current google-chrome version is 85.0.4183\n",
      "[WDM] - Get LATEST driver version for 85.0.4183\n",
      "[WDM] - Driver [/Users/jasenlo/.wdm/drivers/chromedriver/mac64/85.0.4183.87/chromedriver] found in cache\n"
     ]
    },
    {
     "name": "stdout",
     "output_type": "stream",
     "text": [
      " \n",
      "http://airbnb.com/rooms/42700980?check_in=2021-01-01&check_out=2021-04-30&previous_page_section_name=1000&display_extensions%5B%5D=DATED_LTS&display_extensions%5B%5D=MONTHLY_STAYS&federated_search_id=751fd324-880d-44c1-8069-973e859e38b9\n"
     ]
    },
    {
     "name": "stderr",
     "output_type": "stream",
     "text": [
      "[WDM] - Current google-chrome version is 85.0.4183\n",
      "[WDM] - Get LATEST driver version for 85.0.4183\n",
      "[WDM] - Driver [/Users/jasenlo/.wdm/drivers/chromedriver/mac64/85.0.4183.87/chromedriver] found in cache\n"
     ]
    },
    {
     "name": "stdout",
     "output_type": "stream",
     "text": [
      " \n",
      "http://airbnb.com/rooms/8930784?check_in=2021-01-01&check_out=2021-04-30&previous_page_section_name=1000&display_extensions%5B%5D=DATED_LTS&display_extensions%5B%5D=MONTHLY_STAYS&federated_search_id=751fd324-880d-44c1-8069-973e859e38b9\n"
     ]
    },
    {
     "name": "stderr",
     "output_type": "stream",
     "text": [
      "[WDM] - Current google-chrome version is 85.0.4183\n",
      "[WDM] - Get LATEST driver version for 85.0.4183\n",
      "[WDM] - Driver [/Users/jasenlo/.wdm/drivers/chromedriver/mac64/85.0.4183.87/chromedriver] found in cache\n"
     ]
    },
    {
     "name": "stdout",
     "output_type": "stream",
     "text": [
      " \n",
      "http://airbnb.com/rooms/41961872?check_in=2021-01-01&check_out=2021-04-30&previous_page_section_name=1000&display_extensions%5B%5D=DATED_LTS&display_extensions%5B%5D=MONTHLY_STAYS&federated_search_id=751fd324-880d-44c1-8069-973e859e38b9\n"
     ]
    },
    {
     "name": "stderr",
     "output_type": "stream",
     "text": [
      "[WDM] - Current google-chrome version is 85.0.4183\n",
      "[WDM] - Get LATEST driver version for 85.0.4183\n",
      "[WDM] - Driver [/Users/jasenlo/.wdm/drivers/chromedriver/mac64/85.0.4183.87/chromedriver] found in cache\n"
     ]
    },
    {
     "name": "stdout",
     "output_type": "stream",
     "text": [
      " \n",
      "http://airbnb.com/rooms/33632366?check_in=2021-01-01&check_out=2021-04-30&previous_page_section_name=1000&display_extensions%5B%5D=DATED_LTS&display_extensions%5B%5D=MONTHLY_STAYS&federated_search_id=751fd324-880d-44c1-8069-973e859e38b9\n"
     ]
    },
    {
     "name": "stderr",
     "output_type": "stream",
     "text": [
      "[WDM] - Current google-chrome version is 85.0.4183\n",
      "[WDM] - Get LATEST driver version for 85.0.4183\n",
      "[WDM] - Driver [/Users/jasenlo/.wdm/drivers/chromedriver/mac64/85.0.4183.87/chromedriver] found in cache\n"
     ]
    },
    {
     "name": "stdout",
     "output_type": "stream",
     "text": [
      " \n",
      "http://airbnb.com/rooms/45630614?check_in=2021-01-01&check_out=2021-04-30&previous_page_section_name=1000&display_extensions%5B%5D=DATED_LTS&display_extensions%5B%5D=MONTHLY_STAYS&federated_search_id=751fd324-880d-44c1-8069-973e859e38b9\n"
     ]
    },
    {
     "name": "stderr",
     "output_type": "stream",
     "text": [
      "[WDM] - Current google-chrome version is 85.0.4183\n",
      "[WDM] - Get LATEST driver version for 85.0.4183\n",
      "[WDM] - Driver [/Users/jasenlo/.wdm/drivers/chromedriver/mac64/85.0.4183.87/chromedriver] found in cache\n"
     ]
    },
    {
     "name": "stdout",
     "output_type": "stream",
     "text": [
      " \n",
      "http://airbnb.com/rooms/4787361?check_in=2021-01-01&check_out=2021-04-30&previous_page_section_name=1000&display_extensions%5B%5D=DATED_LTS&display_extensions%5B%5D=MONTHLY_STAYS&federated_search_id=751fd324-880d-44c1-8069-973e859e38b9\n"
     ]
    },
    {
     "name": "stderr",
     "output_type": "stream",
     "text": [
      "[WDM] - Current google-chrome version is 85.0.4183\n",
      "[WDM] - Get LATEST driver version for 85.0.4183\n",
      "[WDM] - Driver [/Users/jasenlo/.wdm/drivers/chromedriver/mac64/85.0.4183.87/chromedriver] found in cache\n"
     ]
    },
    {
     "name": "stdout",
     "output_type": "stream",
     "text": [
      " \n",
      "http://airbnb.com/rooms/45528809?check_in=2021-01-01&check_out=2021-04-30&previous_page_section_name=1000&display_extensions%5B%5D=DATED_LTS&display_extensions%5B%5D=MONTHLY_STAYS&federated_search_id=751fd324-880d-44c1-8069-973e859e38b9\n"
     ]
    },
    {
     "name": "stderr",
     "output_type": "stream",
     "text": [
      "[WDM] - Current google-chrome version is 85.0.4183\n",
      "[WDM] - Get LATEST driver version for 85.0.4183\n",
      "[WDM] - Driver [/Users/jasenlo/.wdm/drivers/chromedriver/mac64/85.0.4183.87/chromedriver] found in cache\n"
     ]
    },
    {
     "name": "stdout",
     "output_type": "stream",
     "text": [
      " \n",
      "http://airbnb.com/rooms/9525098?check_in=2021-01-01&check_out=2021-04-30&previous_page_section_name=1000&display_extensions%5B%5D=DATED_LTS&display_extensions%5B%5D=MONTHLY_STAYS&federated_search_id=751fd324-880d-44c1-8069-973e859e38b9\n"
     ]
    },
    {
     "name": "stderr",
     "output_type": "stream",
     "text": [
      "[WDM] - Current google-chrome version is 85.0.4183\n",
      "[WDM] - Get LATEST driver version for 85.0.4183\n",
      "[WDM] - Driver [/Users/jasenlo/.wdm/drivers/chromedriver/mac64/85.0.4183.87/chromedriver] found in cache\n"
     ]
    },
    {
     "name": "stdout",
     "output_type": "stream",
     "text": [
      " \n",
      "http://airbnb.com/rooms/41962824?check_in=2021-01-01&check_out=2021-04-30&previous_page_section_name=1000&display_extensions%5B%5D=MONTHLY_STAYS&display_extensions%5B%5D=DATED_LTS&federated_search_id=535513e6-f6a7-4b90-bbc4-7ce4e4b288f6\n"
     ]
    },
    {
     "name": "stderr",
     "output_type": "stream",
     "text": [
      "[WDM] - Current google-chrome version is 85.0.4183\n",
      "[WDM] - Get LATEST driver version for 85.0.4183\n",
      "[WDM] - Driver [/Users/jasenlo/.wdm/drivers/chromedriver/mac64/85.0.4183.87/chromedriver] found in cache\n"
     ]
    },
    {
     "name": "stdout",
     "output_type": "stream",
     "text": [
      " \n",
      "http://airbnb.com/rooms/45485301?check_in=2021-01-01&check_out=2021-04-30&previous_page_section_name=1000&display_extensions%5B%5D=MONTHLY_STAYS&display_extensions%5B%5D=DATED_LTS&federated_search_id=535513e6-f6a7-4b90-bbc4-7ce4e4b288f6\n"
     ]
    },
    {
     "name": "stderr",
     "output_type": "stream",
     "text": [
      "[WDM] - Current google-chrome version is 85.0.4183\n",
      "[WDM] - Get LATEST driver version for 85.0.4183\n",
      "[WDM] - Driver [/Users/jasenlo/.wdm/drivers/chromedriver/mac64/85.0.4183.87/chromedriver] found in cache\n"
     ]
    },
    {
     "name": "stdout",
     "output_type": "stream",
     "text": [
      " \n",
      "http://airbnb.com/rooms/45539526?check_in=2021-01-01&check_out=2021-04-30&previous_page_section_name=1000&display_extensions%5B%5D=MONTHLY_STAYS&display_extensions%5B%5D=DATED_LTS&federated_search_id=535513e6-f6a7-4b90-bbc4-7ce4e4b288f6\n"
     ]
    },
    {
     "name": "stderr",
     "output_type": "stream",
     "text": [
      "[WDM] - Current google-chrome version is 85.0.4183\n",
      "[WDM] - Get LATEST driver version for 85.0.4183\n",
      "[WDM] - Driver [/Users/jasenlo/.wdm/drivers/chromedriver/mac64/85.0.4183.87/chromedriver] found in cache\n"
     ]
    },
    {
     "name": "stdout",
     "output_type": "stream",
     "text": [
      " \n",
      "http://airbnb.com/rooms/5820920?check_in=2021-01-01&check_out=2021-04-30&previous_page_section_name=1000&display_extensions%5B%5D=MONTHLY_STAYS&display_extensions%5B%5D=DATED_LTS&federated_search_id=535513e6-f6a7-4b90-bbc4-7ce4e4b288f6\n"
     ]
    },
    {
     "name": "stderr",
     "output_type": "stream",
     "text": [
      "[WDM] - Current google-chrome version is 85.0.4183\n",
      "[WDM] - Get LATEST driver version for 85.0.4183\n",
      "[WDM] - Driver [/Users/jasenlo/.wdm/drivers/chromedriver/mac64/85.0.4183.87/chromedriver] found in cache\n"
     ]
    },
    {
     "name": "stdout",
     "output_type": "stream",
     "text": [
      " \n",
      "http://airbnb.com/rooms/40836568?check_in=2021-01-01&check_out=2021-04-30&previous_page_section_name=1000&display_extensions%5B%5D=MONTHLY_STAYS&display_extensions%5B%5D=DATED_LTS&federated_search_id=535513e6-f6a7-4b90-bbc4-7ce4e4b288f6\n"
     ]
    },
    {
     "name": "stderr",
     "output_type": "stream",
     "text": [
      "[WDM] - Current google-chrome version is 85.0.4183\n",
      "[WDM] - Get LATEST driver version for 85.0.4183\n",
      "[WDM] - Driver [/Users/jasenlo/.wdm/drivers/chromedriver/mac64/85.0.4183.87/chromedriver] found in cache\n"
     ]
    },
    {
     "name": "stdout",
     "output_type": "stream",
     "text": [
      " \n",
      "http://airbnb.com/rooms/28792761?check_in=2021-01-01&check_out=2021-04-30&previous_page_section_name=1000&display_extensions%5B%5D=MONTHLY_STAYS&display_extensions%5B%5D=DATED_LTS&federated_search_id=535513e6-f6a7-4b90-bbc4-7ce4e4b288f6\n"
     ]
    },
    {
     "name": "stderr",
     "output_type": "stream",
     "text": [
      "[WDM] - Current google-chrome version is 85.0.4183\n",
      "[WDM] - Get LATEST driver version for 85.0.4183\n",
      "[WDM] - Driver [/Users/jasenlo/.wdm/drivers/chromedriver/mac64/85.0.4183.87/chromedriver] found in cache\n"
     ]
    },
    {
     "name": "stdout",
     "output_type": "stream",
     "text": [
      " \n",
      "http://airbnb.com/rooms/31388645?check_in=2021-01-01&check_out=2021-04-30&previous_page_section_name=1000&display_extensions%5B%5D=MONTHLY_STAYS&display_extensions%5B%5D=DATED_LTS&federated_search_id=535513e6-f6a7-4b90-bbc4-7ce4e4b288f6\n"
     ]
    },
    {
     "name": "stderr",
     "output_type": "stream",
     "text": [
      "[WDM] - Current google-chrome version is 85.0.4183\n",
      "[WDM] - Get LATEST driver version for 85.0.4183\n",
      "[WDM] - Driver [/Users/jasenlo/.wdm/drivers/chromedriver/mac64/85.0.4183.87/chromedriver] found in cache\n"
     ]
    },
    {
     "name": "stdout",
     "output_type": "stream",
     "text": [
      " \n",
      "http://airbnb.com/rooms/4787361?check_in=2021-01-01&check_out=2021-04-30&previous_page_section_name=1000&display_extensions%5B%5D=MONTHLY_STAYS&display_extensions%5B%5D=DATED_LTS&federated_search_id=535513e6-f6a7-4b90-bbc4-7ce4e4b288f6\n"
     ]
    },
    {
     "name": "stderr",
     "output_type": "stream",
     "text": [
      "[WDM] - Current google-chrome version is 85.0.4183\n",
      "[WDM] - Get LATEST driver version for 85.0.4183\n",
      "[WDM] - Driver [/Users/jasenlo/.wdm/drivers/chromedriver/mac64/85.0.4183.87/chromedriver] found in cache\n"
     ]
    },
    {
     "name": "stdout",
     "output_type": "stream",
     "text": [
      " \n",
      "http://airbnb.com/rooms/33550443?check_in=2021-01-01&check_out=2021-04-30&previous_page_section_name=1000&display_extensions%5B%5D=MONTHLY_STAYS&display_extensions%5B%5D=DATED_LTS&federated_search_id=535513e6-f6a7-4b90-bbc4-7ce4e4b288f6\n"
     ]
    },
    {
     "name": "stderr",
     "output_type": "stream",
     "text": [
      "[WDM] - Current google-chrome version is 85.0.4183\n",
      "[WDM] - Get LATEST driver version for 85.0.4183\n",
      "[WDM] - Driver [/Users/jasenlo/.wdm/drivers/chromedriver/mac64/85.0.4183.87/chromedriver] found in cache\n"
     ]
    },
    {
     "name": "stdout",
     "output_type": "stream",
     "text": [
      " \n",
      "http://airbnb.com/rooms/41892310?check_in=2021-01-01&check_out=2021-04-30&previous_page_section_name=1000&display_extensions%5B%5D=MONTHLY_STAYS&display_extensions%5B%5D=DATED_LTS&federated_search_id=535513e6-f6a7-4b90-bbc4-7ce4e4b288f6\n"
     ]
    },
    {
     "name": "stderr",
     "output_type": "stream",
     "text": [
      "[WDM] - Current google-chrome version is 85.0.4183\n",
      "[WDM] - Get LATEST driver version for 85.0.4183\n",
      "[WDM] - Driver [/Users/jasenlo/.wdm/drivers/chromedriver/mac64/85.0.4183.87/chromedriver] found in cache\n"
     ]
    },
    {
     "name": "stdout",
     "output_type": "stream",
     "text": [
      " \n",
      "http://airbnb.com/rooms/45535308?check_in=2021-01-01&check_out=2021-04-30&previous_page_section_name=1000&display_extensions%5B%5D=MONTHLY_STAYS&display_extensions%5B%5D=DATED_LTS&federated_search_id=535513e6-f6a7-4b90-bbc4-7ce4e4b288f6\n"
     ]
    },
    {
     "name": "stderr",
     "output_type": "stream",
     "text": [
      "[WDM] - Current google-chrome version is 85.0.4183\n",
      "[WDM] - Get LATEST driver version for 85.0.4183\n",
      "[WDM] - Driver [/Users/jasenlo/.wdm/drivers/chromedriver/mac64/85.0.4183.87/chromedriver] found in cache\n"
     ]
    },
    {
     "name": "stdout",
     "output_type": "stream",
     "text": [
      " \n",
      "http://airbnb.com/rooms/41963096?check_in=2021-01-01&check_out=2021-04-30&previous_page_section_name=1000&display_extensions%5B%5D=MONTHLY_STAYS&display_extensions%5B%5D=DATED_LTS&federated_search_id=535513e6-f6a7-4b90-bbc4-7ce4e4b288f6\n"
     ]
    },
    {
     "name": "stderr",
     "output_type": "stream",
     "text": [
      "[WDM] - Current google-chrome version is 85.0.4183\n",
      "[WDM] - Get LATEST driver version for 85.0.4183\n",
      "[WDM] - Driver [/Users/jasenlo/.wdm/drivers/chromedriver/mac64/85.0.4183.87/chromedriver] found in cache\n"
     ]
    },
    {
     "name": "stdout",
     "output_type": "stream",
     "text": [
      " \n",
      "http://airbnb.com/rooms/7199573?check_in=2021-01-01&check_out=2021-04-30&previous_page_section_name=1000&display_extensions%5B%5D=MONTHLY_STAYS&display_extensions%5B%5D=DATED_LTS&federated_search_id=535513e6-f6a7-4b90-bbc4-7ce4e4b288f6\n"
     ]
    },
    {
     "name": "stderr",
     "output_type": "stream",
     "text": [
      "[WDM] - Current google-chrome version is 85.0.4183\n",
      "[WDM] - Get LATEST driver version for 85.0.4183\n",
      "[WDM] - Driver [/Users/jasenlo/.wdm/drivers/chromedriver/mac64/85.0.4183.87/chromedriver] found in cache\n"
     ]
    },
    {
     "name": "stdout",
     "output_type": "stream",
     "text": [
      " \n",
      "http://airbnb.com/rooms/32407663?check_in=2021-01-01&check_out=2021-04-30&previous_page_section_name=1000&display_extensions%5B%5D=MONTHLY_STAYS&display_extensions%5B%5D=DATED_LTS&federated_search_id=535513e6-f6a7-4b90-bbc4-7ce4e4b288f6\n"
     ]
    },
    {
     "name": "stderr",
     "output_type": "stream",
     "text": [
      "[WDM] - Current google-chrome version is 85.0.4183\n",
      "[WDM] - Get LATEST driver version for 85.0.4183\n",
      "[WDM] - Driver [/Users/jasenlo/.wdm/drivers/chromedriver/mac64/85.0.4183.87/chromedriver] found in cache\n"
     ]
    },
    {
     "name": "stdout",
     "output_type": "stream",
     "text": [
      " \n",
      "http://airbnb.com/rooms/41972650?check_in=2021-01-01&check_out=2021-04-30&previous_page_section_name=1000&display_extensions%5B%5D=MONTHLY_STAYS&display_extensions%5B%5D=DATED_LTS&federated_search_id=535513e6-f6a7-4b90-bbc4-7ce4e4b288f6\n"
     ]
    },
    {
     "name": "stderr",
     "output_type": "stream",
     "text": [
      "[WDM] - Current google-chrome version is 85.0.4183\n",
      "[WDM] - Get LATEST driver version for 85.0.4183\n",
      "[WDM] - Driver [/Users/jasenlo/.wdm/drivers/chromedriver/mac64/85.0.4183.87/chromedriver] found in cache\n"
     ]
    },
    {
     "name": "stdout",
     "output_type": "stream",
     "text": [
      " \n",
      "http://airbnb.com/rooms/11704934?check_in=2021-01-01&check_out=2021-04-30&previous_page_section_name=1000&display_extensions%5B%5D=MONTHLY_STAYS&display_extensions%5B%5D=DATED_LTS&federated_search_id=535513e6-f6a7-4b90-bbc4-7ce4e4b288f6\n"
     ]
    },
    {
     "name": "stderr",
     "output_type": "stream",
     "text": [
      "[WDM] - Current google-chrome version is 85.0.4183\n",
      "[WDM] - Get LATEST driver version for 85.0.4183\n",
      "[WDM] - Driver [/Users/jasenlo/.wdm/drivers/chromedriver/mac64/85.0.4183.87/chromedriver] found in cache\n"
     ]
    },
    {
     "name": "stdout",
     "output_type": "stream",
     "text": [
      " \n",
      "http://airbnb.com/rooms/8059496?check_in=2021-01-01&check_out=2021-04-30&previous_page_section_name=1000&display_extensions%5B%5D=MONTHLY_STAYS&display_extensions%5B%5D=DATED_LTS&federated_search_id=535513e6-f6a7-4b90-bbc4-7ce4e4b288f6\n"
     ]
    },
    {
     "name": "stderr",
     "output_type": "stream",
     "text": [
      "[WDM] - Current google-chrome version is 85.0.4183\n",
      "[WDM] - Get LATEST driver version for 85.0.4183\n",
      "[WDM] - Driver [/Users/jasenlo/.wdm/drivers/chromedriver/mac64/85.0.4183.87/chromedriver] found in cache\n"
     ]
    },
    {
     "name": "stdout",
     "output_type": "stream",
     "text": [
      " \n",
      "http://airbnb.com/rooms/33632366?check_in=2021-01-01&check_out=2021-04-30&previous_page_section_name=1000&display_extensions%5B%5D=MONTHLY_STAYS&display_extensions%5B%5D=DATED_LTS&federated_search_id=535513e6-f6a7-4b90-bbc4-7ce4e4b288f6\n"
     ]
    },
    {
     "name": "stderr",
     "output_type": "stream",
     "text": [
      "[WDM] - Current google-chrome version is 85.0.4183\n",
      "[WDM] - Get LATEST driver version for 85.0.4183\n",
      "[WDM] - Driver [/Users/jasenlo/.wdm/drivers/chromedriver/mac64/85.0.4183.87/chromedriver] found in cache\n"
     ]
    },
    {
     "name": "stdout",
     "output_type": "stream",
     "text": [
      " \n",
      "http://airbnb.com/rooms/32244430?check_in=2021-01-01&check_out=2021-04-30&previous_page_section_name=1000&display_extensions%5B%5D=MONTHLY_STAYS&display_extensions%5B%5D=DATED_LTS&federated_search_id=535513e6-f6a7-4b90-bbc4-7ce4e4b288f6\n"
     ]
    },
    {
     "name": "stderr",
     "output_type": "stream",
     "text": [
      "[WDM] - Current google-chrome version is 85.0.4183\n",
      "[WDM] - Get LATEST driver version for 85.0.4183\n",
      "[WDM] - Driver [/Users/jasenlo/.wdm/drivers/chromedriver/mac64/85.0.4183.87/chromedriver] found in cache\n"
     ]
    },
    {
     "name": "stdout",
     "output_type": "stream",
     "text": [
      " \n",
      "http://airbnb.com/rooms/41893985?check_in=2021-01-01&check_out=2021-04-30&previous_page_section_name=1000&display_extensions%5B%5D=DATED_LTS&display_extensions%5B%5D=MONTHLY_STAYS&federated_search_id=50b5c7c1-8c6d-4fe8-9d61-10124eab2b82\n"
     ]
    },
    {
     "name": "stderr",
     "output_type": "stream",
     "text": [
      "[WDM] - Current google-chrome version is 85.0.4183\n",
      "[WDM] - Get LATEST driver version for 85.0.4183\n",
      "[WDM] - Driver [/Users/jasenlo/.wdm/drivers/chromedriver/mac64/85.0.4183.87/chromedriver] found in cache\n"
     ]
    },
    {
     "name": "stdout",
     "output_type": "stream",
     "text": [
      " \n",
      "http://airbnb.com/rooms/8061730?check_in=2021-01-01&check_out=2021-04-30&previous_page_section_name=1000&display_extensions%5B%5D=DATED_LTS&display_extensions%5B%5D=MONTHLY_STAYS&federated_search_id=50b5c7c1-8c6d-4fe8-9d61-10124eab2b82\n"
     ]
    },
    {
     "name": "stderr",
     "output_type": "stream",
     "text": [
      "[WDM] - Current google-chrome version is 85.0.4183\n",
      "[WDM] - Get LATEST driver version for 85.0.4183\n",
      "[WDM] - Driver [/Users/jasenlo/.wdm/drivers/chromedriver/mac64/85.0.4183.87/chromedriver] found in cache\n"
     ]
    },
    {
     "name": "stdout",
     "output_type": "stream",
     "text": [
      " \n",
      "http://airbnb.com/rooms/7922622?check_in=2021-01-01&check_out=2021-04-30&previous_page_section_name=1000&display_extensions%5B%5D=DATED_LTS&display_extensions%5B%5D=MONTHLY_STAYS&federated_search_id=50b5c7c1-8c6d-4fe8-9d61-10124eab2b82\n"
     ]
    },
    {
     "name": "stderr",
     "output_type": "stream",
     "text": [
      "[WDM] - Current google-chrome version is 85.0.4183\n",
      "[WDM] - Get LATEST driver version for 85.0.4183\n",
      "[WDM] - Driver [/Users/jasenlo/.wdm/drivers/chromedriver/mac64/85.0.4183.87/chromedriver] found in cache\n"
     ]
    },
    {
     "name": "stdout",
     "output_type": "stream",
     "text": [
      " \n",
      "http://airbnb.com/rooms/8059456?check_in=2021-01-01&check_out=2021-04-30&previous_page_section_name=1000&display_extensions%5B%5D=DATED_LTS&display_extensions%5B%5D=MONTHLY_STAYS&federated_search_id=50b5c7c1-8c6d-4fe8-9d61-10124eab2b82\n"
     ]
    },
    {
     "name": "stderr",
     "output_type": "stream",
     "text": [
      "[WDM] - Current google-chrome version is 85.0.4183\n",
      "[WDM] - Get LATEST driver version for 85.0.4183\n",
      "[WDM] - Driver [/Users/jasenlo/.wdm/drivers/chromedriver/mac64/85.0.4183.87/chromedriver] found in cache\n"
     ]
    },
    {
     "name": "stdout",
     "output_type": "stream",
     "text": [
      " \n",
      "http://airbnb.com/rooms/39092798?check_in=2021-01-01&check_out=2021-04-30&previous_page_section_name=1000&display_extensions%5B%5D=DATED_LTS&display_extensions%5B%5D=MONTHLY_STAYS&federated_search_id=50b5c7c1-8c6d-4fe8-9d61-10124eab2b82\n"
     ]
    },
    {
     "name": "stderr",
     "output_type": "stream",
     "text": [
      "[WDM] - Current google-chrome version is 85.0.4183\n",
      "[WDM] - Get LATEST driver version for 85.0.4183\n",
      "[WDM] - Driver [/Users/jasenlo/.wdm/drivers/chromedriver/mac64/85.0.4183.87/chromedriver] found in cache\n"
     ]
    },
    {
     "name": "stdout",
     "output_type": "stream",
     "text": [
      " \n",
      "http://airbnb.com/rooms/9837760?check_in=2021-01-01&check_out=2021-04-30&previous_page_section_name=1000&display_extensions%5B%5D=DATED_LTS&display_extensions%5B%5D=MONTHLY_STAYS&federated_search_id=50b5c7c1-8c6d-4fe8-9d61-10124eab2b82\n"
     ]
    },
    {
     "name": "stderr",
     "output_type": "stream",
     "text": [
      "[WDM] - Current google-chrome version is 85.0.4183\n",
      "[WDM] - Get LATEST driver version for 85.0.4183\n",
      "[WDM] - Driver [/Users/jasenlo/.wdm/drivers/chromedriver/mac64/85.0.4183.87/chromedriver] found in cache\n"
     ]
    },
    {
     "name": "stdout",
     "output_type": "stream",
     "text": [
      " \n",
      "http://airbnb.com/rooms/42124187?check_in=2021-01-01&check_out=2021-04-30&previous_page_section_name=1000&display_extensions%5B%5D=DATED_LTS&display_extensions%5B%5D=MONTHLY_STAYS&federated_search_id=50b5c7c1-8c6d-4fe8-9d61-10124eab2b82\n"
     ]
    },
    {
     "name": "stderr",
     "output_type": "stream",
     "text": [
      "[WDM] - Current google-chrome version is 85.0.4183\n",
      "[WDM] - Get LATEST driver version for 85.0.4183\n",
      "[WDM] - Driver [/Users/jasenlo/.wdm/drivers/chromedriver/mac64/85.0.4183.87/chromedriver] found in cache\n"
     ]
    },
    {
     "name": "stdout",
     "output_type": "stream",
     "text": [
      " \n",
      "http://airbnb.com/rooms/45569629?check_in=2021-01-01&check_out=2021-04-30&previous_page_section_name=1000&display_extensions%5B%5D=DATED_LTS&display_extensions%5B%5D=MONTHLY_STAYS&federated_search_id=50b5c7c1-8c6d-4fe8-9d61-10124eab2b82\n"
     ]
    },
    {
     "name": "stderr",
     "output_type": "stream",
     "text": [
      "[WDM] - Current google-chrome version is 85.0.4183\n",
      "[WDM] - Get LATEST driver version for 85.0.4183\n",
      "[WDM] - Driver [/Users/jasenlo/.wdm/drivers/chromedriver/mac64/85.0.4183.87/chromedriver] found in cache\n"
     ]
    },
    {
     "name": "stdout",
     "output_type": "stream",
     "text": [
      " \n",
      "http://airbnb.com/rooms/42582567?check_in=2021-01-01&check_out=2021-04-30&previous_page_section_name=1000&display_extensions%5B%5D=DATED_LTS&display_extensions%5B%5D=MONTHLY_STAYS&federated_search_id=50b5c7c1-8c6d-4fe8-9d61-10124eab2b82\n"
     ]
    },
    {
     "name": "stderr",
     "output_type": "stream",
     "text": [
      "[WDM] - Current google-chrome version is 85.0.4183\n",
      "[WDM] - Get LATEST driver version for 85.0.4183\n",
      "[WDM] - Driver [/Users/jasenlo/.wdm/drivers/chromedriver/mac64/85.0.4183.87/chromedriver] found in cache\n"
     ]
    },
    {
     "name": "stdout",
     "output_type": "stream",
     "text": [
      " \n",
      "http://airbnb.com/rooms/32234955?check_in=2021-01-01&check_out=2021-04-30&previous_page_section_name=1000&display_extensions%5B%5D=DATED_LTS&display_extensions%5B%5D=MONTHLY_STAYS&federated_search_id=50b5c7c1-8c6d-4fe8-9d61-10124eab2b82\n"
     ]
    },
    {
     "name": "stderr",
     "output_type": "stream",
     "text": [
      "[WDM] - Current google-chrome version is 85.0.4183\n",
      "[WDM] - Get LATEST driver version for 85.0.4183\n",
      "[WDM] - Driver [/Users/jasenlo/.wdm/drivers/chromedriver/mac64/85.0.4183.87/chromedriver] found in cache\n"
     ]
    },
    {
     "name": "stdout",
     "output_type": "stream",
     "text": [
      " \n",
      "http://airbnb.com/rooms/9760628?check_in=2021-01-01&check_out=2021-04-30&previous_page_section_name=1000&display_extensions%5B%5D=DATED_LTS&display_extensions%5B%5D=MONTHLY_STAYS&federated_search_id=50b5c7c1-8c6d-4fe8-9d61-10124eab2b82\n"
     ]
    },
    {
     "name": "stderr",
     "output_type": "stream",
     "text": [
      "[WDM] - Current google-chrome version is 85.0.4183\n",
      "[WDM] - Get LATEST driver version for 85.0.4183\n",
      "[WDM] - Driver [/Users/jasenlo/.wdm/drivers/chromedriver/mac64/85.0.4183.87/chromedriver] found in cache\n"
     ]
    },
    {
     "name": "stdout",
     "output_type": "stream",
     "text": [
      " \n",
      "http://airbnb.com/rooms/9685711?check_in=2021-01-01&check_out=2021-04-30&previous_page_section_name=1000&display_extensions%5B%5D=DATED_LTS&display_extensions%5B%5D=MONTHLY_STAYS&federated_search_id=50b5c7c1-8c6d-4fe8-9d61-10124eab2b82\n"
     ]
    },
    {
     "name": "stderr",
     "output_type": "stream",
     "text": [
      "[WDM] - Current google-chrome version is 85.0.4183\n",
      "[WDM] - Get LATEST driver version for 85.0.4183\n",
      "[WDM] - Driver [/Users/jasenlo/.wdm/drivers/chromedriver/mac64/85.0.4183.87/chromedriver] found in cache\n"
     ]
    },
    {
     "name": "stdout",
     "output_type": "stream",
     "text": [
      " \n",
      "http://airbnb.com/rooms/40673283?check_in=2021-01-01&check_out=2021-04-30&previous_page_section_name=1000&display_extensions%5B%5D=MONTHLY_STAYS&display_extensions%5B%5D=DATED_LTS&federated_search_id=b5a3de69-e287-470a-bb01-3a8e7a88823b\n"
     ]
    },
    {
     "name": "stderr",
     "output_type": "stream",
     "text": [
      "[WDM] - Current google-chrome version is 85.0.4183\n",
      "[WDM] - Get LATEST driver version for 85.0.4183\n",
      "[WDM] - Driver [/Users/jasenlo/.wdm/drivers/chromedriver/mac64/85.0.4183.87/chromedriver] found in cache\n"
     ]
    },
    {
     "name": "stdout",
     "output_type": "stream",
     "text": [
      " \n",
      "http://airbnb.com/rooms/8058894?check_in=2021-01-01&check_out=2021-04-30&previous_page_section_name=1000&display_extensions%5B%5D=MONTHLY_STAYS&display_extensions%5B%5D=DATED_LTS&federated_search_id=b5a3de69-e287-470a-bb01-3a8e7a88823b\n"
     ]
    },
    {
     "name": "stderr",
     "output_type": "stream",
     "text": [
      "[WDM] - Current google-chrome version is 85.0.4183\n",
      "[WDM] - Get LATEST driver version for 85.0.4183\n",
      "[WDM] - Driver [/Users/jasenlo/.wdm/drivers/chromedriver/mac64/85.0.4183.87/chromedriver] found in cache\n"
     ]
    },
    {
     "name": "stdout",
     "output_type": "stream",
     "text": [
      " \n",
      "http://airbnb.com/rooms/8058373?check_in=2021-01-01&check_out=2021-04-30&previous_page_section_name=1000&display_extensions%5B%5D=MONTHLY_STAYS&display_extensions%5B%5D=DATED_LTS&federated_search_id=b5a3de69-e287-470a-bb01-3a8e7a88823b\n"
     ]
    },
    {
     "name": "stderr",
     "output_type": "stream",
     "text": [
      "[WDM] - Current google-chrome version is 85.0.4183\n",
      "[WDM] - Get LATEST driver version for 85.0.4183\n",
      "[WDM] - Driver [/Users/jasenlo/.wdm/drivers/chromedriver/mac64/85.0.4183.87/chromedriver] found in cache\n"
     ]
    },
    {
     "name": "stdout",
     "output_type": "stream",
     "text": [
      " \n",
      "http://airbnb.com/rooms/19820499?check_in=2021-01-01&check_out=2021-04-30&previous_page_section_name=1000&display_extensions%5B%5D=MONTHLY_STAYS&display_extensions%5B%5D=DATED_LTS&federated_search_id=b5a3de69-e287-470a-bb01-3a8e7a88823b\n"
     ]
    },
    {
     "name": "stderr",
     "output_type": "stream",
     "text": [
      "[WDM] - Current google-chrome version is 85.0.4183\n",
      "[WDM] - Get LATEST driver version for 85.0.4183\n",
      "[WDM] - Driver [/Users/jasenlo/.wdm/drivers/chromedriver/mac64/85.0.4183.87/chromedriver] found in cache\n"
     ]
    },
    {
     "name": "stdout",
     "output_type": "stream",
     "text": [
      " \n",
      "http://airbnb.com/rooms/45491932?check_in=2021-01-01&check_out=2021-04-30&previous_page_section_name=1000&display_extensions%5B%5D=MONTHLY_STAYS&display_extensions%5B%5D=DATED_LTS&federated_search_id=b5a3de69-e287-470a-bb01-3a8e7a88823b\n"
     ]
    },
    {
     "name": "stderr",
     "output_type": "stream",
     "text": [
      "[WDM] - Current google-chrome version is 85.0.4183\n",
      "[WDM] - Get LATEST driver version for 85.0.4183\n",
      "[WDM] - Driver [/Users/jasenlo/.wdm/drivers/chromedriver/mac64/85.0.4183.87/chromedriver] found in cache\n"
     ]
    },
    {
     "name": "stdout",
     "output_type": "stream",
     "text": [
      " \n",
      "http://airbnb.com/rooms/13400284?check_in=2021-01-01&check_out=2021-04-30&previous_page_section_name=1000&display_extensions%5B%5D=MONTHLY_STAYS&display_extensions%5B%5D=DATED_LTS&federated_search_id=b5a3de69-e287-470a-bb01-3a8e7a88823b\n"
     ]
    },
    {
     "name": "stderr",
     "output_type": "stream",
     "text": [
      "[WDM] - Current google-chrome version is 85.0.4183\n",
      "[WDM] - Get LATEST driver version for 85.0.4183\n",
      "[WDM] - Driver [/Users/jasenlo/.wdm/drivers/chromedriver/mac64/85.0.4183.87/chromedriver] found in cache\n"
     ]
    },
    {
     "name": "stdout",
     "output_type": "stream",
     "text": [
      " \n",
      "http://airbnb.com/rooms/43003880?check_in=2021-01-01&check_out=2021-04-30&previous_page_section_name=1000&display_extensions%5B%5D=MONTHLY_STAYS&display_extensions%5B%5D=DATED_LTS&federated_search_id=b5a3de69-e287-470a-bb01-3a8e7a88823b\n"
     ]
    },
    {
     "name": "stderr",
     "output_type": "stream",
     "text": [
      "[WDM] - Current google-chrome version is 85.0.4183\n",
      "[WDM] - Get LATEST driver version for 85.0.4183\n",
      "[WDM] - Driver [/Users/jasenlo/.wdm/drivers/chromedriver/mac64/85.0.4183.87/chromedriver] found in cache\n"
     ]
    },
    {
     "name": "stdout",
     "output_type": "stream",
     "text": [
      " \n",
      "http://airbnb.com/rooms/32234955?check_in=2021-01-01&check_out=2021-04-30&previous_page_section_name=1000&display_extensions%5B%5D=MONTHLY_STAYS&display_extensions%5B%5D=DATED_LTS&federated_search_id=b5a3de69-e287-470a-bb01-3a8e7a88823b\n"
     ]
    },
    {
     "name": "stderr",
     "output_type": "stream",
     "text": [
      "[WDM] - Current google-chrome version is 85.0.4183\n",
      "[WDM] - Get LATEST driver version for 85.0.4183\n",
      "[WDM] - Driver [/Users/jasenlo/.wdm/drivers/chromedriver/mac64/85.0.4183.87/chromedriver] found in cache\n"
     ]
    },
    {
     "name": "stdout",
     "output_type": "stream",
     "text": [
      " \n",
      "http://airbnb.com/rooms/9685711?check_in=2021-01-01&check_out=2021-04-30&previous_page_section_name=1000&display_extensions%5B%5D=MONTHLY_STAYS&display_extensions%5B%5D=DATED_LTS&federated_search_id=b5a3de69-e287-470a-bb01-3a8e7a88823b\n"
     ]
    },
    {
     "name": "stderr",
     "output_type": "stream",
     "text": [
      "[WDM] - Current google-chrome version is 85.0.4183\n",
      "[WDM] - Get LATEST driver version for 85.0.4183\n",
      "[WDM] - Driver [/Users/jasenlo/.wdm/drivers/chromedriver/mac64/85.0.4183.87/chromedriver] found in cache\n"
     ]
    },
    {
     "name": "stdout",
     "output_type": "stream",
     "text": [
      " \n",
      "http://airbnb.com/rooms/19612190?check_in=2021-01-01&check_out=2021-04-30&previous_page_section_name=1000&display_extensions%5B%5D=MONTHLY_STAYS&display_extensions%5B%5D=DATED_LTS&federated_search_id=b5a3de69-e287-470a-bb01-3a8e7a88823b\n"
     ]
    },
    {
     "name": "stderr",
     "output_type": "stream",
     "text": [
      "[WDM] - Current google-chrome version is 85.0.4183\n",
      "[WDM] - Get LATEST driver version for 85.0.4183\n",
      "[WDM] - Driver [/Users/jasenlo/.wdm/drivers/chromedriver/mac64/85.0.4183.87/chromedriver] found in cache\n"
     ]
    },
    {
     "name": "stdout",
     "output_type": "stream",
     "text": [
      " \n",
      "http://airbnb.com/rooms/13400284?check_in=2021-01-01&check_out=2021-04-30&previous_page_section_name=1000&display_extensions%5B%5D=MONTHLY_STAYS&display_extensions%5B%5D=DATED_LTS&federated_search_id=df8a6183-17ef-4917-90b2-1c6174e660b6\n"
     ]
    },
    {
     "name": "stderr",
     "output_type": "stream",
     "text": [
      "[WDM] - Current google-chrome version is 85.0.4183\n",
      "[WDM] - Get LATEST driver version for 85.0.4183\n",
      "[WDM] - Driver [/Users/jasenlo/.wdm/drivers/chromedriver/mac64/85.0.4183.87/chromedriver] found in cache\n"
     ]
    },
    {
     "name": "stdout",
     "output_type": "stream",
     "text": [
      " \n",
      "http://airbnb.com/rooms/42957363?check_in=2021-01-01&check_out=2021-04-30&previous_page_section_name=1000&display_extensions%5B%5D=MONTHLY_STAYS&display_extensions%5B%5D=DATED_LTS&federated_search_id=df8a6183-17ef-4917-90b2-1c6174e660b6\n"
     ]
    },
    {
     "name": "stderr",
     "output_type": "stream",
     "text": [
      "[WDM] - Current google-chrome version is 85.0.4183\n",
      "[WDM] - Get LATEST driver version for 85.0.4183\n",
      "[WDM] - Driver [/Users/jasenlo/.wdm/drivers/chromedriver/mac64/85.0.4183.87/chromedriver] found in cache\n"
     ]
    },
    {
     "name": "stdout",
     "output_type": "stream",
     "text": [
      " \n",
      "http://airbnb.com/rooms/19821004?check_in=2021-01-01&check_out=2021-04-30&previous_page_section_name=1000&display_extensions%5B%5D=MONTHLY_STAYS&display_extensions%5B%5D=DATED_LTS&federated_search_id=df8a6183-17ef-4917-90b2-1c6174e660b6\n"
     ]
    },
    {
     "name": "stderr",
     "output_type": "stream",
     "text": [
      "[WDM] - Current google-chrome version is 85.0.4183\n",
      "[WDM] - Get LATEST driver version for 85.0.4183\n",
      "[WDM] - Driver [/Users/jasenlo/.wdm/drivers/chromedriver/mac64/85.0.4183.87/chromedriver] found in cache\n"
     ]
    },
    {
     "name": "stdout",
     "output_type": "stream",
     "text": [
      " \n",
      "http://airbnb.com/rooms/19821276?check_in=2021-01-01&check_out=2021-04-30&previous_page_section_name=1000&display_extensions%5B%5D=MONTHLY_STAYS&display_extensions%5B%5D=DATED_LTS&federated_search_id=df8a6183-17ef-4917-90b2-1c6174e660b6\n"
     ]
    },
    {
     "name": "stderr",
     "output_type": "stream",
     "text": [
      "[WDM] - Current google-chrome version is 85.0.4183\n",
      "[WDM] - Get LATEST driver version for 85.0.4183\n",
      "[WDM] - Driver [/Users/jasenlo/.wdm/drivers/chromedriver/mac64/85.0.4183.87/chromedriver] found in cache\n"
     ]
    },
    {
     "name": "stdout",
     "output_type": "stream",
     "text": [
      " \n",
      "http://airbnb.com/rooms/45614021?check_in=2021-01-01&check_out=2021-04-30&previous_page_section_name=1000&display_extensions%5B%5D=MONTHLY_STAYS&display_extensions%5B%5D=DATED_LTS&federated_search_id=df8a6183-17ef-4917-90b2-1c6174e660b6\n"
     ]
    },
    {
     "name": "stderr",
     "output_type": "stream",
     "text": [
      "[WDM] - Current google-chrome version is 85.0.4183\n",
      "[WDM] - Get LATEST driver version for 85.0.4183\n",
      "[WDM] - Driver [/Users/jasenlo/.wdm/drivers/chromedriver/mac64/85.0.4183.87/chromedriver] found in cache\n"
     ]
    },
    {
     "name": "stdout",
     "output_type": "stream",
     "text": [
      " \n",
      "http://airbnb.com/rooms/25653736?check_in=2021-01-01&check_out=2021-04-30&previous_page_section_name=1000&display_extensions%5B%5D=MONTHLY_STAYS&display_extensions%5B%5D=DATED_LTS&federated_search_id=df8a6183-17ef-4917-90b2-1c6174e660b6\n"
     ]
    },
    {
     "name": "stderr",
     "output_type": "stream",
     "text": [
      "[WDM] - Current google-chrome version is 85.0.4183\n",
      "[WDM] - Get LATEST driver version for 85.0.4183\n",
      "[WDM] - Driver [/Users/jasenlo/.wdm/drivers/chromedriver/mac64/85.0.4183.87/chromedriver] found in cache\n"
     ]
    },
    {
     "name": "stdout",
     "output_type": "stream",
     "text": [
      " \n",
      "http://airbnb.com/rooms/14435637?check_in=2021-01-01&check_out=2021-04-30&previous_page_section_name=1000&display_extensions%5B%5D=MONTHLY_STAYS&display_extensions%5B%5D=DATED_LTS&federated_search_id=df8a6183-17ef-4917-90b2-1c6174e660b6\n"
     ]
    },
    {
     "name": "stderr",
     "output_type": "stream",
     "text": [
      "[WDM] - Current google-chrome version is 85.0.4183\n",
      "[WDM] - Get LATEST driver version for 85.0.4183\n",
      "[WDM] - Driver [/Users/jasenlo/.wdm/drivers/chromedriver/mac64/85.0.4183.87/chromedriver] found in cache\n"
     ]
    },
    {
     "name": "stdout",
     "output_type": "stream",
     "text": [
      " \n",
      "http://airbnb.com/rooms/14193769?check_in=2021-01-01&check_out=2021-04-30&previous_page_section_name=1000&display_extensions%5B%5D=MONTHLY_STAYS&display_extensions%5B%5D=DATED_LTS&federated_search_id=df8a6183-17ef-4917-90b2-1c6174e660b6\n"
     ]
    },
    {
     "name": "stderr",
     "output_type": "stream",
     "text": [
      "[WDM] - Current google-chrome version is 85.0.4183\n",
      "[WDM] - Get LATEST driver version for 85.0.4183\n",
      "[WDM] - Driver [/Users/jasenlo/.wdm/drivers/chromedriver/mac64/85.0.4183.87/chromedriver] found in cache\n"
     ]
    },
    {
     "name": "stdout",
     "output_type": "stream",
     "text": [
      " \n",
      "http://airbnb.com/rooms/14436203?check_in=2021-01-01&check_out=2021-04-30&previous_page_section_name=1000&display_extensions%5B%5D=MONTHLY_STAYS&display_extensions%5B%5D=DATED_LTS&federated_search_id=df8a6183-17ef-4917-90b2-1c6174e660b6\n"
     ]
    },
    {
     "name": "stderr",
     "output_type": "stream",
     "text": [
      "[WDM] - Current google-chrome version is 85.0.4183\n",
      "[WDM] - Get LATEST driver version for 85.0.4183\n",
      "[WDM] - Driver [/Users/jasenlo/.wdm/drivers/chromedriver/mac64/85.0.4183.87/chromedriver] found in cache\n"
     ]
    },
    {
     "name": "stdout",
     "output_type": "stream",
     "text": [
      " \n",
      "http://airbnb.com/rooms/21314535?check_in=2021-01-01&check_out=2021-04-30&previous_page_section_name=1000&display_extensions%5B%5D=MONTHLY_STAYS&display_extensions%5B%5D=DATED_LTS&federated_search_id=df8a6183-17ef-4917-90b2-1c6174e660b6\n"
     ]
    },
    {
     "name": "stderr",
     "output_type": "stream",
     "text": [
      "[WDM] - Current google-chrome version is 85.0.4183\n",
      "[WDM] - Get LATEST driver version for 85.0.4183\n",
      "[WDM] - Driver [/Users/jasenlo/.wdm/drivers/chromedriver/mac64/85.0.4183.87/chromedriver] found in cache\n"
     ]
    },
    {
     "name": "stdout",
     "output_type": "stream",
     "text": [
      " \n",
      "http://airbnb.com/rooms/21987268?check_in=2021-01-01&check_out=2021-04-30&previous_page_section_name=1000&display_extensions%5B%5D=DATED_LTS&display_extensions%5B%5D=MONTHLY_STAYS&federated_search_id=9b4a6d79-224d-4a8d-8823-5d1c76cb6d09\n"
     ]
    },
    {
     "name": "stderr",
     "output_type": "stream",
     "text": [
      "[WDM] - Current google-chrome version is 85.0.4183\n",
      "[WDM] - Get LATEST driver version for 85.0.4183\n",
      "[WDM] - Driver [/Users/jasenlo/.wdm/drivers/chromedriver/mac64/85.0.4183.87/chromedriver] found in cache\n"
     ]
    },
    {
     "name": "stdout",
     "output_type": "stream",
     "text": [
      " \n",
      "http://airbnb.com/rooms/42374045?check_in=2021-01-01&check_out=2021-04-30&previous_page_section_name=1000&display_extensions%5B%5D=DATED_LTS&display_extensions%5B%5D=MONTHLY_STAYS&federated_search_id=9b4a6d79-224d-4a8d-8823-5d1c76cb6d09\n"
     ]
    },
    {
     "name": "stderr",
     "output_type": "stream",
     "text": [
      "[WDM] - Current google-chrome version is 85.0.4183\n",
      "[WDM] - Get LATEST driver version for 85.0.4183\n",
      "[WDM] - Driver [/Users/jasenlo/.wdm/drivers/chromedriver/mac64/85.0.4183.87/chromedriver] found in cache\n"
     ]
    },
    {
     "name": "stdout",
     "output_type": "stream",
     "text": [
      " \n",
      "http://airbnb.com/rooms/42583918?check_in=2021-01-01&check_out=2021-04-30&previous_page_section_name=1000&display_extensions%5B%5D=DATED_LTS&display_extensions%5B%5D=MONTHLY_STAYS&federated_search_id=9b4a6d79-224d-4a8d-8823-5d1c76cb6d09\n"
     ]
    },
    {
     "name": "stderr",
     "output_type": "stream",
     "text": [
      "[WDM] - Current google-chrome version is 85.0.4183\n",
      "[WDM] - Get LATEST driver version for 85.0.4183\n",
      "[WDM] - Driver [/Users/jasenlo/.wdm/drivers/chromedriver/mac64/85.0.4183.87/chromedriver] found in cache\n"
     ]
    },
    {
     "name": "stdout",
     "output_type": "stream",
     "text": [
      " \n",
      "http://airbnb.com/rooms/36296288?check_in=2021-01-01&check_out=2021-04-30&previous_page_section_name=1000&display_extensions%5B%5D=DATED_LTS&display_extensions%5B%5D=MONTHLY_STAYS&federated_search_id=9b4a6d79-224d-4a8d-8823-5d1c76cb6d09\n"
     ]
    },
    {
     "name": "stderr",
     "output_type": "stream",
     "text": [
      "[WDM] - Current google-chrome version is 85.0.4183\n",
      "[WDM] - Get LATEST driver version for 85.0.4183\n",
      "[WDM] - Driver [/Users/jasenlo/.wdm/drivers/chromedriver/mac64/85.0.4183.87/chromedriver] found in cache\n"
     ]
    },
    {
     "name": "stdout",
     "output_type": "stream",
     "text": [
      " \n",
      "http://airbnb.com/rooms/8185184?check_in=2021-01-01&check_out=2021-04-30&previous_page_section_name=1000&display_extensions%5B%5D=DATED_LTS&display_extensions%5B%5D=MONTHLY_STAYS&federated_search_id=b35d854c-6667-4a02-8231-b1216230f70a\n"
     ]
    },
    {
     "name": "stderr",
     "output_type": "stream",
     "text": [
      "[WDM] - Current google-chrome version is 85.0.4183\n",
      "[WDM] - Get LATEST driver version for 85.0.4183\n"
     ]
    },
    {
     "name": "stdout",
     "output_type": "stream",
     "text": [
      " \n"
     ]
    },
    {
     "name": "stderr",
     "output_type": "stream",
     "text": [
      "[WDM] - Driver [/Users/jasenlo/.wdm/drivers/chromedriver/mac64/85.0.4183.87/chromedriver] found in cache\n"
     ]
    },
    {
     "name": "stdout",
     "output_type": "stream",
     "text": [
      "http://airbnb.com/rooms/4028925?check_in=2021-01-01&check_out=2021-04-30&previous_page_section_name=1000&display_extensions%5B%5D=DATED_LTS&display_extensions%5B%5D=MONTHLY_STAYS&federated_search_id=b35d854c-6667-4a02-8231-b1216230f70a\n"
     ]
    },
    {
     "name": "stderr",
     "output_type": "stream",
     "text": [
      "[WDM] - Current google-chrome version is 85.0.4183\n",
      "[WDM] - Get LATEST driver version for 85.0.4183\n",
      "[WDM] - Driver [/Users/jasenlo/.wdm/drivers/chromedriver/mac64/85.0.4183.87/chromedriver] found in cache\n"
     ]
    },
    {
     "name": "stdout",
     "output_type": "stream",
     "text": [
      " \n",
      "http://airbnb.com/rooms/4086679?check_in=2021-01-01&check_out=2021-04-30&previous_page_section_name=1000&display_extensions%5B%5D=DATED_LTS&display_extensions%5B%5D=MONTHLY_STAYS&federated_search_id=b35d854c-6667-4a02-8231-b1216230f70a\n"
     ]
    },
    {
     "name": "stderr",
     "output_type": "stream",
     "text": [
      "[WDM] - Current google-chrome version is 85.0.4183\n",
      "[WDM] - Get LATEST driver version for 85.0.4183\n",
      "[WDM] - Driver [/Users/jasenlo/.wdm/drivers/chromedriver/mac64/85.0.4183.87/chromedriver] found in cache\n"
     ]
    },
    {
     "name": "stdout",
     "output_type": "stream",
     "text": [
      " \n",
      "http://airbnb.com/rooms/170582?check_in=2021-01-01&check_out=2021-04-30&previous_page_section_name=1000&display_extensions%5B%5D=DATED_LTS&display_extensions%5B%5D=MONTHLY_STAYS&federated_search_id=b35d854c-6667-4a02-8231-b1216230f70a\n"
     ]
    },
    {
     "name": "stderr",
     "output_type": "stream",
     "text": [
      "[WDM] - Current google-chrome version is 85.0.4183\n",
      "[WDM] - Get LATEST driver version for 85.0.4183\n",
      "[WDM] - Driver [/Users/jasenlo/.wdm/drivers/chromedriver/mac64/85.0.4183.87/chromedriver] found in cache\n"
     ]
    },
    {
     "name": "stdout",
     "output_type": "stream",
     "text": [
      " \n",
      "http://airbnb.com/rooms/8185184?check_in=2021-01-01&check_out=2021-04-30&previous_page_section_name=1000&display_extensions%5B%5D=MONTHLY_STAYS&display_extensions%5B%5D=DATED_LTS&federated_search_id=5d94edc3-447c-4401-90f0-245dcb893ad7\n"
     ]
    },
    {
     "name": "stderr",
     "output_type": "stream",
     "text": [
      "[WDM] - Current google-chrome version is 85.0.4183\n",
      "[WDM] - Get LATEST driver version for 85.0.4183\n",
      "[WDM] - Driver [/Users/jasenlo/.wdm/drivers/chromedriver/mac64/85.0.4183.87/chromedriver] found in cache\n"
     ]
    },
    {
     "name": "stdout",
     "output_type": "stream",
     "text": [
      " \n",
      "http://airbnb.com/rooms/12707497?check_in=2021-01-01&check_out=2021-04-30&previous_page_section_name=1000&display_extensions%5B%5D=MONTHLY_STAYS&display_extensions%5B%5D=DATED_LTS&federated_search_id=5d94edc3-447c-4401-90f0-245dcb893ad7\n"
     ]
    },
    {
     "name": "stderr",
     "output_type": "stream",
     "text": [
      "[WDM] - Current google-chrome version is 85.0.4183\n",
      "[WDM] - Get LATEST driver version for 85.0.4183\n",
      "[WDM] - Driver [/Users/jasenlo/.wdm/drivers/chromedriver/mac64/85.0.4183.87/chromedriver] found in cache\n"
     ]
    },
    {
     "name": "stdout",
     "output_type": "stream",
     "text": [
      " \n",
      "http://airbnb.com/rooms/19099053?check_in=2021-01-01&check_out=2021-04-30&previous_page_section_name=1000&display_extensions%5B%5D=MONTHLY_STAYS&display_extensions%5B%5D=DATED_LTS&federated_search_id=5d94edc3-447c-4401-90f0-245dcb893ad7\n"
     ]
    },
    {
     "name": "stderr",
     "output_type": "stream",
     "text": [
      "[WDM] - Current google-chrome version is 85.0.4183\n",
      "[WDM] - Get LATEST driver version for 85.0.4183\n",
      "[WDM] - Driver [/Users/jasenlo/.wdm/drivers/chromedriver/mac64/85.0.4183.87/chromedriver] found in cache\n"
     ]
    },
    {
     "name": "stdout",
     "output_type": "stream",
     "text": [
      " \n",
      "http://airbnb.com/rooms/2093486?check_in=2021-01-01&check_out=2021-04-30&previous_page_section_name=1000&display_extensions%5B%5D=MONTHLY_STAYS&display_extensions%5B%5D=DATED_LTS&federated_search_id=5d94edc3-447c-4401-90f0-245dcb893ad7\n"
     ]
    },
    {
     "name": "stderr",
     "output_type": "stream",
     "text": [
      "[WDM] - Current google-chrome version is 85.0.4183\n",
      "[WDM] - Get LATEST driver version for 85.0.4183\n",
      "[WDM] - Driver [/Users/jasenlo/.wdm/drivers/chromedriver/mac64/85.0.4183.87/chromedriver] found in cache\n"
     ]
    },
    {
     "name": "stdout",
     "output_type": "stream",
     "text": [
      " \n",
      "http://airbnb.com/rooms/25765982?check_in=2021-01-01&check_out=2021-04-30&previous_page_section_name=1000&display_extensions%5B%5D=MONTHLY_STAYS&display_extensions%5B%5D=DATED_LTS&federated_search_id=3b5f90fb-27e2-47ee-a6c1-fbcdb0d0ec22\n"
     ]
    },
    {
     "name": "stderr",
     "output_type": "stream",
     "text": [
      "[WDM] - Current google-chrome version is 85.0.4183\n",
      "[WDM] - Get LATEST driver version for 85.0.4183\n",
      "[WDM] - Driver [/Users/jasenlo/.wdm/drivers/chromedriver/mac64/85.0.4183.87/chromedriver] found in cache\n"
     ]
    },
    {
     "name": "stdout",
     "output_type": "stream",
     "text": [
      " \n",
      "http://airbnb.com/rooms/9977892?check_in=2021-01-01&check_out=2021-04-30&previous_page_section_name=1000&display_extensions%5B%5D=MONTHLY_STAYS&display_extensions%5B%5D=DATED_LTS&federated_search_id=3b5f90fb-27e2-47ee-a6c1-fbcdb0d0ec22\n"
     ]
    },
    {
     "name": "stderr",
     "output_type": "stream",
     "text": [
      "[WDM] - Current google-chrome version is 85.0.4183\n",
      "[WDM] - Get LATEST driver version for 85.0.4183\n",
      "[WDM] - Driver [/Users/jasenlo/.wdm/drivers/chromedriver/mac64/85.0.4183.87/chromedriver] found in cache\n"
     ]
    },
    {
     "name": "stdout",
     "output_type": "stream",
     "text": [
      " \n",
      "http://airbnb.com/rooms/9641192?check_in=2021-01-01&check_out=2021-04-30&previous_page_section_name=1000&display_extensions%5B%5D=MONTHLY_STAYS&display_extensions%5B%5D=DATED_LTS&federated_search_id=3b5f90fb-27e2-47ee-a6c1-fbcdb0d0ec22\n"
     ]
    },
    {
     "name": "stderr",
     "output_type": "stream",
     "text": [
      "[WDM] - Current google-chrome version is 85.0.4183\n",
      "[WDM] - Get LATEST driver version for 85.0.4183\n",
      "[WDM] - Driver [/Users/jasenlo/.wdm/drivers/chromedriver/mac64/85.0.4183.87/chromedriver] found in cache\n"
     ]
    },
    {
     "name": "stdout",
     "output_type": "stream",
     "text": [
      " \n",
      "http://airbnb.com/rooms/4357805?check_in=2021-01-01&check_out=2021-04-30&previous_page_section_name=1000&display_extensions%5B%5D=MONTHLY_STAYS&display_extensions%5B%5D=DATED_LTS&federated_search_id=3b5f90fb-27e2-47ee-a6c1-fbcdb0d0ec22\n"
     ]
    },
    {
     "name": "stderr",
     "output_type": "stream",
     "text": [
      "[WDM] - Current google-chrome version is 85.0.4183\n",
      "[WDM] - Get LATEST driver version for 85.0.4183\n",
      "[WDM] - Driver [/Users/jasenlo/.wdm/drivers/chromedriver/mac64/85.0.4183.87/chromedriver] found in cache\n"
     ]
    },
    {
     "name": "stdout",
     "output_type": "stream",
     "text": [
      " \n",
      "http://airbnb.com/rooms/7143189?check_in=2021-01-01&check_out=2021-04-30&previous_page_section_name=1000&display_extensions%5B%5D=MONTHLY_STAYS&display_extensions%5B%5D=DATED_LTS&federated_search_id=3b5f90fb-27e2-47ee-a6c1-fbcdb0d0ec22\n"
     ]
    },
    {
     "name": "stderr",
     "output_type": "stream",
     "text": [
      "[WDM] - Current google-chrome version is 85.0.4183\n",
      "[WDM] - Get LATEST driver version for 85.0.4183\n",
      "[WDM] - Driver [/Users/jasenlo/.wdm/drivers/chromedriver/mac64/85.0.4183.87/chromedriver] found in cache\n"
     ]
    },
    {
     "name": "stdout",
     "output_type": "stream",
     "text": [
      " \n",
      "http://airbnb.com/rooms/31138895?check_in=2021-01-01&check_out=2021-04-30&previous_page_section_name=1000&display_extensions%5B%5D=MONTHLY_STAYS&display_extensions%5B%5D=DATED_LTS&federated_search_id=3b5f90fb-27e2-47ee-a6c1-fbcdb0d0ec22\n"
     ]
    },
    {
     "name": "stderr",
     "output_type": "stream",
     "text": [
      "[WDM] - Current google-chrome version is 85.0.4183\n",
      "[WDM] - Get LATEST driver version for 85.0.4183\n",
      "[WDM] - Driver [/Users/jasenlo/.wdm/drivers/chromedriver/mac64/85.0.4183.87/chromedriver] found in cache\n"
     ]
    },
    {
     "name": "stdout",
     "output_type": "stream",
     "text": [
      " \n",
      "http://airbnb.com/rooms/9683475?check_in=2021-01-01&check_out=2021-04-30&previous_page_section_name=1000&display_extensions%5B%5D=MONTHLY_STAYS&display_extensions%5B%5D=DATED_LTS&federated_search_id=3b5f90fb-27e2-47ee-a6c1-fbcdb0d0ec22\n"
     ]
    },
    {
     "name": "stderr",
     "output_type": "stream",
     "text": [
      "[WDM] - Current google-chrome version is 85.0.4183\n",
      "[WDM] - Get LATEST driver version for 85.0.4183\n",
      "[WDM] - Driver [/Users/jasenlo/.wdm/drivers/chromedriver/mac64/85.0.4183.87/chromedriver] found in cache\n"
     ]
    },
    {
     "name": "stdout",
     "output_type": "stream",
     "text": [
      " \n",
      "http://airbnb.com/rooms/1796729?check_in=2021-01-01&check_out=2021-04-30&previous_page_section_name=1000&display_extensions%5B%5D=MONTHLY_STAYS&display_extensions%5B%5D=DATED_LTS&federated_search_id=4d2a3ed7-5c1a-44bf-a36b-680c54efcf01\n"
     ]
    },
    {
     "name": "stderr",
     "output_type": "stream",
     "text": [
      "[WDM] - Current google-chrome version is 85.0.4183\n",
      "[WDM] - Get LATEST driver version for 85.0.4183\n",
      "[WDM] - Driver [/Users/jasenlo/.wdm/drivers/chromedriver/mac64/85.0.4183.87/chromedriver] found in cache\n"
     ]
    },
    {
     "name": "stdout",
     "output_type": "stream",
     "text": [
      " \n",
      "http://airbnb.com/rooms/44626959?check_in=2021-01-01&check_out=2021-04-30&previous_page_section_name=1000&display_extensions%5B%5D=MONTHLY_STAYS&display_extensions%5B%5D=DATED_LTS&federated_search_id=4d2a3ed7-5c1a-44bf-a36b-680c54efcf01\n"
     ]
    },
    {
     "name": "stderr",
     "output_type": "stream",
     "text": [
      "[WDM] - Current google-chrome version is 85.0.4183\n",
      "[WDM] - Get LATEST driver version for 85.0.4183\n",
      "[WDM] - Driver [/Users/jasenlo/.wdm/drivers/chromedriver/mac64/85.0.4183.87/chromedriver] found in cache\n"
     ]
    },
    {
     "name": "stdout",
     "output_type": "stream",
     "text": [
      " \n",
      "http://airbnb.com/rooms/9977892?check_in=2021-01-01&check_out=2021-04-30&previous_page_section_name=1000&display_extensions%5B%5D=MONTHLY_STAYS&display_extensions%5B%5D=DATED_LTS&federated_search_id=4d2a3ed7-5c1a-44bf-a36b-680c54efcf01\n"
     ]
    },
    {
     "name": "stderr",
     "output_type": "stream",
     "text": [
      "[WDM] - Current google-chrome version is 85.0.4183\n",
      "[WDM] - Get LATEST driver version for 85.0.4183\n",
      "[WDM] - Driver [/Users/jasenlo/.wdm/drivers/chromedriver/mac64/85.0.4183.87/chromedriver] found in cache\n"
     ]
    },
    {
     "name": "stdout",
     "output_type": "stream",
     "text": [
      " \n",
      "http://airbnb.com/rooms/1017368?check_in=2021-01-01&check_out=2021-04-30&previous_page_section_name=1000&display_extensions%5B%5D=MONTHLY_STAYS&display_extensions%5B%5D=DATED_LTS&federated_search_id=4d2a3ed7-5c1a-44bf-a36b-680c54efcf01\n"
     ]
    },
    {
     "name": "stderr",
     "output_type": "stream",
     "text": [
      "[WDM] - Current google-chrome version is 85.0.4183\n",
      "[WDM] - Get LATEST driver version for 85.0.4183\n",
      "[WDM] - Driver [/Users/jasenlo/.wdm/drivers/chromedriver/mac64/85.0.4183.87/chromedriver] found in cache\n"
     ]
    },
    {
     "name": "stdout",
     "output_type": "stream",
     "text": [
      " \n",
      "http://airbnb.com/rooms/45528081?check_in=2021-01-01&check_out=2021-04-30&previous_page_section_name=1000&display_extensions%5B%5D=MONTHLY_STAYS&display_extensions%5B%5D=DATED_LTS&federated_search_id=4d2a3ed7-5c1a-44bf-a36b-680c54efcf01\n"
     ]
    },
    {
     "name": "stderr",
     "output_type": "stream",
     "text": [
      "[WDM] - Current google-chrome version is 85.0.4183\n",
      "[WDM] - Get LATEST driver version for 85.0.4183\n",
      "[WDM] - Driver [/Users/jasenlo/.wdm/drivers/chromedriver/mac64/85.0.4183.87/chromedriver] found in cache\n"
     ]
    },
    {
     "name": "stdout",
     "output_type": "stream",
     "text": [
      " \n",
      "http://airbnb.com/rooms/12707497?check_in=2021-01-01&check_out=2021-04-30&previous_page_section_name=1000&display_extensions%5B%5D=MONTHLY_STAYS&display_extensions%5B%5D=DATED_LTS&federated_search_id=4d2a3ed7-5c1a-44bf-a36b-680c54efcf01\n"
     ]
    },
    {
     "name": "stderr",
     "output_type": "stream",
     "text": [
      "[WDM] - Current google-chrome version is 85.0.4183\n",
      "[WDM] - Get LATEST driver version for 85.0.4183\n",
      "[WDM] - Driver [/Users/jasenlo/.wdm/drivers/chromedriver/mac64/85.0.4183.87/chromedriver] found in cache\n"
     ]
    },
    {
     "name": "stdout",
     "output_type": "stream",
     "text": [
      " \n",
      "http://airbnb.com/rooms/34678365?check_in=2021-01-01&check_out=2021-04-30&previous_page_section_name=1000&display_extensions%5B%5D=MONTHLY_STAYS&display_extensions%5B%5D=DATED_LTS&federated_search_id=4d2a3ed7-5c1a-44bf-a36b-680c54efcf01\n"
     ]
    },
    {
     "name": "stderr",
     "output_type": "stream",
     "text": [
      "[WDM] - Current google-chrome version is 85.0.4183\n",
      "[WDM] - Get LATEST driver version for 85.0.4183\n",
      "[WDM] - Driver [/Users/jasenlo/.wdm/drivers/chromedriver/mac64/85.0.4183.87/chromedriver] found in cache\n"
     ]
    },
    {
     "name": "stdout",
     "output_type": "stream",
     "text": [
      " \n",
      "http://airbnb.com/rooms/980288?check_in=2021-01-01&check_out=2021-04-30&previous_page_section_name=1000&display_extensions%5B%5D=MONTHLY_STAYS&display_extensions%5B%5D=DATED_LTS&federated_search_id=4d2a3ed7-5c1a-44bf-a36b-680c54efcf01\n"
     ]
    },
    {
     "name": "stderr",
     "output_type": "stream",
     "text": [
      "[WDM] - Current google-chrome version is 85.0.4183\n",
      "[WDM] - Get LATEST driver version for 85.0.4183\n",
      "[WDM] - Driver [/Users/jasenlo/.wdm/drivers/chromedriver/mac64/85.0.4183.87/chromedriver] found in cache\n"
     ]
    },
    {
     "name": "stdout",
     "output_type": "stream",
     "text": [
      " \n",
      "http://airbnb.com/rooms/24322289?check_in=2021-01-01&check_out=2021-04-30&previous_page_section_name=1000&display_extensions%5B%5D=MONTHLY_STAYS&display_extensions%5B%5D=DATED_LTS&federated_search_id=4d2a3ed7-5c1a-44bf-a36b-680c54efcf01\n"
     ]
    },
    {
     "name": "stderr",
     "output_type": "stream",
     "text": [
      "[WDM] - Current google-chrome version is 85.0.4183\n",
      "[WDM] - Get LATEST driver version for 85.0.4183\n",
      "[WDM] - Driver [/Users/jasenlo/.wdm/drivers/chromedriver/mac64/85.0.4183.87/chromedriver] found in cache\n"
     ]
    },
    {
     "name": "stdout",
     "output_type": "stream",
     "text": [
      " \n",
      "http://airbnb.com/rooms/935026?check_in=2021-01-01&check_out=2021-04-30&previous_page_section_name=1000&display_extensions%5B%5D=MONTHLY_STAYS&display_extensions%5B%5D=DATED_LTS&federated_search_id=4d2a3ed7-5c1a-44bf-a36b-680c54efcf01\n"
     ]
    },
    {
     "name": "stderr",
     "output_type": "stream",
     "text": [
      "[WDM] - Current google-chrome version is 85.0.4183\n",
      "[WDM] - Get LATEST driver version for 85.0.4183\n",
      "[WDM] - Driver [/Users/jasenlo/.wdm/drivers/chromedriver/mac64/85.0.4183.87/chromedriver] found in cache\n"
     ]
    },
    {
     "name": "stdout",
     "output_type": "stream",
     "text": [
      " \n",
      "http://airbnb.com/rooms/24322289?check_in=2021-01-01&check_out=2021-04-30&previous_page_section_name=1000&display_extensions%5B%5D=MONTHLY_STAYS&display_extensions%5B%5D=DATED_LTS&federated_search_id=87106bfe-fcda-4497-acb5-5e495937a1cf\n"
     ]
    },
    {
     "name": "stderr",
     "output_type": "stream",
     "text": [
      "[WDM] - Current google-chrome version is 85.0.4183\n",
      "[WDM] - Get LATEST driver version for 85.0.4183\n",
      "[WDM] - Driver [/Users/jasenlo/.wdm/drivers/chromedriver/mac64/85.0.4183.87/chromedriver] found in cache\n"
     ]
    },
    {
     "name": "stdout",
     "output_type": "stream",
     "text": [
      " \n",
      "http://airbnb.com/rooms/18798641?check_in=2021-01-01&check_out=2021-04-30&previous_page_section_name=1000&display_extensions%5B%5D=MONTHLY_STAYS&display_extensions%5B%5D=DATED_LTS&federated_search_id=87106bfe-fcda-4497-acb5-5e495937a1cf\n"
     ]
    },
    {
     "name": "stderr",
     "output_type": "stream",
     "text": [
      "[WDM] - Current google-chrome version is 85.0.4183\n",
      "[WDM] - Get LATEST driver version for 85.0.4183\n",
      "[WDM] - Driver [/Users/jasenlo/.wdm/drivers/chromedriver/mac64/85.0.4183.87/chromedriver] found in cache\n"
     ]
    },
    {
     "name": "stdout",
     "output_type": "stream",
     "text": [
      " \n",
      "http://airbnb.com/rooms/6757496?check_in=2021-01-01&check_out=2021-04-30&previous_page_section_name=1000&display_extensions%5B%5D=MONTHLY_STAYS&display_extensions%5B%5D=DATED_LTS&federated_search_id=87106bfe-fcda-4497-acb5-5e495937a1cf\n"
     ]
    },
    {
     "name": "stderr",
     "output_type": "stream",
     "text": [
      "[WDM] - Current google-chrome version is 85.0.4183\n",
      "[WDM] - Get LATEST driver version for 85.0.4183\n",
      "[WDM] - Driver [/Users/jasenlo/.wdm/drivers/chromedriver/mac64/85.0.4183.87/chromedriver] found in cache\n"
     ]
    },
    {
     "name": "stdout",
     "output_type": "stream",
     "text": [
      " \n",
      "http://airbnb.com/rooms/1796729?check_in=2021-01-01&check_out=2021-04-30&previous_page_section_name=1000&display_extensions%5B%5D=MONTHLY_STAYS&display_extensions%5B%5D=DATED_LTS&federated_search_id=87106bfe-fcda-4497-acb5-5e495937a1cf\n"
     ]
    },
    {
     "name": "stderr",
     "output_type": "stream",
     "text": [
      "[WDM] - Current google-chrome version is 85.0.4183\n",
      "[WDM] - Get LATEST driver version for 85.0.4183\n",
      "[WDM] - Driver [/Users/jasenlo/.wdm/drivers/chromedriver/mac64/85.0.4183.87/chromedriver] found in cache\n"
     ]
    },
    {
     "name": "stdout",
     "output_type": "stream",
     "text": [
      " \n",
      "http://airbnb.com/rooms/42055677?check_in=2021-01-01&check_out=2021-04-30&previous_page_section_name=1000&display_extensions%5B%5D=MONTHLY_STAYS&display_extensions%5B%5D=DATED_LTS&federated_search_id=87106bfe-fcda-4497-acb5-5e495937a1cf\n"
     ]
    },
    {
     "name": "stderr",
     "output_type": "stream",
     "text": [
      "[WDM] - Current google-chrome version is 85.0.4183\n",
      "[WDM] - Get LATEST driver version for 85.0.4183\n",
      "[WDM] - Driver [/Users/jasenlo/.wdm/drivers/chromedriver/mac64/85.0.4183.87/chromedriver] found in cache\n"
     ]
    },
    {
     "name": "stdout",
     "output_type": "stream",
     "text": [
      " \n",
      "http://airbnb.com/rooms/4357805?check_in=2021-01-01&check_out=2021-04-30&previous_page_section_name=1000&display_extensions%5B%5D=MONTHLY_STAYS&display_extensions%5B%5D=DATED_LTS&federated_search_id=87106bfe-fcda-4497-acb5-5e495937a1cf\n"
     ]
    },
    {
     "name": "stderr",
     "output_type": "stream",
     "text": [
      "[WDM] - Current google-chrome version is 85.0.4183\n",
      "[WDM] - Get LATEST driver version for 85.0.4183\n",
      "[WDM] - Driver [/Users/jasenlo/.wdm/drivers/chromedriver/mac64/85.0.4183.87/chromedriver] found in cache\n"
     ]
    },
    {
     "name": "stdout",
     "output_type": "stream",
     "text": [
      " \n",
      "http://airbnb.com/rooms/980288?check_in=2021-01-01&check_out=2021-04-30&previous_page_section_name=1000&display_extensions%5B%5D=MONTHLY_STAYS&display_extensions%5B%5D=DATED_LTS&federated_search_id=87106bfe-fcda-4497-acb5-5e495937a1cf\n"
     ]
    },
    {
     "name": "stderr",
     "output_type": "stream",
     "text": [
      "[WDM] - Current google-chrome version is 85.0.4183\n",
      "[WDM] - Get LATEST driver version for 85.0.4183\n",
      "[WDM] - Driver [/Users/jasenlo/.wdm/drivers/chromedriver/mac64/85.0.4183.87/chromedriver] found in cache\n"
     ]
    },
    {
     "name": "stdout",
     "output_type": "stream",
     "text": [
      " \n",
      "http://airbnb.com/rooms/4745015?check_in=2021-01-01&check_out=2021-04-30&previous_page_section_name=1000&display_extensions%5B%5D=MONTHLY_STAYS&display_extensions%5B%5D=DATED_LTS&federated_search_id=87106bfe-fcda-4497-acb5-5e495937a1cf\n"
     ]
    },
    {
     "name": "stderr",
     "output_type": "stream",
     "text": [
      "[WDM] - Current google-chrome version is 85.0.4183\n",
      "[WDM] - Get LATEST driver version for 85.0.4183\n",
      "[WDM] - Driver [/Users/jasenlo/.wdm/drivers/chromedriver/mac64/85.0.4183.87/chromedriver] found in cache\n"
     ]
    },
    {
     "name": "stdout",
     "output_type": "stream",
     "text": [
      " \n",
      "http://airbnb.com/rooms/7143189?check_in=2021-01-01&check_out=2021-04-30&previous_page_section_name=1000&display_extensions%5B%5D=MONTHLY_STAYS&display_extensions%5B%5D=DATED_LTS&federated_search_id=87106bfe-fcda-4497-acb5-5e495937a1cf\n"
     ]
    },
    {
     "name": "stderr",
     "output_type": "stream",
     "text": [
      "[WDM] - Current google-chrome version is 85.0.4183\n",
      "[WDM] - Get LATEST driver version for 85.0.4183\n",
      "[WDM] - Driver [/Users/jasenlo/.wdm/drivers/chromedriver/mac64/85.0.4183.87/chromedriver] found in cache\n"
     ]
    },
    {
     "name": "stdout",
     "output_type": "stream",
     "text": [
      " \n",
      "http://airbnb.com/rooms/9977892?check_in=2021-01-01&check_out=2021-04-30&previous_page_section_name=1000&display_extensions%5B%5D=MONTHLY_STAYS&display_extensions%5B%5D=DATED_LTS&federated_search_id=87106bfe-fcda-4497-acb5-5e495937a1cf\n"
     ]
    },
    {
     "name": "stderr",
     "output_type": "stream",
     "text": [
      "[WDM] - Current google-chrome version is 85.0.4183\n",
      "[WDM] - Get LATEST driver version for 85.0.4183\n",
      "[WDM] - Driver [/Users/jasenlo/.wdm/drivers/chromedriver/mac64/85.0.4183.87/chromedriver] found in cache\n"
     ]
    },
    {
     "name": "stdout",
     "output_type": "stream",
     "text": [
      " \n",
      "http://airbnb.com/rooms/16467653?check_in=2021-01-01&check_out=2021-04-30&previous_page_section_name=1000&display_extensions%5B%5D=MONTHLY_STAYS&display_extensions%5B%5D=DATED_LTS&federated_search_id=e95776d2-17d4-49d4-bfe2-a41c1cd055aa\n"
     ]
    },
    {
     "name": "stderr",
     "output_type": "stream",
     "text": [
      "[WDM] - Current google-chrome version is 85.0.4183\n",
      "[WDM] - Get LATEST driver version for 85.0.4183\n",
      "[WDM] - Driver [/Users/jasenlo/.wdm/drivers/chromedriver/mac64/85.0.4183.87/chromedriver] found in cache\n"
     ]
    },
    {
     "name": "stdout",
     "output_type": "stream",
     "text": [
      " \n",
      "http://airbnb.com/rooms/2706351?check_in=2021-01-01&check_out=2021-04-30&previous_page_section_name=1000&display_extensions%5B%5D=MONTHLY_STAYS&display_extensions%5B%5D=DATED_LTS&federated_search_id=e95776d2-17d4-49d4-bfe2-a41c1cd055aa\n"
     ]
    },
    {
     "name": "stderr",
     "output_type": "stream",
     "text": [
      "[WDM] - Current google-chrome version is 85.0.4183\n",
      "[WDM] - Get LATEST driver version for 85.0.4183\n",
      "[WDM] - Driver [/Users/jasenlo/.wdm/drivers/chromedriver/mac64/85.0.4183.87/chromedriver] found in cache\n"
     ]
    },
    {
     "name": "stdout",
     "output_type": "stream",
     "text": [
      " \n",
      "http://airbnb.com/rooms/4749982?check_in=2021-01-01&check_out=2021-04-30&previous_page_section_name=1000&display_extensions%5B%5D=MONTHLY_STAYS&display_extensions%5B%5D=DATED_LTS&federated_search_id=e95776d2-17d4-49d4-bfe2-a41c1cd055aa\n"
     ]
    },
    {
     "name": "stderr",
     "output_type": "stream",
     "text": [
      "[WDM] - Current google-chrome version is 85.0.4183\n",
      "[WDM] - Get LATEST driver version for 85.0.4183\n",
      "[WDM] - Driver [/Users/jasenlo/.wdm/drivers/chromedriver/mac64/85.0.4183.87/chromedriver] found in cache\n"
     ]
    },
    {
     "name": "stdout",
     "output_type": "stream",
     "text": [
      " \n",
      "http://airbnb.com/rooms/10571768?check_in=2021-01-01&check_out=2021-04-30&previous_page_section_name=1000&display_extensions%5B%5D=MONTHLY_STAYS&display_extensions%5B%5D=DATED_LTS&federated_search_id=e95776d2-17d4-49d4-bfe2-a41c1cd055aa\n"
     ]
    },
    {
     "name": "stderr",
     "output_type": "stream",
     "text": [
      "[WDM] - Current google-chrome version is 85.0.4183\n",
      "[WDM] - Get LATEST driver version for 85.0.4183\n",
      "[WDM] - Driver [/Users/jasenlo/.wdm/drivers/chromedriver/mac64/85.0.4183.87/chromedriver] found in cache\n"
     ]
    },
    {
     "name": "stdout",
     "output_type": "stream",
     "text": [
      " \n",
      "http://airbnb.com/rooms/16536961?check_in=2021-01-01&check_out=2021-04-30&previous_page_section_name=1000&display_extensions%5B%5D=MONTHLY_STAYS&display_extensions%5B%5D=DATED_LTS&federated_search_id=e95776d2-17d4-49d4-bfe2-a41c1cd055aa\n"
     ]
    },
    {
     "name": "stderr",
     "output_type": "stream",
     "text": [
      "[WDM] - Current google-chrome version is 85.0.4183\n",
      "[WDM] - Get LATEST driver version for 85.0.4183\n",
      "[WDM] - Driver [/Users/jasenlo/.wdm/drivers/chromedriver/mac64/85.0.4183.87/chromedriver] found in cache\n"
     ]
    },
    {
     "name": "stdout",
     "output_type": "stream",
     "text": [
      " \n",
      "http://airbnb.com/rooms/460213?check_in=2021-01-01&check_out=2021-04-30&previous_page_section_name=1000&display_extensions%5B%5D=DATED_LTS&display_extensions%5B%5D=MONTHLY_STAYS&federated_search_id=1b660edd-8be7-4238-89ab-d604979abb7a\n"
     ]
    },
    {
     "name": "stderr",
     "output_type": "stream",
     "text": [
      "[WDM] - Current google-chrome version is 85.0.4183\n",
      "[WDM] - Get LATEST driver version for 85.0.4183\n",
      "[WDM] - Driver [/Users/jasenlo/.wdm/drivers/chromedriver/mac64/85.0.4183.87/chromedriver] found in cache\n"
     ]
    },
    {
     "name": "stdout",
     "output_type": "stream",
     "text": [
      " \n",
      "http://airbnb.com/rooms/55853?check_in=2021-01-01&check_out=2021-04-30&previous_page_section_name=1000&display_extensions%5B%5D=DATED_LTS&display_extensions%5B%5D=MONTHLY_STAYS&federated_search_id=1b660edd-8be7-4238-89ab-d604979abb7a\n"
     ]
    },
    {
     "name": "stderr",
     "output_type": "stream",
     "text": [
      "[WDM] - Current google-chrome version is 85.0.4183\n",
      "[WDM] - Get LATEST driver version for 85.0.4183\n",
      "[WDM] - Driver [/Users/jasenlo/.wdm/drivers/chromedriver/mac64/85.0.4183.87/chromedriver] found in cache\n"
     ]
    },
    {
     "name": "stdout",
     "output_type": "stream",
     "text": [
      " \n",
      "http://airbnb.com/rooms/799899?check_in=2021-01-01&check_out=2021-04-30&previous_page_section_name=1000&display_extensions%5B%5D=DATED_LTS&display_extensions%5B%5D=MONTHLY_STAYS&federated_search_id=1b660edd-8be7-4238-89ab-d604979abb7a\n"
     ]
    },
    {
     "name": "stderr",
     "output_type": "stream",
     "text": [
      "[WDM] - Current google-chrome version is 85.0.4183\n",
      "[WDM] - Get LATEST driver version for 85.0.4183\n",
      "[WDM] - Driver [/Users/jasenlo/.wdm/drivers/chromedriver/mac64/85.0.4183.87/chromedriver] found in cache\n"
     ]
    },
    {
     "name": "stdout",
     "output_type": "stream",
     "text": [
      " \n",
      "http://airbnb.com/rooms/5025066?check_in=2021-01-01&check_out=2021-04-30&previous_page_section_name=1000&display_extensions%5B%5D=DATED_LTS&display_extensions%5B%5D=MONTHLY_STAYS&federated_search_id=1b660edd-8be7-4238-89ab-d604979abb7a\n"
     ]
    },
    {
     "name": "stderr",
     "output_type": "stream",
     "text": [
      "[WDM] - Current google-chrome version is 85.0.4183\n",
      "[WDM] - Get LATEST driver version for 85.0.4183\n",
      "[WDM] - Driver [/Users/jasenlo/.wdm/drivers/chromedriver/mac64/85.0.4183.87/chromedriver] found in cache\n"
     ]
    },
    {
     "name": "stdout",
     "output_type": "stream",
     "text": [
      " \n",
      "http://airbnb.com/rooms/44227165?check_in=2021-01-01&check_out=2021-04-30&previous_page_section_name=1000&display_extensions%5B%5D=DATED_LTS&display_extensions%5B%5D=MONTHLY_STAYS&federated_search_id=1b660edd-8be7-4238-89ab-d604979abb7a\n"
     ]
    },
    {
     "name": "stderr",
     "output_type": "stream",
     "text": [
      "[WDM] - Current google-chrome version is 85.0.4183\n",
      "[WDM] - Get LATEST driver version for 85.0.4183\n",
      "[WDM] - Driver [/Users/jasenlo/.wdm/drivers/chromedriver/mac64/85.0.4183.87/chromedriver] found in cache\n"
     ]
    },
    {
     "name": "stdout",
     "output_type": "stream",
     "text": [
      " \n",
      "http://airbnb.com/rooms/18994495?check_in=2021-01-01&check_out=2021-04-30&previous_page_section_name=1000&display_extensions%5B%5D=DATED_LTS&display_extensions%5B%5D=MONTHLY_STAYS&federated_search_id=1b660edd-8be7-4238-89ab-d604979abb7a\n"
     ]
    },
    {
     "name": "stderr",
     "output_type": "stream",
     "text": [
      "[WDM] - Current google-chrome version is 85.0.4183\n",
      "[WDM] - Get LATEST driver version for 85.0.4183\n",
      "[WDM] - Driver [/Users/jasenlo/.wdm/drivers/chromedriver/mac64/85.0.4183.87/chromedriver] found in cache\n"
     ]
    },
    {
     "name": "stdout",
     "output_type": "stream",
     "text": [
      " \n",
      "http://airbnb.com/rooms/23541820?check_in=2021-01-01&check_out=2021-04-30&previous_page_section_name=1000&display_extensions%5B%5D=DATED_LTS&display_extensions%5B%5D=MONTHLY_STAYS&federated_search_id=1b660edd-8be7-4238-89ab-d604979abb7a\n"
     ]
    },
    {
     "name": "stderr",
     "output_type": "stream",
     "text": [
      "[WDM] - Current google-chrome version is 85.0.4183\n",
      "[WDM] - Get LATEST driver version for 85.0.4183\n",
      "[WDM] - Driver [/Users/jasenlo/.wdm/drivers/chromedriver/mac64/85.0.4183.87/chromedriver] found in cache\n"
     ]
    },
    {
     "name": "stdout",
     "output_type": "stream",
     "text": [
      " \n",
      "http://airbnb.com/rooms/42615848?check_in=2021-01-01&check_out=2021-04-30&previous_page_section_name=1000&display_extensions%5B%5D=DATED_LTS&display_extensions%5B%5D=MONTHLY_STAYS&federated_search_id=1b660edd-8be7-4238-89ab-d604979abb7a\n"
     ]
    },
    {
     "name": "stderr",
     "output_type": "stream",
     "text": [
      "[WDM] - Current google-chrome version is 85.0.4183\n",
      "[WDM] - Get LATEST driver version for 85.0.4183\n",
      "[WDM] - Driver [/Users/jasenlo/.wdm/drivers/chromedriver/mac64/85.0.4183.87/chromedriver] found in cache\n"
     ]
    },
    {
     "name": "stdout",
     "output_type": "stream",
     "text": [
      " \n",
      "http://airbnb.com/rooms/15304742?check_in=2021-01-01&check_out=2021-04-30&previous_page_section_name=1000&display_extensions%5B%5D=DATED_LTS&display_extensions%5B%5D=MONTHLY_STAYS&federated_search_id=1b660edd-8be7-4238-89ab-d604979abb7a\n"
     ]
    },
    {
     "name": "stderr",
     "output_type": "stream",
     "text": [
      "[WDM] - Current google-chrome version is 85.0.4183\n",
      "[WDM] - Get LATEST driver version for 85.0.4183\n",
      "[WDM] - Driver [/Users/jasenlo/.wdm/drivers/chromedriver/mac64/85.0.4183.87/chromedriver] found in cache\n"
     ]
    },
    {
     "name": "stdout",
     "output_type": "stream",
     "text": [
      " \n",
      "http://airbnb.com/rooms/43727655?check_in=2021-01-01&check_out=2021-04-30&previous_page_section_name=1000&display_extensions%5B%5D=MONTHLY_STAYS&display_extensions%5B%5D=DATED_LTS&federated_search_id=b1e404e8-93b7-430f-a141-ee2a0fc074fd\n"
     ]
    },
    {
     "name": "stderr",
     "output_type": "stream",
     "text": [
      "[WDM] - Current google-chrome version is 85.0.4183\n",
      "[WDM] - Get LATEST driver version for 85.0.4183\n",
      "[WDM] - Driver [/Users/jasenlo/.wdm/drivers/chromedriver/mac64/85.0.4183.87/chromedriver] found in cache\n"
     ]
    },
    {
     "name": "stdout",
     "output_type": "stream",
     "text": [
      " \n",
      "http://airbnb.com/rooms/31030301?check_in=2021-01-01&check_out=2021-04-30&previous_page_section_name=1000&display_extensions%5B%5D=MONTHLY_STAYS&display_extensions%5B%5D=DATED_LTS&federated_search_id=b1e404e8-93b7-430f-a141-ee2a0fc074fd\n"
     ]
    },
    {
     "name": "stderr",
     "output_type": "stream",
     "text": [
      "[WDM] - Current google-chrome version is 85.0.4183\n",
      "[WDM] - Get LATEST driver version for 85.0.4183\n",
      "[WDM] - Driver [/Users/jasenlo/.wdm/drivers/chromedriver/mac64/85.0.4183.87/chromedriver] found in cache\n"
     ]
    },
    {
     "name": "stdout",
     "output_type": "stream",
     "text": [
      " \n",
      "http://airbnb.com/rooms/35463091?check_in=2021-01-01&check_out=2021-04-30&previous_page_section_name=1000&display_extensions%5B%5D=MONTHLY_STAYS&display_extensions%5B%5D=DATED_LTS&federated_search_id=b1e404e8-93b7-430f-a141-ee2a0fc074fd\n"
     ]
    },
    {
     "name": "stderr",
     "output_type": "stream",
     "text": [
      "[WDM] - Current google-chrome version is 85.0.4183\n",
      "[WDM] - Get LATEST driver version for 85.0.4183\n",
      "[WDM] - Driver [/Users/jasenlo/.wdm/drivers/chromedriver/mac64/85.0.4183.87/chromedriver] found in cache\n"
     ]
    },
    {
     "name": "stdout",
     "output_type": "stream",
     "text": [
      " \n",
      "http://airbnb.com/rooms/15156236?check_in=2021-01-01&check_out=2021-04-30&previous_page_section_name=1000&display_extensions%5B%5D=MONTHLY_STAYS&display_extensions%5B%5D=DATED_LTS&federated_search_id=b1e404e8-93b7-430f-a141-ee2a0fc074fd\n"
     ]
    },
    {
     "name": "stderr",
     "output_type": "stream",
     "text": [
      "[WDM] - Current google-chrome version is 85.0.4183\n",
      "[WDM] - Get LATEST driver version for 85.0.4183\n",
      "[WDM] - Driver [/Users/jasenlo/.wdm/drivers/chromedriver/mac64/85.0.4183.87/chromedriver] found in cache\n"
     ]
    },
    {
     "name": "stdout",
     "output_type": "stream",
     "text": [
      " \n",
      "http://airbnb.com/rooms/143605?check_in=2021-01-01&check_out=2021-04-30&previous_page_section_name=1000&display_extensions%5B%5D=MONTHLY_STAYS&display_extensions%5B%5D=DATED_LTS&federated_search_id=b1e404e8-93b7-430f-a141-ee2a0fc074fd\n"
     ]
    },
    {
     "name": "stderr",
     "output_type": "stream",
     "text": [
      "[WDM] - Current google-chrome version is 85.0.4183\n",
      "[WDM] - Get LATEST driver version for 85.0.4183\n",
      "[WDM] - Driver [/Users/jasenlo/.wdm/drivers/chromedriver/mac64/85.0.4183.87/chromedriver] found in cache\n"
     ]
    },
    {
     "name": "stdout",
     "output_type": "stream",
     "text": [
      " \n",
      "http://airbnb.com/rooms/2706351?check_in=2021-01-01&check_out=2021-04-30&previous_page_section_name=1000&display_extensions%5B%5D=MONTHLY_STAYS&display_extensions%5B%5D=DATED_LTS&federated_search_id=b1e404e8-93b7-430f-a141-ee2a0fc074fd\n"
     ]
    },
    {
     "name": "stderr",
     "output_type": "stream",
     "text": [
      "[WDM] - Current google-chrome version is 85.0.4183\n",
      "[WDM] - Get LATEST driver version for 85.0.4183\n",
      "[WDM] - Driver [/Users/jasenlo/.wdm/drivers/chromedriver/mac64/85.0.4183.87/chromedriver] found in cache\n"
     ]
    },
    {
     "name": "stdout",
     "output_type": "stream",
     "text": [
      " \n",
      "http://airbnb.com/rooms/2568999?check_in=2021-01-01&check_out=2021-04-30&previous_page_section_name=1000&display_extensions%5B%5D=MONTHLY_STAYS&display_extensions%5B%5D=DATED_LTS&federated_search_id=b1e404e8-93b7-430f-a141-ee2a0fc074fd\n"
     ]
    },
    {
     "name": "stderr",
     "output_type": "stream",
     "text": [
      "[WDM] - Current google-chrome version is 85.0.4183\n",
      "[WDM] - Get LATEST driver version for 85.0.4183\n",
      "[WDM] - Driver [/Users/jasenlo/.wdm/drivers/chromedriver/mac64/85.0.4183.87/chromedriver] found in cache\n"
     ]
    },
    {
     "name": "stdout",
     "output_type": "stream",
     "text": [
      " \n",
      "http://airbnb.com/rooms/935026?check_in=2021-01-01&check_out=2021-04-30&previous_page_section_name=1000&display_extensions%5B%5D=MONTHLY_STAYS&display_extensions%5B%5D=DATED_LTS&federated_search_id=8bb1af80-21a4-4109-8a49-06be8d700299\n"
     ]
    },
    {
     "name": "stderr",
     "output_type": "stream",
     "text": [
      "[WDM] - Current google-chrome version is 85.0.4183\n",
      "[WDM] - Get LATEST driver version for 85.0.4183\n",
      "[WDM] - Driver [/Users/jasenlo/.wdm/drivers/chromedriver/mac64/85.0.4183.87/chromedriver] found in cache\n"
     ]
    },
    {
     "name": "stdout",
     "output_type": "stream",
     "text": [
      " \n",
      "http://airbnb.com/rooms/38629100?check_in=2021-01-01&check_out=2021-04-30&previous_page_section_name=1000&display_extensions%5B%5D=MONTHLY_STAYS&display_extensions%5B%5D=DATED_LTS&federated_search_id=8bb1af80-21a4-4109-8a49-06be8d700299\n"
     ]
    },
    {
     "name": "stderr",
     "output_type": "stream",
     "text": [
      "[WDM] - Current google-chrome version is 85.0.4183\n",
      "[WDM] - Get LATEST driver version for 85.0.4183\n",
      "[WDM] - Driver [/Users/jasenlo/.wdm/drivers/chromedriver/mac64/85.0.4183.87/chromedriver] found in cache\n"
     ]
    },
    {
     "name": "stdout",
     "output_type": "stream",
     "text": [
      " \n",
      "http://airbnb.com/rooms/899265?check_in=2021-01-01&check_out=2021-04-30&previous_page_section_name=1000&display_extensions%5B%5D=MONTHLY_STAYS&display_extensions%5B%5D=DATED_LTS&federated_search_id=8bb1af80-21a4-4109-8a49-06be8d700299\n"
     ]
    },
    {
     "name": "stderr",
     "output_type": "stream",
     "text": [
      "[WDM] - Current google-chrome version is 85.0.4183\n",
      "[WDM] - Get LATEST driver version for 85.0.4183\n",
      "[WDM] - Driver [/Users/jasenlo/.wdm/drivers/chromedriver/mac64/85.0.4183.87/chromedriver] found in cache\n"
     ]
    },
    {
     "name": "stdout",
     "output_type": "stream",
     "text": [
      " \n",
      "http://airbnb.com/rooms/44780766?check_in=2021-01-01&check_out=2021-04-30&previous_page_section_name=1000&display_extensions%5B%5D=MONTHLY_STAYS&display_extensions%5B%5D=DATED_LTS&federated_search_id=8bb1af80-21a4-4109-8a49-06be8d700299\n"
     ]
    },
    {
     "name": "stderr",
     "output_type": "stream",
     "text": [
      "[WDM] - Current google-chrome version is 85.0.4183\n",
      "[WDM] - Get LATEST driver version for 85.0.4183\n",
      "[WDM] - Driver [/Users/jasenlo/.wdm/drivers/chromedriver/mac64/85.0.4183.87/chromedriver] found in cache\n"
     ]
    },
    {
     "name": "stdout",
     "output_type": "stream",
     "text": [
      " \n",
      "http://airbnb.com/rooms/344986?check_in=2021-01-01&check_out=2021-04-30&previous_page_section_name=1000&display_extensions%5B%5D=MONTHLY_STAYS&display_extensions%5B%5D=DATED_LTS&federated_search_id=8bb1af80-21a4-4109-8a49-06be8d700299\n"
     ]
    },
    {
     "name": "stderr",
     "output_type": "stream",
     "text": [
      "[WDM] - Current google-chrome version is 85.0.4183\n",
      "[WDM] - Get LATEST driver version for 85.0.4183\n",
      "[WDM] - Driver [/Users/jasenlo/.wdm/drivers/chromedriver/mac64/85.0.4183.87/chromedriver] found in cache\n"
     ]
    },
    {
     "name": "stdout",
     "output_type": "stream",
     "text": [
      " \n",
      "http://airbnb.com/rooms/8004028?check_in=2021-01-01&check_out=2021-04-30&previous_page_section_name=1000&display_extensions%5B%5D=MONTHLY_STAYS&display_extensions%5B%5D=DATED_LTS&federated_search_id=8bb1af80-21a4-4109-8a49-06be8d700299\n"
     ]
    },
    {
     "name": "stderr",
     "output_type": "stream",
     "text": [
      "[WDM] - Current google-chrome version is 85.0.4183\n",
      "[WDM] - Get LATEST driver version for 85.0.4183\n",
      "[WDM] - Driver [/Users/jasenlo/.wdm/drivers/chromedriver/mac64/85.0.4183.87/chromedriver] found in cache\n"
     ]
    },
    {
     "name": "stdout",
     "output_type": "stream",
     "text": [
      " \n",
      "http://airbnb.com/rooms/4749982?check_in=2021-01-01&check_out=2021-04-30&previous_page_section_name=1000&display_extensions%5B%5D=MONTHLY_STAYS&display_extensions%5B%5D=DATED_LTS&federated_search_id=8bb1af80-21a4-4109-8a49-06be8d700299\n"
     ]
    },
    {
     "name": "stderr",
     "output_type": "stream",
     "text": [
      "[WDM] - Current google-chrome version is 85.0.4183\n",
      "[WDM] - Get LATEST driver version for 85.0.4183\n",
      "[WDM] - Driver [/Users/jasenlo/.wdm/drivers/chromedriver/mac64/85.0.4183.87/chromedriver] found in cache\n"
     ]
    },
    {
     "name": "stdout",
     "output_type": "stream",
     "text": [
      " \n",
      "http://airbnb.com/rooms/8166601?check_in=2021-01-01&check_out=2021-04-30&previous_page_section_name=1000&display_extensions%5B%5D=MONTHLY_STAYS&display_extensions%5B%5D=DATED_LTS&federated_search_id=8bb1af80-21a4-4109-8a49-06be8d700299\n"
     ]
    },
    {
     "name": "stderr",
     "output_type": "stream",
     "text": [
      "[WDM] - Current google-chrome version is 85.0.4183\n",
      "[WDM] - Get LATEST driver version for 85.0.4183\n",
      "[WDM] - Driver [/Users/jasenlo/.wdm/drivers/chromedriver/mac64/85.0.4183.87/chromedriver] found in cache\n"
     ]
    },
    {
     "name": "stdout",
     "output_type": "stream",
     "text": [
      " \n",
      "http://airbnb.com/rooms/41747575?check_in=2021-01-01&check_out=2021-04-30&previous_page_section_name=1000&display_extensions%5B%5D=MONTHLY_STAYS&display_extensions%5B%5D=DATED_LTS&federated_search_id=c568ff6c-b924-4888-bebd-ac1e17ee85c1\n"
     ]
    },
    {
     "name": "stderr",
     "output_type": "stream",
     "text": [
      "[WDM] - Current google-chrome version is 85.0.4183\n",
      "[WDM] - Get LATEST driver version for 85.0.4183\n",
      "[WDM] - Driver [/Users/jasenlo/.wdm/drivers/chromedriver/mac64/85.0.4183.87/chromedriver] found in cache\n"
     ]
    },
    {
     "name": "stdout",
     "output_type": "stream",
     "text": [
      " \n",
      "http://airbnb.com/rooms/14720159?check_in=2021-01-01&check_out=2021-04-30&previous_page_section_name=1000&display_extensions%5B%5D=MONTHLY_STAYS&display_extensions%5B%5D=DATED_LTS&federated_search_id=c568ff6c-b924-4888-bebd-ac1e17ee85c1\n"
     ]
    },
    {
     "name": "stderr",
     "output_type": "stream",
     "text": [
      "[WDM] - Current google-chrome version is 85.0.4183\n",
      "[WDM] - Get LATEST driver version for 85.0.4183\n",
      "[WDM] - Driver [/Users/jasenlo/.wdm/drivers/chromedriver/mac64/85.0.4183.87/chromedriver] found in cache\n"
     ]
    },
    {
     "name": "stdout",
     "output_type": "stream",
     "text": [
      " \n",
      "http://airbnb.com/rooms/5768746?check_in=2021-01-01&check_out=2021-04-30&previous_page_section_name=1000&display_extensions%5B%5D=MONTHLY_STAYS&display_extensions%5B%5D=DATED_LTS&federated_search_id=c568ff6c-b924-4888-bebd-ac1e17ee85c1\n"
     ]
    },
    {
     "name": "stderr",
     "output_type": "stream",
     "text": [
      "[WDM] - Current google-chrome version is 85.0.4183\n",
      "[WDM] - Get LATEST driver version for 85.0.4183\n",
      "[WDM] - Driver [/Users/jasenlo/.wdm/drivers/chromedriver/mac64/85.0.4183.87/chromedriver] found in cache\n"
     ]
    },
    {
     "name": "stdout",
     "output_type": "stream",
     "text": [
      " \n",
      "http://airbnb.com/rooms/28142296?check_in=2021-01-01&check_out=2021-04-30&previous_page_section_name=1000&display_extensions%5B%5D=MONTHLY_STAYS&display_extensions%5B%5D=DATED_LTS&federated_search_id=c568ff6c-b924-4888-bebd-ac1e17ee85c1\n"
     ]
    },
    {
     "name": "stderr",
     "output_type": "stream",
     "text": [
      "[WDM] - Current google-chrome version is 85.0.4183\n",
      "[WDM] - Get LATEST driver version for 85.0.4183\n",
      "[WDM] - Driver [/Users/jasenlo/.wdm/drivers/chromedriver/mac64/85.0.4183.87/chromedriver] found in cache\n"
     ]
    },
    {
     "name": "stdout",
     "output_type": "stream",
     "text": [
      " \n",
      "http://airbnb.com/rooms/35665106?check_in=2021-01-01&check_out=2021-04-30&previous_page_section_name=1000&display_extensions%5B%5D=MONTHLY_STAYS&display_extensions%5B%5D=DATED_LTS&federated_search_id=c568ff6c-b924-4888-bebd-ac1e17ee85c1\n"
     ]
    },
    {
     "name": "stderr",
     "output_type": "stream",
     "text": [
      "[WDM] - Current google-chrome version is 85.0.4183\n",
      "[WDM] - Get LATEST driver version for 85.0.4183\n",
      "[WDM] - Driver [/Users/jasenlo/.wdm/drivers/chromedriver/mac64/85.0.4183.87/chromedriver] found in cache\n"
     ]
    },
    {
     "name": "stdout",
     "output_type": "stream",
     "text": [
      " \n",
      "http://airbnb.com/rooms/45294626?check_in=2021-01-01&check_out=2021-04-30&previous_page_section_name=1000&display_extensions%5B%5D=MONTHLY_STAYS&display_extensions%5B%5D=DATED_LTS&federated_search_id=6da569be-7cea-4020-b271-571b2204ee2e\n"
     ]
    },
    {
     "name": "stderr",
     "output_type": "stream",
     "text": [
      "[WDM] - Current google-chrome version is 85.0.4183\n",
      "[WDM] - Get LATEST driver version for 85.0.4183\n",
      "[WDM] - Driver [/Users/jasenlo/.wdm/drivers/chromedriver/mac64/85.0.4183.87/chromedriver] found in cache\n"
     ]
    },
    {
     "name": "stdout",
     "output_type": "stream",
     "text": [
      " \n",
      "http://airbnb.com/rooms/18222171?check_in=2021-01-01&check_out=2021-04-30&previous_page_section_name=1000&display_extensions%5B%5D=MONTHLY_STAYS&display_extensions%5B%5D=DATED_LTS&federated_search_id=6da569be-7cea-4020-b271-571b2204ee2e\n"
     ]
    },
    {
     "name": "stderr",
     "output_type": "stream",
     "text": [
      "[WDM] - Current google-chrome version is 85.0.4183\n",
      "[WDM] - Get LATEST driver version for 85.0.4183\n",
      "[WDM] - Driver [/Users/jasenlo/.wdm/drivers/chromedriver/mac64/85.0.4183.87/chromedriver] found in cache\n"
     ]
    },
    {
     "name": "stdout",
     "output_type": "stream",
     "text": [
      " \n",
      "http://airbnb.com/rooms/30346290?check_in=2021-01-01&check_out=2021-04-30&previous_page_section_name=1000&display_extensions%5B%5D=MONTHLY_STAYS&display_extensions%5B%5D=DATED_LTS&federated_search_id=6da569be-7cea-4020-b271-571b2204ee2e\n"
     ]
    },
    {
     "name": "stderr",
     "output_type": "stream",
     "text": [
      "[WDM] - Current google-chrome version is 85.0.4183\n",
      "[WDM] - Get LATEST driver version for 85.0.4183\n",
      "[WDM] - Driver [/Users/jasenlo/.wdm/drivers/chromedriver/mac64/85.0.4183.87/chromedriver] found in cache\n"
     ]
    },
    {
     "name": "stdout",
     "output_type": "stream",
     "text": [
      " \n",
      "http://airbnb.com/rooms/11292925?check_in=2021-01-01&check_out=2021-04-30&previous_page_section_name=1000&display_extensions%5B%5D=MONTHLY_STAYS&display_extensions%5B%5D=DATED_LTS&federated_search_id=6da569be-7cea-4020-b271-571b2204ee2e\n"
     ]
    },
    {
     "name": "stderr",
     "output_type": "stream",
     "text": [
      "[WDM] - Current google-chrome version is 85.0.4183\n",
      "[WDM] - Get LATEST driver version for 85.0.4183\n",
      "[WDM] - Driver [/Users/jasenlo/.wdm/drivers/chromedriver/mac64/85.0.4183.87/chromedriver] found in cache\n"
     ]
    },
    {
     "name": "stdout",
     "output_type": "stream",
     "text": [
      " \n",
      "http://airbnb.com/rooms/24866123?check_in=2021-01-01&check_out=2021-04-30&previous_page_section_name=1000&display_extensions%5B%5D=MONTHLY_STAYS&display_extensions%5B%5D=DATED_LTS&federated_search_id=6da569be-7cea-4020-b271-571b2204ee2e\n"
     ]
    },
    {
     "name": "stderr",
     "output_type": "stream",
     "text": [
      "[WDM] - Current google-chrome version is 85.0.4183\n",
      "[WDM] - Get LATEST driver version for 85.0.4183\n",
      "[WDM] - Driver [/Users/jasenlo/.wdm/drivers/chromedriver/mac64/85.0.4183.87/chromedriver] found in cache\n"
     ]
    },
    {
     "name": "stdout",
     "output_type": "stream",
     "text": [
      " \n",
      "http://airbnb.com/rooms/42443646?check_in=2021-01-01&check_out=2021-04-30&previous_page_section_name=1000&display_extensions%5B%5D=MONTHLY_STAYS&display_extensions%5B%5D=DATED_LTS&federated_search_id=6da569be-7cea-4020-b271-571b2204ee2e\n"
     ]
    },
    {
     "name": "stderr",
     "output_type": "stream",
     "text": [
      "[WDM] - Current google-chrome version is 85.0.4183\n",
      "[WDM] - Get LATEST driver version for 85.0.4183\n",
      "[WDM] - Driver [/Users/jasenlo/.wdm/drivers/chromedriver/mac64/85.0.4183.87/chromedriver] found in cache\n"
     ]
    },
    {
     "name": "stdout",
     "output_type": "stream",
     "text": [
      " \n",
      "http://airbnb.com/rooms/15559518?check_in=2021-01-01&check_out=2021-04-30&previous_page_section_name=1000&display_extensions%5B%5D=DATED_LTS&display_extensions%5B%5D=MONTHLY_STAYS&federated_search_id=aceae37f-ce35-4819-89c5-22dd6b49feeb\n"
     ]
    },
    {
     "name": "stderr",
     "output_type": "stream",
     "text": [
      "[WDM] - Current google-chrome version is 85.0.4183\n",
      "[WDM] - Get LATEST driver version for 85.0.4183\n",
      "[WDM] - Driver [/Users/jasenlo/.wdm/drivers/chromedriver/mac64/85.0.4183.87/chromedriver] found in cache\n"
     ]
    },
    {
     "name": "stdout",
     "output_type": "stream",
     "text": [
      " \n",
      "http://airbnb.com/rooms/20512875?check_in=2021-01-01&check_out=2021-04-30&previous_page_section_name=1000&display_extensions%5B%5D=DATED_LTS&display_extensions%5B%5D=MONTHLY_STAYS&federated_search_id=aceae37f-ce35-4819-89c5-22dd6b49feeb\n"
     ]
    },
    {
     "name": "stderr",
     "output_type": "stream",
     "text": [
      "[WDM] - Current google-chrome version is 85.0.4183\n",
      "[WDM] - Get LATEST driver version for 85.0.4183\n",
      "[WDM] - Driver [/Users/jasenlo/.wdm/drivers/chromedriver/mac64/85.0.4183.87/chromedriver] found in cache\n"
     ]
    },
    {
     "name": "stdout",
     "output_type": "stream",
     "text": [
      " \n",
      "http://airbnb.com/rooms/18745856?check_in=2021-01-01&check_out=2021-04-30&previous_page_section_name=1000&display_extensions%5B%5D=DATED_LTS&display_extensions%5B%5D=MONTHLY_STAYS&federated_search_id=aceae37f-ce35-4819-89c5-22dd6b49feeb\n"
     ]
    },
    {
     "name": "stderr",
     "output_type": "stream",
     "text": [
      "[WDM] - Current google-chrome version is 85.0.4183\n",
      "[WDM] - Get LATEST driver version for 85.0.4183\n",
      "[WDM] - Driver [/Users/jasenlo/.wdm/drivers/chromedriver/mac64/85.0.4183.87/chromedriver] found in cache\n"
     ]
    },
    {
     "name": "stdout",
     "output_type": "stream",
     "text": [
      " \n",
      "http://airbnb.com/rooms/6787042?check_in=2021-01-01&check_out=2021-04-30&previous_page_section_name=1000&display_extensions%5B%5D=DATED_LTS&display_extensions%5B%5D=MONTHLY_STAYS&federated_search_id=aceae37f-ce35-4819-89c5-22dd6b49feeb\n"
     ]
    },
    {
     "name": "stderr",
     "output_type": "stream",
     "text": [
      "[WDM] - Current google-chrome version is 85.0.4183\n",
      "[WDM] - Get LATEST driver version for 85.0.4183\n",
      "[WDM] - Driver [/Users/jasenlo/.wdm/drivers/chromedriver/mac64/85.0.4183.87/chromedriver] found in cache\n"
     ]
    },
    {
     "name": "stdout",
     "output_type": "stream",
     "text": [
      " \n",
      "http://airbnb.com/rooms/5521914?check_in=2021-01-01&check_out=2021-04-30&previous_page_section_name=1000&display_extensions%5B%5D=DATED_LTS&display_extensions%5B%5D=MONTHLY_STAYS&federated_search_id=aceae37f-ce35-4819-89c5-22dd6b49feeb\n"
     ]
    },
    {
     "name": "stderr",
     "output_type": "stream",
     "text": [
      "[WDM] - Current google-chrome version is 85.0.4183\n",
      "[WDM] - Get LATEST driver version for 85.0.4183\n",
      "[WDM] - Driver [/Users/jasenlo/.wdm/drivers/chromedriver/mac64/85.0.4183.87/chromedriver] found in cache\n"
     ]
    },
    {
     "name": "stdout",
     "output_type": "stream",
     "text": [
      " \n",
      "http://airbnb.com/rooms/889901?check_in=2021-01-01&check_out=2021-04-30&previous_page_section_name=1000&display_extensions%5B%5D=DATED_LTS&display_extensions%5B%5D=MONTHLY_STAYS&federated_search_id=aceae37f-ce35-4819-89c5-22dd6b49feeb\n"
     ]
    },
    {
     "name": "stderr",
     "output_type": "stream",
     "text": [
      "[WDM] - Current google-chrome version is 85.0.4183\n",
      "[WDM] - Get LATEST driver version for 85.0.4183\n",
      "[WDM] - Driver [/Users/jasenlo/.wdm/drivers/chromedriver/mac64/85.0.4183.87/chromedriver] found in cache\n"
     ]
    },
    {
     "name": "stdout",
     "output_type": "stream",
     "text": [
      " \n",
      "http://airbnb.com/rooms/44425101?check_in=2021-01-01&check_out=2021-04-30&previous_page_section_name=1000&display_extensions%5B%5D=DATED_LTS&display_extensions%5B%5D=MONTHLY_STAYS&federated_search_id=aceae37f-ce35-4819-89c5-22dd6b49feeb\n"
     ]
    },
    {
     "name": "stderr",
     "output_type": "stream",
     "text": [
      "[WDM] - Current google-chrome version is 85.0.4183\n",
      "[WDM] - Get LATEST driver version for 85.0.4183\n",
      "[WDM] - Driver [/Users/jasenlo/.wdm/drivers/chromedriver/mac64/85.0.4183.87/chromedriver] found in cache\n"
     ]
    },
    {
     "name": "stdout",
     "output_type": "stream",
     "text": [
      " \n",
      "http://airbnb.com/rooms/11518476?check_in=2021-01-01&check_out=2021-04-30&previous_page_section_name=1000&display_extensions%5B%5D=DATED_LTS&display_extensions%5B%5D=MONTHLY_STAYS&federated_search_id=aceae37f-ce35-4819-89c5-22dd6b49feeb\n"
     ]
    },
    {
     "name": "stderr",
     "output_type": "stream",
     "text": [
      "[WDM] - Current google-chrome version is 85.0.4183\n",
      "[WDM] - Get LATEST driver version for 85.0.4183\n",
      "[WDM] - Driver [/Users/jasenlo/.wdm/drivers/chromedriver/mac64/85.0.4183.87/chromedriver] found in cache\n"
     ]
    },
    {
     "name": "stdout",
     "output_type": "stream",
     "text": [
      " \n",
      "http://airbnb.com/rooms/39811568?check_in=2021-01-01&check_out=2021-04-30&previous_page_section_name=1000&display_extensions%5B%5D=DATED_LTS&display_extensions%5B%5D=MONTHLY_STAYS&federated_search_id=aceae37f-ce35-4819-89c5-22dd6b49feeb\n"
     ]
    },
    {
     "name": "stderr",
     "output_type": "stream",
     "text": [
      "[WDM] - Current google-chrome version is 85.0.4183\n",
      "[WDM] - Get LATEST driver version for 85.0.4183\n",
      "[WDM] - Driver [/Users/jasenlo/.wdm/drivers/chromedriver/mac64/85.0.4183.87/chromedriver] found in cache\n"
     ]
    },
    {
     "name": "stdout",
     "output_type": "stream",
     "text": [
      " \n",
      "http://airbnb.com/rooms/12148040?check_in=2021-01-01&check_out=2021-04-30&previous_page_section_name=1000&display_extensions%5B%5D=MONTHLY_STAYS&display_extensions%5B%5D=DATED_LTS&federated_search_id=a3936f45-ca4f-45e6-a39c-28d65132bd53\n"
     ]
    },
    {
     "name": "stderr",
     "output_type": "stream",
     "text": [
      "[WDM] - Current google-chrome version is 85.0.4183\n",
      "[WDM] - Get LATEST driver version for 85.0.4183\n",
      "[WDM] - Driver [/Users/jasenlo/.wdm/drivers/chromedriver/mac64/85.0.4183.87/chromedriver] found in cache\n"
     ]
    },
    {
     "name": "stdout",
     "output_type": "stream",
     "text": [
      " \n",
      "http://airbnb.com/rooms/45474834?check_in=2021-01-01&check_out=2021-04-30&previous_page_section_name=1000&display_extensions%5B%5D=MONTHLY_STAYS&display_extensions%5B%5D=DATED_LTS&federated_search_id=a3936f45-ca4f-45e6-a39c-28d65132bd53\n"
     ]
    },
    {
     "name": "stderr",
     "output_type": "stream",
     "text": [
      "[WDM] - Current google-chrome version is 85.0.4183\n",
      "[WDM] - Get LATEST driver version for 85.0.4183\n",
      "[WDM] - Driver [/Users/jasenlo/.wdm/drivers/chromedriver/mac64/85.0.4183.87/chromedriver] found in cache\n"
     ]
    },
    {
     "name": "stdout",
     "output_type": "stream",
     "text": [
      " \n",
      "http://airbnb.com/rooms/4647473?check_in=2021-01-01&check_out=2021-04-30&previous_page_section_name=1000&display_extensions%5B%5D=MONTHLY_STAYS&display_extensions%5B%5D=DATED_LTS&federated_search_id=a3936f45-ca4f-45e6-a39c-28d65132bd53\n"
     ]
    },
    {
     "name": "stderr",
     "output_type": "stream",
     "text": [
      "[WDM] - Current google-chrome version is 85.0.4183\n",
      "[WDM] - Get LATEST driver version for 85.0.4183\n",
      "[WDM] - Driver [/Users/jasenlo/.wdm/drivers/chromedriver/mac64/85.0.4183.87/chromedriver] found in cache\n"
     ]
    },
    {
     "name": "stdout",
     "output_type": "stream",
     "text": [
      " \n",
      "http://airbnb.com/rooms/43754331?check_in=2021-01-01&check_out=2021-04-30&previous_page_section_name=1000&display_extensions%5B%5D=MONTHLY_STAYS&display_extensions%5B%5D=DATED_LTS&federated_search_id=a3936f45-ca4f-45e6-a39c-28d65132bd53\n"
     ]
    },
    {
     "name": "stderr",
     "output_type": "stream",
     "text": [
      "[WDM] - Current google-chrome version is 85.0.4183\n",
      "[WDM] - Get LATEST driver version for 85.0.4183\n",
      "[WDM] - Driver [/Users/jasenlo/.wdm/drivers/chromedriver/mac64/85.0.4183.87/chromedriver] found in cache\n"
     ]
    },
    {
     "name": "stdout",
     "output_type": "stream",
     "text": [
      " \n",
      "http://airbnb.com/rooms/16551948?check_in=2021-01-01&check_out=2021-04-30&previous_page_section_name=1000&display_extensions%5B%5D=MONTHLY_STAYS&display_extensions%5B%5D=DATED_LTS&federated_search_id=1d8f428b-427f-47fb-a629-54830af8d4f5\n"
     ]
    },
    {
     "name": "stderr",
     "output_type": "stream",
     "text": [
      "[WDM] - Current google-chrome version is 85.0.4183\n",
      "[WDM] - Get LATEST driver version for 85.0.4183\n",
      "[WDM] - Driver [/Users/jasenlo/.wdm/drivers/chromedriver/mac64/85.0.4183.87/chromedriver] found in cache\n"
     ]
    },
    {
     "name": "stdout",
     "output_type": "stream",
     "text": [
      " \n",
      "http://airbnb.com/rooms/13215295?check_in=2021-01-01&check_out=2021-04-30&previous_page_section_name=1000&display_extensions%5B%5D=MONTHLY_STAYS&display_extensions%5B%5D=DATED_LTS&federated_search_id=1d8f428b-427f-47fb-a629-54830af8d4f5\n"
     ]
    },
    {
     "name": "stderr",
     "output_type": "stream",
     "text": [
      "[WDM] - Current google-chrome version is 85.0.4183\n",
      "[WDM] - Get LATEST driver version for 85.0.4183\n",
      "[WDM] - Driver [/Users/jasenlo/.wdm/drivers/chromedriver/mac64/85.0.4183.87/chromedriver] found in cache\n"
     ]
    },
    {
     "name": "stdout",
     "output_type": "stream",
     "text": [
      " \n",
      "http://airbnb.com/rooms/14096485?check_in=2021-01-01&check_out=2021-04-30&previous_page_section_name=1000&display_extensions%5B%5D=MONTHLY_STAYS&display_extensions%5B%5D=DATED_LTS&federated_search_id=1d8f428b-427f-47fb-a629-54830af8d4f5\n"
     ]
    },
    {
     "name": "stderr",
     "output_type": "stream",
     "text": [
      "[WDM] - Current google-chrome version is 85.0.4183\n",
      "[WDM] - Get LATEST driver version for 85.0.4183\n",
      "[WDM] - Driver [/Users/jasenlo/.wdm/drivers/chromedriver/mac64/85.0.4183.87/chromedriver] found in cache\n"
     ]
    },
    {
     "name": "stdout",
     "output_type": "stream",
     "text": [
      " \n",
      "http://airbnb.com/rooms/33905326?check_in=2021-01-01&check_out=2021-04-30&previous_page_section_name=1000&display_extensions%5B%5D=MONTHLY_STAYS&display_extensions%5B%5D=DATED_LTS&federated_search_id=1d8f428b-427f-47fb-a629-54830af8d4f5\n"
     ]
    },
    {
     "name": "stderr",
     "output_type": "stream",
     "text": [
      "[WDM] - Current google-chrome version is 85.0.4183\n",
      "[WDM] - Get LATEST driver version for 85.0.4183\n",
      "[WDM] - Driver [/Users/jasenlo/.wdm/drivers/chromedriver/mac64/85.0.4183.87/chromedriver] found in cache\n"
     ]
    },
    {
     "name": "stdout",
     "output_type": "stream",
     "text": [
      " \n",
      "http://airbnb.com/rooms/10395161?check_in=2021-01-01&check_out=2021-04-30&previous_page_section_name=1000&display_extensions%5B%5D=MONTHLY_STAYS&display_extensions%5B%5D=DATED_LTS&federated_search_id=1d8f428b-427f-47fb-a629-54830af8d4f5\n"
     ]
    },
    {
     "name": "stderr",
     "output_type": "stream",
     "text": [
      "[WDM] - Current google-chrome version is 85.0.4183\n",
      "[WDM] - Get LATEST driver version for 85.0.4183\n",
      "[WDM] - Driver [/Users/jasenlo/.wdm/drivers/chromedriver/mac64/85.0.4183.87/chromedriver] found in cache\n"
     ]
    },
    {
     "name": "stdout",
     "output_type": "stream",
     "text": [
      " \n",
      "http://airbnb.com/rooms/27769256?check_in=2021-01-01&check_out=2021-04-30&previous_page_section_name=1000&display_extensions%5B%5D=MONTHLY_STAYS&display_extensions%5B%5D=DATED_LTS&federated_search_id=1d8f428b-427f-47fb-a629-54830af8d4f5\n"
     ]
    },
    {
     "name": "stderr",
     "output_type": "stream",
     "text": [
      "[WDM] - Current google-chrome version is 85.0.4183\n",
      "[WDM] - Get LATEST driver version for 85.0.4183\n",
      "[WDM] - Driver [/Users/jasenlo/.wdm/drivers/chromedriver/mac64/85.0.4183.87/chromedriver] found in cache\n"
     ]
    },
    {
     "name": "stdout",
     "output_type": "stream",
     "text": [
      " \n",
      "http://airbnb.com/rooms/41747575?check_in=2021-01-01&check_out=2021-04-30&previous_page_section_name=1000&display_extensions%5B%5D=DATED_LTS&display_extensions%5B%5D=MONTHLY_STAYS&federated_search_id=073d35f6-a49e-443b-abbc-f4fdfac461d7\n"
     ]
    },
    {
     "name": "stderr",
     "output_type": "stream",
     "text": [
      "[WDM] - Current google-chrome version is 85.0.4183\n",
      "[WDM] - Get LATEST driver version for 85.0.4183\n",
      "[WDM] - Driver [/Users/jasenlo/.wdm/drivers/chromedriver/mac64/85.0.4183.87/chromedriver] found in cache\n"
     ]
    },
    {
     "name": "stdout",
     "output_type": "stream",
     "text": [
      " \n",
      "http://airbnb.com/rooms/37872970?check_in=2021-01-01&check_out=2021-04-30&previous_page_section_name=1000&display_extensions%5B%5D=DATED_LTS&display_extensions%5B%5D=MONTHLY_STAYS&federated_search_id=073d35f6-a49e-443b-abbc-f4fdfac461d7\n"
     ]
    },
    {
     "name": "stderr",
     "output_type": "stream",
     "text": [
      "[WDM] - Current google-chrome version is 85.0.4183\n",
      "[WDM] - Get LATEST driver version for 85.0.4183\n",
      "[WDM] - Driver [/Users/jasenlo/.wdm/drivers/chromedriver/mac64/85.0.4183.87/chromedriver] found in cache\n"
     ]
    },
    {
     "name": "stdout",
     "output_type": "stream",
     "text": [
      " \n",
      "http://airbnb.com/rooms/14096485?check_in=2021-01-01&check_out=2021-04-30&previous_page_section_name=1000&display_extensions%5B%5D=DATED_LTS&display_extensions%5B%5D=MONTHLY_STAYS&federated_search_id=073d35f6-a49e-443b-abbc-f4fdfac461d7\n"
     ]
    },
    {
     "name": "stderr",
     "output_type": "stream",
     "text": [
      "[WDM] - Current google-chrome version is 85.0.4183\n",
      "[WDM] - Get LATEST driver version for 85.0.4183\n",
      "[WDM] - Driver [/Users/jasenlo/.wdm/drivers/chromedriver/mac64/85.0.4183.87/chromedriver] found in cache\n"
     ]
    },
    {
     "name": "stdout",
     "output_type": "stream",
     "text": [
      " \n",
      "http://airbnb.com/rooms/35765025?check_in=2021-01-01&check_out=2021-04-30&previous_page_section_name=1000&display_extensions%5B%5D=DATED_LTS&display_extensions%5B%5D=MONTHLY_STAYS&federated_search_id=073d35f6-a49e-443b-abbc-f4fdfac461d7\n"
     ]
    },
    {
     "name": "stderr",
     "output_type": "stream",
     "text": [
      "[WDM] - Current google-chrome version is 85.0.4183\n",
      "[WDM] - Get LATEST driver version for 85.0.4183\n",
      "[WDM] - Driver [/Users/jasenlo/.wdm/drivers/chromedriver/mac64/85.0.4183.87/chromedriver] found in cache\n"
     ]
    },
    {
     "name": "stdout",
     "output_type": "stream",
     "text": [
      " \n",
      "http://airbnb.com/rooms/2199290?check_in=2021-01-01&check_out=2021-04-30&previous_page_section_name=1000&display_extensions%5B%5D=DATED_LTS&display_extensions%5B%5D=MONTHLY_STAYS&federated_search_id=073d35f6-a49e-443b-abbc-f4fdfac461d7\n"
     ]
    },
    {
     "name": "stderr",
     "output_type": "stream",
     "text": [
      "[WDM] - Current google-chrome version is 85.0.4183\n",
      "[WDM] - Get LATEST driver version for 85.0.4183\n",
      "[WDM] - Driver [/Users/jasenlo/.wdm/drivers/chromedriver/mac64/85.0.4183.87/chromedriver] found in cache\n"
     ]
    },
    {
     "name": "stdout",
     "output_type": "stream",
     "text": [
      " \n",
      "http://airbnb.com/rooms/1331239?check_in=2021-01-01&check_out=2021-04-30&previous_page_section_name=1000&display_extensions%5B%5D=DATED_LTS&display_extensions%5B%5D=MONTHLY_STAYS&federated_search_id=073d35f6-a49e-443b-abbc-f4fdfac461d7\n"
     ]
    },
    {
     "name": "stderr",
     "output_type": "stream",
     "text": [
      "[WDM] - Current google-chrome version is 85.0.4183\n",
      "[WDM] - Get LATEST driver version for 85.0.4183\n",
      "[WDM] - Driver [/Users/jasenlo/.wdm/drivers/chromedriver/mac64/85.0.4183.87/chromedriver] found in cache\n"
     ]
    },
    {
     "name": "stdout",
     "output_type": "stream",
     "text": [
      " \n",
      "http://airbnb.com/rooms/17623876?check_in=2021-01-01&check_out=2021-04-30&previous_page_section_name=1000&display_extensions%5B%5D=MONTHLY_STAYS&display_extensions%5B%5D=DATED_LTS&federated_search_id=61d09fbb-bee5-4dc3-b81c-612bf3fd7af5\n"
     ]
    },
    {
     "name": "stderr",
     "output_type": "stream",
     "text": [
      "[WDM] - Current google-chrome version is 85.0.4183\n",
      "[WDM] - Get LATEST driver version for 85.0.4183\n",
      "[WDM] - Driver [/Users/jasenlo/.wdm/drivers/chromedriver/mac64/85.0.4183.87/chromedriver] found in cache\n"
     ]
    },
    {
     "name": "stdout",
     "output_type": "stream",
     "text": [
      " \n",
      "http://airbnb.com/rooms/13723160?check_in=2021-01-01&check_out=2021-04-30&previous_page_section_name=1000&display_extensions%5B%5D=MONTHLY_STAYS&display_extensions%5B%5D=DATED_LTS&federated_search_id=61d09fbb-bee5-4dc3-b81c-612bf3fd7af5\n"
     ]
    },
    {
     "name": "stderr",
     "output_type": "stream",
     "text": [
      "[WDM] - Current google-chrome version is 85.0.4183\n",
      "[WDM] - Get LATEST driver version for 85.0.4183\n",
      "[WDM] - Driver [/Users/jasenlo/.wdm/drivers/chromedriver/mac64/85.0.4183.87/chromedriver] found in cache\n"
     ]
    },
    {
     "name": "stdout",
     "output_type": "stream",
     "text": [
      " \n",
      "http://airbnb.com/rooms/32279620?check_in=2021-01-01&check_out=2021-04-30&previous_page_section_name=1000&display_extensions%5B%5D=MONTHLY_STAYS&display_extensions%5B%5D=DATED_LTS&federated_search_id=61d09fbb-bee5-4dc3-b81c-612bf3fd7af5\n"
     ]
    },
    {
     "name": "stderr",
     "output_type": "stream",
     "text": [
      "[WDM] - Current google-chrome version is 85.0.4183\n",
      "[WDM] - Get LATEST driver version for 85.0.4183\n",
      "[WDM] - Driver [/Users/jasenlo/.wdm/drivers/chromedriver/mac64/85.0.4183.87/chromedriver] found in cache\n"
     ]
    },
    {
     "name": "stdout",
     "output_type": "stream",
     "text": [
      " \n",
      "http://airbnb.com/rooms/13220930?check_in=2021-01-01&check_out=2021-04-30&previous_page_section_name=1000&display_extensions%5B%5D=MONTHLY_STAYS&display_extensions%5B%5D=DATED_LTS&federated_search_id=61d09fbb-bee5-4dc3-b81c-612bf3fd7af5\n"
     ]
    },
    {
     "name": "stderr",
     "output_type": "stream",
     "text": [
      "[WDM] - Current google-chrome version is 85.0.4183\n",
      "[WDM] - Get LATEST driver version for 85.0.4183\n",
      "[WDM] - Driver [/Users/jasenlo/.wdm/drivers/chromedriver/mac64/85.0.4183.87/chromedriver] found in cache\n"
     ]
    },
    {
     "name": "stdout",
     "output_type": "stream",
     "text": [
      " \n",
      "http://airbnb.com/rooms/22420506?check_in=2021-01-01&check_out=2021-04-30&previous_page_section_name=1000&display_extensions%5B%5D=MONTHLY_STAYS&display_extensions%5B%5D=DATED_LTS&federated_search_id=61d09fbb-bee5-4dc3-b81c-612bf3fd7af5\n"
     ]
    },
    {
     "name": "stderr",
     "output_type": "stream",
     "text": [
      "[WDM] - Current google-chrome version is 85.0.4183\n",
      "[WDM] - Get LATEST driver version for 85.0.4183\n",
      "[WDM] - Driver [/Users/jasenlo/.wdm/drivers/chromedriver/mac64/85.0.4183.87/chromedriver] found in cache\n"
     ]
    },
    {
     "name": "stdout",
     "output_type": "stream",
     "text": [
      " \n",
      "http://airbnb.com/rooms/20728924?check_in=2021-01-01&check_out=2021-04-30&previous_page_section_name=1000&display_extensions%5B%5D=MONTHLY_STAYS&display_extensions%5B%5D=DATED_LTS&federated_search_id=61d09fbb-bee5-4dc3-b81c-612bf3fd7af5\n"
     ]
    },
    {
     "name": "stderr",
     "output_type": "stream",
     "text": [
      "[WDM] - Current google-chrome version is 85.0.4183\n",
      "[WDM] - Get LATEST driver version for 85.0.4183\n",
      "[WDM] - Driver [/Users/jasenlo/.wdm/drivers/chromedriver/mac64/85.0.4183.87/chromedriver] found in cache\n"
     ]
    },
    {
     "name": "stdout",
     "output_type": "stream",
     "text": [
      " \n",
      "http://airbnb.com/rooms/41498233?check_in=2021-01-01&check_out=2021-04-30&previous_page_section_name=1000&display_extensions%5B%5D=MONTHLY_STAYS&display_extensions%5B%5D=DATED_LTS&federated_search_id=61d09fbb-bee5-4dc3-b81c-612bf3fd7af5\n"
     ]
    },
    {
     "name": "stderr",
     "output_type": "stream",
     "text": [
      "[WDM] - Current google-chrome version is 85.0.4183\n",
      "[WDM] - Get LATEST driver version for 85.0.4183\n",
      "[WDM] - Driver [/Users/jasenlo/.wdm/drivers/chromedriver/mac64/85.0.4183.87/chromedriver] found in cache\n"
     ]
    },
    {
     "name": "stdout",
     "output_type": "stream",
     "text": [
      " \n",
      "http://airbnb.com/rooms/27578106?check_in=2021-01-01&check_out=2021-04-30&previous_page_section_name=1000&display_extensions%5B%5D=MONTHLY_STAYS&display_extensions%5B%5D=DATED_LTS&federated_search_id=61d09fbb-bee5-4dc3-b81c-612bf3fd7af5\n"
     ]
    },
    {
     "name": "stderr",
     "output_type": "stream",
     "text": [
      "[WDM] - Current google-chrome version is 85.0.4183\n",
      "[WDM] - Get LATEST driver version for 85.0.4183\n",
      "[WDM] - Driver [/Users/jasenlo/.wdm/drivers/chromedriver/mac64/85.0.4183.87/chromedriver] found in cache\n"
     ]
    },
    {
     "name": "stdout",
     "output_type": "stream",
     "text": [
      " \n",
      "http://airbnb.com/rooms/11227026?check_in=2021-01-01&check_out=2021-04-30&previous_page_section_name=1000&display_extensions%5B%5D=MONTHLY_STAYS&display_extensions%5B%5D=DATED_LTS&federated_search_id=61d09fbb-bee5-4dc3-b81c-612bf3fd7af5\n"
     ]
    },
    {
     "name": "stderr",
     "output_type": "stream",
     "text": [
      "[WDM] - Current google-chrome version is 85.0.4183\n",
      "[WDM] - Get LATEST driver version for 85.0.4183\n",
      "[WDM] - Driver [/Users/jasenlo/.wdm/drivers/chromedriver/mac64/85.0.4183.87/chromedriver] found in cache\n"
     ]
    },
    {
     "name": "stdout",
     "output_type": "stream",
     "text": [
      " \n",
      "http://airbnb.com/rooms/8847469?check_in=2021-01-01&check_out=2021-04-30&previous_page_section_name=1000&display_extensions%5B%5D=MONTHLY_STAYS&display_extensions%5B%5D=DATED_LTS&federated_search_id=61d09fbb-bee5-4dc3-b81c-612bf3fd7af5\n"
     ]
    },
    {
     "name": "stderr",
     "output_type": "stream",
     "text": [
      "[WDM] - Current google-chrome version is 85.0.4183\n",
      "[WDM] - Get LATEST driver version for 85.0.4183\n",
      "[WDM] - Driver [/Users/jasenlo/.wdm/drivers/chromedriver/mac64/85.0.4183.87/chromedriver] found in cache\n"
     ]
    },
    {
     "name": "stdout",
     "output_type": "stream",
     "text": [
      " \n",
      "http://airbnb.com/rooms/37656371?check_in=2021-01-01&check_out=2021-04-30&previous_page_section_name=1000&display_extensions%5B%5D=MONTHLY_STAYS&display_extensions%5B%5D=DATED_LTS&federated_search_id=61d09fbb-bee5-4dc3-b81c-612bf3fd7af5\n"
     ]
    },
    {
     "name": "stderr",
     "output_type": "stream",
     "text": [
      "[WDM] - Current google-chrome version is 85.0.4183\n",
      "[WDM] - Get LATEST driver version for 85.0.4183\n",
      "[WDM] - Driver [/Users/jasenlo/.wdm/drivers/chromedriver/mac64/85.0.4183.87/chromedriver] found in cache\n"
     ]
    },
    {
     "name": "stdout",
     "output_type": "stream",
     "text": [
      " \n",
      "http://airbnb.com/rooms/22916710?check_in=2021-01-01&check_out=2021-04-30&previous_page_section_name=1000&display_extensions%5B%5D=MONTHLY_STAYS&display_extensions%5B%5D=DATED_LTS&federated_search_id=61d09fbb-bee5-4dc3-b81c-612bf3fd7af5\n"
     ]
    },
    {
     "name": "stderr",
     "output_type": "stream",
     "text": [
      "[WDM] - Current google-chrome version is 85.0.4183\n",
      "[WDM] - Get LATEST driver version for 85.0.4183\n",
      "[WDM] - Driver [/Users/jasenlo/.wdm/drivers/chromedriver/mac64/85.0.4183.87/chromedriver] found in cache\n"
     ]
    },
    {
     "name": "stdout",
     "output_type": "stream",
     "text": [
      " \n",
      "http://airbnb.com/rooms/29488375?check_in=2021-01-01&check_out=2021-04-30&previous_page_section_name=1000&display_extensions%5B%5D=MONTHLY_STAYS&display_extensions%5B%5D=DATED_LTS&federated_search_id=61d09fbb-bee5-4dc3-b81c-612bf3fd7af5\n"
     ]
    },
    {
     "name": "stderr",
     "output_type": "stream",
     "text": [
      "[WDM] - Current google-chrome version is 85.0.4183\n",
      "[WDM] - Get LATEST driver version for 85.0.4183\n",
      "[WDM] - Driver [/Users/jasenlo/.wdm/drivers/chromedriver/mac64/85.0.4183.87/chromedriver] found in cache\n"
     ]
    },
    {
     "name": "stdout",
     "output_type": "stream",
     "text": [
      " \n",
      "http://airbnb.com/rooms/19993349?check_in=2021-01-01&check_out=2021-04-30&previous_page_section_name=1000&display_extensions%5B%5D=MONTHLY_STAYS&display_extensions%5B%5D=DATED_LTS&federated_search_id=61d09fbb-bee5-4dc3-b81c-612bf3fd7af5\n"
     ]
    },
    {
     "name": "stderr",
     "output_type": "stream",
     "text": [
      "[WDM] - Current google-chrome version is 85.0.4183\n",
      "[WDM] - Get LATEST driver version for 85.0.4183\n",
      "[WDM] - Driver [/Users/jasenlo/.wdm/drivers/chromedriver/mac64/85.0.4183.87/chromedriver] found in cache\n"
     ]
    },
    {
     "name": "stdout",
     "output_type": "stream",
     "text": [
      " \n",
      "http://airbnb.com/rooms/5649960?check_in=2021-01-01&check_out=2021-04-30&previous_page_section_name=1000&display_extensions%5B%5D=MONTHLY_STAYS&display_extensions%5B%5D=DATED_LTS&federated_search_id=61d09fbb-bee5-4dc3-b81c-612bf3fd7af5\n"
     ]
    },
    {
     "name": "stderr",
     "output_type": "stream",
     "text": [
      "[WDM] - Current google-chrome version is 85.0.4183\n",
      "[WDM] - Get LATEST driver version for 85.0.4183\n",
      "[WDM] - Driver [/Users/jasenlo/.wdm/drivers/chromedriver/mac64/85.0.4183.87/chromedriver] found in cache\n"
     ]
    },
    {
     "name": "stdout",
     "output_type": "stream",
     "text": [
      " \n",
      "http://airbnb.com/rooms/32863795?check_in=2021-01-01&check_out=2021-04-30&previous_page_section_name=1000&display_extensions%5B%5D=MONTHLY_STAYS&display_extensions%5B%5D=DATED_LTS&federated_search_id=61d09fbb-bee5-4dc3-b81c-612bf3fd7af5\n"
     ]
    },
    {
     "name": "stderr",
     "output_type": "stream",
     "text": [
      "[WDM] - Current google-chrome version is 85.0.4183\n",
      "[WDM] - Get LATEST driver version for 85.0.4183\n",
      "[WDM] - Driver [/Users/jasenlo/.wdm/drivers/chromedriver/mac64/85.0.4183.87/chromedriver] found in cache\n"
     ]
    },
    {
     "name": "stdout",
     "output_type": "stream",
     "text": [
      " \n",
      "http://airbnb.com/rooms/31943126?check_in=2021-01-01&check_out=2021-04-30&previous_page_section_name=1000&display_extensions%5B%5D=MONTHLY_STAYS&display_extensions%5B%5D=DATED_LTS&federated_search_id=61d09fbb-bee5-4dc3-b81c-612bf3fd7af5\n"
     ]
    },
    {
     "name": "stderr",
     "output_type": "stream",
     "text": [
      "[WDM] - Current google-chrome version is 85.0.4183\n",
      "[WDM] - Get LATEST driver version for 85.0.4183\n",
      "[WDM] - Driver [/Users/jasenlo/.wdm/drivers/chromedriver/mac64/85.0.4183.87/chromedriver] found in cache\n"
     ]
    },
    {
     "name": "stdout",
     "output_type": "stream",
     "text": [
      " \n",
      "http://airbnb.com/rooms/12465989?check_in=2021-01-01&check_out=2021-04-30&previous_page_section_name=1000&display_extensions%5B%5D=MONTHLY_STAYS&display_extensions%5B%5D=DATED_LTS&federated_search_id=61d09fbb-bee5-4dc3-b81c-612bf3fd7af5\n"
     ]
    },
    {
     "name": "stderr",
     "output_type": "stream",
     "text": [
      "[WDM] - Current google-chrome version is 85.0.4183\n",
      "[WDM] - Get LATEST driver version for 85.0.4183\n",
      "[WDM] - Driver [/Users/jasenlo/.wdm/drivers/chromedriver/mac64/85.0.4183.87/chromedriver] found in cache\n"
     ]
    },
    {
     "name": "stdout",
     "output_type": "stream",
     "text": [
      " \n",
      "http://airbnb.com/rooms/20728832?check_in=2021-01-01&check_out=2021-04-30&previous_page_section_name=1000&display_extensions%5B%5D=MONTHLY_STAYS&display_extensions%5B%5D=DATED_LTS&federated_search_id=61d09fbb-bee5-4dc3-b81c-612bf3fd7af5\n"
     ]
    },
    {
     "name": "stderr",
     "output_type": "stream",
     "text": [
      "[WDM] - Current google-chrome version is 85.0.4183\n",
      "[WDM] - Get LATEST driver version for 85.0.4183\n",
      "[WDM] - Driver [/Users/jasenlo/.wdm/drivers/chromedriver/mac64/85.0.4183.87/chromedriver] found in cache\n"
     ]
    },
    {
     "name": "stdout",
     "output_type": "stream",
     "text": [
      " \n",
      "http://airbnb.com/rooms/30194965?check_in=2021-01-01&check_out=2021-04-30&previous_page_section_name=1000&display_extensions%5B%5D=MONTHLY_STAYS&display_extensions%5B%5D=DATED_LTS&federated_search_id=61d09fbb-bee5-4dc3-b81c-612bf3fd7af5\n"
     ]
    },
    {
     "name": "stderr",
     "output_type": "stream",
     "text": [
      "[WDM] - Current google-chrome version is 85.0.4183\n",
      "[WDM] - Get LATEST driver version for 85.0.4183\n",
      "[WDM] - Driver [/Users/jasenlo/.wdm/drivers/chromedriver/mac64/85.0.4183.87/chromedriver] found in cache\n"
     ]
    },
    {
     "name": "stdout",
     "output_type": "stream",
     "text": [
      " \n",
      "http://airbnb.com/rooms/19993349?check_in=2021-01-01&check_out=2021-04-30&previous_page_section_name=1000&display_extensions%5B%5D=DATED_LTS&display_extensions%5B%5D=MONTHLY_STAYS&federated_search_id=81f4e714-b30e-4db3-925d-00c68975e2b1\n"
     ]
    },
    {
     "name": "stderr",
     "output_type": "stream",
     "text": [
      "[WDM] - Current google-chrome version is 85.0.4183\n",
      "[WDM] - Get LATEST driver version for 85.0.4183\n",
      "[WDM] - Driver [/Users/jasenlo/.wdm/drivers/chromedriver/mac64/85.0.4183.87/chromedriver] found in cache\n"
     ]
    },
    {
     "name": "stdout",
     "output_type": "stream",
     "text": [
      " \n",
      "http://airbnb.com/rooms/20728832?check_in=2021-01-01&check_out=2021-04-30&previous_page_section_name=1000&display_extensions%5B%5D=DATED_LTS&display_extensions%5B%5D=MONTHLY_STAYS&federated_search_id=81f4e714-b30e-4db3-925d-00c68975e2b1\n"
     ]
    },
    {
     "name": "stderr",
     "output_type": "stream",
     "text": [
      "[WDM] - Current google-chrome version is 85.0.4183\n",
      "[WDM] - Get LATEST driver version for 85.0.4183\n",
      "[WDM] - Driver [/Users/jasenlo/.wdm/drivers/chromedriver/mac64/85.0.4183.87/chromedriver] found in cache\n"
     ]
    },
    {
     "name": "stdout",
     "output_type": "stream",
     "text": [
      " \n",
      "http://airbnb.com/rooms/30823950?check_in=2021-01-01&check_out=2021-04-30&previous_page_section_name=1000&display_extensions%5B%5D=DATED_LTS&display_extensions%5B%5D=MONTHLY_STAYS&federated_search_id=81f4e714-b30e-4db3-925d-00c68975e2b1\n"
     ]
    },
    {
     "name": "stderr",
     "output_type": "stream",
     "text": [
      "[WDM] - Current google-chrome version is 85.0.4183\n",
      "[WDM] - Get LATEST driver version for 85.0.4183\n",
      "[WDM] - Driver [/Users/jasenlo/.wdm/drivers/chromedriver/mac64/85.0.4183.87/chromedriver] found in cache\n"
     ]
    },
    {
     "name": "stdout",
     "output_type": "stream",
     "text": [
      " \n",
      "http://airbnb.com/rooms/40177065?check_in=2021-01-01&check_out=2021-04-30&previous_page_section_name=1000&display_extensions%5B%5D=DATED_LTS&display_extensions%5B%5D=MONTHLY_STAYS&federated_search_id=81f4e714-b30e-4db3-925d-00c68975e2b1\n"
     ]
    },
    {
     "name": "stderr",
     "output_type": "stream",
     "text": [
      "[WDM] - Current google-chrome version is 85.0.4183\n",
      "[WDM] - Get LATEST driver version for 85.0.4183\n",
      "[WDM] - Driver [/Users/jasenlo/.wdm/drivers/chromedriver/mac64/85.0.4183.87/chromedriver] found in cache\n"
     ]
    },
    {
     "name": "stdout",
     "output_type": "stream",
     "text": [
      " \n",
      "http://airbnb.com/rooms/30674823?check_in=2021-01-01&check_out=2021-04-30&previous_page_section_name=1000&display_extensions%5B%5D=DATED_LTS&display_extensions%5B%5D=MONTHLY_STAYS&federated_search_id=81f4e714-b30e-4db3-925d-00c68975e2b1\n"
     ]
    },
    {
     "name": "stderr",
     "output_type": "stream",
     "text": [
      "[WDM] - Current google-chrome version is 85.0.4183\n",
      "[WDM] - Get LATEST driver version for 85.0.4183\n",
      "[WDM] - Driver [/Users/jasenlo/.wdm/drivers/chromedriver/mac64/85.0.4183.87/chromedriver] found in cache\n"
     ]
    },
    {
     "name": "stdout",
     "output_type": "stream",
     "text": [
      " \n",
      "http://airbnb.com/rooms/24911407?check_in=2021-01-01&check_out=2021-04-30&previous_page_section_name=1000&display_extensions%5B%5D=DATED_LTS&display_extensions%5B%5D=MONTHLY_STAYS&federated_search_id=81f4e714-b30e-4db3-925d-00c68975e2b1\n"
     ]
    },
    {
     "name": "stderr",
     "output_type": "stream",
     "text": [
      "[WDM] - Current google-chrome version is 85.0.4183\n",
      "[WDM] - Get LATEST driver version for 85.0.4183\n",
      "[WDM] - Driver [/Users/jasenlo/.wdm/drivers/chromedriver/mac64/85.0.4183.87/chromedriver] found in cache\n"
     ]
    },
    {
     "name": "stdout",
     "output_type": "stream",
     "text": [
      " \n",
      "http://airbnb.com/rooms/2776496?check_in=2021-01-01&check_out=2021-04-30&previous_page_section_name=1000&display_extensions%5B%5D=DATED_LTS&display_extensions%5B%5D=MONTHLY_STAYS&federated_search_id=81f4e714-b30e-4db3-925d-00c68975e2b1\n"
     ]
    },
    {
     "name": "stderr",
     "output_type": "stream",
     "text": [
      "[WDM] - Current google-chrome version is 85.0.4183\n",
      "[WDM] - Get LATEST driver version for 85.0.4183\n",
      "[WDM] - Driver [/Users/jasenlo/.wdm/drivers/chromedriver/mac64/85.0.4183.87/chromedriver] found in cache\n"
     ]
    },
    {
     "name": "stdout",
     "output_type": "stream",
     "text": [
      " \n",
      "http://airbnb.com/rooms/4277541?check_in=2021-01-01&check_out=2021-04-30&previous_page_section_name=1000&display_extensions%5B%5D=DATED_LTS&display_extensions%5B%5D=MONTHLY_STAYS&federated_search_id=81f4e714-b30e-4db3-925d-00c68975e2b1\n"
     ]
    },
    {
     "name": "stderr",
     "output_type": "stream",
     "text": [
      "[WDM] - Current google-chrome version is 85.0.4183\n",
      "[WDM] - Get LATEST driver version for 85.0.4183\n",
      "[WDM] - Driver [/Users/jasenlo/.wdm/drivers/chromedriver/mac64/85.0.4183.87/chromedriver] found in cache\n"
     ]
    },
    {
     "name": "stdout",
     "output_type": "stream",
     "text": [
      " \n",
      "http://airbnb.com/rooms/42645890?check_in=2021-01-01&check_out=2021-04-30&previous_page_section_name=1000&display_extensions%5B%5D=DATED_LTS&display_extensions%5B%5D=MONTHLY_STAYS&federated_search_id=81f4e714-b30e-4db3-925d-00c68975e2b1\n"
     ]
    },
    {
     "name": "stderr",
     "output_type": "stream",
     "text": [
      "[WDM] - Current google-chrome version is 85.0.4183\n",
      "[WDM] - Get LATEST driver version for 85.0.4183\n",
      "[WDM] - Driver [/Users/jasenlo/.wdm/drivers/chromedriver/mac64/85.0.4183.87/chromedriver] found in cache\n"
     ]
    },
    {
     "name": "stdout",
     "output_type": "stream",
     "text": [
      " \n",
      "http://airbnb.com/rooms/22916710?check_in=2021-01-01&check_out=2021-04-30&previous_page_section_name=1000&display_extensions%5B%5D=DATED_LTS&display_extensions%5B%5D=MONTHLY_STAYS&federated_search_id=81f4e714-b30e-4db3-925d-00c68975e2b1\n"
     ]
    },
    {
     "name": "stderr",
     "output_type": "stream",
     "text": [
      "[WDM] - Current google-chrome version is 85.0.4183\n",
      "[WDM] - Get LATEST driver version for 85.0.4183\n",
      "[WDM] - Driver [/Users/jasenlo/.wdm/drivers/chromedriver/mac64/85.0.4183.87/chromedriver] found in cache\n"
     ]
    },
    {
     "name": "stdout",
     "output_type": "stream",
     "text": [
      " \n",
      "http://airbnb.com/rooms/38322413?check_in=2021-01-01&check_out=2021-04-30&previous_page_section_name=1000&display_extensions%5B%5D=DATED_LTS&display_extensions%5B%5D=MONTHLY_STAYS&federated_search_id=81f4e714-b30e-4db3-925d-00c68975e2b1\n"
     ]
    },
    {
     "name": "stderr",
     "output_type": "stream",
     "text": [
      "[WDM] - Current google-chrome version is 85.0.4183\n",
      "[WDM] - Get LATEST driver version for 85.0.4183\n",
      "[WDM] - Driver [/Users/jasenlo/.wdm/drivers/chromedriver/mac64/85.0.4183.87/chromedriver] found in cache\n"
     ]
    },
    {
     "name": "stdout",
     "output_type": "stream",
     "text": [
      " \n",
      "http://airbnb.com/rooms/15773356?check_in=2021-01-01&check_out=2021-04-30&previous_page_section_name=1000&display_extensions%5B%5D=DATED_LTS&display_extensions%5B%5D=MONTHLY_STAYS&federated_search_id=81f4e714-b30e-4db3-925d-00c68975e2b1\n"
     ]
    },
    {
     "name": "stderr",
     "output_type": "stream",
     "text": [
      "[WDM] - Current google-chrome version is 85.0.4183\n",
      "[WDM] - Get LATEST driver version for 85.0.4183\n",
      "[WDM] - Driver [/Users/jasenlo/.wdm/drivers/chromedriver/mac64/85.0.4183.87/chromedriver] found in cache\n"
     ]
    },
    {
     "name": "stdout",
     "output_type": "stream",
     "text": [
      " \n",
      "http://airbnb.com/rooms/15380941?check_in=2021-01-01&check_out=2021-04-30&previous_page_section_name=1000&display_extensions%5B%5D=DATED_LTS&display_extensions%5B%5D=MONTHLY_STAYS&federated_search_id=81f4e714-b30e-4db3-925d-00c68975e2b1\n"
     ]
    },
    {
     "name": "stderr",
     "output_type": "stream",
     "text": [
      "[WDM] - Current google-chrome version is 85.0.4183\n",
      "[WDM] - Get LATEST driver version for 85.0.4183\n",
      "[WDM] - Driver [/Users/jasenlo/.wdm/drivers/chromedriver/mac64/85.0.4183.87/chromedriver] found in cache\n"
     ]
    },
    {
     "name": "stdout",
     "output_type": "stream",
     "text": [
      " \n",
      "http://airbnb.com/rooms/21607562?check_in=2021-01-01&check_out=2021-04-30&previous_page_section_name=1000&display_extensions%5B%5D=DATED_LTS&display_extensions%5B%5D=MONTHLY_STAYS&federated_search_id=81f4e714-b30e-4db3-925d-00c68975e2b1\n"
     ]
    },
    {
     "name": "stderr",
     "output_type": "stream",
     "text": [
      "[WDM] - Current google-chrome version is 85.0.4183\n",
      "[WDM] - Get LATEST driver version for 85.0.4183\n",
      "[WDM] - Driver [/Users/jasenlo/.wdm/drivers/chromedriver/mac64/85.0.4183.87/chromedriver] found in cache\n"
     ]
    },
    {
     "name": "stdout",
     "output_type": "stream",
     "text": [
      " \n",
      "http://airbnb.com/rooms/17835942?check_in=2021-01-01&check_out=2021-04-30&previous_page_section_name=1000&display_extensions%5B%5D=DATED_LTS&display_extensions%5B%5D=MONTHLY_STAYS&federated_search_id=81f4e714-b30e-4db3-925d-00c68975e2b1\n"
     ]
    },
    {
     "name": "stderr",
     "output_type": "stream",
     "text": [
      "[WDM] - Current google-chrome version is 85.0.4183\n",
      "[WDM] - Get LATEST driver version for 85.0.4183\n",
      "[WDM] - Driver [/Users/jasenlo/.wdm/drivers/chromedriver/mac64/85.0.4183.87/chromedriver] found in cache\n"
     ]
    },
    {
     "name": "stdout",
     "output_type": "stream",
     "text": [
      " \n",
      "http://airbnb.com/rooms/27936077?check_in=2021-01-01&check_out=2021-04-30&previous_page_section_name=1000&display_extensions%5B%5D=DATED_LTS&display_extensions%5B%5D=MONTHLY_STAYS&federated_search_id=81f4e714-b30e-4db3-925d-00c68975e2b1\n"
     ]
    },
    {
     "name": "stderr",
     "output_type": "stream",
     "text": [
      "[WDM] - Current google-chrome version is 85.0.4183\n",
      "[WDM] - Get LATEST driver version for 85.0.4183\n",
      "[WDM] - Driver [/Users/jasenlo/.wdm/drivers/chromedriver/mac64/85.0.4183.87/chromedriver] found in cache\n"
     ]
    },
    {
     "name": "stdout",
     "output_type": "stream",
     "text": [
      " \n",
      "http://airbnb.com/rooms/26747599?check_in=2021-01-01&check_out=2021-04-30&previous_page_section_name=1000&display_extensions%5B%5D=DATED_LTS&display_extensions%5B%5D=MONTHLY_STAYS&federated_search_id=81f4e714-b30e-4db3-925d-00c68975e2b1\n"
     ]
    },
    {
     "name": "stderr",
     "output_type": "stream",
     "text": [
      "[WDM] - Current google-chrome version is 85.0.4183\n",
      "[WDM] - Get LATEST driver version for 85.0.4183\n",
      "[WDM] - Driver [/Users/jasenlo/.wdm/drivers/chromedriver/mac64/85.0.4183.87/chromedriver] found in cache\n"
     ]
    },
    {
     "name": "stdout",
     "output_type": "stream",
     "text": [
      " \n",
      "http://airbnb.com/rooms/17346260?check_in=2021-01-01&check_out=2021-04-30&previous_page_section_name=1000&display_extensions%5B%5D=DATED_LTS&display_extensions%5B%5D=MONTHLY_STAYS&federated_search_id=81f4e714-b30e-4db3-925d-00c68975e2b1\n"
     ]
    },
    {
     "name": "stderr",
     "output_type": "stream",
     "text": [
      "[WDM] - Current google-chrome version is 85.0.4183\n",
      "[WDM] - Get LATEST driver version for 85.0.4183\n",
      "[WDM] - Driver [/Users/jasenlo/.wdm/drivers/chromedriver/mac64/85.0.4183.87/chromedriver] found in cache\n"
     ]
    },
    {
     "name": "stdout",
     "output_type": "stream",
     "text": [
      " \n",
      "http://airbnb.com/rooms/1432406?check_in=2021-01-01&check_out=2021-04-30&previous_page_section_name=1000&display_extensions%5B%5D=DATED_LTS&display_extensions%5B%5D=MONTHLY_STAYS&federated_search_id=81f4e714-b30e-4db3-925d-00c68975e2b1\n"
     ]
    },
    {
     "name": "stderr",
     "output_type": "stream",
     "text": [
      "[WDM] - Current google-chrome version is 85.0.4183\n",
      "[WDM] - Get LATEST driver version for 85.0.4183\n",
      "[WDM] - Driver [/Users/jasenlo/.wdm/drivers/chromedriver/mac64/85.0.4183.87/chromedriver] found in cache\n"
     ]
    },
    {
     "name": "stdout",
     "output_type": "stream",
     "text": [
      " \n",
      "http://airbnb.com/rooms/24556724?check_in=2021-01-01&check_out=2021-04-30&previous_page_section_name=1000&display_extensions%5B%5D=MONTHLY_STAYS&display_extensions%5B%5D=DATED_LTS&federated_search_id=5a5ae35f-ef19-449e-94a7-26ac860eab2d\n"
     ]
    },
    {
     "name": "stderr",
     "output_type": "stream",
     "text": [
      "[WDM] - Current google-chrome version is 85.0.4183\n",
      "[WDM] - Get LATEST driver version for 85.0.4183\n",
      "[WDM] - Driver [/Users/jasenlo/.wdm/drivers/chromedriver/mac64/85.0.4183.87/chromedriver] found in cache\n"
     ]
    },
    {
     "name": "stdout",
     "output_type": "stream",
     "text": [
      " \n",
      "http://airbnb.com/rooms/44380165?check_in=2021-01-01&check_out=2021-04-30&previous_page_section_name=1000&display_extensions%5B%5D=MONTHLY_STAYS&display_extensions%5B%5D=DATED_LTS&federated_search_id=5a5ae35f-ef19-449e-94a7-26ac860eab2d\n"
     ]
    },
    {
     "name": "stderr",
     "output_type": "stream",
     "text": [
      "[WDM] - Current google-chrome version is 85.0.4183\n",
      "[WDM] - Get LATEST driver version for 85.0.4183\n",
      "[WDM] - Driver [/Users/jasenlo/.wdm/drivers/chromedriver/mac64/85.0.4183.87/chromedriver] found in cache\n"
     ]
    },
    {
     "name": "stdout",
     "output_type": "stream",
     "text": [
      " \n",
      "http://airbnb.com/rooms/45670991?check_in=2021-01-01&check_out=2021-04-30&previous_page_section_name=1000&display_extensions%5B%5D=MONTHLY_STAYS&display_extensions%5B%5D=DATED_LTS&federated_search_id=5a5ae35f-ef19-449e-94a7-26ac860eab2d\n"
     ]
    },
    {
     "name": "stderr",
     "output_type": "stream",
     "text": [
      "[WDM] - Current google-chrome version is 85.0.4183\n",
      "[WDM] - Get LATEST driver version for 85.0.4183\n",
      "[WDM] - Driver [/Users/jasenlo/.wdm/drivers/chromedriver/mac64/85.0.4183.87/chromedriver] found in cache\n"
     ]
    },
    {
     "name": "stdout",
     "output_type": "stream",
     "text": [
      " \n",
      "http://airbnb.com/rooms/699486?check_in=2021-01-01&check_out=2021-04-30&previous_page_section_name=1000&display_extensions%5B%5D=MONTHLY_STAYS&display_extensions%5B%5D=DATED_LTS&federated_search_id=5a5ae35f-ef19-449e-94a7-26ac860eab2d\n"
     ]
    },
    {
     "name": "stderr",
     "output_type": "stream",
     "text": [
      "[WDM] - Current google-chrome version is 85.0.4183\n",
      "[WDM] - Get LATEST driver version for 85.0.4183\n",
      "[WDM] - Driver [/Users/jasenlo/.wdm/drivers/chromedriver/mac64/85.0.4183.87/chromedriver] found in cache\n"
     ]
    },
    {
     "name": "stdout",
     "output_type": "stream",
     "text": [
      " \n",
      "http://airbnb.com/rooms/27936077?check_in=2021-01-01&check_out=2021-04-30&previous_page_section_name=1000&display_extensions%5B%5D=MONTHLY_STAYS&display_extensions%5B%5D=DATED_LTS&federated_search_id=5a5ae35f-ef19-449e-94a7-26ac860eab2d\n"
     ]
    },
    {
     "name": "stderr",
     "output_type": "stream",
     "text": [
      "[WDM] - Current google-chrome version is 85.0.4183\n",
      "[WDM] - Get LATEST driver version for 85.0.4183\n",
      "[WDM] - Driver [/Users/jasenlo/.wdm/drivers/chromedriver/mac64/85.0.4183.87/chromedriver] found in cache\n"
     ]
    },
    {
     "name": "stdout",
     "output_type": "stream",
     "text": [
      " \n",
      "http://airbnb.com/rooms/21577013?check_in=2021-01-01&check_out=2021-04-30&previous_page_section_name=1000&display_extensions%5B%5D=MONTHLY_STAYS&display_extensions%5B%5D=DATED_LTS&federated_search_id=5a5ae35f-ef19-449e-94a7-26ac860eab2d\n"
     ]
    },
    {
     "name": "stderr",
     "output_type": "stream",
     "text": [
      "[WDM] - Current google-chrome version is 85.0.4183\n",
      "[WDM] - Get LATEST driver version for 85.0.4183\n",
      "[WDM] - Driver [/Users/jasenlo/.wdm/drivers/chromedriver/mac64/85.0.4183.87/chromedriver] found in cache\n"
     ]
    },
    {
     "name": "stdout",
     "output_type": "stream",
     "text": [
      " \n",
      "http://airbnb.com/rooms/30823950?check_in=2021-01-01&check_out=2021-04-30&previous_page_section_name=1000&display_extensions%5B%5D=MONTHLY_STAYS&display_extensions%5B%5D=DATED_LTS&federated_search_id=5a5ae35f-ef19-449e-94a7-26ac860eab2d\n"
     ]
    },
    {
     "name": "stderr",
     "output_type": "stream",
     "text": [
      "[WDM] - Current google-chrome version is 85.0.4183\n",
      "[WDM] - Get LATEST driver version for 85.0.4183\n",
      "[WDM] - Driver [/Users/jasenlo/.wdm/drivers/chromedriver/mac64/85.0.4183.87/chromedriver] found in cache\n"
     ]
    },
    {
     "name": "stdout",
     "output_type": "stream",
     "text": [
      " \n",
      "http://airbnb.com/rooms/28872269?check_in=2021-01-01&check_out=2021-04-30&previous_page_section_name=1000&display_extensions%5B%5D=MONTHLY_STAYS&display_extensions%5B%5D=DATED_LTS&federated_search_id=5a5ae35f-ef19-449e-94a7-26ac860eab2d\n"
     ]
    },
    {
     "name": "stderr",
     "output_type": "stream",
     "text": [
      "[WDM] - Current google-chrome version is 85.0.4183\n",
      "[WDM] - Get LATEST driver version for 85.0.4183\n",
      "[WDM] - Driver [/Users/jasenlo/.wdm/drivers/chromedriver/mac64/85.0.4183.87/chromedriver] found in cache\n"
     ]
    },
    {
     "name": "stdout",
     "output_type": "stream",
     "text": [
      " \n",
      "http://airbnb.com/rooms/2776512?check_in=2021-01-01&check_out=2021-04-30&previous_page_section_name=1000&display_extensions%5B%5D=MONTHLY_STAYS&display_extensions%5B%5D=DATED_LTS&federated_search_id=5a5ae35f-ef19-449e-94a7-26ac860eab2d\n"
     ]
    },
    {
     "name": "stderr",
     "output_type": "stream",
     "text": [
      "[WDM] - Current google-chrome version is 85.0.4183\n",
      "[WDM] - Get LATEST driver version for 85.0.4183\n",
      "[WDM] - Driver [/Users/jasenlo/.wdm/drivers/chromedriver/mac64/85.0.4183.87/chromedriver] found in cache\n"
     ]
    },
    {
     "name": "stdout",
     "output_type": "stream",
     "text": [
      " \n",
      "http://airbnb.com/rooms/26747599?check_in=2021-01-01&check_out=2021-04-30&previous_page_section_name=1000&display_extensions%5B%5D=MONTHLY_STAYS&display_extensions%5B%5D=DATED_LTS&federated_search_id=5a5ae35f-ef19-449e-94a7-26ac860eab2d\n"
     ]
    },
    {
     "name": "stderr",
     "output_type": "stream",
     "text": [
      "[WDM] - Current google-chrome version is 85.0.4183\n",
      "[WDM] - Get LATEST driver version for 85.0.4183\n",
      "[WDM] - Driver [/Users/jasenlo/.wdm/drivers/chromedriver/mac64/85.0.4183.87/chromedriver] found in cache\n"
     ]
    },
    {
     "name": "stdout",
     "output_type": "stream",
     "text": [
      " \n",
      "http://airbnb.com/rooms/37599260?check_in=2021-01-01&check_out=2021-04-30&previous_page_section_name=1000&display_extensions%5B%5D=MONTHLY_STAYS&display_extensions%5B%5D=DATED_LTS&federated_search_id=5a5ae35f-ef19-449e-94a7-26ac860eab2d\n"
     ]
    },
    {
     "name": "stderr",
     "output_type": "stream",
     "text": [
      "[WDM] - Current google-chrome version is 85.0.4183\n",
      "[WDM] - Get LATEST driver version for 85.0.4183\n",
      "[WDM] - Driver [/Users/jasenlo/.wdm/drivers/chromedriver/mac64/85.0.4183.87/chromedriver] found in cache\n"
     ]
    },
    {
     "name": "stdout",
     "output_type": "stream",
     "text": [
      " \n",
      "http://airbnb.com/rooms/38322413?check_in=2021-01-01&check_out=2021-04-30&previous_page_section_name=1000&display_extensions%5B%5D=MONTHLY_STAYS&display_extensions%5B%5D=DATED_LTS&federated_search_id=5a5ae35f-ef19-449e-94a7-26ac860eab2d\n"
     ]
    },
    {
     "name": "stderr",
     "output_type": "stream",
     "text": [
      "[WDM] - Current google-chrome version is 85.0.4183\n",
      "[WDM] - Get LATEST driver version for 85.0.4183\n",
      "[WDM] - Driver [/Users/jasenlo/.wdm/drivers/chromedriver/mac64/85.0.4183.87/chromedriver] found in cache\n"
     ]
    },
    {
     "name": "stdout",
     "output_type": "stream",
     "text": [
      " \n",
      "http://airbnb.com/rooms/32734190?check_in=2021-01-01&check_out=2021-04-30&previous_page_section_name=1000&display_extensions%5B%5D=MONTHLY_STAYS&display_extensions%5B%5D=DATED_LTS&federated_search_id=5a5ae35f-ef19-449e-94a7-26ac860eab2d\n"
     ]
    },
    {
     "name": "stderr",
     "output_type": "stream",
     "text": [
      "[WDM] - Current google-chrome version is 85.0.4183\n",
      "[WDM] - Get LATEST driver version for 85.0.4183\n",
      "[WDM] - Driver [/Users/jasenlo/.wdm/drivers/chromedriver/mac64/85.0.4183.87/chromedriver] found in cache\n"
     ]
    },
    {
     "name": "stdout",
     "output_type": "stream",
     "text": [
      " \n",
      "http://airbnb.com/rooms/6153314?check_in=2021-01-01&check_out=2021-04-30&previous_page_section_name=1000&display_extensions%5B%5D=MONTHLY_STAYS&display_extensions%5B%5D=DATED_LTS&federated_search_id=5a5ae35f-ef19-449e-94a7-26ac860eab2d\n"
     ]
    },
    {
     "name": "stderr",
     "output_type": "stream",
     "text": [
      "[WDM] - Current google-chrome version is 85.0.4183\n",
      "[WDM] - Get LATEST driver version for 85.0.4183\n",
      "[WDM] - Driver [/Users/jasenlo/.wdm/drivers/chromedriver/mac64/85.0.4183.87/chromedriver] found in cache\n"
     ]
    },
    {
     "name": "stdout",
     "output_type": "stream",
     "text": [
      " \n",
      "http://airbnb.com/rooms/38374924?check_in=2021-01-01&check_out=2021-04-30&previous_page_section_name=1000&display_extensions%5B%5D=MONTHLY_STAYS&display_extensions%5B%5D=DATED_LTS&federated_search_id=5a5ae35f-ef19-449e-94a7-26ac860eab2d\n"
     ]
    },
    {
     "name": "stderr",
     "output_type": "stream",
     "text": [
      "[WDM] - Current google-chrome version is 85.0.4183\n",
      "[WDM] - Get LATEST driver version for 85.0.4183\n",
      "[WDM] - Driver [/Users/jasenlo/.wdm/drivers/chromedriver/mac64/85.0.4183.87/chromedriver] found in cache\n"
     ]
    },
    {
     "name": "stdout",
     "output_type": "stream",
     "text": [
      " \n",
      "http://airbnb.com/rooms/42851066?check_in=2021-01-01&check_out=2021-04-30&previous_page_section_name=1000&display_extensions%5B%5D=MONTHLY_STAYS&display_extensions%5B%5D=DATED_LTS&federated_search_id=5a5ae35f-ef19-449e-94a7-26ac860eab2d\n"
     ]
    },
    {
     "name": "stderr",
     "output_type": "stream",
     "text": [
      "[WDM] - Current google-chrome version is 85.0.4183\n",
      "[WDM] - Get LATEST driver version for 85.0.4183\n",
      "[WDM] - Driver [/Users/jasenlo/.wdm/drivers/chromedriver/mac64/85.0.4183.87/chromedriver] found in cache\n"
     ]
    },
    {
     "name": "stdout",
     "output_type": "stream",
     "text": [
      " \n",
      "http://airbnb.com/rooms/22083341?check_in=2021-01-01&check_out=2021-04-30&previous_page_section_name=1000&display_extensions%5B%5D=MONTHLY_STAYS&display_extensions%5B%5D=DATED_LTS&federated_search_id=5a5ae35f-ef19-449e-94a7-26ac860eab2d\n"
     ]
    },
    {
     "name": "stderr",
     "output_type": "stream",
     "text": [
      "[WDM] - Current google-chrome version is 85.0.4183\n",
      "[WDM] - Get LATEST driver version for 85.0.4183\n",
      "[WDM] - Driver [/Users/jasenlo/.wdm/drivers/chromedriver/mac64/85.0.4183.87/chromedriver] found in cache\n"
     ]
    },
    {
     "name": "stdout",
     "output_type": "stream",
     "text": [
      " \n",
      "http://airbnb.com/rooms/12628189?check_in=2021-01-01&check_out=2021-04-30&previous_page_section_name=1000&display_extensions%5B%5D=MONTHLY_STAYS&display_extensions%5B%5D=DATED_LTS&federated_search_id=5a5ae35f-ef19-449e-94a7-26ac860eab2d\n"
     ]
    },
    {
     "name": "stderr",
     "output_type": "stream",
     "text": [
      "[WDM] - Current google-chrome version is 85.0.4183\n",
      "[WDM] - Get LATEST driver version for 85.0.4183\n",
      "[WDM] - Driver [/Users/jasenlo/.wdm/drivers/chromedriver/mac64/85.0.4183.87/chromedriver] found in cache\n"
     ]
    },
    {
     "name": "stdout",
     "output_type": "stream",
     "text": [
      " \n",
      "http://airbnb.com/rooms/23545261?check_in=2021-01-01&check_out=2021-04-30&previous_page_section_name=1000&display_extensions%5B%5D=MONTHLY_STAYS&display_extensions%5B%5D=DATED_LTS&federated_search_id=5a5ae35f-ef19-449e-94a7-26ac860eab2d\n"
     ]
    },
    {
     "name": "stderr",
     "output_type": "stream",
     "text": [
      "[WDM] - Current google-chrome version is 85.0.4183\n",
      "[WDM] - Get LATEST driver version for 85.0.4183\n",
      "[WDM] - Driver [/Users/jasenlo/.wdm/drivers/chromedriver/mac64/85.0.4183.87/chromedriver] found in cache\n"
     ]
    },
    {
     "name": "stdout",
     "output_type": "stream",
     "text": [
      " \n",
      "http://airbnb.com/rooms/38374924?check_in=2021-01-01&check_out=2021-04-30&previous_page_section_name=1000&display_extensions%5B%5D=DATED_LTS&display_extensions%5B%5D=MONTHLY_STAYS&federated_search_id=4ce9581e-6af3-4045-b397-ec5b3456c624\n"
     ]
    },
    {
     "name": "stderr",
     "output_type": "stream",
     "text": [
      "[WDM] - Current google-chrome version is 85.0.4183\n",
      "[WDM] - Get LATEST driver version for 85.0.4183\n",
      "[WDM] - Driver [/Users/jasenlo/.wdm/drivers/chromedriver/mac64/85.0.4183.87/chromedriver] found in cache\n"
     ]
    },
    {
     "name": "stdout",
     "output_type": "stream",
     "text": [
      " \n",
      "http://airbnb.com/rooms/12302114?check_in=2021-01-01&check_out=2021-04-30&previous_page_section_name=1000&display_extensions%5B%5D=DATED_LTS&display_extensions%5B%5D=MONTHLY_STAYS&federated_search_id=4ce9581e-6af3-4045-b397-ec5b3456c624\n"
     ]
    },
    {
     "name": "stderr",
     "output_type": "stream",
     "text": [
      "[WDM] - Current google-chrome version is 85.0.4183\n",
      "[WDM] - Get LATEST driver version for 85.0.4183\n",
      "[WDM] - Driver [/Users/jasenlo/.wdm/drivers/chromedriver/mac64/85.0.4183.87/chromedriver] found in cache\n"
     ]
    },
    {
     "name": "stdout",
     "output_type": "stream",
     "text": [
      " \n",
      "http://airbnb.com/rooms/37599260?check_in=2021-01-01&check_out=2021-04-30&previous_page_section_name=1000&display_extensions%5B%5D=DATED_LTS&display_extensions%5B%5D=MONTHLY_STAYS&federated_search_id=4ce9581e-6af3-4045-b397-ec5b3456c624\n"
     ]
    },
    {
     "name": "stderr",
     "output_type": "stream",
     "text": [
      "[WDM] - Current google-chrome version is 85.0.4183\n",
      "[WDM] - Get LATEST driver version for 85.0.4183\n",
      "[WDM] - Driver [/Users/jasenlo/.wdm/drivers/chromedriver/mac64/85.0.4183.87/chromedriver] found in cache\n"
     ]
    },
    {
     "name": "stdout",
     "output_type": "stream",
     "text": [
      " \n",
      "http://airbnb.com/rooms/27950039?check_in=2021-01-01&check_out=2021-04-30&previous_page_section_name=1000&display_extensions%5B%5D=DATED_LTS&display_extensions%5B%5D=MONTHLY_STAYS&federated_search_id=4ce9581e-6af3-4045-b397-ec5b3456c624\n"
     ]
    },
    {
     "name": "stderr",
     "output_type": "stream",
     "text": [
      "[WDM] - Current google-chrome version is 85.0.4183\n",
      "[WDM] - Get LATEST driver version for 85.0.4183\n",
      "[WDM] - Driver [/Users/jasenlo/.wdm/drivers/chromedriver/mac64/85.0.4183.87/chromedriver] found in cache\n"
     ]
    },
    {
     "name": "stdout",
     "output_type": "stream",
     "text": [
      " \n",
      "http://airbnb.com/rooms/41469291?check_in=2021-01-01&check_out=2021-04-30&previous_page_section_name=1000&display_extensions%5B%5D=DATED_LTS&display_extensions%5B%5D=MONTHLY_STAYS&federated_search_id=4ce9581e-6af3-4045-b397-ec5b3456c624\n"
     ]
    },
    {
     "name": "stderr",
     "output_type": "stream",
     "text": [
      "[WDM] - Current google-chrome version is 85.0.4183\n",
      "[WDM] - Get LATEST driver version for 85.0.4183\n",
      "[WDM] - Driver [/Users/jasenlo/.wdm/drivers/chromedriver/mac64/85.0.4183.87/chromedriver] found in cache\n"
     ]
    },
    {
     "name": "stdout",
     "output_type": "stream",
     "text": [
      " \n",
      "http://airbnb.com/rooms/21577013?check_in=2021-01-01&check_out=2021-04-30&previous_page_section_name=1000&display_extensions%5B%5D=DATED_LTS&display_extensions%5B%5D=MONTHLY_STAYS&federated_search_id=4ce9581e-6af3-4045-b397-ec5b3456c624\n"
     ]
    },
    {
     "name": "stderr",
     "output_type": "stream",
     "text": [
      "[WDM] - Current google-chrome version is 85.0.4183\n",
      "[WDM] - Get LATEST driver version for 85.0.4183\n",
      "[WDM] - Driver [/Users/jasenlo/.wdm/drivers/chromedriver/mac64/85.0.4183.87/chromedriver] found in cache\n"
     ]
    },
    {
     "name": "stdout",
     "output_type": "stream",
     "text": [
      " \n",
      "http://airbnb.com/rooms/26334897?check_in=2021-01-01&check_out=2021-04-30&previous_page_section_name=1000&display_extensions%5B%5D=DATED_LTS&display_extensions%5B%5D=MONTHLY_STAYS&federated_search_id=4ce9581e-6af3-4045-b397-ec5b3456c624\n"
     ]
    },
    {
     "name": "stderr",
     "output_type": "stream",
     "text": [
      "[WDM] - Current google-chrome version is 85.0.4183\n",
      "[WDM] - Get LATEST driver version for 85.0.4183\n",
      "[WDM] - Driver [/Users/jasenlo/.wdm/drivers/chromedriver/mac64/85.0.4183.87/chromedriver] found in cache\n"
     ]
    },
    {
     "name": "stdout",
     "output_type": "stream",
     "text": [
      " \n",
      "http://airbnb.com/rooms/32545297?check_in=2021-01-01&check_out=2021-04-30&previous_page_section_name=1000&display_extensions%5B%5D=DATED_LTS&display_extensions%5B%5D=MONTHLY_STAYS&federated_search_id=4ce9581e-6af3-4045-b397-ec5b3456c624\n"
     ]
    },
    {
     "name": "stderr",
     "output_type": "stream",
     "text": [
      "[WDM] - Current google-chrome version is 85.0.4183\n",
      "[WDM] - Get LATEST driver version for 85.0.4183\n",
      "[WDM] - Driver [/Users/jasenlo/.wdm/drivers/chromedriver/mac64/85.0.4183.87/chromedriver] found in cache\n"
     ]
    },
    {
     "name": "stdout",
     "output_type": "stream",
     "text": [
      " \n",
      "http://airbnb.com/rooms/24632756?check_in=2021-01-01&check_out=2021-04-30&previous_page_section_name=1000&display_extensions%5B%5D=DATED_LTS&display_extensions%5B%5D=MONTHLY_STAYS&federated_search_id=4ce9581e-6af3-4045-b397-ec5b3456c624\n"
     ]
    },
    {
     "name": "stderr",
     "output_type": "stream",
     "text": [
      "[WDM] - Current google-chrome version is 85.0.4183\n",
      "[WDM] - Get LATEST driver version for 85.0.4183\n",
      "[WDM] - Driver [/Users/jasenlo/.wdm/drivers/chromedriver/mac64/85.0.4183.87/chromedriver] found in cache\n"
     ]
    },
    {
     "name": "stdout",
     "output_type": "stream",
     "text": [
      " \n",
      "http://airbnb.com/rooms/4734987?check_in=2021-01-01&check_out=2021-04-30&previous_page_section_name=1000&display_extensions%5B%5D=DATED_LTS&display_extensions%5B%5D=MONTHLY_STAYS&federated_search_id=4ce9581e-6af3-4045-b397-ec5b3456c624\n"
     ]
    },
    {
     "name": "stderr",
     "output_type": "stream",
     "text": [
      "[WDM] - Current google-chrome version is 85.0.4183\n",
      "[WDM] - Get LATEST driver version for 85.0.4183\n",
      "[WDM] - Driver [/Users/jasenlo/.wdm/drivers/chromedriver/mac64/85.0.4183.87/chromedriver] found in cache\n"
     ]
    },
    {
     "name": "stdout",
     "output_type": "stream",
     "text": [
      " \n",
      "http://airbnb.com/rooms/15161358?check_in=2021-01-01&check_out=2021-04-30&previous_page_section_name=1000&display_extensions%5B%5D=DATED_LTS&display_extensions%5B%5D=MONTHLY_STAYS&federated_search_id=4ce9581e-6af3-4045-b397-ec5b3456c624\n"
     ]
    },
    {
     "name": "stderr",
     "output_type": "stream",
     "text": [
      "[WDM] - Current google-chrome version is 85.0.4183\n",
      "[WDM] - Get LATEST driver version for 85.0.4183\n",
      "[WDM] - Driver [/Users/jasenlo/.wdm/drivers/chromedriver/mac64/85.0.4183.87/chromedriver] found in cache\n"
     ]
    },
    {
     "name": "stdout",
     "output_type": "stream",
     "text": [
      " \n",
      "http://airbnb.com/rooms/33192639?check_in=2021-01-01&check_out=2021-04-30&previous_page_section_name=1000&display_extensions%5B%5D=DATED_LTS&display_extensions%5B%5D=MONTHLY_STAYS&federated_search_id=4ce9581e-6af3-4045-b397-ec5b3456c624\n"
     ]
    },
    {
     "name": "stderr",
     "output_type": "stream",
     "text": [
      "[WDM] - Current google-chrome version is 85.0.4183\n",
      "[WDM] - Get LATEST driver version for 85.0.4183\n",
      "[WDM] - Driver [/Users/jasenlo/.wdm/drivers/chromedriver/mac64/85.0.4183.87/chromedriver] found in cache\n"
     ]
    },
    {
     "name": "stdout",
     "output_type": "stream",
     "text": [
      " \n",
      "http://airbnb.com/rooms/45540540?check_in=2021-01-01&check_out=2021-04-30&previous_page_section_name=1000&display_extensions%5B%5D=DATED_LTS&display_extensions%5B%5D=MONTHLY_STAYS&federated_search_id=4ce9581e-6af3-4045-b397-ec5b3456c624\n"
     ]
    },
    {
     "name": "stderr",
     "output_type": "stream",
     "text": [
      "[WDM] - Current google-chrome version is 85.0.4183\n",
      "[WDM] - Get LATEST driver version for 85.0.4183\n",
      "[WDM] - Driver [/Users/jasenlo/.wdm/drivers/chromedriver/mac64/85.0.4183.87/chromedriver] found in cache\n"
     ]
    },
    {
     "name": "stdout",
     "output_type": "stream",
     "text": [
      " \n",
      "http://airbnb.com/rooms/41196790?check_in=2021-01-01&check_out=2021-04-30&previous_page_section_name=1000&display_extensions%5B%5D=DATED_LTS&display_extensions%5B%5D=MONTHLY_STAYS&federated_search_id=4ce9581e-6af3-4045-b397-ec5b3456c624\n"
     ]
    },
    {
     "name": "stderr",
     "output_type": "stream",
     "text": [
      "[WDM] - Current google-chrome version is 85.0.4183\n",
      "[WDM] - Get LATEST driver version for 85.0.4183\n",
      "[WDM] - Driver [/Users/jasenlo/.wdm/drivers/chromedriver/mac64/85.0.4183.87/chromedriver] found in cache\n"
     ]
    },
    {
     "name": "stdout",
     "output_type": "stream",
     "text": [
      " \n",
      "http://airbnb.com/rooms/14423575?check_in=2021-01-01&check_out=2021-04-30&previous_page_section_name=1000&display_extensions%5B%5D=DATED_LTS&display_extensions%5B%5D=MONTHLY_STAYS&federated_search_id=4ce9581e-6af3-4045-b397-ec5b3456c624\n"
     ]
    },
    {
     "name": "stderr",
     "output_type": "stream",
     "text": [
      "[WDM] - Current google-chrome version is 85.0.4183\n",
      "[WDM] - Get LATEST driver version for 85.0.4183\n",
      "[WDM] - Driver [/Users/jasenlo/.wdm/drivers/chromedriver/mac64/85.0.4183.87/chromedriver] found in cache\n"
     ]
    },
    {
     "name": "stdout",
     "output_type": "stream",
     "text": [
      " \n",
      "http://airbnb.com/rooms/4801172?check_in=2021-01-01&check_out=2021-04-30&previous_page_section_name=1000&display_extensions%5B%5D=DATED_LTS&display_extensions%5B%5D=MONTHLY_STAYS&federated_search_id=4ce9581e-6af3-4045-b397-ec5b3456c624\n"
     ]
    },
    {
     "name": "stderr",
     "output_type": "stream",
     "text": [
      "[WDM] - Current google-chrome version is 85.0.4183\n",
      "[WDM] - Get LATEST driver version for 85.0.4183\n",
      "[WDM] - Driver [/Users/jasenlo/.wdm/drivers/chromedriver/mac64/85.0.4183.87/chromedriver] found in cache\n"
     ]
    },
    {
     "name": "stdout",
     "output_type": "stream",
     "text": [
      " \n",
      "http://airbnb.com/rooms/17591997?check_in=2021-01-01&check_out=2021-04-30&previous_page_section_name=1000&display_extensions%5B%5D=DATED_LTS&display_extensions%5B%5D=MONTHLY_STAYS&federated_search_id=4ce9581e-6af3-4045-b397-ec5b3456c624\n"
     ]
    },
    {
     "name": "stderr",
     "output_type": "stream",
     "text": [
      "[WDM] - Current google-chrome version is 85.0.4183\n",
      "[WDM] - Get LATEST driver version for 85.0.4183\n",
      "[WDM] - Driver [/Users/jasenlo/.wdm/drivers/chromedriver/mac64/85.0.4183.87/chromedriver] found in cache\n"
     ]
    },
    {
     "name": "stdout",
     "output_type": "stream",
     "text": [
      " \n",
      "http://airbnb.com/rooms/11411244?check_in=2021-01-01&check_out=2021-04-30&previous_page_section_name=1000&display_extensions%5B%5D=DATED_LTS&display_extensions%5B%5D=MONTHLY_STAYS&federated_search_id=4ce9581e-6af3-4045-b397-ec5b3456c624\n"
     ]
    },
    {
     "name": "stderr",
     "output_type": "stream",
     "text": [
      "[WDM] - Current google-chrome version is 85.0.4183\n",
      "[WDM] - Get LATEST driver version for 85.0.4183\n",
      "[WDM] - Driver [/Users/jasenlo/.wdm/drivers/chromedriver/mac64/85.0.4183.87/chromedriver] found in cache\n"
     ]
    },
    {
     "name": "stdout",
     "output_type": "stream",
     "text": [
      " \n",
      "http://airbnb.com/rooms/5512167?check_in=2021-01-01&check_out=2021-04-30&previous_page_section_name=1000&display_extensions%5B%5D=DATED_LTS&display_extensions%5B%5D=MONTHLY_STAYS&federated_search_id=4ce9581e-6af3-4045-b397-ec5b3456c624\n"
     ]
    },
    {
     "name": "stderr",
     "output_type": "stream",
     "text": [
      "[WDM] - Current google-chrome version is 85.0.4183\n",
      "[WDM] - Get LATEST driver version for 85.0.4183\n",
      "[WDM] - Driver [/Users/jasenlo/.wdm/drivers/chromedriver/mac64/85.0.4183.87/chromedriver] found in cache\n"
     ]
    },
    {
     "name": "stdout",
     "output_type": "stream",
     "text": [
      " \n",
      "http://airbnb.com/rooms/42851066?check_in=2021-01-01&check_out=2021-04-30&previous_page_section_name=1000&display_extensions%5B%5D=DATED_LTS&display_extensions%5B%5D=MONTHLY_STAYS&federated_search_id=95026a59-432e-4f9f-b519-c926acb902b8\n"
     ]
    },
    {
     "name": "stderr",
     "output_type": "stream",
     "text": [
      "[WDM] - Current google-chrome version is 85.0.4183\n",
      "[WDM] - Get LATEST driver version for 85.0.4183\n",
      "[WDM] - Driver [/Users/jasenlo/.wdm/drivers/chromedriver/mac64/85.0.4183.87/chromedriver] found in cache\n"
     ]
    },
    {
     "name": "stdout",
     "output_type": "stream",
     "text": [
      " \n",
      "http://airbnb.com/rooms/8415797?check_in=2021-01-01&check_out=2021-04-30&previous_page_section_name=1000&display_extensions%5B%5D=DATED_LTS&display_extensions%5B%5D=MONTHLY_STAYS&federated_search_id=95026a59-432e-4f9f-b519-c926acb902b8\n"
     ]
    },
    {
     "name": "stderr",
     "output_type": "stream",
     "text": [
      "[WDM] - Current google-chrome version is 85.0.4183\n",
      "[WDM] - Get LATEST driver version for 85.0.4183\n",
      "[WDM] - Driver [/Users/jasenlo/.wdm/drivers/chromedriver/mac64/85.0.4183.87/chromedriver] found in cache\n"
     ]
    },
    {
     "name": "stdout",
     "output_type": "stream",
     "text": [
      " \n",
      "http://airbnb.com/rooms/5512167?check_in=2021-01-01&check_out=2021-04-30&previous_page_section_name=1000&display_extensions%5B%5D=DATED_LTS&display_extensions%5B%5D=MONTHLY_STAYS&federated_search_id=95026a59-432e-4f9f-b519-c926acb902b8\n"
     ]
    },
    {
     "name": "stderr",
     "output_type": "stream",
     "text": [
      "[WDM] - Current google-chrome version is 85.0.4183\n",
      "[WDM] - Get LATEST driver version for 85.0.4183\n",
      "[WDM] - Driver [/Users/jasenlo/.wdm/drivers/chromedriver/mac64/85.0.4183.87/chromedriver] found in cache\n"
     ]
    },
    {
     "name": "stdout",
     "output_type": "stream",
     "text": [
      " \n",
      "http://airbnb.com/rooms/2189182?check_in=2021-01-01&check_out=2021-04-30&previous_page_section_name=1000&display_extensions%5B%5D=DATED_LTS&display_extensions%5B%5D=MONTHLY_STAYS&federated_search_id=95026a59-432e-4f9f-b519-c926acb902b8\n"
     ]
    },
    {
     "name": "stderr",
     "output_type": "stream",
     "text": [
      "[WDM] - Current google-chrome version is 85.0.4183\n",
      "[WDM] - Get LATEST driver version for 85.0.4183\n",
      "[WDM] - Driver [/Users/jasenlo/.wdm/drivers/chromedriver/mac64/85.0.4183.87/chromedriver] found in cache\n"
     ]
    },
    {
     "name": "stdout",
     "output_type": "stream",
     "text": [
      " \n",
      "http://airbnb.com/rooms/33830693?check_in=2021-01-01&check_out=2021-04-30&previous_page_section_name=1000&display_extensions%5B%5D=DATED_LTS&display_extensions%5B%5D=MONTHLY_STAYS&federated_search_id=95026a59-432e-4f9f-b519-c926acb902b8\n"
     ]
    },
    {
     "name": "stderr",
     "output_type": "stream",
     "text": [
      "[WDM] - Current google-chrome version is 85.0.4183\n",
      "[WDM] - Get LATEST driver version for 85.0.4183\n",
      "[WDM] - Driver [/Users/jasenlo/.wdm/drivers/chromedriver/mac64/85.0.4183.87/chromedriver] found in cache\n"
     ]
    },
    {
     "name": "stdout",
     "output_type": "stream",
     "text": [
      " \n",
      "http://airbnb.com/rooms/3378966?check_in=2021-01-01&check_out=2021-04-30&previous_page_section_name=1000&display_extensions%5B%5D=DATED_LTS&display_extensions%5B%5D=MONTHLY_STAYS&federated_search_id=95026a59-432e-4f9f-b519-c926acb902b8\n"
     ]
    },
    {
     "name": "stderr",
     "output_type": "stream",
     "text": [
      "[WDM] - Current google-chrome version is 85.0.4183\n",
      "[WDM] - Get LATEST driver version for 85.0.4183\n",
      "[WDM] - Driver [/Users/jasenlo/.wdm/drivers/chromedriver/mac64/85.0.4183.87/chromedriver] found in cache\n"
     ]
    },
    {
     "name": "stdout",
     "output_type": "stream",
     "text": [
      " \n",
      "http://airbnb.com/rooms/21153112?check_in=2021-01-01&check_out=2021-04-30&previous_page_section_name=1000&display_extensions%5B%5D=DATED_LTS&display_extensions%5B%5D=MONTHLY_STAYS&federated_search_id=95026a59-432e-4f9f-b519-c926acb902b8\n"
     ]
    },
    {
     "name": "stderr",
     "output_type": "stream",
     "text": [
      "[WDM] - Current google-chrome version is 85.0.4183\n",
      "[WDM] - Get LATEST driver version for 85.0.4183\n",
      "[WDM] - Driver [/Users/jasenlo/.wdm/drivers/chromedriver/mac64/85.0.4183.87/chromedriver] found in cache\n"
     ]
    },
    {
     "name": "stdout",
     "output_type": "stream",
     "text": [
      " \n",
      "http://airbnb.com/rooms/28121541?check_in=2021-01-01&check_out=2021-04-30&previous_page_section_name=1000&display_extensions%5B%5D=DATED_LTS&display_extensions%5B%5D=MONTHLY_STAYS&federated_search_id=95026a59-432e-4f9f-b519-c926acb902b8\n"
     ]
    },
    {
     "name": "stderr",
     "output_type": "stream",
     "text": [
      "[WDM] - Current google-chrome version is 85.0.4183\n",
      "[WDM] - Get LATEST driver version for 85.0.4183\n",
      "[WDM] - Driver [/Users/jasenlo/.wdm/drivers/chromedriver/mac64/85.0.4183.87/chromedriver] found in cache\n"
     ]
    },
    {
     "name": "stdout",
     "output_type": "stream",
     "text": [
      " \n",
      "http://airbnb.com/rooms/2014033?check_in=2021-01-01&check_out=2021-04-30&previous_page_section_name=1000&display_extensions%5B%5D=DATED_LTS&display_extensions%5B%5D=MONTHLY_STAYS&federated_search_id=95026a59-432e-4f9f-b519-c926acb902b8\n"
     ]
    },
    {
     "name": "stderr",
     "output_type": "stream",
     "text": [
      "[WDM] - Current google-chrome version is 85.0.4183\n",
      "[WDM] - Get LATEST driver version for 85.0.4183\n",
      "[WDM] - Driver [/Users/jasenlo/.wdm/drivers/chromedriver/mac64/85.0.4183.87/chromedriver] found in cache\n"
     ]
    },
    {
     "name": "stdout",
     "output_type": "stream",
     "text": [
      " \n",
      "http://airbnb.com/rooms/33449879?check_in=2021-01-01&check_out=2021-04-30&previous_page_section_name=1000&display_extensions%5B%5D=DATED_LTS&display_extensions%5B%5D=MONTHLY_STAYS&federated_search_id=95026a59-432e-4f9f-b519-c926acb902b8\n"
     ]
    },
    {
     "name": "stderr",
     "output_type": "stream",
     "text": [
      "[WDM] - Current google-chrome version is 85.0.4183\n",
      "[WDM] - Get LATEST driver version for 85.0.4183\n",
      "[WDM] - Driver [/Users/jasenlo/.wdm/drivers/chromedriver/mac64/85.0.4183.87/chromedriver] found in cache\n"
     ]
    },
    {
     "name": "stdout",
     "output_type": "stream",
     "text": [
      " \n",
      "http://airbnb.com/rooms/31831324?check_in=2021-01-01&check_out=2021-04-30&previous_page_section_name=1000&display_extensions%5B%5D=DATED_LTS&display_extensions%5B%5D=MONTHLY_STAYS&federated_search_id=95026a59-432e-4f9f-b519-c926acb902b8\n"
     ]
    },
    {
     "name": "stderr",
     "output_type": "stream",
     "text": [
      "[WDM] - Current google-chrome version is 85.0.4183\n",
      "[WDM] - Get LATEST driver version for 85.0.4183\n",
      "[WDM] - Driver [/Users/jasenlo/.wdm/drivers/chromedriver/mac64/85.0.4183.87/chromedriver] found in cache\n"
     ]
    },
    {
     "name": "stdout",
     "output_type": "stream",
     "text": [
      " \n",
      "http://airbnb.com/rooms/196832?check_in=2021-01-01&check_out=2021-04-30&previous_page_section_name=1000&display_extensions%5B%5D=DATED_LTS&display_extensions%5B%5D=MONTHLY_STAYS&federated_search_id=95026a59-432e-4f9f-b519-c926acb902b8\n"
     ]
    },
    {
     "name": "stderr",
     "output_type": "stream",
     "text": [
      "[WDM] - Current google-chrome version is 85.0.4183\n",
      "[WDM] - Get LATEST driver version for 85.0.4183\n",
      "[WDM] - Driver [/Users/jasenlo/.wdm/drivers/chromedriver/mac64/85.0.4183.87/chromedriver] found in cache\n"
     ]
    },
    {
     "name": "stdout",
     "output_type": "stream",
     "text": [
      " \n",
      "http://airbnb.com/rooms/16155410?check_in=2021-01-01&check_out=2021-04-30&previous_page_section_name=1000&display_extensions%5B%5D=DATED_LTS&display_extensions%5B%5D=MONTHLY_STAYS&federated_search_id=95026a59-432e-4f9f-b519-c926acb902b8\n"
     ]
    },
    {
     "name": "stderr",
     "output_type": "stream",
     "text": [
      "[WDM] - Current google-chrome version is 85.0.4183\n",
      "[WDM] - Get LATEST driver version for 85.0.4183\n",
      "[WDM] - Driver [/Users/jasenlo/.wdm/drivers/chromedriver/mac64/85.0.4183.87/chromedriver] found in cache\n"
     ]
    },
    {
     "name": "stdout",
     "output_type": "stream",
     "text": [
      " \n",
      "http://airbnb.com/rooms/21123858?check_in=2021-01-01&check_out=2021-04-30&previous_page_section_name=1000&display_extensions%5B%5D=DATED_LTS&display_extensions%5B%5D=MONTHLY_STAYS&federated_search_id=95026a59-432e-4f9f-b519-c926acb902b8\n"
     ]
    },
    {
     "name": "stderr",
     "output_type": "stream",
     "text": [
      "[WDM] - Current google-chrome version is 85.0.4183\n",
      "[WDM] - Get LATEST driver version for 85.0.4183\n",
      "[WDM] - Driver [/Users/jasenlo/.wdm/drivers/chromedriver/mac64/85.0.4183.87/chromedriver] found in cache\n"
     ]
    },
    {
     "name": "stdout",
     "output_type": "stream",
     "text": [
      " \n",
      "http://airbnb.com/rooms/372075?check_in=2021-01-01&check_out=2021-04-30&previous_page_section_name=1000&display_extensions%5B%5D=DATED_LTS&display_extensions%5B%5D=MONTHLY_STAYS&federated_search_id=95026a59-432e-4f9f-b519-c926acb902b8\n"
     ]
    },
    {
     "name": "stderr",
     "output_type": "stream",
     "text": [
      "[WDM] - Current google-chrome version is 85.0.4183\n",
      "[WDM] - Get LATEST driver version for 85.0.4183\n",
      "[WDM] - Driver [/Users/jasenlo/.wdm/drivers/chromedriver/mac64/85.0.4183.87/chromedriver] found in cache\n"
     ]
    },
    {
     "name": "stdout",
     "output_type": "stream",
     "text": [
      " \n",
      "http://airbnb.com/rooms/14992631?check_in=2021-01-01&check_out=2021-04-30&previous_page_section_name=1000&display_extensions%5B%5D=DATED_LTS&display_extensions%5B%5D=MONTHLY_STAYS&federated_search_id=95026a59-432e-4f9f-b519-c926acb902b8\n"
     ]
    },
    {
     "name": "stderr",
     "output_type": "stream",
     "text": [
      "[WDM] - Current google-chrome version is 85.0.4183\n",
      "[WDM] - Get LATEST driver version for 85.0.4183\n",
      "[WDM] - Driver [/Users/jasenlo/.wdm/drivers/chromedriver/mac64/85.0.4183.87/chromedriver] found in cache\n"
     ]
    },
    {
     "name": "stdout",
     "output_type": "stream",
     "text": [
      " \n",
      "http://airbnb.com/rooms/37492149?check_in=2021-01-01&check_out=2021-04-30&previous_page_section_name=1000&display_extensions%5B%5D=DATED_LTS&display_extensions%5B%5D=MONTHLY_STAYS&federated_search_id=95026a59-432e-4f9f-b519-c926acb902b8\n"
     ]
    },
    {
     "name": "stderr",
     "output_type": "stream",
     "text": [
      "[WDM] - Current google-chrome version is 85.0.4183\n",
      "[WDM] - Get LATEST driver version for 85.0.4183\n",
      "[WDM] - Driver [/Users/jasenlo/.wdm/drivers/chromedriver/mac64/85.0.4183.87/chromedriver] found in cache\n"
     ]
    },
    {
     "name": "stdout",
     "output_type": "stream",
     "text": [
      " \n",
      "http://airbnb.com/rooms/12302114?check_in=2021-01-01&check_out=2021-04-30&previous_page_section_name=1000&display_extensions%5B%5D=DATED_LTS&display_extensions%5B%5D=MONTHLY_STAYS&federated_search_id=95026a59-432e-4f9f-b519-c926acb902b8\n"
     ]
    },
    {
     "name": "stderr",
     "output_type": "stream",
     "text": [
      "[WDM] - Current google-chrome version is 85.0.4183\n",
      "[WDM] - Get LATEST driver version for 85.0.4183\n",
      "[WDM] - Driver [/Users/jasenlo/.wdm/drivers/chromedriver/mac64/85.0.4183.87/chromedriver] found in cache\n"
     ]
    },
    {
     "name": "stdout",
     "output_type": "stream",
     "text": [
      " \n",
      "http://airbnb.com/rooms/4813065?check_in=2021-01-01&check_out=2021-04-30&previous_page_section_name=1000&display_extensions%5B%5D=DATED_LTS&display_extensions%5B%5D=MONTHLY_STAYS&federated_search_id=95026a59-432e-4f9f-b519-c926acb902b8\n"
     ]
    },
    {
     "name": "stderr",
     "output_type": "stream",
     "text": [
      "[WDM] - Current google-chrome version is 85.0.4183\n",
      "[WDM] - Get LATEST driver version for 85.0.4183\n",
      "[WDM] - Driver [/Users/jasenlo/.wdm/drivers/chromedriver/mac64/85.0.4183.87/chromedriver] found in cache\n"
     ]
    },
    {
     "name": "stdout",
     "output_type": "stream",
     "text": [
      " \n",
      "http://airbnb.com/rooms/plus/27725129?check_in=2021-01-01&check_out=2021-04-30&previous_page_section_name=1000&display_extensions%5B%5D=DATED_LTS&display_extensions%5B%5D=MONTHLY_STAYS&federated_search_id=95026a59-432e-4f9f-b519-c926acb902b8\n"
     ]
    },
    {
     "name": "stderr",
     "output_type": "stream",
     "text": [
      "[WDM] - Current google-chrome version is 85.0.4183\n",
      "[WDM] - Get LATEST driver version for 85.0.4183\n",
      "[WDM] - Driver [/Users/jasenlo/.wdm/drivers/chromedriver/mac64/85.0.4183.87/chromedriver] found in cache\n"
     ]
    },
    {
     "name": "stdout",
     "output_type": "stream",
     "text": [
      " \n",
      "http://airbnb.com/rooms/196832?check_in=2021-01-01&check_out=2021-04-30&previous_page_section_name=1000&display_extensions%5B%5D=MONTHLY_STAYS&display_extensions%5B%5D=DATED_LTS&federated_search_id=86e4c3c7-e482-4a9b-bba6-f554d892a62e\n"
     ]
    },
    {
     "name": "stderr",
     "output_type": "stream",
     "text": [
      "[WDM] - Current google-chrome version is 85.0.4183\n",
      "[WDM] - Get LATEST driver version for 85.0.4183\n",
      "[WDM] - Driver [/Users/jasenlo/.wdm/drivers/chromedriver/mac64/85.0.4183.87/chromedriver] found in cache\n"
     ]
    },
    {
     "name": "stdout",
     "output_type": "stream",
     "text": [
      " \n",
      "http://airbnb.com/rooms/14748508?check_in=2021-01-01&check_out=2021-04-30&previous_page_section_name=1000&display_extensions%5B%5D=MONTHLY_STAYS&display_extensions%5B%5D=DATED_LTS&federated_search_id=86e4c3c7-e482-4a9b-bba6-f554d892a62e\n"
     ]
    },
    {
     "name": "stderr",
     "output_type": "stream",
     "text": [
      "[WDM] - Current google-chrome version is 85.0.4183\n",
      "[WDM] - Get LATEST driver version for 85.0.4183\n",
      "[WDM] - Driver [/Users/jasenlo/.wdm/drivers/chromedriver/mac64/85.0.4183.87/chromedriver] found in cache\n"
     ]
    },
    {
     "name": "stdout",
     "output_type": "stream",
     "text": [
      " \n",
      "http://airbnb.com/rooms/31287375?check_in=2021-01-01&check_out=2021-04-30&previous_page_section_name=1000&display_extensions%5B%5D=MONTHLY_STAYS&display_extensions%5B%5D=DATED_LTS&federated_search_id=86e4c3c7-e482-4a9b-bba6-f554d892a62e\n"
     ]
    },
    {
     "name": "stderr",
     "output_type": "stream",
     "text": [
      "[WDM] - Current google-chrome version is 85.0.4183\n",
      "[WDM] - Get LATEST driver version for 85.0.4183\n",
      "[WDM] - Driver [/Users/jasenlo/.wdm/drivers/chromedriver/mac64/85.0.4183.87/chromedriver] found in cache\n"
     ]
    },
    {
     "name": "stdout",
     "output_type": "stream",
     "text": [
      " \n",
      "http://airbnb.com/rooms/45684446?check_in=2021-01-01&check_out=2021-04-30&previous_page_section_name=1000&display_extensions%5B%5D=MONTHLY_STAYS&display_extensions%5B%5D=DATED_LTS&federated_search_id=86e4c3c7-e482-4a9b-bba6-f554d892a62e\n"
     ]
    },
    {
     "name": "stderr",
     "output_type": "stream",
     "text": [
      "[WDM] - Current google-chrome version is 85.0.4183\n",
      "[WDM] - Get LATEST driver version for 85.0.4183\n",
      "[WDM] - Driver [/Users/jasenlo/.wdm/drivers/chromedriver/mac64/85.0.4183.87/chromedriver] found in cache\n"
     ]
    },
    {
     "name": "stdout",
     "output_type": "stream",
     "text": [
      " \n",
      "http://airbnb.com/rooms/6284750?check_in=2021-01-01&check_out=2021-04-30&previous_page_section_name=1000&display_extensions%5B%5D=MONTHLY_STAYS&display_extensions%5B%5D=DATED_LTS&federated_search_id=86e4c3c7-e482-4a9b-bba6-f554d892a62e\n"
     ]
    },
    {
     "name": "stderr",
     "output_type": "stream",
     "text": [
      "[WDM] - Current google-chrome version is 85.0.4183\n",
      "[WDM] - Get LATEST driver version for 85.0.4183\n",
      "[WDM] - Driver [/Users/jasenlo/.wdm/drivers/chromedriver/mac64/85.0.4183.87/chromedriver] found in cache\n"
     ]
    },
    {
     "name": "stdout",
     "output_type": "stream",
     "text": [
      " \n",
      "http://airbnb.com/rooms/966084?check_in=2021-01-01&check_out=2021-04-30&previous_page_section_name=1000&display_extensions%5B%5D=MONTHLY_STAYS&display_extensions%5B%5D=DATED_LTS&federated_search_id=86e4c3c7-e482-4a9b-bba6-f554d892a62e\n"
     ]
    },
    {
     "name": "stderr",
     "output_type": "stream",
     "text": [
      "[WDM] - Current google-chrome version is 85.0.4183\n",
      "[WDM] - Get LATEST driver version for 85.0.4183\n",
      "[WDM] - Driver [/Users/jasenlo/.wdm/drivers/chromedriver/mac64/85.0.4183.87/chromedriver] found in cache\n"
     ]
    },
    {
     "name": "stdout",
     "output_type": "stream",
     "text": [
      " \n",
      "http://airbnb.com/rooms/24152941?check_in=2021-01-01&check_out=2021-04-30&previous_page_section_name=1000&display_extensions%5B%5D=MONTHLY_STAYS&display_extensions%5B%5D=DATED_LTS&federated_search_id=86e4c3c7-e482-4a9b-bba6-f554d892a62e\n"
     ]
    },
    {
     "name": "stderr",
     "output_type": "stream",
     "text": [
      "[WDM] - Current google-chrome version is 85.0.4183\n",
      "[WDM] - Get LATEST driver version for 85.0.4183\n",
      "[WDM] - Driver [/Users/jasenlo/.wdm/drivers/chromedriver/mac64/85.0.4183.87/chromedriver] found in cache\n"
     ]
    },
    {
     "name": "stdout",
     "output_type": "stream",
     "text": [
      " \n",
      "http://airbnb.com/rooms/16346587?check_in=2021-01-01&check_out=2021-04-30&previous_page_section_name=1000&display_extensions%5B%5D=MONTHLY_STAYS&display_extensions%5B%5D=DATED_LTS&federated_search_id=86e4c3c7-e482-4a9b-bba6-f554d892a62e\n"
     ]
    },
    {
     "name": "stderr",
     "output_type": "stream",
     "text": [
      "[WDM] - Current google-chrome version is 85.0.4183\n",
      "[WDM] - Get LATEST driver version for 85.0.4183\n",
      "[WDM] - Driver [/Users/jasenlo/.wdm/drivers/chromedriver/mac64/85.0.4183.87/chromedriver] found in cache\n"
     ]
    },
    {
     "name": "stdout",
     "output_type": "stream",
     "text": [
      " \n",
      "http://airbnb.com/rooms/36559708?check_in=2021-01-01&check_out=2021-04-30&previous_page_section_name=1000&display_extensions%5B%5D=MONTHLY_STAYS&display_extensions%5B%5D=DATED_LTS&federated_search_id=86e4c3c7-e482-4a9b-bba6-f554d892a62e\n"
     ]
    },
    {
     "name": "stderr",
     "output_type": "stream",
     "text": [
      "[WDM] - Current google-chrome version is 85.0.4183\n",
      "[WDM] - Get LATEST driver version for 85.0.4183\n",
      "[WDM] - Driver [/Users/jasenlo/.wdm/drivers/chromedriver/mac64/85.0.4183.87/chromedriver] found in cache\n"
     ]
    },
    {
     "name": "stdout",
     "output_type": "stream",
     "text": [
      " \n",
      "http://airbnb.com/rooms/17591997?check_in=2021-01-01&check_out=2021-04-30&previous_page_section_name=1000&display_extensions%5B%5D=MONTHLY_STAYS&display_extensions%5B%5D=DATED_LTS&federated_search_id=86e4c3c7-e482-4a9b-bba6-f554d892a62e\n"
     ]
    },
    {
     "name": "stderr",
     "output_type": "stream",
     "text": [
      "[WDM] - Current google-chrome version is 85.0.4183\n",
      "[WDM] - Get LATEST driver version for 85.0.4183\n",
      "[WDM] - Driver [/Users/jasenlo/.wdm/drivers/chromedriver/mac64/85.0.4183.87/chromedriver] found in cache\n"
     ]
    },
    {
     "name": "stdout",
     "output_type": "stream",
     "text": [
      " \n",
      "http://airbnb.com/rooms/30726774?check_in=2021-01-01&check_out=2021-04-30&previous_page_section_name=1000&display_extensions%5B%5D=MONTHLY_STAYS&display_extensions%5B%5D=DATED_LTS&federated_search_id=86e4c3c7-e482-4a9b-bba6-f554d892a62e\n"
     ]
    },
    {
     "name": "stderr",
     "output_type": "stream",
     "text": [
      "[WDM] - Current google-chrome version is 85.0.4183\n",
      "[WDM] - Get LATEST driver version for 85.0.4183\n",
      "[WDM] - Driver [/Users/jasenlo/.wdm/drivers/chromedriver/mac64/85.0.4183.87/chromedriver] found in cache\n"
     ]
    },
    {
     "name": "stdout",
     "output_type": "stream",
     "text": [
      " \n",
      "http://airbnb.com/rooms/3378966?check_in=2021-01-01&check_out=2021-04-30&previous_page_section_name=1000&display_extensions%5B%5D=MONTHLY_STAYS&display_extensions%5B%5D=DATED_LTS&federated_search_id=86e4c3c7-e482-4a9b-bba6-f554d892a62e\n"
     ]
    },
    {
     "name": "stderr",
     "output_type": "stream",
     "text": [
      "[WDM] - Current google-chrome version is 85.0.4183\n",
      "[WDM] - Get LATEST driver version for 85.0.4183\n",
      "[WDM] - Driver [/Users/jasenlo/.wdm/drivers/chromedriver/mac64/85.0.4183.87/chromedriver] found in cache\n"
     ]
    },
    {
     "name": "stdout",
     "output_type": "stream",
     "text": [
      " \n",
      "http://airbnb.com/rooms/18562660?check_in=2021-01-01&check_out=2021-04-30&previous_page_section_name=1000&display_extensions%5B%5D=MONTHLY_STAYS&display_extensions%5B%5D=DATED_LTS&federated_search_id=86e4c3c7-e482-4a9b-bba6-f554d892a62e\n"
     ]
    },
    {
     "name": "stderr",
     "output_type": "stream",
     "text": [
      "[WDM] - Current google-chrome version is 85.0.4183\n",
      "[WDM] - Get LATEST driver version for 85.0.4183\n",
      "[WDM] - Driver [/Users/jasenlo/.wdm/drivers/chromedriver/mac64/85.0.4183.87/chromedriver] found in cache\n"
     ]
    },
    {
     "name": "stdout",
     "output_type": "stream",
     "text": [
      " \n",
      "http://airbnb.com/rooms/31540455?check_in=2021-01-01&check_out=2021-04-30&previous_page_section_name=1000&display_extensions%5B%5D=MONTHLY_STAYS&display_extensions%5B%5D=DATED_LTS&federated_search_id=86e4c3c7-e482-4a9b-bba6-f554d892a62e\n"
     ]
    },
    {
     "name": "stderr",
     "output_type": "stream",
     "text": [
      "[WDM] - Current google-chrome version is 85.0.4183\n",
      "[WDM] - Get LATEST driver version for 85.0.4183\n",
      "[WDM] - Driver [/Users/jasenlo/.wdm/drivers/chromedriver/mac64/85.0.4183.87/chromedriver] found in cache\n"
     ]
    },
    {
     "name": "stdout",
     "output_type": "stream",
     "text": [
      " \n",
      "http://airbnb.com/rooms/26334897?check_in=2021-01-01&check_out=2021-04-30&previous_page_section_name=1000&display_extensions%5B%5D=MONTHLY_STAYS&display_extensions%5B%5D=DATED_LTS&federated_search_id=86e4c3c7-e482-4a9b-bba6-f554d892a62e\n"
     ]
    },
    {
     "name": "stderr",
     "output_type": "stream",
     "text": [
      "[WDM] - Current google-chrome version is 85.0.4183\n",
      "[WDM] - Get LATEST driver version for 85.0.4183\n",
      "[WDM] - Driver [/Users/jasenlo/.wdm/drivers/chromedriver/mac64/85.0.4183.87/chromedriver] found in cache\n"
     ]
    },
    {
     "name": "stdout",
     "output_type": "stream",
     "text": [
      " \n",
      "http://airbnb.com/rooms/32298919?check_in=2021-01-01&check_out=2021-04-30&previous_page_section_name=1000&display_extensions%5B%5D=MONTHLY_STAYS&display_extensions%5B%5D=DATED_LTS&federated_search_id=86e4c3c7-e482-4a9b-bba6-f554d892a62e\n"
     ]
    },
    {
     "name": "stderr",
     "output_type": "stream",
     "text": [
      "[WDM] - Current google-chrome version is 85.0.4183\n",
      "[WDM] - Get LATEST driver version for 85.0.4183\n",
      "[WDM] - Driver [/Users/jasenlo/.wdm/drivers/chromedriver/mac64/85.0.4183.87/chromedriver] found in cache\n"
     ]
    },
    {
     "name": "stdout",
     "output_type": "stream",
     "text": [
      " \n",
      "http://airbnb.com/rooms/11044175?check_in=2021-01-01&check_out=2021-04-30&previous_page_section_name=1000&display_extensions%5B%5D=MONTHLY_STAYS&display_extensions%5B%5D=DATED_LTS&federated_search_id=86e4c3c7-e482-4a9b-bba6-f554d892a62e\n"
     ]
    },
    {
     "name": "stderr",
     "output_type": "stream",
     "text": [
      "[WDM] - Current google-chrome version is 85.0.4183\n",
      "[WDM] - Get LATEST driver version for 85.0.4183\n",
      "[WDM] - Driver [/Users/jasenlo/.wdm/drivers/chromedriver/mac64/85.0.4183.87/chromedriver] found in cache\n"
     ]
    },
    {
     "name": "stdout",
     "output_type": "stream",
     "text": [
      " \n",
      "http://airbnb.com/rooms/41975077?check_in=2021-01-01&check_out=2021-04-30&previous_page_section_name=1000&display_extensions%5B%5D=MONTHLY_STAYS&display_extensions%5B%5D=DATED_LTS&federated_search_id=86e4c3c7-e482-4a9b-bba6-f554d892a62e\n"
     ]
    },
    {
     "name": "stderr",
     "output_type": "stream",
     "text": [
      "[WDM] - Current google-chrome version is 85.0.4183\n",
      "[WDM] - Get LATEST driver version for 85.0.4183\n",
      "[WDM] - Driver [/Users/jasenlo/.wdm/drivers/chromedriver/mac64/85.0.4183.87/chromedriver] found in cache\n"
     ]
    },
    {
     "name": "stdout",
     "output_type": "stream",
     "text": [
      " \n",
      "http://airbnb.com/rooms/34653919?check_in=2021-01-01&check_out=2021-04-30&previous_page_section_name=1000&display_extensions%5B%5D=MONTHLY_STAYS&display_extensions%5B%5D=DATED_LTS&federated_search_id=86e4c3c7-e482-4a9b-bba6-f554d892a62e\n"
     ]
    },
    {
     "name": "stderr",
     "output_type": "stream",
     "text": [
      "[WDM] - Current google-chrome version is 85.0.4183\n",
      "[WDM] - Get LATEST driver version for 85.0.4183\n",
      "[WDM] - Driver [/Users/jasenlo/.wdm/drivers/chromedriver/mac64/85.0.4183.87/chromedriver] found in cache\n"
     ]
    },
    {
     "name": "stdout",
     "output_type": "stream",
     "text": [
      " \n",
      "http://airbnb.com/rooms/33660335?check_in=2021-01-01&check_out=2021-04-30&previous_page_section_name=1000&display_extensions%5B%5D=MONTHLY_STAYS&display_extensions%5B%5D=DATED_LTS&federated_search_id=86e4c3c7-e482-4a9b-bba6-f554d892a62e\n"
     ]
    },
    {
     "name": "stderr",
     "output_type": "stream",
     "text": [
      "[WDM] - Current google-chrome version is 85.0.4183\n",
      "[WDM] - Get LATEST driver version for 85.0.4183\n",
      "[WDM] - Driver [/Users/jasenlo/.wdm/drivers/chromedriver/mac64/85.0.4183.87/chromedriver] found in cache\n"
     ]
    },
    {
     "name": "stdout",
     "output_type": "stream",
     "text": [
      " \n",
      "http://airbnb.com/rooms/37036482?check_in=2021-01-01&check_out=2021-04-30&previous_page_section_name=1000&display_extensions%5B%5D=DATED_LTS&display_extensions%5B%5D=MONTHLY_STAYS&federated_search_id=69dbb04b-0c20-490e-9124-a99b3ddde1c5\n"
     ]
    },
    {
     "name": "stderr",
     "output_type": "stream",
     "text": [
      "[WDM] - Current google-chrome version is 85.0.4183\n",
      "[WDM] - Get LATEST driver version for 85.0.4183\n",
      "[WDM] - Driver [/Users/jasenlo/.wdm/drivers/chromedriver/mac64/85.0.4183.87/chromedriver] found in cache\n"
     ]
    },
    {
     "name": "stdout",
     "output_type": "stream",
     "text": [
      " \n",
      "http://airbnb.com/rooms/43803684?check_in=2021-01-01&check_out=2021-04-30&previous_page_section_name=1000&display_extensions%5B%5D=DATED_LTS&display_extensions%5B%5D=MONTHLY_STAYS&federated_search_id=69dbb04b-0c20-490e-9124-a99b3ddde1c5\n"
     ]
    },
    {
     "name": "stderr",
     "output_type": "stream",
     "text": [
      "[WDM] - Current google-chrome version is 85.0.4183\n",
      "[WDM] - Get LATEST driver version for 85.0.4183\n",
      "[WDM] - Driver [/Users/jasenlo/.wdm/drivers/chromedriver/mac64/85.0.4183.87/chromedriver] found in cache\n"
     ]
    },
    {
     "name": "stdout",
     "output_type": "stream",
     "text": [
      " \n",
      "http://airbnb.com/rooms/26334897?check_in=2021-01-01&check_out=2021-04-30&previous_page_section_name=1000&display_extensions%5B%5D=DATED_LTS&display_extensions%5B%5D=MONTHLY_STAYS&federated_search_id=69dbb04b-0c20-490e-9124-a99b3ddde1c5\n"
     ]
    },
    {
     "name": "stderr",
     "output_type": "stream",
     "text": [
      "[WDM] - Current google-chrome version is 85.0.4183\n",
      "[WDM] - Get LATEST driver version for 85.0.4183\n",
      "[WDM] - Driver [/Users/jasenlo/.wdm/drivers/chromedriver/mac64/85.0.4183.87/chromedriver] found in cache\n"
     ]
    },
    {
     "name": "stdout",
     "output_type": "stream",
     "text": [
      " \n",
      "http://airbnb.com/rooms/37527694?check_in=2021-01-01&check_out=2021-04-30&previous_page_section_name=1000&display_extensions%5B%5D=DATED_LTS&display_extensions%5B%5D=MONTHLY_STAYS&federated_search_id=69dbb04b-0c20-490e-9124-a99b3ddde1c5\n"
     ]
    },
    {
     "name": "stderr",
     "output_type": "stream",
     "text": [
      "[WDM] - Current google-chrome version is 85.0.4183\n",
      "[WDM] - Get LATEST driver version for 85.0.4183\n",
      "[WDM] - Driver [/Users/jasenlo/.wdm/drivers/chromedriver/mac64/85.0.4183.87/chromedriver] found in cache\n"
     ]
    },
    {
     "name": "stdout",
     "output_type": "stream",
     "text": [
      " \n",
      "http://airbnb.com/rooms/11044175?check_in=2021-01-01&check_out=2021-04-30&previous_page_section_name=1000&display_extensions%5B%5D=DATED_LTS&display_extensions%5B%5D=MONTHLY_STAYS&federated_search_id=69dbb04b-0c20-490e-9124-a99b3ddde1c5\n"
     ]
    },
    {
     "name": "stderr",
     "output_type": "stream",
     "text": [
      "[WDM] - Current google-chrome version is 85.0.4183\n",
      "[WDM] - Get LATEST driver version for 85.0.4183\n",
      "[WDM] - Driver [/Users/jasenlo/.wdm/drivers/chromedriver/mac64/85.0.4183.87/chromedriver] found in cache\n"
     ]
    },
    {
     "name": "stdout",
     "output_type": "stream",
     "text": [
      " \n",
      "http://airbnb.com/rooms/45684132?check_in=2021-01-01&check_out=2021-04-30&previous_page_section_name=1000&display_extensions%5B%5D=DATED_LTS&display_extensions%5B%5D=MONTHLY_STAYS&federated_search_id=69dbb04b-0c20-490e-9124-a99b3ddde1c5\n"
     ]
    },
    {
     "name": "stderr",
     "output_type": "stream",
     "text": [
      "[WDM] - Current google-chrome version is 85.0.4183\n",
      "[WDM] - Get LATEST driver version for 85.0.4183\n",
      "[WDM] - Driver [/Users/jasenlo/.wdm/drivers/chromedriver/mac64/85.0.4183.87/chromedriver] found in cache\n"
     ]
    },
    {
     "name": "stdout",
     "output_type": "stream",
     "text": [
      " \n",
      "http://airbnb.com/rooms/30712178?check_in=2021-01-01&check_out=2021-04-30&previous_page_section_name=1000&display_extensions%5B%5D=DATED_LTS&display_extensions%5B%5D=MONTHLY_STAYS&federated_search_id=69dbb04b-0c20-490e-9124-a99b3ddde1c5\n"
     ]
    },
    {
     "name": "stderr",
     "output_type": "stream",
     "text": [
      "[WDM] - Current google-chrome version is 85.0.4183\n",
      "[WDM] - Get LATEST driver version for 85.0.4183\n",
      "[WDM] - Driver [/Users/jasenlo/.wdm/drivers/chromedriver/mac64/85.0.4183.87/chromedriver] found in cache\n"
     ]
    },
    {
     "name": "stdout",
     "output_type": "stream",
     "text": [
      " \n",
      "http://airbnb.com/rooms/17591997?check_in=2021-01-01&check_out=2021-04-30&previous_page_section_name=1000&display_extensions%5B%5D=DATED_LTS&display_extensions%5B%5D=MONTHLY_STAYS&federated_search_id=69dbb04b-0c20-490e-9124-a99b3ddde1c5\n"
     ]
    },
    {
     "name": "stderr",
     "output_type": "stream",
     "text": [
      "[WDM] - Current google-chrome version is 85.0.4183\n",
      "[WDM] - Get LATEST driver version for 85.0.4183\n",
      "[WDM] - Driver [/Users/jasenlo/.wdm/drivers/chromedriver/mac64/85.0.4183.87/chromedriver] found in cache\n"
     ]
    },
    {
     "name": "stdout",
     "output_type": "stream",
     "text": [
      " \n",
      "http://airbnb.com/rooms/45700653?check_in=2021-01-01&check_out=2021-04-30&previous_page_section_name=1000&display_extensions%5B%5D=DATED_LTS&display_extensions%5B%5D=MONTHLY_STAYS&federated_search_id=69dbb04b-0c20-490e-9124-a99b3ddde1c5\n"
     ]
    },
    {
     "name": "stderr",
     "output_type": "stream",
     "text": [
      "[WDM] - Current google-chrome version is 85.0.4183\n",
      "[WDM] - Get LATEST driver version for 85.0.4183\n",
      "[WDM] - Driver [/Users/jasenlo/.wdm/drivers/chromedriver/mac64/85.0.4183.87/chromedriver] found in cache\n"
     ]
    },
    {
     "name": "stdout",
     "output_type": "stream",
     "text": [
      " \n",
      "http://airbnb.com/rooms/37383065?check_in=2021-01-01&check_out=2021-04-30&previous_page_section_name=1000&display_extensions%5B%5D=DATED_LTS&display_extensions%5B%5D=MONTHLY_STAYS&federated_search_id=69dbb04b-0c20-490e-9124-a99b3ddde1c5\n"
     ]
    },
    {
     "name": "stderr",
     "output_type": "stream",
     "text": [
      "[WDM] - Current google-chrome version is 85.0.4183\n",
      "[WDM] - Get LATEST driver version for 85.0.4183\n",
      "[WDM] - Driver [/Users/jasenlo/.wdm/drivers/chromedriver/mac64/85.0.4183.87/chromedriver] found in cache\n"
     ]
    },
    {
     "name": "stdout",
     "output_type": "stream",
     "text": [
      " \n",
      "http://airbnb.com/rooms/3826168?check_in=2021-01-01&check_out=2021-04-30&previous_page_section_name=1000&display_extensions%5B%5D=DATED_LTS&display_extensions%5B%5D=MONTHLY_STAYS&federated_search_id=69dbb04b-0c20-490e-9124-a99b3ddde1c5\n"
     ]
    },
    {
     "name": "stderr",
     "output_type": "stream",
     "text": [
      "[WDM] - Current google-chrome version is 85.0.4183\n",
      "[WDM] - Get LATEST driver version for 85.0.4183\n",
      "[WDM] - Driver [/Users/jasenlo/.wdm/drivers/chromedriver/mac64/85.0.4183.87/chromedriver] found in cache\n"
     ]
    },
    {
     "name": "stdout",
     "output_type": "stream",
     "text": [
      " \n",
      "http://airbnb.com/rooms/30936697?check_in=2021-01-01&check_out=2021-04-30&previous_page_section_name=1000&display_extensions%5B%5D=DATED_LTS&display_extensions%5B%5D=MONTHLY_STAYS&federated_search_id=69dbb04b-0c20-490e-9124-a99b3ddde1c5\n"
     ]
    },
    {
     "name": "stderr",
     "output_type": "stream",
     "text": [
      "[WDM] - Current google-chrome version is 85.0.4183\n",
      "[WDM] - Get LATEST driver version for 85.0.4183\n",
      "[WDM] - Driver [/Users/jasenlo/.wdm/drivers/chromedriver/mac64/85.0.4183.87/chromedriver] found in cache\n"
     ]
    },
    {
     "name": "stdout",
     "output_type": "stream",
     "text": [
      " \n",
      "http://airbnb.com/rooms/24152941?check_in=2021-01-01&check_out=2021-04-30&previous_page_section_name=1000&display_extensions%5B%5D=DATED_LTS&display_extensions%5B%5D=MONTHLY_STAYS&federated_search_id=69dbb04b-0c20-490e-9124-a99b3ddde1c5\n"
     ]
    },
    {
     "name": "stderr",
     "output_type": "stream",
     "text": [
      "[WDM] - Current google-chrome version is 85.0.4183\n",
      "[WDM] - Get LATEST driver version for 85.0.4183\n",
      "[WDM] - Driver [/Users/jasenlo/.wdm/drivers/chromedriver/mac64/85.0.4183.87/chromedriver] found in cache\n"
     ]
    },
    {
     "name": "stdout",
     "output_type": "stream",
     "text": [
      " \n",
      "http://airbnb.com/rooms/19946183?check_in=2021-01-01&check_out=2021-04-30&previous_page_section_name=1000&display_extensions%5B%5D=DATED_LTS&display_extensions%5B%5D=MONTHLY_STAYS&federated_search_id=69dbb04b-0c20-490e-9124-a99b3ddde1c5\n"
     ]
    },
    {
     "name": "stderr",
     "output_type": "stream",
     "text": [
      "[WDM] - Current google-chrome version is 85.0.4183\n",
      "[WDM] - Get LATEST driver version for 85.0.4183\n",
      "[WDM] - Driver [/Users/jasenlo/.wdm/drivers/chromedriver/mac64/85.0.4183.87/chromedriver] found in cache\n"
     ]
    },
    {
     "name": "stdout",
     "output_type": "stream",
     "text": [
      " \n",
      "http://airbnb.com/rooms/16346587?check_in=2021-01-01&check_out=2021-04-30&previous_page_section_name=1000&display_extensions%5B%5D=DATED_LTS&display_extensions%5B%5D=MONTHLY_STAYS&federated_search_id=69dbb04b-0c20-490e-9124-a99b3ddde1c5\n"
     ]
    },
    {
     "name": "stderr",
     "output_type": "stream",
     "text": [
      "[WDM] - Current google-chrome version is 85.0.4183\n",
      "[WDM] - Get LATEST driver version for 85.0.4183\n",
      "[WDM] - Driver [/Users/jasenlo/.wdm/drivers/chromedriver/mac64/85.0.4183.87/chromedriver] found in cache\n"
     ]
    },
    {
     "name": "stdout",
     "output_type": "stream",
     "text": [
      " \n",
      "http://airbnb.com/rooms/4686562?check_in=2021-01-01&check_out=2021-04-30&previous_page_section_name=1000&display_extensions%5B%5D=DATED_LTS&display_extensions%5B%5D=MONTHLY_STAYS&federated_search_id=69dbb04b-0c20-490e-9124-a99b3ddde1c5\n"
     ]
    },
    {
     "name": "stderr",
     "output_type": "stream",
     "text": [
      "[WDM] - Current google-chrome version is 85.0.4183\n",
      "[WDM] - Get LATEST driver version for 85.0.4183\n",
      "[WDM] - Driver [/Users/jasenlo/.wdm/drivers/chromedriver/mac64/85.0.4183.87/chromedriver] found in cache\n"
     ]
    },
    {
     "name": "stdout",
     "output_type": "stream",
     "text": [
      " \n",
      "http://airbnb.com/rooms/36267076?check_in=2021-01-01&check_out=2021-04-30&previous_page_section_name=1000&display_extensions%5B%5D=DATED_LTS&display_extensions%5B%5D=MONTHLY_STAYS&federated_search_id=69dbb04b-0c20-490e-9124-a99b3ddde1c5\n"
     ]
    },
    {
     "name": "stderr",
     "output_type": "stream",
     "text": [
      "[WDM] - Current google-chrome version is 85.0.4183\n",
      "[WDM] - Get LATEST driver version for 85.0.4183\n",
      "[WDM] - Driver [/Users/jasenlo/.wdm/drivers/chromedriver/mac64/85.0.4183.87/chromedriver] found in cache\n"
     ]
    },
    {
     "name": "stdout",
     "output_type": "stream",
     "text": [
      " \n",
      "http://airbnb.com/rooms/4111032?check_in=2021-01-01&check_out=2021-04-30&previous_page_section_name=1000&display_extensions%5B%5D=DATED_LTS&display_extensions%5B%5D=MONTHLY_STAYS&federated_search_id=69dbb04b-0c20-490e-9124-a99b3ddde1c5\n"
     ]
    },
    {
     "name": "stderr",
     "output_type": "stream",
     "text": [
      "[WDM] - Current google-chrome version is 85.0.4183\n",
      "[WDM] - Get LATEST driver version for 85.0.4183\n",
      "[WDM] - Driver [/Users/jasenlo/.wdm/drivers/chromedriver/mac64/85.0.4183.87/chromedriver] found in cache\n"
     ]
    },
    {
     "name": "stdout",
     "output_type": "stream",
     "text": [
      " \n",
      "http://airbnb.com/rooms/23487196?check_in=2021-01-01&check_out=2021-04-30&previous_page_section_name=1000&display_extensions%5B%5D=DATED_LTS&display_extensions%5B%5D=MONTHLY_STAYS&federated_search_id=69dbb04b-0c20-490e-9124-a99b3ddde1c5\n"
     ]
    },
    {
     "name": "stderr",
     "output_type": "stream",
     "text": [
      "[WDM] - Current google-chrome version is 85.0.4183\n",
      "[WDM] - Get LATEST driver version for 85.0.4183\n",
      "[WDM] - Driver [/Users/jasenlo/.wdm/drivers/chromedriver/mac64/85.0.4183.87/chromedriver] found in cache\n"
     ]
    },
    {
     "name": "stdout",
     "output_type": "stream",
     "text": [
      " \n",
      "http://airbnb.com/rooms/30726774?check_in=2021-01-01&check_out=2021-04-30&previous_page_section_name=1000&display_extensions%5B%5D=DATED_LTS&display_extensions%5B%5D=MONTHLY_STAYS&federated_search_id=69dbb04b-0c20-490e-9124-a99b3ddde1c5\n"
     ]
    },
    {
     "name": "stderr",
     "output_type": "stream",
     "text": [
      "[WDM] - Current google-chrome version is 85.0.4183\n",
      "[WDM] - Get LATEST driver version for 85.0.4183\n",
      "[WDM] - Driver [/Users/jasenlo/.wdm/drivers/chromedriver/mac64/85.0.4183.87/chromedriver] found in cache\n"
     ]
    },
    {
     "name": "stdout",
     "output_type": "stream",
     "text": [
      " \n",
      "http://airbnb.com/rooms/44912071?check_in=2021-01-01&check_out=2021-04-30&previous_page_section_name=1000&display_extensions%5B%5D=DATED_LTS&display_extensions%5B%5D=MONTHLY_STAYS&federated_search_id=444796ee-c95a-428d-9a7d-b56be6010cb0\n"
     ]
    },
    {
     "name": "stderr",
     "output_type": "stream",
     "text": [
      "[WDM] - Current google-chrome version is 85.0.4183\n",
      "[WDM] - Get LATEST driver version for 85.0.4183\n",
      "[WDM] - Driver [/Users/jasenlo/.wdm/drivers/chromedriver/mac64/85.0.4183.87/chromedriver] found in cache\n"
     ]
    },
    {
     "name": "stdout",
     "output_type": "stream",
     "text": [
      " \n",
      "http://airbnb.com/rooms/27991?check_in=2021-01-01&check_out=2021-04-30&previous_page_section_name=1000&display_extensions%5B%5D=DATED_LTS&display_extensions%5B%5D=MONTHLY_STAYS&federated_search_id=444796ee-c95a-428d-9a7d-b56be6010cb0\n"
     ]
    },
    {
     "name": "stderr",
     "output_type": "stream",
     "text": [
      "[WDM] - Current google-chrome version is 85.0.4183\n",
      "[WDM] - Get LATEST driver version for 85.0.4183\n",
      "[WDM] - Driver [/Users/jasenlo/.wdm/drivers/chromedriver/mac64/85.0.4183.87/chromedriver] found in cache\n"
     ]
    },
    {
     "name": "stdout",
     "output_type": "stream",
     "text": [
      " \n",
      "http://airbnb.com/rooms/43343444?check_in=2021-01-01&check_out=2021-04-30&previous_page_section_name=1000&display_extensions%5B%5D=DATED_LTS&display_extensions%5B%5D=MONTHLY_STAYS&federated_search_id=444796ee-c95a-428d-9a7d-b56be6010cb0\n"
     ]
    },
    {
     "name": "stderr",
     "output_type": "stream",
     "text": [
      "[WDM] - Current google-chrome version is 85.0.4183\n",
      "[WDM] - Get LATEST driver version for 85.0.4183\n",
      "[WDM] - Driver [/Users/jasenlo/.wdm/drivers/chromedriver/mac64/85.0.4183.87/chromedriver] found in cache\n"
     ]
    },
    {
     "name": "stdout",
     "output_type": "stream",
     "text": [
      " \n",
      "http://airbnb.com/rooms/14992631?check_in=2021-01-01&check_out=2021-04-30&previous_page_section_name=1000&display_extensions%5B%5D=DATED_LTS&display_extensions%5B%5D=MONTHLY_STAYS&federated_search_id=444796ee-c95a-428d-9a7d-b56be6010cb0\n"
     ]
    },
    {
     "name": "stderr",
     "output_type": "stream",
     "text": [
      "[WDM] - Current google-chrome version is 85.0.4183\n",
      "[WDM] - Get LATEST driver version for 85.0.4183\n",
      "[WDM] - Driver [/Users/jasenlo/.wdm/drivers/chromedriver/mac64/85.0.4183.87/chromedriver] found in cache\n"
     ]
    },
    {
     "name": "stdout",
     "output_type": "stream",
     "text": [
      " \n",
      "http://airbnb.com/rooms/14915338?check_in=2021-01-01&check_out=2021-04-30&previous_page_section_name=1000&display_extensions%5B%5D=DATED_LTS&display_extensions%5B%5D=MONTHLY_STAYS&federated_search_id=444796ee-c95a-428d-9a7d-b56be6010cb0\n"
     ]
    },
    {
     "name": "stderr",
     "output_type": "stream",
     "text": [
      "[WDM] - Current google-chrome version is 85.0.4183\n",
      "[WDM] - Get LATEST driver version for 85.0.4183\n",
      "[WDM] - Driver [/Users/jasenlo/.wdm/drivers/chromedriver/mac64/85.0.4183.87/chromedriver] found in cache\n"
     ]
    },
    {
     "name": "stdout",
     "output_type": "stream",
     "text": [
      " \n",
      "http://airbnb.com/rooms/29420149?check_in=2021-01-01&check_out=2021-04-30&previous_page_section_name=1000&display_extensions%5B%5D=DATED_LTS&display_extensions%5B%5D=MONTHLY_STAYS&federated_search_id=444796ee-c95a-428d-9a7d-b56be6010cb0\n"
     ]
    },
    {
     "name": "stderr",
     "output_type": "stream",
     "text": [
      "[WDM] - Current google-chrome version is 85.0.4183\n",
      "[WDM] - Get LATEST driver version for 85.0.4183\n",
      "[WDM] - Driver [/Users/jasenlo/.wdm/drivers/chromedriver/mac64/85.0.4183.87/chromedriver] found in cache\n"
     ]
    },
    {
     "name": "stdout",
     "output_type": "stream",
     "text": [
      " \n",
      "http://airbnb.com/rooms/41534595?check_in=2021-01-01&check_out=2021-04-30&previous_page_section_name=1000&display_extensions%5B%5D=DATED_LTS&display_extensions%5B%5D=MONTHLY_STAYS&federated_search_id=444796ee-c95a-428d-9a7d-b56be6010cb0\n"
     ]
    },
    {
     "name": "stderr",
     "output_type": "stream",
     "text": [
      "[WDM] - Current google-chrome version is 85.0.4183\n",
      "[WDM] - Get LATEST driver version for 85.0.4183\n",
      "[WDM] - Driver [/Users/jasenlo/.wdm/drivers/chromedriver/mac64/85.0.4183.87/chromedriver] found in cache\n"
     ]
    },
    {
     "name": "stdout",
     "output_type": "stream",
     "text": [
      " \n",
      "http://airbnb.com/rooms/16346587?check_in=2021-01-01&check_out=2021-04-30&previous_page_section_name=1000&display_extensions%5B%5D=DATED_LTS&display_extensions%5B%5D=MONTHLY_STAYS&federated_search_id=444796ee-c95a-428d-9a7d-b56be6010cb0\n"
     ]
    },
    {
     "name": "stderr",
     "output_type": "stream",
     "text": [
      "[WDM] - Current google-chrome version is 85.0.4183\n",
      "[WDM] - Get LATEST driver version for 85.0.4183\n",
      "[WDM] - Driver [/Users/jasenlo/.wdm/drivers/chromedriver/mac64/85.0.4183.87/chromedriver] found in cache\n"
     ]
    },
    {
     "name": "stdout",
     "output_type": "stream",
     "text": [
      " \n",
      "http://airbnb.com/rooms/12043917?check_in=2021-01-01&check_out=2021-04-30&previous_page_section_name=1000&display_extensions%5B%5D=DATED_LTS&display_extensions%5B%5D=MONTHLY_STAYS&federated_search_id=444796ee-c95a-428d-9a7d-b56be6010cb0\n"
     ]
    },
    {
     "name": "stderr",
     "output_type": "stream",
     "text": [
      "[WDM] - Current google-chrome version is 85.0.4183\n",
      "[WDM] - Get LATEST driver version for 85.0.4183\n",
      "[WDM] - Driver [/Users/jasenlo/.wdm/drivers/chromedriver/mac64/85.0.4183.87/chromedriver] found in cache\n"
     ]
    },
    {
     "name": "stdout",
     "output_type": "stream",
     "text": [
      " \n",
      "http://airbnb.com/rooms/42062998?check_in=2021-01-01&check_out=2021-04-30&previous_page_section_name=1000&display_extensions%5B%5D=DATED_LTS&display_extensions%5B%5D=MONTHLY_STAYS&federated_search_id=444796ee-c95a-428d-9a7d-b56be6010cb0\n"
     ]
    },
    {
     "name": "stderr",
     "output_type": "stream",
     "text": [
      "[WDM] - Current google-chrome version is 85.0.4183\n",
      "[WDM] - Get LATEST driver version for 85.0.4183\n",
      "[WDM] - Driver [/Users/jasenlo/.wdm/drivers/chromedriver/mac64/85.0.4183.87/chromedriver] found in cache\n"
     ]
    },
    {
     "name": "stdout",
     "output_type": "stream",
     "text": [
      " \n",
      "http://airbnb.com/rooms/4111032?check_in=2021-01-01&check_out=2021-04-30&previous_page_section_name=1000&display_extensions%5B%5D=DATED_LTS&display_extensions%5B%5D=MONTHLY_STAYS&federated_search_id=444796ee-c95a-428d-9a7d-b56be6010cb0\n"
     ]
    },
    {
     "name": "stderr",
     "output_type": "stream",
     "text": [
      "[WDM] - Current google-chrome version is 85.0.4183\n",
      "[WDM] - Get LATEST driver version for 85.0.4183\n",
      "[WDM] - Driver [/Users/jasenlo/.wdm/drivers/chromedriver/mac64/85.0.4183.87/chromedriver] found in cache\n"
     ]
    },
    {
     "name": "stdout",
     "output_type": "stream",
     "text": [
      " \n",
      "http://airbnb.com/rooms/9216305?check_in=2021-01-01&check_out=2021-04-30&previous_page_section_name=1000&display_extensions%5B%5D=DATED_LTS&display_extensions%5B%5D=MONTHLY_STAYS&federated_search_id=444796ee-c95a-428d-9a7d-b56be6010cb0\n"
     ]
    },
    {
     "name": "stderr",
     "output_type": "stream",
     "text": [
      "[WDM] - Current google-chrome version is 85.0.4183\n",
      "[WDM] - Get LATEST driver version for 85.0.4183\n",
      "[WDM] - Driver [/Users/jasenlo/.wdm/drivers/chromedriver/mac64/85.0.4183.87/chromedriver] found in cache\n"
     ]
    },
    {
     "name": "stdout",
     "output_type": "stream",
     "text": [
      " \n",
      "http://airbnb.com/rooms/45363973?check_in=2021-01-01&check_out=2021-04-30&previous_page_section_name=1000&display_extensions%5B%5D=DATED_LTS&display_extensions%5B%5D=MONTHLY_STAYS&federated_search_id=444796ee-c95a-428d-9a7d-b56be6010cb0\n"
     ]
    },
    {
     "name": "stderr",
     "output_type": "stream",
     "text": [
      "[WDM] - Current google-chrome version is 85.0.4183\n",
      "[WDM] - Get LATEST driver version for 85.0.4183\n",
      "[WDM] - Driver [/Users/jasenlo/.wdm/drivers/chromedriver/mac64/85.0.4183.87/chromedriver] found in cache\n"
     ]
    },
    {
     "name": "stdout",
     "output_type": "stream",
     "text": [
      " \n",
      "http://airbnb.com/rooms/28833295?check_in=2021-01-01&check_out=2021-04-30&previous_page_section_name=1000&display_extensions%5B%5D=DATED_LTS&display_extensions%5B%5D=MONTHLY_STAYS&federated_search_id=444796ee-c95a-428d-9a7d-b56be6010cb0\n"
     ]
    },
    {
     "name": "stderr",
     "output_type": "stream",
     "text": [
      "[WDM] - Current google-chrome version is 85.0.4183\n",
      "[WDM] - Get LATEST driver version for 85.0.4183\n",
      "[WDM] - Driver [/Users/jasenlo/.wdm/drivers/chromedriver/mac64/85.0.4183.87/chromedriver] found in cache\n"
     ]
    },
    {
     "name": "stdout",
     "output_type": "stream",
     "text": [
      " \n",
      "http://airbnb.com/rooms/33449879?check_in=2021-01-01&check_out=2021-04-30&previous_page_section_name=1000&display_extensions%5B%5D=DATED_LTS&display_extensions%5B%5D=MONTHLY_STAYS&federated_search_id=444796ee-c95a-428d-9a7d-b56be6010cb0\n"
     ]
    },
    {
     "name": "stderr",
     "output_type": "stream",
     "text": [
      "[WDM] - Current google-chrome version is 85.0.4183\n",
      "[WDM] - Get LATEST driver version for 85.0.4183\n",
      "[WDM] - Driver [/Users/jasenlo/.wdm/drivers/chromedriver/mac64/85.0.4183.87/chromedriver] found in cache\n"
     ]
    },
    {
     "name": "stdout",
     "output_type": "stream",
     "text": [
      " \n",
      "http://airbnb.com/rooms/32785578?check_in=2021-01-01&check_out=2021-04-30&previous_page_section_name=1000&display_extensions%5B%5D=DATED_LTS&display_extensions%5B%5D=MONTHLY_STAYS&federated_search_id=444796ee-c95a-428d-9a7d-b56be6010cb0\n"
     ]
    },
    {
     "name": "stderr",
     "output_type": "stream",
     "text": [
      "[WDM] - Current google-chrome version is 85.0.4183\n",
      "[WDM] - Get LATEST driver version for 85.0.4183\n",
      "[WDM] - Driver [/Users/jasenlo/.wdm/drivers/chromedriver/mac64/85.0.4183.87/chromedriver] found in cache\n"
     ]
    },
    {
     "name": "stdout",
     "output_type": "stream",
     "text": [
      " \n",
      "http://airbnb.com/rooms/29059374?check_in=2021-01-01&check_out=2021-04-30&previous_page_section_name=1000&display_extensions%5B%5D=DATED_LTS&display_extensions%5B%5D=MONTHLY_STAYS&federated_search_id=444796ee-c95a-428d-9a7d-b56be6010cb0\n"
     ]
    },
    {
     "name": "stderr",
     "output_type": "stream",
     "text": [
      "[WDM] - Current google-chrome version is 85.0.4183\n",
      "[WDM] - Get LATEST driver version for 85.0.4183\n",
      "[WDM] - Driver [/Users/jasenlo/.wdm/drivers/chromedriver/mac64/85.0.4183.87/chromedriver] found in cache\n"
     ]
    },
    {
     "name": "stdout",
     "output_type": "stream",
     "text": [
      " \n",
      "http://airbnb.com/rooms/5188807?check_in=2021-01-01&check_out=2021-04-30&previous_page_section_name=1000&display_extensions%5B%5D=DATED_LTS&display_extensions%5B%5D=MONTHLY_STAYS&federated_search_id=444796ee-c95a-428d-9a7d-b56be6010cb0\n"
     ]
    },
    {
     "name": "stderr",
     "output_type": "stream",
     "text": [
      "[WDM] - Current google-chrome version is 85.0.4183\n",
      "[WDM] - Get LATEST driver version for 85.0.4183\n",
      "[WDM] - Driver [/Users/jasenlo/.wdm/drivers/chromedriver/mac64/85.0.4183.87/chromedriver] found in cache\n"
     ]
    },
    {
     "name": "stdout",
     "output_type": "stream",
     "text": [
      " \n",
      "http://airbnb.com/rooms/29187434?check_in=2021-01-01&check_out=2021-04-30&previous_page_section_name=1000&display_extensions%5B%5D=DATED_LTS&display_extensions%5B%5D=MONTHLY_STAYS&federated_search_id=444796ee-c95a-428d-9a7d-b56be6010cb0\n"
     ]
    },
    {
     "name": "stderr",
     "output_type": "stream",
     "text": [
      "[WDM] - Current google-chrome version is 85.0.4183\n",
      "[WDM] - Get LATEST driver version for 85.0.4183\n",
      "[WDM] - Driver [/Users/jasenlo/.wdm/drivers/chromedriver/mac64/85.0.4183.87/chromedriver] found in cache\n"
     ]
    },
    {
     "name": "stdout",
     "output_type": "stream",
     "text": [
      " \n",
      "http://airbnb.com/rooms/34299993?check_in=2021-01-01&check_out=2021-04-30&previous_page_section_name=1000&display_extensions%5B%5D=DATED_LTS&display_extensions%5B%5D=MONTHLY_STAYS&federated_search_id=444796ee-c95a-428d-9a7d-b56be6010cb0\n"
     ]
    },
    {
     "name": "stderr",
     "output_type": "stream",
     "text": [
      "[WDM] - Current google-chrome version is 85.0.4183\n",
      "[WDM] - Get LATEST driver version for 85.0.4183\n",
      "[WDM] - Driver [/Users/jasenlo/.wdm/drivers/chromedriver/mac64/85.0.4183.87/chromedriver] found in cache\n"
     ]
    },
    {
     "name": "stdout",
     "output_type": "stream",
     "text": [
      " \n",
      "http://airbnb.com/rooms/42855646?check_in=2021-01-01&check_out=2021-04-30&previous_page_section_name=1000&display_extensions%5B%5D=MONTHLY_STAYS&display_extensions%5B%5D=DATED_LTS&federated_search_id=a32e6a1c-db7a-44d8-869c-f862d1371397\n"
     ]
    },
    {
     "name": "stderr",
     "output_type": "stream",
     "text": [
      "[WDM] - Current google-chrome version is 85.0.4183\n",
      "[WDM] - Get LATEST driver version for 85.0.4183\n",
      "[WDM] - Driver [/Users/jasenlo/.wdm/drivers/chromedriver/mac64/85.0.4183.87/chromedriver] found in cache\n"
     ]
    },
    {
     "name": "stdout",
     "output_type": "stream",
     "text": [
      " \n",
      "http://airbnb.com/rooms/34095129?check_in=2021-01-01&check_out=2021-04-30&previous_page_section_name=1000&display_extensions%5B%5D=MONTHLY_STAYS&display_extensions%5B%5D=DATED_LTS&federated_search_id=a32e6a1c-db7a-44d8-869c-f862d1371397\n"
     ]
    },
    {
     "name": "stderr",
     "output_type": "stream",
     "text": [
      "[WDM] - Current google-chrome version is 85.0.4183\n",
      "[WDM] - Get LATEST driver version for 85.0.4183\n",
      "[WDM] - Driver [/Users/jasenlo/.wdm/drivers/chromedriver/mac64/85.0.4183.87/chromedriver] found in cache\n"
     ]
    },
    {
     "name": "stdout",
     "output_type": "stream",
     "text": [
      " \n",
      "http://airbnb.com/rooms/45477596?check_in=2021-01-01&check_out=2021-04-30&previous_page_section_name=1000&display_extensions%5B%5D=MONTHLY_STAYS&display_extensions%5B%5D=DATED_LTS&federated_search_id=a32e6a1c-db7a-44d8-869c-f862d1371397\n"
     ]
    },
    {
     "name": "stderr",
     "output_type": "stream",
     "text": [
      "[WDM] - Current google-chrome version is 85.0.4183\n",
      "[WDM] - Get LATEST driver version for 85.0.4183\n",
      "[WDM] - Driver [/Users/jasenlo/.wdm/drivers/chromedriver/mac64/85.0.4183.87/chromedriver] found in cache\n"
     ]
    },
    {
     "name": "stdout",
     "output_type": "stream",
     "text": [
      " \n",
      "http://airbnb.com/rooms/4801172?check_in=2021-01-01&check_out=2021-04-30&previous_page_section_name=1000&display_extensions%5B%5D=MONTHLY_STAYS&display_extensions%5B%5D=DATED_LTS&federated_search_id=a32e6a1c-db7a-44d8-869c-f862d1371397\n"
     ]
    },
    {
     "name": "stderr",
     "output_type": "stream",
     "text": [
      "[WDM] - Current google-chrome version is 85.0.4183\n",
      "[WDM] - Get LATEST driver version for 85.0.4183\n",
      "[WDM] - Driver [/Users/jasenlo/.wdm/drivers/chromedriver/mac64/85.0.4183.87/chromedriver] found in cache\n"
     ]
    },
    {
     "name": "stdout",
     "output_type": "stream",
     "text": [
      " \n",
      "http://airbnb.com/rooms/3182519?check_in=2021-01-01&check_out=2021-04-30&previous_page_section_name=1000&display_extensions%5B%5D=MONTHLY_STAYS&display_extensions%5B%5D=DATED_LTS&federated_search_id=a32e6a1c-db7a-44d8-869c-f862d1371397\n"
     ]
    },
    {
     "name": "stderr",
     "output_type": "stream",
     "text": [
      "[WDM] - Current google-chrome version is 85.0.4183\n",
      "[WDM] - Get LATEST driver version for 85.0.4183\n",
      "[WDM] - Driver [/Users/jasenlo/.wdm/drivers/chromedriver/mac64/85.0.4183.87/chromedriver] found in cache\n"
     ]
    },
    {
     "name": "stdout",
     "output_type": "stream",
     "text": [
      " \n",
      "http://airbnb.com/rooms/29515131?check_in=2021-01-01&check_out=2021-04-30&previous_page_section_name=1000&display_extensions%5B%5D=MONTHLY_STAYS&display_extensions%5B%5D=DATED_LTS&federated_search_id=a32e6a1c-db7a-44d8-869c-f862d1371397\n"
     ]
    },
    {
     "name": "stderr",
     "output_type": "stream",
     "text": [
      "[WDM] - Current google-chrome version is 85.0.4183\n",
      "[WDM] - Get LATEST driver version for 85.0.4183\n",
      "[WDM] - Driver [/Users/jasenlo/.wdm/drivers/chromedriver/mac64/85.0.4183.87/chromedriver] found in cache\n"
     ]
    },
    {
     "name": "stdout",
     "output_type": "stream",
     "text": [
      " \n",
      "http://airbnb.com/rooms/7594254?check_in=2021-01-01&check_out=2021-04-30&previous_page_section_name=1000&display_extensions%5B%5D=MONTHLY_STAYS&display_extensions%5B%5D=DATED_LTS&federated_search_id=a32e6a1c-db7a-44d8-869c-f862d1371397\n"
     ]
    },
    {
     "name": "stderr",
     "output_type": "stream",
     "text": [
      "[WDM] - Current google-chrome version is 85.0.4183\n",
      "[WDM] - Get LATEST driver version for 85.0.4183\n",
      "[WDM] - Driver [/Users/jasenlo/.wdm/drivers/chromedriver/mac64/85.0.4183.87/chromedriver] found in cache\n"
     ]
    },
    {
     "name": "stdout",
     "output_type": "stream",
     "text": [
      " \n",
      "http://airbnb.com/rooms/32298919?check_in=2021-01-01&check_out=2021-04-30&previous_page_section_name=1000&display_extensions%5B%5D=MONTHLY_STAYS&display_extensions%5B%5D=DATED_LTS&federated_search_id=a32e6a1c-db7a-44d8-869c-f862d1371397\n"
     ]
    },
    {
     "name": "stderr",
     "output_type": "stream",
     "text": [
      "[WDM] - Current google-chrome version is 85.0.4183\n",
      "[WDM] - Get LATEST driver version for 85.0.4183\n",
      "[WDM] - Driver [/Users/jasenlo/.wdm/drivers/chromedriver/mac64/85.0.4183.87/chromedriver] found in cache\n"
     ]
    },
    {
     "name": "stdout",
     "output_type": "stream",
     "text": [
      " \n",
      "http://airbnb.com/rooms/880746?check_in=2021-01-01&check_out=2021-04-30&previous_page_section_name=1000&display_extensions%5B%5D=MONTHLY_STAYS&display_extensions%5B%5D=DATED_LTS&federated_search_id=a32e6a1c-db7a-44d8-869c-f862d1371397\n"
     ]
    },
    {
     "name": "stderr",
     "output_type": "stream",
     "text": [
      "[WDM] - Current google-chrome version is 85.0.4183\n",
      "[WDM] - Get LATEST driver version for 85.0.4183\n",
      "[WDM] - Driver [/Users/jasenlo/.wdm/drivers/chromedriver/mac64/85.0.4183.87/chromedriver] found in cache\n"
     ]
    },
    {
     "name": "stdout",
     "output_type": "stream",
     "text": [
      " \n",
      "http://airbnb.com/rooms/44912071?check_in=2021-01-01&check_out=2021-04-30&previous_page_section_name=1000&display_extensions%5B%5D=MONTHLY_STAYS&display_extensions%5B%5D=DATED_LTS&federated_search_id=a32e6a1c-db7a-44d8-869c-f862d1371397\n"
     ]
    },
    {
     "name": "stderr",
     "output_type": "stream",
     "text": [
      "[WDM] - Current google-chrome version is 85.0.4183\n",
      "[WDM] - Get LATEST driver version for 85.0.4183\n",
      "[WDM] - Driver [/Users/jasenlo/.wdm/drivers/chromedriver/mac64/85.0.4183.87/chromedriver] found in cache\n"
     ]
    },
    {
     "name": "stdout",
     "output_type": "stream",
     "text": [
      " \n",
      "http://airbnb.com/rooms/39525409?check_in=2021-01-01&check_out=2021-04-30&previous_page_section_name=1000&display_extensions%5B%5D=MONTHLY_STAYS&display_extensions%5B%5D=DATED_LTS&federated_search_id=a32e6a1c-db7a-44d8-869c-f862d1371397\n"
     ]
    },
    {
     "name": "stderr",
     "output_type": "stream",
     "text": [
      "[WDM] - Current google-chrome version is 85.0.4183\n",
      "[WDM] - Get LATEST driver version for 85.0.4183\n",
      "[WDM] - Driver [/Users/jasenlo/.wdm/drivers/chromedriver/mac64/85.0.4183.87/chromedriver] found in cache\n"
     ]
    },
    {
     "name": "stdout",
     "output_type": "stream",
     "text": [
      " \n",
      "http://airbnb.com/rooms/30673118?check_in=2021-01-01&check_out=2021-04-30&previous_page_section_name=1000&display_extensions%5B%5D=MONTHLY_STAYS&display_extensions%5B%5D=DATED_LTS&federated_search_id=a32e6a1c-db7a-44d8-869c-f862d1371397\n"
     ]
    },
    {
     "name": "stderr",
     "output_type": "stream",
     "text": [
      "[WDM] - Current google-chrome version is 85.0.4183\n",
      "[WDM] - Get LATEST driver version for 85.0.4183\n",
      "[WDM] - Driver [/Users/jasenlo/.wdm/drivers/chromedriver/mac64/85.0.4183.87/chromedriver] found in cache\n"
     ]
    },
    {
     "name": "stdout",
     "output_type": "stream",
     "text": [
      " \n",
      "http://airbnb.com/rooms/3129784?check_in=2021-01-01&check_out=2021-04-30&previous_page_section_name=1000&display_extensions%5B%5D=MONTHLY_STAYS&display_extensions%5B%5D=DATED_LTS&federated_search_id=a32e6a1c-db7a-44d8-869c-f862d1371397\n"
     ]
    },
    {
     "name": "stderr",
     "output_type": "stream",
     "text": [
      "[WDM] - Current google-chrome version is 85.0.4183\n",
      "[WDM] - Get LATEST driver version for 85.0.4183\n",
      "[WDM] - Driver [/Users/jasenlo/.wdm/drivers/chromedriver/mac64/85.0.4183.87/chromedriver] found in cache\n"
     ]
    },
    {
     "name": "stdout",
     "output_type": "stream",
     "text": [
      " \n",
      "http://airbnb.com/rooms/32106563?check_in=2021-01-01&check_out=2021-04-30&previous_page_section_name=1000&display_extensions%5B%5D=MONTHLY_STAYS&display_extensions%5B%5D=DATED_LTS&federated_search_id=a32e6a1c-db7a-44d8-869c-f862d1371397\n"
     ]
    },
    {
     "name": "stderr",
     "output_type": "stream",
     "text": [
      "[WDM] - Current google-chrome version is 85.0.4183\n",
      "[WDM] - Get LATEST driver version for 85.0.4183\n",
      "[WDM] - Driver [/Users/jasenlo/.wdm/drivers/chromedriver/mac64/85.0.4183.87/chromedriver] found in cache\n"
     ]
    },
    {
     "name": "stdout",
     "output_type": "stream",
     "text": [
      " \n",
      "http://airbnb.com/rooms/20982829?check_in=2021-01-01&check_out=2021-04-30&previous_page_section_name=1000&display_extensions%5B%5D=MONTHLY_STAYS&display_extensions%5B%5D=DATED_LTS&federated_search_id=a32e6a1c-db7a-44d8-869c-f862d1371397\n"
     ]
    },
    {
     "name": "stderr",
     "output_type": "stream",
     "text": [
      "[WDM] - Current google-chrome version is 85.0.4183\n",
      "[WDM] - Get LATEST driver version for 85.0.4183\n",
      "[WDM] - Driver [/Users/jasenlo/.wdm/drivers/chromedriver/mac64/85.0.4183.87/chromedriver] found in cache\n"
     ]
    },
    {
     "name": "stdout",
     "output_type": "stream",
     "text": [
      " \n",
      "http://airbnb.com/rooms/43343444?check_in=2021-01-01&check_out=2021-04-30&previous_page_section_name=1000&display_extensions%5B%5D=MONTHLY_STAYS&display_extensions%5B%5D=DATED_LTS&federated_search_id=a32e6a1c-db7a-44d8-869c-f862d1371397\n"
     ]
    },
    {
     "name": "stderr",
     "output_type": "stream",
     "text": [
      "[WDM] - Current google-chrome version is 85.0.4183\n",
      "[WDM] - Get LATEST driver version for 85.0.4183\n",
      "[WDM] - Driver [/Users/jasenlo/.wdm/drivers/chromedriver/mac64/85.0.4183.87/chromedriver] found in cache\n"
     ]
    },
    {
     "name": "stdout",
     "output_type": "stream",
     "text": [
      " \n",
      "http://airbnb.com/rooms/29187434?check_in=2021-01-01&check_out=2021-04-30&previous_page_section_name=1000&display_extensions%5B%5D=MONTHLY_STAYS&display_extensions%5B%5D=DATED_LTS&federated_search_id=a32e6a1c-db7a-44d8-869c-f862d1371397\n"
     ]
    },
    {
     "name": "stderr",
     "output_type": "stream",
     "text": [
      "[WDM] - Current google-chrome version is 85.0.4183\n",
      "[WDM] - Get LATEST driver version for 85.0.4183\n",
      "[WDM] - Driver [/Users/jasenlo/.wdm/drivers/chromedriver/mac64/85.0.4183.87/chromedriver] found in cache\n"
     ]
    },
    {
     "name": "stdout",
     "output_type": "stream",
     "text": [
      " \n",
      "http://airbnb.com/rooms/8498961?check_in=2021-01-01&check_out=2021-04-30&previous_page_section_name=1000&display_extensions%5B%5D=MONTHLY_STAYS&display_extensions%5B%5D=DATED_LTS&federated_search_id=a32e6a1c-db7a-44d8-869c-f862d1371397\n"
     ]
    },
    {
     "name": "stderr",
     "output_type": "stream",
     "text": [
      "[WDM] - Current google-chrome version is 85.0.4183\n",
      "[WDM] - Get LATEST driver version for 85.0.4183\n",
      "[WDM] - Driver [/Users/jasenlo/.wdm/drivers/chromedriver/mac64/85.0.4183.87/chromedriver] found in cache\n"
     ]
    },
    {
     "name": "stdout",
     "output_type": "stream",
     "text": [
      " \n",
      "http://airbnb.com/rooms/13392547?check_in=2021-01-01&check_out=2021-04-30&previous_page_section_name=1000&display_extensions%5B%5D=MONTHLY_STAYS&display_extensions%5B%5D=DATED_LTS&federated_search_id=a32e6a1c-db7a-44d8-869c-f862d1371397\n"
     ]
    },
    {
     "name": "stderr",
     "output_type": "stream",
     "text": [
      "[WDM] - Current google-chrome version is 85.0.4183\n",
      "[WDM] - Get LATEST driver version for 85.0.4183\n",
      "[WDM] - Driver [/Users/jasenlo/.wdm/drivers/chromedriver/mac64/85.0.4183.87/chromedriver] found in cache\n"
     ]
    },
    {
     "name": "stdout",
     "output_type": "stream",
     "text": [
      " \n",
      "http://airbnb.com/rooms/2274379?check_in=2021-01-01&check_out=2021-04-30&previous_page_section_name=1000&display_extensions%5B%5D=MONTHLY_STAYS&display_extensions%5B%5D=DATED_LTS&federated_search_id=a32e6a1c-db7a-44d8-869c-f862d1371397\n"
     ]
    },
    {
     "name": "stderr",
     "output_type": "stream",
     "text": [
      "[WDM] - Current google-chrome version is 85.0.4183\n",
      "[WDM] - Get LATEST driver version for 85.0.4183\n",
      "[WDM] - Driver [/Users/jasenlo/.wdm/drivers/chromedriver/mac64/85.0.4183.87/chromedriver] found in cache\n"
     ]
    },
    {
     "name": "stdout",
     "output_type": "stream",
     "text": [
      " \n",
      "http://airbnb.com/rooms/35000838?check_in=2021-01-01&check_out=2021-04-30&previous_page_section_name=1000&display_extensions%5B%5D=MONTHLY_STAYS&display_extensions%5B%5D=DATED_LTS&federated_search_id=571ad6ae-1069-4fe1-ae10-582f1a9a82fd\n"
     ]
    },
    {
     "name": "stderr",
     "output_type": "stream",
     "text": [
      "[WDM] - Current google-chrome version is 85.0.4183\n",
      "[WDM] - Get LATEST driver version for 85.0.4183\n",
      "[WDM] - Driver [/Users/jasenlo/.wdm/drivers/chromedriver/mac64/85.0.4183.87/chromedriver] found in cache\n"
     ]
    },
    {
     "name": "stdout",
     "output_type": "stream",
     "text": [
      " \n",
      "http://airbnb.com/rooms/2274379?check_in=2021-01-01&check_out=2021-04-30&previous_page_section_name=1000&display_extensions%5B%5D=MONTHLY_STAYS&display_extensions%5B%5D=DATED_LTS&federated_search_id=571ad6ae-1069-4fe1-ae10-582f1a9a82fd\n"
     ]
    },
    {
     "name": "stderr",
     "output_type": "stream",
     "text": [
      "[WDM] - Current google-chrome version is 85.0.4183\n",
      "[WDM] - Get LATEST driver version for 85.0.4183\n",
      "[WDM] - Driver [/Users/jasenlo/.wdm/drivers/chromedriver/mac64/85.0.4183.87/chromedriver] found in cache\n"
     ]
    },
    {
     "name": "stdout",
     "output_type": "stream",
     "text": [
      " \n",
      "http://airbnb.com/rooms/21181879?check_in=2021-01-01&check_out=2021-04-30&previous_page_section_name=1000&display_extensions%5B%5D=MONTHLY_STAYS&display_extensions%5B%5D=DATED_LTS&federated_search_id=571ad6ae-1069-4fe1-ae10-582f1a9a82fd\n"
     ]
    },
    {
     "name": "stderr",
     "output_type": "stream",
     "text": [
      "[WDM] - Current google-chrome version is 85.0.4183\n",
      "[WDM] - Get LATEST driver version for 85.0.4183\n",
      "[WDM] - Driver [/Users/jasenlo/.wdm/drivers/chromedriver/mac64/85.0.4183.87/chromedriver] found in cache\n"
     ]
    },
    {
     "name": "stdout",
     "output_type": "stream",
     "text": [
      " \n",
      "http://airbnb.com/rooms/19946183?check_in=2021-01-01&check_out=2021-04-30&previous_page_section_name=1000&display_extensions%5B%5D=MONTHLY_STAYS&display_extensions%5B%5D=DATED_LTS&federated_search_id=571ad6ae-1069-4fe1-ae10-582f1a9a82fd\n"
     ]
    },
    {
     "name": "stderr",
     "output_type": "stream",
     "text": [
      "[WDM] - Current google-chrome version is 85.0.4183\n",
      "[WDM] - Get LATEST driver version for 85.0.4183\n",
      "[WDM] - Driver [/Users/jasenlo/.wdm/drivers/chromedriver/mac64/85.0.4183.87/chromedriver] found in cache\n"
     ]
    },
    {
     "name": "stdout",
     "output_type": "stream",
     "text": [
      " \n",
      "http://airbnb.com/rooms/25201511?check_in=2021-01-01&check_out=2021-04-30&previous_page_section_name=1000&display_extensions%5B%5D=MONTHLY_STAYS&display_extensions%5B%5D=DATED_LTS&federated_search_id=571ad6ae-1069-4fe1-ae10-582f1a9a82fd\n"
     ]
    },
    {
     "name": "stderr",
     "output_type": "stream",
     "text": [
      "[WDM] - Current google-chrome version is 85.0.4183\n",
      "[WDM] - Get LATEST driver version for 85.0.4183\n",
      "[WDM] - Driver [/Users/jasenlo/.wdm/drivers/chromedriver/mac64/85.0.4183.87/chromedriver] found in cache\n"
     ]
    },
    {
     "name": "stdout",
     "output_type": "stream",
     "text": [
      " \n",
      "http://airbnb.com/rooms/32061180?check_in=2021-01-01&check_out=2021-04-30&previous_page_section_name=1000&display_extensions%5B%5D=MONTHLY_STAYS&display_extensions%5B%5D=DATED_LTS&federated_search_id=571ad6ae-1069-4fe1-ae10-582f1a9a82fd\n"
     ]
    },
    {
     "name": "stderr",
     "output_type": "stream",
     "text": [
      "[WDM] - Current google-chrome version is 85.0.4183\n",
      "[WDM] - Get LATEST driver version for 85.0.4183\n",
      "[WDM] - Driver [/Users/jasenlo/.wdm/drivers/chromedriver/mac64/85.0.4183.87/chromedriver] found in cache\n"
     ]
    },
    {
     "name": "stdout",
     "output_type": "stream",
     "text": [
      " \n",
      "http://airbnb.com/rooms/13799628?check_in=2021-01-01&check_out=2021-04-30&previous_page_section_name=1000&display_extensions%5B%5D=MONTHLY_STAYS&display_extensions%5B%5D=DATED_LTS&federated_search_id=571ad6ae-1069-4fe1-ae10-582f1a9a82fd\n"
     ]
    },
    {
     "name": "stderr",
     "output_type": "stream",
     "text": [
      "[WDM] - Current google-chrome version is 85.0.4183\n",
      "[WDM] - Get LATEST driver version for 85.0.4183\n",
      "[WDM] - Driver [/Users/jasenlo/.wdm/drivers/chromedriver/mac64/85.0.4183.87/chromedriver] found in cache\n"
     ]
    },
    {
     "name": "stdout",
     "output_type": "stream",
     "text": [
      " \n",
      "http://airbnb.com/rooms/30936697?check_in=2021-01-01&check_out=2021-04-30&previous_page_section_name=1000&display_extensions%5B%5D=MONTHLY_STAYS&display_extensions%5B%5D=DATED_LTS&federated_search_id=571ad6ae-1069-4fe1-ae10-582f1a9a82fd\n"
     ]
    },
    {
     "name": "stderr",
     "output_type": "stream",
     "text": [
      "[WDM] - Current google-chrome version is 85.0.4183\n",
      "[WDM] - Get LATEST driver version for 85.0.4183\n",
      "[WDM] - Driver [/Users/jasenlo/.wdm/drivers/chromedriver/mac64/85.0.4183.87/chromedriver] found in cache\n"
     ]
    },
    {
     "name": "stdout",
     "output_type": "stream",
     "text": [
      " \n",
      "http://airbnb.com/rooms/38875696?check_in=2021-01-01&check_out=2021-04-30&previous_page_section_name=1000&display_extensions%5B%5D=MONTHLY_STAYS&display_extensions%5B%5D=DATED_LTS&federated_search_id=571ad6ae-1069-4fe1-ae10-582f1a9a82fd\n"
     ]
    },
    {
     "name": "stderr",
     "output_type": "stream",
     "text": [
      "[WDM] - Current google-chrome version is 85.0.4183\n",
      "[WDM] - Get LATEST driver version for 85.0.4183\n",
      "[WDM] - Driver [/Users/jasenlo/.wdm/drivers/chromedriver/mac64/85.0.4183.87/chromedriver] found in cache\n"
     ]
    },
    {
     "name": "stdout",
     "output_type": "stream",
     "text": [
      " \n",
      "http://airbnb.com/rooms/30935383?check_in=2021-01-01&check_out=2021-04-30&previous_page_section_name=1000&display_extensions%5B%5D=MONTHLY_STAYS&display_extensions%5B%5D=DATED_LTS&federated_search_id=571ad6ae-1069-4fe1-ae10-582f1a9a82fd\n"
     ]
    },
    {
     "name": "stderr",
     "output_type": "stream",
     "text": [
      "[WDM] - Current google-chrome version is 85.0.4183\n",
      "[WDM] - Get LATEST driver version for 85.0.4183\n",
      "[WDM] - Driver [/Users/jasenlo/.wdm/drivers/chromedriver/mac64/85.0.4183.87/chromedriver] found in cache\n"
     ]
    },
    {
     "name": "stdout",
     "output_type": "stream",
     "text": [
      " \n",
      "http://airbnb.com/rooms/29515131?check_in=2021-01-01&check_out=2021-04-30&previous_page_section_name=1000&display_extensions%5B%5D=MONTHLY_STAYS&display_extensions%5B%5D=DATED_LTS&federated_search_id=571ad6ae-1069-4fe1-ae10-582f1a9a82fd\n"
     ]
    },
    {
     "name": "stderr",
     "output_type": "stream",
     "text": [
      "[WDM] - Current google-chrome version is 85.0.4183\n",
      "[WDM] - Get LATEST driver version for 85.0.4183\n",
      "[WDM] - Driver [/Users/jasenlo/.wdm/drivers/chromedriver/mac64/85.0.4183.87/chromedriver] found in cache\n"
     ]
    },
    {
     "name": "stdout",
     "output_type": "stream",
     "text": [
      " \n",
      "http://airbnb.com/rooms/27737921?check_in=2021-01-01&check_out=2021-04-30&previous_page_section_name=1000&display_extensions%5B%5D=MONTHLY_STAYS&display_extensions%5B%5D=DATED_LTS&federated_search_id=571ad6ae-1069-4fe1-ae10-582f1a9a82fd\n"
     ]
    },
    {
     "name": "stderr",
     "output_type": "stream",
     "text": [
      "[WDM] - Current google-chrome version is 85.0.4183\n",
      "[WDM] - Get LATEST driver version for 85.0.4183\n",
      "[WDM] - Driver [/Users/jasenlo/.wdm/drivers/chromedriver/mac64/85.0.4183.87/chromedriver] found in cache\n"
     ]
    },
    {
     "name": "stdout",
     "output_type": "stream",
     "text": [
      " \n",
      "http://airbnb.com/rooms/6113282?check_in=2021-01-01&check_out=2021-04-30&previous_page_section_name=1000&display_extensions%5B%5D=MONTHLY_STAYS&display_extensions%5B%5D=DATED_LTS&federated_search_id=571ad6ae-1069-4fe1-ae10-582f1a9a82fd\n"
     ]
    },
    {
     "name": "stderr",
     "output_type": "stream",
     "text": [
      "[WDM] - Current google-chrome version is 85.0.4183\n",
      "[WDM] - Get LATEST driver version for 85.0.4183\n",
      "[WDM] - Driver [/Users/jasenlo/.wdm/drivers/chromedriver/mac64/85.0.4183.87/chromedriver] found in cache\n"
     ]
    },
    {
     "name": "stdout",
     "output_type": "stream",
     "text": [
      " \n",
      "http://airbnb.com/rooms/855440?check_in=2021-01-01&check_out=2021-04-30&previous_page_section_name=1000&display_extensions%5B%5D=MONTHLY_STAYS&display_extensions%5B%5D=DATED_LTS&federated_search_id=571ad6ae-1069-4fe1-ae10-582f1a9a82fd\n"
     ]
    },
    {
     "name": "stderr",
     "output_type": "stream",
     "text": [
      "[WDM] - Current google-chrome version is 85.0.4183\n",
      "[WDM] - Get LATEST driver version for 85.0.4183\n",
      "[WDM] - Driver [/Users/jasenlo/.wdm/drivers/chromedriver/mac64/85.0.4183.87/chromedriver] found in cache\n"
     ]
    },
    {
     "name": "stdout",
     "output_type": "stream",
     "text": [
      " \n",
      "http://airbnb.com/rooms/966084?check_in=2021-01-01&check_out=2021-04-30&previous_page_section_name=1000&display_extensions%5B%5D=MONTHLY_STAYS&display_extensions%5B%5D=DATED_LTS&federated_search_id=571ad6ae-1069-4fe1-ae10-582f1a9a82fd\n"
     ]
    },
    {
     "name": "stderr",
     "output_type": "stream",
     "text": [
      "[WDM] - Current google-chrome version is 85.0.4183\n",
      "[WDM] - Get LATEST driver version for 85.0.4183\n",
      "[WDM] - Driver [/Users/jasenlo/.wdm/drivers/chromedriver/mac64/85.0.4183.87/chromedriver] found in cache\n"
     ]
    },
    {
     "name": "stdout",
     "output_type": "stream",
     "text": [
      " \n",
      "http://airbnb.com/rooms/43084875?check_in=2021-01-01&check_out=2021-04-30&previous_page_section_name=1000&display_extensions%5B%5D=MONTHLY_STAYS&display_extensions%5B%5D=DATED_LTS&federated_search_id=571ad6ae-1069-4fe1-ae10-582f1a9a82fd\n"
     ]
    },
    {
     "name": "stderr",
     "output_type": "stream",
     "text": [
      "[WDM] - Current google-chrome version is 85.0.4183\n",
      "[WDM] - Get LATEST driver version for 85.0.4183\n",
      "[WDM] - Driver [/Users/jasenlo/.wdm/drivers/chromedriver/mac64/85.0.4183.87/chromedriver] found in cache\n"
     ]
    },
    {
     "name": "stdout",
     "output_type": "stream",
     "text": [
      " \n",
      "http://airbnb.com/rooms/24152941?check_in=2021-01-01&check_out=2021-04-30&previous_page_section_name=1000&display_extensions%5B%5D=MONTHLY_STAYS&display_extensions%5B%5D=DATED_LTS&federated_search_id=571ad6ae-1069-4fe1-ae10-582f1a9a82fd\n"
     ]
    },
    {
     "name": "stderr",
     "output_type": "stream",
     "text": [
      "[WDM] - Current google-chrome version is 85.0.4183\n",
      "[WDM] - Get LATEST driver version for 85.0.4183\n",
      "[WDM] - Driver [/Users/jasenlo/.wdm/drivers/chromedriver/mac64/85.0.4183.87/chromedriver] found in cache\n"
     ]
    },
    {
     "name": "stdout",
     "output_type": "stream",
     "text": [
      " \n",
      "http://airbnb.com/rooms/6029502?check_in=2021-01-01&check_out=2021-04-30&previous_page_section_name=1000&display_extensions%5B%5D=MONTHLY_STAYS&display_extensions%5B%5D=DATED_LTS&federated_search_id=571ad6ae-1069-4fe1-ae10-582f1a9a82fd\n"
     ]
    },
    {
     "name": "stderr",
     "output_type": "stream",
     "text": [
      "[WDM] - Current google-chrome version is 85.0.4183\n",
      "[WDM] - Get LATEST driver version for 85.0.4183\n",
      "[WDM] - Driver [/Users/jasenlo/.wdm/drivers/chromedriver/mac64/85.0.4183.87/chromedriver] found in cache\n"
     ]
    },
    {
     "name": "stdout",
     "output_type": "stream",
     "text": [
      " \n",
      "http://airbnb.com/rooms/31541414?check_in=2021-01-01&check_out=2021-04-30&previous_page_section_name=1000&display_extensions%5B%5D=MONTHLY_STAYS&display_extensions%5B%5D=DATED_LTS&federated_search_id=571ad6ae-1069-4fe1-ae10-582f1a9a82fd\n"
     ]
    },
    {
     "name": "stderr",
     "output_type": "stream",
     "text": [
      "[WDM] - Current google-chrome version is 85.0.4183\n",
      "[WDM] - Get LATEST driver version for 85.0.4183\n",
      "[WDM] - Driver [/Users/jasenlo/.wdm/drivers/chromedriver/mac64/85.0.4183.87/chromedriver] found in cache\n"
     ]
    },
    {
     "name": "stdout",
     "output_type": "stream",
     "text": [
      " \n",
      "http://airbnb.com/rooms/28284820?check_in=2021-01-01&check_out=2021-04-30&previous_page_section_name=1000&display_extensions%5B%5D=MONTHLY_STAYS&display_extensions%5B%5D=DATED_LTS&federated_search_id=571ad6ae-1069-4fe1-ae10-582f1a9a82fd\n"
     ]
    },
    {
     "name": "stderr",
     "output_type": "stream",
     "text": [
      "[WDM] - Current google-chrome version is 85.0.4183\n",
      "[WDM] - Get LATEST driver version for 85.0.4183\n",
      "[WDM] - Driver [/Users/jasenlo/.wdm/drivers/chromedriver/mac64/85.0.4183.87/chromedriver] found in cache\n"
     ]
    },
    {
     "name": "stdout",
     "output_type": "stream",
     "text": [
      " \n",
      "http://airbnb.com/rooms/24152941?check_in=2021-01-01&check_out=2021-04-30&previous_page_section_name=1000&display_extensions%5B%5D=MONTHLY_STAYS&display_extensions%5B%5D=DATED_LTS&federated_search_id=89a21af9-362a-4716-9615-45e6dca9206b\n"
     ]
    },
    {
     "name": "stderr",
     "output_type": "stream",
     "text": [
      "[WDM] - Current google-chrome version is 85.0.4183\n",
      "[WDM] - Get LATEST driver version for 85.0.4183\n",
      "[WDM] - Driver [/Users/jasenlo/.wdm/drivers/chromedriver/mac64/85.0.4183.87/chromedriver] found in cache\n"
     ]
    },
    {
     "name": "stdout",
     "output_type": "stream",
     "text": [
      " \n",
      "http://airbnb.com/rooms/6029502?check_in=2021-01-01&check_out=2021-04-30&previous_page_section_name=1000&display_extensions%5B%5D=MONTHLY_STAYS&display_extensions%5B%5D=DATED_LTS&federated_search_id=89a21af9-362a-4716-9615-45e6dca9206b\n"
     ]
    },
    {
     "name": "stderr",
     "output_type": "stream",
     "text": [
      "[WDM] - Current google-chrome version is 85.0.4183\n",
      "[WDM] - Get LATEST driver version for 85.0.4183\n",
      "[WDM] - Driver [/Users/jasenlo/.wdm/drivers/chromedriver/mac64/85.0.4183.87/chromedriver] found in cache\n"
     ]
    },
    {
     "name": "stdout",
     "output_type": "stream",
     "text": [
      " \n",
      "http://airbnb.com/rooms/38104819?check_in=2021-01-01&check_out=2021-04-30&previous_page_section_name=1000&display_extensions%5B%5D=MONTHLY_STAYS&display_extensions%5B%5D=DATED_LTS&federated_search_id=89a21af9-362a-4716-9615-45e6dca9206b\n"
     ]
    },
    {
     "name": "stderr",
     "output_type": "stream",
     "text": [
      "[WDM] - Current google-chrome version is 85.0.4183\n",
      "[WDM] - Get LATEST driver version for 85.0.4183\n",
      "[WDM] - Driver [/Users/jasenlo/.wdm/drivers/chromedriver/mac64/85.0.4183.87/chromedriver] found in cache\n"
     ]
    },
    {
     "name": "stdout",
     "output_type": "stream",
     "text": [
      " \n",
      "http://airbnb.com/rooms/31484736?check_in=2021-01-01&check_out=2021-04-30&previous_page_section_name=1000&display_extensions%5B%5D=MONTHLY_STAYS&display_extensions%5B%5D=DATED_LTS&federated_search_id=89a21af9-362a-4716-9615-45e6dca9206b\n"
     ]
    },
    {
     "name": "stderr",
     "output_type": "stream",
     "text": [
      "[WDM] - Current google-chrome version is 85.0.4183\n",
      "[WDM] - Get LATEST driver version for 85.0.4183\n",
      "[WDM] - Driver [/Users/jasenlo/.wdm/drivers/chromedriver/mac64/85.0.4183.87/chromedriver] found in cache\n"
     ]
    },
    {
     "name": "stdout",
     "output_type": "stream",
     "text": [
      " \n",
      "http://airbnb.com/rooms/37323389?check_in=2021-01-01&check_out=2021-04-30&previous_page_section_name=1000&display_extensions%5B%5D=MONTHLY_STAYS&display_extensions%5B%5D=DATED_LTS&federated_search_id=89a21af9-362a-4716-9615-45e6dca9206b\n"
     ]
    },
    {
     "name": "stderr",
     "output_type": "stream",
     "text": [
      "[WDM] - Current google-chrome version is 85.0.4183\n",
      "[WDM] - Get LATEST driver version for 85.0.4183\n",
      "[WDM] - Driver [/Users/jasenlo/.wdm/drivers/chromedriver/mac64/85.0.4183.87/chromedriver] found in cache\n"
     ]
    },
    {
     "name": "stdout",
     "output_type": "stream",
     "text": [
      " \n",
      "http://airbnb.com/rooms/38898350?check_in=2021-01-01&check_out=2021-04-30&previous_page_section_name=1000&display_extensions%5B%5D=MONTHLY_STAYS&display_extensions%5B%5D=DATED_LTS&federated_search_id=89a21af9-362a-4716-9615-45e6dca9206b\n"
     ]
    },
    {
     "name": "stderr",
     "output_type": "stream",
     "text": [
      "[WDM] - Current google-chrome version is 85.0.4183\n",
      "[WDM] - Get LATEST driver version for 85.0.4183\n",
      "[WDM] - Driver [/Users/jasenlo/.wdm/drivers/chromedriver/mac64/85.0.4183.87/chromedriver] found in cache\n"
     ]
    },
    {
     "name": "stdout",
     "output_type": "stream",
     "text": [
      " \n",
      "http://airbnb.com/rooms/6887411?check_in=2021-01-01&check_out=2021-04-30&previous_page_section_name=1000&display_extensions%5B%5D=MONTHLY_STAYS&display_extensions%5B%5D=DATED_LTS&federated_search_id=89a21af9-362a-4716-9615-45e6dca9206b\n"
     ]
    },
    {
     "name": "stderr",
     "output_type": "stream",
     "text": [
      "[WDM] - Current google-chrome version is 85.0.4183\n",
      "[WDM] - Get LATEST driver version for 85.0.4183\n",
      "[WDM] - Driver [/Users/jasenlo/.wdm/drivers/chromedriver/mac64/85.0.4183.87/chromedriver] found in cache\n"
     ]
    },
    {
     "name": "stdout",
     "output_type": "stream",
     "text": [
      " \n",
      "http://airbnb.com/rooms/44486584?check_in=2021-01-01&check_out=2021-04-30&previous_page_section_name=1000&display_extensions%5B%5D=MONTHLY_STAYS&display_extensions%5B%5D=DATED_LTS&federated_search_id=89a21af9-362a-4716-9615-45e6dca9206b\n"
     ]
    },
    {
     "name": "stderr",
     "output_type": "stream",
     "text": [
      "[WDM] - Current google-chrome version is 85.0.4183\n",
      "[WDM] - Get LATEST driver version for 85.0.4183\n",
      "[WDM] - Driver [/Users/jasenlo/.wdm/drivers/chromedriver/mac64/85.0.4183.87/chromedriver] found in cache\n"
     ]
    },
    {
     "name": "stdout",
     "output_type": "stream",
     "text": [
      " \n",
      "http://airbnb.com/rooms/33212695?check_in=2021-01-01&check_out=2021-04-30&previous_page_section_name=1000&display_extensions%5B%5D=MONTHLY_STAYS&display_extensions%5B%5D=DATED_LTS&federated_search_id=89a21af9-362a-4716-9615-45e6dca9206b\n"
     ]
    },
    {
     "name": "stderr",
     "output_type": "stream",
     "text": [
      "[WDM] - Current google-chrome version is 85.0.4183\n",
      "[WDM] - Get LATEST driver version for 85.0.4183\n",
      "[WDM] - Driver [/Users/jasenlo/.wdm/drivers/chromedriver/mac64/85.0.4183.87/chromedriver] found in cache\n"
     ]
    },
    {
     "name": "stdout",
     "output_type": "stream",
     "text": [
      " \n",
      "http://airbnb.com/rooms/38771801?check_in=2021-01-01&check_out=2021-04-30&previous_page_section_name=1000&display_extensions%5B%5D=MONTHLY_STAYS&display_extensions%5B%5D=DATED_LTS&federated_search_id=89a21af9-362a-4716-9615-45e6dca9206b\n"
     ]
    },
    {
     "name": "stderr",
     "output_type": "stream",
     "text": [
      "[WDM] - Current google-chrome version is 85.0.4183\n",
      "[WDM] - Get LATEST driver version for 85.0.4183\n",
      "[WDM] - Driver [/Users/jasenlo/.wdm/drivers/chromedriver/mac64/85.0.4183.87/chromedriver] found in cache\n"
     ]
    },
    {
     "name": "stdout",
     "output_type": "stream",
     "text": [
      " \n",
      "http://airbnb.com/rooms/29947566?check_in=2021-01-01&check_out=2021-04-30&previous_page_section_name=1000&display_extensions%5B%5D=MONTHLY_STAYS&display_extensions%5B%5D=DATED_LTS&federated_search_id=89a21af9-362a-4716-9615-45e6dca9206b\n"
     ]
    },
    {
     "name": "stderr",
     "output_type": "stream",
     "text": [
      "[WDM] - Current google-chrome version is 85.0.4183\n",
      "[WDM] - Get LATEST driver version for 85.0.4183\n",
      "[WDM] - Driver [/Users/jasenlo/.wdm/drivers/chromedriver/mac64/85.0.4183.87/chromedriver] found in cache\n"
     ]
    },
    {
     "name": "stdout",
     "output_type": "stream",
     "text": [
      " \n",
      "http://airbnb.com/rooms/37595786?check_in=2021-01-01&check_out=2021-04-30&previous_page_section_name=1000&display_extensions%5B%5D=MONTHLY_STAYS&display_extensions%5B%5D=DATED_LTS&federated_search_id=89a21af9-362a-4716-9615-45e6dca9206b\n"
     ]
    },
    {
     "name": "stderr",
     "output_type": "stream",
     "text": [
      "[WDM] - Current google-chrome version is 85.0.4183\n",
      "[WDM] - Get LATEST driver version for 85.0.4183\n",
      "[WDM] - Driver [/Users/jasenlo/.wdm/drivers/chromedriver/mac64/85.0.4183.87/chromedriver] found in cache\n"
     ]
    },
    {
     "name": "stdout",
     "output_type": "stream",
     "text": [
      " \n",
      "http://airbnb.com/rooms/2101140?check_in=2021-01-01&check_out=2021-04-30&previous_page_section_name=1000&display_extensions%5B%5D=MONTHLY_STAYS&display_extensions%5B%5D=DATED_LTS&federated_search_id=89a21af9-362a-4716-9615-45e6dca9206b\n"
     ]
    },
    {
     "name": "stderr",
     "output_type": "stream",
     "text": [
      "[WDM] - Current google-chrome version is 85.0.4183\n",
      "[WDM] - Get LATEST driver version for 85.0.4183\n",
      "[WDM] - Driver [/Users/jasenlo/.wdm/drivers/chromedriver/mac64/85.0.4183.87/chromedriver] found in cache\n"
     ]
    },
    {
     "name": "stdout",
     "output_type": "stream",
     "text": [
      " \n",
      "http://airbnb.com/rooms/35702527?check_in=2021-01-01&check_out=2021-04-30&previous_page_section_name=1000&display_extensions%5B%5D=MONTHLY_STAYS&display_extensions%5B%5D=DATED_LTS&federated_search_id=89a21af9-362a-4716-9615-45e6dca9206b\n"
     ]
    },
    {
     "name": "stderr",
     "output_type": "stream",
     "text": [
      "[WDM] - Current google-chrome version is 85.0.4183\n",
      "[WDM] - Get LATEST driver version for 85.0.4183\n",
      "[WDM] - Driver [/Users/jasenlo/.wdm/drivers/chromedriver/mac64/85.0.4183.87/chromedriver] found in cache\n"
     ]
    },
    {
     "name": "stdout",
     "output_type": "stream",
     "text": [
      " \n",
      "http://airbnb.com/rooms/2014033?check_in=2021-01-01&check_out=2021-04-30&previous_page_section_name=1000&display_extensions%5B%5D=MONTHLY_STAYS&display_extensions%5B%5D=DATED_LTS&federated_search_id=89a21af9-362a-4716-9615-45e6dca9206b\n"
     ]
    },
    {
     "name": "stderr",
     "output_type": "stream",
     "text": [
      "[WDM] - Current google-chrome version is 85.0.4183\n",
      "[WDM] - Get LATEST driver version for 85.0.4183\n",
      "[WDM] - Driver [/Users/jasenlo/.wdm/drivers/chromedriver/mac64/85.0.4183.87/chromedriver] found in cache\n"
     ]
    },
    {
     "name": "stdout",
     "output_type": "stream",
     "text": [
      " \n",
      "http://airbnb.com/rooms/41577637?check_in=2021-01-01&check_out=2021-04-30&previous_page_section_name=1000&display_extensions%5B%5D=MONTHLY_STAYS&display_extensions%5B%5D=DATED_LTS&federated_search_id=89a21af9-362a-4716-9615-45e6dca9206b\n"
     ]
    },
    {
     "name": "stderr",
     "output_type": "stream",
     "text": [
      "[WDM] - Current google-chrome version is 85.0.4183\n",
      "[WDM] - Get LATEST driver version for 85.0.4183\n",
      "[WDM] - Driver [/Users/jasenlo/.wdm/drivers/chromedriver/mac64/85.0.4183.87/chromedriver] found in cache\n"
     ]
    },
    {
     "name": "stdout",
     "output_type": "stream",
     "text": [
      " \n",
      "http://airbnb.com/rooms/30712178?check_in=2021-01-01&check_out=2021-04-30&previous_page_section_name=1000&display_extensions%5B%5D=MONTHLY_STAYS&display_extensions%5B%5D=DATED_LTS&federated_search_id=89a21af9-362a-4716-9615-45e6dca9206b\n"
     ]
    },
    {
     "name": "stderr",
     "output_type": "stream",
     "text": [
      "[WDM] - Current google-chrome version is 85.0.4183\n",
      "[WDM] - Get LATEST driver version for 85.0.4183\n",
      "[WDM] - Driver [/Users/jasenlo/.wdm/drivers/chromedriver/mac64/85.0.4183.87/chromedriver] found in cache\n"
     ]
    },
    {
     "name": "stdout",
     "output_type": "stream",
     "text": [
      " \n",
      "http://airbnb.com/rooms/2189182?check_in=2021-01-01&check_out=2021-04-30&previous_page_section_name=1000&display_extensions%5B%5D=MONTHLY_STAYS&display_extensions%5B%5D=DATED_LTS&federated_search_id=89a21af9-362a-4716-9615-45e6dca9206b\n"
     ]
    },
    {
     "name": "stderr",
     "output_type": "stream",
     "text": [
      "[WDM] - Current google-chrome version is 85.0.4183\n",
      "[WDM] - Get LATEST driver version for 85.0.4183\n",
      "[WDM] - Driver [/Users/jasenlo/.wdm/drivers/chromedriver/mac64/85.0.4183.87/chromedriver] found in cache\n"
     ]
    },
    {
     "name": "stdout",
     "output_type": "stream",
     "text": [
      " \n",
      "http://airbnb.com/rooms/371898?check_in=2021-01-01&check_out=2021-04-30&previous_page_section_name=1000&display_extensions%5B%5D=MONTHLY_STAYS&display_extensions%5B%5D=DATED_LTS&federated_search_id=89a21af9-362a-4716-9615-45e6dca9206b\n"
     ]
    },
    {
     "name": "stderr",
     "output_type": "stream",
     "text": [
      "[WDM] - Current google-chrome version is 85.0.4183\n",
      "[WDM] - Get LATEST driver version for 85.0.4183\n",
      "[WDM] - Driver [/Users/jasenlo/.wdm/drivers/chromedriver/mac64/85.0.4183.87/chromedriver] found in cache\n"
     ]
    },
    {
     "name": "stdout",
     "output_type": "stream",
     "text": [
      " \n",
      "http://airbnb.com/rooms/43954517?check_in=2021-01-01&check_out=2021-04-30&previous_page_section_name=1000&display_extensions%5B%5D=MONTHLY_STAYS&display_extensions%5B%5D=DATED_LTS&federated_search_id=89a21af9-362a-4716-9615-45e6dca9206b\n"
     ]
    },
    {
     "name": "stderr",
     "output_type": "stream",
     "text": [
      "[WDM] - Current google-chrome version is 85.0.4183\n",
      "[WDM] - Get LATEST driver version for 85.0.4183\n",
      "[WDM] - Driver [/Users/jasenlo/.wdm/drivers/chromedriver/mac64/85.0.4183.87/chromedriver] found in cache\n"
     ]
    },
    {
     "name": "stdout",
     "output_type": "stream",
     "text": [
      " \n",
      "http://airbnb.com/rooms/31348109?check_in=2021-01-01&check_out=2021-04-30&previous_page_section_name=1000&display_extensions%5B%5D=MONTHLY_STAYS&display_extensions%5B%5D=DATED_LTS&federated_search_id=0a745b7d-1a60-44b6-b4f4-fbe0feacdaf9\n"
     ]
    },
    {
     "name": "stderr",
     "output_type": "stream",
     "text": [
      "[WDM] - Current google-chrome version is 85.0.4183\n",
      "[WDM] - Get LATEST driver version for 85.0.4183\n",
      "[WDM] - Driver [/Users/jasenlo/.wdm/drivers/chromedriver/mac64/85.0.4183.87/chromedriver] found in cache\n"
     ]
    },
    {
     "name": "stdout",
     "output_type": "stream",
     "text": [
      " \n",
      "http://airbnb.com/rooms/34372127?check_in=2021-01-01&check_out=2021-04-30&previous_page_section_name=1000&display_extensions%5B%5D=MONTHLY_STAYS&display_extensions%5B%5D=DATED_LTS&federated_search_id=0a745b7d-1a60-44b6-b4f4-fbe0feacdaf9\n"
     ]
    },
    {
     "name": "stderr",
     "output_type": "stream",
     "text": [
      "[WDM] - Current google-chrome version is 85.0.4183\n",
      "[WDM] - Get LATEST driver version for 85.0.4183\n",
      "[WDM] - Driver [/Users/jasenlo/.wdm/drivers/chromedriver/mac64/85.0.4183.87/chromedriver] found in cache\n"
     ]
    },
    {
     "name": "stdout",
     "output_type": "stream",
     "text": [
      " \n",
      "http://airbnb.com/rooms/34749622?check_in=2021-01-01&check_out=2021-04-30&previous_page_section_name=1000&display_extensions%5B%5D=MONTHLY_STAYS&display_extensions%5B%5D=DATED_LTS&federated_search_id=0a745b7d-1a60-44b6-b4f4-fbe0feacdaf9\n"
     ]
    },
    {
     "name": "stderr",
     "output_type": "stream",
     "text": [
      "[WDM] - Current google-chrome version is 85.0.4183\n",
      "[WDM] - Get LATEST driver version for 85.0.4183\n",
      "[WDM] - Driver [/Users/jasenlo/.wdm/drivers/chromedriver/mac64/85.0.4183.87/chromedriver] found in cache\n"
     ]
    },
    {
     "name": "stdout",
     "output_type": "stream",
     "text": [
      " \n",
      "http://airbnb.com/rooms/372086?check_in=2021-01-01&check_out=2021-04-30&previous_page_section_name=1000&display_extensions%5B%5D=MONTHLY_STAYS&display_extensions%5B%5D=DATED_LTS&federated_search_id=0a745b7d-1a60-44b6-b4f4-fbe0feacdaf9\n"
     ]
    },
    {
     "name": "stderr",
     "output_type": "stream",
     "text": [
      "[WDM] - Current google-chrome version is 85.0.4183\n",
      "[WDM] - Get LATEST driver version for 85.0.4183\n",
      "[WDM] - Driver [/Users/jasenlo/.wdm/drivers/chromedriver/mac64/85.0.4183.87/chromedriver] found in cache\n"
     ]
    },
    {
     "name": "stdout",
     "output_type": "stream",
     "text": [
      " \n",
      "http://airbnb.com/rooms/3811937?check_in=2021-01-01&check_out=2021-04-30&previous_page_section_name=1000&display_extensions%5B%5D=MONTHLY_STAYS&display_extensions%5B%5D=DATED_LTS&federated_search_id=0a745b7d-1a60-44b6-b4f4-fbe0feacdaf9\n"
     ]
    },
    {
     "name": "stderr",
     "output_type": "stream",
     "text": [
      "[WDM] - Current google-chrome version is 85.0.4183\n",
      "[WDM] - Get LATEST driver version for 85.0.4183\n",
      "[WDM] - Driver [/Users/jasenlo/.wdm/drivers/chromedriver/mac64/85.0.4183.87/chromedriver] found in cache\n"
     ]
    },
    {
     "name": "stdout",
     "output_type": "stream",
     "text": [
      " \n",
      "http://airbnb.com/rooms/27526449?check_in=2021-01-01&check_out=2021-04-30&previous_page_section_name=1000&display_extensions%5B%5D=MONTHLY_STAYS&display_extensions%5B%5D=DATED_LTS&federated_search_id=0a745b7d-1a60-44b6-b4f4-fbe0feacdaf9\n"
     ]
    },
    {
     "name": "stderr",
     "output_type": "stream",
     "text": [
      "[WDM] - Current google-chrome version is 85.0.4183\n",
      "[WDM] - Get LATEST driver version for 85.0.4183\n",
      "[WDM] - Driver [/Users/jasenlo/.wdm/drivers/chromedriver/mac64/85.0.4183.87/chromedriver] found in cache\n"
     ]
    },
    {
     "name": "stdout",
     "output_type": "stream",
     "text": [
      " \n",
      "http://airbnb.com/rooms/45269020?check_in=2021-01-01&check_out=2021-04-30&previous_page_section_name=1000&display_extensions%5B%5D=MONTHLY_STAYS&display_extensions%5B%5D=DATED_LTS&federated_search_id=0a745b7d-1a60-44b6-b4f4-fbe0feacdaf9\n"
     ]
    },
    {
     "name": "stderr",
     "output_type": "stream",
     "text": [
      "[WDM] - Current google-chrome version is 85.0.4183\n",
      "[WDM] - Get LATEST driver version for 85.0.4183\n",
      "[WDM] - Driver [/Users/jasenlo/.wdm/drivers/chromedriver/mac64/85.0.4183.87/chromedriver] found in cache\n"
     ]
    },
    {
     "name": "stdout",
     "output_type": "stream",
     "text": [
      " \n",
      "http://airbnb.com/rooms/41183724?check_in=2021-01-01&check_out=2021-04-30&previous_page_section_name=1000&display_extensions%5B%5D=MONTHLY_STAYS&display_extensions%5B%5D=DATED_LTS&federated_search_id=0a745b7d-1a60-44b6-b4f4-fbe0feacdaf9\n"
     ]
    },
    {
     "name": "stderr",
     "output_type": "stream",
     "text": [
      "[WDM] - Current google-chrome version is 85.0.4183\n",
      "[WDM] - Get LATEST driver version for 85.0.4183\n",
      "[WDM] - Driver [/Users/jasenlo/.wdm/drivers/chromedriver/mac64/85.0.4183.87/chromedriver] found in cache\n"
     ]
    },
    {
     "name": "stdout",
     "output_type": "stream",
     "text": [
      " \n",
      "http://airbnb.com/rooms/26461999?check_in=2021-01-01&check_out=2021-04-30&previous_page_section_name=1000&display_extensions%5B%5D=MONTHLY_STAYS&display_extensions%5B%5D=DATED_LTS&federated_search_id=0a745b7d-1a60-44b6-b4f4-fbe0feacdaf9\n"
     ]
    },
    {
     "name": "stderr",
     "output_type": "stream",
     "text": [
      "[WDM] - Current google-chrome version is 85.0.4183\n",
      "[WDM] - Get LATEST driver version for 85.0.4183\n",
      "[WDM] - Driver [/Users/jasenlo/.wdm/drivers/chromedriver/mac64/85.0.4183.87/chromedriver] found in cache\n"
     ]
    },
    {
     "name": "stdout",
     "output_type": "stream",
     "text": [
      " \n",
      "http://airbnb.com/rooms/654656?check_in=2021-01-01&check_out=2021-04-30&previous_page_section_name=1000&display_extensions%5B%5D=MONTHLY_STAYS&display_extensions%5B%5D=DATED_LTS&federated_search_id=0a745b7d-1a60-44b6-b4f4-fbe0feacdaf9\n"
     ]
    },
    {
     "name": "stderr",
     "output_type": "stream",
     "text": [
      "[WDM] - Current google-chrome version is 85.0.4183\n",
      "[WDM] - Get LATEST driver version for 85.0.4183\n",
      "[WDM] - Driver [/Users/jasenlo/.wdm/drivers/chromedriver/mac64/85.0.4183.87/chromedriver] found in cache\n"
     ]
    },
    {
     "name": "stdout",
     "output_type": "stream",
     "text": [
      " \n",
      "http://airbnb.com/rooms/40704487?check_in=2021-01-01&check_out=2021-04-30&previous_page_section_name=1000&display_extensions%5B%5D=MONTHLY_STAYS&display_extensions%5B%5D=DATED_LTS&federated_search_id=0a745b7d-1a60-44b6-b4f4-fbe0feacdaf9\n"
     ]
    },
    {
     "name": "stderr",
     "output_type": "stream",
     "text": [
      "[WDM] - Current google-chrome version is 85.0.4183\n",
      "[WDM] - Get LATEST driver version for 85.0.4183\n",
      "[WDM] - Driver [/Users/jasenlo/.wdm/drivers/chromedriver/mac64/85.0.4183.87/chromedriver] found in cache\n"
     ]
    },
    {
     "name": "stdout",
     "output_type": "stream",
     "text": [
      " \n",
      "http://airbnb.com/rooms/38638290?check_in=2021-01-01&check_out=2021-04-30&previous_page_section_name=1000&display_extensions%5B%5D=MONTHLY_STAYS&display_extensions%5B%5D=DATED_LTS&federated_search_id=0a745b7d-1a60-44b6-b4f4-fbe0feacdaf9\n"
     ]
    },
    {
     "name": "stderr",
     "output_type": "stream",
     "text": [
      "[WDM] - Current google-chrome version is 85.0.4183\n",
      "[WDM] - Get LATEST driver version for 85.0.4183\n",
      "[WDM] - Driver [/Users/jasenlo/.wdm/drivers/chromedriver/mac64/85.0.4183.87/chromedriver] found in cache\n"
     ]
    },
    {
     "name": "stdout",
     "output_type": "stream",
     "text": [
      " \n",
      "http://airbnb.com/rooms/33992810?check_in=2021-01-01&check_out=2021-04-30&previous_page_section_name=1000&display_extensions%5B%5D=MONTHLY_STAYS&display_extensions%5B%5D=DATED_LTS&federated_search_id=0a745b7d-1a60-44b6-b4f4-fbe0feacdaf9\n"
     ]
    },
    {
     "name": "stderr",
     "output_type": "stream",
     "text": [
      "[WDM] - Current google-chrome version is 85.0.4183\n",
      "[WDM] - Get LATEST driver version for 85.0.4183\n",
      "[WDM] - Driver [/Users/jasenlo/.wdm/drivers/chromedriver/mac64/85.0.4183.87/chromedriver] found in cache\n"
     ]
    },
    {
     "name": "stdout",
     "output_type": "stream",
     "text": [
      " \n",
      "http://airbnb.com/rooms/19608019?check_in=2021-01-01&check_out=2021-04-30&previous_page_section_name=1000&display_extensions%5B%5D=MONTHLY_STAYS&display_extensions%5B%5D=DATED_LTS&federated_search_id=0a745b7d-1a60-44b6-b4f4-fbe0feacdaf9\n"
     ]
    },
    {
     "name": "stderr",
     "output_type": "stream",
     "text": [
      "[WDM] - Current google-chrome version is 85.0.4183\n",
      "[WDM] - Get LATEST driver version for 85.0.4183\n",
      "[WDM] - Driver [/Users/jasenlo/.wdm/drivers/chromedriver/mac64/85.0.4183.87/chromedriver] found in cache\n"
     ]
    },
    {
     "name": "stdout",
     "output_type": "stream",
     "text": [
      " \n",
      "http://airbnb.com/rooms/28258298?check_in=2021-01-01&check_out=2021-04-30&previous_page_section_name=1000&display_extensions%5B%5D=MONTHLY_STAYS&display_extensions%5B%5D=DATED_LTS&federated_search_id=0a745b7d-1a60-44b6-b4f4-fbe0feacdaf9\n"
     ]
    },
    {
     "name": "stderr",
     "output_type": "stream",
     "text": [
      "[WDM] - Current google-chrome version is 85.0.4183\n",
      "[WDM] - Get LATEST driver version for 85.0.4183\n",
      "[WDM] - Driver [/Users/jasenlo/.wdm/drivers/chromedriver/mac64/85.0.4183.87/chromedriver] found in cache\n"
     ]
    },
    {
     "name": "stdout",
     "output_type": "stream",
     "text": [
      " \n",
      "http://airbnb.com/rooms/37527694?check_in=2021-01-01&check_out=2021-04-30&previous_page_section_name=1000&display_extensions%5B%5D=MONTHLY_STAYS&display_extensions%5B%5D=DATED_LTS&federated_search_id=0a745b7d-1a60-44b6-b4f4-fbe0feacdaf9\n"
     ]
    },
    {
     "name": "stderr",
     "output_type": "stream",
     "text": [
      "[WDM] - Current google-chrome version is 85.0.4183\n",
      "[WDM] - Get LATEST driver version for 85.0.4183\n",
      "[WDM] - Driver [/Users/jasenlo/.wdm/drivers/chromedriver/mac64/85.0.4183.87/chromedriver] found in cache\n"
     ]
    },
    {
     "name": "stdout",
     "output_type": "stream",
     "text": [
      " \n",
      "http://airbnb.com/rooms/25507101?check_in=2021-01-01&check_out=2021-04-30&previous_page_section_name=1000&display_extensions%5B%5D=MONTHLY_STAYS&display_extensions%5B%5D=DATED_LTS&federated_search_id=0a745b7d-1a60-44b6-b4f4-fbe0feacdaf9\n"
     ]
    },
    {
     "name": "stderr",
     "output_type": "stream",
     "text": [
      "[WDM] - Current google-chrome version is 85.0.4183\n",
      "[WDM] - Get LATEST driver version for 85.0.4183\n",
      "[WDM] - Driver [/Users/jasenlo/.wdm/drivers/chromedriver/mac64/85.0.4183.87/chromedriver] found in cache\n"
     ]
    },
    {
     "name": "stdout",
     "output_type": "stream",
     "text": [
      " \n",
      "http://airbnb.com/rooms/30287825?check_in=2021-01-01&check_out=2021-04-30&previous_page_section_name=1000&display_extensions%5B%5D=MONTHLY_STAYS&display_extensions%5B%5D=DATED_LTS&federated_search_id=0a745b7d-1a60-44b6-b4f4-fbe0feacdaf9\n"
     ]
    },
    {
     "name": "stderr",
     "output_type": "stream",
     "text": [
      "[WDM] - Current google-chrome version is 85.0.4183\n",
      "[WDM] - Get LATEST driver version for 85.0.4183\n",
      "[WDM] - Driver [/Users/jasenlo/.wdm/drivers/chromedriver/mac64/85.0.4183.87/chromedriver] found in cache\n"
     ]
    },
    {
     "name": "stdout",
     "output_type": "stream",
     "text": [
      " \n",
      "http://airbnb.com/rooms/30673118?check_in=2021-01-01&check_out=2021-04-30&previous_page_section_name=1000&display_extensions%5B%5D=MONTHLY_STAYS&display_extensions%5B%5D=DATED_LTS&federated_search_id=0a745b7d-1a60-44b6-b4f4-fbe0feacdaf9\n"
     ]
    },
    {
     "name": "stderr",
     "output_type": "stream",
     "text": [
      "[WDM] - Current google-chrome version is 85.0.4183\n",
      "[WDM] - Get LATEST driver version for 85.0.4183\n",
      "[WDM] - Driver [/Users/jasenlo/.wdm/drivers/chromedriver/mac64/85.0.4183.87/chromedriver] found in cache\n"
     ]
    },
    {
     "name": "stdout",
     "output_type": "stream",
     "text": [
      " \n",
      "http://airbnb.com/rooms/36267076?check_in=2021-01-01&check_out=2021-04-30&previous_page_section_name=1000&display_extensions%5B%5D=MONTHLY_STAYS&display_extensions%5B%5D=DATED_LTS&federated_search_id=0a745b7d-1a60-44b6-b4f4-fbe0feacdaf9\n"
     ]
    },
    {
     "name": "stderr",
     "output_type": "stream",
     "text": [
      "[WDM] - Current google-chrome version is 85.0.4183\n",
      "[WDM] - Get LATEST driver version for 85.0.4183\n",
      "[WDM] - Driver [/Users/jasenlo/.wdm/drivers/chromedriver/mac64/85.0.4183.87/chromedriver] found in cache\n"
     ]
    },
    {
     "name": "stdout",
     "output_type": "stream",
     "text": [
      " \n",
      "http://airbnb.com/rooms/31683314?check_in=2021-01-01&check_out=2021-04-30&previous_page_section_name=1000&display_extensions%5B%5D=MONTHLY_STAYS&display_extensions%5B%5D=DATED_LTS&federated_search_id=04df6cf7-9644-4943-bc07-09cf11a3a890\n"
     ]
    },
    {
     "name": "stderr",
     "output_type": "stream",
     "text": [
      "[WDM] - Current google-chrome version is 85.0.4183\n",
      "[WDM] - Get LATEST driver version for 85.0.4183\n",
      "[WDM] - Driver [/Users/jasenlo/.wdm/drivers/chromedriver/mac64/85.0.4183.87/chromedriver] found in cache\n"
     ]
    },
    {
     "name": "stdout",
     "output_type": "stream",
     "text": [
      " \n",
      "http://airbnb.com/rooms/42349197?check_in=2021-01-01&check_out=2021-04-30&previous_page_section_name=1000&display_extensions%5B%5D=MONTHLY_STAYS&display_extensions%5B%5D=DATED_LTS&federated_search_id=04df6cf7-9644-4943-bc07-09cf11a3a890\n"
     ]
    },
    {
     "name": "stderr",
     "output_type": "stream",
     "text": [
      "[WDM] - Current google-chrome version is 85.0.4183\n",
      "[WDM] - Get LATEST driver version for 85.0.4183\n",
      "[WDM] - Driver [/Users/jasenlo/.wdm/drivers/chromedriver/mac64/85.0.4183.87/chromedriver] found in cache\n"
     ]
    },
    {
     "name": "stdout",
     "output_type": "stream",
     "text": [
      " \n",
      "http://airbnb.com/rooms/12628189?check_in=2021-01-01&check_out=2021-04-30&previous_page_section_name=1000&display_extensions%5B%5D=MONTHLY_STAYS&display_extensions%5B%5D=DATED_LTS&federated_search_id=04df6cf7-9644-4943-bc07-09cf11a3a890\n"
     ]
    },
    {
     "name": "stderr",
     "output_type": "stream",
     "text": [
      "[WDM] - Current google-chrome version is 85.0.4183\n",
      "[WDM] - Get LATEST driver version for 85.0.4183\n",
      "[WDM] - Driver [/Users/jasenlo/.wdm/drivers/chromedriver/mac64/85.0.4183.87/chromedriver] found in cache\n"
     ]
    },
    {
     "name": "stdout",
     "output_type": "stream",
     "text": [
      " \n",
      "http://airbnb.com/rooms/18549365?check_in=2021-01-01&check_out=2021-04-30&previous_page_section_name=1000&display_extensions%5B%5D=MONTHLY_STAYS&display_extensions%5B%5D=DATED_LTS&federated_search_id=04df6cf7-9644-4943-bc07-09cf11a3a890\n"
     ]
    },
    {
     "name": "stderr",
     "output_type": "stream",
     "text": [
      "[WDM] - Current google-chrome version is 85.0.4183\n",
      "[WDM] - Get LATEST driver version for 85.0.4183\n",
      "[WDM] - Driver [/Users/jasenlo/.wdm/drivers/chromedriver/mac64/85.0.4183.87/chromedriver] found in cache\n"
     ]
    },
    {
     "name": "stdout",
     "output_type": "stream",
     "text": [
      " \n",
      "http://airbnb.com/rooms/40152275?check_in=2021-01-01&check_out=2021-04-30&previous_page_section_name=1000&display_extensions%5B%5D=MONTHLY_STAYS&display_extensions%5B%5D=DATED_LTS&federated_search_id=04df6cf7-9644-4943-bc07-09cf11a3a890\n"
     ]
    },
    {
     "name": "stderr",
     "output_type": "stream",
     "text": [
      "[WDM] - Current google-chrome version is 85.0.4183\n",
      "[WDM] - Get LATEST driver version for 85.0.4183\n",
      "[WDM] - Driver [/Users/jasenlo/.wdm/drivers/chromedriver/mac64/85.0.4183.87/chromedriver] found in cache\n"
     ]
    },
    {
     "name": "stdout",
     "output_type": "stream",
     "text": [
      " \n",
      "http://airbnb.com/rooms/39627426?check_in=2021-01-01&check_out=2021-04-30&previous_page_section_name=1000&display_extensions%5B%5D=MONTHLY_STAYS&display_extensions%5B%5D=DATED_LTS&federated_search_id=04df6cf7-9644-4943-bc07-09cf11a3a890\n"
     ]
    },
    {
     "name": "stderr",
     "output_type": "stream",
     "text": [
      "[WDM] - Current google-chrome version is 85.0.4183\n",
      "[WDM] - Get LATEST driver version for 85.0.4183\n",
      "[WDM] - Driver [/Users/jasenlo/.wdm/drivers/chromedriver/mac64/85.0.4183.87/chromedriver] found in cache\n"
     ]
    },
    {
     "name": "stdout",
     "output_type": "stream",
     "text": [
      " \n",
      "http://airbnb.com/rooms/31286258?check_in=2021-01-01&check_out=2021-04-30&previous_page_section_name=1000&display_extensions%5B%5D=MONTHLY_STAYS&display_extensions%5B%5D=DATED_LTS&federated_search_id=04df6cf7-9644-4943-bc07-09cf11a3a890\n"
     ]
    },
    {
     "name": "stderr",
     "output_type": "stream",
     "text": [
      "[WDM] - Current google-chrome version is 85.0.4183\n",
      "[WDM] - Get LATEST driver version for 85.0.4183\n",
      "[WDM] - Driver [/Users/jasenlo/.wdm/drivers/chromedriver/mac64/85.0.4183.87/chromedriver] found in cache\n"
     ]
    },
    {
     "name": "stdout",
     "output_type": "stream",
     "text": [
      " \n",
      "http://airbnb.com/rooms/24988696?check_in=2021-01-01&check_out=2021-04-30&previous_page_section_name=1000&display_extensions%5B%5D=MONTHLY_STAYS&display_extensions%5B%5D=DATED_LTS&federated_search_id=04df6cf7-9644-4943-bc07-09cf11a3a890\n"
     ]
    },
    {
     "name": "stderr",
     "output_type": "stream",
     "text": [
      "[WDM] - Current google-chrome version is 85.0.4183\n",
      "[WDM] - Get LATEST driver version for 85.0.4183\n",
      "[WDM] - Driver [/Users/jasenlo/.wdm/drivers/chromedriver/mac64/85.0.4183.87/chromedriver] found in cache\n"
     ]
    },
    {
     "name": "stdout",
     "output_type": "stream",
     "text": [
      " \n",
      "http://airbnb.com/rooms/37290649?check_in=2021-01-01&check_out=2021-04-30&previous_page_section_name=1000&display_extensions%5B%5D=MONTHLY_STAYS&display_extensions%5B%5D=DATED_LTS&federated_search_id=04df6cf7-9644-4943-bc07-09cf11a3a890\n"
     ]
    },
    {
     "name": "stderr",
     "output_type": "stream",
     "text": [
      "[WDM] - Current google-chrome version is 85.0.4183\n",
      "[WDM] - Get LATEST driver version for 85.0.4183\n",
      "[WDM] - Driver [/Users/jasenlo/.wdm/drivers/chromedriver/mac64/85.0.4183.87/chromedriver] found in cache\n"
     ]
    },
    {
     "name": "stdout",
     "output_type": "stream",
     "text": [
      " \n",
      "http://airbnb.com/rooms/19941845?check_in=2021-01-01&check_out=2021-04-30&previous_page_section_name=1000&display_extensions%5B%5D=MONTHLY_STAYS&display_extensions%5B%5D=DATED_LTS&federated_search_id=04df6cf7-9644-4943-bc07-09cf11a3a890\n"
     ]
    },
    {
     "name": "stderr",
     "output_type": "stream",
     "text": [
      "[WDM] - Current google-chrome version is 85.0.4183\n",
      "[WDM] - Get LATEST driver version for 85.0.4183\n",
      "[WDM] - Driver [/Users/jasenlo/.wdm/drivers/chromedriver/mac64/85.0.4183.87/chromedriver] found in cache\n"
     ]
    },
    {
     "name": "stdout",
     "output_type": "stream",
     "text": [
      " \n",
      "http://airbnb.com/rooms/24825369?check_in=2021-01-01&check_out=2021-04-30&previous_page_section_name=1000&display_extensions%5B%5D=MONTHLY_STAYS&display_extensions%5B%5D=DATED_LTS&federated_search_id=04df6cf7-9644-4943-bc07-09cf11a3a890\n"
     ]
    },
    {
     "name": "stderr",
     "output_type": "stream",
     "text": [
      "[WDM] - Current google-chrome version is 85.0.4183\n",
      "[WDM] - Get LATEST driver version for 85.0.4183\n",
      "[WDM] - Driver [/Users/jasenlo/.wdm/drivers/chromedriver/mac64/85.0.4183.87/chromedriver] found in cache\n"
     ]
    },
    {
     "name": "stdout",
     "output_type": "stream",
     "text": [
      " \n",
      "http://airbnb.com/rooms/40374809?check_in=2021-01-01&check_out=2021-04-30&previous_page_section_name=1000&display_extensions%5B%5D=MONTHLY_STAYS&display_extensions%5B%5D=DATED_LTS&federated_search_id=04df6cf7-9644-4943-bc07-09cf11a3a890\n"
     ]
    },
    {
     "name": "stderr",
     "output_type": "stream",
     "text": [
      "[WDM] - Current google-chrome version is 85.0.4183\n",
      "[WDM] - Get LATEST driver version for 85.0.4183\n",
      "[WDM] - Driver [/Users/jasenlo/.wdm/drivers/chromedriver/mac64/85.0.4183.87/chromedriver] found in cache\n"
     ]
    },
    {
     "name": "stdout",
     "output_type": "stream",
     "text": [
      " \n",
      "http://airbnb.com/rooms/16953263?check_in=2021-01-01&check_out=2021-04-30&previous_page_section_name=1000&display_extensions%5B%5D=MONTHLY_STAYS&display_extensions%5B%5D=DATED_LTS&federated_search_id=04df6cf7-9644-4943-bc07-09cf11a3a890\n"
     ]
    },
    {
     "name": "stderr",
     "output_type": "stream",
     "text": [
      "[WDM] - Current google-chrome version is 85.0.4183\n",
      "[WDM] - Get LATEST driver version for 85.0.4183\n",
      "[WDM] - Driver [/Users/jasenlo/.wdm/drivers/chromedriver/mac64/85.0.4183.87/chromedriver] found in cache\n"
     ]
    },
    {
     "name": "stdout",
     "output_type": "stream",
     "text": [
      " \n",
      "http://airbnb.com/rooms/45380542?check_in=2021-01-01&check_out=2021-04-30&previous_page_section_name=1000&display_extensions%5B%5D=MONTHLY_STAYS&display_extensions%5B%5D=DATED_LTS&federated_search_id=04df6cf7-9644-4943-bc07-09cf11a3a890\n"
     ]
    },
    {
     "name": "stderr",
     "output_type": "stream",
     "text": [
      "[WDM] - Current google-chrome version is 85.0.4183\n",
      "[WDM] - Get LATEST driver version for 85.0.4183\n",
      "[WDM] - Driver [/Users/jasenlo/.wdm/drivers/chromedriver/mac64/85.0.4183.87/chromedriver] found in cache\n"
     ]
    },
    {
     "name": "stdout",
     "output_type": "stream",
     "text": [
      " \n",
      "http://airbnb.com/rooms/40008959?check_in=2021-01-01&check_out=2021-04-30&previous_page_section_name=1000&display_extensions%5B%5D=MONTHLY_STAYS&display_extensions%5B%5D=DATED_LTS&federated_search_id=04df6cf7-9644-4943-bc07-09cf11a3a890\n"
     ]
    },
    {
     "name": "stderr",
     "output_type": "stream",
     "text": [
      "[WDM] - Current google-chrome version is 85.0.4183\n",
      "[WDM] - Get LATEST driver version for 85.0.4183\n",
      "[WDM] - Driver [/Users/jasenlo/.wdm/drivers/chromedriver/mac64/85.0.4183.87/chromedriver] found in cache\n"
     ]
    },
    {
     "name": "stdout",
     "output_type": "stream",
     "text": [
      " \n",
      "http://airbnb.com/rooms/27823437?check_in=2021-01-01&check_out=2021-04-30&previous_page_section_name=1000&display_extensions%5B%5D=MONTHLY_STAYS&display_extensions%5B%5D=DATED_LTS&federated_search_id=04df6cf7-9644-4943-bc07-09cf11a3a890\n"
     ]
    },
    {
     "name": "stderr",
     "output_type": "stream",
     "text": [
      "[WDM] - Current google-chrome version is 85.0.4183\n",
      "[WDM] - Get LATEST driver version for 85.0.4183\n",
      "[WDM] - Driver [/Users/jasenlo/.wdm/drivers/chromedriver/mac64/85.0.4183.87/chromedriver] found in cache\n"
     ]
    },
    {
     "name": "stdout",
     "output_type": "stream",
     "text": [
      " \n",
      "http://airbnb.com/rooms/22689722?check_in=2021-01-01&check_out=2021-04-30&previous_page_section_name=1000&display_extensions%5B%5D=MONTHLY_STAYS&display_extensions%5B%5D=DATED_LTS&federated_search_id=04df6cf7-9644-4943-bc07-09cf11a3a890\n"
     ]
    },
    {
     "name": "stderr",
     "output_type": "stream",
     "text": [
      "[WDM] - Current google-chrome version is 85.0.4183\n",
      "[WDM] - Get LATEST driver version for 85.0.4183\n",
      "[WDM] - Driver [/Users/jasenlo/.wdm/drivers/chromedriver/mac64/85.0.4183.87/chromedriver] found in cache\n"
     ]
    },
    {
     "name": "stdout",
     "output_type": "stream",
     "text": [
      " \n",
      "http://airbnb.com/rooms/31014790?check_in=2021-01-01&check_out=2021-04-30&previous_page_section_name=1000&display_extensions%5B%5D=MONTHLY_STAYS&display_extensions%5B%5D=DATED_LTS&federated_search_id=04df6cf7-9644-4943-bc07-09cf11a3a890\n"
     ]
    },
    {
     "name": "stderr",
     "output_type": "stream",
     "text": [
      "[WDM] - Current google-chrome version is 85.0.4183\n",
      "[WDM] - Get LATEST driver version for 85.0.4183\n",
      "[WDM] - Driver [/Users/jasenlo/.wdm/drivers/chromedriver/mac64/85.0.4183.87/chromedriver] found in cache\n"
     ]
    },
    {
     "name": "stdout",
     "output_type": "stream",
     "text": [
      " \n",
      "http://airbnb.com/rooms/44655736?check_in=2021-01-01&check_out=2021-04-30&previous_page_section_name=1000&display_extensions%5B%5D=MONTHLY_STAYS&display_extensions%5B%5D=DATED_LTS&federated_search_id=04df6cf7-9644-4943-bc07-09cf11a3a890\n"
     ]
    },
    {
     "name": "stderr",
     "output_type": "stream",
     "text": [
      "[WDM] - Current google-chrome version is 85.0.4183\n",
      "[WDM] - Get LATEST driver version for 85.0.4183\n",
      "[WDM] - Driver [/Users/jasenlo/.wdm/drivers/chromedriver/mac64/85.0.4183.87/chromedriver] found in cache\n"
     ]
    },
    {
     "name": "stdout",
     "output_type": "stream",
     "text": [
      " \n",
      "http://airbnb.com/rooms/14120540?check_in=2021-01-01&check_out=2021-04-30&previous_page_section_name=1000&display_extensions%5B%5D=DATED_LTS&display_extensions%5B%5D=MONTHLY_STAYS&federated_search_id=b8328ee0-00d8-4842-9875-dd31bdd7efd8\n"
     ]
    },
    {
     "name": "stderr",
     "output_type": "stream",
     "text": [
      "[WDM] - Current google-chrome version is 85.0.4183\n",
      "[WDM] - Get LATEST driver version for 85.0.4183\n",
      "[WDM] - Driver [/Users/jasenlo/.wdm/drivers/chromedriver/mac64/85.0.4183.87/chromedriver] found in cache\n"
     ]
    },
    {
     "name": "stdout",
     "output_type": "stream",
     "text": [
      " \n",
      "http://airbnb.com/rooms/24825369?check_in=2021-01-01&check_out=2021-04-30&previous_page_section_name=1000&display_extensions%5B%5D=DATED_LTS&display_extensions%5B%5D=MONTHLY_STAYS&federated_search_id=b8328ee0-00d8-4842-9875-dd31bdd7efd8\n"
     ]
    },
    {
     "name": "stderr",
     "output_type": "stream",
     "text": [
      "[WDM] - Current google-chrome version is 85.0.4183\n",
      "[WDM] - Get LATEST driver version for 85.0.4183\n",
      "[WDM] - Driver [/Users/jasenlo/.wdm/drivers/chromedriver/mac64/85.0.4183.87/chromedriver] found in cache\n"
     ]
    },
    {
     "name": "stdout",
     "output_type": "stream",
     "text": [
      " \n",
      "http://airbnb.com/rooms/31959897?check_in=2021-01-01&check_out=2021-04-30&previous_page_section_name=1000&display_extensions%5B%5D=DATED_LTS&display_extensions%5B%5D=MONTHLY_STAYS&federated_search_id=b8328ee0-00d8-4842-9875-dd31bdd7efd8\n"
     ]
    },
    {
     "name": "stderr",
     "output_type": "stream",
     "text": [
      "[WDM] - Current google-chrome version is 85.0.4183\n",
      "[WDM] - Get LATEST driver version for 85.0.4183\n",
      "[WDM] - Driver [/Users/jasenlo/.wdm/drivers/chromedriver/mac64/85.0.4183.87/chromedriver] found in cache\n"
     ]
    },
    {
     "name": "stdout",
     "output_type": "stream",
     "text": [
      " \n",
      "http://airbnb.com/rooms/41042602?check_in=2021-01-01&check_out=2021-04-30&previous_page_section_name=1000&display_extensions%5B%5D=DATED_LTS&display_extensions%5B%5D=MONTHLY_STAYS&federated_search_id=b8328ee0-00d8-4842-9875-dd31bdd7efd8\n"
     ]
    },
    {
     "name": "stderr",
     "output_type": "stream",
     "text": [
      "[WDM] - Current google-chrome version is 85.0.4183\n",
      "[WDM] - Get LATEST driver version for 85.0.4183\n",
      "[WDM] - Driver [/Users/jasenlo/.wdm/drivers/chromedriver/mac64/85.0.4183.87/chromedriver] found in cache\n"
     ]
    },
    {
     "name": "stdout",
     "output_type": "stream",
     "text": [
      " \n",
      "http://airbnb.com/rooms/38694671?check_in=2021-01-01&check_out=2021-04-30&previous_page_section_name=1000&display_extensions%5B%5D=DATED_LTS&display_extensions%5B%5D=MONTHLY_STAYS&federated_search_id=b8328ee0-00d8-4842-9875-dd31bdd7efd8\n"
     ]
    },
    {
     "name": "stderr",
     "output_type": "stream",
     "text": [
      "[WDM] - Current google-chrome version is 85.0.4183\n",
      "[WDM] - Get LATEST driver version for 85.0.4183\n",
      "[WDM] - Driver [/Users/jasenlo/.wdm/drivers/chromedriver/mac64/85.0.4183.87/chromedriver] found in cache\n"
     ]
    },
    {
     "name": "stdout",
     "output_type": "stream",
     "text": [
      " \n",
      "http://airbnb.com/rooms/33344331?check_in=2021-01-01&check_out=2021-04-30&previous_page_section_name=1000&display_extensions%5B%5D=DATED_LTS&display_extensions%5B%5D=MONTHLY_STAYS&federated_search_id=b8328ee0-00d8-4842-9875-dd31bdd7efd8\n"
     ]
    },
    {
     "name": "stderr",
     "output_type": "stream",
     "text": [
      "[WDM] - Current google-chrome version is 85.0.4183\n",
      "[WDM] - Get LATEST driver version for 85.0.4183\n",
      "[WDM] - Driver [/Users/jasenlo/.wdm/drivers/chromedriver/mac64/85.0.4183.87/chromedriver] found in cache\n"
     ]
    },
    {
     "name": "stdout",
     "output_type": "stream",
     "text": [
      " \n",
      "http://airbnb.com/rooms/32090194?check_in=2021-01-01&check_out=2021-04-30&previous_page_section_name=1000&display_extensions%5B%5D=DATED_LTS&display_extensions%5B%5D=MONTHLY_STAYS&federated_search_id=b8328ee0-00d8-4842-9875-dd31bdd7efd8\n"
     ]
    },
    {
     "name": "stderr",
     "output_type": "stream",
     "text": [
      "[WDM] - Current google-chrome version is 85.0.4183\n",
      "[WDM] - Get LATEST driver version for 85.0.4183\n",
      "[WDM] - Driver [/Users/jasenlo/.wdm/drivers/chromedriver/mac64/85.0.4183.87/chromedriver] found in cache\n"
     ]
    },
    {
     "name": "stdout",
     "output_type": "stream",
     "text": [
      " \n",
      "http://airbnb.com/rooms/1687026?check_in=2021-01-01&check_out=2021-04-30&previous_page_section_name=1000&display_extensions%5B%5D=DATED_LTS&display_extensions%5B%5D=MONTHLY_STAYS&federated_search_id=b8328ee0-00d8-4842-9875-dd31bdd7efd8\n"
     ]
    },
    {
     "name": "stderr",
     "output_type": "stream",
     "text": [
      "[WDM] - Current google-chrome version is 85.0.4183\n",
      "[WDM] - Get LATEST driver version for 85.0.4183\n",
      "[WDM] - Driver [/Users/jasenlo/.wdm/drivers/chromedriver/mac64/85.0.4183.87/chromedriver] found in cache\n"
     ]
    },
    {
     "name": "stdout",
     "output_type": "stream",
     "text": [
      " \n",
      "http://airbnb.com/rooms/20452829?check_in=2021-01-01&check_out=2021-04-30&previous_page_section_name=1000&display_extensions%5B%5D=DATED_LTS&display_extensions%5B%5D=MONTHLY_STAYS&federated_search_id=b8328ee0-00d8-4842-9875-dd31bdd7efd8\n"
     ]
    },
    {
     "name": "stderr",
     "output_type": "stream",
     "text": [
      "[WDM] - Current google-chrome version is 85.0.4183\n",
      "[WDM] - Get LATEST driver version for 85.0.4183\n",
      "[WDM] - Driver [/Users/jasenlo/.wdm/drivers/chromedriver/mac64/85.0.4183.87/chromedriver] found in cache\n"
     ]
    },
    {
     "name": "stdout",
     "output_type": "stream",
     "text": [
      " \n",
      "http://airbnb.com/rooms/28277510?check_in=2021-01-01&check_out=2021-04-30&previous_page_section_name=1000&display_extensions%5B%5D=DATED_LTS&display_extensions%5B%5D=MONTHLY_STAYS&federated_search_id=b8328ee0-00d8-4842-9875-dd31bdd7efd8\n"
     ]
    },
    {
     "name": "stderr",
     "output_type": "stream",
     "text": [
      "[WDM] - Current google-chrome version is 85.0.4183\n",
      "[WDM] - Get LATEST driver version for 85.0.4183\n",
      "[WDM] - Driver [/Users/jasenlo/.wdm/drivers/chromedriver/mac64/85.0.4183.87/chromedriver] found in cache\n"
     ]
    },
    {
     "name": "stdout",
     "output_type": "stream",
     "text": [
      " \n",
      "http://airbnb.com/rooms/21239479?check_in=2021-01-01&check_out=2021-04-30&previous_page_section_name=1000&display_extensions%5B%5D=DATED_LTS&display_extensions%5B%5D=MONTHLY_STAYS&federated_search_id=b8328ee0-00d8-4842-9875-dd31bdd7efd8\n"
     ]
    },
    {
     "name": "stderr",
     "output_type": "stream",
     "text": [
      "[WDM] - Current google-chrome version is 85.0.4183\n",
      "[WDM] - Get LATEST driver version for 85.0.4183\n",
      "[WDM] - Driver [/Users/jasenlo/.wdm/drivers/chromedriver/mac64/85.0.4183.87/chromedriver] found in cache\n"
     ]
    },
    {
     "name": "stdout",
     "output_type": "stream",
     "text": [
      " \n",
      "http://airbnb.com/rooms/30973913?check_in=2021-01-01&check_out=2021-04-30&previous_page_section_name=1000&display_extensions%5B%5D=DATED_LTS&display_extensions%5B%5D=MONTHLY_STAYS&federated_search_id=b8328ee0-00d8-4842-9875-dd31bdd7efd8\n"
     ]
    },
    {
     "name": "stderr",
     "output_type": "stream",
     "text": [
      "[WDM] - Current google-chrome version is 85.0.4183\n",
      "[WDM] - Get LATEST driver version for 85.0.4183\n",
      "[WDM] - Driver [/Users/jasenlo/.wdm/drivers/chromedriver/mac64/85.0.4183.87/chromedriver] found in cache\n"
     ]
    },
    {
     "name": "stdout",
     "output_type": "stream",
     "text": [
      " \n",
      "http://airbnb.com/rooms/3826168?check_in=2021-01-01&check_out=2021-04-30&previous_page_section_name=1000&display_extensions%5B%5D=DATED_LTS&display_extensions%5B%5D=MONTHLY_STAYS&federated_search_id=b8328ee0-00d8-4842-9875-dd31bdd7efd8\n"
     ]
    },
    {
     "name": "stderr",
     "output_type": "stream",
     "text": [
      "[WDM] - Current google-chrome version is 85.0.4183\n",
      "[WDM] - Get LATEST driver version for 85.0.4183\n",
      "[WDM] - Driver [/Users/jasenlo/.wdm/drivers/chromedriver/mac64/85.0.4183.87/chromedriver] found in cache\n"
     ]
    },
    {
     "name": "stdout",
     "output_type": "stream",
     "text": [
      " \n",
      "http://airbnb.com/rooms/44575478?check_in=2021-01-01&check_out=2021-04-30&previous_page_section_name=1000&display_extensions%5B%5D=DATED_LTS&display_extensions%5B%5D=MONTHLY_STAYS&federated_search_id=b8328ee0-00d8-4842-9875-dd31bdd7efd8\n"
     ]
    },
    {
     "name": "stderr",
     "output_type": "stream",
     "text": [
      "[WDM] - Current google-chrome version is 85.0.4183\n",
      "[WDM] - Get LATEST driver version for 85.0.4183\n",
      "[WDM] - Driver [/Users/jasenlo/.wdm/drivers/chromedriver/mac64/85.0.4183.87/chromedriver] found in cache\n"
     ]
    },
    {
     "name": "stdout",
     "output_type": "stream",
     "text": [
      " \n",
      "http://airbnb.com/rooms/39952872?check_in=2021-01-01&check_out=2021-04-30&previous_page_section_name=1000&display_extensions%5B%5D=DATED_LTS&display_extensions%5B%5D=MONTHLY_STAYS&federated_search_id=b8328ee0-00d8-4842-9875-dd31bdd7efd8\n"
     ]
    },
    {
     "name": "stderr",
     "output_type": "stream",
     "text": [
      "[WDM] - Current google-chrome version is 85.0.4183\n",
      "[WDM] - Get LATEST driver version for 85.0.4183\n",
      "[WDM] - Driver [/Users/jasenlo/.wdm/drivers/chromedriver/mac64/85.0.4183.87/chromedriver] found in cache\n"
     ]
    },
    {
     "name": "stdout",
     "output_type": "stream",
     "text": [
      " \n",
      "http://airbnb.com/rooms/38616608?check_in=2021-01-01&check_out=2021-04-30&previous_page_section_name=1000&display_extensions%5B%5D=DATED_LTS&display_extensions%5B%5D=MONTHLY_STAYS&federated_search_id=b8328ee0-00d8-4842-9875-dd31bdd7efd8\n"
     ]
    },
    {
     "name": "stderr",
     "output_type": "stream",
     "text": [
      "[WDM] - Current google-chrome version is 85.0.4183\n",
      "[WDM] - Get LATEST driver version for 85.0.4183\n",
      "[WDM] - Driver [/Users/jasenlo/.wdm/drivers/chromedriver/mac64/85.0.4183.87/chromedriver] found in cache\n"
     ]
    },
    {
     "name": "stdout",
     "output_type": "stream",
     "text": [
      " \n",
      "http://airbnb.com/rooms/plus/30404912?check_in=2021-01-01&check_out=2021-04-30&previous_page_section_name=1000&display_extensions%5B%5D=DATED_LTS&display_extensions%5B%5D=MONTHLY_STAYS&federated_search_id=b8328ee0-00d8-4842-9875-dd31bdd7efd8\n"
     ]
    },
    {
     "name": "stderr",
     "output_type": "stream",
     "text": [
      "[WDM] - Current google-chrome version is 85.0.4183\n",
      "[WDM] - Get LATEST driver version for 85.0.4183\n",
      "[WDM] - Driver [/Users/jasenlo/.wdm/drivers/chromedriver/mac64/85.0.4183.87/chromedriver] found in cache\n"
     ]
    },
    {
     "name": "stdout",
     "output_type": "stream",
     "text": [
      " \n",
      "http://airbnb.com/rooms/16685349?check_in=2021-01-01&check_out=2021-04-30&previous_page_section_name=1000&display_extensions%5B%5D=DATED_LTS&display_extensions%5B%5D=MONTHLY_STAYS&federated_search_id=b8328ee0-00d8-4842-9875-dd31bdd7efd8\n"
     ]
    },
    {
     "name": "stderr",
     "output_type": "stream",
     "text": [
      "[WDM] - Current google-chrome version is 85.0.4183\n",
      "[WDM] - Get LATEST driver version for 85.0.4183\n",
      "[WDM] - Driver [/Users/jasenlo/.wdm/drivers/chromedriver/mac64/85.0.4183.87/chromedriver] found in cache\n"
     ]
    },
    {
     "name": "stdout",
     "output_type": "stream",
     "text": [
      " \n",
      "http://airbnb.com/rooms/20480154?check_in=2021-01-01&check_out=2021-04-30&previous_page_section_name=1000&display_extensions%5B%5D=DATED_LTS&display_extensions%5B%5D=MONTHLY_STAYS&federated_search_id=b8328ee0-00d8-4842-9875-dd31bdd7efd8\n"
     ]
    },
    {
     "name": "stderr",
     "output_type": "stream",
     "text": [
      "[WDM] - Current google-chrome version is 85.0.4183\n",
      "[WDM] - Get LATEST driver version for 85.0.4183\n",
      "[WDM] - Driver [/Users/jasenlo/.wdm/drivers/chromedriver/mac64/85.0.4183.87/chromedriver] found in cache\n"
     ]
    },
    {
     "name": "stdout",
     "output_type": "stream",
     "text": [
      " \n",
      "http://airbnb.com/rooms/21212489?check_in=2021-01-01&check_out=2021-04-30&previous_page_section_name=1000&display_extensions%5B%5D=DATED_LTS&display_extensions%5B%5D=MONTHLY_STAYS&federated_search_id=b8328ee0-00d8-4842-9875-dd31bdd7efd8\n"
     ]
    },
    {
     "name": "stderr",
     "output_type": "stream",
     "text": [
      "[WDM] - Current google-chrome version is 85.0.4183\n",
      "[WDM] - Get LATEST driver version for 85.0.4183\n",
      "[WDM] - Driver [/Users/jasenlo/.wdm/drivers/chromedriver/mac64/85.0.4183.87/chromedriver] found in cache\n"
     ]
    },
    {
     "name": "stdout",
     "output_type": "stream",
     "text": [
      " \n",
      "http://airbnb.com/rooms/31981450?check_in=2021-01-01&check_out=2021-04-30&previous_page_section_name=1000&display_extensions%5B%5D=MONTHLY_STAYS&display_extensions%5B%5D=DATED_LTS&federated_search_id=51e11dda-18c1-44ab-b4d6-a5f139ee28ab\n"
     ]
    },
    {
     "name": "stderr",
     "output_type": "stream",
     "text": [
      "[WDM] - Current google-chrome version is 85.0.4183\n",
      "[WDM] - Get LATEST driver version for 85.0.4183\n",
      "[WDM] - Driver [/Users/jasenlo/.wdm/drivers/chromedriver/mac64/85.0.4183.87/chromedriver] found in cache\n"
     ]
    },
    {
     "name": "stdout",
     "output_type": "stream",
     "text": [
      " \n",
      "http://airbnb.com/rooms/25507101?check_in=2021-01-01&check_out=2021-04-30&previous_page_section_name=1000&display_extensions%5B%5D=MONTHLY_STAYS&display_extensions%5B%5D=DATED_LTS&federated_search_id=51e11dda-18c1-44ab-b4d6-a5f139ee28ab\n"
     ]
    },
    {
     "name": "stderr",
     "output_type": "stream",
     "text": [
      "[WDM] - Current google-chrome version is 85.0.4183\n",
      "[WDM] - Get LATEST driver version for 85.0.4183\n",
      "[WDM] - Driver [/Users/jasenlo/.wdm/drivers/chromedriver/mac64/85.0.4183.87/chromedriver] found in cache\n"
     ]
    },
    {
     "name": "stdout",
     "output_type": "stream",
     "text": [
      " \n",
      "http://airbnb.com/rooms/39198067?check_in=2021-01-01&check_out=2021-04-30&previous_page_section_name=1000&display_extensions%5B%5D=MONTHLY_STAYS&display_extensions%5B%5D=DATED_LTS&federated_search_id=51e11dda-18c1-44ab-b4d6-a5f139ee28ab\n"
     ]
    },
    {
     "name": "stderr",
     "output_type": "stream",
     "text": [
      "[WDM] - Current google-chrome version is 85.0.4183\n",
      "[WDM] - Get LATEST driver version for 85.0.4183\n",
      "[WDM] - Driver [/Users/jasenlo/.wdm/drivers/chromedriver/mac64/85.0.4183.87/chromedriver] found in cache\n"
     ]
    },
    {
     "name": "stdout",
     "output_type": "stream",
     "text": [
      " \n",
      "http://airbnb.com/rooms/32785578?check_in=2021-01-01&check_out=2021-04-30&previous_page_section_name=1000&display_extensions%5B%5D=MONTHLY_STAYS&display_extensions%5B%5D=DATED_LTS&federated_search_id=51e11dda-18c1-44ab-b4d6-a5f139ee28ab\n"
     ]
    },
    {
     "name": "stderr",
     "output_type": "stream",
     "text": [
      "[WDM] - Current google-chrome version is 85.0.4183\n",
      "[WDM] - Get LATEST driver version for 85.0.4183\n",
      "[WDM] - Driver [/Users/jasenlo/.wdm/drivers/chromedriver/mac64/85.0.4183.87/chromedriver] found in cache\n"
     ]
    },
    {
     "name": "stdout",
     "output_type": "stream",
     "text": [
      " \n",
      "http://airbnb.com/rooms/33577602?check_in=2021-01-01&check_out=2021-04-30&previous_page_section_name=1000&display_extensions%5B%5D=MONTHLY_STAYS&display_extensions%5B%5D=DATED_LTS&federated_search_id=51e11dda-18c1-44ab-b4d6-a5f139ee28ab\n"
     ]
    },
    {
     "name": "stderr",
     "output_type": "stream",
     "text": [
      "[WDM] - Current google-chrome version is 85.0.4183\n",
      "[WDM] - Get LATEST driver version for 85.0.4183\n",
      "[WDM] - Driver [/Users/jasenlo/.wdm/drivers/chromedriver/mac64/85.0.4183.87/chromedriver] found in cache\n"
     ]
    },
    {
     "name": "stdout",
     "output_type": "stream",
     "text": [
      " \n",
      "http://airbnb.com/rooms/45492608?check_in=2021-01-01&check_out=2021-04-30&previous_page_section_name=1000&display_extensions%5B%5D=MONTHLY_STAYS&display_extensions%5B%5D=DATED_LTS&federated_search_id=51e11dda-18c1-44ab-b4d6-a5f139ee28ab\n"
     ]
    },
    {
     "name": "stderr",
     "output_type": "stream",
     "text": [
      "[WDM] - Current google-chrome version is 85.0.4183\n",
      "[WDM] - Get LATEST driver version for 85.0.4183\n",
      "[WDM] - Driver [/Users/jasenlo/.wdm/drivers/chromedriver/mac64/85.0.4183.87/chromedriver] found in cache\n"
     ]
    },
    {
     "name": "stdout",
     "output_type": "stream",
     "text": [
      " \n",
      "http://airbnb.com/rooms/37323389?check_in=2021-01-01&check_out=2021-04-30&previous_page_section_name=1000&display_extensions%5B%5D=MONTHLY_STAYS&display_extensions%5B%5D=DATED_LTS&federated_search_id=51e11dda-18c1-44ab-b4d6-a5f139ee28ab\n"
     ]
    },
    {
     "name": "stderr",
     "output_type": "stream",
     "text": [
      "[WDM] - Current google-chrome version is 85.0.4183\n",
      "[WDM] - Get LATEST driver version for 85.0.4183\n",
      "[WDM] - Driver [/Users/jasenlo/.wdm/drivers/chromedriver/mac64/85.0.4183.87/chromedriver] found in cache\n"
     ]
    },
    {
     "name": "stdout",
     "output_type": "stream",
     "text": [
      " \n",
      "http://airbnb.com/rooms/37527694?check_in=2021-01-01&check_out=2021-04-30&previous_page_section_name=1000&display_extensions%5B%5D=MONTHLY_STAYS&display_extensions%5B%5D=DATED_LTS&federated_search_id=51e11dda-18c1-44ab-b4d6-a5f139ee28ab\n"
     ]
    },
    {
     "name": "stderr",
     "output_type": "stream",
     "text": [
      "[WDM] - Current google-chrome version is 85.0.4183\n",
      "[WDM] - Get LATEST driver version for 85.0.4183\n",
      "[WDM] - Driver [/Users/jasenlo/.wdm/drivers/chromedriver/mac64/85.0.4183.87/chromedriver] found in cache\n"
     ]
    },
    {
     "name": "stdout",
     "output_type": "stream",
     "text": [
      " \n",
      "http://airbnb.com/rooms/472446?check_in=2021-01-01&check_out=2021-04-30&previous_page_section_name=1000&display_extensions%5B%5D=MONTHLY_STAYS&display_extensions%5B%5D=DATED_LTS&federated_search_id=51e11dda-18c1-44ab-b4d6-a5f139ee28ab\n"
     ]
    },
    {
     "name": "stderr",
     "output_type": "stream",
     "text": [
      "[WDM] - Current google-chrome version is 85.0.4183\n",
      "[WDM] - Get LATEST driver version for 85.0.4183\n",
      "[WDM] - Driver [/Users/jasenlo/.wdm/drivers/chromedriver/mac64/85.0.4183.87/chromedriver] found in cache\n"
     ]
    },
    {
     "name": "stdout",
     "output_type": "stream",
     "text": [
      " \n",
      "http://airbnb.com/rooms/23035112?check_in=2021-01-01&check_out=2021-04-30&previous_page_section_name=1000&display_extensions%5B%5D=MONTHLY_STAYS&display_extensions%5B%5D=DATED_LTS&federated_search_id=51e11dda-18c1-44ab-b4d6-a5f139ee28ab\n"
     ]
    },
    {
     "name": "stderr",
     "output_type": "stream",
     "text": [
      "[WDM] - Current google-chrome version is 85.0.4183\n",
      "[WDM] - Get LATEST driver version for 85.0.4183\n",
      "[WDM] - Driver [/Users/jasenlo/.wdm/drivers/chromedriver/mac64/85.0.4183.87/chromedriver] found in cache\n"
     ]
    },
    {
     "name": "stdout",
     "output_type": "stream",
     "text": [
      " \n",
      "http://airbnb.com/rooms/41650674?check_in=2021-01-01&check_out=2021-04-30&previous_page_section_name=1000&display_extensions%5B%5D=MONTHLY_STAYS&display_extensions%5B%5D=DATED_LTS&federated_search_id=51e11dda-18c1-44ab-b4d6-a5f139ee28ab\n"
     ]
    },
    {
     "name": "stderr",
     "output_type": "stream",
     "text": [
      "[WDM] - Current google-chrome version is 85.0.4183\n",
      "[WDM] - Get LATEST driver version for 85.0.4183\n",
      "[WDM] - Driver [/Users/jasenlo/.wdm/drivers/chromedriver/mac64/85.0.4183.87/chromedriver] found in cache\n"
     ]
    },
    {
     "name": "stdout",
     "output_type": "stream",
     "text": [
      " \n",
      "http://airbnb.com/rooms/32460864?check_in=2021-01-01&check_out=2021-04-30&previous_page_section_name=1000&display_extensions%5B%5D=MONTHLY_STAYS&display_extensions%5B%5D=DATED_LTS&federated_search_id=51e11dda-18c1-44ab-b4d6-a5f139ee28ab\n"
     ]
    },
    {
     "name": "stderr",
     "output_type": "stream",
     "text": [
      "[WDM] - Current google-chrome version is 85.0.4183\n",
      "[WDM] - Get LATEST driver version for 85.0.4183\n",
      "[WDM] - Driver [/Users/jasenlo/.wdm/drivers/chromedriver/mac64/85.0.4183.87/chromedriver] found in cache\n"
     ]
    },
    {
     "name": "stdout",
     "output_type": "stream",
     "text": [
      " \n",
      "http://airbnb.com/rooms/26780111?check_in=2021-01-01&check_out=2021-04-30&previous_page_section_name=1000&display_extensions%5B%5D=MONTHLY_STAYS&display_extensions%5B%5D=DATED_LTS&federated_search_id=51e11dda-18c1-44ab-b4d6-a5f139ee28ab\n"
     ]
    },
    {
     "name": "stderr",
     "output_type": "stream",
     "text": [
      "[WDM] - Current google-chrome version is 85.0.4183\n",
      "[WDM] - Get LATEST driver version for 85.0.4183\n",
      "[WDM] - Driver [/Users/jasenlo/.wdm/drivers/chromedriver/mac64/85.0.4183.87/chromedriver] found in cache\n"
     ]
    },
    {
     "name": "stdout",
     "output_type": "stream",
     "text": [
      " \n",
      "http://airbnb.com/rooms/9990219?check_in=2021-01-01&check_out=2021-04-30&previous_page_section_name=1000&display_extensions%5B%5D=MONTHLY_STAYS&display_extensions%5B%5D=DATED_LTS&federated_search_id=51e11dda-18c1-44ab-b4d6-a5f139ee28ab\n"
     ]
    },
    {
     "name": "stderr",
     "output_type": "stream",
     "text": [
      "[WDM] - Current google-chrome version is 85.0.4183\n",
      "[WDM] - Get LATEST driver version for 85.0.4183\n",
      "[WDM] - Driver [/Users/jasenlo/.wdm/drivers/chromedriver/mac64/85.0.4183.87/chromedriver] found in cache\n"
     ]
    },
    {
     "name": "stdout",
     "output_type": "stream",
     "text": [
      " \n",
      "http://airbnb.com/rooms/33006906?check_in=2021-01-01&check_out=2021-04-30&previous_page_section_name=1000&display_extensions%5B%5D=MONTHLY_STAYS&display_extensions%5B%5D=DATED_LTS&federated_search_id=51e11dda-18c1-44ab-b4d6-a5f139ee28ab\n"
     ]
    },
    {
     "name": "stderr",
     "output_type": "stream",
     "text": [
      "[WDM] - Current google-chrome version is 85.0.4183\n",
      "[WDM] - Get LATEST driver version for 85.0.4183\n",
      "[WDM] - Driver [/Users/jasenlo/.wdm/drivers/chromedriver/mac64/85.0.4183.87/chromedriver] found in cache\n"
     ]
    },
    {
     "name": "stdout",
     "output_type": "stream",
     "text": [
      " \n",
      "http://airbnb.com/rooms/17329644?check_in=2021-01-01&check_out=2021-04-30&previous_page_section_name=1000&display_extensions%5B%5D=MONTHLY_STAYS&display_extensions%5B%5D=DATED_LTS&federated_search_id=51e11dda-18c1-44ab-b4d6-a5f139ee28ab\n"
     ]
    },
    {
     "name": "stderr",
     "output_type": "stream",
     "text": [
      "[WDM] - Current google-chrome version is 85.0.4183\n",
      "[WDM] - Get LATEST driver version for 85.0.4183\n",
      "[WDM] - Driver [/Users/jasenlo/.wdm/drivers/chromedriver/mac64/85.0.4183.87/chromedriver] found in cache\n"
     ]
    },
    {
     "name": "stdout",
     "output_type": "stream",
     "text": [
      " \n",
      "http://airbnb.com/rooms/15094088?check_in=2021-01-01&check_out=2021-04-30&previous_page_section_name=1000&display_extensions%5B%5D=MONTHLY_STAYS&display_extensions%5B%5D=DATED_LTS&federated_search_id=51e11dda-18c1-44ab-b4d6-a5f139ee28ab\n"
     ]
    },
    {
     "name": "stderr",
     "output_type": "stream",
     "text": [
      "[WDM] - Current google-chrome version is 85.0.4183\n",
      "[WDM] - Get LATEST driver version for 85.0.4183\n",
      "[WDM] - Driver [/Users/jasenlo/.wdm/drivers/chromedriver/mac64/85.0.4183.87/chromedriver] found in cache\n"
     ]
    },
    {
     "name": "stdout",
     "output_type": "stream",
     "text": [
      " \n",
      "http://airbnb.com/rooms/29962460?check_in=2021-01-01&check_out=2021-04-30&previous_page_section_name=1000&display_extensions%5B%5D=MONTHLY_STAYS&display_extensions%5B%5D=DATED_LTS&federated_search_id=51e11dda-18c1-44ab-b4d6-a5f139ee28ab\n"
     ]
    },
    {
     "name": "stderr",
     "output_type": "stream",
     "text": [
      "[WDM] - Current google-chrome version is 85.0.4183\n",
      "[WDM] - Get LATEST driver version for 85.0.4183\n",
      "[WDM] - Driver [/Users/jasenlo/.wdm/drivers/chromedriver/mac64/85.0.4183.87/chromedriver] found in cache\n"
     ]
    },
    {
     "name": "stdout",
     "output_type": "stream",
     "text": [
      " \n",
      "http://airbnb.com/rooms/41577637?check_in=2021-01-01&check_out=2021-04-30&previous_page_section_name=1000&display_extensions%5B%5D=MONTHLY_STAYS&display_extensions%5B%5D=DATED_LTS&federated_search_id=51e11dda-18c1-44ab-b4d6-a5f139ee28ab\n"
     ]
    },
    {
     "name": "stderr",
     "output_type": "stream",
     "text": [
      "[WDM] - Current google-chrome version is 85.0.4183\n",
      "[WDM] - Get LATEST driver version for 85.0.4183\n",
      "[WDM] - Driver [/Users/jasenlo/.wdm/drivers/chromedriver/mac64/85.0.4183.87/chromedriver] found in cache\n"
     ]
    },
    {
     "name": "stdout",
     "output_type": "stream",
     "text": [
      " \n",
      "http://airbnb.com/rooms/31146281?check_in=2021-01-01&check_out=2021-04-30&previous_page_section_name=1000&display_extensions%5B%5D=MONTHLY_STAYS&display_extensions%5B%5D=DATED_LTS&federated_search_id=51e11dda-18c1-44ab-b4d6-a5f139ee28ab\n"
     ]
    },
    {
     "name": "stderr",
     "output_type": "stream",
     "text": [
      "[WDM] - Current google-chrome version is 85.0.4183\n",
      "[WDM] - Get LATEST driver version for 85.0.4183\n",
      "[WDM] - Driver [/Users/jasenlo/.wdm/drivers/chromedriver/mac64/85.0.4183.87/chromedriver] found in cache\n"
     ]
    },
    {
     "name": "stdout",
     "output_type": "stream",
     "text": [
      " \n",
      "http://airbnb.com/rooms/21718399?check_in=2021-01-01&check_out=2021-04-30&previous_page_section_name=1000&display_extensions%5B%5D=DATED_LTS&display_extensions%5B%5D=MONTHLY_STAYS&federated_search_id=59f5b2a6-e7f6-409c-ac5b-c9b67b2c1048\n"
     ]
    },
    {
     "name": "stderr",
     "output_type": "stream",
     "text": [
      "[WDM] - Current google-chrome version is 85.0.4183\n",
      "[WDM] - Get LATEST driver version for 85.0.4183\n",
      "[WDM] - Driver [/Users/jasenlo/.wdm/drivers/chromedriver/mac64/85.0.4183.87/chromedriver] found in cache\n"
     ]
    },
    {
     "name": "stdout",
     "output_type": "stream",
     "text": [
      " \n",
      "http://airbnb.com/rooms/42905636?check_in=2021-01-01&check_out=2021-04-30&previous_page_section_name=1000&display_extensions%5B%5D=DATED_LTS&display_extensions%5B%5D=MONTHLY_STAYS&federated_search_id=59f5b2a6-e7f6-409c-ac5b-c9b67b2c1048\n"
     ]
    },
    {
     "name": "stderr",
     "output_type": "stream",
     "text": [
      "[WDM] - Current google-chrome version is 85.0.4183\n",
      "[WDM] - Get LATEST driver version for 85.0.4183\n",
      "[WDM] - Driver [/Users/jasenlo/.wdm/drivers/chromedriver/mac64/85.0.4183.87/chromedriver] found in cache\n"
     ]
    },
    {
     "name": "stdout",
     "output_type": "stream",
     "text": [
      " \n",
      "http://airbnb.com/rooms/29917320?check_in=2021-01-01&check_out=2021-04-30&previous_page_section_name=1000&display_extensions%5B%5D=DATED_LTS&display_extensions%5B%5D=MONTHLY_STAYS&federated_search_id=59f5b2a6-e7f6-409c-ac5b-c9b67b2c1048\n"
     ]
    },
    {
     "name": "stderr",
     "output_type": "stream",
     "text": [
      "[WDM] - Current google-chrome version is 85.0.4183\n",
      "[WDM] - Get LATEST driver version for 85.0.4183\n",
      "[WDM] - Driver [/Users/jasenlo/.wdm/drivers/chromedriver/mac64/85.0.4183.87/chromedriver] found in cache\n"
     ]
    },
    {
     "name": "stdout",
     "output_type": "stream",
     "text": [
      " \n",
      "http://airbnb.com/rooms/30799089?check_in=2021-01-01&check_out=2021-04-30&previous_page_section_name=1000&display_extensions%5B%5D=DATED_LTS&display_extensions%5B%5D=MONTHLY_STAYS&federated_search_id=59f5b2a6-e7f6-409c-ac5b-c9b67b2c1048\n"
     ]
    },
    {
     "name": "stderr",
     "output_type": "stream",
     "text": [
      "[WDM] - Current google-chrome version is 85.0.4183\n",
      "[WDM] - Get LATEST driver version for 85.0.4183\n"
     ]
    },
    {
     "name": "stdout",
     "output_type": "stream",
     "text": [
      " \n"
     ]
    },
    {
     "name": "stderr",
     "output_type": "stream",
     "text": [
      "[WDM] - Driver [/Users/jasenlo/.wdm/drivers/chromedriver/mac64/85.0.4183.87/chromedriver] found in cache\n"
     ]
    },
    {
     "name": "stdout",
     "output_type": "stream",
     "text": [
      "http://airbnb.com/rooms/16916799?check_in=2021-01-01&check_out=2021-04-30&previous_page_section_name=1000&display_extensions%5B%5D=DATED_LTS&display_extensions%5B%5D=MONTHLY_STAYS&federated_search_id=59f5b2a6-e7f6-409c-ac5b-c9b67b2c1048\n"
     ]
    },
    {
     "name": "stderr",
     "output_type": "stream",
     "text": [
      "[WDM] - Current google-chrome version is 85.0.4183\n",
      "[WDM] - Get LATEST driver version for 85.0.4183\n",
      "[WDM] - Driver [/Users/jasenlo/.wdm/drivers/chromedriver/mac64/85.0.4183.87/chromedriver] found in cache\n"
     ]
    },
    {
     "name": "stdout",
     "output_type": "stream",
     "text": [
      " \n",
      "http://airbnb.com/rooms/29950113?check_in=2021-01-01&check_out=2021-04-30&previous_page_section_name=1000&display_extensions%5B%5D=DATED_LTS&display_extensions%5B%5D=MONTHLY_STAYS&federated_search_id=59f5b2a6-e7f6-409c-ac5b-c9b67b2c1048\n"
     ]
    },
    {
     "name": "stderr",
     "output_type": "stream",
     "text": [
      "[WDM] - Current google-chrome version is 85.0.4183\n",
      "[WDM] - Get LATEST driver version for 85.0.4183\n",
      "[WDM] - Driver [/Users/jasenlo/.wdm/drivers/chromedriver/mac64/85.0.4183.87/chromedriver] found in cache\n"
     ]
    },
    {
     "name": "stdout",
     "output_type": "stream",
     "text": [
      " \n",
      "http://airbnb.com/rooms/30750835?check_in=2021-01-01&check_out=2021-04-30&previous_page_section_name=1000&display_extensions%5B%5D=DATED_LTS&display_extensions%5B%5D=MONTHLY_STAYS&federated_search_id=59f5b2a6-e7f6-409c-ac5b-c9b67b2c1048\n"
     ]
    },
    {
     "name": "stderr",
     "output_type": "stream",
     "text": [
      "[WDM] - Current google-chrome version is 85.0.4183\n",
      "[WDM] - Get LATEST driver version for 85.0.4183\n",
      "[WDM] - Driver [/Users/jasenlo/.wdm/drivers/chromedriver/mac64/85.0.4183.87/chromedriver] found in cache\n"
     ]
    },
    {
     "name": "stdout",
     "output_type": "stream",
     "text": [
      " \n",
      "http://airbnb.com/rooms/38309892?check_in=2021-01-01&check_out=2021-04-30&previous_page_section_name=1000&display_extensions%5B%5D=DATED_LTS&display_extensions%5B%5D=MONTHLY_STAYS&federated_search_id=59f5b2a6-e7f6-409c-ac5b-c9b67b2c1048\n"
     ]
    },
    {
     "name": "stderr",
     "output_type": "stream",
     "text": [
      "[WDM] - Current google-chrome version is 85.0.4183\n",
      "[WDM] - Get LATEST driver version for 85.0.4183\n",
      "[WDM] - Driver [/Users/jasenlo/.wdm/drivers/chromedriver/mac64/85.0.4183.87/chromedriver] found in cache\n"
     ]
    },
    {
     "name": "stdout",
     "output_type": "stream",
     "text": [
      " \n",
      "http://airbnb.com/rooms/16472826?check_in=2021-01-01&check_out=2021-04-30&previous_page_section_name=1000&display_extensions%5B%5D=DATED_LTS&display_extensions%5B%5D=MONTHLY_STAYS&federated_search_id=59f5b2a6-e7f6-409c-ac5b-c9b67b2c1048\n"
     ]
    },
    {
     "name": "stderr",
     "output_type": "stream",
     "text": [
      "[WDM] - Current google-chrome version is 85.0.4183\n",
      "[WDM] - Get LATEST driver version for 85.0.4183\n",
      "[WDM] - Driver [/Users/jasenlo/.wdm/drivers/chromedriver/mac64/85.0.4183.87/chromedriver] found in cache\n"
     ]
    },
    {
     "name": "stdout",
     "output_type": "stream",
     "text": [
      " \n",
      "http://airbnb.com/rooms/31322531?check_in=2021-01-01&check_out=2021-04-30&previous_page_section_name=1000&display_extensions%5B%5D=DATED_LTS&display_extensions%5B%5D=MONTHLY_STAYS&federated_search_id=59f5b2a6-e7f6-409c-ac5b-c9b67b2c1048\n"
     ]
    },
    {
     "name": "stderr",
     "output_type": "stream",
     "text": [
      "[WDM] - Current google-chrome version is 85.0.4183\n",
      "[WDM] - Get LATEST driver version for 85.0.4183\n",
      "[WDM] - Driver [/Users/jasenlo/.wdm/drivers/chromedriver/mac64/85.0.4183.87/chromedriver] found in cache\n"
     ]
    },
    {
     "name": "stdout",
     "output_type": "stream",
     "text": [
      " \n",
      "http://airbnb.com/rooms/22350379?check_in=2021-01-01&check_out=2021-04-30&previous_page_section_name=1000&display_extensions%5B%5D=DATED_LTS&display_extensions%5B%5D=MONTHLY_STAYS&federated_search_id=59f5b2a6-e7f6-409c-ac5b-c9b67b2c1048\n"
     ]
    },
    {
     "name": "stderr",
     "output_type": "stream",
     "text": [
      "[WDM] - Current google-chrome version is 85.0.4183\n",
      "[WDM] - Get LATEST driver version for 85.0.4183\n",
      "[WDM] - Driver [/Users/jasenlo/.wdm/drivers/chromedriver/mac64/85.0.4183.87/chromedriver] found in cache\n"
     ]
    },
    {
     "name": "stdout",
     "output_type": "stream",
     "text": [
      " \n",
      "http://airbnb.com/rooms/21198485?check_in=2021-01-01&check_out=2021-04-30&previous_page_section_name=1000&display_extensions%5B%5D=DATED_LTS&display_extensions%5B%5D=MONTHLY_STAYS&federated_search_id=59f5b2a6-e7f6-409c-ac5b-c9b67b2c1048\n"
     ]
    },
    {
     "name": "stderr",
     "output_type": "stream",
     "text": [
      "[WDM] - Current google-chrome version is 85.0.4183\n",
      "[WDM] - Get LATEST driver version for 85.0.4183\n",
      "[WDM] - Driver [/Users/jasenlo/.wdm/drivers/chromedriver/mac64/85.0.4183.87/chromedriver] found in cache\n"
     ]
    },
    {
     "name": "stdout",
     "output_type": "stream",
     "text": [
      " \n",
      "http://airbnb.com/rooms/13455540?check_in=2021-01-01&check_out=2021-04-30&previous_page_section_name=1000&display_extensions%5B%5D=DATED_LTS&display_extensions%5B%5D=MONTHLY_STAYS&federated_search_id=59f5b2a6-e7f6-409c-ac5b-c9b67b2c1048\n"
     ]
    },
    {
     "name": "stderr",
     "output_type": "stream",
     "text": [
      "[WDM] - Current google-chrome version is 85.0.4183\n",
      "[WDM] - Get LATEST driver version for 85.0.4183\n",
      "[WDM] - Driver [/Users/jasenlo/.wdm/drivers/chromedriver/mac64/85.0.4183.87/chromedriver] found in cache\n"
     ]
    },
    {
     "name": "stdout",
     "output_type": "stream",
     "text": [
      " \n",
      "http://airbnb.com/rooms/22405753?check_in=2021-01-01&check_out=2021-04-30&previous_page_section_name=1000&display_extensions%5B%5D=DATED_LTS&display_extensions%5B%5D=MONTHLY_STAYS&federated_search_id=b93ce8fe-5c29-4a3b-ae34-a2138d95aa64\n"
     ]
    },
    {
     "name": "stderr",
     "output_type": "stream",
     "text": [
      "[WDM] - Current google-chrome version is 85.0.4183\n",
      "[WDM] - Get LATEST driver version for 85.0.4183\n",
      "[WDM] - Driver [/Users/jasenlo/.wdm/drivers/chromedriver/mac64/85.0.4183.87/chromedriver] found in cache\n"
     ]
    },
    {
     "name": "stdout",
     "output_type": "stream",
     "text": [
      " \n",
      "http://airbnb.com/rooms/30803203?check_in=2021-01-01&check_out=2021-04-30&previous_page_section_name=1000&display_extensions%5B%5D=DATED_LTS&display_extensions%5B%5D=MONTHLY_STAYS&federated_search_id=b93ce8fe-5c29-4a3b-ae34-a2138d95aa64\n"
     ]
    },
    {
     "name": "stderr",
     "output_type": "stream",
     "text": [
      "[WDM] - Current google-chrome version is 85.0.4183\n",
      "[WDM] - Get LATEST driver version for 85.0.4183\n",
      "[WDM] - Driver [/Users/jasenlo/.wdm/drivers/chromedriver/mac64/85.0.4183.87/chromedriver] found in cache\n"
     ]
    },
    {
     "name": "stdout",
     "output_type": "stream",
     "text": [
      " \n",
      "http://airbnb.com/rooms/42919082?check_in=2021-01-01&check_out=2021-04-30&previous_page_section_name=1000&display_extensions%5B%5D=DATED_LTS&display_extensions%5B%5D=MONTHLY_STAYS&federated_search_id=b93ce8fe-5c29-4a3b-ae34-a2138d95aa64\n"
     ]
    },
    {
     "name": "stderr",
     "output_type": "stream",
     "text": [
      "[WDM] - Current google-chrome version is 85.0.4183\n",
      "[WDM] - Get LATEST driver version for 85.0.4183\n",
      "[WDM] - Driver [/Users/jasenlo/.wdm/drivers/chromedriver/mac64/85.0.4183.87/chromedriver] found in cache\n"
     ]
    },
    {
     "name": "stdout",
     "output_type": "stream",
     "text": [
      " \n",
      "http://airbnb.com/rooms/43949544?check_in=2021-01-01&check_out=2021-04-30&previous_page_section_name=1000&display_extensions%5B%5D=DATED_LTS&display_extensions%5B%5D=MONTHLY_STAYS&federated_search_id=b93ce8fe-5c29-4a3b-ae34-a2138d95aa64\n"
     ]
    },
    {
     "name": "stderr",
     "output_type": "stream",
     "text": [
      "[WDM] - Current google-chrome version is 85.0.4183\n",
      "[WDM] - Get LATEST driver version for 85.0.4183\n",
      "[WDM] - Driver [/Users/jasenlo/.wdm/drivers/chromedriver/mac64/85.0.4183.87/chromedriver] found in cache\n"
     ]
    },
    {
     "name": "stdout",
     "output_type": "stream",
     "text": [
      " \n",
      "http://airbnb.com/rooms/28790125?check_in=2021-01-01&check_out=2021-04-30&previous_page_section_name=1000&display_extensions%5B%5D=DATED_LTS&display_extensions%5B%5D=MONTHLY_STAYS&federated_search_id=b93ce8fe-5c29-4a3b-ae34-a2138d95aa64\n"
     ]
    },
    {
     "name": "stderr",
     "output_type": "stream",
     "text": [
      "[WDM] - Current google-chrome version is 85.0.4183\n",
      "[WDM] - Get LATEST driver version for 85.0.4183\n",
      "[WDM] - Driver [/Users/jasenlo/.wdm/drivers/chromedriver/mac64/85.0.4183.87/chromedriver] found in cache\n"
     ]
    },
    {
     "name": "stdout",
     "output_type": "stream",
     "text": [
      " \n",
      "http://airbnb.com/rooms/6173828?check_in=2021-01-01&check_out=2021-04-30&previous_page_section_name=1000&display_extensions%5B%5D=DATED_LTS&display_extensions%5B%5D=MONTHLY_STAYS&federated_search_id=b93ce8fe-5c29-4a3b-ae34-a2138d95aa64\n"
     ]
    },
    {
     "name": "stderr",
     "output_type": "stream",
     "text": [
      "[WDM] - Current google-chrome version is 85.0.4183\n",
      "[WDM] - Get LATEST driver version for 85.0.4183\n",
      "[WDM] - Driver [/Users/jasenlo/.wdm/drivers/chromedriver/mac64/85.0.4183.87/chromedriver] found in cache\n"
     ]
    },
    {
     "name": "stdout",
     "output_type": "stream",
     "text": [
      " \n",
      "http://airbnb.com/rooms/32095623?check_in=2021-01-01&check_out=2021-04-30&previous_page_section_name=1000&display_extensions%5B%5D=DATED_LTS&display_extensions%5B%5D=MONTHLY_STAYS&federated_search_id=b93ce8fe-5c29-4a3b-ae34-a2138d95aa64\n"
     ]
    },
    {
     "name": "stderr",
     "output_type": "stream",
     "text": [
      "[WDM] - Current google-chrome version is 85.0.4183\n",
      "[WDM] - Get LATEST driver version for 85.0.4183\n",
      "[WDM] - Driver [/Users/jasenlo/.wdm/drivers/chromedriver/mac64/85.0.4183.87/chromedriver] found in cache\n"
     ]
    },
    {
     "name": "stdout",
     "output_type": "stream",
     "text": [
      " \n",
      "http://airbnb.com/rooms/45261238?check_in=2021-01-01&check_out=2021-04-30&previous_page_section_name=1000&display_extensions%5B%5D=DATED_LTS&display_extensions%5B%5D=MONTHLY_STAYS&federated_search_id=b93ce8fe-5c29-4a3b-ae34-a2138d95aa64\n"
     ]
    },
    {
     "name": "stderr",
     "output_type": "stream",
     "text": [
      "[WDM] - Current google-chrome version is 85.0.4183\n",
      "[WDM] - Get LATEST driver version for 85.0.4183\n",
      "[WDM] - Driver [/Users/jasenlo/.wdm/drivers/chromedriver/mac64/85.0.4183.87/chromedriver] found in cache\n"
     ]
    },
    {
     "name": "stdout",
     "output_type": "stream",
     "text": [
      " \n",
      "http://airbnb.com/rooms/14397837?check_in=2021-01-01&check_out=2021-04-30&previous_page_section_name=1000&display_extensions%5B%5D=DATED_LTS&display_extensions%5B%5D=MONTHLY_STAYS&federated_search_id=b93ce8fe-5c29-4a3b-ae34-a2138d95aa64\n"
     ]
    },
    {
     "name": "stderr",
     "output_type": "stream",
     "text": [
      "[WDM] - Current google-chrome version is 85.0.4183\n",
      "[WDM] - Get LATEST driver version for 85.0.4183\n",
      "[WDM] - Driver [/Users/jasenlo/.wdm/drivers/chromedriver/mac64/85.0.4183.87/chromedriver] found in cache\n"
     ]
    },
    {
     "name": "stdout",
     "output_type": "stream",
     "text": [
      " \n",
      "http://airbnb.com/rooms/6224868?check_in=2021-01-01&check_out=2021-04-30&previous_page_section_name=1000&display_extensions%5B%5D=DATED_LTS&display_extensions%5B%5D=MONTHLY_STAYS&federated_search_id=b93ce8fe-5c29-4a3b-ae34-a2138d95aa64\n"
     ]
    },
    {
     "name": "stderr",
     "output_type": "stream",
     "text": [
      "[WDM] - Current google-chrome version is 85.0.4183\n",
      "[WDM] - Get LATEST driver version for 85.0.4183\n",
      "[WDM] - Driver [/Users/jasenlo/.wdm/drivers/chromedriver/mac64/85.0.4183.87/chromedriver] found in cache\n"
     ]
    },
    {
     "name": "stdout",
     "output_type": "stream",
     "text": [
      " \n",
      "http://airbnb.com/rooms/34032335?check_in=2021-01-01&check_out=2021-04-30&previous_page_section_name=1000&display_extensions%5B%5D=DATED_LTS&display_extensions%5B%5D=MONTHLY_STAYS&federated_search_id=b93ce8fe-5c29-4a3b-ae34-a2138d95aa64\n"
     ]
    },
    {
     "name": "stderr",
     "output_type": "stream",
     "text": [
      "[WDM] - Current google-chrome version is 85.0.4183\n",
      "[WDM] - Get LATEST driver version for 85.0.4183\n",
      "[WDM] - Driver [/Users/jasenlo/.wdm/drivers/chromedriver/mac64/85.0.4183.87/chromedriver] found in cache\n"
     ]
    },
    {
     "name": "stdout",
     "output_type": "stream",
     "text": [
      " \n",
      "http://airbnb.com/rooms/9813209?check_in=2021-01-01&check_out=2021-04-30&previous_page_section_name=1000&display_extensions%5B%5D=DATED_LTS&display_extensions%5B%5D=MONTHLY_STAYS&federated_search_id=b93ce8fe-5c29-4a3b-ae34-a2138d95aa64\n"
     ]
    },
    {
     "name": "stderr",
     "output_type": "stream",
     "text": [
      "[WDM] - Current google-chrome version is 85.0.4183\n",
      "[WDM] - Get LATEST driver version for 85.0.4183\n",
      "[WDM] - Driver [/Users/jasenlo/.wdm/drivers/chromedriver/mac64/85.0.4183.87/chromedriver] found in cache\n"
     ]
    },
    {
     "name": "stdout",
     "output_type": "stream",
     "text": [
      " \n",
      "http://airbnb.com/rooms/45683077?check_in=2021-01-01&check_out=2021-04-30&previous_page_section_name=1000&display_extensions%5B%5D=DATED_LTS&display_extensions%5B%5D=MONTHLY_STAYS&federated_search_id=b93ce8fe-5c29-4a3b-ae34-a2138d95aa64\n"
     ]
    },
    {
     "name": "stderr",
     "output_type": "stream",
     "text": [
      "[WDM] - Current google-chrome version is 85.0.4183\n",
      "[WDM] - Get LATEST driver version for 85.0.4183\n",
      "[WDM] - Driver [/Users/jasenlo/.wdm/drivers/chromedriver/mac64/85.0.4183.87/chromedriver] found in cache\n"
     ]
    },
    {
     "name": "stdout",
     "output_type": "stream",
     "text": [
      " \n",
      "http://airbnb.com/rooms/30822975?check_in=2021-01-01&check_out=2021-04-30&previous_page_section_name=1000&display_extensions%5B%5D=DATED_LTS&display_extensions%5B%5D=MONTHLY_STAYS&federated_search_id=b93ce8fe-5c29-4a3b-ae34-a2138d95aa64\n"
     ]
    },
    {
     "name": "stderr",
     "output_type": "stream",
     "text": [
      "[WDM] - Current google-chrome version is 85.0.4183\n",
      "[WDM] - Get LATEST driver version for 85.0.4183\n",
      "[WDM] - Driver [/Users/jasenlo/.wdm/drivers/chromedriver/mac64/85.0.4183.87/chromedriver] found in cache\n"
     ]
    },
    {
     "name": "stdout",
     "output_type": "stream",
     "text": [
      " \n",
      "http://airbnb.com/rooms/24880549?check_in=2021-01-01&check_out=2021-04-30&previous_page_section_name=1000&display_extensions%5B%5D=DATED_LTS&display_extensions%5B%5D=MONTHLY_STAYS&federated_search_id=b93ce8fe-5c29-4a3b-ae34-a2138d95aa64\n"
     ]
    },
    {
     "name": "stderr",
     "output_type": "stream",
     "text": [
      "[WDM] - Current google-chrome version is 85.0.4183\n",
      "[WDM] - Get LATEST driver version for 85.0.4183\n",
      "[WDM] - Driver [/Users/jasenlo/.wdm/drivers/chromedriver/mac64/85.0.4183.87/chromedriver] found in cache\n"
     ]
    },
    {
     "name": "stdout",
     "output_type": "stream",
     "text": [
      " \n",
      "http://airbnb.com/rooms/10842949?check_in=2021-01-01&check_out=2021-04-30&previous_page_section_name=1000&display_extensions%5B%5D=MONTHLY_STAYS&display_extensions%5B%5D=DATED_LTS&federated_search_id=13bdb440-131f-4be7-9749-9c41e0587c23\n"
     ]
    },
    {
     "name": "stderr",
     "output_type": "stream",
     "text": [
      "[WDM] - Current google-chrome version is 85.0.4183\n",
      "[WDM] - Get LATEST driver version for 85.0.4183\n",
      "[WDM] - Driver [/Users/jasenlo/.wdm/drivers/chromedriver/mac64/85.0.4183.87/chromedriver] found in cache\n"
     ]
    },
    {
     "name": "stdout",
     "output_type": "stream",
     "text": [
      " \n",
      "http://airbnb.com/rooms/35785699?check_in=2021-01-01&check_out=2021-04-30&previous_page_section_name=1000&display_extensions%5B%5D=MONTHLY_STAYS&display_extensions%5B%5D=DATED_LTS&federated_search_id=13bdb440-131f-4be7-9749-9c41e0587c23\n"
     ]
    },
    {
     "name": "stderr",
     "output_type": "stream",
     "text": [
      "[WDM] - Current google-chrome version is 85.0.4183\n",
      "[WDM] - Get LATEST driver version for 85.0.4183\n",
      "[WDM] - Driver [/Users/jasenlo/.wdm/drivers/chromedriver/mac64/85.0.4183.87/chromedriver] found in cache\n"
     ]
    },
    {
     "name": "stdout",
     "output_type": "stream",
     "text": [
      " \n",
      "http://airbnb.com/rooms/30803203?check_in=2021-01-01&check_out=2021-04-30&previous_page_section_name=1000&display_extensions%5B%5D=MONTHLY_STAYS&display_extensions%5B%5D=DATED_LTS&federated_search_id=13bdb440-131f-4be7-9749-9c41e0587c23\n"
     ]
    },
    {
     "name": "stderr",
     "output_type": "stream",
     "text": [
      "[WDM] - Current google-chrome version is 85.0.4183\n",
      "[WDM] - Get LATEST driver version for 85.0.4183\n",
      "[WDM] - Driver [/Users/jasenlo/.wdm/drivers/chromedriver/mac64/85.0.4183.87/chromedriver] found in cache\n"
     ]
    },
    {
     "name": "stdout",
     "output_type": "stream",
     "text": [
      " \n",
      "http://airbnb.com/rooms/34037761?check_in=2021-01-01&check_out=2021-04-30&previous_page_section_name=1000&display_extensions%5B%5D=MONTHLY_STAYS&display_extensions%5B%5D=DATED_LTS&federated_search_id=13bdb440-131f-4be7-9749-9c41e0587c23\n"
     ]
    },
    {
     "name": "stderr",
     "output_type": "stream",
     "text": [
      "[WDM] - Current google-chrome version is 85.0.4183\n",
      "[WDM] - Get LATEST driver version for 85.0.4183\n",
      "[WDM] - Driver [/Users/jasenlo/.wdm/drivers/chromedriver/mac64/85.0.4183.87/chromedriver] found in cache\n"
     ]
    },
    {
     "name": "stdout",
     "output_type": "stream",
     "text": [
      " \n",
      "http://airbnb.com/rooms/42905783?check_in=2021-01-01&check_out=2021-04-30&previous_page_section_name=1000&display_extensions%5B%5D=MONTHLY_STAYS&display_extensions%5B%5D=DATED_LTS&federated_search_id=13bdb440-131f-4be7-9749-9c41e0587c23\n"
     ]
    },
    {
     "name": "stderr",
     "output_type": "stream",
     "text": [
      "[WDM] - Current google-chrome version is 85.0.4183\n",
      "[WDM] - Get LATEST driver version for 85.0.4183\n",
      "[WDM] - Driver [/Users/jasenlo/.wdm/drivers/chromedriver/mac64/85.0.4183.87/chromedriver] found in cache\n"
     ]
    },
    {
     "name": "stdout",
     "output_type": "stream",
     "text": [
      " \n",
      "http://airbnb.com/rooms/9813209?check_in=2021-01-01&check_out=2021-04-30&previous_page_section_name=1000&display_extensions%5B%5D=MONTHLY_STAYS&display_extensions%5B%5D=DATED_LTS&federated_search_id=13bdb440-131f-4be7-9749-9c41e0587c23\n"
     ]
    },
    {
     "name": "stderr",
     "output_type": "stream",
     "text": [
      "[WDM] - Current google-chrome version is 85.0.4183\n",
      "[WDM] - Get LATEST driver version for 85.0.4183\n",
      "[WDM] - Driver [/Users/jasenlo/.wdm/drivers/chromedriver/mac64/85.0.4183.87/chromedriver] found in cache\n"
     ]
    },
    {
     "name": "stdout",
     "output_type": "stream",
     "text": [
      " \n",
      "http://airbnb.com/rooms/10823517?check_in=2021-01-01&check_out=2021-04-30&previous_page_section_name=1000&display_extensions%5B%5D=MONTHLY_STAYS&display_extensions%5B%5D=DATED_LTS&federated_search_id=13bdb440-131f-4be7-9749-9c41e0587c23\n"
     ]
    },
    {
     "name": "stderr",
     "output_type": "stream",
     "text": [
      "[WDM] - Current google-chrome version is 85.0.4183\n",
      "[WDM] - Get LATEST driver version for 85.0.4183\n",
      "[WDM] - Driver [/Users/jasenlo/.wdm/drivers/chromedriver/mac64/85.0.4183.87/chromedriver] found in cache\n"
     ]
    },
    {
     "name": "stdout",
     "output_type": "stream",
     "text": [
      " \n",
      "http://airbnb.com/rooms/24880641?check_in=2021-01-01&check_out=2021-04-30&previous_page_section_name=1000&display_extensions%5B%5D=MONTHLY_STAYS&display_extensions%5B%5D=DATED_LTS&federated_search_id=13bdb440-131f-4be7-9749-9c41e0587c23\n"
     ]
    },
    {
     "name": "stderr",
     "output_type": "stream",
     "text": [
      "[WDM] - Current google-chrome version is 85.0.4183\n",
      "[WDM] - Get LATEST driver version for 85.0.4183\n",
      "[WDM] - Driver [/Users/jasenlo/.wdm/drivers/chromedriver/mac64/85.0.4183.87/chromedriver] found in cache\n"
     ]
    },
    {
     "name": "stdout",
     "output_type": "stream",
     "text": [
      " \n",
      "http://airbnb.com/rooms/13981928?check_in=2021-01-01&check_out=2021-04-30&previous_page_section_name=1000&display_extensions%5B%5D=MONTHLY_STAYS&display_extensions%5B%5D=DATED_LTS&federated_search_id=13bdb440-131f-4be7-9749-9c41e0587c23\n"
     ]
    },
    {
     "name": "stderr",
     "output_type": "stream",
     "text": [
      "[WDM] - Current google-chrome version is 85.0.4183\n",
      "[WDM] - Get LATEST driver version for 85.0.4183\n",
      "[WDM] - Driver [/Users/jasenlo/.wdm/drivers/chromedriver/mac64/85.0.4183.87/chromedriver] found in cache\n"
     ]
    },
    {
     "name": "stdout",
     "output_type": "stream",
     "text": [
      " \n",
      "http://airbnb.com/rooms/45611803?check_in=2021-01-01&check_out=2021-04-30&previous_page_section_name=1000&display_extensions%5B%5D=MONTHLY_STAYS&display_extensions%5B%5D=DATED_LTS&federated_search_id=13bdb440-131f-4be7-9749-9c41e0587c23\n"
     ]
    },
    {
     "name": "stderr",
     "output_type": "stream",
     "text": [
      "[WDM] - Current google-chrome version is 85.0.4183\n",
      "[WDM] - Get LATEST driver version for 85.0.4183\n",
      "[WDM] - Driver [/Users/jasenlo/.wdm/drivers/chromedriver/mac64/85.0.4183.87/chromedriver] found in cache\n"
     ]
    },
    {
     "name": "stdout",
     "output_type": "stream",
     "text": [
      " \n",
      "http://airbnb.com/rooms/18649901?check_in=2021-01-01&check_out=2021-04-30&previous_page_section_name=1000&display_extensions%5B%5D=MONTHLY_STAYS&display_extensions%5B%5D=DATED_LTS&federated_search_id=13bdb440-131f-4be7-9749-9c41e0587c23\n"
     ]
    },
    {
     "name": "stderr",
     "output_type": "stream",
     "text": [
      "[WDM] - Current google-chrome version is 85.0.4183\n",
      "[WDM] - Get LATEST driver version for 85.0.4183\n",
      "[WDM] - Driver [/Users/jasenlo/.wdm/drivers/chromedriver/mac64/85.0.4183.87/chromedriver] found in cache\n"
     ]
    },
    {
     "name": "stdout",
     "output_type": "stream",
     "text": [
      " \n",
      "http://airbnb.com/rooms/15013118?check_in=2021-01-01&check_out=2021-04-30&previous_page_section_name=1000&display_extensions%5B%5D=MONTHLY_STAYS&display_extensions%5B%5D=DATED_LTS&federated_search_id=13bdb440-131f-4be7-9749-9c41e0587c23\n"
     ]
    },
    {
     "name": "stderr",
     "output_type": "stream",
     "text": [
      "[WDM] - Current google-chrome version is 85.0.4183\n",
      "[WDM] - Get LATEST driver version for 85.0.4183\n",
      "[WDM] - Driver [/Users/jasenlo/.wdm/drivers/chromedriver/mac64/85.0.4183.87/chromedriver] found in cache\n"
     ]
    },
    {
     "name": "stdout",
     "output_type": "stream",
     "text": [
      " \n",
      "http://airbnb.com/rooms/22350379?check_in=2021-01-01&check_out=2021-04-30&previous_page_section_name=1000&display_extensions%5B%5D=MONTHLY_STAYS&display_extensions%5B%5D=DATED_LTS&federated_search_id=13bdb440-131f-4be7-9749-9c41e0587c23\n"
     ]
    },
    {
     "name": "stderr",
     "output_type": "stream",
     "text": [
      "[WDM] - Current google-chrome version is 85.0.4183\n",
      "[WDM] - Get LATEST driver version for 85.0.4183\n",
      "[WDM] - Driver [/Users/jasenlo/.wdm/drivers/chromedriver/mac64/85.0.4183.87/chromedriver] found in cache\n"
     ]
    },
    {
     "name": "stdout",
     "output_type": "stream",
     "text": [
      " \n",
      "http://airbnb.com/rooms/38824472?check_in=2021-01-01&check_out=2021-04-30&previous_page_section_name=1000&display_extensions%5B%5D=MONTHLY_STAYS&display_extensions%5B%5D=DATED_LTS&federated_search_id=13bdb440-131f-4be7-9749-9c41e0587c23\n"
     ]
    },
    {
     "name": "stderr",
     "output_type": "stream",
     "text": [
      "[WDM] - Current google-chrome version is 85.0.4183\n",
      "[WDM] - Get LATEST driver version for 85.0.4183\n",
      "[WDM] - Driver [/Users/jasenlo/.wdm/drivers/chromedriver/mac64/85.0.4183.87/chromedriver] found in cache\n"
     ]
    },
    {
     "name": "stdout",
     "output_type": "stream",
     "text": [
      " \n",
      "http://airbnb.com/rooms/24504130?check_in=2021-01-01&check_out=2021-04-30&previous_page_section_name=1000&display_extensions%5B%5D=MONTHLY_STAYS&display_extensions%5B%5D=DATED_LTS&federated_search_id=13bdb440-131f-4be7-9749-9c41e0587c23\n"
     ]
    },
    {
     "name": "stderr",
     "output_type": "stream",
     "text": [
      "[WDM] - Current google-chrome version is 85.0.4183\n",
      "[WDM] - Get LATEST driver version for 85.0.4183\n",
      "[WDM] - Driver [/Users/jasenlo/.wdm/drivers/chromedriver/mac64/85.0.4183.87/chromedriver] found in cache\n"
     ]
    },
    {
     "name": "stdout",
     "output_type": "stream",
     "text": [
      " \n",
      "http://airbnb.com/rooms/38309892?check_in=2021-01-01&check_out=2021-04-30&previous_page_section_name=1000&display_extensions%5B%5D=MONTHLY_STAYS&display_extensions%5B%5D=DATED_LTS&federated_search_id=13bdb440-131f-4be7-9749-9c41e0587c23\n"
     ]
    },
    {
     "name": "stderr",
     "output_type": "stream",
     "text": [
      "[WDM] - Current google-chrome version is 85.0.4183\n",
      "[WDM] - Get LATEST driver version for 85.0.4183\n",
      "[WDM] - Driver [/Users/jasenlo/.wdm/drivers/chromedriver/mac64/85.0.4183.87/chromedriver] found in cache\n"
     ]
    },
    {
     "name": "stdout",
     "output_type": "stream",
     "text": [
      " \n",
      "http://airbnb.com/rooms/11701897?check_in=2021-01-01&check_out=2021-04-30&previous_page_section_name=1000&display_extensions%5B%5D=MONTHLY_STAYS&display_extensions%5B%5D=DATED_LTS&federated_search_id=5d3b9e98-def3-4b96-921e-aa7c1183c4fb\n"
     ]
    },
    {
     "name": "stderr",
     "output_type": "stream",
     "text": [
      "[WDM] - Current google-chrome version is 85.0.4183\n",
      "[WDM] - Get LATEST driver version for 85.0.4183\n",
      "[WDM] - Driver [/Users/jasenlo/.wdm/drivers/chromedriver/mac64/85.0.4183.87/chromedriver] found in cache\n"
     ]
    },
    {
     "name": "stdout",
     "output_type": "stream",
     "text": [
      " \n",
      "http://airbnb.com/rooms/6898486?check_in=2021-01-01&check_out=2021-04-30&previous_page_section_name=1000&display_extensions%5B%5D=MONTHLY_STAYS&display_extensions%5B%5D=DATED_LTS&federated_search_id=5d3b9e98-def3-4b96-921e-aa7c1183c4fb\n"
     ]
    },
    {
     "name": "stderr",
     "output_type": "stream",
     "text": [
      "[WDM] - Current google-chrome version is 85.0.4183\n",
      "[WDM] - Get LATEST driver version for 85.0.4183\n",
      "[WDM] - Driver [/Users/jasenlo/.wdm/drivers/chromedriver/mac64/85.0.4183.87/chromedriver] found in cache\n"
     ]
    },
    {
     "name": "stdout",
     "output_type": "stream",
     "text": [
      " \n",
      "http://airbnb.com/rooms/15013118?check_in=2021-01-01&check_out=2021-04-30&previous_page_section_name=1000&display_extensions%5B%5D=MONTHLY_STAYS&display_extensions%5B%5D=DATED_LTS&federated_search_id=5d3b9e98-def3-4b96-921e-aa7c1183c4fb\n"
     ]
    },
    {
     "name": "stderr",
     "output_type": "stream",
     "text": [
      "[WDM] - Current google-chrome version is 85.0.4183\n",
      "[WDM] - Get LATEST driver version for 85.0.4183\n",
      "[WDM] - Driver [/Users/jasenlo/.wdm/drivers/chromedriver/mac64/85.0.4183.87/chromedriver] found in cache\n"
     ]
    },
    {
     "name": "stdout",
     "output_type": "stream",
     "text": [
      " \n",
      "http://airbnb.com/rooms/30822975?check_in=2021-01-01&check_out=2021-04-30&previous_page_section_name=1000&display_extensions%5B%5D=MONTHLY_STAYS&display_extensions%5B%5D=DATED_LTS&federated_search_id=5d3b9e98-def3-4b96-921e-aa7c1183c4fb\n"
     ]
    },
    {
     "name": "stderr",
     "output_type": "stream",
     "text": [
      "[WDM] - Current google-chrome version is 85.0.4183\n",
      "[WDM] - Get LATEST driver version for 85.0.4183\n",
      "[WDM] - Driver [/Users/jasenlo/.wdm/drivers/chromedriver/mac64/85.0.4183.87/chromedriver] found in cache\n"
     ]
    },
    {
     "name": "stdout",
     "output_type": "stream",
     "text": [
      " \n",
      "http://airbnb.com/rooms/13981928?check_in=2021-01-01&check_out=2021-04-30&previous_page_section_name=1000&display_extensions%5B%5D=MONTHLY_STAYS&display_extensions%5B%5D=DATED_LTS&federated_search_id=5d3b9e98-def3-4b96-921e-aa7c1183c4fb\n"
     ]
    },
    {
     "name": "stderr",
     "output_type": "stream",
     "text": [
      "[WDM] - Current google-chrome version is 85.0.4183\n",
      "[WDM] - Get LATEST driver version for 85.0.4183\n",
      "[WDM] - Driver [/Users/jasenlo/.wdm/drivers/chromedriver/mac64/85.0.4183.87/chromedriver] found in cache\n"
     ]
    },
    {
     "name": "stdout",
     "output_type": "stream",
     "text": [
      " \n",
      "http://airbnb.com/rooms/24878657?check_in=2021-01-01&check_out=2021-04-30&previous_page_section_name=1000&display_extensions%5B%5D=MONTHLY_STAYS&display_extensions%5B%5D=DATED_LTS&federated_search_id=5d3b9e98-def3-4b96-921e-aa7c1183c4fb\n"
     ]
    },
    {
     "name": "stderr",
     "output_type": "stream",
     "text": [
      "[WDM] - Current google-chrome version is 85.0.4183\n",
      "[WDM] - Get LATEST driver version for 85.0.4183\n",
      "[WDM] - Driver [/Users/jasenlo/.wdm/drivers/chromedriver/mac64/85.0.4183.87/chromedriver] found in cache\n"
     ]
    },
    {
     "name": "stdout",
     "output_type": "stream",
     "text": [
      " \n",
      "http://airbnb.com/rooms/3761956?check_in=2021-01-01&check_out=2021-04-30&previous_page_section_name=1000&display_extensions%5B%5D=MONTHLY_STAYS&display_extensions%5B%5D=DATED_LTS&federated_search_id=5d3b9e98-def3-4b96-921e-aa7c1183c4fb\n"
     ]
    },
    {
     "name": "stderr",
     "output_type": "stream",
     "text": [
      "[WDM] - Current google-chrome version is 85.0.4183\n",
      "[WDM] - Get LATEST driver version for 85.0.4183\n",
      "[WDM] - Driver [/Users/jasenlo/.wdm/drivers/chromedriver/mac64/85.0.4183.87/chromedriver] found in cache\n"
     ]
    },
    {
     "name": "stdout",
     "output_type": "stream",
     "text": [
      " \n",
      "http://airbnb.com/rooms/38824472?check_in=2021-01-01&check_out=2021-04-30&previous_page_section_name=1000&display_extensions%5B%5D=MONTHLY_STAYS&display_extensions%5B%5D=DATED_LTS&federated_search_id=5d3b9e98-def3-4b96-921e-aa7c1183c4fb\n"
     ]
    },
    {
     "name": "stderr",
     "output_type": "stream",
     "text": [
      "[WDM] - Current google-chrome version is 85.0.4183\n",
      "[WDM] - Get LATEST driver version for 85.0.4183\n",
      "[WDM] - Driver [/Users/jasenlo/.wdm/drivers/chromedriver/mac64/85.0.4183.87/chromedriver] found in cache\n"
     ]
    },
    {
     "name": "stdout",
     "output_type": "stream",
     "text": [
      " \n",
      "http://airbnb.com/rooms/22476736?check_in=2021-01-01&check_out=2021-04-30&previous_page_section_name=1000&display_extensions%5B%5D=MONTHLY_STAYS&display_extensions%5B%5D=DATED_LTS&federated_search_id=5d3b9e98-def3-4b96-921e-aa7c1183c4fb\n"
     ]
    },
    {
     "name": "stderr",
     "output_type": "stream",
     "text": [
      "[WDM] - Current google-chrome version is 85.0.4183\n",
      "[WDM] - Get LATEST driver version for 85.0.4183\n",
      "[WDM] - Driver [/Users/jasenlo/.wdm/drivers/chromedriver/mac64/85.0.4183.87/chromedriver] found in cache\n"
     ]
    },
    {
     "name": "stdout",
     "output_type": "stream",
     "text": [
      " \n",
      "http://airbnb.com/rooms/45611803?check_in=2021-01-01&check_out=2021-04-30&previous_page_section_name=1000&display_extensions%5B%5D=MONTHLY_STAYS&display_extensions%5B%5D=DATED_LTS&federated_search_id=5d3b9e98-def3-4b96-921e-aa7c1183c4fb\n"
     ]
    },
    {
     "name": "stderr",
     "output_type": "stream",
     "text": [
      "[WDM] - Current google-chrome version is 85.0.4183\n",
      "[WDM] - Get LATEST driver version for 85.0.4183\n",
      "[WDM] - Driver [/Users/jasenlo/.wdm/drivers/chromedriver/mac64/85.0.4183.87/chromedriver] found in cache\n"
     ]
    },
    {
     "name": "stdout",
     "output_type": "stream",
     "text": [
      " \n",
      "http://airbnb.com/rooms/12327483?check_in=2021-01-01&check_out=2021-04-30&previous_page_section_name=1000&display_extensions%5B%5D=MONTHLY_STAYS&display_extensions%5B%5D=DATED_LTS&federated_search_id=5d3b9e98-def3-4b96-921e-aa7c1183c4fb\n"
     ]
    },
    {
     "name": "stderr",
     "output_type": "stream",
     "text": [
      "[WDM] - Current google-chrome version is 85.0.4183\n",
      "[WDM] - Get LATEST driver version for 85.0.4183\n",
      "[WDM] - Driver [/Users/jasenlo/.wdm/drivers/chromedriver/mac64/85.0.4183.87/chromedriver] found in cache\n"
     ]
    },
    {
     "name": "stdout",
     "output_type": "stream",
     "text": [
      " \n",
      "http://airbnb.com/rooms/25831185?check_in=2021-01-01&check_out=2021-04-30&previous_page_section_name=1000&display_extensions%5B%5D=MONTHLY_STAYS&display_extensions%5B%5D=DATED_LTS&federated_search_id=5d3b9e98-def3-4b96-921e-aa7c1183c4fb\n"
     ]
    },
    {
     "name": "stderr",
     "output_type": "stream",
     "text": [
      "[WDM] - Current google-chrome version is 85.0.4183\n",
      "[WDM] - Get LATEST driver version for 85.0.4183\n",
      "[WDM] - Driver [/Users/jasenlo/.wdm/drivers/chromedriver/mac64/85.0.4183.87/chromedriver] found in cache\n"
     ]
    },
    {
     "name": "stdout",
     "output_type": "stream",
     "text": [
      " \n",
      "http://airbnb.com/rooms/17206882?check_in=2021-01-01&check_out=2021-04-30&previous_page_section_name=1000&display_extensions%5B%5D=MONTHLY_STAYS&display_extensions%5B%5D=DATED_LTS&federated_search_id=5d3b9e98-def3-4b96-921e-aa7c1183c4fb\n"
     ]
    },
    {
     "name": "stderr",
     "output_type": "stream",
     "text": [
      "[WDM] - Current google-chrome version is 85.0.4183\n",
      "[WDM] - Get LATEST driver version for 85.0.4183\n",
      "[WDM] - Driver [/Users/jasenlo/.wdm/drivers/chromedriver/mac64/85.0.4183.87/chromedriver] found in cache\n"
     ]
    },
    {
     "name": "stdout",
     "output_type": "stream",
     "text": [
      " \n",
      "http://airbnb.com/rooms/6008427?check_in=2021-01-01&check_out=2021-04-30&previous_page_section_name=1000&display_extensions%5B%5D=MONTHLY_STAYS&display_extensions%5B%5D=DATED_LTS&federated_search_id=5d3b9e98-def3-4b96-921e-aa7c1183c4fb\n"
     ]
    },
    {
     "name": "stderr",
     "output_type": "stream",
     "text": [
      "[WDM] - Current google-chrome version is 85.0.4183\n",
      "[WDM] - Get LATEST driver version for 85.0.4183\n",
      "[WDM] - Driver [/Users/jasenlo/.wdm/drivers/chromedriver/mac64/85.0.4183.87/chromedriver] found in cache\n"
     ]
    },
    {
     "name": "stdout",
     "output_type": "stream",
     "text": [
      " \n",
      "http://airbnb.com/rooms/45534816?check_in=2021-01-01&check_out=2021-04-30&previous_page_section_name=1000&display_extensions%5B%5D=MONTHLY_STAYS&display_extensions%5B%5D=DATED_LTS&federated_search_id=04ad7f33-5945-43d3-827a-5fa8ff9a6c25\n"
     ]
    },
    {
     "name": "stderr",
     "output_type": "stream",
     "text": [
      "[WDM] - Current google-chrome version is 85.0.4183\n",
      "[WDM] - Get LATEST driver version for 85.0.4183\n",
      "[WDM] - Driver [/Users/jasenlo/.wdm/drivers/chromedriver/mac64/85.0.4183.87/chromedriver] found in cache\n"
     ]
    },
    {
     "name": "stdout",
     "output_type": "stream",
     "text": [
      " \n",
      "http://airbnb.com/rooms/10689015?check_in=2021-01-01&check_out=2021-04-30&previous_page_section_name=1000&display_extensions%5B%5D=MONTHLY_STAYS&display_extensions%5B%5D=DATED_LTS&federated_search_id=04ad7f33-5945-43d3-827a-5fa8ff9a6c25\n"
     ]
    },
    {
     "name": "stderr",
     "output_type": "stream",
     "text": [
      "[WDM] - Current google-chrome version is 85.0.4183\n",
      "[WDM] - Get LATEST driver version for 85.0.4183\n",
      "[WDM] - Driver [/Users/jasenlo/.wdm/drivers/chromedriver/mac64/85.0.4183.87/chromedriver] found in cache\n"
     ]
    },
    {
     "name": "stdout",
     "output_type": "stream",
     "text": [
      " \n",
      "http://airbnb.com/rooms/10842602?check_in=2021-01-01&check_out=2021-04-30&previous_page_section_name=1000&display_extensions%5B%5D=MONTHLY_STAYS&display_extensions%5B%5D=DATED_LTS&federated_search_id=04ad7f33-5945-43d3-827a-5fa8ff9a6c25\n"
     ]
    },
    {
     "name": "stderr",
     "output_type": "stream",
     "text": [
      "[WDM] - Current google-chrome version is 85.0.4183\n",
      "[WDM] - Get LATEST driver version for 85.0.4183\n",
      "[WDM] - Driver [/Users/jasenlo/.wdm/drivers/chromedriver/mac64/85.0.4183.87/chromedriver] found in cache\n"
     ]
    },
    {
     "name": "stdout",
     "output_type": "stream",
     "text": [
      " \n",
      "http://airbnb.com/rooms/29320951?check_in=2021-01-01&check_out=2021-04-30&previous_page_section_name=1000&display_extensions%5B%5D=MONTHLY_STAYS&display_extensions%5B%5D=DATED_LTS&federated_search_id=04ad7f33-5945-43d3-827a-5fa8ff9a6c25\n"
     ]
    },
    {
     "name": "stderr",
     "output_type": "stream",
     "text": [
      "[WDM] - Current google-chrome version is 85.0.4183\n",
      "[WDM] - Get LATEST driver version for 85.0.4183\n",
      "[WDM] - Driver [/Users/jasenlo/.wdm/drivers/chromedriver/mac64/85.0.4183.87/chromedriver] found in cache\n"
     ]
    },
    {
     "name": "stdout",
     "output_type": "stream",
     "text": [
      " \n",
      "http://airbnb.com/rooms/17287805?check_in=2021-01-01&check_out=2021-04-30&previous_page_section_name=1000&display_extensions%5B%5D=MONTHLY_STAYS&display_extensions%5B%5D=DATED_LTS&federated_search_id=04ad7f33-5945-43d3-827a-5fa8ff9a6c25\n"
     ]
    },
    {
     "name": "stderr",
     "output_type": "stream",
     "text": [
      "[WDM] - Current google-chrome version is 85.0.4183\n",
      "[WDM] - Get LATEST driver version for 85.0.4183\n",
      "[WDM] - Driver [/Users/jasenlo/.wdm/drivers/chromedriver/mac64/85.0.4183.87/chromedriver] found in cache\n"
     ]
    },
    {
     "name": "stdout",
     "output_type": "stream",
     "text": [
      " \n",
      "http://airbnb.com/rooms/24842926?check_in=2021-01-01&check_out=2021-04-30&previous_page_section_name=1000&display_extensions%5B%5D=MONTHLY_STAYS&display_extensions%5B%5D=DATED_LTS&federated_search_id=04ad7f33-5945-43d3-827a-5fa8ff9a6c25\n"
     ]
    },
    {
     "name": "stderr",
     "output_type": "stream",
     "text": [
      "[WDM] - Current google-chrome version is 85.0.4183\n",
      "[WDM] - Get LATEST driver version for 85.0.4183\n",
      "[WDM] - Driver [/Users/jasenlo/.wdm/drivers/chromedriver/mac64/85.0.4183.87/chromedriver] found in cache\n"
     ]
    },
    {
     "name": "stdout",
     "output_type": "stream",
     "text": [
      " \n",
      "http://airbnb.com/rooms/23816601?check_in=2021-01-01&check_out=2021-04-30&previous_page_section_name=1000&display_extensions%5B%5D=MONTHLY_STAYS&display_extensions%5B%5D=DATED_LTS&federated_search_id=04ad7f33-5945-43d3-827a-5fa8ff9a6c25\n"
     ]
    },
    {
     "name": "stderr",
     "output_type": "stream",
     "text": [
      "[WDM] - Current google-chrome version is 85.0.4183\n",
      "[WDM] - Get LATEST driver version for 85.0.4183\n",
      "[WDM] - Driver [/Users/jasenlo/.wdm/drivers/chromedriver/mac64/85.0.4183.87/chromedriver] found in cache\n"
     ]
    },
    {
     "name": "stdout",
     "output_type": "stream",
     "text": [
      " \n",
      "http://airbnb.com/rooms/17259519?check_in=2021-01-01&check_out=2021-04-30&previous_page_section_name=1000&display_extensions%5B%5D=MONTHLY_STAYS&display_extensions%5B%5D=DATED_LTS&federated_search_id=04ad7f33-5945-43d3-827a-5fa8ff9a6c25\n"
     ]
    },
    {
     "name": "stderr",
     "output_type": "stream",
     "text": [
      "[WDM] - Current google-chrome version is 85.0.4183\n",
      "[WDM] - Get LATEST driver version for 85.0.4183\n",
      "[WDM] - Driver [/Users/jasenlo/.wdm/drivers/chromedriver/mac64/85.0.4183.87/chromedriver] found in cache\n"
     ]
    },
    {
     "name": "stdout",
     "output_type": "stream",
     "text": [
      " \n",
      "http://airbnb.com/rooms/25046318?check_in=2021-01-01&check_out=2021-04-30&previous_page_section_name=1000&display_extensions%5B%5D=MONTHLY_STAYS&display_extensions%5B%5D=DATED_LTS&federated_search_id=04ad7f33-5945-43d3-827a-5fa8ff9a6c25\n"
     ]
    },
    {
     "name": "stderr",
     "output_type": "stream",
     "text": [
      "[WDM] - Current google-chrome version is 85.0.4183\n",
      "[WDM] - Get LATEST driver version for 85.0.4183\n",
      "[WDM] - Driver [/Users/jasenlo/.wdm/drivers/chromedriver/mac64/85.0.4183.87/chromedriver] found in cache\n"
     ]
    },
    {
     "name": "stdout",
     "output_type": "stream",
     "text": [
      " \n",
      "http://airbnb.com/rooms/4267155?check_in=2021-01-01&check_out=2021-04-30&previous_page_section_name=1000&display_extensions%5B%5D=MONTHLY_STAYS&display_extensions%5B%5D=DATED_LTS&federated_search_id=04ad7f33-5945-43d3-827a-5fa8ff9a6c25\n"
     ]
    },
    {
     "name": "stderr",
     "output_type": "stream",
     "text": [
      "[WDM] - Current google-chrome version is 85.0.4183\n",
      "[WDM] - Get LATEST driver version for 85.0.4183\n",
      "[WDM] - Driver [/Users/jasenlo/.wdm/drivers/chromedriver/mac64/85.0.4183.87/chromedriver] found in cache\n"
     ]
    },
    {
     "name": "stdout",
     "output_type": "stream",
     "text": [
      " \n",
      "http://airbnb.com/rooms/45093776?check_in=2021-01-01&check_out=2021-04-30&previous_page_section_name=1000&display_extensions%5B%5D=MONTHLY_STAYS&display_extensions%5B%5D=DATED_LTS&federated_search_id=04ad7f33-5945-43d3-827a-5fa8ff9a6c25\n"
     ]
    },
    {
     "name": "stderr",
     "output_type": "stream",
     "text": [
      "[WDM] - Current google-chrome version is 85.0.4183\n",
      "[WDM] - Get LATEST driver version for 85.0.4183\n",
      "[WDM] - Driver [/Users/jasenlo/.wdm/drivers/chromedriver/mac64/85.0.4183.87/chromedriver] found in cache\n"
     ]
    },
    {
     "name": "stdout",
     "output_type": "stream",
     "text": [
      " \n",
      "http://airbnb.com/rooms/14552017?check_in=2021-01-01&check_out=2021-04-30&previous_page_section_name=1000&display_extensions%5B%5D=MONTHLY_STAYS&display_extensions%5B%5D=DATED_LTS&federated_search_id=04ad7f33-5945-43d3-827a-5fa8ff9a6c25\n"
     ]
    },
    {
     "name": "stderr",
     "output_type": "stream",
     "text": [
      "[WDM] - Current google-chrome version is 85.0.4183\n",
      "[WDM] - Get LATEST driver version for 85.0.4183\n",
      "[WDM] - Driver [/Users/jasenlo/.wdm/drivers/chromedriver/mac64/85.0.4183.87/chromedriver] found in cache\n"
     ]
    },
    {
     "name": "stdout",
     "output_type": "stream",
     "text": [
      " \n",
      "http://airbnb.com/rooms/36139017?check_in=2021-01-01&check_out=2021-04-30&previous_page_section_name=1000&display_extensions%5B%5D=MONTHLY_STAYS&display_extensions%5B%5D=DATED_LTS&federated_search_id=3ebc2e4d-8410-4712-84b6-f82bd54a4593\n"
     ]
    },
    {
     "name": "stderr",
     "output_type": "stream",
     "text": [
      "[WDM] - Current google-chrome version is 85.0.4183\n",
      "[WDM] - Get LATEST driver version for 85.0.4183\n",
      "[WDM] - Driver [/Users/jasenlo/.wdm/drivers/chromedriver/mac64/85.0.4183.87/chromedriver] found in cache\n"
     ]
    },
    {
     "name": "stdout",
     "output_type": "stream",
     "text": [
      " \n",
      "http://airbnb.com/rooms/29320951?check_in=2021-01-01&check_out=2021-04-30&previous_page_section_name=1000&display_extensions%5B%5D=MONTHLY_STAYS&display_extensions%5B%5D=DATED_LTS&federated_search_id=3ebc2e4d-8410-4712-84b6-f82bd54a4593\n"
     ]
    },
    {
     "name": "stderr",
     "output_type": "stream",
     "text": [
      "[WDM] - Current google-chrome version is 85.0.4183\n",
      "[WDM] - Get LATEST driver version for 85.0.4183\n",
      "[WDM] - Driver [/Users/jasenlo/.wdm/drivers/chromedriver/mac64/85.0.4183.87/chromedriver] found in cache\n"
     ]
    },
    {
     "name": "stdout",
     "output_type": "stream",
     "text": [
      " \n",
      "http://airbnb.com/rooms/45534816?check_in=2021-01-01&check_out=2021-04-30&previous_page_section_name=1000&display_extensions%5B%5D=MONTHLY_STAYS&display_extensions%5B%5D=DATED_LTS&federated_search_id=3ebc2e4d-8410-4712-84b6-f82bd54a4593\n"
     ]
    },
    {
     "name": "stderr",
     "output_type": "stream",
     "text": [
      "[WDM] - Current google-chrome version is 85.0.4183\n",
      "[WDM] - Get LATEST driver version for 85.0.4183\n",
      "[WDM] - Driver [/Users/jasenlo/.wdm/drivers/chromedriver/mac64/85.0.4183.87/chromedriver] found in cache\n"
     ]
    },
    {
     "name": "stdout",
     "output_type": "stream",
     "text": [
      " \n",
      "http://airbnb.com/rooms/24842926?check_in=2021-01-01&check_out=2021-04-30&previous_page_section_name=1000&display_extensions%5B%5D=MONTHLY_STAYS&display_extensions%5B%5D=DATED_LTS&federated_search_id=3ebc2e4d-8410-4712-84b6-f82bd54a4593\n"
     ]
    },
    {
     "name": "stderr",
     "output_type": "stream",
     "text": [
      "[WDM] - Current google-chrome version is 85.0.4183\n",
      "[WDM] - Get LATEST driver version for 85.0.4183\n",
      "[WDM] - Driver [/Users/jasenlo/.wdm/drivers/chromedriver/mac64/85.0.4183.87/chromedriver] found in cache\n"
     ]
    },
    {
     "name": "stdout",
     "output_type": "stream",
     "text": [
      " \n",
      "http://airbnb.com/rooms/9934422?check_in=2021-01-01&check_out=2021-04-30&previous_page_section_name=1000&display_extensions%5B%5D=MONTHLY_STAYS&display_extensions%5B%5D=DATED_LTS&federated_search_id=3ebc2e4d-8410-4712-84b6-f82bd54a4593\n"
     ]
    },
    {
     "name": "stderr",
     "output_type": "stream",
     "text": [
      "[WDM] - Current google-chrome version is 85.0.4183\n",
      "[WDM] - Get LATEST driver version for 85.0.4183\n",
      "[WDM] - Driver [/Users/jasenlo/.wdm/drivers/chromedriver/mac64/85.0.4183.87/chromedriver] found in cache\n"
     ]
    },
    {
     "name": "stdout",
     "output_type": "stream",
     "text": [
      " \n",
      "http://airbnb.com/rooms/10842602?check_in=2021-01-01&check_out=2021-04-30&previous_page_section_name=1000&display_extensions%5B%5D=MONTHLY_STAYS&display_extensions%5B%5D=DATED_LTS&federated_search_id=3ebc2e4d-8410-4712-84b6-f82bd54a4593\n"
     ]
    },
    {
     "name": "stderr",
     "output_type": "stream",
     "text": [
      "[WDM] - Current google-chrome version is 85.0.4183\n",
      "[WDM] - Get LATEST driver version for 85.0.4183\n",
      "[WDM] - Driver [/Users/jasenlo/.wdm/drivers/chromedriver/mac64/85.0.4183.87/chromedriver] found in cache\n"
     ]
    },
    {
     "name": "stdout",
     "output_type": "stream",
     "text": [
      " \n",
      "http://airbnb.com/rooms/25831185?check_in=2021-01-01&check_out=2021-04-30&previous_page_section_name=1000&display_extensions%5B%5D=MONTHLY_STAYS&display_extensions%5B%5D=DATED_LTS&federated_search_id=3ebc2e4d-8410-4712-84b6-f82bd54a4593\n"
     ]
    },
    {
     "name": "stderr",
     "output_type": "stream",
     "text": [
      "[WDM] - Current google-chrome version is 85.0.4183\n",
      "[WDM] - Get LATEST driver version for 85.0.4183\n",
      "[WDM] - Driver [/Users/jasenlo/.wdm/drivers/chromedriver/mac64/85.0.4183.87/chromedriver] found in cache\n"
     ]
    },
    {
     "name": "stdout",
     "output_type": "stream",
     "text": [
      " \n",
      "http://airbnb.com/rooms/983054?check_in=2021-01-01&check_out=2021-04-30&previous_page_section_name=1000&display_extensions%5B%5D=MONTHLY_STAYS&display_extensions%5B%5D=DATED_LTS&federated_search_id=3ebc2e4d-8410-4712-84b6-f82bd54a4593\n"
     ]
    },
    {
     "name": "stderr",
     "output_type": "stream",
     "text": [
      "[WDM] - Current google-chrome version is 85.0.4183\n",
      "[WDM] - Get LATEST driver version for 85.0.4183\n",
      "[WDM] - Driver [/Users/jasenlo/.wdm/drivers/chromedriver/mac64/85.0.4183.87/chromedriver] found in cache\n"
     ]
    },
    {
     "name": "stdout",
     "output_type": "stream",
     "text": [
      " \n",
      "http://airbnb.com/rooms/40435462?check_in=2021-01-01&check_out=2021-04-30&previous_page_section_name=1000&display_extensions%5B%5D=MONTHLY_STAYS&display_extensions%5B%5D=DATED_LTS&federated_search_id=3ebc2e4d-8410-4712-84b6-f82bd54a4593\n"
     ]
    },
    {
     "name": "stderr",
     "output_type": "stream",
     "text": [
      "[WDM] - Current google-chrome version is 85.0.4183\n",
      "[WDM] - Get LATEST driver version for 85.0.4183\n",
      "[WDM] - Driver [/Users/jasenlo/.wdm/drivers/chromedriver/mac64/85.0.4183.87/chromedriver] found in cache\n"
     ]
    },
    {
     "name": "stdout",
     "output_type": "stream",
     "text": [
      " \n",
      "http://airbnb.com/rooms/1690805?check_in=2021-01-01&check_out=2021-04-30&previous_page_section_name=1000&display_extensions%5B%5D=MONTHLY_STAYS&display_extensions%5B%5D=DATED_LTS&federated_search_id=3ebc2e4d-8410-4712-84b6-f82bd54a4593\n"
     ]
    },
    {
     "name": "stderr",
     "output_type": "stream",
     "text": [
      "[WDM] - Current google-chrome version is 85.0.4183\n",
      "[WDM] - Get LATEST driver version for 85.0.4183\n",
      "[WDM] - Driver [/Users/jasenlo/.wdm/drivers/chromedriver/mac64/85.0.4183.87/chromedriver] found in cache\n"
     ]
    },
    {
     "name": "stdout",
     "output_type": "stream",
     "text": [
      " \n",
      "http://airbnb.com/rooms/28218291?check_in=2021-01-01&check_out=2021-04-30&previous_page_section_name=1000&display_extensions%5B%5D=MONTHLY_STAYS&display_extensions%5B%5D=DATED_LTS&federated_search_id=3ebc2e4d-8410-4712-84b6-f82bd54a4593\n"
     ]
    },
    {
     "name": "stderr",
     "output_type": "stream",
     "text": [
      "[WDM] - Current google-chrome version is 85.0.4183\n",
      "[WDM] - Get LATEST driver version for 85.0.4183\n",
      "[WDM] - Driver [/Users/jasenlo/.wdm/drivers/chromedriver/mac64/85.0.4183.87/chromedriver] found in cache\n"
     ]
    },
    {
     "name": "stdout",
     "output_type": "stream",
     "text": [
      " \n",
      "http://airbnb.com/rooms/14552017?check_in=2021-01-01&check_out=2021-04-30&previous_page_section_name=1000&display_extensions%5B%5D=MONTHLY_STAYS&display_extensions%5B%5D=DATED_LTS&federated_search_id=3ebc2e4d-8410-4712-84b6-f82bd54a4593\n"
     ]
    },
    {
     "name": "stderr",
     "output_type": "stream",
     "text": [
      "[WDM] - Current google-chrome version is 85.0.4183\n",
      "[WDM] - Get LATEST driver version for 85.0.4183\n",
      "[WDM] - Driver [/Users/jasenlo/.wdm/drivers/chromedriver/mac64/85.0.4183.87/chromedriver] found in cache\n"
     ]
    },
    {
     "name": "stdout",
     "output_type": "stream",
     "text": [
      " \n",
      "http://airbnb.com/rooms/35759374?check_in=2021-01-01&check_out=2021-04-30&previous_page_section_name=1000&display_extensions%5B%5D=MONTHLY_STAYS&display_extensions%5B%5D=DATED_LTS&federated_search_id=3ebc2e4d-8410-4712-84b6-f82bd54a4593\n"
     ]
    },
    {
     "name": "stderr",
     "output_type": "stream",
     "text": [
      "[WDM] - Current google-chrome version is 85.0.4183\n",
      "[WDM] - Get LATEST driver version for 85.0.4183\n",
      "[WDM] - Driver [/Users/jasenlo/.wdm/drivers/chromedriver/mac64/85.0.4183.87/chromedriver] found in cache\n"
     ]
    },
    {
     "name": "stdout",
     "output_type": "stream",
     "text": [
      " \n",
      "http://airbnb.com/rooms/11327928?check_in=2021-01-01&check_out=2021-04-30&previous_page_section_name=1000&display_extensions%5B%5D=MONTHLY_STAYS&display_extensions%5B%5D=DATED_LTS&federated_search_id=3ebc2e4d-8410-4712-84b6-f82bd54a4593\n"
     ]
    },
    {
     "name": "stderr",
     "output_type": "stream",
     "text": [
      "[WDM] - Current google-chrome version is 85.0.4183\n",
      "[WDM] - Get LATEST driver version for 85.0.4183\n",
      "[WDM] - Driver [/Users/jasenlo/.wdm/drivers/chromedriver/mac64/85.0.4183.87/chromedriver] found in cache\n"
     ]
    },
    {
     "name": "stdout",
     "output_type": "stream",
     "text": [
      " \n",
      "http://airbnb.com/rooms/36139017?check_in=2021-01-01&check_out=2021-04-30&previous_page_section_name=1000&display_extensions%5B%5D=DATED_LTS&display_extensions%5B%5D=MONTHLY_STAYS&federated_search_id=779751f1-02f7-4965-b8f5-ff3b1846b6fa\n"
     ]
    },
    {
     "name": "stderr",
     "output_type": "stream",
     "text": [
      "[WDM] - Current google-chrome version is 85.0.4183\n",
      "[WDM] - Get LATEST driver version for 85.0.4183\n",
      "[WDM] - Driver [/Users/jasenlo/.wdm/drivers/chromedriver/mac64/85.0.4183.87/chromedriver] found in cache\n"
     ]
    },
    {
     "name": "stdout",
     "output_type": "stream",
     "text": [
      " \n",
      "http://airbnb.com/rooms/10150463?check_in=2021-01-01&check_out=2021-04-30&previous_page_section_name=1000&display_extensions%5B%5D=DATED_LTS&display_extensions%5B%5D=MONTHLY_STAYS&federated_search_id=779751f1-02f7-4965-b8f5-ff3b1846b6fa\n"
     ]
    },
    {
     "name": "stderr",
     "output_type": "stream",
     "text": [
      "[WDM] - Current google-chrome version is 85.0.4183\n",
      "[WDM] - Get LATEST driver version for 85.0.4183\n",
      "[WDM] - Driver [/Users/jasenlo/.wdm/drivers/chromedriver/mac64/85.0.4183.87/chromedriver] found in cache\n"
     ]
    },
    {
     "name": "stdout",
     "output_type": "stream",
     "text": [
      " \n",
      "http://airbnb.com/rooms/5568200?check_in=2021-01-01&check_out=2021-04-30&previous_page_section_name=1000&display_extensions%5B%5D=DATED_LTS&display_extensions%5B%5D=MONTHLY_STAYS&federated_search_id=779751f1-02f7-4965-b8f5-ff3b1846b6fa\n"
     ]
    },
    {
     "name": "stderr",
     "output_type": "stream",
     "text": [
      "[WDM] - Current google-chrome version is 85.0.4183\n",
      "[WDM] - Get LATEST driver version for 85.0.4183\n",
      "[WDM] - Driver [/Users/jasenlo/.wdm/drivers/chromedriver/mac64/85.0.4183.87/chromedriver] found in cache\n"
     ]
    },
    {
     "name": "stdout",
     "output_type": "stream",
     "text": [
      " \n",
      "http://airbnb.com/rooms/14599899?check_in=2021-01-01&check_out=2021-04-30&previous_page_section_name=1000&display_extensions%5B%5D=DATED_LTS&display_extensions%5B%5D=MONTHLY_STAYS&federated_search_id=779751f1-02f7-4965-b8f5-ff3b1846b6fa\n"
     ]
    },
    {
     "name": "stderr",
     "output_type": "stream",
     "text": [
      "[WDM] - Current google-chrome version is 85.0.4183\n",
      "[WDM] - Get LATEST driver version for 85.0.4183\n",
      "[WDM] - Driver [/Users/jasenlo/.wdm/drivers/chromedriver/mac64/85.0.4183.87/chromedriver] found in cache\n"
     ]
    },
    {
     "name": "stdout",
     "output_type": "stream",
     "text": [
      " \n",
      "http://airbnb.com/rooms/11327928?check_in=2021-01-01&check_out=2021-04-30&previous_page_section_name=1000&display_extensions%5B%5D=DATED_LTS&display_extensions%5B%5D=MONTHLY_STAYS&federated_search_id=779751f1-02f7-4965-b8f5-ff3b1846b6fa\n"
     ]
    },
    {
     "name": "stderr",
     "output_type": "stream",
     "text": [
      "[WDM] - Current google-chrome version is 85.0.4183\n",
      "[WDM] - Get LATEST driver version for 85.0.4183\n",
      "[WDM] - Driver [/Users/jasenlo/.wdm/drivers/chromedriver/mac64/85.0.4183.87/chromedriver] found in cache\n"
     ]
    },
    {
     "name": "stdout",
     "output_type": "stream",
     "text": [
      " \n",
      "http://airbnb.com/rooms/35759374?check_in=2021-01-01&check_out=2021-04-30&previous_page_section_name=1000&display_extensions%5B%5D=DATED_LTS&display_extensions%5B%5D=MONTHLY_STAYS&federated_search_id=779751f1-02f7-4965-b8f5-ff3b1846b6fa\n"
     ]
    },
    {
     "name": "stderr",
     "output_type": "stream",
     "text": [
      "[WDM] - Current google-chrome version is 85.0.4183\n",
      "[WDM] - Get LATEST driver version for 85.0.4183\n",
      "[WDM] - Driver [/Users/jasenlo/.wdm/drivers/chromedriver/mac64/85.0.4183.87/chromedriver] found in cache\n"
     ]
    },
    {
     "name": "stdout",
     "output_type": "stream",
     "text": [
      " \n",
      "http://airbnb.com/rooms/1690805?check_in=2021-01-01&check_out=2021-04-30&previous_page_section_name=1000&display_extensions%5B%5D=DATED_LTS&display_extensions%5B%5D=MONTHLY_STAYS&federated_search_id=779751f1-02f7-4965-b8f5-ff3b1846b6fa\n"
     ]
    },
    {
     "name": "stderr",
     "output_type": "stream",
     "text": [
      "[WDM] - Current google-chrome version is 85.0.4183\n",
      "[WDM] - Get LATEST driver version for 85.0.4183\n",
      "[WDM] - Driver [/Users/jasenlo/.wdm/drivers/chromedriver/mac64/85.0.4183.87/chromedriver] found in cache\n"
     ]
    },
    {
     "name": "stdout",
     "output_type": "stream",
     "text": [
      " \n",
      "http://airbnb.com/rooms/28218291?check_in=2021-01-01&check_out=2021-04-30&previous_page_section_name=1000&display_extensions%5B%5D=DATED_LTS&display_extensions%5B%5D=MONTHLY_STAYS&federated_search_id=779751f1-02f7-4965-b8f5-ff3b1846b6fa\n"
     ]
    },
    {
     "name": "stderr",
     "output_type": "stream",
     "text": [
      "[WDM] - Current google-chrome version is 85.0.4183\n",
      "[WDM] - Get LATEST driver version for 85.0.4183\n",
      "[WDM] - Driver [/Users/jasenlo/.wdm/drivers/chromedriver/mac64/85.0.4183.87/chromedriver] found in cache\n"
     ]
    },
    {
     "name": "stdout",
     "output_type": "stream",
     "text": [
      " \n",
      "http://airbnb.com/rooms/15099246?check_in=2021-01-01&check_out=2021-04-30&previous_page_section_name=1000&display_extensions%5B%5D=DATED_LTS&display_extensions%5B%5D=MONTHLY_STAYS&federated_search_id=779751f1-02f7-4965-b8f5-ff3b1846b6fa\n"
     ]
    },
    {
     "name": "stderr",
     "output_type": "stream",
     "text": [
      "[WDM] - Current google-chrome version is 85.0.4183\n",
      "[WDM] - Get LATEST driver version for 85.0.4183\n",
      "[WDM] - Driver [/Users/jasenlo/.wdm/drivers/chromedriver/mac64/85.0.4183.87/chromedriver] found in cache\n"
     ]
    },
    {
     "name": "stdout",
     "output_type": "stream",
     "text": [
      " \n",
      "http://airbnb.com/rooms/4514143?check_in=2021-01-01&check_out=2021-04-30&previous_page_section_name=1000&display_extensions%5B%5D=DATED_LTS&display_extensions%5B%5D=MONTHLY_STAYS&federated_search_id=779751f1-02f7-4965-b8f5-ff3b1846b6fa\n"
     ]
    },
    {
     "name": "stderr",
     "output_type": "stream",
     "text": [
      "[WDM] - Current google-chrome version is 85.0.4183\n",
      "[WDM] - Get LATEST driver version for 85.0.4183\n",
      "[WDM] - Driver [/Users/jasenlo/.wdm/drivers/chromedriver/mac64/85.0.4183.87/chromedriver] found in cache\n"
     ]
    },
    {
     "name": "stdout",
     "output_type": "stream",
     "text": [
      " \n",
      "http://airbnb.com/rooms/30822975?check_in=2021-01-01&check_out=2021-04-30&previous_page_section_name=1000&display_extensions%5B%5D=DATED_LTS&display_extensions%5B%5D=MONTHLY_STAYS&federated_search_id=779751f1-02f7-4965-b8f5-ff3b1846b6fa\n"
     ]
    },
    {
     "name": "stderr",
     "output_type": "stream",
     "text": [
      "[WDM] - Current google-chrome version is 85.0.4183\n",
      "[WDM] - Get LATEST driver version for 85.0.4183\n",
      "[WDM] - Driver [/Users/jasenlo/.wdm/drivers/chromedriver/mac64/85.0.4183.87/chromedriver] found in cache\n"
     ]
    },
    {
     "name": "stdout",
     "output_type": "stream",
     "text": [
      " \n",
      "http://airbnb.com/rooms/9180742?check_in=2021-01-01&check_out=2021-04-30&previous_page_section_name=1000&display_extensions%5B%5D=DATED_LTS&display_extensions%5B%5D=MONTHLY_STAYS&federated_search_id=779751f1-02f7-4965-b8f5-ff3b1846b6fa\n"
     ]
    },
    {
     "name": "stderr",
     "output_type": "stream",
     "text": [
      "[WDM] - Current google-chrome version is 85.0.4183\n",
      "[WDM] - Get LATEST driver version for 85.0.4183\n",
      "[WDM] - Driver [/Users/jasenlo/.wdm/drivers/chromedriver/mac64/85.0.4183.87/chromedriver] found in cache\n"
     ]
    },
    {
     "name": "stdout",
     "output_type": "stream",
     "text": [
      " \n",
      "http://airbnb.com/rooms/18045113?check_in=2021-01-01&check_out=2021-04-30&previous_page_section_name=1000&display_extensions%5B%5D=DATED_LTS&display_extensions%5B%5D=MONTHLY_STAYS&federated_search_id=779751f1-02f7-4965-b8f5-ff3b1846b6fa\n"
     ]
    },
    {
     "name": "stderr",
     "output_type": "stream",
     "text": [
      "[WDM] - Current google-chrome version is 85.0.4183\n",
      "[WDM] - Get LATEST driver version for 85.0.4183\n",
      "[WDM] - Driver [/Users/jasenlo/.wdm/drivers/chromedriver/mac64/85.0.4183.87/chromedriver] found in cache\n"
     ]
    },
    {
     "name": "stdout",
     "output_type": "stream",
     "text": [
      " \n",
      "http://airbnb.com/rooms/23833440?check_in=2021-01-01&check_out=2021-04-30&previous_page_section_name=1000&display_extensions%5B%5D=DATED_LTS&display_extensions%5B%5D=MONTHLY_STAYS&federated_search_id=779751f1-02f7-4965-b8f5-ff3b1846b6fa\n"
     ]
    },
    {
     "name": "stderr",
     "output_type": "stream",
     "text": [
      "[WDM] - Current google-chrome version is 85.0.4183\n",
      "[WDM] - Get LATEST driver version for 85.0.4183\n",
      "[WDM] - Driver [/Users/jasenlo/.wdm/drivers/chromedriver/mac64/85.0.4183.87/chromedriver] found in cache\n"
     ]
    },
    {
     "name": "stdout",
     "output_type": "stream",
     "text": [
      " \n",
      "http://airbnb.com/rooms/11327928?check_in=2021-01-01&check_out=2021-04-30&previous_page_section_name=1000&display_extensions%5B%5D=DATED_LTS&display_extensions%5B%5D=MONTHLY_STAYS&federated_search_id=9deae387-5f93-4901-8665-2fdf8e150bd5\n"
     ]
    },
    {
     "name": "stderr",
     "output_type": "stream",
     "text": [
      "[WDM] - Current google-chrome version is 85.0.4183\n",
      "[WDM] - Get LATEST driver version for 85.0.4183\n",
      "[WDM] - Driver [/Users/jasenlo/.wdm/drivers/chromedriver/mac64/85.0.4183.87/chromedriver] found in cache\n"
     ]
    },
    {
     "name": "stdout",
     "output_type": "stream",
     "text": [
      " \n",
      "http://airbnb.com/rooms/18045113?check_in=2021-01-01&check_out=2021-04-30&previous_page_section_name=1000&display_extensions%5B%5D=DATED_LTS&display_extensions%5B%5D=MONTHLY_STAYS&federated_search_id=9deae387-5f93-4901-8665-2fdf8e150bd5\n"
     ]
    },
    {
     "name": "stderr",
     "output_type": "stream",
     "text": [
      "[WDM] - Current google-chrome version is 85.0.4183\n",
      "[WDM] - Get LATEST driver version for 85.0.4183\n",
      "[WDM] - Driver [/Users/jasenlo/.wdm/drivers/chromedriver/mac64/85.0.4183.87/chromedriver] found in cache\n"
     ]
    },
    {
     "name": "stdout",
     "output_type": "stream",
     "text": [
      " \n",
      "http://airbnb.com/rooms/43537155?check_in=2021-01-01&check_out=2021-04-30&previous_page_section_name=1000&display_extensions%5B%5D=DATED_LTS&display_extensions%5B%5D=MONTHLY_STAYS&federated_search_id=9deae387-5f93-4901-8665-2fdf8e150bd5\n"
     ]
    },
    {
     "name": "stderr",
     "output_type": "stream",
     "text": [
      "[WDM] - Current google-chrome version is 85.0.4183\n",
      "[WDM] - Get LATEST driver version for 85.0.4183\n",
      "[WDM] - Driver [/Users/jasenlo/.wdm/drivers/chromedriver/mac64/85.0.4183.87/chromedriver] found in cache\n"
     ]
    },
    {
     "name": "stdout",
     "output_type": "stream",
     "text": [
      " \n",
      "http://airbnb.com/rooms/35584203?check_in=2021-01-01&check_out=2021-04-30&previous_page_section_name=1000&display_extensions%5B%5D=DATED_LTS&display_extensions%5B%5D=MONTHLY_STAYS&federated_search_id=9deae387-5f93-4901-8665-2fdf8e150bd5\n"
     ]
    },
    {
     "name": "stderr",
     "output_type": "stream",
     "text": [
      "[WDM] - Current google-chrome version is 85.0.4183\n",
      "[WDM] - Get LATEST driver version for 85.0.4183\n",
      "[WDM] - Driver [/Users/jasenlo/.wdm/drivers/chromedriver/mac64/85.0.4183.87/chromedriver] found in cache\n"
     ]
    },
    {
     "name": "stdout",
     "output_type": "stream",
     "text": [
      " \n",
      "http://airbnb.com/rooms/5568200?check_in=2021-01-01&check_out=2021-04-30&previous_page_section_name=1000&display_extensions%5B%5D=DATED_LTS&display_extensions%5B%5D=MONTHLY_STAYS&federated_search_id=9deae387-5f93-4901-8665-2fdf8e150bd5\n"
     ]
    },
    {
     "name": "stderr",
     "output_type": "stream",
     "text": [
      "[WDM] - Current google-chrome version is 85.0.4183\n",
      "[WDM] - Get LATEST driver version for 85.0.4183\n",
      "[WDM] - Driver [/Users/jasenlo/.wdm/drivers/chromedriver/mac64/85.0.4183.87/chromedriver] found in cache\n"
     ]
    },
    {
     "name": "stdout",
     "output_type": "stream",
     "text": [
      " \n",
      "http://airbnb.com/rooms/33325593?check_in=2021-01-01&check_out=2021-04-30&previous_page_section_name=1000&display_extensions%5B%5D=DATED_LTS&display_extensions%5B%5D=MONTHLY_STAYS&federated_search_id=9deae387-5f93-4901-8665-2fdf8e150bd5\n"
     ]
    },
    {
     "name": "stderr",
     "output_type": "stream",
     "text": [
      "[WDM] - Current google-chrome version is 85.0.4183\n",
      "[WDM] - Get LATEST driver version for 85.0.4183\n",
      "[WDM] - Driver [/Users/jasenlo/.wdm/drivers/chromedriver/mac64/85.0.4183.87/chromedriver] found in cache\n"
     ]
    },
    {
     "name": "stdout",
     "output_type": "stream",
     "text": [
      " \n",
      "http://airbnb.com/rooms/36139017?check_in=2021-01-01&check_out=2021-04-30&previous_page_section_name=1000&display_extensions%5B%5D=DATED_LTS&display_extensions%5B%5D=MONTHLY_STAYS&federated_search_id=9deae387-5f93-4901-8665-2fdf8e150bd5\n"
     ]
    },
    {
     "name": "stderr",
     "output_type": "stream",
     "text": [
      "[WDM] - Current google-chrome version is 85.0.4183\n",
      "[WDM] - Get LATEST driver version for 85.0.4183\n",
      "[WDM] - Driver [/Users/jasenlo/.wdm/drivers/chromedriver/mac64/85.0.4183.87/chromedriver] found in cache\n"
     ]
    },
    {
     "name": "stdout",
     "output_type": "stream",
     "text": [
      " \n",
      "http://airbnb.com/rooms/25873369?check_in=2021-01-01&check_out=2021-04-30&previous_page_section_name=1000&display_extensions%5B%5D=DATED_LTS&display_extensions%5B%5D=MONTHLY_STAYS&federated_search_id=9deae387-5f93-4901-8665-2fdf8e150bd5\n"
     ]
    },
    {
     "name": "stderr",
     "output_type": "stream",
     "text": [
      "[WDM] - Current google-chrome version is 85.0.4183\n",
      "[WDM] - Get LATEST driver version for 85.0.4183\n",
      "[WDM] - Driver [/Users/jasenlo/.wdm/drivers/chromedriver/mac64/85.0.4183.87/chromedriver] found in cache\n"
     ]
    },
    {
     "name": "stdout",
     "output_type": "stream",
     "text": [
      " \n",
      "http://airbnb.com/rooms/35744000?check_in=2021-01-01&check_out=2021-04-30&previous_page_section_name=1000&display_extensions%5B%5D=DATED_LTS&display_extensions%5B%5D=MONTHLY_STAYS&federated_search_id=9deae387-5f93-4901-8665-2fdf8e150bd5\n"
     ]
    },
    {
     "name": "stderr",
     "output_type": "stream",
     "text": [
      "[WDM] - Current google-chrome version is 85.0.4183\n",
      "[WDM] - Get LATEST driver version for 85.0.4183\n",
      "[WDM] - Driver [/Users/jasenlo/.wdm/drivers/chromedriver/mac64/85.0.4183.87/chromedriver] found in cache\n"
     ]
    },
    {
     "name": "stdout",
     "output_type": "stream",
     "text": [
      " \n",
      "http://airbnb.com/rooms/23595731?check_in=2021-01-01&check_out=2021-04-30&previous_page_section_name=1000&display_extensions%5B%5D=DATED_LTS&display_extensions%5B%5D=MONTHLY_STAYS&federated_search_id=9deae387-5f93-4901-8665-2fdf8e150bd5\n"
     ]
    },
    {
     "name": "stderr",
     "output_type": "stream",
     "text": [
      "[WDM] - Current google-chrome version is 85.0.4183\n",
      "[WDM] - Get LATEST driver version for 85.0.4183\n",
      "[WDM] - Driver [/Users/jasenlo/.wdm/drivers/chromedriver/mac64/85.0.4183.87/chromedriver] found in cache\n"
     ]
    },
    {
     "name": "stdout",
     "output_type": "stream",
     "text": [
      " \n",
      "http://airbnb.com/rooms/22090275?check_in=2021-01-01&check_out=2021-04-30&previous_page_section_name=1000&display_extensions%5B%5D=DATED_LTS&display_extensions%5B%5D=MONTHLY_STAYS&federated_search_id=9deae387-5f93-4901-8665-2fdf8e150bd5\n"
     ]
    },
    {
     "name": "stderr",
     "output_type": "stream",
     "text": [
      "[WDM] - Current google-chrome version is 85.0.4183\n",
      "[WDM] - Get LATEST driver version for 85.0.4183\n",
      "[WDM] - Driver [/Users/jasenlo/.wdm/drivers/chromedriver/mac64/85.0.4183.87/chromedriver] found in cache\n"
     ]
    },
    {
     "name": "stdout",
     "output_type": "stream",
     "text": [
      " \n",
      "http://airbnb.com/rooms/32278967?check_in=2021-01-01&check_out=2021-04-30&previous_page_section_name=1000&display_extensions%5B%5D=DATED_LTS&display_extensions%5B%5D=MONTHLY_STAYS&federated_search_id=9deae387-5f93-4901-8665-2fdf8e150bd5\n"
     ]
    },
    {
     "name": "stderr",
     "output_type": "stream",
     "text": [
      "[WDM] - Current google-chrome version is 85.0.4183\n",
      "[WDM] - Get LATEST driver version for 85.0.4183\n",
      "[WDM] - Driver [/Users/jasenlo/.wdm/drivers/chromedriver/mac64/85.0.4183.87/chromedriver] found in cache\n"
     ]
    },
    {
     "name": "stdout",
     "output_type": "stream",
     "text": [
      " \n",
      "http://airbnb.com/rooms/18297472?check_in=2021-01-01&check_out=2021-04-30&previous_page_section_name=1000&display_extensions%5B%5D=DATED_LTS&display_extensions%5B%5D=MONTHLY_STAYS&federated_search_id=9deae387-5f93-4901-8665-2fdf8e150bd5\n"
     ]
    },
    {
     "name": "stderr",
     "output_type": "stream",
     "text": [
      "[WDM] - Current google-chrome version is 85.0.4183\n",
      "[WDM] - Get LATEST driver version for 85.0.4183\n",
      "[WDM] - Driver [/Users/jasenlo/.wdm/drivers/chromedriver/mac64/85.0.4183.87/chromedriver] found in cache\n"
     ]
    },
    {
     "name": "stdout",
     "output_type": "stream",
     "text": [
      " \n",
      "http://airbnb.com/rooms/44494526?check_in=2021-01-01&check_out=2021-04-30&previous_page_section_name=1000&display_extensions%5B%5D=DATED_LTS&display_extensions%5B%5D=MONTHLY_STAYS&federated_search_id=9deae387-5f93-4901-8665-2fdf8e150bd5\n"
     ]
    },
    {
     "name": "stderr",
     "output_type": "stream",
     "text": [
      "[WDM] - Current google-chrome version is 85.0.4183\n",
      "[WDM] - Get LATEST driver version for 85.0.4183\n",
      "[WDM] - Driver [/Users/jasenlo/.wdm/drivers/chromedriver/mac64/85.0.4183.87/chromedriver] found in cache\n"
     ]
    },
    {
     "name": "stdout",
     "output_type": "stream",
     "text": [
      " \n",
      "http://airbnb.com/rooms/43201353?check_in=2021-01-01&check_out=2021-04-30&previous_page_section_name=1000&display_extensions%5B%5D=DATED_LTS&display_extensions%5B%5D=MONTHLY_STAYS&federated_search_id=a31b21e1-a59b-4b37-82d9-32ee0ded8330\n"
     ]
    },
    {
     "name": "stderr",
     "output_type": "stream",
     "text": [
      "[WDM] - Current google-chrome version is 85.0.4183\n",
      "[WDM] - Get LATEST driver version for 85.0.4183\n",
      "[WDM] - Driver [/Users/jasenlo/.wdm/drivers/chromedriver/mac64/85.0.4183.87/chromedriver] found in cache\n"
     ]
    },
    {
     "name": "stdout",
     "output_type": "stream",
     "text": [
      " \n",
      "http://airbnb.com/rooms/30847912?check_in=2021-01-01&check_out=2021-04-30&previous_page_section_name=1000&display_extensions%5B%5D=DATED_LTS&display_extensions%5B%5D=MONTHLY_STAYS&federated_search_id=a31b21e1-a59b-4b37-82d9-32ee0ded8330\n"
     ]
    },
    {
     "name": "stderr",
     "output_type": "stream",
     "text": [
      "[WDM] - Current google-chrome version is 85.0.4183\n",
      "[WDM] - Get LATEST driver version for 85.0.4183\n",
      "[WDM] - Driver [/Users/jasenlo/.wdm/drivers/chromedriver/mac64/85.0.4183.87/chromedriver] found in cache\n"
     ]
    },
    {
     "name": "stdout",
     "output_type": "stream",
     "text": [
      " \n",
      "http://airbnb.com/rooms/24842518?check_in=2021-01-01&check_out=2021-04-30&previous_page_section_name=1000&display_extensions%5B%5D=DATED_LTS&display_extensions%5B%5D=MONTHLY_STAYS&federated_search_id=a31b21e1-a59b-4b37-82d9-32ee0ded8330\n"
     ]
    },
    {
     "name": "stderr",
     "output_type": "stream",
     "text": [
      "[WDM] - Current google-chrome version is 85.0.4183\n",
      "[WDM] - Get LATEST driver version for 85.0.4183\n",
      "[WDM] - Driver [/Users/jasenlo/.wdm/drivers/chromedriver/mac64/85.0.4183.87/chromedriver] found in cache\n"
     ]
    },
    {
     "name": "stdout",
     "output_type": "stream",
     "text": [
      " \n",
      "http://airbnb.com/rooms/28218291?check_in=2021-01-01&check_out=2021-04-30&previous_page_section_name=1000&display_extensions%5B%5D=DATED_LTS&display_extensions%5B%5D=MONTHLY_STAYS&federated_search_id=a31b21e1-a59b-4b37-82d9-32ee0ded8330\n"
     ]
    },
    {
     "name": "stderr",
     "output_type": "stream",
     "text": [
      "[WDM] - Current google-chrome version is 85.0.4183\n",
      "[WDM] - Get LATEST driver version for 85.0.4183\n",
      "[WDM] - Driver [/Users/jasenlo/.wdm/drivers/chromedriver/mac64/85.0.4183.87/chromedriver] found in cache\n"
     ]
    },
    {
     "name": "stdout",
     "output_type": "stream",
     "text": [
      " \n",
      "http://airbnb.com/rooms/10047044?check_in=2021-01-01&check_out=2021-04-30&previous_page_section_name=1000&display_extensions%5B%5D=DATED_LTS&display_extensions%5B%5D=MONTHLY_STAYS&federated_search_id=a31b21e1-a59b-4b37-82d9-32ee0ded8330\n"
     ]
    },
    {
     "name": "stderr",
     "output_type": "stream",
     "text": [
      "[WDM] - Current google-chrome version is 85.0.4183\n",
      "[WDM] - Get LATEST driver version for 85.0.4183\n",
      "[WDM] - Driver [/Users/jasenlo/.wdm/drivers/chromedriver/mac64/85.0.4183.87/chromedriver] found in cache\n"
     ]
    },
    {
     "name": "stdout",
     "output_type": "stream",
     "text": [
      " \n",
      "http://airbnb.com/rooms/24842129?check_in=2021-01-01&check_out=2021-04-30&previous_page_section_name=1000&display_extensions%5B%5D=DATED_LTS&display_extensions%5B%5D=MONTHLY_STAYS&federated_search_id=a31b21e1-a59b-4b37-82d9-32ee0ded8330\n"
     ]
    },
    {
     "name": "stderr",
     "output_type": "stream",
     "text": [
      "[WDM] - Current google-chrome version is 85.0.4183\n",
      "[WDM] - Get LATEST driver version for 85.0.4183\n",
      "[WDM] - Driver [/Users/jasenlo/.wdm/drivers/chromedriver/mac64/85.0.4183.87/chromedriver] found in cache\n"
     ]
    },
    {
     "name": "stdout",
     "output_type": "stream",
     "text": [
      " \n",
      "http://airbnb.com/rooms/39023483?check_in=2021-01-01&check_out=2021-04-30&previous_page_section_name=1000&display_extensions%5B%5D=DATED_LTS&display_extensions%5B%5D=MONTHLY_STAYS&federated_search_id=a31b21e1-a59b-4b37-82d9-32ee0ded8330\n"
     ]
    },
    {
     "name": "stderr",
     "output_type": "stream",
     "text": [
      "[WDM] - Current google-chrome version is 85.0.4183\n",
      "[WDM] - Get LATEST driver version for 85.0.4183\n",
      "[WDM] - Driver [/Users/jasenlo/.wdm/drivers/chromedriver/mac64/85.0.4183.87/chromedriver] found in cache\n"
     ]
    },
    {
     "name": "stdout",
     "output_type": "stream",
     "text": [
      " \n",
      "http://airbnb.com/rooms/9180742?check_in=2021-01-01&check_out=2021-04-30&previous_page_section_name=1000&display_extensions%5B%5D=DATED_LTS&display_extensions%5B%5D=MONTHLY_STAYS&federated_search_id=a31b21e1-a59b-4b37-82d9-32ee0ded8330\n"
     ]
    },
    {
     "name": "stderr",
     "output_type": "stream",
     "text": [
      "[WDM] - Current google-chrome version is 85.0.4183\n",
      "[WDM] - Get LATEST driver version for 85.0.4183\n",
      "[WDM] - Driver [/Users/jasenlo/.wdm/drivers/chromedriver/mac64/85.0.4183.87/chromedriver] found in cache\n"
     ]
    },
    {
     "name": "stdout",
     "output_type": "stream",
     "text": [
      " \n",
      "http://airbnb.com/rooms/16618885?check_in=2021-01-01&check_out=2021-04-30&previous_page_section_name=1000&display_extensions%5B%5D=DATED_LTS&display_extensions%5B%5D=MONTHLY_STAYS&federated_search_id=a31b21e1-a59b-4b37-82d9-32ee0ded8330\n"
     ]
    },
    {
     "name": "stderr",
     "output_type": "stream",
     "text": [
      "[WDM] - Current google-chrome version is 85.0.4183\n",
      "[WDM] - Get LATEST driver version for 85.0.4183\n",
      "[WDM] - Driver [/Users/jasenlo/.wdm/drivers/chromedriver/mac64/85.0.4183.87/chromedriver] found in cache\n"
     ]
    },
    {
     "name": "stdout",
     "output_type": "stream",
     "text": [
      " \n",
      "http://airbnb.com/rooms/31046521?check_in=2021-01-01&check_out=2021-04-30&previous_page_section_name=1000&display_extensions%5B%5D=DATED_LTS&display_extensions%5B%5D=MONTHLY_STAYS&federated_search_id=a31b21e1-a59b-4b37-82d9-32ee0ded8330\n"
     ]
    },
    {
     "name": "stderr",
     "output_type": "stream",
     "text": [
      "[WDM] - Current google-chrome version is 85.0.4183\n",
      "[WDM] - Get LATEST driver version for 85.0.4183\n",
      "[WDM] - Driver [/Users/jasenlo/.wdm/drivers/chromedriver/mac64/85.0.4183.87/chromedriver] found in cache\n"
     ]
    },
    {
     "name": "stdout",
     "output_type": "stream",
     "text": [
      " \n",
      "http://airbnb.com/rooms/6428212?check_in=2021-01-01&check_out=2021-04-30&previous_page_section_name=1000&display_extensions%5B%5D=DATED_LTS&display_extensions%5B%5D=MONTHLY_STAYS&federated_search_id=a31b21e1-a59b-4b37-82d9-32ee0ded8330\n"
     ]
    },
    {
     "name": "stderr",
     "output_type": "stream",
     "text": [
      "[WDM] - Current google-chrome version is 85.0.4183\n",
      "[WDM] - Get LATEST driver version for 85.0.4183\n",
      "[WDM] - Driver [/Users/jasenlo/.wdm/drivers/chromedriver/mac64/85.0.4183.87/chromedriver] found in cache\n"
     ]
    },
    {
     "name": "stdout",
     "output_type": "stream",
     "text": [
      " \n",
      "http://airbnb.com/rooms/1620557?check_in=2021-01-01&check_out=2021-04-30&previous_page_section_name=1000&display_extensions%5B%5D=DATED_LTS&display_extensions%5B%5D=MONTHLY_STAYS&federated_search_id=8df899a7-83f4-4cc5-89f8-ef71165d373c\n"
     ]
    },
    {
     "name": "stderr",
     "output_type": "stream",
     "text": [
      "[WDM] - Current google-chrome version is 85.0.4183\n",
      "[WDM] - Get LATEST driver version for 85.0.4183\n",
      "[WDM] - Driver [/Users/jasenlo/.wdm/drivers/chromedriver/mac64/85.0.4183.87/chromedriver] found in cache\n"
     ]
    },
    {
     "name": "stdout",
     "output_type": "stream",
     "text": [
      " \n",
      "http://airbnb.com/rooms/14599899?check_in=2021-01-01&check_out=2021-04-30&previous_page_section_name=1000&display_extensions%5B%5D=DATED_LTS&display_extensions%5B%5D=MONTHLY_STAYS&federated_search_id=8df899a7-83f4-4cc5-89f8-ef71165d373c\n"
     ]
    },
    {
     "name": "stderr",
     "output_type": "stream",
     "text": [
      "[WDM] - Current google-chrome version is 85.0.4183\n",
      "[WDM] - Get LATEST driver version for 85.0.4183\n",
      "[WDM] - Driver [/Users/jasenlo/.wdm/drivers/chromedriver/mac64/85.0.4183.87/chromedriver] found in cache\n"
     ]
    },
    {
     "name": "stdout",
     "output_type": "stream",
     "text": [
      " \n",
      "http://airbnb.com/rooms/43201353?check_in=2021-01-01&check_out=2021-04-30&previous_page_section_name=1000&display_extensions%5B%5D=DATED_LTS&display_extensions%5B%5D=MONTHLY_STAYS&federated_search_id=8df899a7-83f4-4cc5-89f8-ef71165d373c\n"
     ]
    },
    {
     "name": "stderr",
     "output_type": "stream",
     "text": [
      "[WDM] - Current google-chrome version is 85.0.4183\n",
      "[WDM] - Get LATEST driver version for 85.0.4183\n",
      "[WDM] - Driver [/Users/jasenlo/.wdm/drivers/chromedriver/mac64/85.0.4183.87/chromedriver] found in cache\n"
     ]
    },
    {
     "name": "stdout",
     "output_type": "stream",
     "text": [
      " \n",
      "http://airbnb.com/rooms/3252313?check_in=2021-01-01&check_out=2021-04-30&previous_page_section_name=1000&display_extensions%5B%5D=DATED_LTS&display_extensions%5B%5D=MONTHLY_STAYS&federated_search_id=8df899a7-83f4-4cc5-89f8-ef71165d373c\n"
     ]
    },
    {
     "name": "stderr",
     "output_type": "stream",
     "text": [
      "[WDM] - Current google-chrome version is 85.0.4183\n",
      "[WDM] - Get LATEST driver version for 85.0.4183\n",
      "[WDM] - Driver [/Users/jasenlo/.wdm/drivers/chromedriver/mac64/85.0.4183.87/chromedriver] found in cache\n"
     ]
    },
    {
     "name": "stdout",
     "output_type": "stream",
     "text": [
      " \n",
      "http://airbnb.com/rooms/35584203?check_in=2021-01-01&check_out=2021-04-30&previous_page_section_name=1000&display_extensions%5B%5D=DATED_LTS&display_extensions%5B%5D=MONTHLY_STAYS&federated_search_id=8df899a7-83f4-4cc5-89f8-ef71165d373c\n"
     ]
    },
    {
     "name": "stderr",
     "output_type": "stream",
     "text": [
      "[WDM] - Current google-chrome version is 85.0.4183\n",
      "[WDM] - Get LATEST driver version for 85.0.4183\n",
      "[WDM] - Driver [/Users/jasenlo/.wdm/drivers/chromedriver/mac64/85.0.4183.87/chromedriver] found in cache\n"
     ]
    },
    {
     "name": "stdout",
     "output_type": "stream",
     "text": [
      " \n",
      "http://airbnb.com/rooms/43537155?check_in=2021-01-01&check_out=2021-04-30&previous_page_section_name=1000&display_extensions%5B%5D=DATED_LTS&display_extensions%5B%5D=MONTHLY_STAYS&federated_search_id=8df899a7-83f4-4cc5-89f8-ef71165d373c\n"
     ]
    },
    {
     "name": "stderr",
     "output_type": "stream",
     "text": [
      "[WDM] - Current google-chrome version is 85.0.4183\n",
      "[WDM] - Get LATEST driver version for 85.0.4183\n",
      "[WDM] - Driver [/Users/jasenlo/.wdm/drivers/chromedriver/mac64/85.0.4183.87/chromedriver] found in cache\n"
     ]
    },
    {
     "name": "stdout",
     "output_type": "stream",
     "text": [
      " \n",
      "http://airbnb.com/rooms/16483820?check_in=2021-01-01&check_out=2021-04-30&previous_page_section_name=1000&display_extensions%5B%5D=DATED_LTS&display_extensions%5B%5D=MONTHLY_STAYS&federated_search_id=8df899a7-83f4-4cc5-89f8-ef71165d373c\n"
     ]
    },
    {
     "name": "stderr",
     "output_type": "stream",
     "text": [
      "[WDM] - Current google-chrome version is 85.0.4183\n",
      "[WDM] - Get LATEST driver version for 85.0.4183\n",
      "[WDM] - Driver [/Users/jasenlo/.wdm/drivers/chromedriver/mac64/85.0.4183.87/chromedriver] found in cache\n"
     ]
    },
    {
     "name": "stdout",
     "output_type": "stream",
     "text": [
      " \n",
      "http://airbnb.com/rooms/25343489?check_in=2021-01-01&check_out=2021-04-30&previous_page_section_name=1000&display_extensions%5B%5D=DATED_LTS&display_extensions%5B%5D=MONTHLY_STAYS&federated_search_id=8df899a7-83f4-4cc5-89f8-ef71165d373c\n"
     ]
    },
    {
     "name": "stderr",
     "output_type": "stream",
     "text": [
      "[WDM] - Current google-chrome version is 85.0.4183\n",
      "[WDM] - Get LATEST driver version for 85.0.4183\n",
      "[WDM] - Driver [/Users/jasenlo/.wdm/drivers/chromedriver/mac64/85.0.4183.87/chromedriver] found in cache\n"
     ]
    },
    {
     "name": "stdout",
     "output_type": "stream",
     "text": [
      " \n",
      "http://airbnb.com/rooms/19523886?check_in=2021-01-01&check_out=2021-04-30&previous_page_section_name=1000&display_extensions%5B%5D=DATED_LTS&display_extensions%5B%5D=MONTHLY_STAYS&federated_search_id=8df899a7-83f4-4cc5-89f8-ef71165d373c\n"
     ]
    },
    {
     "name": "stderr",
     "output_type": "stream",
     "text": [
      "[WDM] - Current google-chrome version is 85.0.4183\n",
      "[WDM] - Get LATEST driver version for 85.0.4183\n",
      "[WDM] - Driver [/Users/jasenlo/.wdm/drivers/chromedriver/mac64/85.0.4183.87/chromedriver] found in cache\n"
     ]
    },
    {
     "name": "stdout",
     "output_type": "stream",
     "text": [
      " \n",
      "http://airbnb.com/rooms/35744000?check_in=2021-01-01&check_out=2021-04-30&previous_page_section_name=1000&display_extensions%5B%5D=DATED_LTS&display_extensions%5B%5D=MONTHLY_STAYS&federated_search_id=8df899a7-83f4-4cc5-89f8-ef71165d373c\n"
     ]
    },
    {
     "name": "stderr",
     "output_type": "stream",
     "text": [
      "[WDM] - Current google-chrome version is 85.0.4183\n",
      "[WDM] - Get LATEST driver version for 85.0.4183\n",
      "[WDM] - Driver [/Users/jasenlo/.wdm/drivers/chromedriver/mac64/85.0.4183.87/chromedriver] found in cache\n"
     ]
    },
    {
     "name": "stdout",
     "output_type": "stream",
     "text": [
      " \n",
      "http://airbnb.com/rooms/1769554?check_in=2021-01-01&check_out=2021-04-30&previous_page_section_name=1000&display_extensions%5B%5D=DATED_LTS&display_extensions%5B%5D=MONTHLY_STAYS&federated_search_id=8df899a7-83f4-4cc5-89f8-ef71165d373c\n"
     ]
    },
    {
     "name": "stderr",
     "output_type": "stream",
     "text": [
      "[WDM] - Current google-chrome version is 85.0.4183\n",
      "[WDM] - Get LATEST driver version for 85.0.4183\n",
      "[WDM] - Driver [/Users/jasenlo/.wdm/drivers/chromedriver/mac64/85.0.4183.87/chromedriver] found in cache\n"
     ]
    },
    {
     "name": "stdout",
     "output_type": "stream",
     "text": [
      " \n",
      "http://airbnb.com/rooms/9180742?check_in=2021-01-01&check_out=2021-04-30&previous_page_section_name=1000&display_extensions%5B%5D=DATED_LTS&display_extensions%5B%5D=MONTHLY_STAYS&federated_search_id=8df899a7-83f4-4cc5-89f8-ef71165d373c\n"
     ]
    },
    {
     "name": "stderr",
     "output_type": "stream",
     "text": [
      "[WDM] - Current google-chrome version is 85.0.4183\n",
      "[WDM] - Get LATEST driver version for 85.0.4183\n",
      "[WDM] - Driver [/Users/jasenlo/.wdm/drivers/chromedriver/mac64/85.0.4183.87/chromedriver] found in cache\n"
     ]
    },
    {
     "name": "stdout",
     "output_type": "stream",
     "text": [
      " \n",
      "http://airbnb.com/rooms/6428212?check_in=2021-01-01&check_out=2021-04-30&previous_page_section_name=1000&display_extensions%5B%5D=DATED_LTS&display_extensions%5B%5D=MONTHLY_STAYS&federated_search_id=8df899a7-83f4-4cc5-89f8-ef71165d373c\n"
     ]
    },
    {
     "name": "stderr",
     "output_type": "stream",
     "text": [
      "[WDM] - Current google-chrome version is 85.0.4183\n",
      "[WDM] - Get LATEST driver version for 85.0.4183\n",
      "[WDM] - Driver [/Users/jasenlo/.wdm/drivers/chromedriver/mac64/85.0.4183.87/chromedriver] found in cache\n"
     ]
    },
    {
     "name": "stdout",
     "output_type": "stream",
     "text": [
      " \n",
      "http://airbnb.com/rooms/30847912?check_in=2021-01-01&check_out=2021-04-30&previous_page_section_name=1000&display_extensions%5B%5D=DATED_LTS&display_extensions%5B%5D=MONTHLY_STAYS&federated_search_id=8df899a7-83f4-4cc5-89f8-ef71165d373c\n"
     ]
    },
    {
     "name": "stderr",
     "output_type": "stream",
     "text": [
      "[WDM] - Current google-chrome version is 85.0.4183\n",
      "[WDM] - Get LATEST driver version for 85.0.4183\n",
      "[WDM] - Driver [/Users/jasenlo/.wdm/drivers/chromedriver/mac64/85.0.4183.87/chromedriver] found in cache\n"
     ]
    },
    {
     "name": "stdout",
     "output_type": "stream",
     "text": [
      " \n",
      "http://airbnb.com/rooms/36618830?check_in=2021-01-01&check_out=2021-04-30&previous_page_section_name=1000&display_extensions%5B%5D=MONTHLY_STAYS&display_extensions%5B%5D=DATED_LTS&federated_search_id=dc9f86ef-2181-4233-8c65-b09e5d03461e\n"
     ]
    },
    {
     "name": "stderr",
     "output_type": "stream",
     "text": [
      "[WDM] - Current google-chrome version is 85.0.4183\n",
      "[WDM] - Get LATEST driver version for 85.0.4183\n",
      "[WDM] - Driver [/Users/jasenlo/.wdm/drivers/chromedriver/mac64/85.0.4183.87/chromedriver] found in cache\n"
     ]
    },
    {
     "name": "stdout",
     "output_type": "stream",
     "text": [
      " \n",
      "http://airbnb.com/rooms/7861901?check_in=2021-01-01&check_out=2021-04-30&previous_page_section_name=1000&display_extensions%5B%5D=MONTHLY_STAYS&display_extensions%5B%5D=DATED_LTS&federated_search_id=dc9f86ef-2181-4233-8c65-b09e5d03461e\n"
     ]
    },
    {
     "name": "stderr",
     "output_type": "stream",
     "text": [
      "[WDM] - Current google-chrome version is 85.0.4183\n",
      "[WDM] - Get LATEST driver version for 85.0.4183\n",
      "[WDM] - Driver [/Users/jasenlo/.wdm/drivers/chromedriver/mac64/85.0.4183.87/chromedriver] found in cache\n"
     ]
    },
    {
     "name": "stdout",
     "output_type": "stream",
     "text": [
      " \n",
      "http://airbnb.com/rooms/40361851?check_in=2021-01-01&check_out=2021-04-30&previous_page_section_name=1000&display_extensions%5B%5D=MONTHLY_STAYS&display_extensions%5B%5D=DATED_LTS&federated_search_id=dc9f86ef-2181-4233-8c65-b09e5d03461e\n"
     ]
    },
    {
     "name": "stderr",
     "output_type": "stream",
     "text": [
      "[WDM] - Current google-chrome version is 85.0.4183\n",
      "[WDM] - Get LATEST driver version for 85.0.4183\n",
      "[WDM] - Driver [/Users/jasenlo/.wdm/drivers/chromedriver/mac64/85.0.4183.87/chromedriver] found in cache\n"
     ]
    },
    {
     "name": "stdout",
     "output_type": "stream",
     "text": [
      " \n",
      "http://airbnb.com/rooms/22090275?check_in=2021-01-01&check_out=2021-04-30&previous_page_section_name=1000&display_extensions%5B%5D=MONTHLY_STAYS&display_extensions%5B%5D=DATED_LTS&federated_search_id=dc9f86ef-2181-4233-8c65-b09e5d03461e\n"
     ]
    },
    {
     "name": "stderr",
     "output_type": "stream",
     "text": [
      "[WDM] - Current google-chrome version is 85.0.4183\n",
      "[WDM] - Get LATEST driver version for 85.0.4183\n",
      "[WDM] - Driver [/Users/jasenlo/.wdm/drivers/chromedriver/mac64/85.0.4183.87/chromedriver] found in cache\n"
     ]
    },
    {
     "name": "stdout",
     "output_type": "stream",
     "text": [
      " \n",
      "http://airbnb.com/rooms/23816601?check_in=2021-01-01&check_out=2021-04-30&previous_page_section_name=1000&display_extensions%5B%5D=MONTHLY_STAYS&display_extensions%5B%5D=DATED_LTS&federated_search_id=dc9f86ef-2181-4233-8c65-b09e5d03461e\n"
     ]
    },
    {
     "name": "stderr",
     "output_type": "stream",
     "text": [
      "[WDM] - Current google-chrome version is 85.0.4183\n",
      "[WDM] - Get LATEST driver version for 85.0.4183\n",
      "[WDM] - Driver [/Users/jasenlo/.wdm/drivers/chromedriver/mac64/85.0.4183.87/chromedriver] found in cache\n"
     ]
    },
    {
     "name": "stdout",
     "output_type": "stream",
     "text": [
      " \n",
      "http://airbnb.com/rooms/23595731?check_in=2021-01-01&check_out=2021-04-30&previous_page_section_name=1000&display_extensions%5B%5D=MONTHLY_STAYS&display_extensions%5B%5D=DATED_LTS&federated_search_id=dc9f86ef-2181-4233-8c65-b09e5d03461e\n"
     ]
    },
    {
     "name": "stderr",
     "output_type": "stream",
     "text": [
      "[WDM] - Current google-chrome version is 85.0.4183\n",
      "[WDM] - Get LATEST driver version for 85.0.4183\n",
      "[WDM] - Driver [/Users/jasenlo/.wdm/drivers/chromedriver/mac64/85.0.4183.87/chromedriver] found in cache\n"
     ]
    },
    {
     "name": "stdout",
     "output_type": "stream",
     "text": [
      " \n",
      "http://airbnb.com/rooms/39023483?check_in=2021-01-01&check_out=2021-04-30&previous_page_section_name=1000&display_extensions%5B%5D=MONTHLY_STAYS&display_extensions%5B%5D=DATED_LTS&federated_search_id=dc9f86ef-2181-4233-8c65-b09e5d03461e\n"
     ]
    },
    {
     "name": "stderr",
     "output_type": "stream",
     "text": [
      "[WDM] - Current google-chrome version is 85.0.4183\n",
      "[WDM] - Get LATEST driver version for 85.0.4183\n",
      "[WDM] - Driver [/Users/jasenlo/.wdm/drivers/chromedriver/mac64/85.0.4183.87/chromedriver] found in cache\n"
     ]
    },
    {
     "name": "stdout",
     "output_type": "stream",
     "text": [
      " \n",
      "http://airbnb.com/rooms/44271290?check_in=2021-01-01&check_out=2021-04-30&previous_page_section_name=1000&display_extensions%5B%5D=MONTHLY_STAYS&display_extensions%5B%5D=DATED_LTS&federated_search_id=dc9f86ef-2181-4233-8c65-b09e5d03461e\n"
     ]
    },
    {
     "name": "stderr",
     "output_type": "stream",
     "text": [
      "[WDM] - Current google-chrome version is 85.0.4183\n",
      "[WDM] - Get LATEST driver version for 85.0.4183\n",
      "[WDM] - Driver [/Users/jasenlo/.wdm/drivers/chromedriver/mac64/85.0.4183.87/chromedriver] found in cache\n"
     ]
    },
    {
     "name": "stdout",
     "output_type": "stream",
     "text": [
      " \n",
      "http://airbnb.com/rooms/24842518?check_in=2021-01-01&check_out=2021-04-30&previous_page_section_name=1000&display_extensions%5B%5D=MONTHLY_STAYS&display_extensions%5B%5D=DATED_LTS&federated_search_id=dc9f86ef-2181-4233-8c65-b09e5d03461e\n"
     ]
    },
    {
     "name": "stderr",
     "output_type": "stream",
     "text": [
      "[WDM] - Current google-chrome version is 85.0.4183\n",
      "[WDM] - Get LATEST driver version for 85.0.4183\n",
      "[WDM] - Driver [/Users/jasenlo/.wdm/drivers/chromedriver/mac64/85.0.4183.87/chromedriver] found in cache\n"
     ]
    },
    {
     "name": "stdout",
     "output_type": "stream",
     "text": [
      " \n",
      "http://airbnb.com/rooms/24842129?check_in=2021-01-01&check_out=2021-04-30&previous_page_section_name=1000&display_extensions%5B%5D=MONTHLY_STAYS&display_extensions%5B%5D=DATED_LTS&federated_search_id=dc9f86ef-2181-4233-8c65-b09e5d03461e\n"
     ]
    },
    {
     "name": "stderr",
     "output_type": "stream",
     "text": [
      "[WDM] - Current google-chrome version is 85.0.4183\n",
      "[WDM] - Get LATEST driver version for 85.0.4183\n",
      "[WDM] - Driver [/Users/jasenlo/.wdm/drivers/chromedriver/mac64/85.0.4183.87/chromedriver] found in cache\n"
     ]
    },
    {
     "name": "stdout",
     "output_type": "stream",
     "text": [
      " \n",
      "http://airbnb.com/rooms/30386757?check_in=2021-01-01&check_out=2021-04-30&previous_page_section_name=1000&display_extensions%5B%5D=MONTHLY_STAYS&display_extensions%5B%5D=DATED_LTS&federated_search_id=dc9f86ef-2181-4233-8c65-b09e5d03461e\n"
     ]
    },
    {
     "name": "stderr",
     "output_type": "stream",
     "text": [
      "[WDM] - Current google-chrome version is 85.0.4183\n",
      "[WDM] - Get LATEST driver version for 85.0.4183\n",
      "[WDM] - Driver [/Users/jasenlo/.wdm/drivers/chromedriver/mac64/85.0.4183.87/chromedriver] found in cache\n"
     ]
    },
    {
     "name": "stdout",
     "output_type": "stream",
     "text": [
      " \n",
      "http://airbnb.com/rooms/42240809?check_in=2021-01-01&check_out=2021-04-30&previous_page_section_name=1000&display_extensions%5B%5D=DATED_LTS&display_extensions%5B%5D=MONTHLY_STAYS&federated_search_id=98e799b1-4c2f-4c5a-9e40-a905f220cf23\n"
     ]
    },
    {
     "name": "stderr",
     "output_type": "stream",
     "text": [
      "[WDM] - Current google-chrome version is 85.0.4183\n",
      "[WDM] - Get LATEST driver version for 85.0.4183\n",
      "[WDM] - Driver [/Users/jasenlo/.wdm/drivers/chromedriver/mac64/85.0.4183.87/chromedriver] found in cache\n"
     ]
    },
    {
     "name": "stdout",
     "output_type": "stream",
     "text": [
      " \n",
      "http://airbnb.com/rooms/42786070?check_in=2021-01-01&check_out=2021-04-30&previous_page_section_name=1000&display_extensions%5B%5D=DATED_LTS&display_extensions%5B%5D=MONTHLY_STAYS&federated_search_id=98e799b1-4c2f-4c5a-9e40-a905f220cf23\n"
     ]
    },
    {
     "name": "stderr",
     "output_type": "stream",
     "text": [
      "[WDM] - Current google-chrome version is 85.0.4183\n",
      "[WDM] - Get LATEST driver version for 85.0.4183\n",
      "[WDM] - Driver [/Users/jasenlo/.wdm/drivers/chromedriver/mac64/85.0.4183.87/chromedriver] found in cache\n"
     ]
    },
    {
     "name": "stdout",
     "output_type": "stream",
     "text": [
      " \n",
      "http://airbnb.com/rooms/3252313?check_in=2021-01-01&check_out=2021-04-30&previous_page_section_name=1000&display_extensions%5B%5D=DATED_LTS&display_extensions%5B%5D=MONTHLY_STAYS&federated_search_id=98e799b1-4c2f-4c5a-9e40-a905f220cf23\n"
     ]
    },
    {
     "name": "stderr",
     "output_type": "stream",
     "text": [
      "[WDM] - Current google-chrome version is 85.0.4183\n",
      "[WDM] - Get LATEST driver version for 85.0.4183\n",
      "[WDM] - Driver [/Users/jasenlo/.wdm/drivers/chromedriver/mac64/85.0.4183.87/chromedriver] found in cache\n"
     ]
    },
    {
     "name": "stdout",
     "output_type": "stream",
     "text": [
      " \n",
      "http://airbnb.com/rooms/40361851?check_in=2021-01-01&check_out=2021-04-30&previous_page_section_name=1000&display_extensions%5B%5D=DATED_LTS&display_extensions%5B%5D=MONTHLY_STAYS&federated_search_id=98e799b1-4c2f-4c5a-9e40-a905f220cf23\n"
     ]
    },
    {
     "name": "stderr",
     "output_type": "stream",
     "text": [
      "[WDM] - Current google-chrome version is 85.0.4183\n",
      "[WDM] - Get LATEST driver version for 85.0.4183\n",
      "[WDM] - Driver [/Users/jasenlo/.wdm/drivers/chromedriver/mac64/85.0.4183.87/chromedriver] found in cache\n"
     ]
    },
    {
     "name": "stdout",
     "output_type": "stream",
     "text": [
      " \n",
      "http://airbnb.com/rooms/15099408?check_in=2021-01-01&check_out=2021-04-30&previous_page_section_name=1000&display_extensions%5B%5D=DATED_LTS&display_extensions%5B%5D=MONTHLY_STAYS&federated_search_id=98e799b1-4c2f-4c5a-9e40-a905f220cf23\n"
     ]
    },
    {
     "name": "stderr",
     "output_type": "stream",
     "text": [
      "[WDM] - Current google-chrome version is 85.0.4183\n",
      "[WDM] - Get LATEST driver version for 85.0.4183\n",
      "[WDM] - Driver [/Users/jasenlo/.wdm/drivers/chromedriver/mac64/85.0.4183.87/chromedriver] found in cache\n"
     ]
    },
    {
     "name": "stdout",
     "output_type": "stream",
     "text": [
      " \n",
      "http://airbnb.com/rooms/35775234?check_in=2021-01-01&check_out=2021-04-30&previous_page_section_name=1000&display_extensions%5B%5D=DATED_LTS&display_extensions%5B%5D=MONTHLY_STAYS&federated_search_id=98e799b1-4c2f-4c5a-9e40-a905f220cf23\n"
     ]
    },
    {
     "name": "stderr",
     "output_type": "stream",
     "text": [
      "[WDM] - Current google-chrome version is 85.0.4183\n",
      "[WDM] - Get LATEST driver version for 85.0.4183\n",
      "[WDM] - Driver [/Users/jasenlo/.wdm/drivers/chromedriver/mac64/85.0.4183.87/chromedriver] found in cache\n"
     ]
    },
    {
     "name": "stdout",
     "output_type": "stream",
     "text": [
      " \n",
      "http://airbnb.com/rooms/7861901?check_in=2021-01-01&check_out=2021-04-30&previous_page_section_name=1000&display_extensions%5B%5D=DATED_LTS&display_extensions%5B%5D=MONTHLY_STAYS&federated_search_id=98e799b1-4c2f-4c5a-9e40-a905f220cf23\n"
     ]
    },
    {
     "name": "stderr",
     "output_type": "stream",
     "text": [
      "[WDM] - Current google-chrome version is 85.0.4183\n",
      "[WDM] - Get LATEST driver version for 85.0.4183\n",
      "[WDM] - Driver [/Users/jasenlo/.wdm/drivers/chromedriver/mac64/85.0.4183.87/chromedriver] found in cache\n"
     ]
    },
    {
     "name": "stdout",
     "output_type": "stream",
     "text": [
      " \n",
      "http://airbnb.com/rooms/25507801?check_in=2021-01-01&check_out=2021-04-30&previous_page_section_name=1000&display_extensions%5B%5D=DATED_LTS&display_extensions%5B%5D=MONTHLY_STAYS&federated_search_id=98e799b1-4c2f-4c5a-9e40-a905f220cf23\n"
     ]
    },
    {
     "name": "stderr",
     "output_type": "stream",
     "text": [
      "[WDM] - Current google-chrome version is 85.0.4183\n",
      "[WDM] - Get LATEST driver version for 85.0.4183\n",
      "[WDM] - Driver [/Users/jasenlo/.wdm/drivers/chromedriver/mac64/85.0.4183.87/chromedriver] found in cache\n"
     ]
    },
    {
     "name": "stdout",
     "output_type": "stream",
     "text": [
      " \n",
      "http://airbnb.com/rooms/15099407?check_in=2021-01-01&check_out=2021-04-30&previous_page_section_name=1000&display_extensions%5B%5D=DATED_LTS&display_extensions%5B%5D=MONTHLY_STAYS&federated_search_id=98e799b1-4c2f-4c5a-9e40-a905f220cf23\n"
     ]
    },
    {
     "name": "stderr",
     "output_type": "stream",
     "text": [
      "[WDM] - Current google-chrome version is 85.0.4183\n",
      "[WDM] - Get LATEST driver version for 85.0.4183\n",
      "[WDM] - Driver [/Users/jasenlo/.wdm/drivers/chromedriver/mac64/85.0.4183.87/chromedriver] found in cache\n"
     ]
    },
    {
     "name": "stdout",
     "output_type": "stream",
     "text": [
      " \n",
      "http://airbnb.com/rooms/24878325?check_in=2021-01-01&check_out=2021-04-30&previous_page_section_name=1000&display_extensions%5B%5D=DATED_LTS&display_extensions%5B%5D=MONTHLY_STAYS&federated_search_id=98e799b1-4c2f-4c5a-9e40-a905f220cf23\n"
     ]
    },
    {
     "name": "stderr",
     "output_type": "stream",
     "text": [
      "[WDM] - Current google-chrome version is 85.0.4183\n",
      "[WDM] - Get LATEST driver version for 85.0.4183\n",
      "[WDM] - Driver [/Users/jasenlo/.wdm/drivers/chromedriver/mac64/85.0.4183.87/chromedriver] found in cache\n"
     ]
    },
    {
     "name": "stdout",
     "output_type": "stream",
     "text": [
      " \n",
      "http://airbnb.com/rooms/30386757?check_in=2021-01-01&check_out=2021-04-30&previous_page_section_name=1000&display_extensions%5B%5D=MONTHLY_STAYS&display_extensions%5B%5D=DATED_LTS&federated_search_id=05c6f65d-b37a-4f4f-a787-fd8e63d24125\n"
     ]
    },
    {
     "name": "stderr",
     "output_type": "stream",
     "text": [
      "[WDM] - Current google-chrome version is 85.0.4183\n",
      "[WDM] - Get LATEST driver version for 85.0.4183\n",
      "[WDM] - Driver [/Users/jasenlo/.wdm/drivers/chromedriver/mac64/85.0.4183.87/chromedriver] found in cache\n"
     ]
    },
    {
     "name": "stdout",
     "output_type": "stream",
     "text": [
      " \n",
      "http://airbnb.com/rooms/23634094?check_in=2021-01-01&check_out=2021-04-30&previous_page_section_name=1000&display_extensions%5B%5D=MONTHLY_STAYS&display_extensions%5B%5D=DATED_LTS&federated_search_id=05c6f65d-b37a-4f4f-a787-fd8e63d24125\n"
     ]
    },
    {
     "name": "stderr",
     "output_type": "stream",
     "text": [
      "[WDM] - Current google-chrome version is 85.0.4183\n",
      "[WDM] - Get LATEST driver version for 85.0.4183\n",
      "[WDM] - Driver [/Users/jasenlo/.wdm/drivers/chromedriver/mac64/85.0.4183.87/chromedriver] found in cache\n"
     ]
    },
    {
     "name": "stdout",
     "output_type": "stream",
     "text": [
      " \n",
      "http://airbnb.com/rooms/6004927?check_in=2021-01-01&check_out=2021-04-30&previous_page_section_name=1000&display_extensions%5B%5D=MONTHLY_STAYS&display_extensions%5B%5D=DATED_LTS&federated_search_id=05c6f65d-b37a-4f4f-a787-fd8e63d24125\n"
     ]
    },
    {
     "name": "stderr",
     "output_type": "stream",
     "text": [
      "[WDM] - Current google-chrome version is 85.0.4183\n",
      "[WDM] - Get LATEST driver version for 85.0.4183\n",
      "[WDM] - Driver [/Users/jasenlo/.wdm/drivers/chromedriver/mac64/85.0.4183.87/chromedriver] found in cache\n"
     ]
    },
    {
     "name": "stdout",
     "output_type": "stream",
     "text": [
      " \n",
      "http://airbnb.com/rooms/35584203?check_in=2021-01-01&check_out=2021-04-30&previous_page_section_name=1000&display_extensions%5B%5D=MONTHLY_STAYS&display_extensions%5B%5D=DATED_LTS&federated_search_id=05c6f65d-b37a-4f4f-a787-fd8e63d24125\n"
     ]
    },
    {
     "name": "stderr",
     "output_type": "stream",
     "text": [
      "[WDM] - Current google-chrome version is 85.0.4183\n",
      "[WDM] - Get LATEST driver version for 85.0.4183\n",
      "[WDM] - Driver [/Users/jasenlo/.wdm/drivers/chromedriver/mac64/85.0.4183.87/chromedriver] found in cache\n"
     ]
    },
    {
     "name": "stdout",
     "output_type": "stream",
     "text": [
      " \n",
      "http://airbnb.com/rooms/32882636?check_in=2021-01-01&check_out=2021-04-30&previous_page_section_name=1000&display_extensions%5B%5D=MONTHLY_STAYS&display_extensions%5B%5D=DATED_LTS&federated_search_id=05c6f65d-b37a-4f4f-a787-fd8e63d24125\n"
     ]
    },
    {
     "name": "stderr",
     "output_type": "stream",
     "text": [
      "[WDM] - Current google-chrome version is 85.0.4183\n",
      "[WDM] - Get LATEST driver version for 85.0.4183\n",
      "[WDM] - Driver [/Users/jasenlo/.wdm/drivers/chromedriver/mac64/85.0.4183.87/chromedriver] found in cache\n"
     ]
    },
    {
     "name": "stdout",
     "output_type": "stream",
     "text": [
      " \n",
      "http://airbnb.com/rooms/21619565?check_in=2021-01-01&check_out=2021-04-30&previous_page_section_name=1000&display_extensions%5B%5D=MONTHLY_STAYS&display_extensions%5B%5D=DATED_LTS&federated_search_id=05c6f65d-b37a-4f4f-a787-fd8e63d24125\n"
     ]
    },
    {
     "name": "stderr",
     "output_type": "stream",
     "text": [
      "[WDM] - Current google-chrome version is 85.0.4183\n",
      "[WDM] - Get LATEST driver version for 85.0.4183\n",
      "[WDM] - Driver [/Users/jasenlo/.wdm/drivers/chromedriver/mac64/85.0.4183.87/chromedriver] found in cache\n"
     ]
    },
    {
     "name": "stdout",
     "output_type": "stream",
     "text": [
      " \n",
      "http://airbnb.com/rooms/42718858?check_in=2021-01-01&check_out=2021-04-30&previous_page_section_name=1000&display_extensions%5B%5D=MONTHLY_STAYS&display_extensions%5B%5D=DATED_LTS&federated_search_id=05c6f65d-b37a-4f4f-a787-fd8e63d24125\n"
     ]
    },
    {
     "name": "stderr",
     "output_type": "stream",
     "text": [
      "[WDM] - Current google-chrome version is 85.0.4183\n",
      "[WDM] - Get LATEST driver version for 85.0.4183\n",
      "[WDM] - Driver [/Users/jasenlo/.wdm/drivers/chromedriver/mac64/85.0.4183.87/chromedriver] found in cache\n"
     ]
    },
    {
     "name": "stdout",
     "output_type": "stream",
     "text": [
      " \n",
      "http://airbnb.com/rooms/15458005?check_in=2021-01-01&check_out=2021-04-30&previous_page_section_name=1000&display_extensions%5B%5D=MONTHLY_STAYS&display_extensions%5B%5D=DATED_LTS&federated_search_id=05c6f65d-b37a-4f4f-a787-fd8e63d24125\n"
     ]
    },
    {
     "name": "stderr",
     "output_type": "stream",
     "text": [
      "[WDM] - Current google-chrome version is 85.0.4183\n",
      "[WDM] - Get LATEST driver version for 85.0.4183\n",
      "[WDM] - Driver [/Users/jasenlo/.wdm/drivers/chromedriver/mac64/85.0.4183.87/chromedriver] found in cache\n"
     ]
    },
    {
     "name": "stdout",
     "output_type": "stream",
     "text": [
      " \n",
      "http://airbnb.com/rooms/15860533?check_in=2021-01-01&check_out=2021-04-30&previous_page_section_name=1000&display_extensions%5B%5D=MONTHLY_STAYS&display_extensions%5B%5D=DATED_LTS&federated_search_id=05c6f65d-b37a-4f4f-a787-fd8e63d24125\n"
     ]
    },
    {
     "name": "stderr",
     "output_type": "stream",
     "text": [
      "[WDM] - Current google-chrome version is 85.0.4183\n",
      "[WDM] - Get LATEST driver version for 85.0.4183\n",
      "[WDM] - Driver [/Users/jasenlo/.wdm/drivers/chromedriver/mac64/85.0.4183.87/chromedriver] found in cache\n"
     ]
    },
    {
     "name": "stdout",
     "output_type": "stream",
     "text": [
      " \n",
      "http://airbnb.com/rooms/29984526?check_in=2021-01-01&check_out=2021-04-30&previous_page_section_name=1000&display_extensions%5B%5D=MONTHLY_STAYS&display_extensions%5B%5D=DATED_LTS&federated_search_id=05c6f65d-b37a-4f4f-a787-fd8e63d24125\n"
     ]
    },
    {
     "name": "stderr",
     "output_type": "stream",
     "text": [
      "[WDM] - Current google-chrome version is 85.0.4183\n",
      "[WDM] - Get LATEST driver version for 85.0.4183\n",
      "[WDM] - Driver [/Users/jasenlo/.wdm/drivers/chromedriver/mac64/85.0.4183.87/chromedriver] found in cache\n"
     ]
    },
    {
     "name": "stdout",
     "output_type": "stream",
     "text": [
      " \n",
      "http://airbnb.com/rooms/23832856?check_in=2021-01-01&check_out=2021-04-30&previous_page_section_name=1000&display_extensions%5B%5D=DATED_LTS&display_extensions%5B%5D=MONTHLY_STAYS&federated_search_id=b9a11166-6e2e-4ccc-bd43-5fa958d093a7\n"
     ]
    },
    {
     "name": "stderr",
     "output_type": "stream",
     "text": [
      "[WDM] - Current google-chrome version is 85.0.4183\n",
      "[WDM] - Get LATEST driver version for 85.0.4183\n",
      "[WDM] - Driver [/Users/jasenlo/.wdm/drivers/chromedriver/mac64/85.0.4183.87/chromedriver] found in cache\n"
     ]
    },
    {
     "name": "stdout",
     "output_type": "stream",
     "text": [
      " \n",
      "http://airbnb.com/rooms/39602658?check_in=2021-01-01&check_out=2021-04-30&previous_page_section_name=1000&display_extensions%5B%5D=DATED_LTS&display_extensions%5B%5D=MONTHLY_STAYS&federated_search_id=b9a11166-6e2e-4ccc-bd43-5fa958d093a7\n"
     ]
    },
    {
     "name": "stderr",
     "output_type": "stream",
     "text": [
      "[WDM] - Current google-chrome version is 85.0.4183\n",
      "[WDM] - Get LATEST driver version for 85.0.4183\n",
      "[WDM] - Driver [/Users/jasenlo/.wdm/drivers/chromedriver/mac64/85.0.4183.87/chromedriver] found in cache\n"
     ]
    },
    {
     "name": "stdout",
     "output_type": "stream",
     "text": [
      " \n",
      "http://airbnb.com/rooms/40169135?check_in=2021-01-01&check_out=2021-04-30&previous_page_section_name=1000&display_extensions%5B%5D=DATED_LTS&display_extensions%5B%5D=MONTHLY_STAYS&federated_search_id=b9a11166-6e2e-4ccc-bd43-5fa958d093a7\n"
     ]
    },
    {
     "name": "stderr",
     "output_type": "stream",
     "text": [
      "[WDM] - Current google-chrome version is 85.0.4183\n",
      "[WDM] - Get LATEST driver version for 85.0.4183\n",
      "[WDM] - Driver [/Users/jasenlo/.wdm/drivers/chromedriver/mac64/85.0.4183.87/chromedriver] found in cache\n"
     ]
    },
    {
     "name": "stdout",
     "output_type": "stream",
     "text": [
      " \n",
      "http://airbnb.com/rooms/35296510?check_in=2021-01-01&check_out=2021-04-30&previous_page_section_name=1000&display_extensions%5B%5D=DATED_LTS&display_extensions%5B%5D=MONTHLY_STAYS&federated_search_id=b9a11166-6e2e-4ccc-bd43-5fa958d093a7\n"
     ]
    },
    {
     "name": "stderr",
     "output_type": "stream",
     "text": [
      "[WDM] - Current google-chrome version is 85.0.4183\n",
      "[WDM] - Get LATEST driver version for 85.0.4183\n",
      "[WDM] - Driver [/Users/jasenlo/.wdm/drivers/chromedriver/mac64/85.0.4183.87/chromedriver] found in cache\n"
     ]
    },
    {
     "name": "stdout",
     "output_type": "stream",
     "text": [
      " \n",
      "http://airbnb.com/rooms/43201353?check_in=2021-01-01&check_out=2021-04-30&previous_page_section_name=1000&display_extensions%5B%5D=DATED_LTS&display_extensions%5B%5D=MONTHLY_STAYS&federated_search_id=b9a11166-6e2e-4ccc-bd43-5fa958d093a7\n"
     ]
    },
    {
     "name": "stderr",
     "output_type": "stream",
     "text": [
      "[WDM] - Current google-chrome version is 85.0.4183\n",
      "[WDM] - Get LATEST driver version for 85.0.4183\n",
      "[WDM] - Driver [/Users/jasenlo/.wdm/drivers/chromedriver/mac64/85.0.4183.87/chromedriver] found in cache\n"
     ]
    },
    {
     "name": "stdout",
     "output_type": "stream",
     "text": [
      " \n",
      "http://airbnb.com/rooms/36018734?check_in=2021-01-01&check_out=2021-04-30&previous_page_section_name=1000&display_extensions%5B%5D=DATED_LTS&display_extensions%5B%5D=MONTHLY_STAYS&federated_search_id=b9a11166-6e2e-4ccc-bd43-5fa958d093a7\n"
     ]
    },
    {
     "name": "stderr",
     "output_type": "stream",
     "text": [
      "[WDM] - Current google-chrome version is 85.0.4183\n",
      "[WDM] - Get LATEST driver version for 85.0.4183\n",
      "[WDM] - Driver [/Users/jasenlo/.wdm/drivers/chromedriver/mac64/85.0.4183.87/chromedriver] found in cache\n"
     ]
    },
    {
     "name": "stdout",
     "output_type": "stream",
     "text": [
      " \n",
      "http://airbnb.com/rooms/24878098?check_in=2021-01-01&check_out=2021-04-30&previous_page_section_name=1000&display_extensions%5B%5D=DATED_LTS&display_extensions%5B%5D=MONTHLY_STAYS&federated_search_id=b9a11166-6e2e-4ccc-bd43-5fa958d093a7\n"
     ]
    },
    {
     "name": "stderr",
     "output_type": "stream",
     "text": [
      "[WDM] - Current google-chrome version is 85.0.4183\n",
      "[WDM] - Get LATEST driver version for 85.0.4183\n",
      "[WDM] - Driver [/Users/jasenlo/.wdm/drivers/chromedriver/mac64/85.0.4183.87/chromedriver] found in cache\n"
     ]
    },
    {
     "name": "stdout",
     "output_type": "stream",
     "text": [
      " \n",
      "http://airbnb.com/rooms/3879242?check_in=2021-01-01&check_out=2021-04-30&previous_page_section_name=1000&display_extensions%5B%5D=DATED_LTS&display_extensions%5B%5D=MONTHLY_STAYS&federated_search_id=b9a11166-6e2e-4ccc-bd43-5fa958d093a7\n"
     ]
    },
    {
     "name": "stderr",
     "output_type": "stream",
     "text": [
      "[WDM] - Current google-chrome version is 85.0.4183\n",
      "[WDM] - Get LATEST driver version for 85.0.4183\n",
      "[WDM] - Driver [/Users/jasenlo/.wdm/drivers/chromedriver/mac64/85.0.4183.87/chromedriver] found in cache\n"
     ]
    },
    {
     "name": "stdout",
     "output_type": "stream",
     "text": [
      " \n",
      "http://airbnb.com/rooms/41596224?check_in=2021-01-01&check_out=2021-04-30&previous_page_section_name=1000&display_extensions%5B%5D=DATED_LTS&display_extensions%5B%5D=MONTHLY_STAYS&federated_search_id=b9a11166-6e2e-4ccc-bd43-5fa958d093a7\n"
     ]
    },
    {
     "name": "stderr",
     "output_type": "stream",
     "text": [
      "[WDM] - Current google-chrome version is 85.0.4183\n",
      "[WDM] - Get LATEST driver version for 85.0.4183\n",
      "[WDM] - Driver [/Users/jasenlo/.wdm/drivers/chromedriver/mac64/85.0.4183.87/chromedriver] found in cache\n"
     ]
    },
    {
     "name": "stdout",
     "output_type": "stream",
     "text": [
      " \n",
      "http://airbnb.com/rooms/16433249?check_in=2021-01-01&check_out=2021-04-30&previous_page_section_name=1000&display_extensions%5B%5D=DATED_LTS&display_extensions%5B%5D=MONTHLY_STAYS&federated_search_id=b9a11166-6e2e-4ccc-bd43-5fa958d093a7\n"
     ]
    },
    {
     "name": "stderr",
     "output_type": "stream",
     "text": [
      "[WDM] - Current google-chrome version is 85.0.4183\n",
      "[WDM] - Get LATEST driver version for 85.0.4183\n",
      "[WDM] - Driver [/Users/jasenlo/.wdm/drivers/chromedriver/mac64/85.0.4183.87/chromedriver] found in cache\n"
     ]
    },
    {
     "name": "stdout",
     "output_type": "stream",
     "text": [
      " \n",
      "http://airbnb.com/rooms/23833014?check_in=2021-01-01&check_out=2021-04-30&previous_page_section_name=1000&display_extensions%5B%5D=DATED_LTS&display_extensions%5B%5D=MONTHLY_STAYS&federated_search_id=b9a11166-6e2e-4ccc-bd43-5fa958d093a7\n"
     ]
    },
    {
     "name": "stderr",
     "output_type": "stream",
     "text": [
      "[WDM] - Current google-chrome version is 85.0.4183\n",
      "[WDM] - Get LATEST driver version for 85.0.4183\n",
      "[WDM] - Driver [/Users/jasenlo/.wdm/drivers/chromedriver/mac64/85.0.4183.87/chromedriver] found in cache\n"
     ]
    },
    {
     "name": "stdout",
     "output_type": "stream",
     "text": [
      " \n",
      "http://airbnb.com/rooms/13885085?check_in=2021-01-01&check_out=2021-04-30&previous_page_section_name=1000&display_extensions%5B%5D=DATED_LTS&display_extensions%5B%5D=MONTHLY_STAYS&federated_search_id=d62bc400-0dbb-45f9-aa49-df240b912650\n"
     ]
    },
    {
     "name": "stderr",
     "output_type": "stream",
     "text": [
      "[WDM] - Current google-chrome version is 85.0.4183\n",
      "[WDM] - Get LATEST driver version for 85.0.4183\n",
      "[WDM] - Driver [/Users/jasenlo/.wdm/drivers/chromedriver/mac64/85.0.4183.87/chromedriver] found in cache\n"
     ]
    },
    {
     "name": "stdout",
     "output_type": "stream",
     "text": [
      " \n",
      "http://airbnb.com/rooms/10854022?check_in=2021-01-01&check_out=2021-04-30&previous_page_section_name=1000&display_extensions%5B%5D=DATED_LTS&display_extensions%5B%5D=MONTHLY_STAYS&federated_search_id=d62bc400-0dbb-45f9-aa49-df240b912650\n"
     ]
    },
    {
     "name": "stderr",
     "output_type": "stream",
     "text": [
      "[WDM] - Current google-chrome version is 85.0.4183\n",
      "[WDM] - Get LATEST driver version for 85.0.4183\n",
      "[WDM] - Driver [/Users/jasenlo/.wdm/drivers/chromedriver/mac64/85.0.4183.87/chromedriver] found in cache\n"
     ]
    },
    {
     "name": "stdout",
     "output_type": "stream",
     "text": [
      " \n",
      "http://airbnb.com/rooms/14241304?check_in=2021-01-01&check_out=2021-04-30&previous_page_section_name=1000&display_extensions%5B%5D=DATED_LTS&display_extensions%5B%5D=MONTHLY_STAYS&federated_search_id=d62bc400-0dbb-45f9-aa49-df240b912650\n"
     ]
    },
    {
     "name": "stderr",
     "output_type": "stream",
     "text": [
      "[WDM] - Current google-chrome version is 85.0.4183\n",
      "[WDM] - Get LATEST driver version for 85.0.4183\n",
      "[WDM] - Driver [/Users/jasenlo/.wdm/drivers/chromedriver/mac64/85.0.4183.87/chromedriver] found in cache\n"
     ]
    },
    {
     "name": "stdout",
     "output_type": "stream",
     "text": [
      " \n",
      "http://airbnb.com/rooms/38031739?check_in=2021-01-01&check_out=2021-04-30&previous_page_section_name=1000&display_extensions%5B%5D=DATED_LTS&display_extensions%5B%5D=MONTHLY_STAYS&federated_search_id=d62bc400-0dbb-45f9-aa49-df240b912650\n"
     ]
    },
    {
     "name": "stderr",
     "output_type": "stream",
     "text": [
      "[WDM] - Current google-chrome version is 85.0.4183\n",
      "[WDM] - Get LATEST driver version for 85.0.4183\n",
      "[WDM] - Driver [/Users/jasenlo/.wdm/drivers/chromedriver/mac64/85.0.4183.87/chromedriver] found in cache\n"
     ]
    },
    {
     "name": "stdout",
     "output_type": "stream",
     "text": [
      " \n",
      "http://airbnb.com/rooms/21906188?check_in=2021-01-01&check_out=2021-04-30&previous_page_section_name=1000&display_extensions%5B%5D=DATED_LTS&display_extensions%5B%5D=MONTHLY_STAYS&federated_search_id=d62bc400-0dbb-45f9-aa49-df240b912650\n"
     ]
    },
    {
     "name": "stderr",
     "output_type": "stream",
     "text": [
      "[WDM] - Current google-chrome version is 85.0.4183\n",
      "[WDM] - Get LATEST driver version for 85.0.4183\n",
      "[WDM] - Driver [/Users/jasenlo/.wdm/drivers/chromedriver/mac64/85.0.4183.87/chromedriver] found in cache\n"
     ]
    },
    {
     "name": "stdout",
     "output_type": "stream",
     "text": [
      " \n",
      "http://airbnb.com/rooms/43960133?check_in=2021-01-01&check_out=2021-04-30&previous_page_section_name=1000&display_extensions%5B%5D=DATED_LTS&display_extensions%5B%5D=MONTHLY_STAYS&federated_search_id=d62bc400-0dbb-45f9-aa49-df240b912650\n"
     ]
    },
    {
     "name": "stderr",
     "output_type": "stream",
     "text": [
      "[WDM] - Current google-chrome version is 85.0.4183\n",
      "[WDM] - Get LATEST driver version for 85.0.4183\n",
      "[WDM] - Driver [/Users/jasenlo/.wdm/drivers/chromedriver/mac64/85.0.4183.87/chromedriver] found in cache\n"
     ]
    },
    {
     "name": "stdout",
     "output_type": "stream",
     "text": [
      " \n",
      "http://airbnb.com/rooms/43427444?check_in=2021-01-01&check_out=2021-04-30&previous_page_section_name=1000&display_extensions%5B%5D=DATED_LTS&display_extensions%5B%5D=MONTHLY_STAYS&federated_search_id=d62bc400-0dbb-45f9-aa49-df240b912650\n"
     ]
    },
    {
     "name": "stderr",
     "output_type": "stream",
     "text": [
      "[WDM] - Current google-chrome version is 85.0.4183\n",
      "[WDM] - Get LATEST driver version for 85.0.4183\n",
      "[WDM] - Driver [/Users/jasenlo/.wdm/drivers/chromedriver/mac64/85.0.4183.87/chromedriver] found in cache\n"
     ]
    },
    {
     "name": "stdout",
     "output_type": "stream",
     "text": [
      " \n",
      "http://airbnb.com/rooms/16698226?check_in=2021-01-01&check_out=2021-04-30&previous_page_section_name=1000&display_extensions%5B%5D=DATED_LTS&display_extensions%5B%5D=MONTHLY_STAYS&federated_search_id=d62bc400-0dbb-45f9-aa49-df240b912650\n"
     ]
    },
    {
     "name": "stderr",
     "output_type": "stream",
     "text": [
      "[WDM] - Current google-chrome version is 85.0.4183\n",
      "[WDM] - Get LATEST driver version for 85.0.4183\n",
      "[WDM] - Driver [/Users/jasenlo/.wdm/drivers/chromedriver/mac64/85.0.4183.87/chromedriver] found in cache\n"
     ]
    },
    {
     "name": "stdout",
     "output_type": "stream",
     "text": [
      " \n",
      "http://airbnb.com/rooms/29960122?check_in=2021-01-01&check_out=2021-04-30&previous_page_section_name=1000&display_extensions%5B%5D=DATED_LTS&display_extensions%5B%5D=MONTHLY_STAYS&federated_search_id=d62bc400-0dbb-45f9-aa49-df240b912650\n"
     ]
    },
    {
     "name": "stderr",
     "output_type": "stream",
     "text": [
      "[WDM] - Current google-chrome version is 85.0.4183\n",
      "[WDM] - Get LATEST driver version for 85.0.4183\n",
      "[WDM] - Driver [/Users/jasenlo/.wdm/drivers/chromedriver/mac64/85.0.4183.87/chromedriver] found in cache\n"
     ]
    },
    {
     "name": "stdout",
     "output_type": "stream",
     "text": [
      " \n",
      "http://airbnb.com/rooms/22869464?check_in=2021-01-01&check_out=2021-04-30&previous_page_section_name=1000&display_extensions%5B%5D=DATED_LTS&display_extensions%5B%5D=MONTHLY_STAYS&federated_search_id=d62bc400-0dbb-45f9-aa49-df240b912650\n"
     ]
    },
    {
     "name": "stderr",
     "output_type": "stream",
     "text": [
      "[WDM] - Current google-chrome version is 85.0.4183\n",
      "[WDM] - Get LATEST driver version for 85.0.4183\n",
      "[WDM] - Driver [/Users/jasenlo/.wdm/drivers/chromedriver/mac64/85.0.4183.87/chromedriver] found in cache\n"
     ]
    },
    {
     "name": "stdout",
     "output_type": "stream",
     "text": [
      " \n",
      "http://airbnb.com/rooms/15077841?check_in=2021-01-01&check_out=2021-04-30&previous_page_section_name=1000&display_extensions%5B%5D=MONTHLY_STAYS&display_extensions%5B%5D=DATED_LTS&federated_search_id=aecd61d2-ce2f-4b1d-9e20-91bb677d918a\n"
     ]
    },
    {
     "name": "stderr",
     "output_type": "stream",
     "text": [
      "[WDM] - Current google-chrome version is 85.0.4183\n",
      "[WDM] - Get LATEST driver version for 85.0.4183\n",
      "[WDM] - Driver [/Users/jasenlo/.wdm/drivers/chromedriver/mac64/85.0.4183.87/chromedriver] found in cache\n"
     ]
    },
    {
     "name": "stdout",
     "output_type": "stream",
     "text": [
      " \n",
      "http://airbnb.com/rooms/38507033?check_in=2021-01-01&check_out=2021-04-30&previous_page_section_name=1000&display_extensions%5B%5D=MONTHLY_STAYS&display_extensions%5B%5D=DATED_LTS&federated_search_id=aecd61d2-ce2f-4b1d-9e20-91bb677d918a\n"
     ]
    },
    {
     "name": "stderr",
     "output_type": "stream",
     "text": [
      "[WDM] - Current google-chrome version is 85.0.4183\n",
      "[WDM] - Get LATEST driver version for 85.0.4183\n",
      "[WDM] - Driver [/Users/jasenlo/.wdm/drivers/chromedriver/mac64/85.0.4183.87/chromedriver] found in cache\n"
     ]
    },
    {
     "name": "stdout",
     "output_type": "stream",
     "text": [
      " \n",
      "http://airbnb.com/rooms/1016555?check_in=2021-01-01&check_out=2021-04-30&previous_page_section_name=1000&display_extensions%5B%5D=MONTHLY_STAYS&display_extensions%5B%5D=DATED_LTS&federated_search_id=aecd61d2-ce2f-4b1d-9e20-91bb677d918a\n"
     ]
    },
    {
     "name": "stderr",
     "output_type": "stream",
     "text": [
      "[WDM] - Current google-chrome version is 85.0.4183\n",
      "[WDM] - Get LATEST driver version for 85.0.4183\n",
      "[WDM] - Driver [/Users/jasenlo/.wdm/drivers/chromedriver/mac64/85.0.4183.87/chromedriver] found in cache\n"
     ]
    },
    {
     "name": "stdout",
     "output_type": "stream",
     "text": [
      " \n",
      "http://airbnb.com/rooms/44478024?check_in=2021-01-01&check_out=2021-04-30&previous_page_section_name=1000&display_extensions%5B%5D=MONTHLY_STAYS&display_extensions%5B%5D=DATED_LTS&federated_search_id=aecd61d2-ce2f-4b1d-9e20-91bb677d918a\n"
     ]
    },
    {
     "name": "stderr",
     "output_type": "stream",
     "text": [
      "[WDM] - Current google-chrome version is 85.0.4183\n",
      "[WDM] - Get LATEST driver version for 85.0.4183\n",
      "[WDM] - Driver [/Users/jasenlo/.wdm/drivers/chromedriver/mac64/85.0.4183.87/chromedriver] found in cache\n"
     ]
    },
    {
     "name": "stdout",
     "output_type": "stream",
     "text": [
      " \n",
      "http://airbnb.com/rooms/7697422?check_in=2021-01-01&check_out=2021-04-30&previous_page_section_name=1000&display_extensions%5B%5D=MONTHLY_STAYS&display_extensions%5B%5D=DATED_LTS&federated_search_id=aecd61d2-ce2f-4b1d-9e20-91bb677d918a\n"
     ]
    },
    {
     "name": "stderr",
     "output_type": "stream",
     "text": [
      "[WDM] - Current google-chrome version is 85.0.4183\n",
      "[WDM] - Get LATEST driver version for 85.0.4183\n",
      "[WDM] - Driver [/Users/jasenlo/.wdm/drivers/chromedriver/mac64/85.0.4183.87/chromedriver] found in cache\n"
     ]
    },
    {
     "name": "stdout",
     "output_type": "stream",
     "text": [
      " \n",
      "http://airbnb.com/rooms/17477316?check_in=2021-01-01&check_out=2021-04-30&previous_page_section_name=1000&display_extensions%5B%5D=MONTHLY_STAYS&display_extensions%5B%5D=DATED_LTS&federated_search_id=aecd61d2-ce2f-4b1d-9e20-91bb677d918a\n"
     ]
    },
    {
     "name": "stderr",
     "output_type": "stream",
     "text": [
      "[WDM] - Current google-chrome version is 85.0.4183\n",
      "[WDM] - Get LATEST driver version for 85.0.4183\n",
      "[WDM] - Driver [/Users/jasenlo/.wdm/drivers/chromedriver/mac64/85.0.4183.87/chromedriver] found in cache\n"
     ]
    },
    {
     "name": "stdout",
     "output_type": "stream",
     "text": [
      " \n",
      "http://airbnb.com/rooms/7047205?check_in=2021-01-01&check_out=2021-04-30&previous_page_section_name=1000&display_extensions%5B%5D=MONTHLY_STAYS&display_extensions%5B%5D=DATED_LTS&federated_search_id=aecd61d2-ce2f-4b1d-9e20-91bb677d918a\n"
     ]
    },
    {
     "name": "stderr",
     "output_type": "stream",
     "text": [
      "[WDM] - Current google-chrome version is 85.0.4183\n",
      "[WDM] - Get LATEST driver version for 85.0.4183\n",
      "[WDM] - Driver [/Users/jasenlo/.wdm/drivers/chromedriver/mac64/85.0.4183.87/chromedriver] found in cache\n"
     ]
    },
    {
     "name": "stdout",
     "output_type": "stream",
     "text": [
      " \n",
      "http://airbnb.com/rooms/21148483?check_in=2021-01-01&check_out=2021-04-30&previous_page_section_name=1000&display_extensions%5B%5D=MONTHLY_STAYS&display_extensions%5B%5D=DATED_LTS&federated_search_id=7df1c9a9-678a-4a09-8c1a-44381baf8a78\n"
     ]
    },
    {
     "name": "stderr",
     "output_type": "stream",
     "text": [
      "[WDM] - Current google-chrome version is 85.0.4183\n",
      "[WDM] - Get LATEST driver version for 85.0.4183\n",
      "[WDM] - Driver [/Users/jasenlo/.wdm/drivers/chromedriver/mac64/85.0.4183.87/chromedriver] found in cache\n"
     ]
    },
    {
     "name": "stdout",
     "output_type": "stream",
     "text": [
      " \n",
      "http://airbnb.com/rooms/45700182?check_in=2021-01-01&check_out=2021-04-30&previous_page_section_name=1000&display_extensions%5B%5D=MONTHLY_STAYS&display_extensions%5B%5D=DATED_LTS&federated_search_id=7df1c9a9-678a-4a09-8c1a-44381baf8a78\n"
     ]
    },
    {
     "name": "stderr",
     "output_type": "stream",
     "text": [
      "[WDM] - Current google-chrome version is 85.0.4183\n",
      "[WDM] - Get LATEST driver version for 85.0.4183\n",
      "[WDM] - Driver [/Users/jasenlo/.wdm/drivers/chromedriver/mac64/85.0.4183.87/chromedriver] found in cache\n"
     ]
    },
    {
     "name": "stdout",
     "output_type": "stream",
     "text": [
      " \n",
      "http://airbnb.com/rooms/7047205?check_in=2021-01-01&check_out=2021-04-30&previous_page_section_name=1000&display_extensions%5B%5D=MONTHLY_STAYS&display_extensions%5B%5D=DATED_LTS&federated_search_id=7df1c9a9-678a-4a09-8c1a-44381baf8a78\n"
     ]
    },
    {
     "name": "stderr",
     "output_type": "stream",
     "text": [
      "[WDM] - Current google-chrome version is 85.0.4183\n",
      "[WDM] - Get LATEST driver version for 85.0.4183\n",
      "[WDM] - Driver [/Users/jasenlo/.wdm/drivers/chromedriver/mac64/85.0.4183.87/chromedriver] found in cache\n"
     ]
    },
    {
     "name": "stdout",
     "output_type": "stream",
     "text": [
      " \n",
      "http://airbnb.com/rooms/7697422?check_in=2021-01-01&check_out=2021-04-30&previous_page_section_name=1000&display_extensions%5B%5D=MONTHLY_STAYS&display_extensions%5B%5D=DATED_LTS&federated_search_id=7df1c9a9-678a-4a09-8c1a-44381baf8a78\n"
     ]
    },
    {
     "name": "stderr",
     "output_type": "stream",
     "text": [
      "[WDM] - Current google-chrome version is 85.0.4183\n",
      "[WDM] - Get LATEST driver version for 85.0.4183\n",
      "[WDM] - Driver [/Users/jasenlo/.wdm/drivers/chromedriver/mac64/85.0.4183.87/chromedriver] found in cache\n"
     ]
    },
    {
     "name": "stdout",
     "output_type": "stream",
     "text": [
      " \n",
      "http://airbnb.com/rooms/45601961?check_in=2021-01-01&check_out=2021-04-30&previous_page_section_name=1000&display_extensions%5B%5D=MONTHLY_STAYS&display_extensions%5B%5D=DATED_LTS&federated_search_id=7df1c9a9-678a-4a09-8c1a-44381baf8a78\n"
     ]
    },
    {
     "name": "stderr",
     "output_type": "stream",
     "text": [
      "[WDM] - Current google-chrome version is 85.0.4183\n",
      "[WDM] - Get LATEST driver version for 85.0.4183\n",
      "[WDM] - Driver [/Users/jasenlo/.wdm/drivers/chromedriver/mac64/85.0.4183.87/chromedriver] found in cache\n"
     ]
    },
    {
     "name": "stdout",
     "output_type": "stream",
     "text": [
      " \n",
      "http://airbnb.com/rooms/45282267?check_in=2021-01-01&check_out=2021-04-30&previous_page_section_name=1000&display_extensions%5B%5D=MONTHLY_STAYS&display_extensions%5B%5D=DATED_LTS&federated_search_id=7df1c9a9-678a-4a09-8c1a-44381baf8a78\n"
     ]
    },
    {
     "name": "stderr",
     "output_type": "stream",
     "text": [
      "[WDM] - Current google-chrome version is 85.0.4183\n",
      "[WDM] - Get LATEST driver version for 85.0.4183\n",
      "[WDM] - Driver [/Users/jasenlo/.wdm/drivers/chromedriver/mac64/85.0.4183.87/chromedriver] found in cache\n"
     ]
    },
    {
     "name": "stdout",
     "output_type": "stream",
     "text": [
      " \n",
      "http://airbnb.com/rooms/41320135?check_in=2021-01-01&check_out=2021-04-30&previous_page_section_name=1000&display_extensions%5B%5D=DATED_LTS&display_extensions%5B%5D=MONTHLY_STAYS&federated_search_id=6222c9e3-f545-4be1-a8ff-6545f8ef7e77\n"
     ]
    },
    {
     "name": "stderr",
     "output_type": "stream",
     "text": [
      "[WDM] - Current google-chrome version is 85.0.4183\n",
      "[WDM] - Get LATEST driver version for 85.0.4183\n",
      "[WDM] - Driver [/Users/jasenlo/.wdm/drivers/chromedriver/mac64/85.0.4183.87/chromedriver] found in cache\n"
     ]
    },
    {
     "name": "stdout",
     "output_type": "stream",
     "text": [
      " \n",
      "http://airbnb.com/rooms/45513593?check_in=2021-01-01&check_out=2021-04-30&previous_page_section_name=1000&display_extensions%5B%5D=DATED_LTS&display_extensions%5B%5D=MONTHLY_STAYS&federated_search_id=6222c9e3-f545-4be1-a8ff-6545f8ef7e77\n"
     ]
    },
    {
     "name": "stderr",
     "output_type": "stream",
     "text": [
      "[WDM] - Current google-chrome version is 85.0.4183\n",
      "[WDM] - Get LATEST driver version for 85.0.4183\n",
      "[WDM] - Driver [/Users/jasenlo/.wdm/drivers/chromedriver/mac64/85.0.4183.87/chromedriver] found in cache\n"
     ]
    },
    {
     "name": "stdout",
     "output_type": "stream",
     "text": [
      " \n",
      "http://airbnb.com/rooms/21148483?check_in=2021-01-01&check_out=2021-04-30&previous_page_section_name=1000&display_extensions%5B%5D=DATED_LTS&display_extensions%5B%5D=MONTHLY_STAYS&federated_search_id=6222c9e3-f545-4be1-a8ff-6545f8ef7e77\n"
     ]
    },
    {
     "name": "stderr",
     "output_type": "stream",
     "text": [
      "[WDM] - Current google-chrome version is 85.0.4183\n",
      "[WDM] - Get LATEST driver version for 85.0.4183\n",
      "[WDM] - Driver [/Users/jasenlo/.wdm/drivers/chromedriver/mac64/85.0.4183.87/chromedriver] found in cache\n"
     ]
    },
    {
     "name": "stdout",
     "output_type": "stream",
     "text": [
      " \n",
      "http://airbnb.com/rooms/8319711?check_in=2021-01-01&check_out=2021-04-30&previous_page_section_name=1000&display_extensions%5B%5D=MONTHLY_STAYS&display_extensions%5B%5D=DATED_LTS&federated_search_id=e6294e4b-09b5-4810-bac5-2426aa3f66d7\n"
     ]
    },
    {
     "name": "stderr",
     "output_type": "stream",
     "text": [
      "[WDM] - Current google-chrome version is 85.0.4183\n",
      "[WDM] - Get LATEST driver version for 85.0.4183\n",
      "[WDM] - Driver [/Users/jasenlo/.wdm/drivers/chromedriver/mac64/85.0.4183.87/chromedriver] found in cache\n"
     ]
    },
    {
     "name": "stdout",
     "output_type": "stream",
     "text": [
      " \n",
      "http://airbnb.com/rooms/668819?check_in=2021-01-01&check_out=2021-04-30&previous_page_section_name=1000&display_extensions%5B%5D=MONTHLY_STAYS&display_extensions%5B%5D=DATED_LTS&federated_search_id=e6294e4b-09b5-4810-bac5-2426aa3f66d7\n"
     ]
    },
    {
     "name": "stderr",
     "output_type": "stream",
     "text": [
      "[WDM] - Current google-chrome version is 85.0.4183\n",
      "[WDM] - Get LATEST driver version for 85.0.4183\n",
      "[WDM] - Driver [/Users/jasenlo/.wdm/drivers/chromedriver/mac64/85.0.4183.87/chromedriver] found in cache\n"
     ]
    },
    {
     "name": "stdout",
     "output_type": "stream",
     "text": [
      " \n",
      "http://airbnb.com/rooms/834586?check_in=2021-01-01&check_out=2021-04-30&previous_page_section_name=1000&display_extensions%5B%5D=MONTHLY_STAYS&display_extensions%5B%5D=DATED_LTS&federated_search_id=e6294e4b-09b5-4810-bac5-2426aa3f66d7\n"
     ]
    },
    {
     "name": "stderr",
     "output_type": "stream",
     "text": [
      "[WDM] - Current google-chrome version is 85.0.4183\n",
      "[WDM] - Get LATEST driver version for 85.0.4183\n",
      "[WDM] - Driver [/Users/jasenlo/.wdm/drivers/chromedriver/mac64/85.0.4183.87/chromedriver] found in cache\n"
     ]
    },
    {
     "name": "stdout",
     "output_type": "stream",
     "text": [
      " \n",
      "http://airbnb.com/rooms/20965145?check_in=2021-01-01&check_out=2021-04-30&previous_page_section_name=1000&display_extensions%5B%5D=DATED_LTS&display_extensions%5B%5D=MONTHLY_STAYS&federated_search_id=5e25ab3b-f4e3-42aa-8b3c-f0c24f45d7fb\n"
     ]
    },
    {
     "name": "stderr",
     "output_type": "stream",
     "text": [
      "[WDM] - Current google-chrome version is 85.0.4183\n",
      "[WDM] - Get LATEST driver version for 85.0.4183\n",
      "[WDM] - Driver [/Users/jasenlo/.wdm/drivers/chromedriver/mac64/85.0.4183.87/chromedriver] found in cache\n"
     ]
    },
    {
     "name": "stdout",
     "output_type": "stream",
     "text": [
      " \n",
      "http://airbnb.com/rooms/36966314?check_in=2021-01-01&check_out=2021-04-30&previous_page_section_name=1000&display_extensions%5B%5D=DATED_LTS&display_extensions%5B%5D=MONTHLY_STAYS&federated_search_id=5e25ab3b-f4e3-42aa-8b3c-f0c24f45d7fb\n"
     ]
    },
    {
     "name": "stderr",
     "output_type": "stream",
     "text": [
      "[WDM] - Current google-chrome version is 85.0.4183\n",
      "[WDM] - Get LATEST driver version for 85.0.4183\n",
      "[WDM] - Driver [/Users/jasenlo/.wdm/drivers/chromedriver/mac64/85.0.4183.87/chromedriver] found in cache\n"
     ]
    },
    {
     "name": "stdout",
     "output_type": "stream",
     "text": [
      " \n",
      "http://airbnb.com/rooms/30762258?check_in=2021-01-01&check_out=2021-04-30&previous_page_section_name=1000&display_extensions%5B%5D=MONTHLY_STAYS&display_extensions%5B%5D=DATED_LTS&federated_search_id=20b0fc44-a0d0-4ab8-9851-edf4a1b53a3a\n"
     ]
    },
    {
     "name": "stderr",
     "output_type": "stream",
     "text": [
      "[WDM] - Current google-chrome version is 85.0.4183\n",
      "[WDM] - Get LATEST driver version for 85.0.4183\n",
      "[WDM] - Driver [/Users/jasenlo/.wdm/drivers/chromedriver/mac64/85.0.4183.87/chromedriver] found in cache\n"
     ]
    },
    {
     "name": "stdout",
     "output_type": "stream",
     "text": [
      " \n",
      "http://airbnb.com/rooms/45273482?check_in=2021-01-01&check_out=2021-04-30&previous_page_section_name=1000&display_extensions%5B%5D=DATED_LTS&display_extensions%5B%5D=MONTHLY_STAYS&federated_search_id=5ee344ba-2cdb-44b0-92a9-6e4a81d4787f\n"
     ]
    },
    {
     "name": "stderr",
     "output_type": "stream",
     "text": [
      "[WDM] - Current google-chrome version is 85.0.4183\n",
      "[WDM] - Get LATEST driver version for 85.0.4183\n",
      "[WDM] - Driver [/Users/jasenlo/.wdm/drivers/chromedriver/mac64/85.0.4183.87/chromedriver] found in cache\n"
     ]
    },
    {
     "name": "stdout",
     "output_type": "stream",
     "text": [
      " \n",
      "http://airbnb.com/rooms/44352945?check_in=2021-01-01&check_out=2021-04-30&previous_page_section_name=1000&display_extensions%5B%5D=DATED_LTS&display_extensions%5B%5D=MONTHLY_STAYS&federated_search_id=5ee344ba-2cdb-44b0-92a9-6e4a81d4787f\n"
     ]
    },
    {
     "name": "stderr",
     "output_type": "stream",
     "text": [
      "[WDM] - Current google-chrome version is 85.0.4183\n",
      "[WDM] - Get LATEST driver version for 85.0.4183\n",
      "[WDM] - Driver [/Users/jasenlo/.wdm/drivers/chromedriver/mac64/85.0.4183.87/chromedriver] found in cache\n"
     ]
    },
    {
     "name": "stdout",
     "output_type": "stream",
     "text": [
      " \n",
      "http://airbnb.com/rooms/396523?check_in=2021-01-01&check_out=2021-04-30&previous_page_section_name=1000&display_extensions%5B%5D=DATED_LTS&display_extensions%5B%5D=MONTHLY_STAYS&federated_search_id=5ee344ba-2cdb-44b0-92a9-6e4a81d4787f\n"
     ]
    },
    {
     "name": "stderr",
     "output_type": "stream",
     "text": [
      "[WDM] - Current google-chrome version is 85.0.4183\n",
      "[WDM] - Get LATEST driver version for 85.0.4183\n",
      "[WDM] - Driver [/Users/jasenlo/.wdm/drivers/chromedriver/mac64/85.0.4183.87/chromedriver] found in cache\n"
     ]
    },
    {
     "name": "stdout",
     "output_type": "stream",
     "text": [
      " \n",
      "http://airbnb.com/rooms/45654071?check_in=2021-01-01&check_out=2021-04-30&previous_page_section_name=1000&display_extensions%5B%5D=DATED_LTS&display_extensions%5B%5D=MONTHLY_STAYS&federated_search_id=5ee344ba-2cdb-44b0-92a9-6e4a81d4787f\n"
     ]
    },
    {
     "name": "stderr",
     "output_type": "stream",
     "text": [
      "[WDM] - Current google-chrome version is 85.0.4183\n",
      "[WDM] - Get LATEST driver version for 85.0.4183\n",
      "[WDM] - Driver [/Users/jasenlo/.wdm/drivers/chromedriver/mac64/85.0.4183.87/chromedriver] found in cache\n"
     ]
    },
    {
     "name": "stdout",
     "output_type": "stream",
     "text": [
      " \n",
      "http://airbnb.com/rooms/771914?check_in=2021-01-01&check_out=2021-04-30&previous_page_section_name=1000&display_extensions%5B%5D=DATED_LTS&display_extensions%5B%5D=MONTHLY_STAYS&federated_search_id=5ee344ba-2cdb-44b0-92a9-6e4a81d4787f\n"
     ]
    },
    {
     "name": "stderr",
     "output_type": "stream",
     "text": [
      "[WDM] - Current google-chrome version is 85.0.4183\n",
      "[WDM] - Get LATEST driver version for 85.0.4183\n",
      "[WDM] - Driver [/Users/jasenlo/.wdm/drivers/chromedriver/mac64/85.0.4183.87/chromedriver] found in cache\n"
     ]
    },
    {
     "name": "stdout",
     "output_type": "stream",
     "text": [
      " \n",
      "http://airbnb.com/rooms/17709707?check_in=2021-01-01&check_out=2021-04-30&previous_page_section_name=1000&display_extensions%5B%5D=DATED_LTS&display_extensions%5B%5D=MONTHLY_STAYS&federated_search_id=5ee344ba-2cdb-44b0-92a9-6e4a81d4787f\n"
     ]
    },
    {
     "name": "stderr",
     "output_type": "stream",
     "text": [
      "[WDM] - Current google-chrome version is 85.0.4183\n",
      "[WDM] - Get LATEST driver version for 85.0.4183\n",
      "[WDM] - Driver [/Users/jasenlo/.wdm/drivers/chromedriver/mac64/85.0.4183.87/chromedriver] found in cache\n"
     ]
    },
    {
     "name": "stdout",
     "output_type": "stream",
     "text": [
      " \n",
      "http://airbnb.com/rooms/45654071?check_in=2021-01-01&check_out=2021-04-30&previous_page_section_name=1000&display_extensions%5B%5D=MONTHLY_STAYS&display_extensions%5B%5D=DATED_LTS&federated_search_id=9aac3d00-bda0-4b87-83c5-a31957870640\n"
     ]
    },
    {
     "name": "stderr",
     "output_type": "stream",
     "text": [
      "[WDM] - Current google-chrome version is 85.0.4183\n",
      "[WDM] - Get LATEST driver version for 85.0.4183\n",
      "[WDM] - Driver [/Users/jasenlo/.wdm/drivers/chromedriver/mac64/85.0.4183.87/chromedriver] found in cache\n"
     ]
    },
    {
     "name": "stdout",
     "output_type": "stream",
     "text": [
      " \n",
      "http://airbnb.com/rooms/6778090?check_in=2021-01-01&check_out=2021-04-30&previous_page_section_name=1000&display_extensions%5B%5D=MONTHLY_STAYS&display_extensions%5B%5D=DATED_LTS&federated_search_id=9aac3d00-bda0-4b87-83c5-a31957870640\n"
     ]
    },
    {
     "name": "stderr",
     "output_type": "stream",
     "text": [
      "[WDM] - Current google-chrome version is 85.0.4183\n",
      "[WDM] - Get LATEST driver version for 85.0.4183\n",
      "[WDM] - Driver [/Users/jasenlo/.wdm/drivers/chromedriver/mac64/85.0.4183.87/chromedriver] found in cache\n"
     ]
    },
    {
     "name": "stdout",
     "output_type": "stream",
     "text": [
      " \n",
      "http://airbnb.com/rooms/35603064?check_in=2021-01-01&check_out=2021-04-30&previous_page_section_name=1000&display_extensions%5B%5D=MONTHLY_STAYS&display_extensions%5B%5D=DATED_LTS&federated_search_id=9aac3d00-bda0-4b87-83c5-a31957870640\n"
     ]
    },
    {
     "name": "stderr",
     "output_type": "stream",
     "text": [
      "[WDM] - Current google-chrome version is 85.0.4183\n",
      "[WDM] - Get LATEST driver version for 85.0.4183\n",
      "[WDM] - Driver [/Users/jasenlo/.wdm/drivers/chromedriver/mac64/85.0.4183.87/chromedriver] found in cache\n"
     ]
    },
    {
     "name": "stdout",
     "output_type": "stream",
     "text": [
      " \n",
      "http://airbnb.com/rooms/45077246?check_in=2021-01-01&check_out=2021-04-30&previous_page_section_name=1000&display_extensions%5B%5D=MONTHLY_STAYS&display_extensions%5B%5D=DATED_LTS&federated_search_id=9aac3d00-bda0-4b87-83c5-a31957870640\n"
     ]
    },
    {
     "name": "stderr",
     "output_type": "stream",
     "text": [
      "[WDM] - Current google-chrome version is 85.0.4183\n",
      "[WDM] - Get LATEST driver version for 85.0.4183\n",
      "[WDM] - Driver [/Users/jasenlo/.wdm/drivers/chromedriver/mac64/85.0.4183.87/chromedriver] found in cache\n"
     ]
    },
    {
     "name": "stdout",
     "output_type": "stream",
     "text": [
      " \n",
      "http://airbnb.com/rooms/38198681?check_in=2021-01-01&check_out=2021-04-30&previous_page_section_name=1000&display_extensions%5B%5D=DATED_LTS&display_extensions%5B%5D=MONTHLY_STAYS&federated_search_id=5c54181e-6d20-4fc5-b0b7-3a08991030e8\n"
     ]
    },
    {
     "name": "stderr",
     "output_type": "stream",
     "text": [
      "[WDM] - Current google-chrome version is 85.0.4183\n",
      "[WDM] - Get LATEST driver version for 85.0.4183\n",
      "[WDM] - Driver [/Users/jasenlo/.wdm/drivers/chromedriver/mac64/85.0.4183.87/chromedriver] found in cache\n"
     ]
    },
    {
     "name": "stdout",
     "output_type": "stream",
     "text": [
      " \n",
      "http://airbnb.com/rooms/241975?check_in=2021-01-01&check_out=2021-04-30&previous_page_section_name=1000&display_extensions%5B%5D=DATED_LTS&display_extensions%5B%5D=MONTHLY_STAYS&federated_search_id=5c54181e-6d20-4fc5-b0b7-3a08991030e8\n"
     ]
    },
    {
     "name": "stderr",
     "output_type": "stream",
     "text": [
      "[WDM] - Current google-chrome version is 85.0.4183\n",
      "[WDM] - Get LATEST driver version for 85.0.4183\n",
      "[WDM] - Driver [/Users/jasenlo/.wdm/drivers/chromedriver/mac64/85.0.4183.87/chromedriver] found in cache\n"
     ]
    },
    {
     "name": "stdout",
     "output_type": "stream",
     "text": [
      " \n",
      "http://airbnb.com/rooms/36966314?check_in=2021-01-01&check_out=2021-04-30&previous_page_section_name=1000&display_extensions%5B%5D=DATED_LTS&display_extensions%5B%5D=MONTHLY_STAYS&federated_search_id=5c54181e-6d20-4fc5-b0b7-3a08991030e8\n"
     ]
    },
    {
     "name": "stderr",
     "output_type": "stream",
     "text": [
      "[WDM] - Current google-chrome version is 85.0.4183\n",
      "[WDM] - Get LATEST driver version for 85.0.4183\n",
      "[WDM] - Driver [/Users/jasenlo/.wdm/drivers/chromedriver/mac64/85.0.4183.87/chromedriver] found in cache\n"
     ]
    },
    {
     "name": "stdout",
     "output_type": "stream",
     "text": [
      " \n",
      "http://airbnb.com/rooms/22876884?check_in=2021-01-01&check_out=2021-04-30&previous_page_section_name=1000&display_extensions%5B%5D=DATED_LTS&display_extensions%5B%5D=MONTHLY_STAYS&federated_search_id=5c54181e-6d20-4fc5-b0b7-3a08991030e8\n"
     ]
    },
    {
     "name": "stderr",
     "output_type": "stream",
     "text": [
      "[WDM] - Current google-chrome version is 85.0.4183\n",
      "[WDM] - Get LATEST driver version for 85.0.4183\n",
      "[WDM] - Driver [/Users/jasenlo/.wdm/drivers/chromedriver/mac64/85.0.4183.87/chromedriver] found in cache\n"
     ]
    },
    {
     "name": "stdout",
     "output_type": "stream",
     "text": [
      " \n",
      "http://airbnb.com/rooms/35455636?check_in=2021-01-01&check_out=2021-04-30&previous_page_section_name=1000&display_extensions%5B%5D=DATED_LTS&display_extensions%5B%5D=MONTHLY_STAYS&federated_search_id=5c54181e-6d20-4fc5-b0b7-3a08991030e8\n"
     ]
    },
    {
     "name": "stderr",
     "output_type": "stream",
     "text": [
      "[WDM] - Current google-chrome version is 85.0.4183\n",
      "[WDM] - Get LATEST driver version for 85.0.4183\n",
      "[WDM] - Driver [/Users/jasenlo/.wdm/drivers/chromedriver/mac64/85.0.4183.87/chromedriver] found in cache\n"
     ]
    },
    {
     "name": "stdout",
     "output_type": "stream",
     "text": [
      " \n",
      "http://airbnb.com/rooms/20401411?check_in=2021-01-01&check_out=2021-04-30&previous_page_section_name=1000&display_extensions%5B%5D=DATED_LTS&display_extensions%5B%5D=MONTHLY_STAYS&federated_search_id=5c54181e-6d20-4fc5-b0b7-3a08991030e8\n"
     ]
    },
    {
     "name": "stderr",
     "output_type": "stream",
     "text": [
      "[WDM] - Current google-chrome version is 85.0.4183\n",
      "[WDM] - Get LATEST driver version for 85.0.4183\n",
      "[WDM] - Driver [/Users/jasenlo/.wdm/drivers/chromedriver/mac64/85.0.4183.87/chromedriver] found in cache\n"
     ]
    },
    {
     "name": "stdout",
     "output_type": "stream",
     "text": [
      " \n",
      "http://airbnb.com/rooms/22901925?check_in=2021-01-01&check_out=2021-04-30&previous_page_section_name=1000&display_extensions%5B%5D=MONTHLY_STAYS&display_extensions%5B%5D=DATED_LTS&federated_search_id=e1b56091-11c7-4a10-b3fa-f941a8670a7e\n"
     ]
    },
    {
     "name": "stderr",
     "output_type": "stream",
     "text": [
      "[WDM] - Current google-chrome version is 85.0.4183\n",
      "[WDM] - Get LATEST driver version for 85.0.4183\n",
      "[WDM] - Driver [/Users/jasenlo/.wdm/drivers/chromedriver/mac64/85.0.4183.87/chromedriver] found in cache\n"
     ]
    },
    {
     "name": "stdout",
     "output_type": "stream",
     "text": [
      " \n",
      "http://airbnb.com/rooms/38422202?check_in=2021-01-01&check_out=2021-04-30&previous_page_section_name=1000&display_extensions%5B%5D=MONTHLY_STAYS&display_extensions%5B%5D=DATED_LTS&federated_search_id=e1b56091-11c7-4a10-b3fa-f941a8670a7e\n"
     ]
    },
    {
     "name": "stderr",
     "output_type": "stream",
     "text": [
      "[WDM] - Current google-chrome version is 85.0.4183\n",
      "[WDM] - Get LATEST driver version for 85.0.4183\n",
      "[WDM] - Driver [/Users/jasenlo/.wdm/drivers/chromedriver/mac64/85.0.4183.87/chromedriver] found in cache\n"
     ]
    },
    {
     "name": "stdout",
     "output_type": "stream",
     "text": [
      " \n",
      "http://airbnb.com/rooms/16215015?check_in=2021-01-01&check_out=2021-04-30&previous_page_section_name=1000&display_extensions%5B%5D=MONTHLY_STAYS&display_extensions%5B%5D=DATED_LTS&federated_search_id=e1b56091-11c7-4a10-b3fa-f941a8670a7e\n"
     ]
    },
    {
     "name": "stderr",
     "output_type": "stream",
     "text": [
      "[WDM] - Current google-chrome version is 85.0.4183\n",
      "[WDM] - Get LATEST driver version for 85.0.4183\n",
      "[WDM] - Driver [/Users/jasenlo/.wdm/drivers/chromedriver/mac64/85.0.4183.87/chromedriver] found in cache\n"
     ]
    },
    {
     "name": "stdout",
     "output_type": "stream",
     "text": [
      " \n",
      "http://airbnb.com/rooms/241975?check_in=2021-01-01&check_out=2021-04-30&previous_page_section_name=1000&display_extensions%5B%5D=MONTHLY_STAYS&display_extensions%5B%5D=DATED_LTS&federated_search_id=e1b56091-11c7-4a10-b3fa-f941a8670a7e\n"
     ]
    },
    {
     "name": "stderr",
     "output_type": "stream",
     "text": [
      "[WDM] - Current google-chrome version is 85.0.4183\n",
      "[WDM] - Get LATEST driver version for 85.0.4183\n",
      "[WDM] - Driver [/Users/jasenlo/.wdm/drivers/chromedriver/mac64/85.0.4183.87/chromedriver] found in cache\n"
     ]
    },
    {
     "name": "stdout",
     "output_type": "stream",
     "text": [
      " \n",
      "http://airbnb.com/rooms/35603064?check_in=2021-01-01&check_out=2021-04-30&previous_page_section_name=1000&display_extensions%5B%5D=MONTHLY_STAYS&display_extensions%5B%5D=DATED_LTS&federated_search_id=bee3de80-7a9e-47d4-825f-d9585bfc82a7\n"
     ]
    },
    {
     "name": "stderr",
     "output_type": "stream",
     "text": [
      "[WDM] - Current google-chrome version is 85.0.4183\n",
      "[WDM] - Get LATEST driver version for 85.0.4183\n",
      "[WDM] - Driver [/Users/jasenlo/.wdm/drivers/chromedriver/mac64/85.0.4183.87/chromedriver] found in cache\n"
     ]
    },
    {
     "name": "stdout",
     "output_type": "stream",
     "text": [
      " \n",
      "http://airbnb.com/rooms/12458875?check_in=2021-01-01&check_out=2021-04-30&previous_page_section_name=1000&display_extensions%5B%5D=MONTHLY_STAYS&display_extensions%5B%5D=DATED_LTS&federated_search_id=bee3de80-7a9e-47d4-825f-d9585bfc82a7\n"
     ]
    },
    {
     "name": "stderr",
     "output_type": "stream",
     "text": [
      "[WDM] - Current google-chrome version is 85.0.4183\n",
      "[WDM] - Get LATEST driver version for 85.0.4183\n",
      "[WDM] - Driver [/Users/jasenlo/.wdm/drivers/chromedriver/mac64/85.0.4183.87/chromedriver] found in cache\n"
     ]
    },
    {
     "name": "stdout",
     "output_type": "stream",
     "text": [
      " \n",
      "http://airbnb.com/rooms/920932?check_in=2021-01-01&check_out=2021-04-30&previous_page_section_name=1000&display_extensions%5B%5D=MONTHLY_STAYS&display_extensions%5B%5D=DATED_LTS&federated_search_id=bee3de80-7a9e-47d4-825f-d9585bfc82a7\n"
     ]
    },
    {
     "name": "stderr",
     "output_type": "stream",
     "text": [
      "[WDM] - Current google-chrome version is 85.0.4183\n",
      "[WDM] - Get LATEST driver version for 85.0.4183\n",
      "[WDM] - Driver [/Users/jasenlo/.wdm/drivers/chromedriver/mac64/85.0.4183.87/chromedriver] found in cache\n"
     ]
    },
    {
     "name": "stdout",
     "output_type": "stream",
     "text": [
      " \n",
      "http://airbnb.com/rooms/6778090?check_in=2021-01-01&check_out=2021-04-30&previous_page_section_name=1000&display_extensions%5B%5D=MONTHLY_STAYS&display_extensions%5B%5D=DATED_LTS&federated_search_id=bee3de80-7a9e-47d4-825f-d9585bfc82a7\n"
     ]
    },
    {
     "name": "stderr",
     "output_type": "stream",
     "text": [
      "[WDM] - Current google-chrome version is 85.0.4183\n",
      "[WDM] - Get LATEST driver version for 85.0.4183\n",
      "[WDM] - Driver [/Users/jasenlo/.wdm/drivers/chromedriver/mac64/85.0.4183.87/chromedriver] found in cache\n"
     ]
    },
    {
     "name": "stdout",
     "output_type": "stream",
     "text": [
      " \n",
      "http://airbnb.com/rooms/18082919?check_in=2021-01-01&check_out=2021-04-30&previous_page_section_name=1000&display_extensions%5B%5D=MONTHLY_STAYS&display_extensions%5B%5D=DATED_LTS&federated_search_id=bee3de80-7a9e-47d4-825f-d9585bfc82a7\n"
     ]
    },
    {
     "name": "stderr",
     "output_type": "stream",
     "text": [
      "[WDM] - Current google-chrome version is 85.0.4183\n",
      "[WDM] - Get LATEST driver version for 85.0.4183\n",
      "[WDM] - Driver [/Users/jasenlo/.wdm/drivers/chromedriver/mac64/85.0.4183.87/chromedriver] found in cache\n"
     ]
    },
    {
     "name": "stdout",
     "output_type": "stream",
     "text": [
      " \n",
      "http://airbnb.com/rooms/422748?check_in=2021-01-01&check_out=2021-04-30&previous_page_section_name=1000&display_extensions%5B%5D=MONTHLY_STAYS&display_extensions%5B%5D=DATED_LTS&federated_search_id=1162144b-e872-4879-8bfd-6d298534f62d\n"
     ]
    },
    {
     "name": "stderr",
     "output_type": "stream",
     "text": [
      "[WDM] - Current google-chrome version is 85.0.4183\n",
      "[WDM] - Get LATEST driver version for 85.0.4183\n",
      "[WDM] - Driver [/Users/jasenlo/.wdm/drivers/chromedriver/mac64/85.0.4183.87/chromedriver] found in cache\n"
     ]
    },
    {
     "name": "stdout",
     "output_type": "stream",
     "text": [
      " \n",
      "http://airbnb.com/rooms/45328211?check_in=2021-01-01&check_out=2021-04-30&previous_page_section_name=1000&display_extensions%5B%5D=MONTHLY_STAYS&display_extensions%5B%5D=DATED_LTS&federated_search_id=1162144b-e872-4879-8bfd-6d298534f62d\n"
     ]
    },
    {
     "name": "stderr",
     "output_type": "stream",
     "text": [
      "[WDM] - Current google-chrome version is 85.0.4183\n",
      "[WDM] - Get LATEST driver version for 85.0.4183\n",
      "[WDM] - Driver [/Users/jasenlo/.wdm/drivers/chromedriver/mac64/85.0.4183.87/chromedriver] found in cache\n"
     ]
    },
    {
     "name": "stdout",
     "output_type": "stream",
     "text": [
      " \n",
      "http://airbnb.com/rooms/43345146?check_in=2021-01-01&check_out=2021-04-30&previous_page_section_name=1000&display_extensions%5B%5D=MONTHLY_STAYS&display_extensions%5B%5D=DATED_LTS&federated_search_id=1162144b-e872-4879-8bfd-6d298534f62d\n"
     ]
    },
    {
     "name": "stderr",
     "output_type": "stream",
     "text": [
      "[WDM] - Current google-chrome version is 85.0.4183\n",
      "[WDM] - Get LATEST driver version for 85.0.4183\n",
      "[WDM] - Driver [/Users/jasenlo/.wdm/drivers/chromedriver/mac64/85.0.4183.87/chromedriver] found in cache\n"
     ]
    },
    {
     "name": "stdout",
     "output_type": "stream",
     "text": [
      " \n",
      "http://airbnb.com/rooms/12458875?check_in=2021-01-01&check_out=2021-04-30&previous_page_section_name=1000&display_extensions%5B%5D=MONTHLY_STAYS&display_extensions%5B%5D=DATED_LTS&federated_search_id=1162144b-e872-4879-8bfd-6d298534f62d\n"
     ]
    },
    {
     "name": "stderr",
     "output_type": "stream",
     "text": [
      "[WDM] - Current google-chrome version is 85.0.4183\n",
      "[WDM] - Get LATEST driver version for 85.0.4183\n",
      "[WDM] - Driver [/Users/jasenlo/.wdm/drivers/chromedriver/mac64/85.0.4183.87/chromedriver] found in cache\n"
     ]
    },
    {
     "name": "stdout",
     "output_type": "stream",
     "text": [
      " \n",
      "http://airbnb.com/rooms/42276945?check_in=2021-01-01&check_out=2021-04-30&previous_page_section_name=1000&display_extensions%5B%5D=MONTHLY_STAYS&display_extensions%5B%5D=DATED_LTS&federated_search_id=1162144b-e872-4879-8bfd-6d298534f62d\n"
     ]
    },
    {
     "name": "stderr",
     "output_type": "stream",
     "text": [
      "[WDM] - Current google-chrome version is 85.0.4183\n",
      "[WDM] - Get LATEST driver version for 85.0.4183\n",
      "[WDM] - Driver [/Users/jasenlo/.wdm/drivers/chromedriver/mac64/85.0.4183.87/chromedriver] found in cache\n"
     ]
    },
    {
     "name": "stdout",
     "output_type": "stream",
     "text": [
      " \n",
      "http://airbnb.com/rooms/22876884?check_in=2021-01-01&check_out=2021-04-30&previous_page_section_name=1000&display_extensions%5B%5D=MONTHLY_STAYS&display_extensions%5B%5D=DATED_LTS&federated_search_id=1162144b-e872-4879-8bfd-6d298534f62d\n"
     ]
    },
    {
     "name": "stderr",
     "output_type": "stream",
     "text": [
      "[WDM] - Current google-chrome version is 85.0.4183\n",
      "[WDM] - Get LATEST driver version for 85.0.4183\n",
      "[WDM] - Driver [/Users/jasenlo/.wdm/drivers/chromedriver/mac64/85.0.4183.87/chromedriver] found in cache\n"
     ]
    },
    {
     "name": "stdout",
     "output_type": "stream",
     "text": [
      " \n",
      "http://airbnb.com/rooms/6950763?check_in=2021-01-01&check_out=2021-04-30&previous_page_section_name=1000&display_extensions%5B%5D=MONTHLY_STAYS&display_extensions%5B%5D=DATED_LTS&federated_search_id=8ceff615-ffec-4d42-a3be-53dfe6f22a44\n"
     ]
    },
    {
     "name": "stderr",
     "output_type": "stream",
     "text": [
      "[WDM] - Current google-chrome version is 85.0.4183\n",
      "[WDM] - Get LATEST driver version for 85.0.4183\n",
      "[WDM] - Driver [/Users/jasenlo/.wdm/drivers/chromedriver/mac64/85.0.4183.87/chromedriver] found in cache\n"
     ]
    },
    {
     "name": "stdout",
     "output_type": "stream",
     "text": [
      " \n",
      "http://airbnb.com/rooms/771914?check_in=2021-01-01&check_out=2021-04-30&previous_page_section_name=1000&display_extensions%5B%5D=MONTHLY_STAYS&display_extensions%5B%5D=DATED_LTS&federated_search_id=8ceff615-ffec-4d42-a3be-53dfe6f22a44\n"
     ]
    },
    {
     "name": "stderr",
     "output_type": "stream",
     "text": [
      "[WDM] - Current google-chrome version is 85.0.4183\n",
      "[WDM] - Get LATEST driver version for 85.0.4183\n",
      "[WDM] - Driver [/Users/jasenlo/.wdm/drivers/chromedriver/mac64/85.0.4183.87/chromedriver] found in cache\n"
     ]
    },
    {
     "name": "stdout",
     "output_type": "stream",
     "text": [
      " \n",
      "http://airbnb.com/rooms/15857068?check_in=2021-01-01&check_out=2021-04-30&previous_page_section_name=1000&display_extensions%5B%5D=MONTHLY_STAYS&display_extensions%5B%5D=DATED_LTS&federated_search_id=8ceff615-ffec-4d42-a3be-53dfe6f22a44\n"
     ]
    },
    {
     "name": "stderr",
     "output_type": "stream",
     "text": [
      "[WDM] - Current google-chrome version is 85.0.4183\n",
      "[WDM] - Get LATEST driver version for 85.0.4183\n",
      "[WDM] - Driver [/Users/jasenlo/.wdm/drivers/chromedriver/mac64/85.0.4183.87/chromedriver] found in cache\n"
     ]
    },
    {
     "name": "stdout",
     "output_type": "stream",
     "text": [
      " \n",
      "http://airbnb.com/rooms/40505073?check_in=2021-01-01&check_out=2021-04-30&previous_page_section_name=1000&display_extensions%5B%5D=MONTHLY_STAYS&display_extensions%5B%5D=DATED_LTS&federated_search_id=8ceff615-ffec-4d42-a3be-53dfe6f22a44\n"
     ]
    },
    {
     "name": "stderr",
     "output_type": "stream",
     "text": [
      "[WDM] - Current google-chrome version is 85.0.4183\n",
      "[WDM] - Get LATEST driver version for 85.0.4183\n",
      "[WDM] - Driver [/Users/jasenlo/.wdm/drivers/chromedriver/mac64/85.0.4183.87/chromedriver] found in cache\n"
     ]
    },
    {
     "name": "stdout",
     "output_type": "stream",
     "text": [
      " \n",
      "http://airbnb.com/rooms/920932?check_in=2021-01-01&check_out=2021-04-30&previous_page_section_name=1000&display_extensions%5B%5D=MONTHLY_STAYS&display_extensions%5B%5D=DATED_LTS&federated_search_id=8ceff615-ffec-4d42-a3be-53dfe6f22a44\n"
     ]
    },
    {
     "name": "stderr",
     "output_type": "stream",
     "text": [
      "[WDM] - Current google-chrome version is 85.0.4183\n",
      "[WDM] - Get LATEST driver version for 85.0.4183\n",
      "[WDM] - Driver [/Users/jasenlo/.wdm/drivers/chromedriver/mac64/85.0.4183.87/chromedriver] found in cache\n"
     ]
    },
    {
     "name": "stdout",
     "output_type": "stream",
     "text": [
      " \n",
      "http://airbnb.com/rooms/9041832?check_in=2021-01-01&check_out=2021-04-30&previous_page_section_name=1000&display_extensions%5B%5D=DATED_LTS&display_extensions%5B%5D=MONTHLY_STAYS&federated_search_id=e0bee0bd-b2fb-4160-aa95-4c79f29f3f1a\n"
     ]
    },
    {
     "name": "stderr",
     "output_type": "stream",
     "text": [
      "[WDM] - Current google-chrome version is 85.0.4183\n",
      "[WDM] - Get LATEST driver version for 85.0.4183\n",
      "[WDM] - Driver [/Users/jasenlo/.wdm/drivers/chromedriver/mac64/85.0.4183.87/chromedriver] found in cache\n"
     ]
    },
    {
     "name": "stdout",
     "output_type": "stream",
     "text": [
      " \n",
      "http://airbnb.com/rooms/25868605?check_in=2021-01-01&check_out=2021-04-30&previous_page_section_name=1000&display_extensions%5B%5D=DATED_LTS&display_extensions%5B%5D=MONTHLY_STAYS&federated_search_id=e0bee0bd-b2fb-4160-aa95-4c79f29f3f1a\n"
     ]
    },
    {
     "name": "stderr",
     "output_type": "stream",
     "text": [
      "[WDM] - Current google-chrome version is 85.0.4183\n",
      "[WDM] - Get LATEST driver version for 85.0.4183\n",
      "[WDM] - Driver [/Users/jasenlo/.wdm/drivers/chromedriver/mac64/85.0.4183.87/chromedriver] found in cache\n"
     ]
    },
    {
     "name": "stdout",
     "output_type": "stream",
     "text": [
      " \n",
      "http://airbnb.com/rooms/29392703?check_in=2021-01-01&check_out=2021-04-30&previous_page_section_name=1000&display_extensions%5B%5D=DATED_LTS&display_extensions%5B%5D=MONTHLY_STAYS&federated_search_id=e0bee0bd-b2fb-4160-aa95-4c79f29f3f1a\n"
     ]
    },
    {
     "name": "stderr",
     "output_type": "stream",
     "text": [
      "[WDM] - Current google-chrome version is 85.0.4183\n",
      "[WDM] - Get LATEST driver version for 85.0.4183\n",
      "[WDM] - Driver [/Users/jasenlo/.wdm/drivers/chromedriver/mac64/85.0.4183.87/chromedriver] found in cache\n"
     ]
    },
    {
     "name": "stdout",
     "output_type": "stream",
     "text": [
      " \n",
      "http://airbnb.com/rooms/23068010?check_in=2021-01-01&check_out=2021-04-30&previous_page_section_name=1000&display_extensions%5B%5D=DATED_LTS&display_extensions%5B%5D=MONTHLY_STAYS&federated_search_id=6be241a6-857f-4407-9890-8af26367d338\n"
     ]
    },
    {
     "name": "stderr",
     "output_type": "stream",
     "text": [
      "[WDM] - Current google-chrome version is 85.0.4183\n",
      "[WDM] - Get LATEST driver version for 85.0.4183\n",
      "[WDM] - Driver [/Users/jasenlo/.wdm/drivers/chromedriver/mac64/85.0.4183.87/chromedriver] found in cache\n"
     ]
    },
    {
     "name": "stdout",
     "output_type": "stream",
     "text": [
      " \n",
      "http://airbnb.com/rooms/29392703?check_in=2021-01-01&check_out=2021-04-30&previous_page_section_name=1000&display_extensions%5B%5D=DATED_LTS&display_extensions%5B%5D=MONTHLY_STAYS&federated_search_id=6be241a6-857f-4407-9890-8af26367d338\n"
     ]
    },
    {
     "name": "stderr",
     "output_type": "stream",
     "text": [
      "[WDM] - Current google-chrome version is 85.0.4183\n",
      "[WDM] - Get LATEST driver version for 85.0.4183\n",
      "[WDM] - Driver [/Users/jasenlo/.wdm/drivers/chromedriver/mac64/85.0.4183.87/chromedriver] found in cache\n"
     ]
    },
    {
     "name": "stdout",
     "output_type": "stream",
     "text": [
      " \n"
     ]
    }
   ],
   "source": [
    "rating, review_num, full_rating, stuff = getScoreAndFullAmenities(full_df)"
   ]
  },
  {
   "cell_type": "code",
   "execution_count": 190,
   "metadata": {},
   "outputs": [
    {
     "name": "stderr",
     "output_type": "stream",
     "text": [
      "/opt/anaconda3/lib/python3.7/site-packages/ipykernel_launcher.py:6: SettingWithCopyWarning: \n",
      "A value is trying to be set on a copy of a slice from a DataFrame.\n",
      "Try using .loc[row_indexer,col_indexer] = value instead\n",
      "\n",
      "See the caveats in the documentation: https://pandas.pydata.org/pandas-docs/stable/user_guide/indexing.html#returning-a-view-versus-a-copy\n",
      "  \n"
     ]
    }
   ],
   "source": [
    "#full_df['rating'] = rating\n",
    "#full_df['review_number'] = review_num\n",
    "\n",
    "\n",
    "\n",
    "#full_df['full_rating'] = full_rating\n",
    "#full_df['amenities'] = stuff\n",
    "\n"
   ]
  },
  {
   "cell_type": "code",
   "execution_count": 183,
   "metadata": {},
   "outputs": [],
   "source": [
    "#save full dataset as a pickle!\n",
    "pickle.dump(full_df, open( \"full_data.p\", \"wb\" ) )"
   ]
  },
  {
   "cell_type": "code",
   "execution_count": 314,
   "metadata": {},
   "outputs": [],
   "source": [
    "full_df = pd.read_pickle(\"./full_data.p\")\n",
    "full_df['review_number'] = full_df['review_number'].astype(float)\n",
    "full_df = full_df[full_df.review_number > 0]\n",
    "\n",
    "amenities = []\n",
    "image_small = []\n",
    "full_df['rating'] = full_df['rating'].astype(float)\n",
    "for index, row in full_df.iterrows():\n",
    "    string = ', '.join([str(elem) for elem in row['amenities']])\n",
    "    string = string.replace('Essentials', 'Toilet paper, Soap, Towels, Pillows, Bed linens')\n",
    "    amenities.append(string)\n",
    "    \n",
    "    img = row['image'][:-3] + str(240)\n",
    "    image_small.append(img)\n",
    "    \n",
    "    \n",
    "    \n",
    "full_df['amenities'] = amenities \n",
    "full_df['image'] = image_small\n",
    "full_df = full_df.drop_duplicates(subset=['name',\"full_rating\"])\n",
    "full_df = full_df.sort_values(by='price', ascending=False)\n",
    "full_df = full_df.reset_index(drop=True)\n"
   ]
  },
  {
   "cell_type": "code",
   "execution_count": 317,
   "metadata": {},
   "outputs": [],
   "source": [
    "full_df.to_csv(\"dev/full_data.csv\",index=False)"
   ]
  },
  {
   "cell_type": "code",
   "execution_count": 318,
   "metadata": {},
   "outputs": [
    {
     "data": {
      "text/html": [
       "<div>\n",
       "<style scoped>\n",
       "    .dataframe tbody tr th:only-of-type {\n",
       "        vertical-align: middle;\n",
       "    }\n",
       "\n",
       "    .dataframe tbody tr th {\n",
       "        vertical-align: top;\n",
       "    }\n",
       "\n",
       "    .dataframe thead th {\n",
       "        text-align: right;\n",
       "    }\n",
       "</style>\n",
       "<table border=\"1\" class=\"dataframe\">\n",
       "  <thead>\n",
       "    <tr style=\"text-align: right;\">\n",
       "      <th></th>\n",
       "      <th>price</th>\n",
       "      <th>link</th>\n",
       "      <th>image</th>\n",
       "      <th>city</th>\n",
       "      <th>name</th>\n",
       "      <th>location</th>\n",
       "      <th>roomtype</th>\n",
       "      <th>detailed_location</th>\n",
       "      <th>bedrooms</th>\n",
       "      <th>beds</th>\n",
       "      <th>listed_price</th>\n",
       "      <th>rating</th>\n",
       "      <th>full_rating</th>\n",
       "      <th>amenities</th>\n",
       "      <th>review_number</th>\n",
       "    </tr>\n",
       "  </thead>\n",
       "  <tbody>\n",
       "    <tr>\n",
       "      <th>0</th>\n",
       "      <td>748.0</td>\n",
       "      <td>http://airbnb.com/rooms/5025066?check_in=2021-...</td>\n",
       "      <td>https://a0.muscache.com/im/pictures/62908502/8...</td>\n",
       "      <td>Berlin</td>\n",
       "      <td>Room in green area close to Berlin</td>\n",
       "      <td>Falkensee</td>\n",
       "      <td>Private room</td>\n",
       "      <td>Falkensee</td>\n",
       "      <td>1</td>\n",
       "      <td>1</td>\n",
       "      <td>748</td>\n",
       "      <td>4.97</td>\n",
       "      <td>4.97 out of 5 stars from 78 reviews</td>\n",
       "      <td>Wifi, Kitchen, Free parking on premises, Pool,...</td>\n",
       "      <td>78.0</td>\n",
       "    </tr>\n",
       "    <tr>\n",
       "      <th>1</th>\n",
       "      <td>745.0</td>\n",
       "      <td>http://airbnb.com/rooms/12148040?check_in=2021...</td>\n",
       "      <td>https://a0.muscache.com/im/pictures/b42a79a5-b...</td>\n",
       "      <td>Berlin</td>\n",
       "      <td>Nice, light and friendly room</td>\n",
       "      <td>Berlin</td>\n",
       "      <td>Private room</td>\n",
       "      <td>Schöneberg</td>\n",
       "      <td>1</td>\n",
       "      <td>1</td>\n",
       "      <td>745</td>\n",
       "      <td>4.59</td>\n",
       "      <td>4.59 out of 5 stars from 54 reviews</td>\n",
       "      <td>Wifi, Kitchen, Dryer, Cable TV, Iron, Laptop-f...</td>\n",
       "      <td>54.0</td>\n",
       "    </tr>\n",
       "    <tr>\n",
       "      <th>2</th>\n",
       "      <td>745.0</td>\n",
       "      <td>http://airbnb.com/rooms/29080921?check_in=2021...</td>\n",
       "      <td>https://a0.muscache.com/im/pictures/c4d2a26c-b...</td>\n",
       "      <td>Seoul</td>\n",
       "      <td>♥Seoul stay♥[Metro 5min] Myeongdong,Dongdaemun</td>\n",
       "      <td>Suyudong, Gangbukgu</td>\n",
       "      <td>Entire flat</td>\n",
       "      <td>Gangbuk</td>\n",
       "      <td>1</td>\n",
       "      <td>1</td>\n",
       "      <td>745</td>\n",
       "      <td>4.94</td>\n",
       "      <td>4.94 out of 5 stars from 32 reviews</td>\n",
       "      <td>Kitchen, Wifi, Iron, Hair dryer, Cable TV, Han...</td>\n",
       "      <td>32.0</td>\n",
       "    </tr>\n",
       "    <tr>\n",
       "      <th>3</th>\n",
       "      <td>743.0</td>\n",
       "      <td>http://airbnb.com/rooms/39928292?check_in=2021...</td>\n",
       "      <td>https://a0.muscache.com/im/pictures/047462a6-1...</td>\n",
       "      <td>Seoul</td>\n",
       "      <td>♥Cozy♥Clean서울penthouse 보문역도보3분,고려대학교,성신여대,동대문,종로</td>\n",
       "      <td>Seongbukgu</td>\n",
       "      <td>Entire loft</td>\n",
       "      <td>Seongbuk</td>\n",
       "      <td>Studio</td>\n",
       "      <td>1</td>\n",
       "      <td>743</td>\n",
       "      <td>4.67</td>\n",
       "      <td>4.67 out of 5 stars from 18 reviews</td>\n",
       "      <td>Kitchen, Wifi, Dryer, Hair dryer, Cable TV, Ha...</td>\n",
       "      <td>18.0</td>\n",
       "    </tr>\n",
       "    <tr>\n",
       "      <th>4</th>\n",
       "      <td>743.0</td>\n",
       "      <td>http://airbnb.com/rooms/19099053?check_in=2021...</td>\n",
       "      <td>https://a0.muscache.com/im/pictures/98ed306d-2...</td>\n",
       "      <td>Berlin</td>\n",
       "      <td>Familyfriendly apartment in the center of Berlin</td>\n",
       "      <td>Berlin</td>\n",
       "      <td>Entire flat</td>\n",
       "      <td>Friedrichshain</td>\n",
       "      <td>1</td>\n",
       "      <td>2</td>\n",
       "      <td>1486</td>\n",
       "      <td>4.85</td>\n",
       "      <td>4.85 out of 5 stars from 151 reviews</td>\n",
       "      <td>Wifi, Kitchen, Cable TV, Iron, Laptop-friendly...</td>\n",
       "      <td>151.0</td>\n",
       "    </tr>\n",
       "    <tr>\n",
       "      <th>...</th>\n",
       "      <td>...</td>\n",
       "      <td>...</td>\n",
       "      <td>...</td>\n",
       "      <td>...</td>\n",
       "      <td>...</td>\n",
       "      <td>...</td>\n",
       "      <td>...</td>\n",
       "      <td>...</td>\n",
       "      <td>...</td>\n",
       "      <td>...</td>\n",
       "      <td>...</td>\n",
       "      <td>...</td>\n",
       "      <td>...</td>\n",
       "      <td>...</td>\n",
       "      <td>...</td>\n",
       "    </tr>\n",
       "    <tr>\n",
       "      <th>627</th>\n",
       "      <td>88.0</td>\n",
       "      <td>http://airbnb.com/rooms/22821431?check_in=2021...</td>\n",
       "      <td>https://a0.muscache.com/im/pictures/ad66ebbf-4...</td>\n",
       "      <td>Hyderabad</td>\n",
       "      <td>Fully Furnished Flatwith/without AC.  Reburbis...</td>\n",
       "      <td>Hyderabad</td>\n",
       "      <td>Entire flat</td>\n",
       "      <td>Hyderabad</td>\n",
       "      <td>2</td>\n",
       "      <td>4</td>\n",
       "      <td>353</td>\n",
       "      <td>4.37</td>\n",
       "      <td>4.37 out of 5 stars from 27 reviews</td>\n",
       "      <td>Lift, Kitchen, Wifi, Free parking on premises,...</td>\n",
       "      <td>27.0</td>\n",
       "    </tr>\n",
       "    <tr>\n",
       "      <th>628</th>\n",
       "      <td>88.0</td>\n",
       "      <td>http://airbnb.com/rooms/6029502?check_in=2021-...</td>\n",
       "      <td>https://a0.muscache.com/im/pictures/75091362/7...</td>\n",
       "      <td>Buenos Aires</td>\n",
       "      <td>New  Apartments in San Telmo</td>\n",
       "      <td>Buenos Aires</td>\n",
       "      <td>Entire flat</td>\n",
       "      <td>San Telmo</td>\n",
       "      <td>Studio</td>\n",
       "      <td>3</td>\n",
       "      <td>265</td>\n",
       "      <td>4.73</td>\n",
       "      <td>4.73 out of 5 stars from 96 reviews</td>\n",
       "      <td>Lift, Wifi, Kitchen, Pool, Iron, Cable TV, Lap...</td>\n",
       "      <td>96.0</td>\n",
       "    </tr>\n",
       "    <tr>\n",
       "      <th>629</th>\n",
       "      <td>81.0</td>\n",
       "      <td>http://airbnb.com/rooms/42602509?check_in=2021...</td>\n",
       "      <td>https://a0.muscache.com/im/pictures/9a2a24fc-d...</td>\n",
       "      <td>Hyderabad</td>\n",
       "      <td>The Happy Place</td>\n",
       "      <td>Secunderabad</td>\n",
       "      <td>Entire house</td>\n",
       "      <td>Secunderabad</td>\n",
       "      <td>2</td>\n",
       "      <td>4</td>\n",
       "      <td>323</td>\n",
       "      <td>5.00</td>\n",
       "      <td>5.0 out of 5 stars from 11 reviews</td>\n",
       "      <td>Kitchen, Wifi, Hair dryer, Cable TV, Iron, Han...</td>\n",
       "      <td>11.0</td>\n",
       "    </tr>\n",
       "    <tr>\n",
       "      <th>630</th>\n",
       "      <td>71.0</td>\n",
       "      <td>http://airbnb.com/rooms/39198067?check_in=2021...</td>\n",
       "      <td>https://a0.muscache.com/im/pictures/5edf5dbc-5...</td>\n",
       "      <td>Buenos Aires</td>\n",
       "      <td>Renovated house, in the heart of San Telmo</td>\n",
       "      <td>San Telmo</td>\n",
       "      <td>Private room</td>\n",
       "      <td>San Telmo</td>\n",
       "      <td>1</td>\n",
       "      <td>4</td>\n",
       "      <td>285</td>\n",
       "      <td>5.00</td>\n",
       "      <td>5.0 out of 5 stars from 4 reviews</td>\n",
       "      <td>Wifi, Kitchen, Iron, Laptop-friendly workspace...</td>\n",
       "      <td>4.0</td>\n",
       "    </tr>\n",
       "    <tr>\n",
       "      <th>631</th>\n",
       "      <td>58.0</td>\n",
       "      <td>http://airbnb.com/rooms/15380941?check_in=2021...</td>\n",
       "      <td>https://a0.muscache.com/im/pictures/e35fd659-8...</td>\n",
       "      <td>Buenos Aires</td>\n",
       "      <td>Studio in the center of Buenos Aires.</td>\n",
       "      <td>Monserrat</td>\n",
       "      <td>Entire flat</td>\n",
       "      <td>Monserrat</td>\n",
       "      <td>1</td>\n",
       "      <td>4</td>\n",
       "      <td>231</td>\n",
       "      <td>4.87</td>\n",
       "      <td>4.87 out of 5 stars from 53 reviews</td>\n",
       "      <td>Lift, Wifi, Kitchen, Iron, Cable TV, Hair drye...</td>\n",
       "      <td>53.0</td>\n",
       "    </tr>\n",
       "  </tbody>\n",
       "</table>\n",
       "<p>632 rows × 15 columns</p>\n",
       "</div>"
      ],
      "text/plain": [
       "     price                                               link  \\\n",
       "0    748.0  http://airbnb.com/rooms/5025066?check_in=2021-...   \n",
       "1    745.0  http://airbnb.com/rooms/12148040?check_in=2021...   \n",
       "2    745.0  http://airbnb.com/rooms/29080921?check_in=2021...   \n",
       "3    743.0  http://airbnb.com/rooms/39928292?check_in=2021...   \n",
       "4    743.0  http://airbnb.com/rooms/19099053?check_in=2021...   \n",
       "..     ...                                                ...   \n",
       "627   88.0  http://airbnb.com/rooms/22821431?check_in=2021...   \n",
       "628   88.0  http://airbnb.com/rooms/6029502?check_in=2021-...   \n",
       "629   81.0  http://airbnb.com/rooms/42602509?check_in=2021...   \n",
       "630   71.0  http://airbnb.com/rooms/39198067?check_in=2021...   \n",
       "631   58.0  http://airbnb.com/rooms/15380941?check_in=2021...   \n",
       "\n",
       "                                                 image          city  \\\n",
       "0    https://a0.muscache.com/im/pictures/62908502/8...        Berlin   \n",
       "1    https://a0.muscache.com/im/pictures/b42a79a5-b...        Berlin   \n",
       "2    https://a0.muscache.com/im/pictures/c4d2a26c-b...         Seoul   \n",
       "3    https://a0.muscache.com/im/pictures/047462a6-1...         Seoul   \n",
       "4    https://a0.muscache.com/im/pictures/98ed306d-2...        Berlin   \n",
       "..                                                 ...           ...   \n",
       "627  https://a0.muscache.com/im/pictures/ad66ebbf-4...     Hyderabad   \n",
       "628  https://a0.muscache.com/im/pictures/75091362/7...  Buenos Aires   \n",
       "629  https://a0.muscache.com/im/pictures/9a2a24fc-d...     Hyderabad   \n",
       "630  https://a0.muscache.com/im/pictures/5edf5dbc-5...  Buenos Aires   \n",
       "631  https://a0.muscache.com/im/pictures/e35fd659-8...  Buenos Aires   \n",
       "\n",
       "                                                  name             location  \\\n",
       "0                  Room in green area close to Berlin             Falkensee   \n",
       "1                       Nice, light and friendly room                Berlin   \n",
       "2      ♥Seoul stay♥[Metro 5min] Myeongdong,Dongdaemun   Suyudong, Gangbukgu   \n",
       "3    ♥Cozy♥Clean서울penthouse 보문역도보3분,고려대학교,성신여대,동대문,종로            Seongbukgu   \n",
       "4    Familyfriendly apartment in the center of Berlin                Berlin   \n",
       "..                                                 ...                  ...   \n",
       "627  Fully Furnished Flatwith/without AC.  Reburbis...            Hyderabad   \n",
       "628                      New  Apartments in San Telmo          Buenos Aires   \n",
       "629                                   The Happy Place          Secunderabad   \n",
       "630        Renovated house, in the heart of San Telmo             San Telmo   \n",
       "631             Studio in the center of Buenos Aires.             Monserrat   \n",
       "\n",
       "         roomtype detailed_location bedrooms  beds  listed_price  rating  \\\n",
       "0    Private room         Falkensee        1     1           748    4.97   \n",
       "1    Private room        Schöneberg        1     1           745    4.59   \n",
       "2     Entire flat           Gangbuk        1     1           745    4.94   \n",
       "3     Entire loft          Seongbuk   Studio     1           743    4.67   \n",
       "4     Entire flat    Friedrichshain        1     2          1486    4.85   \n",
       "..            ...               ...      ...   ...           ...     ...   \n",
       "627   Entire flat         Hyderabad        2     4           353    4.37   \n",
       "628   Entire flat         San Telmo   Studio     3           265    4.73   \n",
       "629  Entire house      Secunderabad        2     4           323    5.00   \n",
       "630  Private room         San Telmo        1     4           285    5.00   \n",
       "631   Entire flat         Monserrat        1     4           231    4.87   \n",
       "\n",
       "                              full_rating  \\\n",
       "0     4.97 out of 5 stars from 78 reviews   \n",
       "1     4.59 out of 5 stars from 54 reviews   \n",
       "2     4.94 out of 5 stars from 32 reviews   \n",
       "3     4.67 out of 5 stars from 18 reviews   \n",
       "4    4.85 out of 5 stars from 151 reviews   \n",
       "..                                    ...   \n",
       "627   4.37 out of 5 stars from 27 reviews   \n",
       "628   4.73 out of 5 stars from 96 reviews   \n",
       "629    5.0 out of 5 stars from 11 reviews   \n",
       "630     5.0 out of 5 stars from 4 reviews   \n",
       "631   4.87 out of 5 stars from 53 reviews   \n",
       "\n",
       "                                             amenities  review_number  \n",
       "0    Wifi, Kitchen, Free parking on premises, Pool,...           78.0  \n",
       "1    Wifi, Kitchen, Dryer, Cable TV, Iron, Laptop-f...           54.0  \n",
       "2    Kitchen, Wifi, Iron, Hair dryer, Cable TV, Han...           32.0  \n",
       "3    Kitchen, Wifi, Dryer, Hair dryer, Cable TV, Ha...           18.0  \n",
       "4    Wifi, Kitchen, Cable TV, Iron, Laptop-friendly...          151.0  \n",
       "..                                                 ...            ...  \n",
       "627  Lift, Kitchen, Wifi, Free parking on premises,...           27.0  \n",
       "628  Lift, Wifi, Kitchen, Pool, Iron, Cable TV, Lap...           96.0  \n",
       "629  Kitchen, Wifi, Hair dryer, Cable TV, Iron, Han...           11.0  \n",
       "630  Wifi, Kitchen, Iron, Laptop-friendly workspace...            4.0  \n",
       "631  Lift, Wifi, Kitchen, Iron, Cable TV, Hair drye...           53.0  \n",
       "\n",
       "[632 rows x 15 columns]"
      ]
     },
     "execution_count": 318,
     "metadata": {},
     "output_type": "execute_result"
    }
   ],
   "source": [
    "full_df"
   ]
  }
 ],
 "metadata": {
  "kernelspec": {
   "display_name": "Python 3",
   "language": "python",
   "name": "python3"
  },
  "language_info": {
   "codemirror_mode": {
    "name": "ipython",
    "version": 3
   },
   "file_extension": ".py",
   "mimetype": "text/x-python",
   "name": "python",
   "nbconvert_exporter": "python",
   "pygments_lexer": "ipython3",
   "version": "3.7.6"
  }
 },
 "nbformat": 4,
 "nbformat_minor": 4
}
